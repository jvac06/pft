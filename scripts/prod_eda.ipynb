{
 "cells": [
  {
   "cell_type": "code",
   "execution_count": 53,
   "metadata": {},
   "outputs": [],
   "source": [
    "#dependencies for EDA\n",
    "import numpy as np\n",
    "import pandas as pd\n",
    "import scipy as sp\n",
    "import matplotlib.pyplot as plt\n",
    "import seaborn as sns"
   ]
  },
  {
   "cell_type": "code",
   "execution_count": 54,
   "metadata": {},
   "outputs": [],
   "source": [
    "#other dependencies\n",
    "import datetime as dt"
   ]
  },
  {
   "cell_type": "code",
   "execution_count": 55,
   "metadata": {},
   "outputs": [],
   "source": [
    "#Reading dataframe from cleaning.ipynb notebook\n",
    "%store -r prod_reduced"
   ]
  },
  {
   "cell_type": "markdown",
   "metadata": {},
   "source": [
    "# 3. Production EDA"
   ]
  },
  {
   "cell_type": "markdown",
   "metadata": {
    "toc-hr-collapsed": true,
    "toc-nb-collapsed": true
   },
   "source": [
    "#### EDAnalysis Ideas "
   ]
  },
  {
   "cell_type": "markdown",
   "metadata": {},
   "source": [
    "- total count of:\n",
    "    - strat/#unique skus\n",
    "    - block/tons\n",
    "    - shape/tons\n",
    "    - size/tons\n",
    "    - sku/tons\n",
    "- check total number of years/months/cycles\n",
    "- per year look at: \n",
    "    - by work_center, block, shape, size, sku\n",
    "\n",
    "What to do with 30+ nulls in block/shape/size?"
   ]
  },
  {
   "cell_type": "markdown",
   "metadata": {},
   "source": [
    "### Description of Variables"
   ]
  },
  {
   "cell_type": "code",
   "execution_count": 56,
   "metadata": {},
   "outputs": [
    {
     "name": "stdout",
     "output_type": "stream",
     "text": [
      "<class 'pandas.core.frame.DataFrame'>\n",
      "Int64Index: 14820 entries, 0 to 36135\n",
      "Data columns (total 12 columns):\n",
      " #   Column                          Non-Null Count  Dtype         \n",
      "---  ------                          --------------  -----         \n",
      " 0   calendar_day                    14820 non-null  datetime64[ns]\n",
      " 1   production_process              14820 non-null  category      \n",
      " 2   production_process_description  14820 non-null  category      \n",
      " 3   strategy                        14820 non-null  category      \n",
      " 4   work_center                     13450 non-null  category      \n",
      " 5   wc_description                  14820 non-null  category      \n",
      " 6   block                           14815 non-null  object        \n",
      " 7   shape                           14795 non-null  category      \n",
      " 8   size                            14795 non-null  object        \n",
      " 9   sku                             14820 non-null  object        \n",
      " 10  material_description            14820 non-null  object        \n",
      " 11  ton                             14820 non-null  int64         \n",
      "dtypes: category(6), datetime64[ns](1), int64(1), object(4)\n",
      "memory usage: 898.1+ KB\n"
     ]
    }
   ],
   "source": [
    "#description of variables\n",
    "prod_reduced.info()"
   ]
  },
  {
   "cell_type": "code",
   "execution_count": 57,
   "metadata": {},
   "outputs": [
    {
     "data": {
      "text/html": [
       "<div>\n",
       "<style scoped>\n",
       "    .dataframe tbody tr th:only-of-type {\n",
       "        vertical-align: middle;\n",
       "    }\n",
       "\n",
       "    .dataframe tbody tr th {\n",
       "        vertical-align: top;\n",
       "    }\n",
       "\n",
       "    .dataframe thead th {\n",
       "        text-align: right;\n",
       "    }\n",
       "</style>\n",
       "<table border=\"1\" class=\"dataframe\">\n",
       "  <thead>\n",
       "    <tr style=\"text-align: right;\">\n",
       "      <th></th>\n",
       "      <th>ton</th>\n",
       "    </tr>\n",
       "  </thead>\n",
       "  <tbody>\n",
       "    <tr>\n",
       "      <th>count</th>\n",
       "      <td>14820.000000</td>\n",
       "    </tr>\n",
       "    <tr>\n",
       "      <th>mean</th>\n",
       "      <td>181.705668</td>\n",
       "    </tr>\n",
       "    <tr>\n",
       "      <th>std</th>\n",
       "      <td>277.146484</td>\n",
       "    </tr>\n",
       "    <tr>\n",
       "      <th>min</th>\n",
       "      <td>-219.000000</td>\n",
       "    </tr>\n",
       "    <tr>\n",
       "      <th>25%</th>\n",
       "      <td>27.000000</td>\n",
       "    </tr>\n",
       "    <tr>\n",
       "      <th>50%</th>\n",
       "      <td>88.000000</td>\n",
       "    </tr>\n",
       "    <tr>\n",
       "      <th>75%</th>\n",
       "      <td>221.000000</td>\n",
       "    </tr>\n",
       "    <tr>\n",
       "      <th>max</th>\n",
       "      <td>2273.000000</td>\n",
       "    </tr>\n",
       "  </tbody>\n",
       "</table>\n",
       "</div>"
      ],
      "text/plain": [
       "                ton\n",
       "count  14820.000000\n",
       "mean     181.705668\n",
       "std      277.146484\n",
       "min     -219.000000\n",
       "25%       27.000000\n",
       "50%       88.000000\n",
       "75%      221.000000\n",
       "max     2273.000000"
      ]
     },
     "execution_count": 57,
     "metadata": {},
     "output_type": "execute_result"
    }
   ],
   "source": [
    "#Distribution of production lines (tons)\n",
    "prod_reduced.describe()"
   ]
  },
  {
   "cell_type": "code",
   "execution_count": 58,
   "metadata": {},
   "outputs": [
    {
     "data": {
      "text/html": [
       "<div>\n",
       "<style scoped>\n",
       "    .dataframe tbody tr th:only-of-type {\n",
       "        vertical-align: middle;\n",
       "    }\n",
       "\n",
       "    .dataframe tbody tr th {\n",
       "        vertical-align: top;\n",
       "    }\n",
       "\n",
       "    .dataframe thead th {\n",
       "        text-align: right;\n",
       "    }\n",
       "</style>\n",
       "<table border=\"1\" class=\"dataframe\">\n",
       "  <thead>\n",
       "    <tr style=\"text-align: right;\">\n",
       "      <th></th>\n",
       "      <th>calendar_day</th>\n",
       "      <th>production_process</th>\n",
       "      <th>production_process_description</th>\n",
       "      <th>strategy</th>\n",
       "      <th>work_center</th>\n",
       "      <th>wc_description</th>\n",
       "      <th>block</th>\n",
       "      <th>shape</th>\n",
       "      <th>size</th>\n",
       "      <th>sku</th>\n",
       "      <th>material_description</th>\n",
       "      <th>ton</th>\n",
       "    </tr>\n",
       "  </thead>\n",
       "  <tbody>\n",
       "    <tr>\n",
       "      <th>0</th>\n",
       "      <td>2013-02-06</td>\n",
       "      <td>4310</td>\n",
       "      <td>Rolling</td>\n",
       "      <td>63.0</td>\n",
       "      <td>25000001</td>\n",
       "      <td>ROLLING - STRUCTURAL</td>\n",
       "      <td>4\" ANG</td>\n",
       "      <td>SHAPE_L</td>\n",
       "      <td>4X4X3/8</td>\n",
       "      <td>106023315</td>\n",
       "      <td>L 4X4X3/8 44W 60'00\"</td>\n",
       "      <td>40</td>\n",
       "    </tr>\n",
       "    <tr>\n",
       "      <th>1</th>\n",
       "      <td>2013-02-06</td>\n",
       "      <td>4310</td>\n",
       "      <td>Rolling</td>\n",
       "      <td>63.0</td>\n",
       "      <td>25000001</td>\n",
       "      <td>ROLLING - STRUCTURAL</td>\n",
       "      <td>4\" ANG</td>\n",
       "      <td>SHAPE_L</td>\n",
       "      <td>4X4X3/8</td>\n",
       "      <td>106022771</td>\n",
       "      <td>L 4X4X3/8 A36/44W/A529-50 40'00\"</td>\n",
       "      <td>390</td>\n",
       "    </tr>\n",
       "    <tr>\n",
       "      <th>2</th>\n",
       "      <td>2013-02-06</td>\n",
       "      <td>4310</td>\n",
       "      <td>Rolling</td>\n",
       "      <td>63.0</td>\n",
       "      <td>25000001</td>\n",
       "      <td>ROLLING - STRUCTURAL</td>\n",
       "      <td>4\" ANG</td>\n",
       "      <td>SHAPE_L</td>\n",
       "      <td>4X4X3/8</td>\n",
       "      <td>106022760</td>\n",
       "      <td>L 4X4X3/8 A36/44W/A529-50 20'00\"</td>\n",
       "      <td>345</td>\n",
       "    </tr>\n",
       "    <tr>\n",
       "      <th>3</th>\n",
       "      <td>2013-02-06</td>\n",
       "      <td>4310</td>\n",
       "      <td>Rolling</td>\n",
       "      <td>63.0</td>\n",
       "      <td>25000001</td>\n",
       "      <td>ROLLING - STRUCTURAL</td>\n",
       "      <td>4\" ANG</td>\n",
       "      <td>SHAPE_L</td>\n",
       "      <td>4X4X3/8</td>\n",
       "      <td>106022755</td>\n",
       "      <td>L 4X4X3/8 55W 60'00\"</td>\n",
       "      <td>205</td>\n",
       "    </tr>\n",
       "    <tr>\n",
       "      <th>4</th>\n",
       "      <td>2013-02-06</td>\n",
       "      <td>4310</td>\n",
       "      <td>Rolling</td>\n",
       "      <td>63.0</td>\n",
       "      <td>25000001</td>\n",
       "      <td>ROLLING - STRUCTURAL</td>\n",
       "      <td>4\" ANG</td>\n",
       "      <td>SHAPE_L</td>\n",
       "      <td>4X4X3/8</td>\n",
       "      <td>106022749</td>\n",
       "      <td>L 4X4X3/8 50W 60'00\"</td>\n",
       "      <td>32</td>\n",
       "    </tr>\n",
       "  </tbody>\n",
       "</table>\n",
       "</div>"
      ],
      "text/plain": [
       "  calendar_day production_process production_process_description strategy  \\\n",
       "0   2013-02-06               4310                        Rolling     63.0   \n",
       "1   2013-02-06               4310                        Rolling     63.0   \n",
       "2   2013-02-06               4310                        Rolling     63.0   \n",
       "3   2013-02-06               4310                        Rolling     63.0   \n",
       "4   2013-02-06               4310                        Rolling     63.0   \n",
       "\n",
       "  work_center        wc_description   block    shape     size        sku  \\\n",
       "0    25000001  ROLLING - STRUCTURAL  4\" ANG  SHAPE_L  4X4X3/8  106023315   \n",
       "1    25000001  ROLLING - STRUCTURAL  4\" ANG  SHAPE_L  4X4X3/8  106022771   \n",
       "2    25000001  ROLLING - STRUCTURAL  4\" ANG  SHAPE_L  4X4X3/8  106022760   \n",
       "3    25000001  ROLLING - STRUCTURAL  4\" ANG  SHAPE_L  4X4X3/8  106022755   \n",
       "4    25000001  ROLLING - STRUCTURAL  4\" ANG  SHAPE_L  4X4X3/8  106022749   \n",
       "\n",
       "               material_description  ton  \n",
       "0              L 4X4X3/8 44W 60'00\"   40  \n",
       "1  L 4X4X3/8 A36/44W/A529-50 40'00\"  390  \n",
       "2  L 4X4X3/8 A36/44W/A529-50 20'00\"  345  \n",
       "3              L 4X4X3/8 55W 60'00\"  205  \n",
       "4              L 4X4X3/8 50W 60'00\"   32  "
      ]
     },
     "execution_count": 58,
     "metadata": {},
     "output_type": "execute_result"
    }
   ],
   "source": [
    "prod_reduced.head()"
   ]
  },
  {
   "cell_type": "markdown",
   "metadata": {},
   "source": [
    "### Negative Production Tons (peak-only)"
   ]
  },
  {
   "cell_type": "code",
   "execution_count": 59,
   "metadata": {},
   "outputs": [
    {
     "data": {
      "text/html": [
       "<div>\n",
       "<style scoped>\n",
       "    .dataframe tbody tr th:only-of-type {\n",
       "        vertical-align: middle;\n",
       "    }\n",
       "\n",
       "    .dataframe tbody tr th {\n",
       "        vertical-align: top;\n",
       "    }\n",
       "\n",
       "    .dataframe thead th {\n",
       "        text-align: right;\n",
       "    }\n",
       "</style>\n",
       "<table border=\"1\" class=\"dataframe\">\n",
       "  <thead>\n",
       "    <tr style=\"text-align: right;\">\n",
       "      <th></th>\n",
       "      <th>calendar_day</th>\n",
       "      <th>production_process</th>\n",
       "      <th>production_process_description</th>\n",
       "      <th>strategy</th>\n",
       "      <th>work_center</th>\n",
       "      <th>wc_description</th>\n",
       "      <th>block</th>\n",
       "      <th>shape</th>\n",
       "      <th>size</th>\n",
       "      <th>sku</th>\n",
       "      <th>material_description</th>\n",
       "      <th>ton</th>\n",
       "    </tr>\n",
       "  </thead>\n",
       "  <tbody>\n",
       "    <tr>\n",
       "      <th>830</th>\n",
       "      <td>2019-04-12</td>\n",
       "      <td>4310</td>\n",
       "      <td>Rolling</td>\n",
       "      <td>63.0</td>\n",
       "      <td>25000001</td>\n",
       "      <td>ROLLING - STRUCTURAL</td>\n",
       "      <td>5\" ANG</td>\n",
       "      <td>SHAPE_L</td>\n",
       "      <td>5X5X1/2</td>\n",
       "      <td>106029555</td>\n",
       "      <td>L 5X5X1/2 GGMULTI 60'00\"</td>\n",
       "      <td>-6</td>\n",
       "    </tr>\n",
       "    <tr>\n",
       "      <th>1051</th>\n",
       "      <td>2018-11-09</td>\n",
       "      <td>4310</td>\n",
       "      <td>Rolling</td>\n",
       "      <td>63.0</td>\n",
       "      <td>25000001</td>\n",
       "      <td>ROLLING - STRUCTURAL</td>\n",
       "      <td>5\" ANG</td>\n",
       "      <td>SHAPE_L</td>\n",
       "      <td>5X5X9/16</td>\n",
       "      <td>106019705</td>\n",
       "      <td>L 5X5X9/16 55W 60'00\"</td>\n",
       "      <td>-5</td>\n",
       "    </tr>\n",
       "    <tr>\n",
       "      <th>1070</th>\n",
       "      <td>2013-04-29</td>\n",
       "      <td>4310</td>\n",
       "      <td>Rolling</td>\n",
       "      <td>63.0</td>\n",
       "      <td>25000001</td>\n",
       "      <td>ROLLING - STRUCTURAL</td>\n",
       "      <td>5 X 3\" ANG</td>\n",
       "      <td>SHAPE_L</td>\n",
       "      <td>5X3X1/4</td>\n",
       "      <td>106022690</td>\n",
       "      <td>L 5X3X1/4 A36/44W/A529-50 20'00\"</td>\n",
       "      <td>-3</td>\n",
       "    </tr>\n",
       "    <tr>\n",
       "      <th>1101</th>\n",
       "      <td>2016-10-06</td>\n",
       "      <td>4310</td>\n",
       "      <td>Rolling</td>\n",
       "      <td>63.0</td>\n",
       "      <td>25000001</td>\n",
       "      <td>ROLLING - STRUCTURAL</td>\n",
       "      <td>7 X 4\" ANG</td>\n",
       "      <td>SHAPE_L</td>\n",
       "      <td>7X4X1/2</td>\n",
       "      <td>106020742</td>\n",
       "      <td>L 7X4X1/2 44W 20'00\"</td>\n",
       "      <td>0</td>\n",
       "    </tr>\n",
       "    <tr>\n",
       "      <th>1472</th>\n",
       "      <td>2016-07-13</td>\n",
       "      <td>4310</td>\n",
       "      <td>Rolling</td>\n",
       "      <td>63.0</td>\n",
       "      <td>25000001</td>\n",
       "      <td>ROLLING - STRUCTURAL</td>\n",
       "      <td>6 X 4\" ANG</td>\n",
       "      <td>SHAPE_L</td>\n",
       "      <td>6X4X5/16</td>\n",
       "      <td>106020608</td>\n",
       "      <td>L 6X4X5/16 MERSPC 40'00\"</td>\n",
       "      <td>-12</td>\n",
       "    </tr>\n",
       "    <tr>\n",
       "      <th>...</th>\n",
       "      <td>...</td>\n",
       "      <td>...</td>\n",
       "      <td>...</td>\n",
       "      <td>...</td>\n",
       "      <td>...</td>\n",
       "      <td>...</td>\n",
       "      <td>...</td>\n",
       "      <td>...</td>\n",
       "      <td>...</td>\n",
       "      <td>...</td>\n",
       "      <td>...</td>\n",
       "      <td>...</td>\n",
       "    </tr>\n",
       "    <tr>\n",
       "      <th>14813</th>\n",
       "      <td>2017-04-18</td>\n",
       "      <td>4310</td>\n",
       "      <td>Rolling</td>\n",
       "      <td>40.0</td>\n",
       "      <td>NaN</td>\n",
       "      <td>1302/Not assigned</td>\n",
       "      <td>MC3\" CHN</td>\n",
       "      <td>SHAPE_MC</td>\n",
       "      <td>3 X 7.1#</td>\n",
       "      <td>106036685</td>\n",
       "      <td>MC 3X7.1# GGMULTI 20'00\"</td>\n",
       "      <td>-3</td>\n",
       "    </tr>\n",
       "    <tr>\n",
       "      <th>35617</th>\n",
       "      <td>2017-01-26</td>\n",
       "      <td>4310</td>\n",
       "      <td>Rolling</td>\n",
       "      <td>40.0</td>\n",
       "      <td>NaN</td>\n",
       "      <td>1302/Not assigned</td>\n",
       "      <td>NaN</td>\n",
       "      <td>FLAT</td>\n",
       "      <td>1/4 X 5</td>\n",
       "      <td>109005365</td>\n",
       "      <td>F 1/4X5 GGMULTI 20'00\"</td>\n",
       "      <td>-2</td>\n",
       "    </tr>\n",
       "    <tr>\n",
       "      <th>35618</th>\n",
       "      <td>2017-02-27</td>\n",
       "      <td>4310</td>\n",
       "      <td>Rolling</td>\n",
       "      <td>40.0</td>\n",
       "      <td>NaN</td>\n",
       "      <td>1302/Not assigned</td>\n",
       "      <td>NaN</td>\n",
       "      <td>FLAT</td>\n",
       "      <td>5/16 X 8</td>\n",
       "      <td>109004173</td>\n",
       "      <td>F 5/16X8 GGMULTI 20'00\"</td>\n",
       "      <td>0</td>\n",
       "    </tr>\n",
       "    <tr>\n",
       "      <th>35631</th>\n",
       "      <td>2019-09-23</td>\n",
       "      <td>4310</td>\n",
       "      <td>Rolling</td>\n",
       "      <td>63.0</td>\n",
       "      <td>#</td>\n",
       "      <td>1302/Not assigned</td>\n",
       "      <td>NaN</td>\n",
       "      <td>SQUARE</td>\n",
       "      <td>130 X 130MM</td>\n",
       "      <td>102300129</td>\n",
       "      <td>BL 130X130MM MANA-8431-502_1302 2,660 SA</td>\n",
       "      <td>-1</td>\n",
       "    </tr>\n",
       "    <tr>\n",
       "      <th>35632</th>\n",
       "      <td>2018-12-31</td>\n",
       "      <td>4310</td>\n",
       "      <td>Rolling</td>\n",
       "      <td>40.0</td>\n",
       "      <td>#</td>\n",
       "      <td>1302/Not assigned</td>\n",
       "      <td>NaN</td>\n",
       "      <td>SHAPE_L</td>\n",
       "      <td>2 1/2X2X5/16</td>\n",
       "      <td>106036737</td>\n",
       "      <td>L 2 1/2X2X5/16 GGMULTI 40'00\"</td>\n",
       "      <td>-1</td>\n",
       "    </tr>\n",
       "  </tbody>\n",
       "</table>\n",
       "<p>2272 rows × 12 columns</p>\n",
       "</div>"
      ],
      "text/plain": [
       "      calendar_day production_process production_process_description strategy  \\\n",
       "830     2019-04-12               4310                        Rolling     63.0   \n",
       "1051    2018-11-09               4310                        Rolling     63.0   \n",
       "1070    2013-04-29               4310                        Rolling     63.0   \n",
       "1101    2016-10-06               4310                        Rolling     63.0   \n",
       "1472    2016-07-13               4310                        Rolling     63.0   \n",
       "...            ...                ...                            ...      ...   \n",
       "14813   2017-04-18               4310                        Rolling     40.0   \n",
       "35617   2017-01-26               4310                        Rolling     40.0   \n",
       "35618   2017-02-27               4310                        Rolling     40.0   \n",
       "35631   2019-09-23               4310                        Rolling     63.0   \n",
       "35632   2018-12-31               4310                        Rolling     40.0   \n",
       "\n",
       "      work_center        wc_description       block     shape          size  \\\n",
       "830      25000001  ROLLING - STRUCTURAL      5\" ANG   SHAPE_L       5X5X1/2   \n",
       "1051     25000001  ROLLING - STRUCTURAL      5\" ANG   SHAPE_L      5X5X9/16   \n",
       "1070     25000001  ROLLING - STRUCTURAL  5 X 3\" ANG   SHAPE_L       5X3X1/4   \n",
       "1101     25000001  ROLLING - STRUCTURAL  7 X 4\" ANG   SHAPE_L       7X4X1/2   \n",
       "1472     25000001  ROLLING - STRUCTURAL  6 X 4\" ANG   SHAPE_L      6X4X5/16   \n",
       "...           ...                   ...         ...       ...           ...   \n",
       "14813         NaN     1302/Not assigned    MC3\" CHN  SHAPE_MC      3 X 7.1#   \n",
       "35617         NaN     1302/Not assigned         NaN      FLAT       1/4 X 5   \n",
       "35618         NaN     1302/Not assigned         NaN      FLAT      5/16 X 8   \n",
       "35631           #     1302/Not assigned         NaN    SQUARE   130 X 130MM   \n",
       "35632           #     1302/Not assigned         NaN   SHAPE_L  2 1/2X2X5/16   \n",
       "\n",
       "             sku                      material_description  ton  \n",
       "830    106029555                  L 5X5X1/2 GGMULTI 60'00\"   -6  \n",
       "1051   106019705                     L 5X5X9/16 55W 60'00\"   -5  \n",
       "1070   106022690          L 5X3X1/4 A36/44W/A529-50 20'00\"   -3  \n",
       "1101   106020742                      L 7X4X1/2 44W 20'00\"    0  \n",
       "1472   106020608                  L 6X4X5/16 MERSPC 40'00\"  -12  \n",
       "...          ...                                       ...  ...  \n",
       "14813  106036685                  MC 3X7.1# GGMULTI 20'00\"   -3  \n",
       "35617  109005365                    F 1/4X5 GGMULTI 20'00\"   -2  \n",
       "35618  109004173                   F 5/16X8 GGMULTI 20'00\"    0  \n",
       "35631  102300129  BL 130X130MM MANA-8431-502_1302 2,660 SA   -1  \n",
       "35632  106036737             L 2 1/2X2X5/16 GGMULTI 40'00\"   -1  \n",
       "\n",
       "[2272 rows x 12 columns]"
      ]
     },
     "execution_count": 59,
     "metadata": {},
     "output_type": "execute_result"
    }
   ],
   "source": [
    "#What do we do with negative tons values in production? \n",
    "prod_reduced.loc[prod_reduced[\"ton\"]<=0] #approx 2,300 are <=0 \n",
    "#apparently most of these are materials that are being scraped"
   ]
  },
  {
   "cell_type": "markdown",
   "metadata": {},
   "source": [
    "### Production over Time Analysis"
   ]
  },
  {
   "cell_type": "markdown",
   "metadata": {},
   "source": [
    "#### Total Tons produced by Year"
   ]
  },
  {
   "cell_type": "code",
   "execution_count": 60,
   "metadata": {},
   "outputs": [
    {
     "data": {
      "text/html": [
       "<div>\n",
       "<style scoped>\n",
       "    .dataframe tbody tr th:only-of-type {\n",
       "        vertical-align: middle;\n",
       "    }\n",
       "\n",
       "    .dataframe tbody tr th {\n",
       "        vertical-align: top;\n",
       "    }\n",
       "\n",
       "    .dataframe thead th {\n",
       "        text-align: right;\n",
       "    }\n",
       "</style>\n",
       "<table border=\"1\" class=\"dataframe\">\n",
       "  <thead>\n",
       "    <tr style=\"text-align: right;\">\n",
       "      <th></th>\n",
       "      <th>calendar_day</th>\n",
       "      <th>ton</th>\n",
       "    </tr>\n",
       "  </thead>\n",
       "  <tbody>\n",
       "    <tr>\n",
       "      <th>0</th>\n",
       "      <td>2013</td>\n",
       "      <td>292617</td>\n",
       "    </tr>\n",
       "    <tr>\n",
       "      <th>1</th>\n",
       "      <td>2014</td>\n",
       "      <td>333238</td>\n",
       "    </tr>\n",
       "    <tr>\n",
       "      <th>2</th>\n",
       "      <td>2015</td>\n",
       "      <td>362404</td>\n",
       "    </tr>\n",
       "    <tr>\n",
       "      <th>3</th>\n",
       "      <td>2016</td>\n",
       "      <td>398940</td>\n",
       "    </tr>\n",
       "    <tr>\n",
       "      <th>4</th>\n",
       "      <td>2017</td>\n",
       "      <td>427469</td>\n",
       "    </tr>\n",
       "    <tr>\n",
       "      <th>5</th>\n",
       "      <td>2018</td>\n",
       "      <td>440660</td>\n",
       "    </tr>\n",
       "    <tr>\n",
       "      <th>6</th>\n",
       "      <td>2019</td>\n",
       "      <td>437550</td>\n",
       "    </tr>\n",
       "  </tbody>\n",
       "</table>\n",
       "</div>"
      ],
      "text/plain": [
       "   calendar_day     ton\n",
       "0          2013  292617\n",
       "1          2014  333238\n",
       "2          2015  362404\n",
       "3          2016  398940\n",
       "4          2017  427469\n",
       "5          2018  440660\n",
       "6          2019  437550"
      ]
     },
     "execution_count": 60,
     "metadata": {},
     "output_type": "execute_result"
    }
   ],
   "source": [
    "#Production Blocks by Month 2013-2019\n",
    "mon_prod = prod_reduced.resample(\"M\", on=\"calendar_day\").sum()\n",
    "tot_year = mon_prod.groupby(mon_prod.index.year).sum()\n",
    "tot_year = tot_year.reset_index()\n",
    "tot_year"
   ]
  },
  {
   "cell_type": "code",
   "execution_count": 61,
   "metadata": {},
   "outputs": [
    {
     "data": {
      "text/plain": [
       "Text(0.5, 0, 'Tons')"
      ]
     },
     "execution_count": 61,
     "metadata": {},
     "output_type": "execute_result"
    },
    {
     "data": {
      "image/png": "[encoded data removed]",
      "text/plain": [
       "<Figure size 720x360 with 1 Axes>"
      ]
     },
     "metadata": {
      "needs_background": "light"
     },
     "output_type": "display_data"
    }
   ],
   "source": [
    "#put into bar chart\n",
    "\n",
    "#set fig\n",
    "fig_dims = (10,5)\n",
    "fig, ax =plt.subplots(figsize=fig_dims)\n",
    "fig.suptitle(\"Total Production by Year\")\n",
    "\n",
    "#countplot\n",
    "sns.barplot(y=\"calendar_day\", x=\"ton\", data=tot_year, ax=ax, orient=\"h\", palette=\"Blues_d\")\n",
    "ax.set_ylabel(\"Year\")\n",
    "ax.set_xlabel(\"Tons\")"
   ]
  },
  {
   "cell_type": "markdown",
   "metadata": {},
   "source": [
    "#### Variation of Tons Produced Overtime"
   ]
  },
  {
   "cell_type": "code",
   "execution_count": 62,
   "metadata": {},
   "outputs": [
    {
     "data": {
      "text/plain": [
       "Text(0, 0.5, 'Tons')"
      ]
     },
     "execution_count": 62,
     "metadata": {},
     "output_type": "execute_result"
    },
    {
     "data": {
      "image/png": "[encoded data removed]",
      "text/plain": [
       "<Figure size 864x432 with 1 Axes>"
      ]
     },
     "metadata": {
      "needs_background": "light"
     },
     "output_type": "display_data"
    }
   ],
   "source": [
    "#create month plots by year\n",
    "year_2013 = mon_prod[mon_prod.index.year == 2013]\n",
    "year_2014 = mon_prod[mon_prod.index.year == 2014]\n",
    "year_2015 = mon_prod[mon_prod.index.year == 2015]\n",
    "year_2016 = mon_prod[mon_prod.index.year == 2016]\n",
    "year_2017 = mon_prod[mon_prod.index.year == 2017]\n",
    "year_2018 = mon_prod[mon_prod.index.year == 2018]\n",
    "year_2019 = mon_prod[mon_prod.index.year == 2019]\n",
    "\n",
    "\n",
    "#Create figure and plots\n",
    "fig_dims = (12,6)\n",
    "fig, ax = plt.subplots(figsize=fig_dims)\n",
    "fig.suptitle(\"Variation of Tons Produced by Year\")\n",
    "\n",
    "\n",
    "ax.plot(year_2014.index.month, year_2014[\"ton\"], label=2014)\n",
    "ax.plot(year_2015.index.month, year_2015[\"ton\"], label=2015)\n",
    "ax.plot(year_2016.index.month, year_2016[\"ton\"], label=2016)\n",
    "ax.plot(year_2017.index.month, year_2017[\"ton\"], label=2017)\n",
    "ax.plot(year_2018.index.month, year_2018[\"ton\"], label=2018)\n",
    "ax.plot(year_2019.index.month, year_2019[\"ton\"], label=2019)\n",
    "#Create legend & axis names\n",
    "plt.legend(loc=\"best\", title=\"Year\", ncol=2)\n",
    "ax.set_xlabel(\"Month\")\n",
    "ax.set_ylabel(\"Tons\")\n",
    "\n",
    "#Remove shutdowns?, ask about shutdowns, also what happened 2016 week 13\n",
    "#try to normalize and come up with a range"
   ]
  },
  {
   "cell_type": "markdown",
   "metadata": {},
   "source": [
    "#### Monthly Distribution of Production"
   ]
  },
  {
   "cell_type": "code",
   "execution_count": 66,
   "metadata": {},
   "outputs": [
    {
     "data": {
      "text/plain": [
       "<matplotlib.axes._subplots.AxesSubplot at 0x7f7ece312ad0>"
      ]
     },
     "execution_count": 66,
     "metadata": {},
     "output_type": "execute_result"
    },
    {
     "data": {
      "image/png": "[encoded data removed]",
      "text/plain": [
       "<Figure size 720x360 with 1 Axes>"
      ]
     },
     "metadata": {
      "needs_background": "light"
     },
     "output_type": "display_data"
    }
   ],
   "source": [
    "#Monthly Production Distribution\n",
    "\n",
    "#Creating Fig settings\n",
    "fig_dims = (10,5)\n",
    "fig, ax = plt.subplots(figsize=fig_dims)\n",
    "fig.suptitle(\"Distribution of Monthly Productions 2013-2019\")\n",
    "#Plotting fig\n",
    "sns.distplot(mon_prod, rug=True, axlabel=\"Tons Produced\", ax=ax)"
   ]
  },
  {
   "cell_type": "code",
   "execution_count": 67,
   "metadata": {},
   "outputs": [
    {
     "name": "stdout",
     "output_type": "stream",
     "text": [
      "Statistics of Monthly Production\n",
      "                ton\n",
      "count     83.000000\n",
      "mean   32444.313253\n",
      "std     9290.715004\n",
      "min     8071.000000\n",
      "25%    26892.500000\n",
      "50%    33435.000000\n",
      "75%    38621.500000\n",
      "max    54095.000000\n",
      "Skew measure: [-0.51088829]\n",
      "Kurtosis measure: [3.16485642]\n"
     ]
    }
   ],
   "source": [
    "#Stats of Distribution\n",
    "print(\"Statistics of Monthly Production\")\n",
    "print(mon_prod.describe())\n",
    "print(\"Skew measure:\", sp.stats.skew(mon_prod))\n",
    "print(\"Kurtosis measure:\", sp.stats.kurtosis(mon_prod, fisher=False))"
   ]
  },
  {
   "cell_type": "markdown",
   "metadata": {
    "toc-hr-collapsed": true,
    "toc-nb-collapsed": true
   },
   "source": [
    "### Strategy Analysis"
   ]
  },
  {
   "cell_type": "code",
   "execution_count": null,
   "metadata": {},
   "outputs": [],
   "source": [
    "# Count of skus by Strategy type\n",
    "print(prod_reduced.groupby(\"strategy\")[\"sku\"].count().sort_values(ascending=False))"
   ]
  },
  {
   "cell_type": "markdown",
   "metadata": {},
   "source": [
    "### Blocks Analysis"
   ]
  },
  {
   "cell_type": "code",
   "execution_count": 68,
   "metadata": {},
   "outputs": [
    {
     "name": "stdout",
     "output_type": "stream",
     "text": [
      "41\n"
     ]
    }
   ],
   "source": [
    "# Aggregate Number of tons produced by Block\n",
    "totprod_by_block = prod_reduced.groupby(\"block\")[\"ton\"].sum().sort_values(ascending=False)\n",
    "print(len(totprod_by_block))"
   ]
  },
  {
   "cell_type": "markdown",
   "metadata": {
    "toc-hr-collapsed": true,
    "toc-nb-collapsed": true
   },
   "source": [
    "#### Total tons by Block (2013-2019)"
   ]
  },
  {
   "cell_type": "code",
   "execution_count": 69,
   "metadata": {},
   "outputs": [
    {
     "name": "stdout",
     "output_type": "stream",
     "text": [
      "block\n",
      "15MM               410798\n",
      "20MM               270351\n",
      "25MM               215253\n",
      "3\" ANG             176473\n",
      "4\" ANG             134620\n",
      "2\" ANG             120222\n",
      "35MM               109430\n",
      "2-1/2\" ANG         108152\n",
      "30MM               100931\n",
      "6\" CHN              97219\n",
      "4\" CHN              95525\n",
      "3\" CHN              84647\n",
      "8\" CHN              76396\n",
      "3-1/2\" ANG          72818\n",
      "6 X 4\" ANG          58871\n",
      "10\" CHN             55258\n",
      "5\" ANG              52930\n",
      "4 X 3\" ANG          49569\n",
      "6\" ANG              48886\n",
      "3 X 2\" ANG          45943\n",
      "5 X 3-1/2\" ANG      45297\n",
      "5\" CHN              40515\n",
      "6\" FLT              39053\n",
      "8\" FLT              36537\n",
      "6 X 3-1/2\" ANG      27672\n",
      "5 X 3\" ANG          26315\n",
      "7\" CHN              22447\n",
      "5\" FLT              16589\n",
      "3-1/2X2-1/2\"ANG     12096\n",
      "7\" FLT              11382\n",
      "7 X 4\" ANG          10687\n",
      "9\" CHN              10504\n",
      "10\" FLT              2354\n",
      "12\" CHN              1790\n",
      "MC3\" CHN             1585\n",
      "2-1/2 X 2\" ANG       1379\n",
      "3 X 2-1/2\" ANG       1283\n",
      "16M                   508\n",
      "MC4\" CHN              505\n",
      "35M                    63\n",
      "TRN                    -3\n",
      "Name: ton, dtype: int64\n"
     ]
    }
   ],
   "source": [
    "#See total tons by block\n",
    "print(totprod_by_block)"
   ]
  },
  {
   "cell_type": "markdown",
   "metadata": {},
   "source": [
    "#### Percentage Distribution of Production by Block"
   ]
  },
  {
   "cell_type": "code",
   "execution_count": 70,
   "metadata": {},
   "outputs": [],
   "source": [
    "#top 22 out of 41\n",
    "top22 = totprod_by_block[:22]\n",
    "#Create other categories anything less than 40K tons, bottom 19 out of 44\n",
    "bottom19 = totprod_by_block[22:].sum()\n",
    "bottom19 = pd.Series(bottom19)\n",
    "bottom19.rename({0:\"Other\"}, inplace=True)"
   ]
  },
  {
   "cell_type": "code",
   "execution_count": 71,
   "metadata": {},
   "outputs": [],
   "source": [
    "#join top22 + bottom19\n",
    "total_blocks = top22.append(bottom19)"
   ]
  },
  {
   "cell_type": "code",
   "execution_count": 72,
   "metadata": {},
   "outputs": [
    {
     "data": {
      "image/png": "[encoded data removed]",
      "text/plain": [
       "<Figure size 576x576 with 1 Axes>"
      ]
     },
     "metadata": {},
     "output_type": "display_data"
    }
   ],
   "source": [
    "#PieChart by Block\n",
    "fig_dims = (8,8)\n",
    "fig, ax1 = plt.subplots(figsize=fig_dims)\n",
    "fig.suptitle(\"Percentage of Tons Produced by Block (2013-2019)\")\n",
    "explode = [0 for block in range(23)]\n",
    "explode[4] = 0.13\n",
    "explode[13] = 0.13\n",
    "explode[17:21] = [0.13,0,0,0.135]\n",
    "\n",
    "#Create plot & title\n",
    "ax1.pie(total_blocks, labels=total_blocks.index, autopct='%1.1f%%', shadow=False, startangle=90, explode=explode)\n",
    "ax1.axis('equal')\n",
    "\n",
    "plt.show()\n",
    "#blocks near 4\" ANG (requested by business): 5X3-1/2\", 5X3\", FT, 4X3\" and 3-1/2\" "
   ]
  },
  {
   "cell_type": "code",
   "execution_count": 73,
   "metadata": {},
   "outputs": [
    {
     "data": {
      "text/html": [
       "<div>\n",
       "<style scoped>\n",
       "    .dataframe tbody tr th:only-of-type {\n",
       "        vertical-align: middle;\n",
       "    }\n",
       "\n",
       "    .dataframe tbody tr th {\n",
       "        vertical-align: top;\n",
       "    }\n",
       "\n",
       "    .dataframe thead th {\n",
       "        text-align: right;\n",
       "    }\n",
       "</style>\n",
       "<table border=\"1\" class=\"dataframe\">\n",
       "  <thead>\n",
       "    <tr style=\"text-align: right;\">\n",
       "      <th></th>\n",
       "      <th></th>\n",
       "      <th>ton</th>\n",
       "    </tr>\n",
       "    <tr>\n",
       "      <th>calendar_day</th>\n",
       "      <th>block</th>\n",
       "      <th></th>\n",
       "    </tr>\n",
       "  </thead>\n",
       "  <tbody>\n",
       "    <tr>\n",
       "      <th rowspan=\"2\" valign=\"top\">2013-02-04</th>\n",
       "      <th>15MM</th>\n",
       "      <td>118</td>\n",
       "    </tr>\n",
       "    <tr>\n",
       "      <th>4\" ANG</th>\n",
       "      <td>56</td>\n",
       "    </tr>\n",
       "    <tr>\n",
       "      <th rowspan=\"2\" valign=\"top\">2013-02-05</th>\n",
       "      <th>15MM</th>\n",
       "      <td>1189</td>\n",
       "    </tr>\n",
       "    <tr>\n",
       "      <th>4\" ANG</th>\n",
       "      <td>522</td>\n",
       "    </tr>\n",
       "    <tr>\n",
       "      <th>2013-02-06</th>\n",
       "      <th>15MM</th>\n",
       "      <td>1198</td>\n",
       "    </tr>\n",
       "    <tr>\n",
       "      <th>...</th>\n",
       "      <th>...</th>\n",
       "      <td>...</td>\n",
       "    </tr>\n",
       "    <tr>\n",
       "      <th rowspan=\"5\" valign=\"top\">2019-12-30</th>\n",
       "      <th>5 X 3-1/2\" ANG</th>\n",
       "      <td>-5</td>\n",
       "    </tr>\n",
       "    <tr>\n",
       "      <th>5\" ANG</th>\n",
       "      <td>-9</td>\n",
       "    </tr>\n",
       "    <tr>\n",
       "      <th>6 X 4\" ANG</th>\n",
       "      <td>-6</td>\n",
       "    </tr>\n",
       "    <tr>\n",
       "      <th>7\" CHN</th>\n",
       "      <td>-5</td>\n",
       "    </tr>\n",
       "    <tr>\n",
       "      <th>9\" CHN</th>\n",
       "      <td>-5</td>\n",
       "    </tr>\n",
       "  </tbody>\n",
       "</table>\n",
       "<p>5622 rows × 1 columns</p>\n",
       "</div>"
      ],
      "text/plain": [
       "                              ton\n",
       "calendar_day block               \n",
       "2013-02-04   15MM             118\n",
       "             4\" ANG            56\n",
       "2013-02-05   15MM            1189\n",
       "             4\" ANG           522\n",
       "2013-02-06   15MM            1198\n",
       "...                           ...\n",
       "2019-12-30   5 X 3-1/2\" ANG    -5\n",
       "             5\" ANG            -9\n",
       "             6 X 4\" ANG        -6\n",
       "             7\" CHN            -5\n",
       "             9\" CHN            -5\n",
       "\n",
       "[5622 rows x 1 columns]"
      ]
     },
     "execution_count": 73,
     "metadata": {},
     "output_type": "execute_result"
    }
   ],
   "source": [
    "#aggregate by date and block\n",
    "block_prod = prod_reduced.groupby([\"calendar_day\",\"block\"]).sum()\n",
    "block_prod"
   ]
  },
  {
   "cell_type": "markdown",
   "metadata": {},
   "source": [
    "#### Average Production per Block"
   ]
  },
  {
   "cell_type": "code",
   "execution_count": 74,
   "metadata": {},
   "outputs": [
    {
     "name": "stdout",
     "output_type": "stream",
     "text": [
      "Avg. tons per block:\n"
     ]
    },
    {
     "data": {
      "text/plain": [
       "10\" CHN            1105.0\n",
       "10\" FLT             588.0\n",
       "12\" CHN             199.0\n",
       "15MM               5200.0\n",
       "16M                 508.0\n",
       "2\" ANG             1670.0\n",
       "2-1/2 X 2\" ANG      276.0\n",
       "2-1/2\" ANG         1567.0\n",
       "20MM               3557.0\n",
       "25MM               2832.0\n",
       "3 X 2\" ANG          779.0\n",
       "3 X 2-1/2\" ANG      214.0\n",
       "3\" ANG             2715.0\n",
       "3\" CHN             1459.0\n",
       "3-1/2\" ANG         1255.0\n",
       "3-1/2X2-1/2\"ANG     390.0\n",
       "30MM               1422.0\n",
       "35M                  32.0\n",
       "35MM               1563.0\n",
       "4 X 3\" ANG          901.0\n",
       "4\" ANG             2103.0\n",
       "4\" CHN             1516.0\n",
       "5 X 3\" ANG          598.0\n",
       "5 X 3-1/2\" ANG      871.0\n",
       "5\" ANG             1080.0\n",
       "5\" CHN              794.0\n",
       "5\" FLT              592.0\n",
       "6 X 3-1/2\" ANG      589.0\n",
       "6 X 4\" ANG         1051.0\n",
       "6\" ANG             1063.0\n",
       "6\" CHN             1519.0\n",
       "6\" FLT              930.0\n",
       "7 X 4\" ANG          486.0\n",
       "7\" CHN              724.0\n",
       "7\" FLT              542.0\n",
       "8\" CHN             1389.0\n",
       "8\" FLT              891.0\n",
       "9\" CHN              750.0\n",
       "MC3\" CHN            132.0\n",
       "MC4\" CHN             63.0\n",
       "TRN                  -1.0\n",
       "dtype: float64"
      ]
     },
     "execution_count": 74,
     "metadata": {},
     "output_type": "execute_result"
    }
   ],
   "source": [
    "#Count of productions by block\n",
    "block_temp = block_prod.reset_index()\n",
    "\n",
    "block_temp = block_temp.groupby([block_temp[\"calendar_day\"].dt.year,block_temp[\"calendar_day\"].dt.month,\"block\"])[\"ton\"].sum()\n",
    "block_temp.rename_axis([\"year\",\"month\",\"block\"], inplace=True)\n",
    "\n",
    "block_temp = block_temp.reset_index()\n",
    "\n",
    "# print(\"Total tons per block:\",block_temp.groupby(\"block\")[\"ton\"].sum())\n",
    "# print(\"Total count of blocks produced '13-19:\", block_temp[\"block\"].value_counts())\n",
    "print(\"Avg. tons per block:\") \n",
    "np.rint(block_temp.groupby(\"block\")[\"ton\"].sum()/block_temp[\"block\"].value_counts())\n",
    "#MAKE THIS NEAT put it into a dataframe"
   ]
  },
  {
   "cell_type": "markdown",
   "metadata": {
    "toc-hr-collapsed": true,
    "toc-nb-collapsed": true
   },
   "source": [
    "### Size Analysis"
   ]
  },
  {
   "cell_type": "code",
   "execution_count": null,
   "metadata": {},
   "outputs": [],
   "source": [
    "# Aggregate Number of tons produced by Size\n",
    "print(prod_reduced.groupby(\"size\")[\"ton\"].sum().sort_values(ascending=False))"
   ]
  },
  {
   "cell_type": "markdown",
   "metadata": {
    "toc-hr-collapsed": true,
    "toc-nb-collapsed": true
   },
   "source": [
    "### Sku Analysis"
   ]
  },
  {
   "cell_type": "code",
   "execution_count": null,
   "metadata": {},
   "outputs": [],
   "source": [
    "# Aggregate Number of tons produced by SKU\n",
    "prodby_sku = prod_reduced.groupby([\"sku\",\"material_description\"])[\"ton\"].sum().sort_values(ascending=False)\n",
    "print(prodby_sku)"
   ]
  },
  {
   "cell_type": "code",
   "execution_count": null,
   "metadata": {},
   "outputs": [],
   "source": []
  }
 ],
 "metadata": {
  "file_extension": ".py",
  "kernelspec": {
   "display_name": "Python 3",
   "language": "python",
   "name": "python3"
  },
  "language_info": {
   "codemirror_mode": {
    "name": "ipython",
    "version": 3
   },
   "file_extension": ".py",
   "mimetype": "text/x-python",
   "name": "python",
   "nbconvert_exporter": "python",
   "pygments_lexer": "ipython3",
   "version": "3.7.6"
  },
  "mimetype": "text/x-python",
  "name": "python",
  "npconvert_exporter": "python",
  "pygments_lexer": "ipython3",
  "version": 3
 },
 "nbformat": 4,
 "nbformat_minor": 4
}
