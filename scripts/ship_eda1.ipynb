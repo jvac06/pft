{
 "cells": [
  {
   "cell_type": "code",
   "execution_count": 1,
   "metadata": {},
   "outputs": [],
   "source": [
    "#this is a new file because previous one had a problem\n",
    "#this will the file which I will use for shipping data viz and more\n",
    "import numpy as np\n",
    "import pandas as pd\n",
    "import matplotlib.pyplot as plt\n",
    "import seaborn as sns\n",
    "import datetime as dt"
   ]
  },
  {
   "cell_type": "code",
   "execution_count": 2,
   "metadata": {},
   "outputs": [],
   "source": [
    "%store -r ship_reduced"
   ]
  },
  {
   "cell_type": "code",
   "execution_count": 3,
   "metadata": {},
   "outputs": [
    {
     "name": "stdout",
     "output_type": "stream",
     "text": [
      "<class 'pandas.core.frame.DataFrame'>\n",
      "Int64Index: 156711 entries, 0 to 156795\n",
      "Data columns (total 15 columns):\n",
      " #   Column                Non-Null Count   Dtype         \n",
      "---  ------                --------------   -----         \n",
      " 0   shipping_day          156711 non-null  datetime64[ns]\n",
      " 1   block                 153079 non-null  object        \n",
      " 2   strategy              156700 non-null  float64       \n",
      " 3   shape                 156700 non-null  object        \n",
      " 4   size                  156700 non-null  object        \n",
      " 5   div                   156711 non-null  object        \n",
      " 6   sku                   156711 non-null  int64         \n",
      " 7   material_description  156711 non-null  object        \n",
      " 8   shipment_tons         156711 non-null  float64       \n",
      " 9   segment               154025 non-null  object        \n",
      " 10  sold-to_party         156711 non-null  int64         \n",
      " 11  ship-to_party         156711 non-null  int64         \n",
      " 12  postal_code           156711 non-null  object        \n",
      " 13  region_description    156711 non-null  object        \n",
      " 14  country               156711 non-null  object        \n",
      "dtypes: datetime64[ns](1), float64(2), int64(3), object(9)\n",
      "memory usage: 19.1+ MB\n"
     ]
    }
   ],
   "source": [
    "ship_reduced.info()"
   ]
  },
  {
   "cell_type": "code",
   "execution_count": 4,
   "metadata": {},
   "outputs": [
    {
     "data": {
      "text/html": [
       "<div>\n",
       "<style scoped>\n",
       "    .dataframe tbody tr th:only-of-type {\n",
       "        vertical-align: middle;\n",
       "    }\n",
       "\n",
       "    .dataframe tbody tr th {\n",
       "        vertical-align: top;\n",
       "    }\n",
       "\n",
       "    .dataframe thead th {\n",
       "        text-align: right;\n",
       "    }\n",
       "</style>\n",
       "<table border=\"1\" class=\"dataframe\">\n",
       "  <thead>\n",
       "    <tr style=\"text-align: right;\">\n",
       "      <th></th>\n",
       "      <th>shipping_day</th>\n",
       "      <th>block</th>\n",
       "      <th>strategy</th>\n",
       "      <th>shape</th>\n",
       "      <th>size</th>\n",
       "      <th>div</th>\n",
       "      <th>sku</th>\n",
       "      <th>material_description</th>\n",
       "      <th>shipment_tons</th>\n",
       "      <th>segment</th>\n",
       "      <th>sold-to_party</th>\n",
       "      <th>ship-to_party</th>\n",
       "      <th>postal_code</th>\n",
       "      <th>region_description</th>\n",
       "      <th>country</th>\n",
       "    </tr>\n",
       "  </thead>\n",
       "  <tbody>\n",
       "    <tr>\n",
       "      <th>0</th>\n",
       "      <td>2020-01-29</td>\n",
       "      <td>8\" CHN</td>\n",
       "      <td>40.0</td>\n",
       "      <td>SHAPE_C</td>\n",
       "      <td>8 X 11.5#</td>\n",
       "      <td>Merchants</td>\n",
       "      <td>106021716</td>\n",
       "      <td>C 8X11.5# GGMULTI 40'00\"</td>\n",
       "      <td>0.0</td>\n",
       "      <td>NA - DISTRIBUTION</td>\n",
       "      <td>100092779</td>\n",
       "      <td>100099953</td>\n",
       "      <td>72301-7103</td>\n",
       "      <td>Arkansas</td>\n",
       "      <td>US</td>\n",
       "    </tr>\n",
       "    <tr>\n",
       "      <th>1</th>\n",
       "      <td>2020-01-07</td>\n",
       "      <td>8\" CHN</td>\n",
       "      <td>40.0</td>\n",
       "      <td>SHAPE_C</td>\n",
       "      <td>8 X 11.5#</td>\n",
       "      <td>Merchants</td>\n",
       "      <td>106021716</td>\n",
       "      <td>C 8X11.5# GGMULTI 40'00\"</td>\n",
       "      <td>0.0</td>\n",
       "      <td>NA - DISTRIBUTION</td>\n",
       "      <td>100092779</td>\n",
       "      <td>100099953</td>\n",
       "      <td>72301-7103</td>\n",
       "      <td>Arkansas</td>\n",
       "      <td>US</td>\n",
       "    </tr>\n",
       "    <tr>\n",
       "      <th>2</th>\n",
       "      <td>2020-01-24</td>\n",
       "      <td>8\" CHN</td>\n",
       "      <td>40.0</td>\n",
       "      <td>SHAPE_C</td>\n",
       "      <td>8 X 11.5#</td>\n",
       "      <td>Merchants</td>\n",
       "      <td>106021716</td>\n",
       "      <td>C 8X11.5# GGMULTI 40'00\"</td>\n",
       "      <td>0.0</td>\n",
       "      <td>NA - DISTRIBUTION</td>\n",
       "      <td>100092318</td>\n",
       "      <td>100099655</td>\n",
       "      <td>37218-3813</td>\n",
       "      <td>Tennessee</td>\n",
       "      <td>US</td>\n",
       "    </tr>\n",
       "    <tr>\n",
       "      <th>3</th>\n",
       "      <td>2020-01-29</td>\n",
       "      <td>3 X 2\" ANG</td>\n",
       "      <td>40.0</td>\n",
       "      <td>SHAPE_L</td>\n",
       "      <td>3X2X1/2</td>\n",
       "      <td>Merchants</td>\n",
       "      <td>106022002</td>\n",
       "      <td>L 3X2X1/2 GGMULTI 40'00\"</td>\n",
       "      <td>0.0</td>\n",
       "      <td>NA - DISTRIBUTION</td>\n",
       "      <td>100092779</td>\n",
       "      <td>100099953</td>\n",
       "      <td>72301-7103</td>\n",
       "      <td>Arkansas</td>\n",
       "      <td>US</td>\n",
       "    </tr>\n",
       "    <tr>\n",
       "      <th>4</th>\n",
       "      <td>2020-01-27</td>\n",
       "      <td>12\" CHN</td>\n",
       "      <td>40.0</td>\n",
       "      <td>SHAPE_C</td>\n",
       "      <td>12 X 20.7#</td>\n",
       "      <td>Merchants</td>\n",
       "      <td>106020260</td>\n",
       "      <td>C 12X20.7# GGMULTI 40'00\"</td>\n",
       "      <td>0.0</td>\n",
       "      <td>NA - DISTRIBUTION</td>\n",
       "      <td>100092309</td>\n",
       "      <td>100095766</td>\n",
       "      <td>35954</td>\n",
       "      <td>Alabama</td>\n",
       "      <td>US</td>\n",
       "    </tr>\n",
       "  </tbody>\n",
       "</table>\n",
       "</div>"
      ],
      "text/plain": [
       "  shipping_day       block  strategy    shape        size        div  \\\n",
       "0   2020-01-29      8\" CHN      40.0  SHAPE_C   8 X 11.5#  Merchants   \n",
       "1   2020-01-07      8\" CHN      40.0  SHAPE_C   8 X 11.5#  Merchants   \n",
       "2   2020-01-24      8\" CHN      40.0  SHAPE_C   8 X 11.5#  Merchants   \n",
       "3   2020-01-29  3 X 2\" ANG      40.0  SHAPE_L     3X2X1/2  Merchants   \n",
       "4   2020-01-27     12\" CHN      40.0  SHAPE_C  12 X 20.7#  Merchants   \n",
       "\n",
       "         sku       material_description  shipment_tons            segment  \\\n",
       "0  106021716   C 8X11.5# GGMULTI 40'00\"            0.0  NA - DISTRIBUTION   \n",
       "1  106021716   C 8X11.5# GGMULTI 40'00\"            0.0  NA - DISTRIBUTION   \n",
       "2  106021716   C 8X11.5# GGMULTI 40'00\"            0.0  NA - DISTRIBUTION   \n",
       "3  106022002   L 3X2X1/2 GGMULTI 40'00\"            0.0  NA - DISTRIBUTION   \n",
       "4  106020260  C 12X20.7# GGMULTI 40'00\"            0.0  NA - DISTRIBUTION   \n",
       "\n",
       "   sold-to_party  ship-to_party postal_code region_description country  \n",
       "0      100092779      100099953  72301-7103           Arkansas      US  \n",
       "1      100092779      100099953  72301-7103           Arkansas      US  \n",
       "2      100092318      100099655  37218-3813          Tennessee      US  \n",
       "3      100092779      100099953  72301-7103           Arkansas      US  \n",
       "4      100092309      100095766       35954            Alabama      US  "
      ]
     },
     "execution_count": 4,
     "metadata": {},
     "output_type": "execute_result"
    }
   ],
   "source": [
    "ship_reduced.head()"
   ]
  },
  {
   "cell_type": "code",
   "execution_count": 5,
   "metadata": {},
   "outputs": [],
   "source": [
    "#trend by weeks for shipment tons\n",
    "ship_reduced = ship_reduced.set_index('shipping_day')"
   ]
  },
  {
   "cell_type": "code",
   "execution_count": 11,
   "metadata": {},
   "outputs": [
    {
     "data": {
      "text/html": [
       "<div>\n",
       "<style scoped>\n",
       "    .dataframe tbody tr th:only-of-type {\n",
       "        vertical-align: middle;\n",
       "    }\n",
       "\n",
       "    .dataframe tbody tr th {\n",
       "        vertical-align: top;\n",
       "    }\n",
       "\n",
       "    .dataframe thead th {\n",
       "        text-align: right;\n",
       "    }\n",
       "</style>\n",
       "<table border=\"1\" class=\"dataframe\">\n",
       "  <thead>\n",
       "    <tr style=\"text-align: right;\">\n",
       "      <th></th>\n",
       "      <th>block</th>\n",
       "      <th>strategy</th>\n",
       "      <th>shape</th>\n",
       "      <th>size</th>\n",
       "      <th>div</th>\n",
       "      <th>sku</th>\n",
       "      <th>material_description</th>\n",
       "      <th>shipment_tons</th>\n",
       "      <th>segment</th>\n",
       "      <th>sold-to_party</th>\n",
       "      <th>ship-to_party</th>\n",
       "      <th>postal_code</th>\n",
       "      <th>region_description</th>\n",
       "      <th>country</th>\n",
       "      <th>Year</th>\n",
       "      <th>Month</th>\n",
       "      <th>Weekday Name</th>\n",
       "    </tr>\n",
       "    <tr>\n",
       "      <th>shipping_day</th>\n",
       "      <th></th>\n",
       "      <th></th>\n",
       "      <th></th>\n",
       "      <th></th>\n",
       "      <th></th>\n",
       "      <th></th>\n",
       "      <th></th>\n",
       "      <th></th>\n",
       "      <th></th>\n",
       "      <th></th>\n",
       "      <th></th>\n",
       "      <th></th>\n",
       "      <th></th>\n",
       "      <th></th>\n",
       "      <th></th>\n",
       "      <th></th>\n",
       "      <th></th>\n",
       "    </tr>\n",
       "  </thead>\n",
       "  <tbody>\n",
       "    <tr>\n",
       "      <th>2020-01-29</th>\n",
       "      <td>8\" CHN</td>\n",
       "      <td>40.0</td>\n",
       "      <td>SHAPE_C</td>\n",
       "      <td>8 X 11.5#</td>\n",
       "      <td>Merchants</td>\n",
       "      <td>106021716</td>\n",
       "      <td>C 8X11.5# GGMULTI 40'00\"</td>\n",
       "      <td>0.0</td>\n",
       "      <td>NA - DISTRIBUTION</td>\n",
       "      <td>100092779</td>\n",
       "      <td>100099953</td>\n",
       "      <td>72301-7103</td>\n",
       "      <td>Arkansas</td>\n",
       "      <td>US</td>\n",
       "      <td>2020</td>\n",
       "      <td>1</td>\n",
       "      <td>5</td>\n",
       "    </tr>\n",
       "    <tr>\n",
       "      <th>2020-01-07</th>\n",
       "      <td>8\" CHN</td>\n",
       "      <td>40.0</td>\n",
       "      <td>SHAPE_C</td>\n",
       "      <td>8 X 11.5#</td>\n",
       "      <td>Merchants</td>\n",
       "      <td>106021716</td>\n",
       "      <td>C 8X11.5# GGMULTI 40'00\"</td>\n",
       "      <td>0.0</td>\n",
       "      <td>NA - DISTRIBUTION</td>\n",
       "      <td>100092779</td>\n",
       "      <td>100099953</td>\n",
       "      <td>72301-7103</td>\n",
       "      <td>Arkansas</td>\n",
       "      <td>US</td>\n",
       "      <td>2020</td>\n",
       "      <td>1</td>\n",
       "      <td>2</td>\n",
       "    </tr>\n",
       "    <tr>\n",
       "      <th>2020-01-24</th>\n",
       "      <td>8\" CHN</td>\n",
       "      <td>40.0</td>\n",
       "      <td>SHAPE_C</td>\n",
       "      <td>8 X 11.5#</td>\n",
       "      <td>Merchants</td>\n",
       "      <td>106021716</td>\n",
       "      <td>C 8X11.5# GGMULTI 40'00\"</td>\n",
       "      <td>0.0</td>\n",
       "      <td>NA - DISTRIBUTION</td>\n",
       "      <td>100092318</td>\n",
       "      <td>100099655</td>\n",
       "      <td>37218-3813</td>\n",
       "      <td>Tennessee</td>\n",
       "      <td>US</td>\n",
       "      <td>2020</td>\n",
       "      <td>1</td>\n",
       "      <td>4</td>\n",
       "    </tr>\n",
       "  </tbody>\n",
       "</table>\n",
       "</div>"
      ],
      "text/plain": [
       "               block  strategy    shape       size        div        sku  \\\n",
       "shipping_day                                                               \n",
       "2020-01-29    8\" CHN      40.0  SHAPE_C  8 X 11.5#  Merchants  106021716   \n",
       "2020-01-07    8\" CHN      40.0  SHAPE_C  8 X 11.5#  Merchants  106021716   \n",
       "2020-01-24    8\" CHN      40.0  SHAPE_C  8 X 11.5#  Merchants  106021716   \n",
       "\n",
       "                  material_description  shipment_tons            segment  \\\n",
       "shipping_day                                                               \n",
       "2020-01-29    C 8X11.5# GGMULTI 40'00\"            0.0  NA - DISTRIBUTION   \n",
       "2020-01-07    C 8X11.5# GGMULTI 40'00\"            0.0  NA - DISTRIBUTION   \n",
       "2020-01-24    C 8X11.5# GGMULTI 40'00\"            0.0  NA - DISTRIBUTION   \n",
       "\n",
       "              sold-to_party  ship-to_party postal_code region_description  \\\n",
       "shipping_day                                                                \n",
       "2020-01-29        100092779      100099953  72301-7103           Arkansas   \n",
       "2020-01-07        100092779      100099953  72301-7103           Arkansas   \n",
       "2020-01-24        100092318      100099655  37218-3813          Tennessee   \n",
       "\n",
       "             country  Year  Month  Weekday Name  \n",
       "shipping_day                                     \n",
       "2020-01-29        US  2020      1             5  \n",
       "2020-01-07        US  2020      1             2  \n",
       "2020-01-24        US  2020      1             4  "
      ]
     },
     "execution_count": 11,
     "metadata": {},
     "output_type": "execute_result"
    }
   ],
   "source": [
    "ship_reduced['Year'] = ship_reduced.index.year\n",
    "ship_reduced['Month'] = ship_reduced.index.month\n",
    "ship_reduced['Weekday Name'] = ship_reduced.index.week\n",
    "ship_reduced.head(3)"
   ]
  },
  {
   "cell_type": "code",
   "execution_count": 12,
   "metadata": {},
   "outputs": [
    {
     "data": {
      "text/plain": [
       "Month\n",
       "1     219918.0\n",
       "5     208352.0\n",
       "2     205149.0\n",
       "6     196192.0\n",
       "11    194587.0\n",
       "10    193661.0\n",
       "3     193434.0\n",
       "4     193238.0\n",
       "7     164064.0\n",
       "9     159297.0\n",
       "8     144842.0\n",
       "12    135189.0\n",
       "Name: shipment_tons, dtype: float64"
      ]
     },
     "execution_count": 12,
     "metadata": {},
     "output_type": "execute_result"
    }
   ],
   "source": [
    "#shipment_by_month\n",
    "totprod_by_month = ship_reduced.groupby(\"Month\")[\"shipment_tons\"].sum().sort_values(ascending=False)\n",
    "totprod_by_month"
   ]
  },
  {
   "cell_type": "code",
   "execution_count": 13,
   "metadata": {},
   "outputs": [
    {
     "data": {
      "text/html": [
       "<div>\n",
       "<style scoped>\n",
       "    .dataframe tbody tr th:only-of-type {\n",
       "        vertical-align: middle;\n",
       "    }\n",
       "\n",
       "    .dataframe tbody tr th {\n",
       "        vertical-align: top;\n",
       "    }\n",
       "\n",
       "    .dataframe thead th {\n",
       "        text-align: right;\n",
       "    }\n",
       "</style>\n",
       "<table border=\"1\" class=\"dataframe\">\n",
       "  <thead>\n",
       "    <tr style=\"text-align: right;\">\n",
       "      <th></th>\n",
       "      <th>strategy</th>\n",
       "      <th>sku</th>\n",
       "      <th>shipment_tons</th>\n",
       "      <th>sold-to_party</th>\n",
       "      <th>ship-to_party</th>\n",
       "      <th>Year</th>\n",
       "      <th>Month</th>\n",
       "      <th>Weekday Name</th>\n",
       "    </tr>\n",
       "    <tr>\n",
       "      <th>shipping_day</th>\n",
       "      <th></th>\n",
       "      <th></th>\n",
       "      <th></th>\n",
       "      <th></th>\n",
       "      <th></th>\n",
       "      <th></th>\n",
       "      <th></th>\n",
       "      <th></th>\n",
       "    </tr>\n",
       "  </thead>\n",
       "  <tbody>\n",
       "    <tr>\n",
       "      <th>2015</th>\n",
       "      <td>1055979.0</td>\n",
       "      <td>2686637612039</td>\n",
       "      <td>378038.0</td>\n",
       "      <td>2514742152538</td>\n",
       "      <td>2515315744259</td>\n",
       "      <td>50630905</td>\n",
       "      <td>167864</td>\n",
       "      <td>698526</td>\n",
       "    </tr>\n",
       "    <tr>\n",
       "      <th>2016</th>\n",
       "      <td>1206699.0</td>\n",
       "      <td>3040255922556</td>\n",
       "      <td>415037.0</td>\n",
       "      <td>2846784769952</td>\n",
       "      <td>2847638555227</td>\n",
       "      <td>57338953</td>\n",
       "      <td>177990</td>\n",
       "      <td>717637</td>\n",
       "    </tr>\n",
       "    <tr>\n",
       "      <th>2017</th>\n",
       "      <td>1439761.0</td>\n",
       "      <td>3643388078446</td>\n",
       "      <td>432605.0</td>\n",
       "      <td>3413791568224</td>\n",
       "      <td>3414763136445</td>\n",
       "      <td>68793804</td>\n",
       "      <td>210559</td>\n",
       "      <td>853423</td>\n",
       "    </tr>\n",
       "    <tr>\n",
       "      <th>2018</th>\n",
       "      <td>1307425.0</td>\n",
       "      <td>3271734970459</td>\n",
       "      <td>450785.0</td>\n",
       "      <td>3063816357716</td>\n",
       "      <td>3065217673006</td>\n",
       "      <td>61766944</td>\n",
       "      <td>184462</td>\n",
       "      <td>751351</td>\n",
       "    </tr>\n",
       "    <tr>\n",
       "      <th>2019</th>\n",
       "      <td>1398004.0</td>\n",
       "      <td>3514180419461</td>\n",
       "      <td>455611.0</td>\n",
       "      <td>3289566781766</td>\n",
       "      <td>3291352477505</td>\n",
       "      <td>66352257</td>\n",
       "      <td>212182</td>\n",
       "      <td>865378</td>\n",
       "    </tr>\n",
       "    <tr>\n",
       "      <th>2020</th>\n",
       "      <td>236895.0</td>\n",
       "      <td>595185745431</td>\n",
       "      <td>75847.0</td>\n",
       "      <td>556823099320</td>\n",
       "      <td>557287180223</td>\n",
       "      <td>11237233</td>\n",
       "      <td>8140</td>\n",
       "      <td>26946</td>\n",
       "    </tr>\n",
       "  </tbody>\n",
       "</table>\n",
       "</div>"
      ],
      "text/plain": [
       "               strategy            sku  shipment_tons  sold-to_party  \\\n",
       "shipping_day                                                           \n",
       "2015          1055979.0  2686637612039       378038.0  2514742152538   \n",
       "2016          1206699.0  3040255922556       415037.0  2846784769952   \n",
       "2017          1439761.0  3643388078446       432605.0  3413791568224   \n",
       "2018          1307425.0  3271734970459       450785.0  3063816357716   \n",
       "2019          1398004.0  3514180419461       455611.0  3289566781766   \n",
       "2020           236895.0   595185745431        75847.0   556823099320   \n",
       "\n",
       "              ship-to_party      Year   Month  Weekday Name  \n",
       "shipping_day                                                 \n",
       "2015          2515315744259  50630905  167864        698526  \n",
       "2016          2847638555227  57338953  177990        717637  \n",
       "2017          3414763136445  68793804  210559        853423  \n",
       "2018          3065217673006  61766944  184462        751351  \n",
       "2019          3291352477505  66352257  212182        865378  \n",
       "2020           557287180223  11237233    8140         26946  "
      ]
     },
     "execution_count": 13,
     "metadata": {},
     "output_type": "execute_result"
    }
   ],
   "source": [
    "totprod_by_week=ship_reduced.resample(rule='W').sum()\n",
    "totprod_by_week.groupby(totprod_by_week.index.year).sum()"
   ]
  },
  {
   "cell_type": "code",
   "execution_count": 14,
   "metadata": {},
   "outputs": [
    {
     "data": {
      "text/plain": [
       "Text(0, 0.5, 'shipment_tons')"
      ]
     },
     "execution_count": 14,
     "metadata": {},
     "output_type": "execute_result"
    },
    {
     "data": {
      "image/png": "[encoded data removed]",
      "text/plain": [
       "<Figure size 864x432 with 1 Axes>"
      ]
     },
     "metadata": {
      "needs_background": "light"
     },
     "output_type": "display_data"
    }
   ],
   "source": [
    "#Create figure and plots\n",
    "\n",
    "#create weekly plots by year\n",
    "year_2013 = totprod_by_week[totprod_by_week.index.year == 2013]\n",
    "year_2014 = totprod_by_week[totprod_by_week.index.year == 2014]\n",
    "year_2015 = totprod_by_week[totprod_by_week.index.year == 2015]\n",
    "year_2016 = totprod_by_week[totprod_by_week.index.year == 2016]\n",
    "year_2017 = totprod_by_week[totprod_by_week.index.year == 2017]\n",
    "year_2018 = totprod_by_week[totprod_by_week.index.year == 2018]\n",
    "year_2019 = totprod_by_week[totprod_by_week.index.year == 2019]\n",
    "fig, ax = plt.subplots(figsize=(12,6))\n",
    "\n",
    "fig.suptitle(\"Variation of Tons shipped by Year\")\n",
    "\n",
    "#drop negative week1 values\n",
    "year_2016 = year_2016[1:]\n",
    "year_2017 = year_2017[1:]\n",
    "\n",
    "\n",
    "ax.plot(year_2014.index.week, year_2014[\"shipment_tons\"], label=2014)\n",
    "ax.plot(year_2015.index.week, year_2015[\"shipment_tons\"], label=2015)\n",
    "ax.plot(year_2016.index.week, year_2016[\"shipment_tons\"], label=2016)\n",
    "ax.plot(year_2017.index.week, year_2017[\"shipment_tons\"], label=2017)\n",
    "ax.plot(year_2018.index.week, year_2018[\"shipment_tons\"], label=2018)\n",
    "ax.plot(year_2019.index.week, year_2019[\"shipment_tons\"], label=2019)\n",
    "#Create legend & axis names\n",
    "plt.legend(loc=\"best\", title=\"Year\", ncol=2)\n",
    "ax.set_xlabel(\"Weeks\")\n",
    "ax.set_ylabel(\"shipment_tons\")\n"
   ]
  },
  {
   "cell_type": "code",
   "execution_count": 15,
   "metadata": {},
   "outputs": [
    {
     "data": {
      "text/plain": [
       "strategy\n",
       "40.0    1724799.0\n",
       "63.0     483124.0\n",
       "Name: shipment_tons, dtype: float64"
      ]
     },
     "execution_count": 15,
     "metadata": {},
     "output_type": "execute_result"
    }
   ],
   "source": [
    "totship_by_month = ship_reduced.groupby(\"strategy\")[\"shipment_tons\"].sum().sort_values(ascending=False)\n",
    "totship_by_month"
   ]
  },
  {
   "cell_type": "markdown",
   "metadata": {},
   "source": [
    "### Potential Inputs for Demand Forecaseting:\n",
    "\n",
    "#### Market Indicators:\n",
    " - General\n",
    "     - Global steel production\n",
    "     - US Steel production\n",
    "     - US Steel capacity utilization\n",
    "     - Chicago Scrap Index\n",
    " - Construction\n",
    " - Manufacturing\n",
    " - Distribution\n",
    " \n",
    "#### Sales Orders & Shipment Data:\n",
    " - Segment/Division\n",
    " - Ship-to Location\n",
    " - **End-use**"
   ]
  },
  {
   "cell_type": "markdown",
   "metadata": {},
   "source": [
    "### Ship/Sale Attributes that could help identifying differences in demand"
   ]
  },
  {
   "cell_type": "code",
   "execution_count": 16,
   "metadata": {},
   "outputs": [
    {
     "data": {
      "text/plain": [
       "array(['NA - DISTRIBUTION', 'NA - MANUFACTURING', 'NA - CONSTRUCTION',\n",
       "       nan, 'NA - REBAR'], dtype=object)"
      ]
     },
     "execution_count": 16,
     "metadata": {},
     "output_type": "execute_result"
    }
   ],
   "source": [
    "ship_reduced[\"segment\"].unique()"
   ]
  },
  {
   "cell_type": "code",
   "execution_count": 17,
   "metadata": {},
   "outputs": [
    {
     "data": {
      "text/plain": [
       "array(['Merchants', 'Rebar', 'SBQ Bar'], dtype=object)"
      ]
     },
     "execution_count": 17,
     "metadata": {},
     "output_type": "execute_result"
    }
   ],
   "source": [
    "ship_reduced[\"div\"].unique()"
   ]
  },
  {
   "cell_type": "code",
   "execution_count": 19,
   "metadata": {},
   "outputs": [
    {
     "data": {
      "text/plain": [
       "array(['Arkansas', 'Tennessee', 'Alabama', 'Pennsylvania', 'Ohio',\n",
       "       'Indiana', 'Michigan', 'Illinois', 'Kansas', 'Texas', 'Minnesota',\n",
       "       'Oregon', 'Virginia', 'Nebraska', 'Colorado', 'California',\n",
       "       'New Jersey', 'New York', 'Connecticut', 'Wisconsin', 'Iowa',\n",
       "       'Oklahoma', 'Georgia', 'Massachusetts', 'Florida', 'Vermont',\n",
       "       'Ontario', 'Nova Scotia', 'Newfoundland & Labr.', 'New Brunswick',\n",
       "       'Quebec', 'Saskatchewan', 'Alberta', 'British Columbia',\n",
       "       'Manitoba', 'Washington', 'Louisiana', 'Prince Edward Island',\n",
       "       'South Carolina', 'Missouri', 'North Dakota', 'Kentucky',\n",
       "       'West Virginia', 'Maine', 'Mississippi', 'Arizona', 'Maryland',\n",
       "       'North Carolina', 'Coahuila', 'Utah', 'Delaware', 'New Hampshire',\n",
       "       'South Dakota', 'Rhode Island', 'Nevada', 'Idaho'], dtype=object)"
      ]
     },
     "execution_count": 19,
     "metadata": {},
     "output_type": "execute_result"
    }
   ],
   "source": [
    "ship_reduced[\"region_description\"].unique()"
   ]
  },
  {
   "cell_type": "code",
   "execution_count": null,
   "metadata": {},
   "outputs": [],
   "source": []
  }
 ],
 "metadata": {
  "kernelspec": {
   "display_name": "Python 3",
   "language": "python",
   "name": "python3"
  },
  "language_info": {
   "codemirror_mode": {
    "name": "ipython",
    "version": 3
   },
   "file_extension": ".py",
   "mimetype": "text/x-python",
   "name": "python",
   "nbconvert_exporter": "python",
   "pygments_lexer": "ipython3",
   "version": "3.7.6"
  }
 },
 "nbformat": 4,
 "nbformat_minor": 4
}
