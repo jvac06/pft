{
 "cells": [
  {
   "cell_type": "code",
   "execution_count": 2,
   "metadata": {},
   "outputs": [
    {
     "output_type": "stream",
     "name": "stdout",
     "text": "Tensorflow Version: 2.1.0\nKeras Version 2.2.4-tf\n"
    }
   ],
   "source": [
    "#Dependencies\n",
    "import os\n",
    "import numpy as np\n",
    "import pandas as pd\n",
    "import tensorflow as tf\n",
    "from tensorflow import keras\n",
    "print(\"Tensorflow Version:\",tf.__version__)\n",
    "print(\"Keras Version\", keras.__version__)"
   ]
  },
  {
   "cell_type": "markdown",
   "metadata": {},
   "source": [
    "## Importing Structural Data"
   ]
  },
  {
   "cell_type": "code",
   "execution_count": 3,
   "metadata": {},
   "outputs": [],
   "source": [
    "#File directory\n",
    "ser_path = \"./serialized/\"\n",
    "#change directory to datasets\n",
    "os.chdir(\"../datasets\")"
   ]
  },
  {
   "cell_type": "code",
   "execution_count": 4,
   "metadata": {},
   "outputs": [],
   "source": [
    "structural = pd.read_pickle(ser_path + \"structural_merged.pkl\")"
   ]
  },
  {
   "cell_type": "code",
   "execution_count": 5,
   "metadata": {},
   "outputs": [],
   "source": [
    "structural = structural.groupby(['calendar_day','year','month', 'week','block']).sum()\n",
    "structural = structural.reset_index()"
   ]
  },
  {
   "cell_type": "code",
   "execution_count": 6,
   "metadata": {},
   "outputs": [
    {
     "output_type": "execute_result",
     "data": {
      "text/plain": "Index(['calendar_day', 'year', 'month', 'week', 'block', 'IN_tons',\n       'SO_order_qty_sales_units', 'SH_shipment_tons', 'PR_ton'],\n      dtype='object')"
     },
     "metadata": {},
     "execution_count": 6
    }
   ],
   "source": [
    "structural.columns"
   ]
  },
  {
   "cell_type": "code",
   "execution_count": 7,
   "metadata": {},
   "outputs": [],
   "source": [
    "#rearanging columns\n",
    "structural = structural[['calendar_day', 'year', 'month', 'week', \n",
    "                        'block', 'IN_tons', 'PR_ton',\n",
    "                        'SO_order_qty_sales_units', 'SH_shipment_tons']]"
   ]
  },
  {
   "cell_type": "code",
   "execution_count": 8,
   "metadata": {},
   "outputs": [
    {
     "output_type": "execute_result",
     "data": {
      "text/plain": "(50323, 9)"
     },
     "metadata": {},
     "execution_count": 8
    }
   ],
   "source": [
    "structural.shape"
   ]
  },
  {
   "cell_type": "code",
   "execution_count": 9,
   "metadata": {},
   "outputs": [
    {
     "output_type": "execute_result",
     "data": {
      "text/plain": "  calendar_day  year  month  week         block  IN_tons  PR_ton  \\\n0   2016-01-02  2016      1    53        5\" ANG      0.0     0.0   \n1   2016-01-02  2016      1    53        5\" FLT      0.0     0.0   \n2   2016-01-03  2016      1    53        1\" FLT      0.0     0.0   \n3   2016-01-03  2016      1    53     1\" SB FLT      0.0     0.0   \n4   2016-01-03  2016      1    53  1-2\" LRG FLT      0.0     0.0   \n\n   SO_order_qty_sales_units  SH_shipment_tons  \n0                   39.0000               0.0  \n1                    3.0600               0.0  \n2                   10.0980               0.0  \n3                   22.5600               0.0  \n4                    4.9385               0.0  ",
      "text/html": "<div>\n<style scoped>\n    .dataframe tbody tr th:only-of-type {\n        vertical-align: middle;\n    }\n\n    .dataframe tbody tr th {\n        vertical-align: top;\n    }\n\n    .dataframe thead th {\n        text-align: right;\n    }\n</style>\n<table border=\"1\" class=\"dataframe\">\n  <thead>\n    <tr style=\"text-align: right;\">\n      <th></th>\n      <th>calendar_day</th>\n      <th>year</th>\n      <th>month</th>\n      <th>week</th>\n      <th>block</th>\n      <th>IN_tons</th>\n      <th>PR_ton</th>\n      <th>SO_order_qty_sales_units</th>\n      <th>SH_shipment_tons</th>\n    </tr>\n  </thead>\n  <tbody>\n    <tr>\n      <th>0</th>\n      <td>2016-01-02</td>\n      <td>2016</td>\n      <td>1</td>\n      <td>53</td>\n      <td>5\" ANG</td>\n      <td>0.0</td>\n      <td>0.0</td>\n      <td>39.0000</td>\n      <td>0.0</td>\n    </tr>\n    <tr>\n      <th>1</th>\n      <td>2016-01-02</td>\n      <td>2016</td>\n      <td>1</td>\n      <td>53</td>\n      <td>5\" FLT</td>\n      <td>0.0</td>\n      <td>0.0</td>\n      <td>3.0600</td>\n      <td>0.0</td>\n    </tr>\n    <tr>\n      <th>2</th>\n      <td>2016-01-03</td>\n      <td>2016</td>\n      <td>1</td>\n      <td>53</td>\n      <td>1\" FLT</td>\n      <td>0.0</td>\n      <td>0.0</td>\n      <td>10.0980</td>\n      <td>0.0</td>\n    </tr>\n    <tr>\n      <th>3</th>\n      <td>2016-01-03</td>\n      <td>2016</td>\n      <td>1</td>\n      <td>53</td>\n      <td>1\" SB FLT</td>\n      <td>0.0</td>\n      <td>0.0</td>\n      <td>22.5600</td>\n      <td>0.0</td>\n    </tr>\n    <tr>\n      <th>4</th>\n      <td>2016-01-03</td>\n      <td>2016</td>\n      <td>1</td>\n      <td>53</td>\n      <td>1-2\" LRG FLT</td>\n      <td>0.0</td>\n      <td>0.0</td>\n      <td>4.9385</td>\n      <td>0.0</td>\n    </tr>\n  </tbody>\n</table>\n</div>"
     },
     "metadata": {},
     "execution_count": 9
    }
   ],
   "source": [
    "structural.head()"
   ]
  },
  {
   "cell_type": "markdown",
   "metadata": {},
   "source": [
    "## Include Indicators?"
   ]
  },
  {
   "cell_type": "code",
   "execution_count": 10,
   "metadata": {},
   "outputs": [],
   "source": [
    "## Merge by month with indicators and stip model in cycle amounts"
   ]
  },
  {
   "cell_type": "markdown",
   "metadata": {},
   "source": [
    "## Train Test Split for Time Series"
   ]
  },
  {
   "cell_type": "code",
   "execution_count": 6,
   "metadata": {},
   "outputs": [
    {
     "output_type": "stream",
     "name": "stdout",
     "text": "TRAIN:  [2016] TEST:  [2017]\nTRAIN:  [2016, 2017] TEST:  [2018]\nTRAIN:  [2016, 2017, 2018] TEST:  [2019]\nTRAIN:  [2016, 2017, 2018, 2019] TEST:  [2020]\n"
    }
   ],
   "source": [
    "year_list = structural['year'].unique().tolist()\n",
    "splits = {'train': [], 'test': []}\n",
    "\n",
    "#note exception, we only have 3 series (2019 + 2020) should be aggregated because we only have a couple day-points in 2020\n",
    "for idx, yr in enumerate(year_list[:-1]):\n",
    "    train_yr = year_list[:idx+1]\n",
    "    test_yr = [year_list[idx+1]]\n",
    "    print('TRAIN: ', train_yr, 'TEST: ',test_yr)\n",
    "\n",
    "    splits['train'].append(structural.loc[structural.year.isin(train_yr), :])\n",
    "    splits['test'].append(structural.loc[structural.year.isin(test_yr), :])"
   ]
  },
  {
   "cell_type": "code",
   "execution_count": 9,
   "metadata": {},
   "outputs": [],
   "source": [
    "train = splits['train'][2]"
   ]
  },
  {
   "cell_type": "markdown",
   "metadata": {},
   "source": [
    "## Data Prep for LSTM"
   ]
  },
  {
   "cell_type": "code",
   "execution_count": null,
   "metadata": {},
   "outputs": [],
   "source": [
    "## Scale?\n",
    "## Encode?\n",
    "## Input size: sample, time_step, n_features"
   ]
  },
  {
   "cell_type": "code",
   "execution_count": null,
   "metadata": {},
   "outputs": [],
   "source": []
  },
  {
   "cell_type": "code",
   "execution_count": null,
   "metadata": {},
   "outputs": [],
   "source": []
  },
  {
   "cell_type": "markdown",
   "metadata": {},
   "source": [
    "## Univariate Base Model"
   ]
  },
  {
   "cell_type": "code",
   "execution_count": null,
   "metadata": {},
   "outputs": [],
   "source": []
  },
  {
   "cell_type": "code",
   "execution_count": null,
   "metadata": {},
   "outputs": [],
   "source": []
  },
  {
   "cell_type": "markdown",
   "metadata": {},
   "source": [
    "## Multivariate single-step"
   ]
  },
  {
   "cell_type": "code",
   "execution_count": null,
   "metadata": {},
   "outputs": [],
   "source": []
  },
  {
   "cell_type": "code",
   "execution_count": null,
   "metadata": {},
   "outputs": [],
   "source": []
  },
  {
   "cell_type": "markdown",
   "metadata": {},
   "source": [
    "## Multivariate multi-step (multiple future predictions)"
   ]
  },
  {
   "cell_type": "code",
   "execution_count": null,
   "metadata": {},
   "outputs": [],
   "source": []
  },
  {
   "cell_type": "code",
   "execution_count": null,
   "metadata": {},
   "outputs": [],
   "source": []
  }
 ],
 "metadata": {
  "language_info": {
   "codemirror_mode": {
    "name": "ipython",
    "version": 3
   },
   "file_extension": ".py",
   "mimetype": "text/x-python",
   "name": "python",
   "nbconvert_exporter": "python",
   "pygments_lexer": "ipython3",
   "version": "3.7.6-final"
  },
  "orig_nbformat": 2,
  "kernelspec": {
   "name": "python37664bitpftpipenv41a3325616004cea923f5375811f25e4",
   "display_name": "Python 3.7.6 64-bit ('pft': pipenv)"
  }
 },
 "nbformat": 4,
 "nbformat_minor": 2
}