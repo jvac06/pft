{
 "cells": [
  {
   "cell_type": "code",
   "execution_count": 1,
   "metadata": {},
   "outputs": [
    {
     "output_type": "stream",
     "name": "stdout",
     "text": "2.1.0\n2.2.4-tf\n"
    }
   ],
   "source": [
    "#Dependencies\n",
    "import os\n",
    "import numpy as np\n",
    "import pandas as pd\n",
    "import tensorflow as tf\n",
    "from tensorflow import keras\n",
    "print(tf.__version__)\n",
    "print(keras.__version__)"
   ]
  },
  {
   "cell_type": "markdown",
   "metadata": {},
   "source": [
    "## Importing Structural Data"
   ]
  },
  {
   "cell_type": "code",
   "execution_count": 2,
   "metadata": {},
   "outputs": [],
   "source": [
    "#File directory\n",
    "ser_path = \"./serialized/\"\n",
    "#change directory to datasets\n",
    "os.chdir(\"../datasets\")"
   ]
  },
  {
   "cell_type": "code",
   "execution_count": 3,
   "metadata": {},
   "outputs": [],
   "source": [
    "structural = pd.read_pickle(ser_path + \"structural_merged.pkl\")"
   ]
  },
  {
   "cell_type": "code",
   "execution_count": 4,
   "metadata": {},
   "outputs": [],
   "source": [
    "structural = structural.groupby(['calendar_day','year','month', 'week','block']).sum()\n",
    "structural = structural.reset_index()"
   ]
  },
  {
   "cell_type": "code",
   "execution_count": 8,
   "metadata": {},
   "outputs": [
    {
     "output_type": "execute_result",
     "data": {
      "text/plain": "Index(['calendar_day', 'year', 'month', 'week', 'block', 'IN_tons',\n       'SO_order_qty_sales_units', 'SH_shipment_tons', 'PR_ton'],\n      dtype='object')"
     },
     "metadata": {},
     "execution_count": 8
    }
   ],
   "source": [
    "structural.columns"
   ]
  },
  {
   "cell_type": "code",
   "execution_count": null,
   "metadata": {},
   "outputs": [],
   "source": [
    "#rearanging columns\n",
    "structural = structural[['calendar_day', 'year', 'month', 'week', \n",
    "                        'block', 'IN_tons', 'PR_ton',\n",
    "                        'SO_order_qty_sales_units', 'SH_shipment_tons']]"
   ]
  },
  {
   "cell_type": "code",
   "execution_count": 5,
   "metadata": {},
   "outputs": [
    {
     "output_type": "execute_result",
     "data": {
      "text/plain": "(50323, 9)"
     },
     "metadata": {},
     "execution_count": 5
    }
   ],
   "source": [
    "structural.shape"
   ]
  },
  {
   "cell_type": "markdown",
   "metadata": {},
   "source": [
    "### Include Indicators?"
   ]
  },
  {
   "cell_type": "markdown",
   "metadata": {},
   "source": [
    "## Train Test Split for Time Series"
   ]
  },
  {
   "cell_type": "code",
   "execution_count": 6,
   "metadata": {},
   "outputs": [
    {
     "output_type": "stream",
     "name": "stdout",
     "text": "TRAIN:  [2016] TEST:  [2017]\nTRAIN:  [2016, 2017] TEST:  [2018]\nTRAIN:  [2016, 2017, 2018] TEST:  [2019]\nTRAIN:  [2016, 2017, 2018, 2019] TEST:  [2020]\n"
    }
   ],
   "source": [
    "year_list = structural['year'].unique().tolist()\n",
    "splits = {'train': [], 'test': []}\n",
    "\n",
    "#note exception, we only have 3 series (2019 + 2020) should be aggregated because we only have a couple day-points in 2020\n",
    "for idx, yr in enumerate(year_list[:-1]):\n",
    "    train_yr = year_list[:idx+1]\n",
    "    test_yr = [year_list[idx+1]]\n",
    "    print('TRAIN: ', train_yr, 'TEST: ',test_yr)\n",
    "\n",
    "    splits['train'].append(structural.loc[structural.year.isin(train_yr), :])\n",
    "    splits['test'].append(structural.loc[structural.year.isin(test_yr), :])"
   ]
  },
  {
   "cell_type": "code",
   "execution_count": 9,
   "metadata": {},
   "outputs": [],
   "source": [
    "train = splits['train'][2]"
   ]
  },
  {
   "cell_type": "markdown",
   "metadata": {},
   "source": [
    "## Data Prep for LSTM"
   ]
  },
  {
   "cell_type": "code",
   "execution_count": null,
   "metadata": {},
   "outputs": [],
   "source": [
    "## Scale?\n",
    "## Encode?\n",
    "## Input size: sample, time_step, n_features"
   ]
  },
  {
   "cell_type": "code",
   "execution_count": null,
   "metadata": {},
   "outputs": [],
   "source": []
  },
  {
   "cell_type": "code",
   "execution_count": null,
   "metadata": {},
   "outputs": [],
   "source": []
  },
  {
   "cell_type": "markdown",
   "metadata": {},
   "source": [
    "## Univariate Base Model"
   ]
  },
  {
   "cell_type": "code",
   "execution_count": null,
   "metadata": {},
   "outputs": [],
   "source": []
  },
  {
   "cell_type": "code",
   "execution_count": null,
   "metadata": {},
   "outputs": [],
   "source": []
  },
  {
   "cell_type": "markdown",
   "metadata": {},
   "source": [
    "## Multivariate single-step"
   ]
  },
  {
   "cell_type": "code",
   "execution_count": null,
   "metadata": {},
   "outputs": [],
   "source": []
  },
  {
   "cell_type": "code",
   "execution_count": null,
   "metadata": {},
   "outputs": [],
   "source": []
  },
  {
   "cell_type": "markdown",
   "metadata": {},
   "source": [
    "## Multivariate multi-step (multiple future predictions)"
   ]
  },
  {
   "cell_type": "code",
   "execution_count": null,
   "metadata": {},
   "outputs": [],
   "source": []
  },
  {
   "cell_type": "code",
   "execution_count": null,
   "metadata": {},
   "outputs": [],
   "source": []
  }
 ],
 "metadata": {
  "language_info": {
   "codemirror_mode": {
    "name": "ipython",
    "version": 3
   },
   "file_extension": ".py",
   "mimetype": "text/x-python",
   "name": "python",
   "nbconvert_exporter": "python",
   "pygments_lexer": "ipython3",
   "version": "3.7.6-final"
  },
  "orig_nbformat": 2,
  "kernelspec": {
   "name": "python37664bitpftpipenv41a3325616004cea923f5375811f25e4",
   "display_name": "Python 3.7.6 64-bit ('pft': pipenv)"
  }
 },
 "nbformat": 4,
 "nbformat_minor": 2
}