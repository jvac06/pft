{
 "cells": [
  {
   "cell_type": "code",
   "execution_count": 33,
   "metadata": {},
   "outputs": [],
   "source": [
    "#Dependencies\n",
    "import numpy as np\n",
    "import pandas as pd\n",
    "import datetime as dt\n",
    "import re"
   ]
  },
  {
   "cell_type": "code",
   "execution_count": 34,
   "metadata": {},
   "outputs": [
    {
     "output_type": "execute_result",
     "data": {
      "text/plain": "'/Users/jacosta3/OneDrive - University of South Florida/Gerdau Projects/pft/datasets'"
     },
     "metadata": {},
     "execution_count": 34
    }
   ],
   "source": [
    "os.getcwd()"
   ]
  },
  {
   "cell_type": "markdown",
   "metadata": {},
   "source": [
    "## Fetching Indicators info"
   ]
  },
  {
   "cell_type": "code",
   "execution_count": 35,
   "metadata": {},
   "outputs": [],
   "source": [
    "#File directory\n",
    "ser_path = \"./serialized/\"\n",
    "path = \"./merged_clean/\"\n",
    "#change directory to datasets\n",
    "os.chdir(\"../datasets\")"
   ]
  },
  {
   "cell_type": "code",
   "execution_count": 36,
   "metadata": {},
   "outputs": [],
   "source": [
    "indicators = pd.read_excel(path+\"market_indicators.xlsx\",sheet_name=\"Monthly\")"
   ]
  },
  {
   "cell_type": "code",
   "execution_count": 37,
   "metadata": {},
   "outputs": [
    {
     "output_type": "stream",
     "name": "stdout",
     "text": "<class 'pandas.core.frame.DataFrame'>\nRangeIndex: 124 entries, 0 to 123\nData columns (total 17 columns):\n #   Column                                               Non-Null Count  Dtype         \n---  ------                                               --------------  -----         \n 0   dd/mm/yy                                             124 non-null    datetime64[ns]\n 1   Year                                                 124 non-null    int64         \n 2   Month                                                124 non-null    object        \n 3   National Architect Billing/monthly                   121 non-null    float64       \n 4   Total Federal Construction/Billion $                 121 non-null    float64       \n 5   Total State and Local Construction/Billion $         121 non-null    float64       \n 6   US Steel Capacity Utilization                        109 non-null    float64       \n 7   US Long Steel/million $ per short ton                26 non-null     float64       \n 8   US Domestic Hot-Rolled Coil/Million $ per short ton  26 non-null     float64       \n 9   MSCI Carbon bar monthly shipments                    121 non-null    float64       \n 10  MSCI Carbon bar monthly shipments (canada)           121 non-null    float64       \n 11  Structural Shipments /USA                            121 non-null    float64       \n 12  Structural Shipments /Canada                         121 non-null    float64       \n 13  ISM Manufacturing                                    122 non-null    float64       \n 14  ISM Non Manufacturing                                123 non-null    float64       \n 15  Global Steel Utilization                             117 non-null    float64       \n 16  Chicago#1 Scrap Bushelling                           50 non-null     float64       \ndtypes: datetime64[ns](1), float64(14), int64(1), object(1)\nmemory usage: 16.6+ KB\n"
    }
   ],
   "source": [
    "indicators.info()"
   ]
  },
  {
   "cell_type": "markdown",
   "metadata": {},
   "source": [
    "## Cleaning Columns"
   ]
  },
  {
   "cell_type": "code",
   "execution_count": 38,
   "metadata": {},
   "outputs": [],
   "source": [
    "def clean_columns(dataframe):\n",
    "    for col in dataframe.columns:\n",
    "        dataframe.rename(columns={col:re.sub(r'([a-z](?=[A-Z])|[A-Z](?=[A-Z][a-z]))', r'\\1 ', col)}, inplace=True)\n",
    "    dataframe.columns = dataframe.columns.str.strip().str.lower().str.replace(\" \",\"_\")\n",
    "    try:\n",
    "        dataframe[\"calendar_day\"] = dataframe[\"calendar_day\"].astype(\"datetime64\")\n",
    "    except:\n",
    "        pass\n",
    "    try:\n",
    "        dataframe[\"requested_date\"] = dataframe[\"requested_date\"].astype(\"datetime64\")\n",
    "        dataframe[\"confirmed_date\"] = dataframe[\"confirmed_date\"].astype(\"datetime64\")\n",
    "        dataframe[\"material_avail_date\"] = dataframe[\"material_avail_date\"].astype(\"datetime64\")\n",
    "        dataframe[\"load_date\"] = dataframe[\"load_date\"].astype(\"datetime64\")\n",
    "        dataframe[\"plan_goods_issue_date\"] = dataframe[\"plan_goods_issue_date\"].astype(\"datetime64\")\n",
    "    except:\n",
    "        pass\n",
    "    try:\n",
    "        dataframe[\"snapshot_date\"] = dataframe[\"snapshot_date\"].astype(\"datetime64\")\n",
    "    finally:\n",
    "        return dataframe.columns"
   ]
  },
  {
   "cell_type": "code",
   "execution_count": 39,
   "metadata": {},
   "outputs": [
    {
     "output_type": "execute_result",
     "data": {
      "text/plain": "Index(['dd/mm/yy', 'year', 'month', 'national_architect_billing/monthly',\n       'total_federal_construction/billion_$',\n       'total_state_and_local_construction/billion_$',\n       'us_steel_capacity_utilization',\n       'us_long_steel/million_$_per_short_ton',\n       'us_domestic_hot-rolled_coil/million_$_per_short_ton',\n       'msci_carbon_bar_monthly_shipments',\n       'msci_carbon_bar_monthly_shipments_(canada)',\n       'structural_shipments_/usa', 'structural_shipments_/canada',\n       'ism_manufacturing', 'ism_non_manufacturing',\n       'global_steel_utilization', 'chicago#1_scrap_bushelling'],\n      dtype='object')"
     },
     "metadata": {},
     "execution_count": 39
    }
   ],
   "source": [
    "clean_columns(indicators)"
   ]
  },
  {
   "cell_type": "markdown",
   "metadata": {},
   "source": [
    "### Create Month & Year Columns"
   ]
  },
  {
   "cell_type": "code",
   "execution_count": 40,
   "metadata": {},
   "outputs": [],
   "source": [
    "indicators['year'] = indicators['dd/mm/yy'].dt.year\n",
    "indicators['month'] = indicators['dd/mm/yy'].dt.month"
   ]
  },
  {
   "cell_type": "markdown",
   "metadata": {},
   "source": [
    "### Rename Columns"
   ]
  },
  {
   "cell_type": "code",
   "execution_count": 41,
   "metadata": {},
   "outputs": [
    {
     "output_type": "execute_result",
     "data": {
      "text/plain": "Index(['dd/mm/yy', 'year', 'month', 'national_architect_billing/monthly',\n       'total_federal_construction/billion_$',\n       'total_state_and_local_construction/billion_$',\n       'us_steel_capacity_utilization',\n       'us_long_steel/million_$_per_short_ton',\n       'us_domestic_hot-rolled_coil/million_$_per_short_ton',\n       'msci_carbon_bar_monthly_shipments',\n       'msci_carbon_bar_monthly_shipments_(canada)',\n       'structural_shipments_/usa', 'structural_shipments_/canada',\n       'ism_manufacturing', 'ism_non_manufacturing',\n       'global_steel_utilization', 'chicago#1_scrap_bushelling'],\n      dtype='object')"
     },
     "metadata": {},
     "execution_count": 41
    }
   ],
   "source": [
    "indicators.columns"
   ]
  },
  {
   "cell_type": "code",
   "execution_count": 42,
   "metadata": {},
   "outputs": [],
   "source": [
    "#Remane column & pick only desired ones \n",
    "indicators = indicators.rename(columns={'dd/mm/yy':'calendar_day',\n",
    "                                        'total_federal_construction/billion_$':'fed_construction$B',                                                              'total_state_and_local_construction/billion_$':'state_local_construction$B',\n",
    "                                        'msci_carbon_bar_monthly_shipments':'carbon_bar_ship_usa',\n",
    "                                        'msci_carbon_bar_monthly_shipments_(canada)':'carbon_bar_ship_canada',\n",
    "                                        'structural_shipments_/usa':'structural_ship_usa', \n",
    "                                        'structural_shipments_/canada':'structural_ship_canada',\n",
    "                                        'chicago#1_scrap_bushelling':'chicago_scrap$ST'})\n",
    "indicators = indicators[['calendar_day','year','month', 'global_steel_utilization','fed_construction$B',                                           'state_local_construction$B','carbon_bar_ship_usa','carbon_bar_ship_canada',                                              'structural_ship_usa','structural_ship_canada', 'ism_manufacturing', 'ism_non_manufacturing',                             'chicago_scrap$ST']]"
   ]
  },
  {
   "cell_type": "markdown",
   "metadata": {},
   "source": [
    "### Selecting 2016 dates on"
   ]
  },
  {
   "cell_type": "code",
   "execution_count": 43,
   "metadata": {},
   "outputs": [],
   "source": [
    "#select 2016-2020\n",
    "indicators = indicators[(indicators['calendar_day'].dt.year >= 2016) & (indicators['calendar_day'] <='2020-01-01')]"
   ]
  },
  {
   "cell_type": "code",
   "execution_count": 44,
   "metadata": {},
   "outputs": [
    {
     "output_type": "stream",
     "name": "stdout",
     "text": "<class 'pandas.core.frame.DataFrame'>\nInt64Index: 49 entries, 72 to 120\nData columns (total 13 columns):\n #   Column                      Non-Null Count  Dtype         \n---  ------                      --------------  -----         \n 0   calendar_day                49 non-null     datetime64[ns]\n 1   year                        49 non-null     int64         \n 2   month                       49 non-null     int64         \n 3   global_steel_utilization    45 non-null     float64       \n 4   fed_construction$B          49 non-null     float64       \n 5   state_local_construction$B  49 non-null     float64       \n 6   carbon_bar_ship_usa         49 non-null     float64       \n 7   carbon_bar_ship_canada      49 non-null     float64       \n 8   structural_ship_usa         49 non-null     float64       \n 9   structural_ship_canada      49 non-null     float64       \n 10  ism_manufacturing           49 non-null     float64       \n 11  ism_non_manufacturing       49 non-null     float64       \n 12  chicago_scrap$ST            49 non-null     float64       \ndtypes: datetime64[ns](1), float64(10), int64(2)\nmemory usage: 5.4 KB\n"
    }
   ],
   "source": [
    "indicators.info()"
   ]
  },
  {
   "cell_type": "markdown",
   "metadata": {},
   "source": [
    "### Fill NaNs"
   ]
  },
  {
   "cell_type": "code",
   "execution_count": 45,
   "metadata": {},
   "outputs": [],
   "source": [
    "#filling NaNs - assumption gradual increase \n",
    "values = {36:0.7768,37:0.7915,38:0.8063,39:0.8210}\n",
    "indicators['global_steel_utilization'] = indicators['global_steel_utilization'].fillna(value=values, axis=0)"
   ]
  },
  {
   "cell_type": "code",
   "execution_count": 46,
   "metadata": {},
   "outputs": [
    {
     "output_type": "stream",
     "name": "stdout",
     "text": "<class 'pandas.core.frame.DataFrame'>\nInt64Index: 49 entries, 72 to 120\nData columns (total 13 columns):\n #   Column                      Non-Null Count  Dtype         \n---  ------                      --------------  -----         \n 0   calendar_day                49 non-null     datetime64[ns]\n 1   year                        49 non-null     int64         \n 2   month                       49 non-null     int64         \n 3   global_steel_utilization    45 non-null     float64       \n 4   fed_construction$B          49 non-null     float64       \n 5   state_local_construction$B  49 non-null     float64       \n 6   carbon_bar_ship_usa         49 non-null     float64       \n 7   carbon_bar_ship_canada      49 non-null     float64       \n 8   structural_ship_usa         49 non-null     float64       \n 9   structural_ship_canada      49 non-null     float64       \n 10  ism_manufacturing           49 non-null     float64       \n 11  ism_non_manufacturing       49 non-null     float64       \n 12  chicago_scrap$ST            49 non-null     float64       \ndtypes: datetime64[ns](1), float64(10), int64(2)\nmemory usage: 5.4 KB\n"
    }
   ],
   "source": [
    "indicators.info()"
   ]
  },
  {
   "cell_type": "code",
   "execution_count": 47,
   "metadata": {},
   "outputs": [
    {
     "output_type": "execute_result",
     "data": {
      "text/plain": "    calendar_day  year  month  global_steel_utilization  fed_construction$B  \\\n72    2016-01-01  2016      1                    0.6600              1583.0   \n73    2016-02-01  2016      2                    0.6600              1840.0   \n74    2016-03-01  2016      3                    0.7070              1844.0   \n75    2016-04-01  2016      4                    0.7050              1703.0   \n76    2016-05-01  2016      5                    0.7130              1888.0   \n77    2016-06-01  2016      6                    0.6940              1931.0   \n78    2016-07-01  2016      7                    0.6830              1747.0   \n79    2016-08-01  2016      8                    0.6850              1999.0   \n80    2016-09-01  2016      9                    0.6850              2405.0   \n81    2016-10-01  2016     10                    0.6850              1678.0   \n82    2016-11-01  2016     11                    0.6980              1853.0   \n83    2016-12-01  2016     12                    0.6820              2026.0   \n84    2017-01-01  2017      1                    0.7030              1564.0   \n85    2017-02-01  2017      2                    0.7150              1678.0   \n86    2017-03-01  2017      3                    0.7230              1924.0   \n87    2017-04-01  2017      4                    0.7450              1713.0   \n88    2017-05-01  2017      5                    0.7350              2059.0   \n89    2017-06-01  2017      6                    0.7470              1905.0   \n90    2017-07-01  2017      7                    0.7380              1749.0   \n91    2017-08-01  2017      8                    0.7270              1848.0   \n92    2017-09-01  2017      9                    0.7390              2271.0   \n93    2017-10-01  2017     10                    0.7280              1883.0   \n94    2017-11-01  2017     11                    0.7090              1906.0   \n95    2017-12-01  2017     12                    0.6940              2235.0   \n96    2018-01-01  2018      1                    0.7270              2199.0   \n97    2018-02-01  2018      2                    0.7340              2315.0   \n98    2018-03-01  2018      3                    0.7470              1689.0   \n99    2018-04-01  2018      4                    0.7710              1630.0   \n100   2018-05-01  2018      5                    0.7760              1854.0   \n101   2018-06-01  2018      6                    0.7890              1790.0   \n102   2018-07-01  2018      7                    0.7750              1771.0   \n103   2018-08-01  2018      8                    0.7603              2025.0   \n104   2018-09-01  2018      9                    0.7620              2248.0   \n105   2018-10-01  2018     10                    0.7620              1818.0   \n106   2018-11-01  2018     11                    0.7620              1880.0   \n107   2018-12-01  2018     12                    0.7620              1783.0   \n108   2019-01-01  2019      1                       NaN              1601.0   \n109   2019-02-01  2019      2                       NaN              1785.0   \n110   2019-03-01  2019      3                       NaN              1780.0   \n111   2019-04-01  2019      4                       NaN              1880.0   \n112   2019-05-01  2019      5                    0.8210              1977.0   \n113   2019-06-01  2019      6                    0.8200              2007.0   \n114   2019-07-01  2019      7                    0.8060              2045.0   \n115   2019-08-01  2019      8                    0.8020              2146.0   \n116   2019-09-01  2019      9                    0.7830              2590.0   \n117   2019-10-01  2019     10                    0.7820              1992.0   \n118   2019-11-01  2019     11                    0.7930              2026.0   \n119   2019-12-01  2019     12                    0.7980              2103.0   \n120   2020-01-01  2020      1                    0.8190              1970.0   \n\n     state_local_construction$B  carbon_bar_ship_usa  carbon_bar_ship_canada  \\\n72                      16684.0             204300.0                 30800.0   \n73                      17198.0             205400.0                 31000.0   \n74                      18555.0             221200.0                 31400.0   \n75                      20187.0             204600.0                 31200.0   \n76                      21954.0             200500.0                 29700.0   \n77                      25562.0             208400.0                 33200.0   \n78                      25352.0             179300.0                 27700.0   \n79                      26663.0             206800.0                 30100.0   \n80                      25578.0             192500.0                 29200.0   \n81                      25218.0             194200.0                 28500.0   \n82                      22117.0             189600.0                 32300.0   \n83                      17951.0             171700.0                 22400.0   \n84                      15558.0             226300.0                 32900.0   \n85                      16242.0             219300.0                 28500.0   \n86                      17953.0             257400.0                 34900.0   \n87                      19315.0             219100.0                 28500.0   \n88                      22013.0             241800.0                 34000.0   \n89                      23970.0             243300.0                 33200.0   \n90                      24408.0             205900.0                 29200.0   \n91                      26315.0             246900.0                 31400.0   \n92                      25388.0             220400.0                 31400.0   \n93                      25002.0             241800.0                 33800.0   \n94                      22248.0             219000.0                 33700.0   \n95                      18835.0             195400.0                 24100.0   \n96                      16621.0             247100.0                 34200.0   \n97                      16784.0             231000.0                 30600.0   \n98                      18625.0             255200.0                 34700.0   \n99                      21280.0             243100.0                 31900.0   \n100                     24611.0             251100.0                 33000.0   \n101                     27210.0             239800.0                 33300.0   \n102                     28149.0             221800.0                 28600.0   \n103                     29939.0             250500.0                 33200.0   \n104                     27521.0             206600.0                 29200.0   \n105                     26841.0             244700.0                 34400.0   \n106                     23202.0             205600.0                 33300.0   \n107                     19153.0             177300.0                 21900.0   \n108                     18166.0             222800.0                 34800.0   \n109                     18809.0             201900.0                 30500.0   \n110                     20676.0             208300.0                 34800.0   \n111                     24422.0             212300.0                 34400.0   \n112                     27081.0             207600.0                 36500.0   \n113                     28994.0             186600.0                 32500.0   \n114                     30719.0             194800.0                 31100.0   \n115                     31328.0             197600.0                 31900.0   \n116                     30251.0             179000.0                 30900.0   \n117                     29142.0             199800.0                 34100.0   \n118                     25357.0             159600.0                 32600.0   \n119                     21521.0             147200.0                 24700.0   \n120                     19685.0             198100.0                 37400.0   \n\n     structural_ship_usa  structural_ship_canada  ism_manufacturing  \\\n72              175300.0                 38700.0               48.2   \n73              187000.0                 37500.0               49.5   \n74              203900.0                 38400.0               51.8   \n75              193800.0                 37400.0               50.8   \n76              191440.0                 36600.0               51.3   \n77              206400.0                 40000.0               53.2   \n78              178000.0                 35600.0               52.6   \n79              210800.0                 38300.0               49.4   \n80              188800.0                 37600.0               51.5   \n81              191000.0                 38300.0               51.9   \n82              179300.0                 41200.0               53.2   \n83              174600.0                 28400.0               54.5   \n84              195700.0                 35700.0               56.0   \n85              180400.0                 32200.0               57.7   \n86              217100.0                 37300.0               57.2   \n87              188400.0                 30700.0               54.8   \n88              207300.0                 38700.0               54.9   \n89              216300.0                 38700.0               57.8   \n90              191200.0                 38200.0               56.3   \n91              229600.0                 41500.0               58.8   \n92              200100.0                 39400.0               60.8   \n93              220200.0                 42200.0               58.7   \n94              201000.0                 47200.0               58.2   \n95              183400.0                 30700.0               59.7   \n96              218000.0                 37400.0               59.1   \n97              196500.0                 35300.0               60.8   \n98              234500.0                 39300.0               59.3   \n99              223200.0                 37700.0               57.3   \n100             230400.0                 39300.0               58.7   \n101             216100.0                 39100.0               60.2   \n102             214500.0                 36800.0               58.1   \n103             231500.0                 38500.0               61.3   \n104             193100.0                 33300.0               59.8   \n105             220800.0                 41200.0               57.7   \n106             189200.0                 38000.0               59.3   \n107             174200.0                 25500.0               54.3   \n108             201600.0                 34200.0               56.6   \n109             175600.0                 30900.0               54.2   \n110             191300.0                 34000.0               55.3   \n111             197700.0                 33400.0               52.8   \n112             202200.0                 40200.0               52.1   \n113             184000.0                 36700.0               51.7   \n114             201100.0                 36900.0               51.2   \n115             208600.0                 38500.0               49.1   \n116             195800.0                 37300.0               47.8   \n117             217100.0                 38500.0               48.3   \n118             176900.0                 35400.0               48.1   \n119             170700.0                 24700.0               47.2   \n120             202700.0                 33500.0               50.9   \n\n     ism_non_manufacturing  chicago_scrap$ST  \n72                    53.5             180.0  \n73                    53.4             180.0  \n74                    54.5             195.0  \n75                    55.7             245.0  \n76                    52.9             275.0  \n77                    56.5             275.0  \n78                    55.5             275.0  \n79                    51.4             265.0  \n80                    57.1             235.0  \n81                    54.8             205.0  \n82                    57.2             235.0  \n83                    56.6             275.0  \n84                    56.5             315.0  \n85                    57.6             305.0  \n86                    55.2             370.0  \n87                    57.5             350.0  \n88                    56.9             350.0  \n89                    57.4             350.0  \n90                    53.9             350.0  \n91                    55.3             365.0  \n92                    59.8             365.0  \n93                    60.1             325.0  \n94                    57.4             325.0  \n95                    55.9             345.0  \n96                    59.9             375.0  \n97                    59.5             375.0  \n98                    58.8             375.0  \n99                    56.8             385.0  \n100                   58.6             385.0  \n101                   59.1             395.0  \n102                   55.7             405.0  \n103                   58.5             395.0  \n104                   61.6             375.0  \n105                   60.3             395.0  \n106                   60.7             405.0  \n107                   58.0             405.0  \n108                   56.7             375.0  \n109                   59.7             355.0  \n110                   56.1             375.0  \n111                   55.5             350.0  \n112                   56.9             315.0  \n113                   55.1             285.0  \n114                   53.7             280.0  \n115                   56.4             300.0  \n116                   52.6             260.0  \n117                   54.7             220.0  \n118                   53.9             240.0  \n119                   54.9             270.0  \n120                   55.5             300.0  ",
      "text/html": "<div>\n<style scoped>\n    .dataframe tbody tr th:only-of-type {\n        vertical-align: middle;\n    }\n\n    .dataframe tbody tr th {\n        vertical-align: top;\n    }\n\n    .dataframe thead th {\n        text-align: right;\n    }\n</style>\n<table border=\"1\" class=\"dataframe\">\n  <thead>\n    <tr style=\"text-align: right;\">\n      <th></th>\n      <th>calendar_day</th>\n      <th>year</th>\n      <th>month</th>\n      <th>global_steel_utilization</th>\n      <th>fed_construction$B</th>\n      <th>state_local_construction$B</th>\n      <th>carbon_bar_ship_usa</th>\n      <th>carbon_bar_ship_canada</th>\n      <th>structural_ship_usa</th>\n      <th>structural_ship_canada</th>\n      <th>ism_manufacturing</th>\n      <th>ism_non_manufacturing</th>\n      <th>chicago_scrap$ST</th>\n    </tr>\n  </thead>\n  <tbody>\n    <tr>\n      <th>72</th>\n      <td>2016-01-01</td>\n      <td>2016</td>\n      <td>1</td>\n      <td>0.6600</td>\n      <td>1583.0</td>\n      <td>16684.0</td>\n      <td>204300.0</td>\n      <td>30800.0</td>\n      <td>175300.0</td>\n      <td>38700.0</td>\n      <td>48.2</td>\n      <td>53.5</td>\n      <td>180.0</td>\n    </tr>\n    <tr>\n      <th>73</th>\n      <td>2016-02-01</td>\n      <td>2016</td>\n      <td>2</td>\n      <td>0.6600</td>\n      <td>1840.0</td>\n      <td>17198.0</td>\n      <td>205400.0</td>\n      <td>31000.0</td>\n      <td>187000.0</td>\n      <td>37500.0</td>\n      <td>49.5</td>\n      <td>53.4</td>\n      <td>180.0</td>\n    </tr>\n    <tr>\n      <th>74</th>\n      <td>2016-03-01</td>\n      <td>2016</td>\n      <td>3</td>\n      <td>0.7070</td>\n      <td>1844.0</td>\n      <td>18555.0</td>\n      <td>221200.0</td>\n      <td>31400.0</td>\n      <td>203900.0</td>\n      <td>38400.0</td>\n      <td>51.8</td>\n      <td>54.5</td>\n      <td>195.0</td>\n    </tr>\n    <tr>\n      <th>75</th>\n      <td>2016-04-01</td>\n      <td>2016</td>\n      <td>4</td>\n      <td>0.7050</td>\n      <td>1703.0</td>\n      <td>20187.0</td>\n      <td>204600.0</td>\n      <td>31200.0</td>\n      <td>193800.0</td>\n      <td>37400.0</td>\n      <td>50.8</td>\n      <td>55.7</td>\n      <td>245.0</td>\n    </tr>\n    <tr>\n      <th>76</th>\n      <td>2016-05-01</td>\n      <td>2016</td>\n      <td>5</td>\n      <td>0.7130</td>\n      <td>1888.0</td>\n      <td>21954.0</td>\n      <td>200500.0</td>\n      <td>29700.0</td>\n      <td>191440.0</td>\n      <td>36600.0</td>\n      <td>51.3</td>\n      <td>52.9</td>\n      <td>275.0</td>\n    </tr>\n    <tr>\n      <th>77</th>\n      <td>2016-06-01</td>\n      <td>2016</td>\n      <td>6</td>\n      <td>0.6940</td>\n      <td>1931.0</td>\n      <td>25562.0</td>\n      <td>208400.0</td>\n      <td>33200.0</td>\n      <td>206400.0</td>\n      <td>40000.0</td>\n      <td>53.2</td>\n      <td>56.5</td>\n      <td>275.0</td>\n    </tr>\n    <tr>\n      <th>78</th>\n      <td>2016-07-01</td>\n      <td>2016</td>\n      <td>7</td>\n      <td>0.6830</td>\n      <td>1747.0</td>\n      <td>25352.0</td>\n      <td>179300.0</td>\n      <td>27700.0</td>\n      <td>178000.0</td>\n      <td>35600.0</td>\n      <td>52.6</td>\n      <td>55.5</td>\n      <td>275.0</td>\n    </tr>\n    <tr>\n      <th>79</th>\n      <td>2016-08-01</td>\n      <td>2016</td>\n      <td>8</td>\n      <td>0.6850</td>\n      <td>1999.0</td>\n      <td>26663.0</td>\n      <td>206800.0</td>\n      <td>30100.0</td>\n      <td>210800.0</td>\n      <td>38300.0</td>\n      <td>49.4</td>\n      <td>51.4</td>\n      <td>265.0</td>\n    </tr>\n    <tr>\n      <th>80</th>\n      <td>2016-09-01</td>\n      <td>2016</td>\n      <td>9</td>\n      <td>0.6850</td>\n      <td>2405.0</td>\n      <td>25578.0</td>\n      <td>192500.0</td>\n      <td>29200.0</td>\n      <td>188800.0</td>\n      <td>37600.0</td>\n      <td>51.5</td>\n      <td>57.1</td>\n      <td>235.0</td>\n    </tr>\n    <tr>\n      <th>81</th>\n      <td>2016-10-01</td>\n      <td>2016</td>\n      <td>10</td>\n      <td>0.6850</td>\n      <td>1678.0</td>\n      <td>25218.0</td>\n      <td>194200.0</td>\n      <td>28500.0</td>\n      <td>191000.0</td>\n      <td>38300.0</td>\n      <td>51.9</td>\n      <td>54.8</td>\n      <td>205.0</td>\n    </tr>\n    <tr>\n      <th>82</th>\n      <td>2016-11-01</td>\n      <td>2016</td>\n      <td>11</td>\n      <td>0.6980</td>\n      <td>1853.0</td>\n      <td>22117.0</td>\n      <td>189600.0</td>\n      <td>32300.0</td>\n      <td>179300.0</td>\n      <td>41200.0</td>\n      <td>53.2</td>\n      <td>57.2</td>\n      <td>235.0</td>\n    </tr>\n    <tr>\n      <th>83</th>\n      <td>2016-12-01</td>\n      <td>2016</td>\n      <td>12</td>\n      <td>0.6820</td>\n      <td>2026.0</td>\n      <td>17951.0</td>\n      <td>171700.0</td>\n      <td>22400.0</td>\n      <td>174600.0</td>\n      <td>28400.0</td>\n      <td>54.5</td>\n      <td>56.6</td>\n      <td>275.0</td>\n    </tr>\n    <tr>\n      <th>84</th>\n      <td>2017-01-01</td>\n      <td>2017</td>\n      <td>1</td>\n      <td>0.7030</td>\n      <td>1564.0</td>\n      <td>15558.0</td>\n      <td>226300.0</td>\n      <td>32900.0</td>\n      <td>195700.0</td>\n      <td>35700.0</td>\n      <td>56.0</td>\n      <td>56.5</td>\n      <td>315.0</td>\n    </tr>\n    <tr>\n      <th>85</th>\n      <td>2017-02-01</td>\n      <td>2017</td>\n      <td>2</td>\n      <td>0.7150</td>\n      <td>1678.0</td>\n      <td>16242.0</td>\n      <td>219300.0</td>\n      <td>28500.0</td>\n      <td>180400.0</td>\n      <td>32200.0</td>\n      <td>57.7</td>\n      <td>57.6</td>\n      <td>305.0</td>\n    </tr>\n    <tr>\n      <th>86</th>\n      <td>2017-03-01</td>\n      <td>2017</td>\n      <td>3</td>\n      <td>0.7230</td>\n      <td>1924.0</td>\n      <td>17953.0</td>\n      <td>257400.0</td>\n      <td>34900.0</td>\n      <td>217100.0</td>\n      <td>37300.0</td>\n      <td>57.2</td>\n      <td>55.2</td>\n      <td>370.0</td>\n    </tr>\n    <tr>\n      <th>87</th>\n      <td>2017-04-01</td>\n      <td>2017</td>\n      <td>4</td>\n      <td>0.7450</td>\n      <td>1713.0</td>\n      <td>19315.0</td>\n      <td>219100.0</td>\n      <td>28500.0</td>\n      <td>188400.0</td>\n      <td>30700.0</td>\n      <td>54.8</td>\n      <td>57.5</td>\n      <td>350.0</td>\n    </tr>\n    <tr>\n      <th>88</th>\n      <td>2017-05-01</td>\n      <td>2017</td>\n      <td>5</td>\n      <td>0.7350</td>\n      <td>2059.0</td>\n      <td>22013.0</td>\n      <td>241800.0</td>\n      <td>34000.0</td>\n      <td>207300.0</td>\n      <td>38700.0</td>\n      <td>54.9</td>\n      <td>56.9</td>\n      <td>350.0</td>\n    </tr>\n    <tr>\n      <th>89</th>\n      <td>2017-06-01</td>\n      <td>2017</td>\n      <td>6</td>\n      <td>0.7470</td>\n      <td>1905.0</td>\n      <td>23970.0</td>\n      <td>243300.0</td>\n      <td>33200.0</td>\n      <td>216300.0</td>\n      <td>38700.0</td>\n      <td>57.8</td>\n      <td>57.4</td>\n      <td>350.0</td>\n    </tr>\n    <tr>\n      <th>90</th>\n      <td>2017-07-01</td>\n      <td>2017</td>\n      <td>7</td>\n      <td>0.7380</td>\n      <td>1749.0</td>\n      <td>24408.0</td>\n      <td>205900.0</td>\n      <td>29200.0</td>\n      <td>191200.0</td>\n      <td>38200.0</td>\n      <td>56.3</td>\n      <td>53.9</td>\n      <td>350.0</td>\n    </tr>\n    <tr>\n      <th>91</th>\n      <td>2017-08-01</td>\n      <td>2017</td>\n      <td>8</td>\n      <td>0.7270</td>\n      <td>1848.0</td>\n      <td>26315.0</td>\n      <td>246900.0</td>\n      <td>31400.0</td>\n      <td>229600.0</td>\n      <td>41500.0</td>\n      <td>58.8</td>\n      <td>55.3</td>\n      <td>365.0</td>\n    </tr>\n    <tr>\n      <th>92</th>\n      <td>2017-09-01</td>\n      <td>2017</td>\n      <td>9</td>\n      <td>0.7390</td>\n      <td>2271.0</td>\n      <td>25388.0</td>\n      <td>220400.0</td>\n      <td>31400.0</td>\n      <td>200100.0</td>\n      <td>39400.0</td>\n      <td>60.8</td>\n      <td>59.8</td>\n      <td>365.0</td>\n    </tr>\n    <tr>\n      <th>93</th>\n      <td>2017-10-01</td>\n      <td>2017</td>\n      <td>10</td>\n      <td>0.7280</td>\n      <td>1883.0</td>\n      <td>25002.0</td>\n      <td>241800.0</td>\n      <td>33800.0</td>\n      <td>220200.0</td>\n      <td>42200.0</td>\n      <td>58.7</td>\n      <td>60.1</td>\n      <td>325.0</td>\n    </tr>\n    <tr>\n      <th>94</th>\n      <td>2017-11-01</td>\n      <td>2017</td>\n      <td>11</td>\n      <td>0.7090</td>\n      <td>1906.0</td>\n      <td>22248.0</td>\n      <td>219000.0</td>\n      <td>33700.0</td>\n      <td>201000.0</td>\n      <td>47200.0</td>\n      <td>58.2</td>\n      <td>57.4</td>\n      <td>325.0</td>\n    </tr>\n    <tr>\n      <th>95</th>\n      <td>2017-12-01</td>\n      <td>2017</td>\n      <td>12</td>\n      <td>0.6940</td>\n      <td>2235.0</td>\n      <td>18835.0</td>\n      <td>195400.0</td>\n      <td>24100.0</td>\n      <td>183400.0</td>\n      <td>30700.0</td>\n      <td>59.7</td>\n      <td>55.9</td>\n      <td>345.0</td>\n    </tr>\n    <tr>\n      <th>96</th>\n      <td>2018-01-01</td>\n      <td>2018</td>\n      <td>1</td>\n      <td>0.7270</td>\n      <td>2199.0</td>\n      <td>16621.0</td>\n      <td>247100.0</td>\n      <td>34200.0</td>\n      <td>218000.0</td>\n      <td>37400.0</td>\n      <td>59.1</td>\n      <td>59.9</td>\n      <td>375.0</td>\n    </tr>\n    <tr>\n      <th>97</th>\n      <td>2018-02-01</td>\n      <td>2018</td>\n      <td>2</td>\n      <td>0.7340</td>\n      <td>2315.0</td>\n      <td>16784.0</td>\n      <td>231000.0</td>\n      <td>30600.0</td>\n      <td>196500.0</td>\n      <td>35300.0</td>\n      <td>60.8</td>\n      <td>59.5</td>\n      <td>375.0</td>\n    </tr>\n    <tr>\n      <th>98</th>\n      <td>2018-03-01</td>\n      <td>2018</td>\n      <td>3</td>\n      <td>0.7470</td>\n      <td>1689.0</td>\n      <td>18625.0</td>\n      <td>255200.0</td>\n      <td>34700.0</td>\n      <td>234500.0</td>\n      <td>39300.0</td>\n      <td>59.3</td>\n      <td>58.8</td>\n      <td>375.0</td>\n    </tr>\n    <tr>\n      <th>99</th>\n      <td>2018-04-01</td>\n      <td>2018</td>\n      <td>4</td>\n      <td>0.7710</td>\n      <td>1630.0</td>\n      <td>21280.0</td>\n      <td>243100.0</td>\n      <td>31900.0</td>\n      <td>223200.0</td>\n      <td>37700.0</td>\n      <td>57.3</td>\n      <td>56.8</td>\n      <td>385.0</td>\n    </tr>\n    <tr>\n      <th>100</th>\n      <td>2018-05-01</td>\n      <td>2018</td>\n      <td>5</td>\n      <td>0.7760</td>\n      <td>1854.0</td>\n      <td>24611.0</td>\n      <td>251100.0</td>\n      <td>33000.0</td>\n      <td>230400.0</td>\n      <td>39300.0</td>\n      <td>58.7</td>\n      <td>58.6</td>\n      <td>385.0</td>\n    </tr>\n    <tr>\n      <th>101</th>\n      <td>2018-06-01</td>\n      <td>2018</td>\n      <td>6</td>\n      <td>0.7890</td>\n      <td>1790.0</td>\n      <td>27210.0</td>\n      <td>239800.0</td>\n      <td>33300.0</td>\n      <td>216100.0</td>\n      <td>39100.0</td>\n      <td>60.2</td>\n      <td>59.1</td>\n      <td>395.0</td>\n    </tr>\n    <tr>\n      <th>102</th>\n      <td>2018-07-01</td>\n      <td>2018</td>\n      <td>7</td>\n      <td>0.7750</td>\n      <td>1771.0</td>\n      <td>28149.0</td>\n      <td>221800.0</td>\n      <td>28600.0</td>\n      <td>214500.0</td>\n      <td>36800.0</td>\n      <td>58.1</td>\n      <td>55.7</td>\n      <td>405.0</td>\n    </tr>\n    <tr>\n      <th>103</th>\n      <td>2018-08-01</td>\n      <td>2018</td>\n      <td>8</td>\n      <td>0.7603</td>\n      <td>2025.0</td>\n      <td>29939.0</td>\n      <td>250500.0</td>\n      <td>33200.0</td>\n      <td>231500.0</td>\n      <td>38500.0</td>\n      <td>61.3</td>\n      <td>58.5</td>\n      <td>395.0</td>\n    </tr>\n    <tr>\n      <th>104</th>\n      <td>2018-09-01</td>\n      <td>2018</td>\n      <td>9</td>\n      <td>0.7620</td>\n      <td>2248.0</td>\n      <td>27521.0</td>\n      <td>206600.0</td>\n      <td>29200.0</td>\n      <td>193100.0</td>\n      <td>33300.0</td>\n      <td>59.8</td>\n      <td>61.6</td>\n      <td>375.0</td>\n    </tr>\n    <tr>\n      <th>105</th>\n      <td>2018-10-01</td>\n      <td>2018</td>\n      <td>10</td>\n      <td>0.7620</td>\n      <td>1818.0</td>\n      <td>26841.0</td>\n      <td>244700.0</td>\n      <td>34400.0</td>\n      <td>220800.0</td>\n      <td>41200.0</td>\n      <td>57.7</td>\n      <td>60.3</td>\n      <td>395.0</td>\n    </tr>\n    <tr>\n      <th>106</th>\n      <td>2018-11-01</td>\n      <td>2018</td>\n      <td>11</td>\n      <td>0.7620</td>\n      <td>1880.0</td>\n      <td>23202.0</td>\n      <td>205600.0</td>\n      <td>33300.0</td>\n      <td>189200.0</td>\n      <td>38000.0</td>\n      <td>59.3</td>\n      <td>60.7</td>\n      <td>405.0</td>\n    </tr>\n    <tr>\n      <th>107</th>\n      <td>2018-12-01</td>\n      <td>2018</td>\n      <td>12</td>\n      <td>0.7620</td>\n      <td>1783.0</td>\n      <td>19153.0</td>\n      <td>177300.0</td>\n      <td>21900.0</td>\n      <td>174200.0</td>\n      <td>25500.0</td>\n      <td>54.3</td>\n      <td>58.0</td>\n      <td>405.0</td>\n    </tr>\n    <tr>\n      <th>108</th>\n      <td>2019-01-01</td>\n      <td>2019</td>\n      <td>1</td>\n      <td>NaN</td>\n      <td>1601.0</td>\n      <td>18166.0</td>\n      <td>222800.0</td>\n      <td>34800.0</td>\n      <td>201600.0</td>\n      <td>34200.0</td>\n      <td>56.6</td>\n      <td>56.7</td>\n      <td>375.0</td>\n    </tr>\n    <tr>\n      <th>109</th>\n      <td>2019-02-01</td>\n      <td>2019</td>\n      <td>2</td>\n      <td>NaN</td>\n      <td>1785.0</td>\n      <td>18809.0</td>\n      <td>201900.0</td>\n      <td>30500.0</td>\n      <td>175600.0</td>\n      <td>30900.0</td>\n      <td>54.2</td>\n      <td>59.7</td>\n      <td>355.0</td>\n    </tr>\n    <tr>\n      <th>110</th>\n      <td>2019-03-01</td>\n      <td>2019</td>\n      <td>3</td>\n      <td>NaN</td>\n      <td>1780.0</td>\n      <td>20676.0</td>\n      <td>208300.0</td>\n      <td>34800.0</td>\n      <td>191300.0</td>\n      <td>34000.0</td>\n      <td>55.3</td>\n      <td>56.1</td>\n      <td>375.0</td>\n    </tr>\n    <tr>\n      <th>111</th>\n      <td>2019-04-01</td>\n      <td>2019</td>\n      <td>4</td>\n      <td>NaN</td>\n      <td>1880.0</td>\n      <td>24422.0</td>\n      <td>212300.0</td>\n      <td>34400.0</td>\n      <td>197700.0</td>\n      <td>33400.0</td>\n      <td>52.8</td>\n      <td>55.5</td>\n      <td>350.0</td>\n    </tr>\n    <tr>\n      <th>112</th>\n      <td>2019-05-01</td>\n      <td>2019</td>\n      <td>5</td>\n      <td>0.8210</td>\n      <td>1977.0</td>\n      <td>27081.0</td>\n      <td>207600.0</td>\n      <td>36500.0</td>\n      <td>202200.0</td>\n      <td>40200.0</td>\n      <td>52.1</td>\n      <td>56.9</td>\n      <td>315.0</td>\n    </tr>\n    <tr>\n      <th>113</th>\n      <td>2019-06-01</td>\n      <td>2019</td>\n      <td>6</td>\n      <td>0.8200</td>\n      <td>2007.0</td>\n      <td>28994.0</td>\n      <td>186600.0</td>\n      <td>32500.0</td>\n      <td>184000.0</td>\n      <td>36700.0</td>\n      <td>51.7</td>\n      <td>55.1</td>\n      <td>285.0</td>\n    </tr>\n    <tr>\n      <th>114</th>\n      <td>2019-07-01</td>\n      <td>2019</td>\n      <td>7</td>\n      <td>0.8060</td>\n      <td>2045.0</td>\n      <td>30719.0</td>\n      <td>194800.0</td>\n      <td>31100.0</td>\n      <td>201100.0</td>\n      <td>36900.0</td>\n      <td>51.2</td>\n      <td>53.7</td>\n      <td>280.0</td>\n    </tr>\n    <tr>\n      <th>115</th>\n      <td>2019-08-01</td>\n      <td>2019</td>\n      <td>8</td>\n      <td>0.8020</td>\n      <td>2146.0</td>\n      <td>31328.0</td>\n      <td>197600.0</td>\n      <td>31900.0</td>\n      <td>208600.0</td>\n      <td>38500.0</td>\n      <td>49.1</td>\n      <td>56.4</td>\n      <td>300.0</td>\n    </tr>\n    <tr>\n      <th>116</th>\n      <td>2019-09-01</td>\n      <td>2019</td>\n      <td>9</td>\n      <td>0.7830</td>\n      <td>2590.0</td>\n      <td>30251.0</td>\n      <td>179000.0</td>\n      <td>30900.0</td>\n      <td>195800.0</td>\n      <td>37300.0</td>\n      <td>47.8</td>\n      <td>52.6</td>\n      <td>260.0</td>\n    </tr>\n    <tr>\n      <th>117</th>\n      <td>2019-10-01</td>\n      <td>2019</td>\n      <td>10</td>\n      <td>0.7820</td>\n      <td>1992.0</td>\n      <td>29142.0</td>\n      <td>199800.0</td>\n      <td>34100.0</td>\n      <td>217100.0</td>\n      <td>38500.0</td>\n      <td>48.3</td>\n      <td>54.7</td>\n      <td>220.0</td>\n    </tr>\n    <tr>\n      <th>118</th>\n      <td>2019-11-01</td>\n      <td>2019</td>\n      <td>11</td>\n      <td>0.7930</td>\n      <td>2026.0</td>\n      <td>25357.0</td>\n      <td>159600.0</td>\n      <td>32600.0</td>\n      <td>176900.0</td>\n      <td>35400.0</td>\n      <td>48.1</td>\n      <td>53.9</td>\n      <td>240.0</td>\n    </tr>\n    <tr>\n      <th>119</th>\n      <td>2019-12-01</td>\n      <td>2019</td>\n      <td>12</td>\n      <td>0.7980</td>\n      <td>2103.0</td>\n      <td>21521.0</td>\n      <td>147200.0</td>\n      <td>24700.0</td>\n      <td>170700.0</td>\n      <td>24700.0</td>\n      <td>47.2</td>\n      <td>54.9</td>\n      <td>270.0</td>\n    </tr>\n    <tr>\n      <th>120</th>\n      <td>2020-01-01</td>\n      <td>2020</td>\n      <td>1</td>\n      <td>0.8190</td>\n      <td>1970.0</td>\n      <td>19685.0</td>\n      <td>198100.0</td>\n      <td>37400.0</td>\n      <td>202700.0</td>\n      <td>33500.0</td>\n      <td>50.9</td>\n      <td>55.5</td>\n      <td>300.0</td>\n    </tr>\n  </tbody>\n</table>\n</div>"
     },
     "metadata": {},
     "execution_count": 47
    }
   ],
   "source": [
    "indicators"
   ]
  },
  {
   "cell_type": "markdown",
   "metadata": {},
   "source": [
    "## Save to file"
   ]
  },
  {
   "cell_type": "code",
   "execution_count": 16,
   "metadata": {},
   "outputs": [],
   "source": [
    "#indicators.to_pickle(ser_path+'indicators.pkl')"
   ]
  },
  {
   "cell_type": "markdown",
   "metadata": {},
   "source": [
    "## Preparing Structural df\n",
    "Consider whether monthly value ingestion may be better than weekly"
   ]
  },
  {
   "cell_type": "markdown",
   "metadata": {},
   "source": [
    "### Importing Structural df"
   ]
  },
  {
   "cell_type": "code",
   "execution_count": 17,
   "metadata": {},
   "outputs": [],
   "source": [
    "structural = pd.read_pickle(ser_path+\"structural_merged.pkl\")"
   ]
  },
  {
   "cell_type": "code",
   "execution_count": 18,
   "metadata": {},
   "outputs": [
    {
     "output_type": "stream",
     "name": "stdout",
     "text": "<class 'pandas.core.frame.DataFrame'>\nRangeIndex: 158270 entries, 0 to 158269\nData columns (total 10 columns):\n #   Column                    Non-Null Count   Dtype         \n---  ------                    --------------   -----         \n 0   calendar_day              158270 non-null  datetime64[ns]\n 1   year                      158270 non-null  object        \n 2   month                     158270 non-null  object        \n 3   week                      158270 non-null  object        \n 4   block                     158270 non-null  object        \n 5   size                      158270 non-null  object        \n 6   IN_tons                   158270 non-null  float64       \n 7   SO_order_qty_sales_units  158270 non-null  float64       \n 8   SH_shipment_tons          158270 non-null  float64       \n 9   PR_ton                    158270 non-null  float64       \ndtypes: datetime64[ns](1), float64(4), object(5)\nmemory usage: 12.1+ MB\n"
    }
   ],
   "source": [
    "structural.info()"
   ]
  },
  {
   "cell_type": "code",
   "execution_count": 19,
   "metadata": {},
   "outputs": [],
   "source": [
    "#dropping columns to permit merging\n",
    "structural = structural.drop(columns=['year','month','week'])"
   ]
  },
  {
   "cell_type": "code",
   "execution_count": 20,
   "metadata": {},
   "outputs": [
    {
     "output_type": "execute_result",
     "data": {
      "text/plain": "Index(['calendar_day', 'block', 'size', 'IN_tons', 'SO_order_qty_sales_units',\n       'SH_shipment_tons', 'PR_ton'],\n      dtype='object')"
     },
     "metadata": {},
     "execution_count": 20
    }
   ],
   "source": [
    "structural.columns"
   ]
  },
  {
   "cell_type": "markdown",
   "metadata": {},
   "source": [
    "### Creating Weekly dataframe for merging"
   ]
  },
  {
   "cell_type": "code",
   "execution_count": 21,
   "metadata": {},
   "outputs": [],
   "source": [
    "weekly = structural.groupby('block').resample('W', on='calendar_day').sum().sort_values('calendar_day').reset_index()"
   ]
  },
  {
   "cell_type": "code",
   "execution_count": 22,
   "metadata": {},
   "outputs": [
    {
     "output_type": "stream",
     "name": "stdout",
     "text": "<class 'pandas.core.frame.DataFrame'>\nRangeIndex: 12519 entries, 0 to 12518\nData columns (total 6 columns):\n #   Column                    Non-Null Count  Dtype         \n---  ------                    --------------  -----         \n 0   block                     12519 non-null  object        \n 1   calendar_day              12519 non-null  datetime64[ns]\n 2   IN_tons                   12519 non-null  float64       \n 3   SO_order_qty_sales_units  12519 non-null  float64       \n 4   SH_shipment_tons          12519 non-null  float64       \n 5   PR_ton                    12519 non-null  float64       \ndtypes: datetime64[ns](1), float64(4), object(1)\nmemory usage: 587.0+ KB\n"
    }
   ],
   "source": [
    "weekly.info()"
   ]
  },
  {
   "cell_type": "code",
   "execution_count": 23,
   "metadata": {},
   "outputs": [
    {
     "output_type": "execute_result",
     "data": {
      "text/plain": "            block calendar_day   IN_tons  SO_order_qty_sales_units  \\\n0      3-1/2\" ANG   2016-01-03   207.261                     0.000   \n1          9\" CHN   2016-01-03    43.296                     0.000   \n2      8 X 4\" ANG   2016-01-03    14.112                     0.000   \n3          6\" CHN   2016-01-03  1857.997                     0.000   \n4      4 X 3\" ANG   2016-01-03   472.990                     0.000   \n5  5 X 3-1/2\" ANG   2016-01-03  1888.340                     0.000   \n6          6\" FLT   2016-01-03  1102.054                     2.244   \n7          8\" FLT   2016-01-03   867.865                     2.244   \n8      5 X 3\" ANG   2016-01-03  1172.033                     0.000   \n9          8\" CHN   2016-01-03   958.505                     0.000   \n\n   SH_shipment_tons  PR_ton  \n0               0.0     0.0  \n1               0.0     0.0  \n2               0.0     0.0  \n3               0.0     0.0  \n4               0.0     0.0  \n5               0.0     0.0  \n6               0.0     0.0  \n7               0.0     0.0  \n8               0.0     0.0  \n9               0.0     0.0  ",
      "text/html": "<div>\n<style scoped>\n    .dataframe tbody tr th:only-of-type {\n        vertical-align: middle;\n    }\n\n    .dataframe tbody tr th {\n        vertical-align: top;\n    }\n\n    .dataframe thead th {\n        text-align: right;\n    }\n</style>\n<table border=\"1\" class=\"dataframe\">\n  <thead>\n    <tr style=\"text-align: right;\">\n      <th></th>\n      <th>block</th>\n      <th>calendar_day</th>\n      <th>IN_tons</th>\n      <th>SO_order_qty_sales_units</th>\n      <th>SH_shipment_tons</th>\n      <th>PR_ton</th>\n    </tr>\n  </thead>\n  <tbody>\n    <tr>\n      <th>0</th>\n      <td>3-1/2\" ANG</td>\n      <td>2016-01-03</td>\n      <td>207.261</td>\n      <td>0.000</td>\n      <td>0.0</td>\n      <td>0.0</td>\n    </tr>\n    <tr>\n      <th>1</th>\n      <td>9\" CHN</td>\n      <td>2016-01-03</td>\n      <td>43.296</td>\n      <td>0.000</td>\n      <td>0.0</td>\n      <td>0.0</td>\n    </tr>\n    <tr>\n      <th>2</th>\n      <td>8 X 4\" ANG</td>\n      <td>2016-01-03</td>\n      <td>14.112</td>\n      <td>0.000</td>\n      <td>0.0</td>\n      <td>0.0</td>\n    </tr>\n    <tr>\n      <th>3</th>\n      <td>6\" CHN</td>\n      <td>2016-01-03</td>\n      <td>1857.997</td>\n      <td>0.000</td>\n      <td>0.0</td>\n      <td>0.0</td>\n    </tr>\n    <tr>\n      <th>4</th>\n      <td>4 X 3\" ANG</td>\n      <td>2016-01-03</td>\n      <td>472.990</td>\n      <td>0.000</td>\n      <td>0.0</td>\n      <td>0.0</td>\n    </tr>\n    <tr>\n      <th>5</th>\n      <td>5 X 3-1/2\" ANG</td>\n      <td>2016-01-03</td>\n      <td>1888.340</td>\n      <td>0.000</td>\n      <td>0.0</td>\n      <td>0.0</td>\n    </tr>\n    <tr>\n      <th>6</th>\n      <td>6\" FLT</td>\n      <td>2016-01-03</td>\n      <td>1102.054</td>\n      <td>2.244</td>\n      <td>0.0</td>\n      <td>0.0</td>\n    </tr>\n    <tr>\n      <th>7</th>\n      <td>8\" FLT</td>\n      <td>2016-01-03</td>\n      <td>867.865</td>\n      <td>2.244</td>\n      <td>0.0</td>\n      <td>0.0</td>\n    </tr>\n    <tr>\n      <th>8</th>\n      <td>5 X 3\" ANG</td>\n      <td>2016-01-03</td>\n      <td>1172.033</td>\n      <td>0.000</td>\n      <td>0.0</td>\n      <td>0.0</td>\n    </tr>\n    <tr>\n      <th>9</th>\n      <td>8\" CHN</td>\n      <td>2016-01-03</td>\n      <td>958.505</td>\n      <td>0.000</td>\n      <td>0.0</td>\n      <td>0.0</td>\n    </tr>\n  </tbody>\n</table>\n</div>"
     },
     "metadata": {},
     "execution_count": 23
    }
   ],
   "source": [
    "weekly.head(10)"
   ]
  },
  {
   "cell_type": "code",
   "execution_count": 24,
   "metadata": {},
   "outputs": [],
   "source": [
    "#recreating time columns for merging\n",
    "weekly['month'] = weekly['calendar_day'].dt.month\n",
    "weekly['year'] = weekly['calendar_day'].dt.year"
   ]
  },
  {
   "cell_type": "code",
   "execution_count": 25,
   "metadata": {},
   "outputs": [
    {
     "output_type": "execute_result",
     "data": {
      "text/plain": "  calendar_day  year  month       block   IN_tons  PR_ton  \\\n0   2016-01-03  2016      1  3-1/2\" ANG   207.261     0.0   \n1   2016-01-03  2016      1      9\" CHN    43.296     0.0   \n2   2016-01-03  2016      1  8 X 4\" ANG    14.112     0.0   \n3   2016-01-03  2016      1      6\" CHN  1857.997     0.0   \n4   2016-01-03  2016      1  4 X 3\" ANG   472.990     0.0   \n\n   SO_order_qty_sales_units  SH_shipment_tons  \n0                       0.0               0.0  \n1                       0.0               0.0  \n2                       0.0               0.0  \n3                       0.0               0.0  \n4                       0.0               0.0  ",
      "text/html": "<div>\n<style scoped>\n    .dataframe tbody tr th:only-of-type {\n        vertical-align: middle;\n    }\n\n    .dataframe tbody tr th {\n        vertical-align: top;\n    }\n\n    .dataframe thead th {\n        text-align: right;\n    }\n</style>\n<table border=\"1\" class=\"dataframe\">\n  <thead>\n    <tr style=\"text-align: right;\">\n      <th></th>\n      <th>calendar_day</th>\n      <th>year</th>\n      <th>month</th>\n      <th>block</th>\n      <th>IN_tons</th>\n      <th>PR_ton</th>\n      <th>SO_order_qty_sales_units</th>\n      <th>SH_shipment_tons</th>\n    </tr>\n  </thead>\n  <tbody>\n    <tr>\n      <th>0</th>\n      <td>2016-01-03</td>\n      <td>2016</td>\n      <td>1</td>\n      <td>3-1/2\" ANG</td>\n      <td>207.261</td>\n      <td>0.0</td>\n      <td>0.0</td>\n      <td>0.0</td>\n    </tr>\n    <tr>\n      <th>1</th>\n      <td>2016-01-03</td>\n      <td>2016</td>\n      <td>1</td>\n      <td>9\" CHN</td>\n      <td>43.296</td>\n      <td>0.0</td>\n      <td>0.0</td>\n      <td>0.0</td>\n    </tr>\n    <tr>\n      <th>2</th>\n      <td>2016-01-03</td>\n      <td>2016</td>\n      <td>1</td>\n      <td>8 X 4\" ANG</td>\n      <td>14.112</td>\n      <td>0.0</td>\n      <td>0.0</td>\n      <td>0.0</td>\n    </tr>\n    <tr>\n      <th>3</th>\n      <td>2016-01-03</td>\n      <td>2016</td>\n      <td>1</td>\n      <td>6\" CHN</td>\n      <td>1857.997</td>\n      <td>0.0</td>\n      <td>0.0</td>\n      <td>0.0</td>\n    </tr>\n    <tr>\n      <th>4</th>\n      <td>2016-01-03</td>\n      <td>2016</td>\n      <td>1</td>\n      <td>4 X 3\" ANG</td>\n      <td>472.990</td>\n      <td>0.0</td>\n      <td>0.0</td>\n      <td>0.0</td>\n    </tr>\n  </tbody>\n</table>\n</div>"
     },
     "metadata": {},
     "execution_count": 25
    }
   ],
   "source": [
    "#weekly data ready for merging\n",
    "weekly = weekly[['calendar_day','year','month','block','IN_tons','PR_ton','SO_order_qty_sales_units','SH_shipment_tons']]\n",
    "weekly.head()"
   ]
  },
  {
   "cell_type": "markdown",
   "metadata": {},
   "source": [
    "## Merging Structural+Indicators"
   ]
  },
  {
   "cell_type": "code",
   "execution_count": 64,
   "metadata": {},
   "outputs": [],
   "source": [
    "#Merginging weekly values with indicators\n",
    "struct_indicators = weekly.merge(indicators, how='left', on=['year','month'], validate='m:1')"
   ]
  },
  {
   "cell_type": "code",
   "execution_count": 65,
   "metadata": {},
   "outputs": [],
   "source": [
    "#Drop duplicate column and rename main weekly calendar day to calendar_day\n",
    "struct_indicators = struct_indicators.drop(columns='calendar_day_y').rename(columns={'calendar_day_x':'calendar_day'})"
   ]
  },
  {
   "cell_type": "code",
   "execution_count": 67,
   "metadata": {},
   "outputs": [
    {
     "output_type": "execute_result",
     "data": {
      "text/plain": "      calendar_day  year  month          block      IN_tons  PR_ton  \\\n11429   2019-08-18  2019      8     3 X 2\" ANG    -0.010000     0.0   \n4631    2017-07-16  2017      7       MC4\" CHN   591.329994     0.0   \n11877   2019-10-13  2019     10        12\" CHN  3295.465999     0.0   \n3793    2017-04-09  2017      4         9\" FLT    13.376000     0.0   \n5174    2017-09-10  2017      9       3/4\" SQR    -0.005000     0.0   \n4152    2017-05-21  2017      5     8 X 4\" ANG   213.248001     0.0   \n5249    2017-09-17  2017      9     2-1/2\" ANG     0.100000     0.0   \n4759    2017-07-30  2017      7         9\" CHN   660.822002     0.0   \n9055    2018-11-18  2018     11         9\" CHN  7303.689942     0.0   \n9158    2018-12-02  2018     12  3/16X3/4\" FLT     0.000000     0.0   \n\n       SO_order_qty_sales_units  SH_shipment_tons  global_steel_utilization  \\\n11429                    0.0000               0.0                     0.802   \n4631                     0.0000               0.0                     0.738   \n11877                   77.4965              37.0                     0.782   \n3793                     0.0000               2.0                     0.745   \n5174                     0.0000               0.0                     0.739   \n4152                     0.0000              14.0                     0.735   \n5249                     0.0000               0.0                     0.739   \n4759                     4.2880               9.0                     0.738   \n9055                    23.0000              14.0                     0.762   \n9158                     0.0000               0.0                     0.762   \n\n       fed_construction$B  state_local_construction$B  carbon_bar_ship_usa  \\\n11429              2146.0                     31328.0             197600.0   \n4631               1749.0                     24408.0             205900.0   \n11877              1992.0                     29142.0             199800.0   \n3793               1713.0                     19315.0             219100.0   \n5174               2271.0                     25388.0             220400.0   \n4152               2059.0                     22013.0             241800.0   \n5249               2271.0                     25388.0             220400.0   \n4759               1749.0                     24408.0             205900.0   \n9055               1880.0                     23202.0             205600.0   \n9158               1783.0                     19153.0             177300.0   \n\n       carbon_bar_ship_canada  structural_ship_usa  structural_ship_canada  \\\n11429                 31900.0             208600.0                 38500.0   \n4631                  29200.0             191200.0                 38200.0   \n11877                 34100.0             217100.0                 38500.0   \n3793                  28500.0             188400.0                 30700.0   \n5174                  31400.0             200100.0                 39400.0   \n4152                  34000.0             207300.0                 38700.0   \n5249                  31400.0             200100.0                 39400.0   \n4759                  29200.0             191200.0                 38200.0   \n9055                  33300.0             189200.0                 38000.0   \n9158                  21900.0             174200.0                 25500.0   \n\n       ism_manufacturing  ism_non_manufacturing  chicago_scrap$ST  \n11429               49.1                   56.4             300.0  \n4631                56.3                   53.9             350.0  \n11877               48.3                   54.7             220.0  \n3793                54.8                   57.5             350.0  \n5174                60.8                   59.8             365.0  \n4152                54.9                   56.9             350.0  \n5249                60.8                   59.8             365.0  \n4759                56.3                   53.9             350.0  \n9055                59.3                   60.7             405.0  \n9158                54.3                   58.0             405.0  ",
      "text/html": "<div>\n<style scoped>\n    .dataframe tbody tr th:only-of-type {\n        vertical-align: middle;\n    }\n\n    .dataframe tbody tr th {\n        vertical-align: top;\n    }\n\n    .dataframe thead th {\n        text-align: right;\n    }\n</style>\n<table border=\"1\" class=\"dataframe\">\n  <thead>\n    <tr style=\"text-align: right;\">\n      <th></th>\n      <th>calendar_day</th>\n      <th>year</th>\n      <th>month</th>\n      <th>block</th>\n      <th>IN_tons</th>\n      <th>PR_ton</th>\n      <th>SO_order_qty_sales_units</th>\n      <th>SH_shipment_tons</th>\n      <th>global_steel_utilization</th>\n      <th>fed_construction$B</th>\n      <th>state_local_construction$B</th>\n      <th>carbon_bar_ship_usa</th>\n      <th>carbon_bar_ship_canada</th>\n      <th>structural_ship_usa</th>\n      <th>structural_ship_canada</th>\n      <th>ism_manufacturing</th>\n      <th>ism_non_manufacturing</th>\n      <th>chicago_scrap$ST</th>\n    </tr>\n  </thead>\n  <tbody>\n    <tr>\n      <th>11429</th>\n      <td>2019-08-18</td>\n      <td>2019</td>\n      <td>8</td>\n      <td>3 X 2\" ANG</td>\n      <td>-0.010000</td>\n      <td>0.0</td>\n      <td>0.0000</td>\n      <td>0.0</td>\n      <td>0.802</td>\n      <td>2146.0</td>\n      <td>31328.0</td>\n      <td>197600.0</td>\n      <td>31900.0</td>\n      <td>208600.0</td>\n      <td>38500.0</td>\n      <td>49.1</td>\n      <td>56.4</td>\n      <td>300.0</td>\n    </tr>\n    <tr>\n      <th>4631</th>\n      <td>2017-07-16</td>\n      <td>2017</td>\n      <td>7</td>\n      <td>MC4\" CHN</td>\n      <td>591.329994</td>\n      <td>0.0</td>\n      <td>0.0000</td>\n      <td>0.0</td>\n      <td>0.738</td>\n      <td>1749.0</td>\n      <td>24408.0</td>\n      <td>205900.0</td>\n      <td>29200.0</td>\n      <td>191200.0</td>\n      <td>38200.0</td>\n      <td>56.3</td>\n      <td>53.9</td>\n      <td>350.0</td>\n    </tr>\n    <tr>\n      <th>11877</th>\n      <td>2019-10-13</td>\n      <td>2019</td>\n      <td>10</td>\n      <td>12\" CHN</td>\n      <td>3295.465999</td>\n      <td>0.0</td>\n      <td>77.4965</td>\n      <td>37.0</td>\n      <td>0.782</td>\n      <td>1992.0</td>\n      <td>29142.0</td>\n      <td>199800.0</td>\n      <td>34100.0</td>\n      <td>217100.0</td>\n      <td>38500.0</td>\n      <td>48.3</td>\n      <td>54.7</td>\n      <td>220.0</td>\n    </tr>\n    <tr>\n      <th>3793</th>\n      <td>2017-04-09</td>\n      <td>2017</td>\n      <td>4</td>\n      <td>9\" FLT</td>\n      <td>13.376000</td>\n      <td>0.0</td>\n      <td>0.0000</td>\n      <td>2.0</td>\n      <td>0.745</td>\n      <td>1713.0</td>\n      <td>19315.0</td>\n      <td>219100.0</td>\n      <td>28500.0</td>\n      <td>188400.0</td>\n      <td>30700.0</td>\n      <td>54.8</td>\n      <td>57.5</td>\n      <td>350.0</td>\n    </tr>\n    <tr>\n      <th>5174</th>\n      <td>2017-09-10</td>\n      <td>2017</td>\n      <td>9</td>\n      <td>3/4\" SQR</td>\n      <td>-0.005000</td>\n      <td>0.0</td>\n      <td>0.0000</td>\n      <td>0.0</td>\n      <td>0.739</td>\n      <td>2271.0</td>\n      <td>25388.0</td>\n      <td>220400.0</td>\n      <td>31400.0</td>\n      <td>200100.0</td>\n      <td>39400.0</td>\n      <td>60.8</td>\n      <td>59.8</td>\n      <td>365.0</td>\n    </tr>\n    <tr>\n      <th>4152</th>\n      <td>2017-05-21</td>\n      <td>2017</td>\n      <td>5</td>\n      <td>8 X 4\" ANG</td>\n      <td>213.248001</td>\n      <td>0.0</td>\n      <td>0.0000</td>\n      <td>14.0</td>\n      <td>0.735</td>\n      <td>2059.0</td>\n      <td>22013.0</td>\n      <td>241800.0</td>\n      <td>34000.0</td>\n      <td>207300.0</td>\n      <td>38700.0</td>\n      <td>54.9</td>\n      <td>56.9</td>\n      <td>350.0</td>\n    </tr>\n    <tr>\n      <th>5249</th>\n      <td>2017-09-17</td>\n      <td>2017</td>\n      <td>9</td>\n      <td>2-1/2\" ANG</td>\n      <td>0.100000</td>\n      <td>0.0</td>\n      <td>0.0000</td>\n      <td>0.0</td>\n      <td>0.739</td>\n      <td>2271.0</td>\n      <td>25388.0</td>\n      <td>220400.0</td>\n      <td>31400.0</td>\n      <td>200100.0</td>\n      <td>39400.0</td>\n      <td>60.8</td>\n      <td>59.8</td>\n      <td>365.0</td>\n    </tr>\n    <tr>\n      <th>4759</th>\n      <td>2017-07-30</td>\n      <td>2017</td>\n      <td>7</td>\n      <td>9\" CHN</td>\n      <td>660.822002</td>\n      <td>0.0</td>\n      <td>4.2880</td>\n      <td>9.0</td>\n      <td>0.738</td>\n      <td>1749.0</td>\n      <td>24408.0</td>\n      <td>205900.0</td>\n      <td>29200.0</td>\n      <td>191200.0</td>\n      <td>38200.0</td>\n      <td>56.3</td>\n      <td>53.9</td>\n      <td>350.0</td>\n    </tr>\n    <tr>\n      <th>9055</th>\n      <td>2018-11-18</td>\n      <td>2018</td>\n      <td>11</td>\n      <td>9\" CHN</td>\n      <td>7303.689942</td>\n      <td>0.0</td>\n      <td>23.0000</td>\n      <td>14.0</td>\n      <td>0.762</td>\n      <td>1880.0</td>\n      <td>23202.0</td>\n      <td>205600.0</td>\n      <td>33300.0</td>\n      <td>189200.0</td>\n      <td>38000.0</td>\n      <td>59.3</td>\n      <td>60.7</td>\n      <td>405.0</td>\n    </tr>\n    <tr>\n      <th>9158</th>\n      <td>2018-12-02</td>\n      <td>2018</td>\n      <td>12</td>\n      <td>3/16X3/4\" FLT</td>\n      <td>0.000000</td>\n      <td>0.0</td>\n      <td>0.0000</td>\n      <td>0.0</td>\n      <td>0.762</td>\n      <td>1783.0</td>\n      <td>19153.0</td>\n      <td>177300.0</td>\n      <td>21900.0</td>\n      <td>174200.0</td>\n      <td>25500.0</td>\n      <td>54.3</td>\n      <td>58.0</td>\n      <td>405.0</td>\n    </tr>\n  </tbody>\n</table>\n</div>"
     },
     "metadata": {},
     "execution_count": 67
    }
   ],
   "source": [
    "struct_indicators.sample(10)"
   ]
  },
  {
   "cell_type": "markdown",
   "metadata": {},
   "source": [
    "### Saving to formats for digestion"
   ]
  },
  {
   "cell_type": "code",
   "execution_count": 68,
   "metadata": {},
   "outputs": [],
   "source": [
    "#Saving df into pickle and csv\n",
    "#struct_indicators.to_csv(path+\"structuralweekly_with_indicators.csv\")\n",
    "#struct_indicators.to_pickle(ser_path+\"structuralweekly_with_indicators.pkl\")"
   ]
  },
  {
   "cell_type": "code",
   "execution_count": null,
   "metadata": {},
   "outputs": [],
   "source": []
  }
 ],
 "metadata": {
  "language_info": {
   "codemirror_mode": {
    "name": "ipython",
    "version": 3
   },
   "file_extension": ".py",
   "mimetype": "text/x-python",
   "name": "python",
   "nbconvert_exporter": "python",
   "pygments_lexer": "ipython3",
   "version": "3.7.6-final"
  },
  "orig_nbformat": 2,
  "kernelspec": {
   "name": "python37664bitpftpipenv41a3325616004cea923f5375811f25e4",
   "display_name": "Python 3.7.6 64-bit ('pft': pipenv)"
  }
 },
 "nbformat": 4,
 "nbformat_minor": 2
}