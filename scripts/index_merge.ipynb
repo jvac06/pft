{
 "cells": [
  {
   "cell_type": "code",
   "execution_count": 1,
   "metadata": {},
   "outputs": [],
   "source": [
    "#Dependencies\n",
    "import numpy as np\n",
    "import pandas as pd\n",
    "import datetime as dt\n",
    "import re\n",
    "from sklearn.preprocessing import LabelBinarizer #use instead of OneHotEncoder, skips spicymatrix?"
   ]
  },
  {
   "cell_type": "code",
   "execution_count": 2,
   "metadata": {},
   "outputs": [
    {
     "output_type": "execute_result",
     "data": {
      "text/plain": "'/Users/jacosta3/OneDrive - University of South Florida/Gerdau Projects/pft/scripts'"
     },
     "metadata": {},
     "execution_count": 2
    }
   ],
   "source": [
    "os.getcwd()"
   ]
  },
  {
   "cell_type": "markdown",
   "metadata": {},
   "source": [
    "## Fetching Indicators info"
   ]
  },
  {
   "cell_type": "code",
   "execution_count": 3,
   "metadata": {},
   "outputs": [],
   "source": [
    "#File directory\n",
    "ser_path = \"./serialized/\"\n",
    "path = \"./merged_clean/\"\n",
    "#change directory to datasets\n",
    "os.chdir(\"../datasets\")"
   ]
  },
  {
   "cell_type": "code",
   "execution_count": 4,
   "metadata": {},
   "outputs": [],
   "source": [
    "indicators = pd.read_excel(path+\"market_indicators.xlsx\",sheet_name=\"Monthly\")"
   ]
  },
  {
   "cell_type": "code",
   "execution_count": 5,
   "metadata": {},
   "outputs": [
    {
     "output_type": "stream",
     "name": "stdout",
     "text": "<class 'pandas.core.frame.DataFrame'>\nRangeIndex: 124 entries, 0 to 123\nData columns (total 17 columns):\n #   Column                                               Non-Null Count  Dtype         \n---  ------                                               --------------  -----         \n 0   dd/mm/yy                                             124 non-null    datetime64[ns]\n 1   Year                                                 124 non-null    int64         \n 2   Month                                                124 non-null    object        \n 3   National Architect Billing/monthly                   121 non-null    float64       \n 4   Total Federal Construction/Billion $                 121 non-null    float64       \n 5   Total State and Local Construction/Billion $         121 non-null    float64       \n 6   US Steel Capacity Utilization                        109 non-null    float64       \n 7   US Long Steel/million $ per short ton                26 non-null     float64       \n 8   US Domestic Hot-Rolled Coil/Million $ per short ton  26 non-null     float64       \n 9   MSCI Carbon bar monthly shipments                    121 non-null    float64       \n 10  MSCI Carbon bar monthly shipments (canada)           121 non-null    float64       \n 11  Structural Shipments /USA                            121 non-null    float64       \n 12  Structural Shipments /Canada                         121 non-null    float64       \n 13  ISM Manufacturing                                    122 non-null    float64       \n 14  ISM Non Manufacturing                                123 non-null    float64       \n 15  Global Steel Utilization                             117 non-null    float64       \n 16  Chicago#1 Scrap Bushelling                           50 non-null     float64       \ndtypes: datetime64[ns](1), float64(14), int64(1), object(1)\nmemory usage: 16.6+ KB\n"
    }
   ],
   "source": [
    "indicators.info()"
   ]
  },
  {
   "cell_type": "markdown",
   "metadata": {},
   "source": [
    "## Cleaning Columns"
   ]
  },
  {
   "cell_type": "code",
   "execution_count": 6,
   "metadata": {},
   "outputs": [],
   "source": [
    "def clean_columns(dataframe):\n",
    "    for col in dataframe.columns:\n",
    "        dataframe.rename(columns={col:re.sub(r'([a-z](?=[A-Z])|[A-Z](?=[A-Z][a-z]))', r'\\1 ', col)}, inplace=True)\n",
    "    dataframe.columns = dataframe.columns.str.strip().str.lower().str.replace(\" \",\"_\")\n",
    "    try:\n",
    "        dataframe[\"calendar_day\"] = dataframe[\"calendar_day\"].astype(\"datetime64\")\n",
    "    except:\n",
    "        pass\n",
    "    try:\n",
    "        dataframe[\"requested_date\"] = dataframe[\"requested_date\"].astype(\"datetime64\")\n",
    "        dataframe[\"confirmed_date\"] = dataframe[\"confirmed_date\"].astype(\"datetime64\")\n",
    "        dataframe[\"material_avail_date\"] = dataframe[\"material_avail_date\"].astype(\"datetime64\")\n",
    "        dataframe[\"load_date\"] = dataframe[\"load_date\"].astype(\"datetime64\")\n",
    "        dataframe[\"plan_goods_issue_date\"] = dataframe[\"plan_goods_issue_date\"].astype(\"datetime64\")\n",
    "    except:\n",
    "        pass\n",
    "    try:\n",
    "        dataframe[\"snapshot_date\"] = dataframe[\"snapshot_date\"].astype(\"datetime64\")\n",
    "    finally:\n",
    "        return dataframe.columns"
   ]
  },
  {
   "cell_type": "code",
   "execution_count": 7,
   "metadata": {},
   "outputs": [
    {
     "output_type": "execute_result",
     "data": {
      "text/plain": "Index(['dd/mm/yy', 'year', 'month', 'national_architect_billing/monthly',\n       'total_federal_construction/billion_$',\n       'total_state_and_local_construction/billion_$',\n       'us_steel_capacity_utilization',\n       'us_long_steel/million_$_per_short_ton',\n       'us_domestic_hot-rolled_coil/million_$_per_short_ton',\n       'msci_carbon_bar_monthly_shipments',\n       'msci_carbon_bar_monthly_shipments_(canada)',\n       'structural_shipments_/usa', 'structural_shipments_/canada',\n       'ism_manufacturing', 'ism_non_manufacturing',\n       'global_steel_utilization', 'chicago#1_scrap_bushelling'],\n      dtype='object')"
     },
     "metadata": {},
     "execution_count": 7
    }
   ],
   "source": [
    "clean_columns(indicators)"
   ]
  },
  {
   "cell_type": "markdown",
   "metadata": {},
   "source": [
    "### Create Month & Year Columns"
   ]
  },
  {
   "cell_type": "code",
   "execution_count": 8,
   "metadata": {},
   "outputs": [],
   "source": [
    "indicators['year'] = indicators['dd/mm/yy'].dt.year\n",
    "indicators['month'] = indicators['dd/mm/yy'].dt.month"
   ]
  },
  {
   "cell_type": "markdown",
   "metadata": {},
   "source": [
    "### Rename Columns"
   ]
  },
  {
   "cell_type": "code",
   "execution_count": 9,
   "metadata": {},
   "outputs": [
    {
     "output_type": "execute_result",
     "data": {
      "text/plain": "Index(['dd/mm/yy', 'year', 'month', 'national_architect_billing/monthly',\n       'total_federal_construction/billion_$',\n       'total_state_and_local_construction/billion_$',\n       'us_steel_capacity_utilization',\n       'us_long_steel/million_$_per_short_ton',\n       'us_domestic_hot-rolled_coil/million_$_per_short_ton',\n       'msci_carbon_bar_monthly_shipments',\n       'msci_carbon_bar_monthly_shipments_(canada)',\n       'structural_shipments_/usa', 'structural_shipments_/canada',\n       'ism_manufacturing', 'ism_non_manufacturing',\n       'global_steel_utilization', 'chicago#1_scrap_bushelling'],\n      dtype='object')"
     },
     "metadata": {},
     "execution_count": 9
    }
   ],
   "source": [
    "indicators.columns"
   ]
  },
  {
   "cell_type": "code",
   "execution_count": 10,
   "metadata": {},
   "outputs": [],
   "source": [
    "#Remane column & pick only desired ones \n",
    "indicators = indicators.rename(columns={'dd/mm/yy':'calendar_day',\n",
    "                                        'total_federal_construction/billion_$':'fed_construction$B',                                                              'total_state_and_local_construction/billion_$':'state_local_construction$B',\n",
    "                                        'msci_carbon_bar_monthly_shipments':'carbon_bar_ship_usa',\n",
    "                                        'msci_carbon_bar_monthly_shipments_(canada)':'carbon_bar_ship_canada',\n",
    "                                        'structural_shipments_/usa':'structural_ship_usa', \n",
    "                                        'structural_shipments_/canada':'structural_ship_canada',\n",
    "                                        'chicago#1_scrap_bushelling':'chicago_scrap$ST'})\n",
    "indicators = indicators[['calendar_day','year','month', 'global_steel_utilization','fed_construction$B',                                           'state_local_construction$B','carbon_bar_ship_usa','carbon_bar_ship_canada',                                              'structural_ship_usa','structural_ship_canada', 'ism_manufacturing', 'ism_non_manufacturing',                             'chicago_scrap$ST']]"
   ]
  },
  {
   "cell_type": "markdown",
   "metadata": {},
   "source": [
    "### Selecting 2016 dates on"
   ]
  },
  {
   "cell_type": "code",
   "execution_count": 11,
   "metadata": {},
   "outputs": [],
   "source": [
    "#select 2016-2020\n",
    "indicators = indicators[(indicators['calendar_day'].dt.year >= 2016) & (indicators['calendar_day'] <='2020-01-01')]"
   ]
  },
  {
   "cell_type": "code",
   "execution_count": 12,
   "metadata": {},
   "outputs": [
    {
     "output_type": "stream",
     "name": "stdout",
     "text": "<class 'pandas.core.frame.DataFrame'>\nInt64Index: 49 entries, 72 to 120\nData columns (total 13 columns):\n #   Column                      Non-Null Count  Dtype         \n---  ------                      --------------  -----         \n 0   calendar_day                49 non-null     datetime64[ns]\n 1   year                        49 non-null     int64         \n 2   month                       49 non-null     int64         \n 3   global_steel_utilization    45 non-null     float64       \n 4   fed_construction$B          49 non-null     float64       \n 5   state_local_construction$B  49 non-null     float64       \n 6   carbon_bar_ship_usa         49 non-null     float64       \n 7   carbon_bar_ship_canada      49 non-null     float64       \n 8   structural_ship_usa         49 non-null     float64       \n 9   structural_ship_canada      49 non-null     float64       \n 10  ism_manufacturing           49 non-null     float64       \n 11  ism_non_manufacturing       49 non-null     float64       \n 12  chicago_scrap$ST            49 non-null     float64       \ndtypes: datetime64[ns](1), float64(10), int64(2)\nmemory usage: 5.4 KB\n"
    }
   ],
   "source": [
    "indicators.info()"
   ]
  },
  {
   "cell_type": "markdown",
   "metadata": {},
   "source": [
    "### Fill NaNs"
   ]
  },
  {
   "cell_type": "code",
   "execution_count": 13,
   "metadata": {},
   "outputs": [],
   "source": [
    "#filling NaNs - assumption gradual increase \n",
    "values = {108:0.7768,109:0.7915,110:0.8063,111:0.8210}\n",
    "indicators['global_steel_utilization'] = indicators['global_steel_utilization'].fillna(value=values, axis=0)"
   ]
  },
  {
   "cell_type": "code",
   "execution_count": 14,
   "metadata": {},
   "outputs": [
    {
     "output_type": "stream",
     "name": "stdout",
     "text": "<class 'pandas.core.frame.DataFrame'>\nInt64Index: 49 entries, 72 to 120\nData columns (total 13 columns):\n #   Column                      Non-Null Count  Dtype         \n---  ------                      --------------  -----         \n 0   calendar_day                49 non-null     datetime64[ns]\n 1   year                        49 non-null     int64         \n 2   month                       49 non-null     int64         \n 3   global_steel_utilization    49 non-null     float64       \n 4   fed_construction$B          49 non-null     float64       \n 5   state_local_construction$B  49 non-null     float64       \n 6   carbon_bar_ship_usa         49 non-null     float64       \n 7   carbon_bar_ship_canada      49 non-null     float64       \n 8   structural_ship_usa         49 non-null     float64       \n 9   structural_ship_canada      49 non-null     float64       \n 10  ism_manufacturing           49 non-null     float64       \n 11  ism_non_manufacturing       49 non-null     float64       \n 12  chicago_scrap$ST            49 non-null     float64       \ndtypes: datetime64[ns](1), float64(10), int64(2)\nmemory usage: 5.4 KB\n"
    }
   ],
   "source": [
    "indicators.info()"
   ]
  },
  {
   "cell_type": "markdown",
   "metadata": {},
   "source": [
    "## Save to file"
   ]
  },
  {
   "cell_type": "code",
   "execution_count": 15,
   "metadata": {},
   "outputs": [],
   "source": [
    "#indicators.to_pickle(ser_path+'indicators.pkl')"
   ]
  },
  {
   "cell_type": "markdown",
   "metadata": {},
   "source": [
    "## Preparing Structural df\n",
    "Consider whether monthly value ingestion may be better than weekly"
   ]
  },
  {
   "cell_type": "markdown",
   "metadata": {},
   "source": [
    "### Importing Structural df"
   ]
  },
  {
   "cell_type": "code",
   "execution_count": 16,
   "metadata": {},
   "outputs": [],
   "source": [
    "structural = pd.read_pickle(ser_path+\"structural_merged.pkl\")"
   ]
  },
  {
   "cell_type": "code",
   "execution_count": 17,
   "metadata": {},
   "outputs": [
    {
     "output_type": "stream",
     "name": "stdout",
     "text": "<class 'pandas.core.frame.DataFrame'>\nRangeIndex: 158270 entries, 0 to 158269\nData columns (total 10 columns):\n #   Column                    Non-Null Count   Dtype         \n---  ------                    --------------   -----         \n 0   calendar_day              158270 non-null  datetime64[ns]\n 1   year                      158270 non-null  object        \n 2   month                     158270 non-null  object        \n 3   week                      158270 non-null  object        \n 4   block                     158270 non-null  object        \n 5   size                      158270 non-null  object        \n 6   IN_tons                   158270 non-null  float64       \n 7   SO_order_qty_sales_units  158270 non-null  float64       \n 8   SH_shipment_tons          158270 non-null  float64       \n 9   PR_ton                    158270 non-null  float64       \ndtypes: datetime64[ns](1), float64(4), object(5)\nmemory usage: 12.1+ MB\n"
    }
   ],
   "source": [
    "structural.info()"
   ]
  },
  {
   "cell_type": "code",
   "execution_count": 18,
   "metadata": {},
   "outputs": [],
   "source": [
    "#dropping columns to permit merging\n",
    "structural = structural.drop(columns=['year','month','week'])"
   ]
  },
  {
   "cell_type": "code",
   "execution_count": 19,
   "metadata": {},
   "outputs": [
    {
     "output_type": "execute_result",
     "data": {
      "text/plain": "Index(['calendar_day', 'block', 'size', 'IN_tons', 'SO_order_qty_sales_units',\n       'SH_shipment_tons', 'PR_ton'],\n      dtype='object')"
     },
     "metadata": {},
     "execution_count": 19
    }
   ],
   "source": [
    "structural.columns"
   ]
  },
  {
   "cell_type": "markdown",
   "metadata": {},
   "source": [
    "### Creating Weekly dataframe for merging"
   ]
  },
  {
   "cell_type": "code",
   "execution_count": 20,
   "metadata": {},
   "outputs": [],
   "source": [
    "weekly = structural.groupby('block').resample('W', on='calendar_day').sum().sort_values('calendar_day').reset_index()"
   ]
  },
  {
   "cell_type": "code",
   "execution_count": 21,
   "metadata": {},
   "outputs": [
    {
     "output_type": "stream",
     "name": "stdout",
     "text": "<class 'pandas.core.frame.DataFrame'>\nRangeIndex: 12519 entries, 0 to 12518\nData columns (total 6 columns):\n #   Column                    Non-Null Count  Dtype         \n---  ------                    --------------  -----         \n 0   block                     12519 non-null  object        \n 1   calendar_day              12519 non-null  datetime64[ns]\n 2   IN_tons                   12519 non-null  float64       \n 3   SO_order_qty_sales_units  12519 non-null  float64       \n 4   SH_shipment_tons          12519 non-null  float64       \n 5   PR_ton                    12519 non-null  float64       \ndtypes: datetime64[ns](1), float64(4), object(1)\nmemory usage: 587.0+ KB\n"
    }
   ],
   "source": [
    "weekly.info()"
   ]
  },
  {
   "cell_type": "code",
   "execution_count": 22,
   "metadata": {},
   "outputs": [
    {
     "output_type": "execute_result",
     "data": {
      "text/plain": "            block calendar_day   IN_tons  SO_order_qty_sales_units  \\\n0      3-1/2\" ANG   2016-01-03   207.261                     0.000   \n1          9\" CHN   2016-01-03    43.296                     0.000   \n2      8 X 4\" ANG   2016-01-03    14.112                     0.000   \n3          6\" CHN   2016-01-03  1857.997                     0.000   \n4      4 X 3\" ANG   2016-01-03   472.990                     0.000   \n5  5 X 3-1/2\" ANG   2016-01-03  1888.340                     0.000   \n6          6\" FLT   2016-01-03  1102.054                     2.244   \n7          8\" FLT   2016-01-03   867.865                     2.244   \n8      5 X 3\" ANG   2016-01-03  1172.033                     0.000   \n9          8\" CHN   2016-01-03   958.505                     0.000   \n\n   SH_shipment_tons  PR_ton  \n0               0.0     0.0  \n1               0.0     0.0  \n2               0.0     0.0  \n3               0.0     0.0  \n4               0.0     0.0  \n5               0.0     0.0  \n6               0.0     0.0  \n7               0.0     0.0  \n8               0.0     0.0  \n9               0.0     0.0  ",
      "text/html": "<div>\n<style scoped>\n    .dataframe tbody tr th:only-of-type {\n        vertical-align: middle;\n    }\n\n    .dataframe tbody tr th {\n        vertical-align: top;\n    }\n\n    .dataframe thead th {\n        text-align: right;\n    }\n</style>\n<table border=\"1\" class=\"dataframe\">\n  <thead>\n    <tr style=\"text-align: right;\">\n      <th></th>\n      <th>block</th>\n      <th>calendar_day</th>\n      <th>IN_tons</th>\n      <th>SO_order_qty_sales_units</th>\n      <th>SH_shipment_tons</th>\n      <th>PR_ton</th>\n    </tr>\n  </thead>\n  <tbody>\n    <tr>\n      <th>0</th>\n      <td>3-1/2\" ANG</td>\n      <td>2016-01-03</td>\n      <td>207.261</td>\n      <td>0.000</td>\n      <td>0.0</td>\n      <td>0.0</td>\n    </tr>\n    <tr>\n      <th>1</th>\n      <td>9\" CHN</td>\n      <td>2016-01-03</td>\n      <td>43.296</td>\n      <td>0.000</td>\n      <td>0.0</td>\n      <td>0.0</td>\n    </tr>\n    <tr>\n      <th>2</th>\n      <td>8 X 4\" ANG</td>\n      <td>2016-01-03</td>\n      <td>14.112</td>\n      <td>0.000</td>\n      <td>0.0</td>\n      <td>0.0</td>\n    </tr>\n    <tr>\n      <th>3</th>\n      <td>6\" CHN</td>\n      <td>2016-01-03</td>\n      <td>1857.997</td>\n      <td>0.000</td>\n      <td>0.0</td>\n      <td>0.0</td>\n    </tr>\n    <tr>\n      <th>4</th>\n      <td>4 X 3\" ANG</td>\n      <td>2016-01-03</td>\n      <td>472.990</td>\n      <td>0.000</td>\n      <td>0.0</td>\n      <td>0.0</td>\n    </tr>\n    <tr>\n      <th>5</th>\n      <td>5 X 3-1/2\" ANG</td>\n      <td>2016-01-03</td>\n      <td>1888.340</td>\n      <td>0.000</td>\n      <td>0.0</td>\n      <td>0.0</td>\n    </tr>\n    <tr>\n      <th>6</th>\n      <td>6\" FLT</td>\n      <td>2016-01-03</td>\n      <td>1102.054</td>\n      <td>2.244</td>\n      <td>0.0</td>\n      <td>0.0</td>\n    </tr>\n    <tr>\n      <th>7</th>\n      <td>8\" FLT</td>\n      <td>2016-01-03</td>\n      <td>867.865</td>\n      <td>2.244</td>\n      <td>0.0</td>\n      <td>0.0</td>\n    </tr>\n    <tr>\n      <th>8</th>\n      <td>5 X 3\" ANG</td>\n      <td>2016-01-03</td>\n      <td>1172.033</td>\n      <td>0.000</td>\n      <td>0.0</td>\n      <td>0.0</td>\n    </tr>\n    <tr>\n      <th>9</th>\n      <td>8\" CHN</td>\n      <td>2016-01-03</td>\n      <td>958.505</td>\n      <td>0.000</td>\n      <td>0.0</td>\n      <td>0.0</td>\n    </tr>\n  </tbody>\n</table>\n</div>"
     },
     "metadata": {},
     "execution_count": 22
    }
   ],
   "source": [
    "weekly.head(10)"
   ]
  },
  {
   "cell_type": "code",
   "execution_count": 23,
   "metadata": {},
   "outputs": [],
   "source": [
    "#recreating time columns for merging\n",
    "weekly['month'] = weekly['calendar_day'].dt.month\n",
    "weekly['year'] = weekly['calendar_day'].dt.year"
   ]
  },
  {
   "cell_type": "code",
   "execution_count": 24,
   "metadata": {},
   "outputs": [
    {
     "output_type": "execute_result",
     "data": {
      "text/plain": "      calendar_day  year  month    block      IN_tons  PR_ton  \\\n12514   2020-01-05  2020      1   7\" FLT   329.272012     0.0   \n12515   2020-01-05  2020      1  10\" CHN  6794.873987    -1.0   \n12516   2020-01-05  2020      1   6\" CHN  1631.336032     0.0   \n12517   2020-01-05  2020      1   9\" FLT     0.052000     0.0   \n12518   2020-01-05  2020      1   5\" FLT   670.258017     0.0   \n\n       SO_order_qty_sales_units  SH_shipment_tons  \n12514                     4.760               0.0  \n12515                   142.238             162.0  \n12516                   122.520              48.0  \n12517                     0.000               0.0  \n12518                    32.895              23.0  ",
      "text/html": "<div>\n<style scoped>\n    .dataframe tbody tr th:only-of-type {\n        vertical-align: middle;\n    }\n\n    .dataframe tbody tr th {\n        vertical-align: top;\n    }\n\n    .dataframe thead th {\n        text-align: right;\n    }\n</style>\n<table border=\"1\" class=\"dataframe\">\n  <thead>\n    <tr style=\"text-align: right;\">\n      <th></th>\n      <th>calendar_day</th>\n      <th>year</th>\n      <th>month</th>\n      <th>block</th>\n      <th>IN_tons</th>\n      <th>PR_ton</th>\n      <th>SO_order_qty_sales_units</th>\n      <th>SH_shipment_tons</th>\n    </tr>\n  </thead>\n  <tbody>\n    <tr>\n      <th>12514</th>\n      <td>2020-01-05</td>\n      <td>2020</td>\n      <td>1</td>\n      <td>7\" FLT</td>\n      <td>329.272012</td>\n      <td>0.0</td>\n      <td>4.760</td>\n      <td>0.0</td>\n    </tr>\n    <tr>\n      <th>12515</th>\n      <td>2020-01-05</td>\n      <td>2020</td>\n      <td>1</td>\n      <td>10\" CHN</td>\n      <td>6794.873987</td>\n      <td>-1.0</td>\n      <td>142.238</td>\n      <td>162.0</td>\n    </tr>\n    <tr>\n      <th>12516</th>\n      <td>2020-01-05</td>\n      <td>2020</td>\n      <td>1</td>\n      <td>6\" CHN</td>\n      <td>1631.336032</td>\n      <td>0.0</td>\n      <td>122.520</td>\n      <td>48.0</td>\n    </tr>\n    <tr>\n      <th>12517</th>\n      <td>2020-01-05</td>\n      <td>2020</td>\n      <td>1</td>\n      <td>9\" FLT</td>\n      <td>0.052000</td>\n      <td>0.0</td>\n      <td>0.000</td>\n      <td>0.0</td>\n    </tr>\n    <tr>\n      <th>12518</th>\n      <td>2020-01-05</td>\n      <td>2020</td>\n      <td>1</td>\n      <td>5\" FLT</td>\n      <td>670.258017</td>\n      <td>0.0</td>\n      <td>32.895</td>\n      <td>23.0</td>\n    </tr>\n  </tbody>\n</table>\n</div>"
     },
     "metadata": {},
     "execution_count": 24
    }
   ],
   "source": [
    "#weekly data ready for merging\n",
    "weekly = weekly[['calendar_day','year','month','block','IN_tons','PR_ton','SO_order_qty_sales_units','SH_shipment_tons']]\n",
    "weekly.tail()"
   ]
  },
  {
   "cell_type": "markdown",
   "metadata": {},
   "source": [
    "### Creating Monthly for Merging"
   ]
  },
  {
   "cell_type": "code",
   "execution_count": 26,
   "metadata": {},
   "outputs": [],
   "source": [
    "monthly = structural.groupby('block').resample('M', on='calendar_day').sum().sort_values('calendar_day').reset_index()"
   ]
  },
  {
   "cell_type": "code",
   "execution_count": 27,
   "metadata": {},
   "outputs": [
    {
     "output_type": "stream",
     "name": "stdout",
     "text": "<class 'pandas.core.frame.DataFrame'>\nRangeIndex: 2936 entries, 0 to 2935\nData columns (total 6 columns):\n #   Column                    Non-Null Count  Dtype         \n---  ------                    --------------  -----         \n 0   block                     2936 non-null   object        \n 1   calendar_day              2936 non-null   datetime64[ns]\n 2   IN_tons                   2936 non-null   float64       \n 3   SO_order_qty_sales_units  2936 non-null   float64       \n 4   SH_shipment_tons          2936 non-null   float64       \n 5   PR_ton                    2936 non-null   float64       \ndtypes: datetime64[ns](1), float64(4), object(1)\nmemory usage: 137.8+ KB\n"
    }
   ],
   "source": [
    "monthly.info()"
   ]
  },
  {
   "cell_type": "code",
   "execution_count": 28,
   "metadata": {},
   "outputs": [
    {
     "output_type": "execute_result",
     "data": {
      "text/plain": "            block calendar_day    IN_tons  SO_order_qty_sales_units  \\\n0      3-1/2\" ANG   2016-01-31  21287.255                   880.992   \n1          5\" FLT   2016-01-31   5544.345                   197.170   \n2      2 X 1\" CHN   2016-01-31      5.008                    14.607   \n3         15\" CHN   2016-01-31    156.618                     0.000   \n4  6 X 3-1/2\" ANG   2016-01-31  17769.578                   376.070   \n\n   SH_shipment_tons  PR_ton  \n0             922.0  2008.0  \n1             140.0     0.0  \n2               6.0     0.0  \n3               9.0     0.0  \n4             501.0   -17.0  ",
      "text/html": "<div>\n<style scoped>\n    .dataframe tbody tr th:only-of-type {\n        vertical-align: middle;\n    }\n\n    .dataframe tbody tr th {\n        vertical-align: top;\n    }\n\n    .dataframe thead th {\n        text-align: right;\n    }\n</style>\n<table border=\"1\" class=\"dataframe\">\n  <thead>\n    <tr style=\"text-align: right;\">\n      <th></th>\n      <th>block</th>\n      <th>calendar_day</th>\n      <th>IN_tons</th>\n      <th>SO_order_qty_sales_units</th>\n      <th>SH_shipment_tons</th>\n      <th>PR_ton</th>\n    </tr>\n  </thead>\n  <tbody>\n    <tr>\n      <th>0</th>\n      <td>3-1/2\" ANG</td>\n      <td>2016-01-31</td>\n      <td>21287.255</td>\n      <td>880.992</td>\n      <td>922.0</td>\n      <td>2008.0</td>\n    </tr>\n    <tr>\n      <th>1</th>\n      <td>5\" FLT</td>\n      <td>2016-01-31</td>\n      <td>5544.345</td>\n      <td>197.170</td>\n      <td>140.0</td>\n      <td>0.0</td>\n    </tr>\n    <tr>\n      <th>2</th>\n      <td>2 X 1\" CHN</td>\n      <td>2016-01-31</td>\n      <td>5.008</td>\n      <td>14.607</td>\n      <td>6.0</td>\n      <td>0.0</td>\n    </tr>\n    <tr>\n      <th>3</th>\n      <td>15\" CHN</td>\n      <td>2016-01-31</td>\n      <td>156.618</td>\n      <td>0.000</td>\n      <td>9.0</td>\n      <td>0.0</td>\n    </tr>\n    <tr>\n      <th>4</th>\n      <td>6 X 3-1/2\" ANG</td>\n      <td>2016-01-31</td>\n      <td>17769.578</td>\n      <td>376.070</td>\n      <td>501.0</td>\n      <td>-17.0</td>\n    </tr>\n  </tbody>\n</table>\n</div>"
     },
     "metadata": {},
     "execution_count": 28
    }
   ],
   "source": [
    "monthly.head(5)"
   ]
  },
  {
   "cell_type": "code",
   "execution_count": 29,
   "metadata": {},
   "outputs": [],
   "source": [
    "#recreating time columns for merging\n",
    "monthly['month'] = monthly['calendar_day'].dt.month\n",
    "monthly['year'] = monthly['calendar_day'].dt.year"
   ]
  },
  {
   "cell_type": "code",
   "execution_count": 30,
   "metadata": {},
   "outputs": [
    {
     "output_type": "execute_result",
     "data": {
      "text/plain": "     calendar_day  year  month       block      IN_tons  PR_ton  \\\n2931   2020-01-31  2020      1    MC4\" CHN   233.496001     0.0   \n2932   2020-01-31  2020      1  4 X 3\" ANG  1184.441982     0.0   \n2933   2020-01-31  2020      1      6\" CHN   801.832017     0.0   \n2934   2020-01-31  2020      1      5\" CHN   432.594001     0.0   \n2935   2020-01-31  2020      1   1\" SB FLT    -0.002000     0.0   \n\n      SO_order_qty_sales_units  SH_shipment_tons  \n2931                     0.000              11.0  \n2932                    69.130              66.0  \n2933                    53.508              48.0  \n2934                     0.000              17.0  \n2935                     0.000               0.0  ",
      "text/html": "<div>\n<style scoped>\n    .dataframe tbody tr th:only-of-type {\n        vertical-align: middle;\n    }\n\n    .dataframe tbody tr th {\n        vertical-align: top;\n    }\n\n    .dataframe thead th {\n        text-align: right;\n    }\n</style>\n<table border=\"1\" class=\"dataframe\">\n  <thead>\n    <tr style=\"text-align: right;\">\n      <th></th>\n      <th>calendar_day</th>\n      <th>year</th>\n      <th>month</th>\n      <th>block</th>\n      <th>IN_tons</th>\n      <th>PR_ton</th>\n      <th>SO_order_qty_sales_units</th>\n      <th>SH_shipment_tons</th>\n    </tr>\n  </thead>\n  <tbody>\n    <tr>\n      <th>2931</th>\n      <td>2020-01-31</td>\n      <td>2020</td>\n      <td>1</td>\n      <td>MC4\" CHN</td>\n      <td>233.496001</td>\n      <td>0.0</td>\n      <td>0.000</td>\n      <td>11.0</td>\n    </tr>\n    <tr>\n      <th>2932</th>\n      <td>2020-01-31</td>\n      <td>2020</td>\n      <td>1</td>\n      <td>4 X 3\" ANG</td>\n      <td>1184.441982</td>\n      <td>0.0</td>\n      <td>69.130</td>\n      <td>66.0</td>\n    </tr>\n    <tr>\n      <th>2933</th>\n      <td>2020-01-31</td>\n      <td>2020</td>\n      <td>1</td>\n      <td>6\" CHN</td>\n      <td>801.832017</td>\n      <td>0.0</td>\n      <td>53.508</td>\n      <td>48.0</td>\n    </tr>\n    <tr>\n      <th>2934</th>\n      <td>2020-01-31</td>\n      <td>2020</td>\n      <td>1</td>\n      <td>5\" CHN</td>\n      <td>432.594001</td>\n      <td>0.0</td>\n      <td>0.000</td>\n      <td>17.0</td>\n    </tr>\n    <tr>\n      <th>2935</th>\n      <td>2020-01-31</td>\n      <td>2020</td>\n      <td>1</td>\n      <td>1\" SB FLT</td>\n      <td>-0.002000</td>\n      <td>0.0</td>\n      <td>0.000</td>\n      <td>0.0</td>\n    </tr>\n  </tbody>\n</table>\n</div>"
     },
     "metadata": {},
     "execution_count": 30
    }
   ],
   "source": [
    "#monthly data ready for merging\n",
    "monthly= monthly[['calendar_day','year','month','block','IN_tons','PR_ton','SO_order_qty_sales_units','SH_shipment_tons']]\n",
    "monthly.tail()"
   ]
  },
  {
   "cell_type": "markdown",
   "metadata": {},
   "source": [
    "## Merging Structural+Indicators"
   ]
  },
  {
   "cell_type": "markdown",
   "metadata": {},
   "source": [
    "### Weekly Merge with Indicators"
   ]
  },
  {
   "cell_type": "code",
   "execution_count": 26,
   "metadata": {},
   "outputs": [],
   "source": [
    "#Merginging weekly values with indicators\n",
    "struct_indicators = weekly.merge(indicators, how='left', on=['year','month'], validate='m:1')"
   ]
  },
  {
   "cell_type": "code",
   "execution_count": 27,
   "metadata": {},
   "outputs": [],
   "source": [
    "#Drop duplicate column and rename main weekly calendar day to calendar_day\n",
    "struct_indicators = struct_indicators.drop(columns='calendar_day_y').rename(columns={'calendar_day_x':'calendar_day'})"
   ]
  },
  {
   "cell_type": "code",
   "execution_count": 29,
   "metadata": {},
   "outputs": [
    {
     "output_type": "execute_result",
     "data": {
      "text/plain": "      calendar_day  year  month          block      IN_tons  PR_ton  \\\n7013    2018-04-01  2018      4  3/16X3/4\" FLT     0.000000     0.0   \n4346    2017-06-11  2017      6     5 X 3\" ANG  1138.654989     0.0   \n2774    2016-12-18  2016     12         1\" FLT     5.028000     0.0   \n3354    2017-02-19  2017      2         5\" CHN  2264.804957     0.0   \n8890    2018-11-04  2018     11     1-1/4\" FLT     0.000000     0.0   \n10959   2019-06-23  2019      6       1/2\" SQR     0.005000     0.0   \n1928    2016-09-11  2016      9         3\" FLT     7.752000     0.0   \n3189    2017-02-05  2017      2        10\" CHN  3687.908011   118.0   \n8925    2018-11-04  2018     11     2 X 1\" CHN     2.285000     0.0   \n11295   2019-08-04  2019      8     2\" MED FLT     0.000000     0.0   \n\n       SO_order_qty_sales_units  SH_shipment_tons  global_steel_utilization  \\\n7013                      0.000               0.0                     0.771   \n4346                    117.048             120.0                     0.747   \n2774                      0.000               5.0                     0.682   \n3354                     17.688             123.0                     0.715   \n8890                      0.000               0.0                     0.762   \n10959                     0.000               0.0                     0.820   \n1928                      4.896               7.0                     0.685   \n3189                     99.818             131.0                     0.715   \n8925                     10.022               2.0                     0.762   \n11295                     0.000               0.0                     0.802   \n\n       fed_construction$B  state_local_construction$B  carbon_bar_ship_usa  \\\n7013               1630.0                     21280.0             243100.0   \n4346               1905.0                     23970.0             243300.0   \n2774               2026.0                     17951.0             171700.0   \n3354               1678.0                     16242.0             219300.0   \n8890               1880.0                     23202.0             205600.0   \n10959              2007.0                     28994.0             186600.0   \n1928               2405.0                     25578.0             192500.0   \n3189               1678.0                     16242.0             219300.0   \n8925               1880.0                     23202.0             205600.0   \n11295              2146.0                     31328.0             197600.0   \n\n       carbon_bar_ship_canada  structural_ship_usa  structural_ship_canada  \\\n7013                  31900.0             223200.0                 37700.0   \n4346                  33200.0             216300.0                 38700.0   \n2774                  22400.0             174600.0                 28400.0   \n3354                  28500.0             180400.0                 32200.0   \n8890                  33300.0             189200.0                 38000.0   \n10959                 32500.0             184000.0                 36700.0   \n1928                  29200.0             188800.0                 37600.0   \n3189                  28500.0             180400.0                 32200.0   \n8925                  33300.0             189200.0                 38000.0   \n11295                 31900.0             208600.0                 38500.0   \n\n       ism_manufacturing  ism_non_manufacturing  chicago_scrap$ST  \n7013                57.3                   56.8             385.0  \n4346                57.8                   57.4             350.0  \n2774                54.5                   56.6             275.0  \n3354                57.7                   57.6             305.0  \n8890                59.3                   60.7             405.0  \n10959               51.7                   55.1             285.0  \n1928                51.5                   57.1             235.0  \n3189                57.7                   57.6             305.0  \n8925                59.3                   60.7             405.0  \n11295               49.1                   56.4             300.0  ",
      "text/html": "<div>\n<style scoped>\n    .dataframe tbody tr th:only-of-type {\n        vertical-align: middle;\n    }\n\n    .dataframe tbody tr th {\n        vertical-align: top;\n    }\n\n    .dataframe thead th {\n        text-align: right;\n    }\n</style>\n<table border=\"1\" class=\"dataframe\">\n  <thead>\n    <tr style=\"text-align: right;\">\n      <th></th>\n      <th>calendar_day</th>\n      <th>year</th>\n      <th>month</th>\n      <th>block</th>\n      <th>IN_tons</th>\n      <th>PR_ton</th>\n      <th>SO_order_qty_sales_units</th>\n      <th>SH_shipment_tons</th>\n      <th>global_steel_utilization</th>\n      <th>fed_construction$B</th>\n      <th>state_local_construction$B</th>\n      <th>carbon_bar_ship_usa</th>\n      <th>carbon_bar_ship_canada</th>\n      <th>structural_ship_usa</th>\n      <th>structural_ship_canada</th>\n      <th>ism_manufacturing</th>\n      <th>ism_non_manufacturing</th>\n      <th>chicago_scrap$ST</th>\n    </tr>\n  </thead>\n  <tbody>\n    <tr>\n      <th>7013</th>\n      <td>2018-04-01</td>\n      <td>2018</td>\n      <td>4</td>\n      <td>3/16X3/4\" FLT</td>\n      <td>0.000000</td>\n      <td>0.0</td>\n      <td>0.000</td>\n      <td>0.0</td>\n      <td>0.771</td>\n      <td>1630.0</td>\n      <td>21280.0</td>\n      <td>243100.0</td>\n      <td>31900.0</td>\n      <td>223200.0</td>\n      <td>37700.0</td>\n      <td>57.3</td>\n      <td>56.8</td>\n      <td>385.0</td>\n    </tr>\n    <tr>\n      <th>4346</th>\n      <td>2017-06-11</td>\n      <td>2017</td>\n      <td>6</td>\n      <td>5 X 3\" ANG</td>\n      <td>1138.654989</td>\n      <td>0.0</td>\n      <td>117.048</td>\n      <td>120.0</td>\n      <td>0.747</td>\n      <td>1905.0</td>\n      <td>23970.0</td>\n      <td>243300.0</td>\n      <td>33200.0</td>\n      <td>216300.0</td>\n      <td>38700.0</td>\n      <td>57.8</td>\n      <td>57.4</td>\n      <td>350.0</td>\n    </tr>\n    <tr>\n      <th>2774</th>\n      <td>2016-12-18</td>\n      <td>2016</td>\n      <td>12</td>\n      <td>1\" FLT</td>\n      <td>5.028000</td>\n      <td>0.0</td>\n      <td>0.000</td>\n      <td>5.0</td>\n      <td>0.682</td>\n      <td>2026.0</td>\n      <td>17951.0</td>\n      <td>171700.0</td>\n      <td>22400.0</td>\n      <td>174600.0</td>\n      <td>28400.0</td>\n      <td>54.5</td>\n      <td>56.6</td>\n      <td>275.0</td>\n    </tr>\n    <tr>\n      <th>3354</th>\n      <td>2017-02-19</td>\n      <td>2017</td>\n      <td>2</td>\n      <td>5\" CHN</td>\n      <td>2264.804957</td>\n      <td>0.0</td>\n      <td>17.688</td>\n      <td>123.0</td>\n      <td>0.715</td>\n      <td>1678.0</td>\n      <td>16242.0</td>\n      <td>219300.0</td>\n      <td>28500.0</td>\n      <td>180400.0</td>\n      <td>32200.0</td>\n      <td>57.7</td>\n      <td>57.6</td>\n      <td>305.0</td>\n    </tr>\n    <tr>\n      <th>8890</th>\n      <td>2018-11-04</td>\n      <td>2018</td>\n      <td>11</td>\n      <td>1-1/4\" FLT</td>\n      <td>0.000000</td>\n      <td>0.0</td>\n      <td>0.000</td>\n      <td>0.0</td>\n      <td>0.762</td>\n      <td>1880.0</td>\n      <td>23202.0</td>\n      <td>205600.0</td>\n      <td>33300.0</td>\n      <td>189200.0</td>\n      <td>38000.0</td>\n      <td>59.3</td>\n      <td>60.7</td>\n      <td>405.0</td>\n    </tr>\n    <tr>\n      <th>10959</th>\n      <td>2019-06-23</td>\n      <td>2019</td>\n      <td>6</td>\n      <td>1/2\" SQR</td>\n      <td>0.005000</td>\n      <td>0.0</td>\n      <td>0.000</td>\n      <td>0.0</td>\n      <td>0.820</td>\n      <td>2007.0</td>\n      <td>28994.0</td>\n      <td>186600.0</td>\n      <td>32500.0</td>\n      <td>184000.0</td>\n      <td>36700.0</td>\n      <td>51.7</td>\n      <td>55.1</td>\n      <td>285.0</td>\n    </tr>\n    <tr>\n      <th>1928</th>\n      <td>2016-09-11</td>\n      <td>2016</td>\n      <td>9</td>\n      <td>3\" FLT</td>\n      <td>7.752000</td>\n      <td>0.0</td>\n      <td>4.896</td>\n      <td>7.0</td>\n      <td>0.685</td>\n      <td>2405.0</td>\n      <td>25578.0</td>\n      <td>192500.0</td>\n      <td>29200.0</td>\n      <td>188800.0</td>\n      <td>37600.0</td>\n      <td>51.5</td>\n      <td>57.1</td>\n      <td>235.0</td>\n    </tr>\n    <tr>\n      <th>3189</th>\n      <td>2017-02-05</td>\n      <td>2017</td>\n      <td>2</td>\n      <td>10\" CHN</td>\n      <td>3687.908011</td>\n      <td>118.0</td>\n      <td>99.818</td>\n      <td>131.0</td>\n      <td>0.715</td>\n      <td>1678.0</td>\n      <td>16242.0</td>\n      <td>219300.0</td>\n      <td>28500.0</td>\n      <td>180400.0</td>\n      <td>32200.0</td>\n      <td>57.7</td>\n      <td>57.6</td>\n      <td>305.0</td>\n    </tr>\n    <tr>\n      <th>8925</th>\n      <td>2018-11-04</td>\n      <td>2018</td>\n      <td>11</td>\n      <td>2 X 1\" CHN</td>\n      <td>2.285000</td>\n      <td>0.0</td>\n      <td>10.022</td>\n      <td>2.0</td>\n      <td>0.762</td>\n      <td>1880.0</td>\n      <td>23202.0</td>\n      <td>205600.0</td>\n      <td>33300.0</td>\n      <td>189200.0</td>\n      <td>38000.0</td>\n      <td>59.3</td>\n      <td>60.7</td>\n      <td>405.0</td>\n    </tr>\n    <tr>\n      <th>11295</th>\n      <td>2019-08-04</td>\n      <td>2019</td>\n      <td>8</td>\n      <td>2\" MED FLT</td>\n      <td>0.000000</td>\n      <td>0.0</td>\n      <td>0.000</td>\n      <td>0.0</td>\n      <td>0.802</td>\n      <td>2146.0</td>\n      <td>31328.0</td>\n      <td>197600.0</td>\n      <td>31900.0</td>\n      <td>208600.0</td>\n      <td>38500.0</td>\n      <td>49.1</td>\n      <td>56.4</td>\n      <td>300.0</td>\n    </tr>\n  </tbody>\n</table>\n</div>"
     },
     "metadata": {},
     "execution_count": 29
    }
   ],
   "source": [
    "struct_indicators.sample(10)"
   ]
  },
  {
   "cell_type": "code",
   "execution_count": 30,
   "metadata": {},
   "outputs": [
    {
     "output_type": "execute_result",
     "data": {
      "text/plain": "Index(['calendar_day', 'year', 'month', 'block', 'IN_tons', 'PR_ton',\n       'SO_order_qty_sales_units', 'SH_shipment_tons',\n       'global_steel_utilization', 'fed_construction$B',\n       'state_local_construction$B', 'carbon_bar_ship_usa',\n       'carbon_bar_ship_canada', 'structural_ship_usa',\n       'structural_ship_canada', 'ism_manufacturing', 'ism_non_manufacturing',\n       'chicago_scrap$ST'],\n      dtype='object')"
     },
     "metadata": {},
     "execution_count": 30
    }
   ],
   "source": [
    "struct_indicators.columns"
   ]
  },
  {
   "cell_type": "code",
   "execution_count": 32,
   "metadata": {},
   "outputs": [],
   "source": [
    "#Rearanging Order\n",
    "struct_indicators = struct_indicators[['calendar_day', 'year', 'month',\n",
    "       'global_steel_utilization', 'fed_construction$B',\n",
    "       'state_local_construction$B', 'carbon_bar_ship_usa',\n",
    "       'carbon_bar_ship_canada', 'structural_ship_usa',\n",
    "       'structural_ship_canada', 'ism_manufacturing', 'ism_non_manufacturing',\n",
    "       'chicago_scrap$ST', 'block', 'IN_tons', 'PR_ton',\n",
    "       'SO_order_qty_sales_units', 'SH_shipment_tons',]]"
   ]
  },
  {
   "cell_type": "code",
   "execution_count": 33,
   "metadata": {},
   "outputs": [
    {
     "output_type": "stream",
     "name": "stdout",
     "text": "<class 'pandas.core.frame.DataFrame'>\nInt64Index: 12519 entries, 0 to 12518\nData columns (total 18 columns):\n #   Column                      Non-Null Count  Dtype         \n---  ------                      --------------  -----         \n 0   calendar_day                12519 non-null  datetime64[ns]\n 1   year                        12519 non-null  int64         \n 2   month                       12519 non-null  int64         \n 3   global_steel_utilization    12519 non-null  float64       \n 4   fed_construction$B          12519 non-null  float64       \n 5   state_local_construction$B  12519 non-null  float64       \n 6   carbon_bar_ship_usa         12519 non-null  float64       \n 7   carbon_bar_ship_canada      12519 non-null  float64       \n 8   structural_ship_usa         12519 non-null  float64       \n 9   structural_ship_canada      12519 non-null  float64       \n 10  ism_manufacturing           12519 non-null  float64       \n 11  ism_non_manufacturing       12519 non-null  float64       \n 12  chicago_scrap$ST            12519 non-null  float64       \n 13  block                       12519 non-null  object        \n 14  IN_tons                     12519 non-null  float64       \n 15  PR_ton                      12519 non-null  float64       \n 16  SO_order_qty_sales_units    12519 non-null  float64       \n 17  SH_shipment_tons            12519 non-null  float64       \ndtypes: datetime64[ns](1), float64(14), int64(2), object(1)\nmemory usage: 1.8+ MB\n"
    }
   ],
   "source": [
    "struct_indicators.info()"
   ]
  },
  {
   "cell_type": "markdown",
   "metadata": {},
   "source": [
    "### Monthly Merge with Indicators"
   ]
  },
  {
   "cell_type": "code",
   "execution_count": 31,
   "metadata": {},
   "outputs": [],
   "source": [
    "#Merginging weekly values with indicators\n",
    "monthly_indicators = monthly.merge(indicators, how='left', on=['year','month'], validate='m:1')"
   ]
  },
  {
   "cell_type": "code",
   "execution_count": 32,
   "metadata": {},
   "outputs": [
    {
     "output_type": "stream",
     "name": "stdout",
     "text": "<class 'pandas.core.frame.DataFrame'>\nInt64Index: 2936 entries, 0 to 2935\nData columns (total 19 columns):\n #   Column                      Non-Null Count  Dtype         \n---  ------                      --------------  -----         \n 0   calendar_day_x              2936 non-null   datetime64[ns]\n 1   year                        2936 non-null   int64         \n 2   month                       2936 non-null   int64         \n 3   block                       2936 non-null   object        \n 4   IN_tons                     2936 non-null   float64       \n 5   PR_ton                      2936 non-null   float64       \n 6   SO_order_qty_sales_units    2936 non-null   float64       \n 7   SH_shipment_tons            2936 non-null   float64       \n 8   calendar_day_y              2936 non-null   datetime64[ns]\n 9   global_steel_utilization    2936 non-null   float64       \n 10  fed_construction$B          2936 non-null   float64       \n 11  state_local_construction$B  2936 non-null   float64       \n 12  carbon_bar_ship_usa         2936 non-null   float64       \n 13  carbon_bar_ship_canada      2936 non-null   float64       \n 14  structural_ship_usa         2936 non-null   float64       \n 15  structural_ship_canada      2936 non-null   float64       \n 16  ism_manufacturing           2936 non-null   float64       \n 17  ism_non_manufacturing       2936 non-null   float64       \n 18  chicago_scrap$ST            2936 non-null   float64       \ndtypes: datetime64[ns](2), float64(14), int64(2), object(1)\nmemory usage: 538.8+ KB\n"
    }
   ],
   "source": [
    "monthly_indicators.info()"
   ]
  },
  {
   "cell_type": "code",
   "execution_count": 33,
   "metadata": {},
   "outputs": [],
   "source": [
    "#Drop duplicate column and rename main monthly calendar day to calendar_day\n",
    "monthly_indicators = monthly_indicators.drop(columns='calendar_day_y').rename(columns={'calendar_day_x':'calendar_day'})"
   ]
  },
  {
   "cell_type": "code",
   "execution_count": 34,
   "metadata": {},
   "outputs": [],
   "source": [
    "#Rearanging Order\n",
    "monthly_indicators = monthly_indicators[['calendar_day', 'year', 'month',\n",
    "       'global_steel_utilization', 'fed_construction$B',\n",
    "       'state_local_construction$B', 'carbon_bar_ship_usa',\n",
    "       'carbon_bar_ship_canada', 'structural_ship_usa',\n",
    "       'structural_ship_canada', 'ism_manufacturing', 'ism_non_manufacturing',\n",
    "       'chicago_scrap$ST', 'block', 'IN_tons', 'PR_ton',\n",
    "       'SO_order_qty_sales_units', 'SH_shipment_tons',]]"
   ]
  },
  {
   "cell_type": "code",
   "execution_count": 35,
   "metadata": {},
   "outputs": [
    {
     "output_type": "execute_result",
     "data": {
      "text/plain": "Index(['calendar_day', 'year', 'month', 'global_steel_utilization',\n       'fed_construction$B', 'state_local_construction$B',\n       'carbon_bar_ship_usa', 'carbon_bar_ship_canada', 'structural_ship_usa',\n       'structural_ship_canada', 'ism_manufacturing', 'ism_non_manufacturing',\n       'chicago_scrap$ST', 'block', 'IN_tons', 'PR_ton',\n       'SO_order_qty_sales_units', 'SH_shipment_tons'],\n      dtype='object')"
     },
     "metadata": {},
     "execution_count": 35
    }
   ],
   "source": [
    "monthly_indicators.columns"
   ]
  },
  {
   "cell_type": "code",
   "execution_count": 36,
   "metadata": {},
   "outputs": [
    {
     "output_type": "execute_result",
     "data": {
      "text/plain": "     calendar_day  year  month  global_steel_utilization  fed_construction$B  \\\n1460   2018-01-31  2018      1                    0.7270              2199.0   \n2712   2019-09-30  2019      9                    0.7830              2590.0   \n1915   2018-08-31  2018      8                    0.7603              2025.0   \n1653   2018-04-30  2018      4                    0.7710              1630.0   \n2839   2019-11-30  2019     11                    0.7930              2026.0   \n64     2016-02-29  2016      2                    0.6600              1840.0   \n2898   2020-01-31  2020      1                    0.8190              1970.0   \n839    2017-03-31  2017      3                    0.7230              1924.0   \n1615   2018-03-31  2018      3                    0.7470              1689.0   \n1410   2017-12-31  2017     12                    0.6940              2235.0   \n\n      state_local_construction$B  carbon_bar_ship_usa  carbon_bar_ship_canada  \\\n1460                     16621.0             247100.0                 34200.0   \n2712                     30251.0             179000.0                 30900.0   \n1915                     29939.0             250500.0                 33200.0   \n1653                     21280.0             243100.0                 31900.0   \n2839                     25357.0             159600.0                 32600.0   \n64                       17198.0             205400.0                 31000.0   \n2898                     19685.0             198100.0                 37400.0   \n839                      17953.0             257400.0                 34900.0   \n1615                     18625.0             255200.0                 34700.0   \n1410                     18835.0             195400.0                 24100.0   \n\n      structural_ship_usa  structural_ship_canada  ism_manufacturing  \\\n1460             218000.0                 37400.0               59.1   \n2712             195800.0                 37300.0               47.8   \n1915             231500.0                 38500.0               61.3   \n1653             223200.0                 37700.0               57.3   \n2839             176900.0                 35400.0               48.1   \n64               187000.0                 37500.0               49.5   \n2898             202700.0                 33500.0               50.9   \n839              217100.0                 37300.0               57.2   \n1615             234500.0                 39300.0               59.3   \n1410             183400.0                 30700.0               59.7   \n\n      ism_non_manufacturing  chicago_scrap$ST           block       IN_tons  \\\n1460                   59.9             375.0    1-2\" LRG FLT      4.896000   \n2712                   52.6             260.0          9\" CHN   6919.291984   \n1915                   58.5             395.0      3-1/2\" ANG  55161.386247   \n1653                   56.8             385.0      1-1/4\" SQR      0.000000   \n2839                   53.9             240.0        5/8\" SQR      0.000000   \n64                     53.4             180.0          8\" CHN  17624.909000   \n2898                   55.5             300.0  5 X 3-1/2\" ANG   2109.863982   \n839                    55.2             370.0      1-1/4\" SQR      0.000000   \n1615                   58.8             375.0          1\" CHN      0.000000   \n1410                   55.9             345.0          6\" FLT  37076.147938   \n\n      PR_ton  SO_order_qty_sales_units  SH_shipment_tons  \n1460     0.0                     2.448               6.0  \n2712     0.0                   125.256             118.0  \n1915  3339.0                  1153.475            1549.0  \n1653     0.0                     0.000               0.0  \n2839     0.0                     5.046               0.0  \n64      12.0                   561.765             674.0  \n2898     0.0                    76.320              56.0  \n839      0.0                     2.550               0.0  \n1615     0.0                     0.000               3.0  \n1410     0.0                   643.650             396.0  ",
      "text/html": "<div>\n<style scoped>\n    .dataframe tbody tr th:only-of-type {\n        vertical-align: middle;\n    }\n\n    .dataframe tbody tr th {\n        vertical-align: top;\n    }\n\n    .dataframe thead th {\n        text-align: right;\n    }\n</style>\n<table border=\"1\" class=\"dataframe\">\n  <thead>\n    <tr style=\"text-align: right;\">\n      <th></th>\n      <th>calendar_day</th>\n      <th>year</th>\n      <th>month</th>\n      <th>global_steel_utilization</th>\n      <th>fed_construction$B</th>\n      <th>state_local_construction$B</th>\n      <th>carbon_bar_ship_usa</th>\n      <th>carbon_bar_ship_canada</th>\n      <th>structural_ship_usa</th>\n      <th>structural_ship_canada</th>\n      <th>ism_manufacturing</th>\n      <th>ism_non_manufacturing</th>\n      <th>chicago_scrap$ST</th>\n      <th>block</th>\n      <th>IN_tons</th>\n      <th>PR_ton</th>\n      <th>SO_order_qty_sales_units</th>\n      <th>SH_shipment_tons</th>\n    </tr>\n  </thead>\n  <tbody>\n    <tr>\n      <th>1460</th>\n      <td>2018-01-31</td>\n      <td>2018</td>\n      <td>1</td>\n      <td>0.7270</td>\n      <td>2199.0</td>\n      <td>16621.0</td>\n      <td>247100.0</td>\n      <td>34200.0</td>\n      <td>218000.0</td>\n      <td>37400.0</td>\n      <td>59.1</td>\n      <td>59.9</td>\n      <td>375.0</td>\n      <td>1-2\" LRG FLT</td>\n      <td>4.896000</td>\n      <td>0.0</td>\n      <td>2.448</td>\n      <td>6.0</td>\n    </tr>\n    <tr>\n      <th>2712</th>\n      <td>2019-09-30</td>\n      <td>2019</td>\n      <td>9</td>\n      <td>0.7830</td>\n      <td>2590.0</td>\n      <td>30251.0</td>\n      <td>179000.0</td>\n      <td>30900.0</td>\n      <td>195800.0</td>\n      <td>37300.0</td>\n      <td>47.8</td>\n      <td>52.6</td>\n      <td>260.0</td>\n      <td>9\" CHN</td>\n      <td>6919.291984</td>\n      <td>0.0</td>\n      <td>125.256</td>\n      <td>118.0</td>\n    </tr>\n    <tr>\n      <th>1915</th>\n      <td>2018-08-31</td>\n      <td>2018</td>\n      <td>8</td>\n      <td>0.7603</td>\n      <td>2025.0</td>\n      <td>29939.0</td>\n      <td>250500.0</td>\n      <td>33200.0</td>\n      <td>231500.0</td>\n      <td>38500.0</td>\n      <td>61.3</td>\n      <td>58.5</td>\n      <td>395.0</td>\n      <td>3-1/2\" ANG</td>\n      <td>55161.386247</td>\n      <td>3339.0</td>\n      <td>1153.475</td>\n      <td>1549.0</td>\n    </tr>\n    <tr>\n      <th>1653</th>\n      <td>2018-04-30</td>\n      <td>2018</td>\n      <td>4</td>\n      <td>0.7710</td>\n      <td>1630.0</td>\n      <td>21280.0</td>\n      <td>243100.0</td>\n      <td>31900.0</td>\n      <td>223200.0</td>\n      <td>37700.0</td>\n      <td>57.3</td>\n      <td>56.8</td>\n      <td>385.0</td>\n      <td>1-1/4\" SQR</td>\n      <td>0.000000</td>\n      <td>0.0</td>\n      <td>0.000</td>\n      <td>0.0</td>\n    </tr>\n    <tr>\n      <th>2839</th>\n      <td>2019-11-30</td>\n      <td>2019</td>\n      <td>11</td>\n      <td>0.7930</td>\n      <td>2026.0</td>\n      <td>25357.0</td>\n      <td>159600.0</td>\n      <td>32600.0</td>\n      <td>176900.0</td>\n      <td>35400.0</td>\n      <td>48.1</td>\n      <td>53.9</td>\n      <td>240.0</td>\n      <td>5/8\" SQR</td>\n      <td>0.000000</td>\n      <td>0.0</td>\n      <td>5.046</td>\n      <td>0.0</td>\n    </tr>\n    <tr>\n      <th>64</th>\n      <td>2016-02-29</td>\n      <td>2016</td>\n      <td>2</td>\n      <td>0.6600</td>\n      <td>1840.0</td>\n      <td>17198.0</td>\n      <td>205400.0</td>\n      <td>31000.0</td>\n      <td>187000.0</td>\n      <td>37500.0</td>\n      <td>49.5</td>\n      <td>53.4</td>\n      <td>180.0</td>\n      <td>8\" CHN</td>\n      <td>17624.909000</td>\n      <td>12.0</td>\n      <td>561.765</td>\n      <td>674.0</td>\n    </tr>\n    <tr>\n      <th>2898</th>\n      <td>2020-01-31</td>\n      <td>2020</td>\n      <td>1</td>\n      <td>0.8190</td>\n      <td>1970.0</td>\n      <td>19685.0</td>\n      <td>198100.0</td>\n      <td>37400.0</td>\n      <td>202700.0</td>\n      <td>33500.0</td>\n      <td>50.9</td>\n      <td>55.5</td>\n      <td>300.0</td>\n      <td>5 X 3-1/2\" ANG</td>\n      <td>2109.863982</td>\n      <td>0.0</td>\n      <td>76.320</td>\n      <td>56.0</td>\n    </tr>\n    <tr>\n      <th>839</th>\n      <td>2017-03-31</td>\n      <td>2017</td>\n      <td>3</td>\n      <td>0.7230</td>\n      <td>1924.0</td>\n      <td>17953.0</td>\n      <td>257400.0</td>\n      <td>34900.0</td>\n      <td>217100.0</td>\n      <td>37300.0</td>\n      <td>57.2</td>\n      <td>55.2</td>\n      <td>370.0</td>\n      <td>1-1/4\" SQR</td>\n      <td>0.000000</td>\n      <td>0.0</td>\n      <td>2.550</td>\n      <td>0.0</td>\n    </tr>\n    <tr>\n      <th>1615</th>\n      <td>2018-03-31</td>\n      <td>2018</td>\n      <td>3</td>\n      <td>0.7470</td>\n      <td>1689.0</td>\n      <td>18625.0</td>\n      <td>255200.0</td>\n      <td>34700.0</td>\n      <td>234500.0</td>\n      <td>39300.0</td>\n      <td>59.3</td>\n      <td>58.8</td>\n      <td>375.0</td>\n      <td>1\" CHN</td>\n      <td>0.000000</td>\n      <td>0.0</td>\n      <td>0.000</td>\n      <td>3.0</td>\n    </tr>\n    <tr>\n      <th>1410</th>\n      <td>2017-12-31</td>\n      <td>2017</td>\n      <td>12</td>\n      <td>0.6940</td>\n      <td>2235.0</td>\n      <td>18835.0</td>\n      <td>195400.0</td>\n      <td>24100.0</td>\n      <td>183400.0</td>\n      <td>30700.0</td>\n      <td>59.7</td>\n      <td>55.9</td>\n      <td>345.0</td>\n      <td>6\" FLT</td>\n      <td>37076.147938</td>\n      <td>0.0</td>\n      <td>643.650</td>\n      <td>396.0</td>\n    </tr>\n  </tbody>\n</table>\n</div>"
     },
     "metadata": {},
     "execution_count": 36
    }
   ],
   "source": [
    "monthly_indicators.sample(10)"
   ]
  },
  {
   "cell_type": "markdown",
   "metadata": {},
   "source": [
    "### Saving to formats for digestion"
   ]
  },
  {
   "cell_type": "code",
   "execution_count": 34,
   "metadata": {},
   "outputs": [],
   "source": [
    "#Saving df into pickle and csv\n",
    "#struct_indicators.to_csv(path+\"structuralweekly_with_indicators.csv\")\n",
    "#struct_indicators.to_pickle(ser_path+\"structuralweekly_with_indicators.pkl\")"
   ]
  },
  {
   "cell_type": "code",
   "execution_count": 37,
   "metadata": {},
   "outputs": [],
   "source": [
    "#Saving df into pickle and csv\n",
    "#monthly_indicators.to_csv(path+\"structuralmonthly_with_indicators.csv\")\n",
    "#monthly_indicators.to_pickle(ser_path+\"structuralmonthly_with_indicators.pkl\")"
   ]
  },
  {
   "cell_type": "code",
   "execution_count": null,
   "metadata": {},
   "outputs": [],
   "source": []
  }
 ],
 "metadata": {
  "language_info": {
   "codemirror_mode": {
    "name": "ipython",
    "version": 3
   },
   "file_extension": ".py",
   "mimetype": "text/x-python",
   "name": "python",
   "nbconvert_exporter": "python",
   "pygments_lexer": "ipython3",
   "version": "3.7.6-final"
  },
  "orig_nbformat": 2,
  "kernelspec": {
   "name": "python37664bitpftpipenv41a3325616004cea923f5375811f25e4",
   "display_name": "Python 3.7.6 64-bit ('pft': pipenv)"
  }
 },
 "nbformat": 4,
 "nbformat_minor": 2
}