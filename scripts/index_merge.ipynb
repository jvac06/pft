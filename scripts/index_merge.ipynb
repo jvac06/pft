{
 "cells": [
  {
   "cell_type": "code",
   "execution_count": 43,
   "metadata": {},
   "outputs": [],
   "source": [
    "#Dependencies\n",
    "import numpy as np\n",
    "import pandas as pd\n",
    "import datetime as dt\n",
    "import re"
   ]
  },
  {
   "cell_type": "code",
   "execution_count": 2,
   "metadata": {},
   "outputs": [
    {
     "output_type": "execute_result",
     "data": {
      "text/plain": "'/Users/jacosta3/OneDrive - University of South Florida/Gerdau Projects/pft/scripts'"
     },
     "metadata": {},
     "execution_count": 2
    }
   ],
   "source": [
    "os.getcwd()"
   ]
  },
  {
   "cell_type": "markdown",
   "metadata": {},
   "source": [
    "## Fetching Indicators info"
   ]
  },
  {
   "cell_type": "code",
   "execution_count": 89,
   "metadata": {},
   "outputs": [],
   "source": [
    "#File directory\n",
    "ser_path = \"./serialized/\"\n",
    "path = \"./confidential/\"\n",
    "#change directory to datasets\n",
    "os.chdir(\"../datasets\")"
   ]
  },
  {
   "cell_type": "code",
   "execution_count": 90,
   "metadata": {},
   "outputs": [],
   "source": [
    "indicators = pd.read_excel(path+\"market_indicators.xlsx\",sheet_name=\"Monthly\")"
   ]
  },
  {
   "cell_type": "code",
   "execution_count": 91,
   "metadata": {},
   "outputs": [
    {
     "output_type": "stream",
     "name": "stdout",
     "text": "<class 'pandas.core.frame.DataFrame'>\nRangeIndex: 124 entries, 0 to 123\nData columns (total 17 columns):\n #   Column                                               Non-Null Count  Dtype         \n---  ------                                               --------------  -----         \n 0   dd/mm/yy                                             124 non-null    datetime64[ns]\n 1   Year                                                 124 non-null    int64         \n 2   Month                                                124 non-null    object        \n 3   National Architect Billing/monthly                   121 non-null    float64       \n 4   Total Federal Construction/Billion $                 121 non-null    float64       \n 5   Total State and Local Construction/Billion $         121 non-null    float64       \n 6   US Steel Capacity Utilization                        109 non-null    float64       \n 7   US Long Steel/million $ per short ton                26 non-null     float64       \n 8   US Domestic Hot-Rolled Coil/Million $ per short ton  26 non-null     float64       \n 9   MSCI Carbon bar monthly shipments                    121 non-null    float64       \n 10  MSCI Carbon bar monthly shipments (canada)           121 non-null    float64       \n 11  Structural Shipments /USA                            121 non-null    float64       \n 12  Structural Shipments /Canada                         121 non-null    float64       \n 13  ISM Manufacturing                                    122 non-null    float64       \n 14  ISM Non Manufacturing                                123 non-null    float64       \n 15  Global Steel Utilization                             117 non-null    float64       \n 16  Chicago#1 Scrap Bushelling                           50 non-null     float64       \ndtypes: datetime64[ns](1), float64(14), int64(1), object(1)\nmemory usage: 16.6+ KB\n"
    }
   ],
   "source": [
    "indicators.info()"
   ]
  },
  {
   "cell_type": "markdown",
   "metadata": {},
   "source": [
    "## Cleaning Columns"
   ]
  },
  {
   "cell_type": "code",
   "execution_count": 92,
   "metadata": {},
   "outputs": [],
   "source": [
    "def clean_columns(dataframe):\n",
    "    for col in dataframe.columns:\n",
    "        dataframe.rename(columns={col:re.sub(r'([a-z](?=[A-Z])|[A-Z](?=[A-Z][a-z]))', r'\\1 ', col)}, inplace=True)\n",
    "    dataframe.columns = dataframe.columns.str.strip().str.lower().str.replace(\" \",\"_\")\n",
    "    try:\n",
    "        dataframe[\"calendar_day\"] = dataframe[\"calendar_day\"].astype(\"datetime64\")\n",
    "    except:\n",
    "        pass\n",
    "    try:\n",
    "        dataframe[\"requested_date\"] = dataframe[\"requested_date\"].astype(\"datetime64\")\n",
    "        dataframe[\"confirmed_date\"] = dataframe[\"confirmed_date\"].astype(\"datetime64\")\n",
    "        dataframe[\"material_avail_date\"] = dataframe[\"material_avail_date\"].astype(\"datetime64\")\n",
    "        dataframe[\"load_date\"] = dataframe[\"load_date\"].astype(\"datetime64\")\n",
    "        dataframe[\"plan_goods_issue_date\"] = dataframe[\"plan_goods_issue_date\"].astype(\"datetime64\")\n",
    "    except:\n",
    "        pass\n",
    "    try:\n",
    "        dataframe[\"snapshot_date\"] = dataframe[\"snapshot_date\"].astype(\"datetime64\")\n",
    "    finally:\n",
    "        return dataframe.columns"
   ]
  },
  {
   "cell_type": "code",
   "execution_count": 93,
   "metadata": {},
   "outputs": [
    {
     "output_type": "execute_result",
     "data": {
      "text/plain": "Index(['dd/mm/yy', 'year', 'month', 'national_architect_billing/monthly',\n       'total_federal_construction/billion_$',\n       'total_state_and_local_construction/billion_$',\n       'us_steel_capacity_utilization',\n       'us_long_steel/million_$_per_short_ton',\n       'us_domestic_hot-rolled_coil/million_$_per_short_ton',\n       'msci_carbon_bar_monthly_shipments',\n       'msci_carbon_bar_monthly_shipments_(canada)',\n       'structural_shipments_/usa', 'structural_shipments_/canada',\n       'ism_manufacturing', 'ism_non_manufacturing',\n       'global_steel_utilization', 'chicago#1_scrap_bushelling'],\n      dtype='object')"
     },
     "metadata": {},
     "execution_count": 93
    }
   ],
   "source": [
    "clean_columns(indicators)"
   ]
  },
  {
   "cell_type": "markdown",
   "metadata": {},
   "source": [
    "### Create Month & Year Columns"
   ]
  },
  {
   "cell_type": "code",
   "execution_count": 94,
   "metadata": {},
   "outputs": [],
   "source": [
    "indicators['year'] = indicators['dd/mm/yy'].dt.year\n",
    "indicators['month'] = indicators['dd/mm/yy'].dt.month"
   ]
  },
  {
   "cell_type": "markdown",
   "metadata": {},
   "source": [
    "### Rename Columns"
   ]
  },
  {
   "cell_type": "code",
   "execution_count": 96,
   "metadata": {},
   "outputs": [
    {
     "output_type": "execute_result",
     "data": {
      "text/plain": "Index(['dd/mm/yy', 'year', 'month', 'national_architect_billing/monthly',\n       'total_federal_construction/billion_$',\n       'total_state_and_local_construction/billion_$',\n       'us_steel_capacity_utilization',\n       'us_long_steel/million_$_per_short_ton',\n       'us_domestic_hot-rolled_coil/million_$_per_short_ton',\n       'msci_carbon_bar_monthly_shipments',\n       'msci_carbon_bar_monthly_shipments_(canada)',\n       'structural_shipments_/usa', 'structural_shipments_/canada',\n       'ism_manufacturing', 'ism_non_manufacturing',\n       'global_steel_utilization', 'chicago#1_scrap_bushelling'],\n      dtype='object')"
     },
     "metadata": {},
     "execution_count": 96
    }
   ],
   "source": [
    "indicators.columns"
   ]
  },
  {
   "cell_type": "code",
   "execution_count": 98,
   "metadata": {},
   "outputs": [],
   "source": [
    "#Remane column & pick only desired ones \n",
    "indicators = indicators.rename(columns={'dd/mm/yy':'calendar_day',\n",
    "                                        'total_federal_construction/billion_$':'fed_construction$B',                                                              'total_state_and_local_construction/billion_$':'state_local_construction$B',\n",
    "                                        'msci_carbon_bar_monthly_shipments':'carbon_bar_ship_usa',\n",
    "                                        'msci_carbon_bar_monthly_shipments_(canada)':'carbon_bar_ship_canada',\n",
    "                                        'structural_shipments_/usa':'structural_ship_usa', \n",
    "                                        'structural_shipments_/canada':'structural_ship_canada',\n",
    "                                        'chicago#1_scrap_bushelling':'chicago_scrap$ST'})\n",
    "indicators = indicators[['calendar_day','year','month', 'global_steel_utilization','fed_construction$B',                                           'state_local_construction$B','carbon_bar_ship_usa','carbon_bar_ship_canada',                                              'structural_ship_usa','structural_ship_canada', 'ism_manufacturing', 'ism_non_manufacturing',                             'chicago_scrap$ST']]"
   ]
  },
  {
   "cell_type": "markdown",
   "metadata": {},
   "source": [
    "### Selecting 2016 dates on"
   ]
  },
  {
   "cell_type": "code",
   "execution_count": 99,
   "metadata": {},
   "outputs": [],
   "source": [
    "#select 2016-2020\n",
    "indicators = indicators[(indicators['calendar_day'].dt.year >= 2016) & (indicators['calendar_day'] <='2020-01-01')]\n",
    "indicators = indicators.reset_index()"
   ]
  },
  {
   "cell_type": "code",
   "execution_count": 100,
   "metadata": {},
   "outputs": [
    {
     "output_type": "stream",
     "name": "stdout",
     "text": "<class 'pandas.core.frame.DataFrame'>\nRangeIndex: 49 entries, 0 to 48\nData columns (total 14 columns):\n #   Column                      Non-Null Count  Dtype         \n---  ------                      --------------  -----         \n 0   index                       49 non-null     int64         \n 1   calendar_day                49 non-null     datetime64[ns]\n 2   year                        49 non-null     int64         \n 3   month                       49 non-null     int64         \n 4   global_steel_utilization    45 non-null     float64       \n 5   fed_construction$B          49 non-null     float64       \n 6   state_local_construction$B  49 non-null     float64       \n 7   carbon_bar_ship_usa         49 non-null     float64       \n 8   carbon_bar_ship_canada      49 non-null     float64       \n 9   structural_ship_usa         49 non-null     float64       \n 10  structural_ship_canada      49 non-null     float64       \n 11  ism_manufacturing           49 non-null     float64       \n 12  ism_non_manufacturing       49 non-null     float64       \n 13  chicago_scrap$ST            49 non-null     float64       \ndtypes: datetime64[ns](1), float64(10), int64(3)\nmemory usage: 5.5 KB\n"
    }
   ],
   "source": [
    "indicators.info()"
   ]
  },
  {
   "cell_type": "markdown",
   "metadata": {},
   "source": [
    "### Fill NaNs"
   ]
  },
  {
   "cell_type": "code",
   "execution_count": 101,
   "metadata": {},
   "outputs": [],
   "source": [
    "#filling NaNs - assumption gradual increase\n",
    "values = {36:0.7768,37:0.7915,38:0.8063,39:0.8210}\n",
    "indicators['global_steel_utilization'] = indicators['global_steel_utilization'].fillna(value=values, axis=0)"
   ]
  },
  {
   "cell_type": "code",
   "execution_count": 102,
   "metadata": {},
   "outputs": [
    {
     "output_type": "stream",
     "name": "stdout",
     "text": "<class 'pandas.core.frame.DataFrame'>\nRangeIndex: 49 entries, 0 to 48\nData columns (total 14 columns):\n #   Column                      Non-Null Count  Dtype         \n---  ------                      --------------  -----         \n 0   index                       49 non-null     int64         \n 1   calendar_day                49 non-null     datetime64[ns]\n 2   year                        49 non-null     int64         \n 3   month                       49 non-null     int64         \n 4   global_steel_utilization    49 non-null     float64       \n 5   fed_construction$B          49 non-null     float64       \n 6   state_local_construction$B  49 non-null     float64       \n 7   carbon_bar_ship_usa         49 non-null     float64       \n 8   carbon_bar_ship_canada      49 non-null     float64       \n 9   structural_ship_usa         49 non-null     float64       \n 10  structural_ship_canada      49 non-null     float64       \n 11  ism_manufacturing           49 non-null     float64       \n 12  ism_non_manufacturing       49 non-null     float64       \n 13  chicago_scrap$ST            49 non-null     float64       \ndtypes: datetime64[ns](1), float64(10), int64(3)\nmemory usage: 5.5 KB\n"
    }
   ],
   "source": [
    "indicators.info()"
   ]
  },
  {
   "cell_type": "code",
   "execution_count": 103,
   "metadata": {},
   "outputs": [
    {
     "output_type": "execute_result",
     "data": {
      "text/plain": "    index calendar_day  year  month  global_steel_utilization  \\\n0      72   2016-01-01  2016      1                    0.6600   \n1      73   2016-02-01  2016      2                    0.6600   \n2      74   2016-03-01  2016      3                    0.7070   \n3      75   2016-04-01  2016      4                    0.7050   \n4      76   2016-05-01  2016      5                    0.7130   \n5      77   2016-06-01  2016      6                    0.6940   \n6      78   2016-07-01  2016      7                    0.6830   \n7      79   2016-08-01  2016      8                    0.6850   \n8      80   2016-09-01  2016      9                    0.6850   \n9      81   2016-10-01  2016     10                    0.6850   \n10     82   2016-11-01  2016     11                    0.6980   \n11     83   2016-12-01  2016     12                    0.6820   \n12     84   2017-01-01  2017      1                    0.7030   \n13     85   2017-02-01  2017      2                    0.7150   \n14     86   2017-03-01  2017      3                    0.7230   \n15     87   2017-04-01  2017      4                    0.7450   \n16     88   2017-05-01  2017      5                    0.7350   \n17     89   2017-06-01  2017      6                    0.7470   \n18     90   2017-07-01  2017      7                    0.7380   \n19     91   2017-08-01  2017      8                    0.7270   \n20     92   2017-09-01  2017      9                    0.7390   \n21     93   2017-10-01  2017     10                    0.7280   \n22     94   2017-11-01  2017     11                    0.7090   \n23     95   2017-12-01  2017     12                    0.6940   \n24     96   2018-01-01  2018      1                    0.7270   \n25     97   2018-02-01  2018      2                    0.7340   \n26     98   2018-03-01  2018      3                    0.7470   \n27     99   2018-04-01  2018      4                    0.7710   \n28    100   2018-05-01  2018      5                    0.7760   \n29    101   2018-06-01  2018      6                    0.7890   \n30    102   2018-07-01  2018      7                    0.7750   \n31    103   2018-08-01  2018      8                    0.7603   \n32    104   2018-09-01  2018      9                    0.7620   \n33    105   2018-10-01  2018     10                    0.7620   \n34    106   2018-11-01  2018     11                    0.7620   \n35    107   2018-12-01  2018     12                    0.7620   \n36    108   2019-01-01  2019      1                    0.7768   \n37    109   2019-02-01  2019      2                    0.7915   \n38    110   2019-03-01  2019      3                    0.8063   \n39    111   2019-04-01  2019      4                    0.8210   \n40    112   2019-05-01  2019      5                    0.8210   \n41    113   2019-06-01  2019      6                    0.8200   \n42    114   2019-07-01  2019      7                    0.8060   \n43    115   2019-08-01  2019      8                    0.8020   \n44    116   2019-09-01  2019      9                    0.7830   \n45    117   2019-10-01  2019     10                    0.7820   \n46    118   2019-11-01  2019     11                    0.7930   \n47    119   2019-12-01  2019     12                    0.7980   \n48    120   2020-01-01  2020      1                    0.8190   \n\n    fed_construction$B  state_local_construction$B  carbon_bar_ship_usa  \\\n0               1583.0                     16684.0             204300.0   \n1               1840.0                     17198.0             205400.0   \n2               1844.0                     18555.0             221200.0   \n3               1703.0                     20187.0             204600.0   \n4               1888.0                     21954.0             200500.0   \n5               1931.0                     25562.0             208400.0   \n6               1747.0                     25352.0             179300.0   \n7               1999.0                     26663.0             206800.0   \n8               2405.0                     25578.0             192500.0   \n9               1678.0                     25218.0             194200.0   \n10              1853.0                     22117.0             189600.0   \n11              2026.0                     17951.0             171700.0   \n12              1564.0                     15558.0             226300.0   \n13              1678.0                     16242.0             219300.0   \n14              1924.0                     17953.0             257400.0   \n15              1713.0                     19315.0             219100.0   \n16              2059.0                     22013.0             241800.0   \n17              1905.0                     23970.0             243300.0   \n18              1749.0                     24408.0             205900.0   \n19              1848.0                     26315.0             246900.0   \n20              2271.0                     25388.0             220400.0   \n21              1883.0                     25002.0             241800.0   \n22              1906.0                     22248.0             219000.0   \n23              2235.0                     18835.0             195400.0   \n24              2199.0                     16621.0             247100.0   \n25              2315.0                     16784.0             231000.0   \n26              1689.0                     18625.0             255200.0   \n27              1630.0                     21280.0             243100.0   \n28              1854.0                     24611.0             251100.0   \n29              1790.0                     27210.0             239800.0   \n30              1771.0                     28149.0             221800.0   \n31              2025.0                     29939.0             250500.0   \n32              2248.0                     27521.0             206600.0   \n33              1818.0                     26841.0             244700.0   \n34              1880.0                     23202.0             205600.0   \n35              1783.0                     19153.0             177300.0   \n36              1601.0                     18166.0             222800.0   \n37              1785.0                     18809.0             201900.0   \n38              1780.0                     20676.0             208300.0   \n39              1880.0                     24422.0             212300.0   \n40              1977.0                     27081.0             207600.0   \n41              2007.0                     28994.0             186600.0   \n42              2045.0                     30719.0             194800.0   \n43              2146.0                     31328.0             197600.0   \n44              2590.0                     30251.0             179000.0   \n45              1992.0                     29142.0             199800.0   \n46              2026.0                     25357.0             159600.0   \n47              2103.0                     21521.0             147200.0   \n48              1970.0                     19685.0             198100.0   \n\n    carbon_bar_ship_canada  structural_ship_usa  structural_ship_canada  \\\n0                  30800.0             175300.0                 38700.0   \n1                  31000.0             187000.0                 37500.0   \n2                  31400.0             203900.0                 38400.0   \n3                  31200.0             193800.0                 37400.0   \n4                  29700.0             191440.0                 36600.0   \n5                  33200.0             206400.0                 40000.0   \n6                  27700.0             178000.0                 35600.0   \n7                  30100.0             210800.0                 38300.0   \n8                  29200.0             188800.0                 37600.0   \n9                  28500.0             191000.0                 38300.0   \n10                 32300.0             179300.0                 41200.0   \n11                 22400.0             174600.0                 28400.0   \n12                 32900.0             195700.0                 35700.0   \n13                 28500.0             180400.0                 32200.0   \n14                 34900.0             217100.0                 37300.0   \n15                 28500.0             188400.0                 30700.0   \n16                 34000.0             207300.0                 38700.0   \n17                 33200.0             216300.0                 38700.0   \n18                 29200.0             191200.0                 38200.0   \n19                 31400.0             229600.0                 41500.0   \n20                 31400.0             200100.0                 39400.0   \n21                 33800.0             220200.0                 42200.0   \n22                 33700.0             201000.0                 47200.0   \n23                 24100.0             183400.0                 30700.0   \n24                 34200.0             218000.0                 37400.0   \n25                 30600.0             196500.0                 35300.0   \n26                 34700.0             234500.0                 39300.0   \n27                 31900.0             223200.0                 37700.0   \n28                 33000.0             230400.0                 39300.0   \n29                 33300.0             216100.0                 39100.0   \n30                 28600.0             214500.0                 36800.0   \n31                 33200.0             231500.0                 38500.0   \n32                 29200.0             193100.0                 33300.0   \n33                 34400.0             220800.0                 41200.0   \n34                 33300.0             189200.0                 38000.0   \n35                 21900.0             174200.0                 25500.0   \n36                 34800.0             201600.0                 34200.0   \n37                 30500.0             175600.0                 30900.0   \n38                 34800.0             191300.0                 34000.0   \n39                 34400.0             197700.0                 33400.0   \n40                 36500.0             202200.0                 40200.0   \n41                 32500.0             184000.0                 36700.0   \n42                 31100.0             201100.0                 36900.0   \n43                 31900.0             208600.0                 38500.0   \n44                 30900.0             195800.0                 37300.0   \n45                 34100.0             217100.0                 38500.0   \n46                 32600.0             176900.0                 35400.0   \n47                 24700.0             170700.0                 24700.0   \n48                 37400.0             202700.0                 33500.0   \n\n    ism_manufacturing  ism_non_manufacturing  chicago_scrap$ST  \n0                48.2                   53.5             180.0  \n1                49.5                   53.4             180.0  \n2                51.8                   54.5             195.0  \n3                50.8                   55.7             245.0  \n4                51.3                   52.9             275.0  \n5                53.2                   56.5             275.0  \n6                52.6                   55.5             275.0  \n7                49.4                   51.4             265.0  \n8                51.5                   57.1             235.0  \n9                51.9                   54.8             205.0  \n10               53.2                   57.2             235.0  \n11               54.5                   56.6             275.0  \n12               56.0                   56.5             315.0  \n13               57.7                   57.6             305.0  \n14               57.2                   55.2             370.0  \n15               54.8                   57.5             350.0  \n16               54.9                   56.9             350.0  \n17               57.8                   57.4             350.0  \n18               56.3                   53.9             350.0  \n19               58.8                   55.3             365.0  \n20               60.8                   59.8             365.0  \n21               58.7                   60.1             325.0  \n22               58.2                   57.4             325.0  \n23               59.7                   55.9             345.0  \n24               59.1                   59.9             375.0  \n25               60.8                   59.5             375.0  \n26               59.3                   58.8             375.0  \n27               57.3                   56.8             385.0  \n28               58.7                   58.6             385.0  \n29               60.2                   59.1             395.0  \n30               58.1                   55.7             405.0  \n31               61.3                   58.5             395.0  \n32               59.8                   61.6             375.0  \n33               57.7                   60.3             395.0  \n34               59.3                   60.7             405.0  \n35               54.3                   58.0             405.0  \n36               56.6                   56.7             375.0  \n37               54.2                   59.7             355.0  \n38               55.3                   56.1             375.0  \n39               52.8                   55.5             350.0  \n40               52.1                   56.9             315.0  \n41               51.7                   55.1             285.0  \n42               51.2                   53.7             280.0  \n43               49.1                   56.4             300.0  \n44               47.8                   52.6             260.0  \n45               48.3                   54.7             220.0  \n46               48.1                   53.9             240.0  \n47               47.2                   54.9             270.0  \n48               50.9                   55.5             300.0  ",
      "text/html": "<div>\n<style scoped>\n    .dataframe tbody tr th:only-of-type {\n        vertical-align: middle;\n    }\n\n    .dataframe tbody tr th {\n        vertical-align: top;\n    }\n\n    .dataframe thead th {\n        text-align: right;\n    }\n</style>\n<table border=\"1\" class=\"dataframe\">\n  <thead>\n    <tr style=\"text-align: right;\">\n      <th></th>\n      <th>index</th>\n      <th>calendar_day</th>\n      <th>year</th>\n      <th>month</th>\n      <th>global_steel_utilization</th>\n      <th>fed_construction$B</th>\n      <th>state_local_construction$B</th>\n      <th>carbon_bar_ship_usa</th>\n      <th>carbon_bar_ship_canada</th>\n      <th>structural_ship_usa</th>\n      <th>structural_ship_canada</th>\n      <th>ism_manufacturing</th>\n      <th>ism_non_manufacturing</th>\n      <th>chicago_scrap$ST</th>\n    </tr>\n  </thead>\n  <tbody>\n    <tr>\n      <th>0</th>\n      <td>72</td>\n      <td>2016-01-01</td>\n      <td>2016</td>\n      <td>1</td>\n      <td>0.6600</td>\n      <td>1583.0</td>\n      <td>16684.0</td>\n      <td>204300.0</td>\n      <td>30800.0</td>\n      <td>175300.0</td>\n      <td>38700.0</td>\n      <td>48.2</td>\n      <td>53.5</td>\n      <td>180.0</td>\n    </tr>\n    <tr>\n      <th>1</th>\n      <td>73</td>\n      <td>2016-02-01</td>\n      <td>2016</td>\n      <td>2</td>\n      <td>0.6600</td>\n      <td>1840.0</td>\n      <td>17198.0</td>\n      <td>205400.0</td>\n      <td>31000.0</td>\n      <td>187000.0</td>\n      <td>37500.0</td>\n      <td>49.5</td>\n      <td>53.4</td>\n      <td>180.0</td>\n    </tr>\n    <tr>\n      <th>2</th>\n      <td>74</td>\n      <td>2016-03-01</td>\n      <td>2016</td>\n      <td>3</td>\n      <td>0.7070</td>\n      <td>1844.0</td>\n      <td>18555.0</td>\n      <td>221200.0</td>\n      <td>31400.0</td>\n      <td>203900.0</td>\n      <td>38400.0</td>\n      <td>51.8</td>\n      <td>54.5</td>\n      <td>195.0</td>\n    </tr>\n    <tr>\n      <th>3</th>\n      <td>75</td>\n      <td>2016-04-01</td>\n      <td>2016</td>\n      <td>4</td>\n      <td>0.7050</td>\n      <td>1703.0</td>\n      <td>20187.0</td>\n      <td>204600.0</td>\n      <td>31200.0</td>\n      <td>193800.0</td>\n      <td>37400.0</td>\n      <td>50.8</td>\n      <td>55.7</td>\n      <td>245.0</td>\n    </tr>\n    <tr>\n      <th>4</th>\n      <td>76</td>\n      <td>2016-05-01</td>\n      <td>2016</td>\n      <td>5</td>\n      <td>0.7130</td>\n      <td>1888.0</td>\n      <td>21954.0</td>\n      <td>200500.0</td>\n      <td>29700.0</td>\n      <td>191440.0</td>\n      <td>36600.0</td>\n      <td>51.3</td>\n      <td>52.9</td>\n      <td>275.0</td>\n    </tr>\n    <tr>\n      <th>5</th>\n      <td>77</td>\n      <td>2016-06-01</td>\n      <td>2016</td>\n      <td>6</td>\n      <td>0.6940</td>\n      <td>1931.0</td>\n      <td>25562.0</td>\n      <td>208400.0</td>\n      <td>33200.0</td>\n      <td>206400.0</td>\n      <td>40000.0</td>\n      <td>53.2</td>\n      <td>56.5</td>\n      <td>275.0</td>\n    </tr>\n    <tr>\n      <th>6</th>\n      <td>78</td>\n      <td>2016-07-01</td>\n      <td>2016</td>\n      <td>7</td>\n      <td>0.6830</td>\n      <td>1747.0</td>\n      <td>25352.0</td>\n      <td>179300.0</td>\n      <td>27700.0</td>\n      <td>178000.0</td>\n      <td>35600.0</td>\n      <td>52.6</td>\n      <td>55.5</td>\n      <td>275.0</td>\n    </tr>\n    <tr>\n      <th>7</th>\n      <td>79</td>\n      <td>2016-08-01</td>\n      <td>2016</td>\n      <td>8</td>\n      <td>0.6850</td>\n      <td>1999.0</td>\n      <td>26663.0</td>\n      <td>206800.0</td>\n      <td>30100.0</td>\n      <td>210800.0</td>\n      <td>38300.0</td>\n      <td>49.4</td>\n      <td>51.4</td>\n      <td>265.0</td>\n    </tr>\n    <tr>\n      <th>8</th>\n      <td>80</td>\n      <td>2016-09-01</td>\n      <td>2016</td>\n      <td>9</td>\n      <td>0.6850</td>\n      <td>2405.0</td>\n      <td>25578.0</td>\n      <td>192500.0</td>\n      <td>29200.0</td>\n      <td>188800.0</td>\n      <td>37600.0</td>\n      <td>51.5</td>\n      <td>57.1</td>\n      <td>235.0</td>\n    </tr>\n    <tr>\n      <th>9</th>\n      <td>81</td>\n      <td>2016-10-01</td>\n      <td>2016</td>\n      <td>10</td>\n      <td>0.6850</td>\n      <td>1678.0</td>\n      <td>25218.0</td>\n      <td>194200.0</td>\n      <td>28500.0</td>\n      <td>191000.0</td>\n      <td>38300.0</td>\n      <td>51.9</td>\n      <td>54.8</td>\n      <td>205.0</td>\n    </tr>\n    <tr>\n      <th>10</th>\n      <td>82</td>\n      <td>2016-11-01</td>\n      <td>2016</td>\n      <td>11</td>\n      <td>0.6980</td>\n      <td>1853.0</td>\n      <td>22117.0</td>\n      <td>189600.0</td>\n      <td>32300.0</td>\n      <td>179300.0</td>\n      <td>41200.0</td>\n      <td>53.2</td>\n      <td>57.2</td>\n      <td>235.0</td>\n    </tr>\n    <tr>\n      <th>11</th>\n      <td>83</td>\n      <td>2016-12-01</td>\n      <td>2016</td>\n      <td>12</td>\n      <td>0.6820</td>\n      <td>2026.0</td>\n      <td>17951.0</td>\n      <td>171700.0</td>\n      <td>22400.0</td>\n      <td>174600.0</td>\n      <td>28400.0</td>\n      <td>54.5</td>\n      <td>56.6</td>\n      <td>275.0</td>\n    </tr>\n    <tr>\n      <th>12</th>\n      <td>84</td>\n      <td>2017-01-01</td>\n      <td>2017</td>\n      <td>1</td>\n      <td>0.7030</td>\n      <td>1564.0</td>\n      <td>15558.0</td>\n      <td>226300.0</td>\n      <td>32900.0</td>\n      <td>195700.0</td>\n      <td>35700.0</td>\n      <td>56.0</td>\n      <td>56.5</td>\n      <td>315.0</td>\n    </tr>\n    <tr>\n      <th>13</th>\n      <td>85</td>\n      <td>2017-02-01</td>\n      <td>2017</td>\n      <td>2</td>\n      <td>0.7150</td>\n      <td>1678.0</td>\n      <td>16242.0</td>\n      <td>219300.0</td>\n      <td>28500.0</td>\n      <td>180400.0</td>\n      <td>32200.0</td>\n      <td>57.7</td>\n      <td>57.6</td>\n      <td>305.0</td>\n    </tr>\n    <tr>\n      <th>14</th>\n      <td>86</td>\n      <td>2017-03-01</td>\n      <td>2017</td>\n      <td>3</td>\n      <td>0.7230</td>\n      <td>1924.0</td>\n      <td>17953.0</td>\n      <td>257400.0</td>\n      <td>34900.0</td>\n      <td>217100.0</td>\n      <td>37300.0</td>\n      <td>57.2</td>\n      <td>55.2</td>\n      <td>370.0</td>\n    </tr>\n    <tr>\n      <th>15</th>\n      <td>87</td>\n      <td>2017-04-01</td>\n      <td>2017</td>\n      <td>4</td>\n      <td>0.7450</td>\n      <td>1713.0</td>\n      <td>19315.0</td>\n      <td>219100.0</td>\n      <td>28500.0</td>\n      <td>188400.0</td>\n      <td>30700.0</td>\n      <td>54.8</td>\n      <td>57.5</td>\n      <td>350.0</td>\n    </tr>\n    <tr>\n      <th>16</th>\n      <td>88</td>\n      <td>2017-05-01</td>\n      <td>2017</td>\n      <td>5</td>\n      <td>0.7350</td>\n      <td>2059.0</td>\n      <td>22013.0</td>\n      <td>241800.0</td>\n      <td>34000.0</td>\n      <td>207300.0</td>\n      <td>38700.0</td>\n      <td>54.9</td>\n      <td>56.9</td>\n      <td>350.0</td>\n    </tr>\n    <tr>\n      <th>17</th>\n      <td>89</td>\n      <td>2017-06-01</td>\n      <td>2017</td>\n      <td>6</td>\n      <td>0.7470</td>\n      <td>1905.0</td>\n      <td>23970.0</td>\n      <td>243300.0</td>\n      <td>33200.0</td>\n      <td>216300.0</td>\n      <td>38700.0</td>\n      <td>57.8</td>\n      <td>57.4</td>\n      <td>350.0</td>\n    </tr>\n    <tr>\n      <th>18</th>\n      <td>90</td>\n      <td>2017-07-01</td>\n      <td>2017</td>\n      <td>7</td>\n      <td>0.7380</td>\n      <td>1749.0</td>\n      <td>24408.0</td>\n      <td>205900.0</td>\n      <td>29200.0</td>\n      <td>191200.0</td>\n      <td>38200.0</td>\n      <td>56.3</td>\n      <td>53.9</td>\n      <td>350.0</td>\n    </tr>\n    <tr>\n      <th>19</th>\n      <td>91</td>\n      <td>2017-08-01</td>\n      <td>2017</td>\n      <td>8</td>\n      <td>0.7270</td>\n      <td>1848.0</td>\n      <td>26315.0</td>\n      <td>246900.0</td>\n      <td>31400.0</td>\n      <td>229600.0</td>\n      <td>41500.0</td>\n      <td>58.8</td>\n      <td>55.3</td>\n      <td>365.0</td>\n    </tr>\n    <tr>\n      <th>20</th>\n      <td>92</td>\n      <td>2017-09-01</td>\n      <td>2017</td>\n      <td>9</td>\n      <td>0.7390</td>\n      <td>2271.0</td>\n      <td>25388.0</td>\n      <td>220400.0</td>\n      <td>31400.0</td>\n      <td>200100.0</td>\n      <td>39400.0</td>\n      <td>60.8</td>\n      <td>59.8</td>\n      <td>365.0</td>\n    </tr>\n    <tr>\n      <th>21</th>\n      <td>93</td>\n      <td>2017-10-01</td>\n      <td>2017</td>\n      <td>10</td>\n      <td>0.7280</td>\n      <td>1883.0</td>\n      <td>25002.0</td>\n      <td>241800.0</td>\n      <td>33800.0</td>\n      <td>220200.0</td>\n      <td>42200.0</td>\n      <td>58.7</td>\n      <td>60.1</td>\n      <td>325.0</td>\n    </tr>\n    <tr>\n      <th>22</th>\n      <td>94</td>\n      <td>2017-11-01</td>\n      <td>2017</td>\n      <td>11</td>\n      <td>0.7090</td>\n      <td>1906.0</td>\n      <td>22248.0</td>\n      <td>219000.0</td>\n      <td>33700.0</td>\n      <td>201000.0</td>\n      <td>47200.0</td>\n      <td>58.2</td>\n      <td>57.4</td>\n      <td>325.0</td>\n    </tr>\n    <tr>\n      <th>23</th>\n      <td>95</td>\n      <td>2017-12-01</td>\n      <td>2017</td>\n      <td>12</td>\n      <td>0.6940</td>\n      <td>2235.0</td>\n      <td>18835.0</td>\n      <td>195400.0</td>\n      <td>24100.0</td>\n      <td>183400.0</td>\n      <td>30700.0</td>\n      <td>59.7</td>\n      <td>55.9</td>\n      <td>345.0</td>\n    </tr>\n    <tr>\n      <th>24</th>\n      <td>96</td>\n      <td>2018-01-01</td>\n      <td>2018</td>\n      <td>1</td>\n      <td>0.7270</td>\n      <td>2199.0</td>\n      <td>16621.0</td>\n      <td>247100.0</td>\n      <td>34200.0</td>\n      <td>218000.0</td>\n      <td>37400.0</td>\n      <td>59.1</td>\n      <td>59.9</td>\n      <td>375.0</td>\n    </tr>\n    <tr>\n      <th>25</th>\n      <td>97</td>\n      <td>2018-02-01</td>\n      <td>2018</td>\n      <td>2</td>\n      <td>0.7340</td>\n      <td>2315.0</td>\n      <td>16784.0</td>\n      <td>231000.0</td>\n      <td>30600.0</td>\n      <td>196500.0</td>\n      <td>35300.0</td>\n      <td>60.8</td>\n      <td>59.5</td>\n      <td>375.0</td>\n    </tr>\n    <tr>\n      <th>26</th>\n      <td>98</td>\n      <td>2018-03-01</td>\n      <td>2018</td>\n      <td>3</td>\n      <td>0.7470</td>\n      <td>1689.0</td>\n      <td>18625.0</td>\n      <td>255200.0</td>\n      <td>34700.0</td>\n      <td>234500.0</td>\n      <td>39300.0</td>\n      <td>59.3</td>\n      <td>58.8</td>\n      <td>375.0</td>\n    </tr>\n    <tr>\n      <th>27</th>\n      <td>99</td>\n      <td>2018-04-01</td>\n      <td>2018</td>\n      <td>4</td>\n      <td>0.7710</td>\n      <td>1630.0</td>\n      <td>21280.0</td>\n      <td>243100.0</td>\n      <td>31900.0</td>\n      <td>223200.0</td>\n      <td>37700.0</td>\n      <td>57.3</td>\n      <td>56.8</td>\n      <td>385.0</td>\n    </tr>\n    <tr>\n      <th>28</th>\n      <td>100</td>\n      <td>2018-05-01</td>\n      <td>2018</td>\n      <td>5</td>\n      <td>0.7760</td>\n      <td>1854.0</td>\n      <td>24611.0</td>\n      <td>251100.0</td>\n      <td>33000.0</td>\n      <td>230400.0</td>\n      <td>39300.0</td>\n      <td>58.7</td>\n      <td>58.6</td>\n      <td>385.0</td>\n    </tr>\n    <tr>\n      <th>29</th>\n      <td>101</td>\n      <td>2018-06-01</td>\n      <td>2018</td>\n      <td>6</td>\n      <td>0.7890</td>\n      <td>1790.0</td>\n      <td>27210.0</td>\n      <td>239800.0</td>\n      <td>33300.0</td>\n      <td>216100.0</td>\n      <td>39100.0</td>\n      <td>60.2</td>\n      <td>59.1</td>\n      <td>395.0</td>\n    </tr>\n    <tr>\n      <th>30</th>\n      <td>102</td>\n      <td>2018-07-01</td>\n      <td>2018</td>\n      <td>7</td>\n      <td>0.7750</td>\n      <td>1771.0</td>\n      <td>28149.0</td>\n      <td>221800.0</td>\n      <td>28600.0</td>\n      <td>214500.0</td>\n      <td>36800.0</td>\n      <td>58.1</td>\n      <td>55.7</td>\n      <td>405.0</td>\n    </tr>\n    <tr>\n      <th>31</th>\n      <td>103</td>\n      <td>2018-08-01</td>\n      <td>2018</td>\n      <td>8</td>\n      <td>0.7603</td>\n      <td>2025.0</td>\n      <td>29939.0</td>\n      <td>250500.0</td>\n      <td>33200.0</td>\n      <td>231500.0</td>\n      <td>38500.0</td>\n      <td>61.3</td>\n      <td>58.5</td>\n      <td>395.0</td>\n    </tr>\n    <tr>\n      <th>32</th>\n      <td>104</td>\n      <td>2018-09-01</td>\n      <td>2018</td>\n      <td>9</td>\n      <td>0.7620</td>\n      <td>2248.0</td>\n      <td>27521.0</td>\n      <td>206600.0</td>\n      <td>29200.0</td>\n      <td>193100.0</td>\n      <td>33300.0</td>\n      <td>59.8</td>\n      <td>61.6</td>\n      <td>375.0</td>\n    </tr>\n    <tr>\n      <th>33</th>\n      <td>105</td>\n      <td>2018-10-01</td>\n      <td>2018</td>\n      <td>10</td>\n      <td>0.7620</td>\n      <td>1818.0</td>\n      <td>26841.0</td>\n      <td>244700.0</td>\n      <td>34400.0</td>\n      <td>220800.0</td>\n      <td>41200.0</td>\n      <td>57.7</td>\n      <td>60.3</td>\n      <td>395.0</td>\n    </tr>\n    <tr>\n      <th>34</th>\n      <td>106</td>\n      <td>2018-11-01</td>\n      <td>2018</td>\n      <td>11</td>\n      <td>0.7620</td>\n      <td>1880.0</td>\n      <td>23202.0</td>\n      <td>205600.0</td>\n      <td>33300.0</td>\n      <td>189200.0</td>\n      <td>38000.0</td>\n      <td>59.3</td>\n      <td>60.7</td>\n      <td>405.0</td>\n    </tr>\n    <tr>\n      <th>35</th>\n      <td>107</td>\n      <td>2018-12-01</td>\n      <td>2018</td>\n      <td>12</td>\n      <td>0.7620</td>\n      <td>1783.0</td>\n      <td>19153.0</td>\n      <td>177300.0</td>\n      <td>21900.0</td>\n      <td>174200.0</td>\n      <td>25500.0</td>\n      <td>54.3</td>\n      <td>58.0</td>\n      <td>405.0</td>\n    </tr>\n    <tr>\n      <th>36</th>\n      <td>108</td>\n      <td>2019-01-01</td>\n      <td>2019</td>\n      <td>1</td>\n      <td>0.7768</td>\n      <td>1601.0</td>\n      <td>18166.0</td>\n      <td>222800.0</td>\n      <td>34800.0</td>\n      <td>201600.0</td>\n      <td>34200.0</td>\n      <td>56.6</td>\n      <td>56.7</td>\n      <td>375.0</td>\n    </tr>\n    <tr>\n      <th>37</th>\n      <td>109</td>\n      <td>2019-02-01</td>\n      <td>2019</td>\n      <td>2</td>\n      <td>0.7915</td>\n      <td>1785.0</td>\n      <td>18809.0</td>\n      <td>201900.0</td>\n      <td>30500.0</td>\n      <td>175600.0</td>\n      <td>30900.0</td>\n      <td>54.2</td>\n      <td>59.7</td>\n      <td>355.0</td>\n    </tr>\n    <tr>\n      <th>38</th>\n      <td>110</td>\n      <td>2019-03-01</td>\n      <td>2019</td>\n      <td>3</td>\n      <td>0.8063</td>\n      <td>1780.0</td>\n      <td>20676.0</td>\n      <td>208300.0</td>\n      <td>34800.0</td>\n      <td>191300.0</td>\n      <td>34000.0</td>\n      <td>55.3</td>\n      <td>56.1</td>\n      <td>375.0</td>\n    </tr>\n    <tr>\n      <th>39</th>\n      <td>111</td>\n      <td>2019-04-01</td>\n      <td>2019</td>\n      <td>4</td>\n      <td>0.8210</td>\n      <td>1880.0</td>\n      <td>24422.0</td>\n      <td>212300.0</td>\n      <td>34400.0</td>\n      <td>197700.0</td>\n      <td>33400.0</td>\n      <td>52.8</td>\n      <td>55.5</td>\n      <td>350.0</td>\n    </tr>\n    <tr>\n      <th>40</th>\n      <td>112</td>\n      <td>2019-05-01</td>\n      <td>2019</td>\n      <td>5</td>\n      <td>0.8210</td>\n      <td>1977.0</td>\n      <td>27081.0</td>\n      <td>207600.0</td>\n      <td>36500.0</td>\n      <td>202200.0</td>\n      <td>40200.0</td>\n      <td>52.1</td>\n      <td>56.9</td>\n      <td>315.0</td>\n    </tr>\n    <tr>\n      <th>41</th>\n      <td>113</td>\n      <td>2019-06-01</td>\n      <td>2019</td>\n      <td>6</td>\n      <td>0.8200</td>\n      <td>2007.0</td>\n      <td>28994.0</td>\n      <td>186600.0</td>\n      <td>32500.0</td>\n      <td>184000.0</td>\n      <td>36700.0</td>\n      <td>51.7</td>\n      <td>55.1</td>\n      <td>285.0</td>\n    </tr>\n    <tr>\n      <th>42</th>\n      <td>114</td>\n      <td>2019-07-01</td>\n      <td>2019</td>\n      <td>7</td>\n      <td>0.8060</td>\n      <td>2045.0</td>\n      <td>30719.0</td>\n      <td>194800.0</td>\n      <td>31100.0</td>\n      <td>201100.0</td>\n      <td>36900.0</td>\n      <td>51.2</td>\n      <td>53.7</td>\n      <td>280.0</td>\n    </tr>\n    <tr>\n      <th>43</th>\n      <td>115</td>\n      <td>2019-08-01</td>\n      <td>2019</td>\n      <td>8</td>\n      <td>0.8020</td>\n      <td>2146.0</td>\n      <td>31328.0</td>\n      <td>197600.0</td>\n      <td>31900.0</td>\n      <td>208600.0</td>\n      <td>38500.0</td>\n      <td>49.1</td>\n      <td>56.4</td>\n      <td>300.0</td>\n    </tr>\n    <tr>\n      <th>44</th>\n      <td>116</td>\n      <td>2019-09-01</td>\n      <td>2019</td>\n      <td>9</td>\n      <td>0.7830</td>\n      <td>2590.0</td>\n      <td>30251.0</td>\n      <td>179000.0</td>\n      <td>30900.0</td>\n      <td>195800.0</td>\n      <td>37300.0</td>\n      <td>47.8</td>\n      <td>52.6</td>\n      <td>260.0</td>\n    </tr>\n    <tr>\n      <th>45</th>\n      <td>117</td>\n      <td>2019-10-01</td>\n      <td>2019</td>\n      <td>10</td>\n      <td>0.7820</td>\n      <td>1992.0</td>\n      <td>29142.0</td>\n      <td>199800.0</td>\n      <td>34100.0</td>\n      <td>217100.0</td>\n      <td>38500.0</td>\n      <td>48.3</td>\n      <td>54.7</td>\n      <td>220.0</td>\n    </tr>\n    <tr>\n      <th>46</th>\n      <td>118</td>\n      <td>2019-11-01</td>\n      <td>2019</td>\n      <td>11</td>\n      <td>0.7930</td>\n      <td>2026.0</td>\n      <td>25357.0</td>\n      <td>159600.0</td>\n      <td>32600.0</td>\n      <td>176900.0</td>\n      <td>35400.0</td>\n      <td>48.1</td>\n      <td>53.9</td>\n      <td>240.0</td>\n    </tr>\n    <tr>\n      <th>47</th>\n      <td>119</td>\n      <td>2019-12-01</td>\n      <td>2019</td>\n      <td>12</td>\n      <td>0.7980</td>\n      <td>2103.0</td>\n      <td>21521.0</td>\n      <td>147200.0</td>\n      <td>24700.0</td>\n      <td>170700.0</td>\n      <td>24700.0</td>\n      <td>47.2</td>\n      <td>54.9</td>\n      <td>270.0</td>\n    </tr>\n    <tr>\n      <th>48</th>\n      <td>120</td>\n      <td>2020-01-01</td>\n      <td>2020</td>\n      <td>1</td>\n      <td>0.8190</td>\n      <td>1970.0</td>\n      <td>19685.0</td>\n      <td>198100.0</td>\n      <td>37400.0</td>\n      <td>202700.0</td>\n      <td>33500.0</td>\n      <td>50.9</td>\n      <td>55.5</td>\n      <td>300.0</td>\n    </tr>\n  </tbody>\n</table>\n</div>"
     },
     "metadata": {},
     "execution_count": 103
    }
   ],
   "source": [
    "indicators"
   ]
  },
  {
   "cell_type": "code",
   "execution_count": null,
   "metadata": {},
   "outputs": [],
   "source": [
    "### Ready for merging "
   ]
  }
 ],
 "metadata": {
  "language_info": {
   "codemirror_mode": {
    "name": "ipython",
    "version": 3
   },
   "file_extension": ".py",
   "mimetype": "text/x-python",
   "name": "python",
   "nbconvert_exporter": "python",
   "pygments_lexer": "ipython3",
   "version": "3.7.6-final"
  },
  "orig_nbformat": 2,
  "kernelspec": {
   "name": "python37664bitpftpipenv41a3325616004cea923f5375811f25e4",
   "display_name": "Python 3.7.6 64-bit ('pft': pipenv)"
  }
 },
 "nbformat": 4,
 "nbformat_minor": 2
}