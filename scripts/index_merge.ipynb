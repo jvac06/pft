{
 "cells": [
  {
   "cell_type": "code",
   "execution_count": 43,
   "metadata": {},
   "outputs": [],
   "source": [
    "#Dependencies\n",
    "import numpy as np\n",
    "import pandas as pd\n",
    "import datetime as dt\n",
    "import re"
   ]
  },
  {
   "cell_type": "code",
   "execution_count": 2,
   "metadata": {},
   "outputs": [
    {
     "output_type": "execute_result",
     "data": {
      "text/plain": "'/Users/jacosta3/OneDrive - University of South Florida/Gerdau Projects/pft/scripts'"
     },
     "metadata": {},
     "execution_count": 2
    }
   ],
   "source": [
    "os.getcwd()"
   ]
  },
  {
   "cell_type": "markdown",
   "metadata": {},
   "source": [
    "## Fetching Indicators info"
   ]
  },
  {
   "cell_type": "code",
   "execution_count": 89,
   "metadata": {},
   "outputs": [],
   "source": [
    "#File directory\n",
    "ser_path = \"./serialized/\"\n",
    "path = \"./confidential/\"\n",
    "#change directory to datasets\n",
    "os.chdir(\"../datasets\")"
   ]
  },
  {
   "cell_type": "code",
   "execution_count": 90,
   "metadata": {},
   "outputs": [],
   "source": [
    "indicators = pd.read_excel(path+\"market_indicators.xlsx\",sheet_name=\"Monthly\")"
   ]
  },
  {
   "cell_type": "code",
   "execution_count": 91,
   "metadata": {},
   "outputs": [
    {
     "output_type": "stream",
     "name": "stdout",
     "text": "<class 'pandas.core.frame.DataFrame'>\nRangeIndex: 124 entries, 0 to 123\nData columns (total 17 columns):\n #   Column                                               Non-Null Count  Dtype         \n---  ------                                               --------------  -----         \n 0   dd/mm/yy                                             124 non-null    datetime64[ns]\n 1   Year                                                 124 non-null    int64         \n 2   Month                                                124 non-null    object        \n 3   National Architect Billing/monthly                   121 non-null    float64       \n 4   Total Federal Construction/Billion $                 121 non-null    float64       \n 5   Total State and Local Construction/Billion $         121 non-null    float64       \n 6   US Steel Capacity Utilization                        109 non-null    float64       \n 7   US Long Steel/million $ per short ton                26 non-null     float64       \n 8   US Domestic Hot-Rolled Coil/Million $ per short ton  26 non-null     float64       \n 9   MSCI Carbon bar monthly shipments                    121 non-null    float64       \n 10  MSCI Carbon bar monthly shipments (canada)           121 non-null    float64       \n 11  Structural Shipments /USA                            121 non-null    float64       \n 12  Structural Shipments /Canada                         121 non-null    float64       \n 13  ISM Manufacturing                                    122 non-null    float64       \n 14  ISM Non Manufacturing                                123 non-null    float64       \n 15  Global Steel Utilization                             117 non-null    float64       \n 16  Chicago#1 Scrap Bushelling                           50 non-null     float64       \ndtypes: datetime64[ns](1), float64(14), int64(1), object(1)\nmemory usage: 16.6+ KB\n"
    }
   ],
   "source": [
    "indicators.info()"
   ]
  },
  {
   "cell_type": "markdown",
   "metadata": {},
   "source": [
    "## Cleaning Columns"
   ]
  },
  {
   "cell_type": "code",
   "execution_count": 92,
   "metadata": {},
   "outputs": [],
   "source": [
    "def clean_columns(dataframe):\n",
    "    for col in dataframe.columns:\n",
    "        dataframe.rename(columns={col:re.sub(r'([a-z](?=[A-Z])|[A-Z](?=[A-Z][a-z]))', r'\\1 ', col)}, inplace=True)\n",
    "    dataframe.columns = dataframe.columns.str.strip().str.lower().str.replace(\" \",\"_\")\n",
    "    try:\n",
    "        dataframe[\"calendar_day\"] = dataframe[\"calendar_day\"].astype(\"datetime64\")\n",
    "    except:\n",
    "        pass\n",
    "    try:\n",
    "        dataframe[\"requested_date\"] = dataframe[\"requested_date\"].astype(\"datetime64\")\n",
    "        dataframe[\"confirmed_date\"] = dataframe[\"confirmed_date\"].astype(\"datetime64\")\n",
    "        dataframe[\"material_avail_date\"] = dataframe[\"material_avail_date\"].astype(\"datetime64\")\n",
    "        dataframe[\"load_date\"] = dataframe[\"load_date\"].astype(\"datetime64\")\n",
    "        dataframe[\"plan_goods_issue_date\"] = dataframe[\"plan_goods_issue_date\"].astype(\"datetime64\")\n",
    "    except:\n",
    "        pass\n",
    "    try:\n",
    "        dataframe[\"snapshot_date\"] = dataframe[\"snapshot_date\"].astype(\"datetime64\")\n",
    "    finally:\n",
    "        return dataframe.columns"
   ]
  },
  {
   "cell_type": "code",
   "execution_count": 93,
   "metadata": {},
   "outputs": [
    {
     "output_type": "execute_result",
     "data": {
      "text/plain": "Index(['dd/mm/yy', 'year', 'month', 'national_architect_billing/monthly',\n       'total_federal_construction/billion_$',\n       'total_state_and_local_construction/billion_$',\n       'us_steel_capacity_utilization',\n       'us_long_steel/million_$_per_short_ton',\n       'us_domestic_hot-rolled_coil/million_$_per_short_ton',\n       'msci_carbon_bar_monthly_shipments',\n       'msci_carbon_bar_monthly_shipments_(canada)',\n       'structural_shipments_/usa', 'structural_shipments_/canada',\n       'ism_manufacturing', 'ism_non_manufacturing',\n       'global_steel_utilization', 'chicago#1_scrap_bushelling'],\n      dtype='object')"
     },
     "metadata": {},
     "execution_count": 93
    }
   ],
   "source": [
    "clean_columns(indicators)"
   ]
  },
  {
   "cell_type": "markdown",
   "metadata": {},
   "source": [
    "### Create Month & Year Columns"
   ]
  },
  {
   "cell_type": "code",
   "execution_count": 94,
   "metadata": {},
   "outputs": [],
   "source": [
    "indicators['year'] = indicators['dd/mm/yy'].dt.year\n",
    "indicators['month'] = indicators['dd/mm/yy'].dt.month"
   ]
  },
  {
   "cell_type": "markdown",
   "metadata": {},
   "source": [
    "### Rename Columns"
   ]
  },
  {
   "cell_type": "code",
   "execution_count": 96,
   "metadata": {},
   "outputs": [
    {
     "output_type": "execute_result",
     "data": {
      "text/plain": "Index(['dd/mm/yy', 'year', 'month', 'national_architect_billing/monthly',\n       'total_federal_construction/billion_$',\n       'total_state_and_local_construction/billion_$',\n       'us_steel_capacity_utilization',\n       'us_long_steel/million_$_per_short_ton',\n       'us_domestic_hot-rolled_coil/million_$_per_short_ton',\n       'msci_carbon_bar_monthly_shipments',\n       'msci_carbon_bar_monthly_shipments_(canada)',\n       'structural_shipments_/usa', 'structural_shipments_/canada',\n       'ism_manufacturing', 'ism_non_manufacturing',\n       'global_steel_utilization', 'chicago#1_scrap_bushelling'],\n      dtype='object')"
     },
     "metadata": {},
     "execution_count": 96
    }
   ],
   "source": [
    "indicators.columns"
   ]
  },
  {
   "cell_type": "code",
   "execution_count": 98,
   "metadata": {},
   "outputs": [],
   "source": [
    "#Remane column & pick only desired ones \n",
    "indicators = indicators.rename(columns={'dd/mm/yy':'calendar_day',\n",
    "                                        'total_federal_construction/billion_$':'fed_construction$B',                                                              'total_state_and_local_construction/billion_$':'state_local_construction$B',\n",
    "                                        'msci_carbon_bar_monthly_shipments':'carbon_bar_ship_usa',\n",
    "                                        'msci_carbon_bar_monthly_shipments_(canada)':'carbon_bar_ship_canada',\n",
    "                                        'structural_shipments_/usa':'structural_ship_usa', \n",
    "                                        'structural_shipments_/canada':'structural_ship_canada',\n",
    "                                        'chicago#1_scrap_bushelling':'chicago_scrap$ST'})\n",
    "indicators = indicators[['calendar_day','year','month', 'global_steel_utilization','fed_construction$B',                                           'state_local_construction$B','carbon_bar_ship_usa','carbon_bar_ship_canada',                                              'structural_ship_usa','structural_ship_canada', 'ism_manufacturing', 'ism_non_manufacturing',                             'chicago_scrap$ST']]"
   ]
  },
  {
   "cell_type": "markdown",
   "metadata": {},
   "source": [
    "### Selecting 2016 dates on"
   ]
  },
  {
   "cell_type": "code",
   "execution_count": 99,
   "metadata": {},
   "outputs": [],
   "source": [
    "#select 2016-2020\n",
    "indicators = indicators[(indicators['calendar_day'].dt.year >= 2016) & (indicators['calendar_day'] <='2020-01-01')]\n",
    "indicators = indicators.reset_index()"
   ]
  },
  {
   "cell_type": "code",
   "execution_count": 100,
   "metadata": {},
   "outputs": [
    {
     "output_type": "stream",
     "name": "stdout",
     "text": "<class 'pandas.core.frame.DataFrame'>\nRangeIndex: 49 entries, 0 to 48\nData columns (total 14 columns):\n #   Column                      Non-Null Count  Dtype         \n---  ------                      --------------  -----         \n 0   index                       49 non-null     int64         \n 1   calendar_day                49 non-null     datetime64[ns]\n 2   year                        49 non-null     int64         \n 3   month                       49 non-null     int64         \n 4   global_steel_utilization    45 non-null     float64       \n 5   fed_construction$B          49 non-null     float64       \n 6   state_local_construction$B  49 non-null     float64       \n 7   carbon_bar_ship_usa         49 non-null     float64       \n 8   carbon_bar_ship_canada      49 non-null     float64       \n 9   structural_ship_usa         49 non-null     float64       \n 10  structural_ship_canada      49 non-null     float64       \n 11  ism_manufacturing           49 non-null     float64       \n 12  ism_non_manufacturing       49 non-null     float64       \n 13  chicago_scrap$ST            49 non-null     float64       \ndtypes: datetime64[ns](1), float64(10), int64(3)\nmemory usage: 5.5 KB\n"
    }
   ],
   "source": [
    "indicators.info()"
   ]
  },
  {
   "cell_type": "markdown",
   "metadata": {},
   "source": [
    "### Fill NaNs"
   ]
  },
  {
   "cell_type": "code",
   "execution_count": 101,
   "metadata": {},
   "outputs": [],
   "source": [
    "#filling NaNs - assumption gradual increase \n",
    "values = {36:0.7768,37:0.7915,38:0.8063,39:0.8210}\n",
    "indicators['global_steel_utilization'] = indicators['global_steel_utilization'].fillna(value=values, axis=0)"
   ]
  },
  {
   "cell_type": "code",
   "execution_count": 102,
   "metadata": {},
   "outputs": [
    {
     "output_type": "stream",
     "name": "stdout",
     "text": "<class 'pandas.core.frame.DataFrame'>\nRangeIndex: 49 entries, 0 to 48\nData columns (total 14 columns):\n #   Column                      Non-Null Count  Dtype         \n---  ------                      --------------  -----         \n 0   index                       49 non-null     int64         \n 1   calendar_day                49 non-null     datetime64[ns]\n 2   year                        49 non-null     int64         \n 3   month                       49 non-null     int64         \n 4   global_steel_utilization    49 non-null     float64       \n 5   fed_construction$B          49 non-null     float64       \n 6   state_local_construction$B  49 non-null     float64       \n 7   carbon_bar_ship_usa         49 non-null     float64       \n 8   carbon_bar_ship_canada      49 non-null     float64       \n 9   structural_ship_usa         49 non-null     float64       \n 10  structural_ship_canada      49 non-null     float64       \n 11  ism_manufacturing           49 non-null     float64       \n 12  ism_non_manufacturing       49 non-null     float64       \n 13  chicago_scrap$ST            49 non-null     float64       \ndtypes: datetime64[ns](1), float64(10), int64(3)\nmemory usage: 5.5 KB\n"
    }
   ],
   "source": [
    "indicators.info()"
   ]
  },
  {
   "cell_type": "code",
   "execution_count": 105,
   "metadata": {},
   "outputs": [
    {
     "output_type": "execute_result",
     "data": {
      "text/plain": "   index calendar_day  year  month  global_steel_utilization  \\\n0     72   2016-01-01  2016      1                     0.660   \n1     73   2016-02-01  2016      2                     0.660   \n2     74   2016-03-01  2016      3                     0.707   \n3     75   2016-04-01  2016      4                     0.705   \n4     76   2016-05-01  2016      5                     0.713   \n\n   fed_construction$B  state_local_construction$B  carbon_bar_ship_usa  \\\n0              1583.0                     16684.0             204300.0   \n1              1840.0                     17198.0             205400.0   \n2              1844.0                     18555.0             221200.0   \n3              1703.0                     20187.0             204600.0   \n4              1888.0                     21954.0             200500.0   \n\n   carbon_bar_ship_canada  structural_ship_usa  structural_ship_canada  \\\n0                 30800.0             175300.0                 38700.0   \n1                 31000.0             187000.0                 37500.0   \n2                 31400.0             203900.0                 38400.0   \n3                 31200.0             193800.0                 37400.0   \n4                 29700.0             191440.0                 36600.0   \n\n   ism_manufacturing  ism_non_manufacturing  chicago_scrap$ST  \n0               48.2                   53.5             180.0  \n1               49.5                   53.4             180.0  \n2               51.8                   54.5             195.0  \n3               50.8                   55.7             245.0  \n4               51.3                   52.9             275.0  ",
      "text/html": "<div>\n<style scoped>\n    .dataframe tbody tr th:only-of-type {\n        vertical-align: middle;\n    }\n\n    .dataframe tbody tr th {\n        vertical-align: top;\n    }\n\n    .dataframe thead th {\n        text-align: right;\n    }\n</style>\n<table border=\"1\" class=\"dataframe\">\n  <thead>\n    <tr style=\"text-align: right;\">\n      <th></th>\n      <th>index</th>\n      <th>calendar_day</th>\n      <th>year</th>\n      <th>month</th>\n      <th>global_steel_utilization</th>\n      <th>fed_construction$B</th>\n      <th>state_local_construction$B</th>\n      <th>carbon_bar_ship_usa</th>\n      <th>carbon_bar_ship_canada</th>\n      <th>structural_ship_usa</th>\n      <th>structural_ship_canada</th>\n      <th>ism_manufacturing</th>\n      <th>ism_non_manufacturing</th>\n      <th>chicago_scrap$ST</th>\n    </tr>\n  </thead>\n  <tbody>\n    <tr>\n      <th>0</th>\n      <td>72</td>\n      <td>2016-01-01</td>\n      <td>2016</td>\n      <td>1</td>\n      <td>0.660</td>\n      <td>1583.0</td>\n      <td>16684.0</td>\n      <td>204300.0</td>\n      <td>30800.0</td>\n      <td>175300.0</td>\n      <td>38700.0</td>\n      <td>48.2</td>\n      <td>53.5</td>\n      <td>180.0</td>\n    </tr>\n    <tr>\n      <th>1</th>\n      <td>73</td>\n      <td>2016-02-01</td>\n      <td>2016</td>\n      <td>2</td>\n      <td>0.660</td>\n      <td>1840.0</td>\n      <td>17198.0</td>\n      <td>205400.0</td>\n      <td>31000.0</td>\n      <td>187000.0</td>\n      <td>37500.0</td>\n      <td>49.5</td>\n      <td>53.4</td>\n      <td>180.0</td>\n    </tr>\n    <tr>\n      <th>2</th>\n      <td>74</td>\n      <td>2016-03-01</td>\n      <td>2016</td>\n      <td>3</td>\n      <td>0.707</td>\n      <td>1844.0</td>\n      <td>18555.0</td>\n      <td>221200.0</td>\n      <td>31400.0</td>\n      <td>203900.0</td>\n      <td>38400.0</td>\n      <td>51.8</td>\n      <td>54.5</td>\n      <td>195.0</td>\n    </tr>\n    <tr>\n      <th>3</th>\n      <td>75</td>\n      <td>2016-04-01</td>\n      <td>2016</td>\n      <td>4</td>\n      <td>0.705</td>\n      <td>1703.0</td>\n      <td>20187.0</td>\n      <td>204600.0</td>\n      <td>31200.0</td>\n      <td>193800.0</td>\n      <td>37400.0</td>\n      <td>50.8</td>\n      <td>55.7</td>\n      <td>245.0</td>\n    </tr>\n    <tr>\n      <th>4</th>\n      <td>76</td>\n      <td>2016-05-01</td>\n      <td>2016</td>\n      <td>5</td>\n      <td>0.713</td>\n      <td>1888.0</td>\n      <td>21954.0</td>\n      <td>200500.0</td>\n      <td>29700.0</td>\n      <td>191440.0</td>\n      <td>36600.0</td>\n      <td>51.3</td>\n      <td>52.9</td>\n      <td>275.0</td>\n    </tr>\n  </tbody>\n</table>\n</div>"
     },
     "metadata": {},
     "execution_count": 105
    }
   ],
   "source": [
    "indicators.head()"
   ]
  },
  {
   "cell_type": "markdown",
   "metadata": {},
   "source": [
    "## Save to file"
   ]
  },
  {
   "cell_type": "code",
   "execution_count": 104,
   "metadata": {},
   "outputs": [],
   "source": [
    "#indicators.to_pickle(ser_path+'indicators.pkl')"
   ]
  },
  {
   "cell_type": "markdown",
   "metadata": {},
   "source": [
    "## Ready for merging \n",
    "Consider whether monthly value ingestion may be better than weekly"
   ]
  },
  {
   "cell_type": "markdown",
   "metadata": {},
   "source": [
    "### Importing Structural df"
   ]
  },
  {
   "cell_type": "code",
   "execution_count": 106,
   "metadata": {},
   "outputs": [],
   "source": [
    "structural = pd.read_pickle(ser_path+\"structural_merged.pkl\")"
   ]
  },
  {
   "cell_type": "code",
   "execution_count": 107,
   "metadata": {},
   "outputs": [
    {
     "output_type": "stream",
     "name": "stdout",
     "text": "<class 'pandas.core.frame.DataFrame'>\nRangeIndex: 158270 entries, 0 to 158269\nData columns (total 10 columns):\n #   Column                    Non-Null Count   Dtype         \n---  ------                    --------------   -----         \n 0   calendar_day              158270 non-null  datetime64[ns]\n 1   year                      158270 non-null  object        \n 2   month                     158270 non-null  object        \n 3   week                      158270 non-null  object        \n 4   block                     158270 non-null  object        \n 5   size                      158270 non-null  object        \n 6   IN_tons                   158270 non-null  float64       \n 7   SO_order_qty_sales_units  158270 non-null  float64       \n 8   SH_shipment_tons          158270 non-null  float64       \n 9   PR_ton                    158270 non-null  float64       \ndtypes: datetime64[ns](1), float64(4), object(5)\nmemory usage: 12.1+ MB\n"
    }
   ],
   "source": [
    "structural.info()"
   ]
  },
  {
   "cell_type": "code",
   "execution_count": 110,
   "metadata": {},
   "outputs": [],
   "source": [
    "#dropping columns to permit merging\n",
    "structural = structural.drop(columns=['year','month','week'])"
   ]
  },
  {
   "cell_type": "code",
   "execution_count": 124,
   "metadata": {},
   "outputs": [
    {
     "output_type": "execute_result",
     "data": {
      "text/plain": "Index(['calendar_day', 'block', 'size', 'IN_tons', 'SO_order_qty_sales_units',\n       'SH_shipment_tons', 'PR_ton'],\n      dtype='object')"
     },
     "metadata": {},
     "execution_count": 124
    }
   ],
   "source": [
    "structural.columns"
   ]
  },
  {
   "cell_type": "markdown",
   "metadata": {},
   "source": [
    "### Creating Weekly dataframe for merging"
   ]
  },
  {
   "cell_type": "code",
   "execution_count": 118,
   "metadata": {},
   "outputs": [],
   "source": [
    "weekly = structural.groupby('block').resample('W', on='calendar_day').sum().sort_values('calendar_day').reset_index()"
   ]
  },
  {
   "cell_type": "code",
   "execution_count": 125,
   "metadata": {},
   "outputs": [
    {
     "output_type": "stream",
     "name": "stdout",
     "text": "<class 'pandas.core.frame.DataFrame'>\nRangeIndex: 12519 entries, 0 to 12518\nData columns (total 6 columns):\n #   Column                    Non-Null Count  Dtype         \n---  ------                    --------------  -----         \n 0   calendar_day              12519 non-null  datetime64[ns]\n 1   block                     12519 non-null  object        \n 2   IN_tons                   12519 non-null  float64       \n 3   PR_ton                    12519 non-null  float64       \n 4   SO_order_qty_sales_units  12519 non-null  float64       \n 5   SH_shipment_tons          12519 non-null  float64       \ndtypes: datetime64[ns](1), float64(4), object(1)\nmemory usage: 587.0+ KB\n"
    }
   ],
   "source": [
    "weekly.info()"
   ]
  },
  {
   "cell_type": "code",
   "execution_count": 129,
   "metadata": {},
   "outputs": [
    {
     "output_type": "execute_result",
     "data": {
      "text/plain": "  calendar_day  year  month           block   IN_tons  PR_ton  \\\n0   2016-01-03  2016      1      3-1/2\" ANG   207.261     0.0   \n1   2016-01-03  2016      1          9\" CHN    43.296     0.0   \n2   2016-01-03  2016      1      8 X 4\" ANG    14.112     0.0   \n3   2016-01-03  2016      1          6\" CHN  1857.997     0.0   \n4   2016-01-03  2016      1      4 X 3\" ANG   472.990     0.0   \n5   2016-01-03  2016      1  5 X 3-1/2\" ANG  1888.340     0.0   \n6   2016-01-03  2016      1          6\" FLT  1102.054     0.0   \n7   2016-01-03  2016      1          8\" FLT   867.865     0.0   \n8   2016-01-03  2016      1      5 X 3\" ANG  1172.033     0.0   \n9   2016-01-03  2016      1          8\" CHN   958.505     0.0   \n\n   SO_order_qty_sales_units  SH_shipment_tons  \n0                     0.000               0.0  \n1                     0.000               0.0  \n2                     0.000               0.0  \n3                     0.000               0.0  \n4                     0.000               0.0  \n5                     0.000               0.0  \n6                     2.244               0.0  \n7                     2.244               0.0  \n8                     0.000               0.0  \n9                     0.000               0.0  ",
      "text/html": "<div>\n<style scoped>\n    .dataframe tbody tr th:only-of-type {\n        vertical-align: middle;\n    }\n\n    .dataframe tbody tr th {\n        vertical-align: top;\n    }\n\n    .dataframe thead th {\n        text-align: right;\n    }\n</style>\n<table border=\"1\" class=\"dataframe\">\n  <thead>\n    <tr style=\"text-align: right;\">\n      <th></th>\n      <th>calendar_day</th>\n      <th>year</th>\n      <th>month</th>\n      <th>block</th>\n      <th>IN_tons</th>\n      <th>PR_ton</th>\n      <th>SO_order_qty_sales_units</th>\n      <th>SH_shipment_tons</th>\n    </tr>\n  </thead>\n  <tbody>\n    <tr>\n      <th>0</th>\n      <td>2016-01-03</td>\n      <td>2016</td>\n      <td>1</td>\n      <td>3-1/2\" ANG</td>\n      <td>207.261</td>\n      <td>0.0</td>\n      <td>0.000</td>\n      <td>0.0</td>\n    </tr>\n    <tr>\n      <th>1</th>\n      <td>2016-01-03</td>\n      <td>2016</td>\n      <td>1</td>\n      <td>9\" CHN</td>\n      <td>43.296</td>\n      <td>0.0</td>\n      <td>0.000</td>\n      <td>0.0</td>\n    </tr>\n    <tr>\n      <th>2</th>\n      <td>2016-01-03</td>\n      <td>2016</td>\n      <td>1</td>\n      <td>8 X 4\" ANG</td>\n      <td>14.112</td>\n      <td>0.0</td>\n      <td>0.000</td>\n      <td>0.0</td>\n    </tr>\n    <tr>\n      <th>3</th>\n      <td>2016-01-03</td>\n      <td>2016</td>\n      <td>1</td>\n      <td>6\" CHN</td>\n      <td>1857.997</td>\n      <td>0.0</td>\n      <td>0.000</td>\n      <td>0.0</td>\n    </tr>\n    <tr>\n      <th>4</th>\n      <td>2016-01-03</td>\n      <td>2016</td>\n      <td>1</td>\n      <td>4 X 3\" ANG</td>\n      <td>472.990</td>\n      <td>0.0</td>\n      <td>0.000</td>\n      <td>0.0</td>\n    </tr>\n    <tr>\n      <th>5</th>\n      <td>2016-01-03</td>\n      <td>2016</td>\n      <td>1</td>\n      <td>5 X 3-1/2\" ANG</td>\n      <td>1888.340</td>\n      <td>0.0</td>\n      <td>0.000</td>\n      <td>0.0</td>\n    </tr>\n    <tr>\n      <th>6</th>\n      <td>2016-01-03</td>\n      <td>2016</td>\n      <td>1</td>\n      <td>6\" FLT</td>\n      <td>1102.054</td>\n      <td>0.0</td>\n      <td>2.244</td>\n      <td>0.0</td>\n    </tr>\n    <tr>\n      <th>7</th>\n      <td>2016-01-03</td>\n      <td>2016</td>\n      <td>1</td>\n      <td>8\" FLT</td>\n      <td>867.865</td>\n      <td>0.0</td>\n      <td>2.244</td>\n      <td>0.0</td>\n    </tr>\n    <tr>\n      <th>8</th>\n      <td>2016-01-03</td>\n      <td>2016</td>\n      <td>1</td>\n      <td>5 X 3\" ANG</td>\n      <td>1172.033</td>\n      <td>0.0</td>\n      <td>0.000</td>\n      <td>0.0</td>\n    </tr>\n    <tr>\n      <th>9</th>\n      <td>2016-01-03</td>\n      <td>2016</td>\n      <td>1</td>\n      <td>8\" CHN</td>\n      <td>958.505</td>\n      <td>0.0</td>\n      <td>0.000</td>\n      <td>0.0</td>\n    </tr>\n  </tbody>\n</table>\n</div>"
     },
     "metadata": {},
     "execution_count": 129
    }
   ],
   "source": [
    "weekly.head(10)"
   ]
  },
  {
   "cell_type": "code",
   "execution_count": 126,
   "metadata": {},
   "outputs": [],
   "source": [
    "#recreating time columns for merging\n",
    "weekly['month'] = weekly['calendar_day'].dt.month\n",
    "weekly['year'] = weekly['calendar_day'].dt.year"
   ]
  },
  {
   "cell_type": "code",
   "execution_count": 127,
   "metadata": {},
   "outputs": [
    {
     "output_type": "execute_result",
     "data": {
      "text/plain": "  calendar_day  year  month       block   IN_tons  PR_ton  \\\n0   2016-01-03  2016      1  3-1/2\" ANG   207.261     0.0   \n1   2016-01-03  2016      1      9\" CHN    43.296     0.0   \n2   2016-01-03  2016      1  8 X 4\" ANG    14.112     0.0   \n3   2016-01-03  2016      1      6\" CHN  1857.997     0.0   \n4   2016-01-03  2016      1  4 X 3\" ANG   472.990     0.0   \n\n   SO_order_qty_sales_units  SH_shipment_tons  \n0                       0.0               0.0  \n1                       0.0               0.0  \n2                       0.0               0.0  \n3                       0.0               0.0  \n4                       0.0               0.0  ",
      "text/html": "<div>\n<style scoped>\n    .dataframe tbody tr th:only-of-type {\n        vertical-align: middle;\n    }\n\n    .dataframe tbody tr th {\n        vertical-align: top;\n    }\n\n    .dataframe thead th {\n        text-align: right;\n    }\n</style>\n<table border=\"1\" class=\"dataframe\">\n  <thead>\n    <tr style=\"text-align: right;\">\n      <th></th>\n      <th>calendar_day</th>\n      <th>year</th>\n      <th>month</th>\n      <th>block</th>\n      <th>IN_tons</th>\n      <th>PR_ton</th>\n      <th>SO_order_qty_sales_units</th>\n      <th>SH_shipment_tons</th>\n    </tr>\n  </thead>\n  <tbody>\n    <tr>\n      <th>0</th>\n      <td>2016-01-03</td>\n      <td>2016</td>\n      <td>1</td>\n      <td>3-1/2\" ANG</td>\n      <td>207.261</td>\n      <td>0.0</td>\n      <td>0.0</td>\n      <td>0.0</td>\n    </tr>\n    <tr>\n      <th>1</th>\n      <td>2016-01-03</td>\n      <td>2016</td>\n      <td>1</td>\n      <td>9\" CHN</td>\n      <td>43.296</td>\n      <td>0.0</td>\n      <td>0.0</td>\n      <td>0.0</td>\n    </tr>\n    <tr>\n      <th>2</th>\n      <td>2016-01-03</td>\n      <td>2016</td>\n      <td>1</td>\n      <td>8 X 4\" ANG</td>\n      <td>14.112</td>\n      <td>0.0</td>\n      <td>0.0</td>\n      <td>0.0</td>\n    </tr>\n    <tr>\n      <th>3</th>\n      <td>2016-01-03</td>\n      <td>2016</td>\n      <td>1</td>\n      <td>6\" CHN</td>\n      <td>1857.997</td>\n      <td>0.0</td>\n      <td>0.0</td>\n      <td>0.0</td>\n    </tr>\n    <tr>\n      <th>4</th>\n      <td>2016-01-03</td>\n      <td>2016</td>\n      <td>1</td>\n      <td>4 X 3\" ANG</td>\n      <td>472.990</td>\n      <td>0.0</td>\n      <td>0.0</td>\n      <td>0.0</td>\n    </tr>\n  </tbody>\n</table>\n</div>"
     },
     "metadata": {},
     "execution_count": 127
    }
   ],
   "source": [
    "#weekly data ready for merging\n",
    "weekly = weekly[['calendar_day','year','month','block','IN_tons','PR_ton','SO_order_qty_sales_units','SH_shipment_tons']]\n",
    "weekly.head()"
   ]
  },
  {
   "cell_type": "code",
   "execution_count": null,
   "metadata": {},
   "outputs": [],
   "source": []
  }
 ],
 "metadata": {
  "language_info": {
   "codemirror_mode": {
    "name": "ipython",
    "version": 3
   },
   "file_extension": ".py",
   "mimetype": "text/x-python",
   "name": "python",
   "nbconvert_exporter": "python",
   "pygments_lexer": "ipython3",
   "version": "3.7.6-final"
  },
  "orig_nbformat": 2,
  "kernelspec": {
   "name": "python37664bitpftpipenv41a3325616004cea923f5375811f25e4",
   "display_name": "Python 3.7.6 64-bit ('pft': pipenv)"
  }
 },
 "nbformat": 4,
 "nbformat_minor": 2
}