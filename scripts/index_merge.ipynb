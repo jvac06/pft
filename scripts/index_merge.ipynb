{
 "cells": [
  {
   "cell_type": "code",
   "execution_count": 43,
   "metadata": {},
   "outputs": [],
   "source": [
    "#Dependencies\n",
    "import numpy as np\n",
    "import pandas as pd\n",
    "import datetime as dt\n",
    "import re"
   ]
  },
  {
   "cell_type": "code",
   "execution_count": 2,
   "metadata": {},
   "outputs": [
    {
     "output_type": "execute_result",
     "data": {
      "text/plain": "'/Users/jacosta3/OneDrive - University of South Florida/Gerdau Projects/pft/scripts'"
     },
     "metadata": {},
     "execution_count": 2
    }
   ],
   "source": [
    "os.getcwd()"
   ]
  },
  {
   "cell_type": "markdown",
   "metadata": {},
   "source": [
    "## Fetching Indicators info"
   ]
  },
  {
   "cell_type": "code",
   "execution_count": 89,
   "metadata": {},
   "outputs": [],
   "source": [
    "#File directory\n",
    "ser_path = \"./serialized/\"\n",
    "path = \"./confidential/\"\n",
    "#change directory to datasets\n",
    "os.chdir(\"../datasets\")"
   ]
  },
  {
   "cell_type": "code",
   "execution_count": 90,
   "metadata": {},
   "outputs": [],
   "source": [
    "indicators = pd.read_excel(path+\"market_indicators.xlsx\",sheet_name=\"Monthly\")"
   ]
  },
  {
   "cell_type": "code",
   "execution_count": 91,
   "metadata": {},
   "outputs": [
    {
     "output_type": "stream",
     "name": "stdout",
     "text": "<class 'pandas.core.frame.DataFrame'>\nRangeIndex: 124 entries, 0 to 123\nData columns (total 17 columns):\n #   Column                                               Non-Null Count  Dtype         \n---  ------                                               --------------  -----         \n 0   dd/mm/yy                                             124 non-null    datetime64[ns]\n 1   Year                                                 124 non-null    int64         \n 2   Month                                                124 non-null    object        \n 3   National Architect Billing/monthly                   121 non-null    float64       \n 4   Total Federal Construction/Billion $                 121 non-null    float64       \n 5   Total State and Local Construction/Billion $         121 non-null    float64       \n 6   US Steel Capacity Utilization                        109 non-null    float64       \n 7   US Long Steel/million $ per short ton                26 non-null     float64       \n 8   US Domestic Hot-Rolled Coil/Million $ per short ton  26 non-null     float64       \n 9   MSCI Carbon bar monthly shipments                    121 non-null    float64       \n 10  MSCI Carbon bar monthly shipments (canada)           121 non-null    float64       \n 11  Structural Shipments /USA                            121 non-null    float64       \n 12  Structural Shipments /Canada                         121 non-null    float64       \n 13  ISM Manufacturing                                    122 non-null    float64       \n 14  ISM Non Manufacturing                                123 non-null    float64       \n 15  Global Steel Utilization                             117 non-null    float64       \n 16  Chicago#1 Scrap Bushelling                           50 non-null     float64       \ndtypes: datetime64[ns](1), float64(14), int64(1), object(1)\nmemory usage: 16.6+ KB\n"
    }
   ],
   "source": [
    "indicators.info()"
   ]
  },
  {
   "cell_type": "markdown",
   "metadata": {},
   "source": [
    "## Cleaning Columns"
   ]
  },
  {
   "cell_type": "code",
   "execution_count": 92,
   "metadata": {},
   "outputs": [],
   "source": [
    "def clean_columns(dataframe):\n",
    "    for col in dataframe.columns:\n",
    "        dataframe.rename(columns={col:re.sub(r'([a-z](?=[A-Z])|[A-Z](?=[A-Z][a-z]))', r'\\1 ', col)}, inplace=True)\n",
    "    dataframe.columns = dataframe.columns.str.strip().str.lower().str.replace(\" \",\"_\")\n",
    "    try:\n",
    "        dataframe[\"calendar_day\"] = dataframe[\"calendar_day\"].astype(\"datetime64\")\n",
    "    except:\n",
    "        pass\n",
    "    try:\n",
    "        dataframe[\"requested_date\"] = dataframe[\"requested_date\"].astype(\"datetime64\")\n",
    "        dataframe[\"confirmed_date\"] = dataframe[\"confirmed_date\"].astype(\"datetime64\")\n",
    "        dataframe[\"material_avail_date\"] = dataframe[\"material_avail_date\"].astype(\"datetime64\")\n",
    "        dataframe[\"load_date\"] = dataframe[\"load_date\"].astype(\"datetime64\")\n",
    "        dataframe[\"plan_goods_issue_date\"] = dataframe[\"plan_goods_issue_date\"].astype(\"datetime64\")\n",
    "    except:\n",
    "        pass\n",
    "    try:\n",
    "        dataframe[\"snapshot_date\"] = dataframe[\"snapshot_date\"].astype(\"datetime64\")\n",
    "    finally:\n",
    "        return dataframe.columns"
   ]
  },
  {
   "cell_type": "code",
   "execution_count": 93,
   "metadata": {},
   "outputs": [
    {
     "output_type": "execute_result",
     "data": {
      "text/plain": "Index(['dd/mm/yy', 'year', 'month', 'national_architect_billing/monthly',\n       'total_federal_construction/billion_$',\n       'total_state_and_local_construction/billion_$',\n       'us_steel_capacity_utilization',\n       'us_long_steel/million_$_per_short_ton',\n       'us_domestic_hot-rolled_coil/million_$_per_short_ton',\n       'msci_carbon_bar_monthly_shipments',\n       'msci_carbon_bar_monthly_shipments_(canada)',\n       'structural_shipments_/usa', 'structural_shipments_/canada',\n       'ism_manufacturing', 'ism_non_manufacturing',\n       'global_steel_utilization', 'chicago#1_scrap_bushelling'],\n      dtype='object')"
     },
     "metadata": {},
     "execution_count": 93
    }
   ],
   "source": [
    "clean_columns(indicators)"
   ]
  },
  {
   "cell_type": "markdown",
   "metadata": {},
   "source": [
    "### Create Month & Year Columns"
   ]
  },
  {
   "cell_type": "code",
   "execution_count": 94,
   "metadata": {},
   "outputs": [],
   "source": [
    "indicators['year'] = indicators['dd/mm/yy'].dt.year\n",
    "indicators['month'] = indicators['dd/mm/yy'].dt.month"
   ]
  },
  {
   "cell_type": "markdown",
   "metadata": {},
   "source": [
    "### Rename Columns"
   ]
  },
  {
   "cell_type": "code",
   "execution_count": 96,
   "metadata": {},
   "outputs": [
    {
     "output_type": "execute_result",
     "data": {
      "text/plain": "Index(['dd/mm/yy', 'year', 'month', 'national_architect_billing/monthly',\n       'total_federal_construction/billion_$',\n       'total_state_and_local_construction/billion_$',\n       'us_steel_capacity_utilization',\n       'us_long_steel/million_$_per_short_ton',\n       'us_domestic_hot-rolled_coil/million_$_per_short_ton',\n       'msci_carbon_bar_monthly_shipments',\n       'msci_carbon_bar_monthly_shipments_(canada)',\n       'structural_shipments_/usa', 'structural_shipments_/canada',\n       'ism_manufacturing', 'ism_non_manufacturing',\n       'global_steel_utilization', 'chicago#1_scrap_bushelling'],\n      dtype='object')"
     },
     "metadata": {},
     "execution_count": 96
    }
   ],
   "source": [
    "indicators.columns"
   ]
  },
  {
   "cell_type": "code",
   "execution_count": 98,
   "metadata": {},
   "outputs": [],
   "source": [
    "#Remane column & pick only desired ones \n",
    "indicators = indicators.rename(columns={'dd/mm/yy':'calendar_day',\n",
    "                                        'total_federal_construction/billion_$':'fed_construction$B',                                                              'total_state_and_local_construction/billion_$':'state_local_construction$B',\n",
    "                                        'msci_carbon_bar_monthly_shipments':'carbon_bar_ship_usa',\n",
    "                                        'msci_carbon_bar_monthly_shipments_(canada)':'carbon_bar_ship_canada',\n",
    "                                        'structural_shipments_/usa':'structural_ship_usa', \n",
    "                                        'structural_shipments_/canada':'structural_ship_canada',\n",
    "                                        'chicago#1_scrap_bushelling':'chicago_scrap$ST'})\n",
    "indicators = indicators[['calendar_day','year','month', 'global_steel_utilization','fed_construction$B',                                           'state_local_construction$B','carbon_bar_ship_usa','carbon_bar_ship_canada',                                              'structural_ship_usa','structural_ship_canada', 'ism_manufacturing', 'ism_non_manufacturing',                             'chicago_scrap$ST']]"
   ]
  },
  {
   "cell_type": "markdown",
   "metadata": {},
   "source": [
    "### Selecting 2016 dates on"
   ]
  },
  {
   "cell_type": "code",
   "execution_count": 99,
   "metadata": {},
   "outputs": [],
   "source": [
    "#select 2016-2020\n",
    "indicators = indicators[(indicators['calendar_day'].dt.year >= 2016) & (indicators['calendar_day'] <='2020-01-01')]\n",
    "indicators = indicators.reset_index()"
   ]
  },
  {
   "cell_type": "code",
   "execution_count": 100,
   "metadata": {},
   "outputs": [
    {
     "output_type": "stream",
     "name": "stdout",
     "text": "<class 'pandas.core.frame.DataFrame'>\nRangeIndex: 49 entries, 0 to 48\nData columns (total 14 columns):\n #   Column                      Non-Null Count  Dtype         \n---  ------                      --------------  -----         \n 0   index                       49 non-null     int64         \n 1   calendar_day                49 non-null     datetime64[ns]\n 2   year                        49 non-null     int64         \n 3   month                       49 non-null     int64         \n 4   global_steel_utilization    45 non-null     float64       \n 5   fed_construction$B          49 non-null     float64       \n 6   state_local_construction$B  49 non-null     float64       \n 7   carbon_bar_ship_usa         49 non-null     float64       \n 8   carbon_bar_ship_canada      49 non-null     float64       \n 9   structural_ship_usa         49 non-null     float64       \n 10  structural_ship_canada      49 non-null     float64       \n 11  ism_manufacturing           49 non-null     float64       \n 12  ism_non_manufacturing       49 non-null     float64       \n 13  chicago_scrap$ST            49 non-null     float64       \ndtypes: datetime64[ns](1), float64(10), int64(3)\nmemory usage: 5.5 KB\n"
    }
   ],
   "source": [
    "indicators.info()"
   ]
  },
  {
   "cell_type": "markdown",
   "metadata": {},
   "source": [
    "### Fill NaNs"
   ]
  },
  {
   "cell_type": "code",
   "execution_count": 101,
   "metadata": {},
   "outputs": [],
   "source": [
    "#filling NaNs - assumption gradual increase \n",
    "values = {36:0.7768,37:0.7915,38:0.8063,39:0.8210}\n",
    "indicators['global_steel_utilization'] = indicators['global_steel_utilization'].fillna(value=values, axis=0)"
   ]
  },
  {
   "cell_type": "code",
   "execution_count": 102,
   "metadata": {},
   "outputs": [
    {
     "output_type": "stream",
     "name": "stdout",
     "text": "<class 'pandas.core.frame.DataFrame'>\nRangeIndex: 49 entries, 0 to 48\nData columns (total 14 columns):\n #   Column                      Non-Null Count  Dtype         \n---  ------                      --------------  -----         \n 0   index                       49 non-null     int64         \n 1   calendar_day                49 non-null     datetime64[ns]\n 2   year                        49 non-null     int64         \n 3   month                       49 non-null     int64         \n 4   global_steel_utilization    49 non-null     float64       \n 5   fed_construction$B          49 non-null     float64       \n 6   state_local_construction$B  49 non-null     float64       \n 7   carbon_bar_ship_usa         49 non-null     float64       \n 8   carbon_bar_ship_canada      49 non-null     float64       \n 9   structural_ship_usa         49 non-null     float64       \n 10  structural_ship_canada      49 non-null     float64       \n 11  ism_manufacturing           49 non-null     float64       \n 12  ism_non_manufacturing       49 non-null     float64       \n 13  chicago_scrap$ST            49 non-null     float64       \ndtypes: datetime64[ns](1), float64(10), int64(3)\nmemory usage: 5.5 KB\n"
    }
   ],
   "source": [
    "indicators.info()"
   ]
  },
  {
   "cell_type": "markdown",
   "metadata": {},
   "source": [
    "## Save to file"
   ]
  },
  {
   "cell_type": "code",
   "execution_count": 104,
   "metadata": {},
   "outputs": [],
   "source": [
    "#indicators.to_pickle(ser_path+'indicators.pkl')"
   ]
  },
  {
   "cell_type": "code",
   "execution_count": null,
   "metadata": {},
   "outputs": [],
   "source": [
    "### Ready for merging \n",
    "# Consider whether monthly value ingestion may be better than weekly"
   ]
  }
 ],
 "metadata": {
  "language_info": {
   "codemirror_mode": {
    "name": "ipython",
    "version": 3
   },
   "file_extension": ".py",
   "mimetype": "text/x-python",
   "name": "python",
   "nbconvert_exporter": "python",
   "pygments_lexer": "ipython3",
   "version": "3.7.6-final"
  },
  "orig_nbformat": 2,
  "kernelspec": {
   "name": "python37664bitpftpipenv41a3325616004cea923f5375811f25e4",
   "display_name": "Python 3.7.6 64-bit ('pft': pipenv)"
  }
 },
 "nbformat": 4,
 "nbformat_minor": 2
}