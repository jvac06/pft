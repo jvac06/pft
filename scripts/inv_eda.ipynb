{
 "cells": [
  {
   "cell_type": "markdown",
   "metadata": {},
   "source": [
    "# Inventory EDA"
   ]
  },
  {
   "cell_type": "markdown",
   "metadata": {},
   "source": [
    "Inventory Data contains snapshot information about sku-level tons that were available in inventory at a specific date. This data pertains to Whitby mill (1302). \n",
    "\n",
    "One important consideration - the numbers in inventory could decrease by:\n",
    " 1) Shipments\n",
    " 2) Scrapping\n",
    "\n",
    "Our assumption for this analysis is that most of the decreases will be derived from shipments. Thus the rate of change we assume to be equal to the rate of shipments for the items in analysis. \n",
    "\n",
    "**Given limited time for analysis we will focus on specific blocks**\n",
    "- 4\" ANG\n",
    "- 5X3-1/2\" ANG\n",
    "- 5X3\" ANG\n",
    "- 4X3\" ANG\n",
    "- 3-1/2\" ANG\n",
    "\n",
    "Exploration areas:\n",
    "- Distribution of inventory through time\n",
    "- Is there cyclicality to inventory from month to month, or cycle to cycle\n",
    "- Analysis on the cycle lenghts (avg. and std deviations)\n",
    "- **Potential features that could serve as indicators for the prediction of production quantities**\n",
    "    - rate of change in inventory increasing decreasing (especially in comparison to ATP available)\n",
    "    - ..."
   ]
  },
  {
   "cell_type": "markdown",
   "metadata": {},
   "source": [
    "#### Dependencies"
   ]
  },
  {
   "cell_type": "code",
   "execution_count": 59,
   "metadata": {},
   "outputs": [],
   "source": [
    "#dependencies for EDA\n",
    "import numpy as np\n",
    "import pandas as pd\n",
    "import scipy as sp\n",
    "import matplotlib.pyplot as plt\n",
    "import seaborn as sns\n",
    "import datetime as dt"
   ]
  },
  {
   "cell_type": "markdown",
   "metadata": {},
   "source": [
    "#### Read Dataframe"
   ]
  },
  {
   "cell_type": "code",
   "execution_count": 60,
   "metadata": {},
   "outputs": [],
   "source": [
    "%store -r inv_reduced"
   ]
  },
  {
   "cell_type": "markdown",
   "metadata": {},
   "source": [
    "## Peaking at Data"
   ]
  },
  {
   "cell_type": "code",
   "execution_count": 61,
   "metadata": {},
   "outputs": [
    {
     "data": {
      "text/html": [
       "<div>\n",
       "<style scoped>\n",
       "    .dataframe tbody tr th:only-of-type {\n",
       "        vertical-align: middle;\n",
       "    }\n",
       "\n",
       "    .dataframe tbody tr th {\n",
       "        vertical-align: top;\n",
       "    }\n",
       "\n",
       "    .dataframe thead th {\n",
       "        text-align: right;\n",
       "    }\n",
       "</style>\n",
       "<table border=\"1\" class=\"dataframe\">\n",
       "  <thead>\n",
       "    <tr style=\"text-align: right;\">\n",
       "      <th></th>\n",
       "      <th>calendar_day</th>\n",
       "      <th>strategy</th>\n",
       "      <th>sku</th>\n",
       "      <th>material_description</th>\n",
       "      <th>work_center</th>\n",
       "      <th>ph</th>\n",
       "      <th>shape</th>\n",
       "      <th>size</th>\n",
       "      <th>block</th>\n",
       "      <th>tons</th>\n",
       "      <th>atp</th>\n",
       "    </tr>\n",
       "  </thead>\n",
       "  <tbody>\n",
       "    <tr>\n",
       "      <th>0</th>\n",
       "      <td>2020-02-23</td>\n",
       "      <td>63</td>\n",
       "      <td>106022474</td>\n",
       "      <td>L 2X2X1/4 A36/44W/A529-50 20'00\"</td>\n",
       "      <td>25000001.0</td>\n",
       "      <td>LS-Mills-Mer-Mer-Lght Shp-MBQ Angles</td>\n",
       "      <td>SHAPE_L</td>\n",
       "      <td>2X2X1/4</td>\n",
       "      <td>2\" ANG</td>\n",
       "      <td>0.009</td>\n",
       "      <td>0.0</td>\n",
       "    </tr>\n",
       "    <tr>\n",
       "      <th>1</th>\n",
       "      <td>2020-02-20</td>\n",
       "      <td>63</td>\n",
       "      <td>106022474</td>\n",
       "      <td>L 2X2X1/4 A36/44W/A529-50 20'00\"</td>\n",
       "      <td>25000001.0</td>\n",
       "      <td>LS-Mills-Mer-Mer-Lght Shp-MBQ Angles</td>\n",
       "      <td>SHAPE_L</td>\n",
       "      <td>2X2X1/4</td>\n",
       "      <td>2\" ANG</td>\n",
       "      <td>0.009</td>\n",
       "      <td>0.0</td>\n",
       "    </tr>\n",
       "    <tr>\n",
       "      <th>2</th>\n",
       "      <td>2020-02-19</td>\n",
       "      <td>63</td>\n",
       "      <td>106022474</td>\n",
       "      <td>L 2X2X1/4 A36/44W/A529-50 20'00\"</td>\n",
       "      <td>25000001.0</td>\n",
       "      <td>LS-Mills-Mer-Mer-Lght Shp-MBQ Angles</td>\n",
       "      <td>SHAPE_L</td>\n",
       "      <td>2X2X1/4</td>\n",
       "      <td>2\" ANG</td>\n",
       "      <td>0.009</td>\n",
       "      <td>0.0</td>\n",
       "    </tr>\n",
       "    <tr>\n",
       "      <th>3</th>\n",
       "      <td>2020-02-18</td>\n",
       "      <td>63</td>\n",
       "      <td>106022474</td>\n",
       "      <td>L 2X2X1/4 A36/44W/A529-50 20'00\"</td>\n",
       "      <td>25000001.0</td>\n",
       "      <td>LS-Mills-Mer-Mer-Lght Shp-MBQ Angles</td>\n",
       "      <td>SHAPE_L</td>\n",
       "      <td>2X2X1/4</td>\n",
       "      <td>2\" ANG</td>\n",
       "      <td>0.009</td>\n",
       "      <td>0.0</td>\n",
       "    </tr>\n",
       "    <tr>\n",
       "      <th>4</th>\n",
       "      <td>2020-02-17</td>\n",
       "      <td>63</td>\n",
       "      <td>106022474</td>\n",
       "      <td>L 2X2X1/4 A36/44W/A529-50 20'00\"</td>\n",
       "      <td>25000001.0</td>\n",
       "      <td>LS-Mills-Mer-Mer-Lght Shp-MBQ Angles</td>\n",
       "      <td>SHAPE_L</td>\n",
       "      <td>2X2X1/4</td>\n",
       "      <td>2\" ANG</td>\n",
       "      <td>0.009</td>\n",
       "      <td>0.0</td>\n",
       "    </tr>\n",
       "  </tbody>\n",
       "</table>\n",
       "</div>"
      ],
      "text/plain": [
       "  calendar_day strategy        sku              material_description  \\\n",
       "0   2020-02-23       63  106022474  L 2X2X1/4 A36/44W/A529-50 20'00\"   \n",
       "1   2020-02-20       63  106022474  L 2X2X1/4 A36/44W/A529-50 20'00\"   \n",
       "2   2020-02-19       63  106022474  L 2X2X1/4 A36/44W/A529-50 20'00\"   \n",
       "3   2020-02-18       63  106022474  L 2X2X1/4 A36/44W/A529-50 20'00\"   \n",
       "4   2020-02-17       63  106022474  L 2X2X1/4 A36/44W/A529-50 20'00\"   \n",
       "\n",
       "  work_center                                    ph    shape     size   block  \\\n",
       "0  25000001.0  LS-Mills-Mer-Mer-Lght Shp-MBQ Angles  SHAPE_L  2X2X1/4  2\" ANG   \n",
       "1  25000001.0  LS-Mills-Mer-Mer-Lght Shp-MBQ Angles  SHAPE_L  2X2X1/4  2\" ANG   \n",
       "2  25000001.0  LS-Mills-Mer-Mer-Lght Shp-MBQ Angles  SHAPE_L  2X2X1/4  2\" ANG   \n",
       "3  25000001.0  LS-Mills-Mer-Mer-Lght Shp-MBQ Angles  SHAPE_L  2X2X1/4  2\" ANG   \n",
       "4  25000001.0  LS-Mills-Mer-Mer-Lght Shp-MBQ Angles  SHAPE_L  2X2X1/4  2\" ANG   \n",
       "\n",
       "    tons  atp  \n",
       "0  0.009  0.0  \n",
       "1  0.009  0.0  \n",
       "2  0.009  0.0  \n",
       "3  0.009  0.0  \n",
       "4  0.009  0.0  "
      ]
     },
     "execution_count": 61,
     "metadata": {},
     "output_type": "execute_result"
    }
   ],
   "source": [
    "#peak\n",
    "inv_reduced.head()"
   ]
  },
  {
   "cell_type": "code",
   "execution_count": 62,
   "metadata": {},
   "outputs": [
    {
     "name": "stdout",
     "output_type": "stream",
     "text": [
      "<class 'pandas.core.frame.DataFrame'>\n",
      "Int64Index: 649986 entries, 0 to 850872\n",
      "Data columns (total 11 columns):\n",
      " #   Column                Non-Null Count   Dtype         \n",
      "---  ------                --------------   -----         \n",
      " 0   calendar_day          649986 non-null  datetime64[ns]\n",
      " 1   strategy              649986 non-null  category      \n",
      " 2   sku                   649986 non-null  object        \n",
      " 3   material_description  649986 non-null  object        \n",
      " 4   work_center           649979 non-null  category      \n",
      " 5   ph                    649986 non-null  object        \n",
      " 6   shape                 647514 non-null  object        \n",
      " 7   size                  647514 non-null  object        \n",
      " 8   block                 626217 non-null  object        \n",
      " 9   tons                  649986 non-null  float64       \n",
      " 10  atp                   649986 non-null  float64       \n",
      "dtypes: category(2), datetime64[ns](1), float64(2), object(6)\n",
      "memory usage: 50.8+ MB\n"
     ]
    }
   ],
   "source": [
    "#counts and dtypes\n",
    "inv_reduced.info()"
   ]
  },
  {
   "cell_type": "code",
   "execution_count": 63,
   "metadata": {},
   "outputs": [],
   "source": [
    "#creating dataframe for analysis of null blocks in inventory\n",
    "null_blocks = inv_reduced[inv_reduced[\"block\"].isna()]"
   ]
  },
  {
   "cell_type": "code",
   "execution_count": 64,
   "metadata": {},
   "outputs": [
    {
     "data": {
      "text/plain": [
       "2 1/2X2X1/4         1660\n",
       "1 1/4X1 1/4X3/16    1032\n",
       "1 1/4X1 1/4X1/8      825\n",
       "2 1/2X2X3/16         812\n",
       "2 1/2X2X5/16         494\n",
       "3 1/2X3X3/8          489\n",
       "4X3 1/2X1/4          136\n",
       "1X1X1/8               57\n",
       "2X1 1/2X3/16          24\n",
       "1X1X1/4               23\n",
       "1 1/4X1 1/4X1/4       23\n",
       "1X1X3/16              22\n",
       "3/4X3/4X1/8           15\n",
       "1 3/4X1 3/4X1/8        3\n",
       "2X1 1/2X1/4            2\n",
       "8X6X3/4                1\n",
       "8X6X1                  1\n",
       "1 1/2X1 1/2X1/8        1\n",
       "Name: size, dtype: int64"
      ]
     },
     "execution_count": 64,
     "metadata": {},
     "output_type": "execute_result"
    }
   ],
   "source": [
    "#looking to see offenders in Angle shapes (L_SHAPE)\n",
    "null_blocks[null_blocks[\"shape\"]==\"SHAPE_L\"][\"size\"].value_counts()"
   ]
  },
  {
   "cell_type": "markdown",
   "metadata": {},
   "source": [
    "No offenders apparent in 4\" ANG block:\n",
    "- 4 X 4 X .344 UNB\n",
    "- 4 X 4 X 1/2\n",
    "- 4 X 4 X 1/4\n",
    "- 4 X 4 X 3/4\n",
    "- 4 X 4 X 3/8\n",
    "- 4 X 4 X 5/16\n",
    "- 4 X 4 X 7/16\n",
    "- 4 X 4 X 9/16\n",
    "- 4 X 4 X 5/8"
   ]
  },
  {
   "cell_type": "markdown",
   "metadata": {},
   "source": [
    "## Distribution of Inventory through Time"
   ]
  },
  {
   "cell_type": "markdown",
   "metadata": {},
   "source": [
    "### 4\" ANG Analysis (to be used for replication)"
   ]
  },
  {
   "cell_type": "code",
   "execution_count": 65,
   "metadata": {},
   "outputs": [],
   "source": [
    "#dataframe for (variable) block analysis\n",
    "block_df = inv_reduced[inv_reduced[\"block\"]=='4\" ANG']"
   ]
  },
  {
   "cell_type": "code",
   "execution_count": 66,
   "metadata": {},
   "outputs": [
    {
     "name": "stdout",
     "output_type": "stream",
     "text": [
      "<class 'pandas.core.frame.DataFrame'>\n",
      "Int64Index: 30681 entries, 167 to 849403\n",
      "Data columns (total 11 columns):\n",
      " #   Column                Non-Null Count  Dtype         \n",
      "---  ------                --------------  -----         \n",
      " 0   calendar_day          30681 non-null  datetime64[ns]\n",
      " 1   strategy              30681 non-null  category      \n",
      " 2   sku                   30681 non-null  object        \n",
      " 3   material_description  30681 non-null  object        \n",
      " 4   work_center           30681 non-null  category      \n",
      " 5   ph                    30681 non-null  object        \n",
      " 6   shape                 30681 non-null  object        \n",
      " 7   size                  30681 non-null  object        \n",
      " 8   block                 30681 non-null  object        \n",
      " 9   tons                  30681 non-null  float64       \n",
      " 10  atp                   30681 non-null  float64       \n",
      "dtypes: category(2), datetime64[ns](1), float64(2), object(6)\n",
      "memory usage: 2.4+ MB\n"
     ]
    }
   ],
   "source": [
    "#description of block\n",
    "block_df.info()"
   ]
  },
  {
   "cell_type": "code",
   "execution_count": 67,
   "metadata": {},
   "outputs": [
    {
     "data": {
      "text/html": [
       "<div>\n",
       "<style scoped>\n",
       "    .dataframe tbody tr th:only-of-type {\n",
       "        vertical-align: middle;\n",
       "    }\n",
       "\n",
       "    .dataframe tbody tr th {\n",
       "        vertical-align: top;\n",
       "    }\n",
       "\n",
       "    .dataframe thead th {\n",
       "        text-align: right;\n",
       "    }\n",
       "</style>\n",
       "<table border=\"1\" class=\"dataframe\">\n",
       "  <thead>\n",
       "    <tr style=\"text-align: right;\">\n",
       "      <th></th>\n",
       "      <th>tons</th>\n",
       "      <th>atp</th>\n",
       "    </tr>\n",
       "  </thead>\n",
       "  <tbody>\n",
       "    <tr>\n",
       "      <th>count</th>\n",
       "      <td>30681.000000</td>\n",
       "      <td>30681.000000</td>\n",
       "    </tr>\n",
       "    <tr>\n",
       "      <th>mean</th>\n",
       "      <td>52.094909</td>\n",
       "      <td>4.494928</td>\n",
       "    </tr>\n",
       "    <tr>\n",
       "      <th>std</th>\n",
       "      <td>128.352124</td>\n",
       "      <td>27.550241</td>\n",
       "    </tr>\n",
       "    <tr>\n",
       "      <th>min</th>\n",
       "      <td>-0.002000</td>\n",
       "      <td>-298.690000</td>\n",
       "    </tr>\n",
       "    <tr>\n",
       "      <th>25%</th>\n",
       "      <td>0.001000</td>\n",
       "      <td>0.000000</td>\n",
       "    </tr>\n",
       "    <tr>\n",
       "      <th>50%</th>\n",
       "      <td>3.145000</td>\n",
       "      <td>0.000000</td>\n",
       "    </tr>\n",
       "    <tr>\n",
       "      <th>75%</th>\n",
       "      <td>42.966000</td>\n",
       "      <td>0.000000</td>\n",
       "    </tr>\n",
       "    <tr>\n",
       "      <th>max</th>\n",
       "      <td>1859.219971</td>\n",
       "      <td>617.876000</td>\n",
       "    </tr>\n",
       "  </tbody>\n",
       "</table>\n",
       "</div>"
      ],
      "text/plain": [
       "               tons           atp\n",
       "count  30681.000000  30681.000000\n",
       "mean      52.094909      4.494928\n",
       "std      128.352124     27.550241\n",
       "min       -0.002000   -298.690000\n",
       "25%        0.001000      0.000000\n",
       "50%        3.145000      0.000000\n",
       "75%       42.966000      0.000000\n",
       "max     1859.219971    617.876000"
      ]
     },
     "execution_count": 67,
     "metadata": {},
     "output_type": "execute_result"
    }
   ],
   "source": [
    "#quick description of 4\" ANG inventory tons and ATP\n",
    "block_df.describe()"
   ]
  },
  {
   "cell_type": "code",
   "execution_count": 89,
   "metadata": {},
   "outputs": [],
   "source": [
    "#Creating new columns to separate year, month and week\n",
    "block_df = block_df.set_index(\"calendar_day\")\n",
    "block_df[\"year\"] = block_df.index.year\n",
    "block_df[\"month\"] = block_df.index.month\n",
    "block_df[\"week\"] = block_df.index.week\n",
    "block_df[\"day\"] = block_df.index.dayofyear\n",
    "block_df = block_df.reset_index()"
   ]
  },
  {
   "cell_type": "code",
   "execution_count": 91,
   "metadata": {},
   "outputs": [],
   "source": [
    "#Rearranging columns order\n",
    "cols = list(block_df.columns.values)\n",
    "cols = ['calendar_day', 'year', 'month', 'week', \"day\",'strategy', 'sku', 'material_description', \n",
    "        'work_center', 'ph', 'shape', 'size', 'block', 'tons', 'atp']\n",
    "block_df =block_df[cols]"
   ]
  },
  {
   "cell_type": "code",
   "execution_count": 100,
   "metadata": {},
   "outputs": [],
   "source": [
    "block_df = block_df.sort_values([\"calendar_day\", \"material_description\"])"
   ]
  },
  {
   "cell_type": "code",
   "execution_count": 101,
   "metadata": {},
   "outputs": [
    {
     "data": {
      "text/html": [
       "<div>\n",
       "<style scoped>\n",
       "    .dataframe tbody tr th:only-of-type {\n",
       "        vertical-align: middle;\n",
       "    }\n",
       "\n",
       "    .dataframe tbody tr th {\n",
       "        vertical-align: top;\n",
       "    }\n",
       "\n",
       "    .dataframe thead th {\n",
       "        text-align: right;\n",
       "    }\n",
       "</style>\n",
       "<table border=\"1\" class=\"dataframe\">\n",
       "  <thead>\n",
       "    <tr style=\"text-align: right;\">\n",
       "      <th></th>\n",
       "      <th>calendar_day</th>\n",
       "      <th>year</th>\n",
       "      <th>month</th>\n",
       "      <th>week</th>\n",
       "      <th>day</th>\n",
       "      <th>strategy</th>\n",
       "      <th>sku</th>\n",
       "      <th>material_description</th>\n",
       "      <th>work_center</th>\n",
       "      <th>ph</th>\n",
       "      <th>shape</th>\n",
       "      <th>size</th>\n",
       "      <th>block</th>\n",
       "      <th>tons</th>\n",
       "      <th>atp</th>\n",
       "    </tr>\n",
       "  </thead>\n",
       "  <tbody>\n",
       "    <tr>\n",
       "      <th>29506</th>\n",
       "      <td>2017-01-01</td>\n",
       "      <td>2017</td>\n",
       "      <td>1</td>\n",
       "      <td>52</td>\n",
       "      <td>1</td>\n",
       "      <td>63</td>\n",
       "      <td>106023281</td>\n",
       "      <td>L 4X4X1/2 55W 50'00\"</td>\n",
       "      <td>25000001.0</td>\n",
       "      <td>LS-Mills-Mer-Mer-Strc A&amp;C-Angles</td>\n",
       "      <td>SHAPE_L</td>\n",
       "      <td>4X4X1/2</td>\n",
       "      <td>4\" ANG</td>\n",
       "      <td>28.799999</td>\n",
       "      <td>0.0</td>\n",
       "    </tr>\n",
       "    <tr>\n",
       "      <th>29505</th>\n",
       "      <td>2017-01-01</td>\n",
       "      <td>2017</td>\n",
       "      <td>1</td>\n",
       "      <td>52</td>\n",
       "      <td>1</td>\n",
       "      <td>63</td>\n",
       "      <td>106023285</td>\n",
       "      <td>L 4X4X1/2 55W 60'00\"</td>\n",
       "      <td>25000001.0</td>\n",
       "      <td>LS-Mills-Mer-Mer-Strc A&amp;C-Angles</td>\n",
       "      <td>SHAPE_L</td>\n",
       "      <td>4X4X1/2</td>\n",
       "      <td>4\" ANG</td>\n",
       "      <td>5.376000</td>\n",
       "      <td>0.0</td>\n",
       "    </tr>\n",
       "    <tr>\n",
       "      <th>29294</th>\n",
       "      <td>2017-01-01</td>\n",
       "      <td>2017</td>\n",
       "      <td>1</td>\n",
       "      <td>52</td>\n",
       "      <td>1</td>\n",
       "      <td>40</td>\n",
       "      <td>106028691</td>\n",
       "      <td>L 4X4X1/2 GGMULTI 20'00\"</td>\n",
       "      <td>25000001.0</td>\n",
       "      <td>LS-Mills-Mer-Mer-Strc A&amp;C-Angles</td>\n",
       "      <td>SHAPE_L</td>\n",
       "      <td>4X4X1/2</td>\n",
       "      <td>4\" ANG</td>\n",
       "      <td>47.616001</td>\n",
       "      <td>0.0</td>\n",
       "    </tr>\n",
       "    <tr>\n",
       "      <th>29368</th>\n",
       "      <td>2017-01-01</td>\n",
       "      <td>2017</td>\n",
       "      <td>1</td>\n",
       "      <td>52</td>\n",
       "      <td>1</td>\n",
       "      <td>40</td>\n",
       "      <td>106028701</td>\n",
       "      <td>L 4X4X1/2 GGMULTI 40'00\"</td>\n",
       "      <td>25000001.0</td>\n",
       "      <td>LS-Mills-Mer-Mer-Strc A&amp;C-Angles</td>\n",
       "      <td>SHAPE_L</td>\n",
       "      <td>4X4X1/2</td>\n",
       "      <td>4\" ANG</td>\n",
       "      <td>122.624001</td>\n",
       "      <td>0.0</td>\n",
       "    </tr>\n",
       "    <tr>\n",
       "      <th>29735</th>\n",
       "      <td>2017-01-01</td>\n",
       "      <td>2017</td>\n",
       "      <td>1</td>\n",
       "      <td>52</td>\n",
       "      <td>1</td>\n",
       "      <td>63</td>\n",
       "      <td>106023259</td>\n",
       "      <td>L 4X4X1/4 50W 60'00\"</td>\n",
       "      <td>25000001.0</td>\n",
       "      <td>LS-Mills-Mer-Mer-Strc A&amp;C-Angles</td>\n",
       "      <td>SHAPE_L</td>\n",
       "      <td>4X4X1/4</td>\n",
       "      <td>4\" ANG</td>\n",
       "      <td>4.950000</td>\n",
       "      <td>0.0</td>\n",
       "    </tr>\n",
       "  </tbody>\n",
       "</table>\n",
       "</div>"
      ],
      "text/plain": [
       "      calendar_day  year  month  week  day strategy        sku  \\\n",
       "29506   2017-01-01  2017      1    52    1       63  106023281   \n",
       "29505   2017-01-01  2017      1    52    1       63  106023285   \n",
       "29294   2017-01-01  2017      1    52    1       40  106028691   \n",
       "29368   2017-01-01  2017      1    52    1       40  106028701   \n",
       "29735   2017-01-01  2017      1    52    1       63  106023259   \n",
       "\n",
       "           material_description work_center                                ph  \\\n",
       "29506      L 4X4X1/2 55W 50'00\"  25000001.0  LS-Mills-Mer-Mer-Strc A&C-Angles   \n",
       "29505      L 4X4X1/2 55W 60'00\"  25000001.0  LS-Mills-Mer-Mer-Strc A&C-Angles   \n",
       "29294  L 4X4X1/2 GGMULTI 20'00\"  25000001.0  LS-Mills-Mer-Mer-Strc A&C-Angles   \n",
       "29368  L 4X4X1/2 GGMULTI 40'00\"  25000001.0  LS-Mills-Mer-Mer-Strc A&C-Angles   \n",
       "29735      L 4X4X1/4 50W 60'00\"  25000001.0  LS-Mills-Mer-Mer-Strc A&C-Angles   \n",
       "\n",
       "         shape     size   block        tons  atp  \n",
       "29506  SHAPE_L  4X4X1/2  4\" ANG   28.799999  0.0  \n",
       "29505  SHAPE_L  4X4X1/2  4\" ANG    5.376000  0.0  \n",
       "29294  SHAPE_L  4X4X1/2  4\" ANG   47.616001  0.0  \n",
       "29368  SHAPE_L  4X4X1/2  4\" ANG  122.624001  0.0  \n",
       "29735  SHAPE_L  4X4X1/4  4\" ANG    4.950000  0.0  "
      ]
     },
     "execution_count": 101,
     "metadata": {},
     "output_type": "execute_result"
    }
   ],
   "source": [
    "block_df.head()"
   ]
  },
  {
   "cell_type": "code",
   "execution_count": 102,
   "metadata": {},
   "outputs": [
    {
     "data": {
      "text/plain": [
       "2019    10745\n",
       "2018    10280\n",
       "2017     8180\n",
       "2020     1476\n",
       "Name: year, dtype: int64"
      ]
     },
     "execution_count": 102,
     "metadata": {},
     "output_type": "execute_result"
    }
   ],
   "source": [
    "#distribution of inventory snapshots through years \n",
    "block_df[\"year\"].value_counts()"
   ]
  },
  {
   "cell_type": "code",
   "execution_count": 103,
   "metadata": {},
   "outputs": [
    {
     "data": {
      "text/plain": [
       "4X4X5/16    9077\n",
       "4X4X3/8     6346\n",
       "4X4X1/4     4836\n",
       "4X4X1/2     3280\n",
       "4X4X3/4     2501\n",
       "4X4X9/16    2475\n",
       "4X4X.344    1386\n",
       "4X4X5/8      688\n",
       "4X4X7/16      92\n",
       "Name: size, dtype: int64"
      ]
     },
     "execution_count": 103,
     "metadata": {},
     "output_type": "execute_result"
    }
   ],
   "source": [
    "#distribution of inventory snapshots by size\n",
    "block_df[\"size\"].value_counts()"
   ]
  },
  {
   "cell_type": "markdown",
   "metadata": {},
   "source": [
    "#### Time Analyis of 4X4X5/16\""
   ]
  },
  {
   "cell_type": "code",
   "execution_count": 105,
   "metadata": {},
   "outputs": [
    {
     "data": {
      "text/plain": [
       "Text(0, 0.5, 'Tons')"
      ]
     },
     "execution_count": 105,
     "metadata": {},
     "output_type": "execute_result"
    },
    {
     "data": {
      "image/png": "[encoded data removed]",
      "text/plain": [
       "<Figure size 864x432 with 1 Axes>"
      ]
     },
     "metadata": {
      "needs_background": "light"
     },
     "output_type": "display_data"
    }
   ],
   "source": [
    "#creating df for each year\n",
    "year_2017 = block_df[block_df.year == 2017]\n",
    "year_2018 = block_df[block_df.year == 2018]\n",
    "year_2019 = block_df[block_df.year == 2019]\n",
    "year_2020 = block_df[block_df.year == 2020]\n",
    "\n",
    "#Create figure and plots\n",
    "fig_dims = (12,6)\n",
    "fig, ax = plt.subplots(figsize=fig_dims)\n",
    "fig.suptitle('Variation of Inventory(4X4X5/16\") tons by Year')\n",
    "\n",
    "ax.plot(year_2017.calendar_day, year_2017[\"tons\"], label=2017)\n",
    "ax.plot(year_2018.calendar_day, year_2018[\"tons\"], label=2018)\n",
    "ax.plot(year_2019.calendar_day, year_2019[\"tons\"], label=2019)\n",
    "ax.plot(year_2020.calendar_day, year_2020[\"tons\"], label=2020)\n",
    "\n",
    "#Create legend & axis names\n",
    "plt.legend(loc=\"best\", title=\"Year\", ncol=2)\n",
    "ax.set_xlabel(\"Month\")\n",
    "ax.set_ylabel(\"Tons\")"
   ]
  },
  {
   "cell_type": "code",
   "execution_count": null,
   "metadata": {},
   "outputs": [],
   "source": []
  }
 ],
 "metadata": {
  "kernelspec": {
   "display_name": "Python 3",
   "language": "python",
   "name": "python3"
  },
  "language_info": {
   "codemirror_mode": {
    "name": "ipython",
    "version": 3
   },
   "file_extension": ".py",
   "mimetype": "text/x-python",
   "name": "python",
   "nbconvert_exporter": "python",
   "pygments_lexer": "ipython3",
   "version": "3.7.6"
  }
 },
 "nbformat": 4,
 "nbformat_minor": 4
}
