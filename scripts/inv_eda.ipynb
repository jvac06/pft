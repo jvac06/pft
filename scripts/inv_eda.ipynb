{
 "cells": [
  {
   "cell_type": "markdown",
   "metadata": {},
   "source": [
    "# Inventory EDA"
   ]
  },
  {
   "cell_type": "markdown",
   "metadata": {},
   "source": [
    "Inventory Data contains snapshot information about sku-level tons that were available in inventory at a specific date. This data pertains to Whitby mill (1302). \n",
    "\n",
    "One important consideration - the numbers in inventory could decrease by:\n",
    " 1. Shipments\n",
    " 2. Scrapping\n",
    "\n",
    "Our assumption for this analysis is that most of the decreases will be derived from shipments. Thus the rate of change we assume to be equal to the rate of shipments for the items in analysis. \n",
    "\n",
    "**Given limited time for analysis we will focus on specific blocks**\n",
    "- 4\" ANG\n",
    "- 5X3-1/2\" ANG\n",
    "- 5X3\" ANG\n",
    "- 4X3\" ANG\n",
    "- 3-1/2\" ANG\n",
    "\n",
    "Exploration areas:\n",
    "- Distribution of inventory through time\n",
    "- Is there cyclicality to inventory from month to month, or cycle to cycle\n",
    "- Analysis on the cycle lenghts (avg. and std deviations)\n",
    "- **Potential features that could serve as indicators for the prediction of production quantities**\n",
    "    - rate of change in inventory increasing decreasing (especially in comparison to ATP available)\n",
    "    - ..."
   ]
  },
  {
   "cell_type": "markdown",
   "metadata": {},
   "source": [
    "#### Dependencies"
   ]
  },
  {
   "cell_type": "code",
   "execution_count": 3,
   "metadata": {},
   "outputs": [],
   "source": [
    "#dependencies for EDA\n",
    "import numpy as np\n",
    "import pandas as pd\n",
    "import scipy as sp\n",
    "import matplotlib.pyplot as plt\n",
    "import seaborn as sns\n",
    "import datetime as dt\n",
    "import ipywidgets as widgets\n",
    "import plotly as py\n",
    "import plotly.graph_objs as go"
   ]
  },
  {
   "cell_type": "markdown",
   "metadata": {},
   "source": [
    "#### Read Dataframe"
   ]
  },
  {
   "cell_type": "code",
   "execution_count": 4,
   "metadata": {},
   "outputs": [],
   "source": [
    "%store -r inv_reduced"
   ]
  },
  {
   "cell_type": "markdown",
   "metadata": {},
   "source": [
    "## Peaking at Data"
   ]
  },
  {
   "cell_type": "code",
   "execution_count": 5,
   "metadata": {},
   "outputs": [
    {
     "data": {
      "text/html": [
       "<div>\n",
       "<style scoped>\n",
       "    .dataframe tbody tr th:only-of-type {\n",
       "        vertical-align: middle;\n",
       "    }\n",
       "\n",
       "    .dataframe tbody tr th {\n",
       "        vertical-align: top;\n",
       "    }\n",
       "\n",
       "    .dataframe thead th {\n",
       "        text-align: right;\n",
       "    }\n",
       "</style>\n",
       "<table border=\"1\" class=\"dataframe\">\n",
       "  <thead>\n",
       "    <tr style=\"text-align: right;\">\n",
       "      <th></th>\n",
       "      <th>calendar_day</th>\n",
       "      <th>strategy</th>\n",
       "      <th>sku</th>\n",
       "      <th>material_description</th>\n",
       "      <th>work_center</th>\n",
       "      <th>ph</th>\n",
       "      <th>shape</th>\n",
       "      <th>size</th>\n",
       "      <th>block</th>\n",
       "      <th>tons</th>\n",
       "      <th>atp</th>\n",
       "    </tr>\n",
       "  </thead>\n",
       "  <tbody>\n",
       "    <tr>\n",
       "      <th>799352</th>\n",
       "      <td>2017-01-01</td>\n",
       "      <td>63</td>\n",
       "      <td>102003236</td>\n",
       "      <td>BL 5 1/8X7 3/8 1010M-446_1302 3,800</td>\n",
       "      <td>18000001.0</td>\n",
       "      <td>LS-Mills-Bil-Bil-Bil-Billets</td>\n",
       "      <td>RECTANGULAR</td>\n",
       "      <td>5 1/8 X 7 3/8</td>\n",
       "      <td>NaN</td>\n",
       "      <td>9.442000</td>\n",
       "      <td>0.0</td>\n",
       "    </tr>\n",
       "    <tr>\n",
       "      <th>799094</th>\n",
       "      <td>2017-01-01</td>\n",
       "      <td>63</td>\n",
       "      <td>102003053</td>\n",
       "      <td>BL 5 1/8X7 3/8 1010M-446_1302 3,858 SA</td>\n",
       "      <td>18000001.0</td>\n",
       "      <td>LS-Mills-Bil-Bil-Bil-Billets</td>\n",
       "      <td>RECTANGULAR</td>\n",
       "      <td>5 1/8 X 7 3/8</td>\n",
       "      <td>NaN</td>\n",
       "      <td>1.929000</td>\n",
       "      <td>0.0</td>\n",
       "    </tr>\n",
       "    <tr>\n",
       "      <th>799267</th>\n",
       "      <td>2017-01-01</td>\n",
       "      <td>63</td>\n",
       "      <td>102003353</td>\n",
       "      <td>BL 5 1/8X7 3/8 GAU_1050-501_1302 3168 SA</td>\n",
       "      <td>18000001.0</td>\n",
       "      <td>LS-Mills-Bil-Bil-Bil-Billets</td>\n",
       "      <td>RECTANGULAR</td>\n",
       "      <td>5 1/8 X 7 3/8</td>\n",
       "      <td>NaN</td>\n",
       "      <td>7.920000</td>\n",
       "      <td>0.0</td>\n",
       "    </tr>\n",
       "    <tr>\n",
       "      <th>799180</th>\n",
       "      <td>2017-01-01</td>\n",
       "      <td>63</td>\n",
       "      <td>102003354</td>\n",
       "      <td>BL 5 1/8X7 3/8 GAU_MG12-500_1302 3220 SA</td>\n",
       "      <td>18000001.0</td>\n",
       "      <td>LS-Mills-Bil-Bil-Bil-Billets</td>\n",
       "      <td>RECTANGULAR</td>\n",
       "      <td>5 1/8 X 7 3/8</td>\n",
       "      <td>NaN</td>\n",
       "      <td>11.380000</td>\n",
       "      <td>0.0</td>\n",
       "    </tr>\n",
       "    <tr>\n",
       "      <th>844399</th>\n",
       "      <td>2017-01-01</td>\n",
       "      <td>40</td>\n",
       "      <td>106020238</td>\n",
       "      <td>C 10X15.3# GGMULTI 20'00\"</td>\n",
       "      <td>25000001.0</td>\n",
       "      <td>LS-Mills-Mer-Mer-Strc A&amp;C-Channels</td>\n",
       "      <td>SHAPE_C</td>\n",
       "      <td>10 X 15.3#</td>\n",
       "      <td>10\" CHN</td>\n",
       "      <td>110.007004</td>\n",
       "      <td>0.0</td>\n",
       "    </tr>\n",
       "  </tbody>\n",
       "</table>\n",
       "</div>"
      ],
      "text/plain": [
       "       calendar_day strategy        sku  \\\n",
       "799352   2017-01-01       63  102003236   \n",
       "799094   2017-01-01       63  102003053   \n",
       "799267   2017-01-01       63  102003353   \n",
       "799180   2017-01-01       63  102003354   \n",
       "844399   2017-01-01       40  106020238   \n",
       "\n",
       "                            material_description work_center  \\\n",
       "799352       BL 5 1/8X7 3/8 1010M-446_1302 3,800  18000001.0   \n",
       "799094    BL 5 1/8X7 3/8 1010M-446_1302 3,858 SA  18000001.0   \n",
       "799267  BL 5 1/8X7 3/8 GAU_1050-501_1302 3168 SA  18000001.0   \n",
       "799180  BL 5 1/8X7 3/8 GAU_MG12-500_1302 3220 SA  18000001.0   \n",
       "844399                 C 10X15.3# GGMULTI 20'00\"  25000001.0   \n",
       "\n",
       "                                        ph        shape           size  \\\n",
       "799352        LS-Mills-Bil-Bil-Bil-Billets  RECTANGULAR  5 1/8 X 7 3/8   \n",
       "799094        LS-Mills-Bil-Bil-Bil-Billets  RECTANGULAR  5 1/8 X 7 3/8   \n",
       "799267        LS-Mills-Bil-Bil-Bil-Billets  RECTANGULAR  5 1/8 X 7 3/8   \n",
       "799180        LS-Mills-Bil-Bil-Bil-Billets  RECTANGULAR  5 1/8 X 7 3/8   \n",
       "844399  LS-Mills-Mer-Mer-Strc A&C-Channels      SHAPE_C     10 X 15.3#   \n",
       "\n",
       "          block        tons  atp  \n",
       "799352      NaN    9.442000  0.0  \n",
       "799094      NaN    1.929000  0.0  \n",
       "799267      NaN    7.920000  0.0  \n",
       "799180      NaN   11.380000  0.0  \n",
       "844399  10\" CHN  110.007004  0.0  "
      ]
     },
     "execution_count": 5,
     "metadata": {},
     "output_type": "execute_result"
    }
   ],
   "source": [
    "#peak\n",
    "inv_reduced.head()"
   ]
  },
  {
   "cell_type": "code",
   "execution_count": 6,
   "metadata": {},
   "outputs": [
    {
     "name": "stdout",
     "output_type": "stream",
     "text": [
      "<class 'pandas.core.frame.DataFrame'>\n",
      "Int64Index: 649986 entries, 799352 to 18367\n",
      "Data columns (total 11 columns):\n",
      "calendar_day            649986 non-null datetime64[ns]\n",
      "strategy                649986 non-null category\n",
      "sku                     649986 non-null object\n",
      "material_description    649986 non-null object\n",
      "work_center             649979 non-null category\n",
      "ph                      649986 non-null object\n",
      "shape                   647514 non-null object\n",
      "size                    647514 non-null object\n",
      "block                   626217 non-null object\n",
      "tons                    649986 non-null float64\n",
      "atp                     649986 non-null float64\n",
      "dtypes: category(2), datetime64[ns](1), float64(2), object(6)\n",
      "memory usage: 50.8+ MB\n"
     ]
    }
   ],
   "source": [
    "#counts and dtypes\n",
    "inv_reduced.info()"
   ]
  },
  {
   "cell_type": "code",
   "execution_count": 7,
   "metadata": {},
   "outputs": [],
   "source": [
    "#creating dataframe for analysis of null blocks in inventory\n",
    "null_blocks = inv_reduced[inv_reduced[\"block\"].isna()]"
   ]
  },
  {
   "cell_type": "code",
   "execution_count": 8,
   "metadata": {},
   "outputs": [
    {
     "data": {
      "text/plain": [
       "2 1/2X2X1/4         1660\n",
       "1 1/4X1 1/4X3/16    1032\n",
       "1 1/4X1 1/4X1/8      825\n",
       "2 1/2X2X3/16         812\n",
       "2 1/2X2X5/16         494\n",
       "3 1/2X3X3/8          489\n",
       "4X3 1/2X1/4          136\n",
       "1X1X1/8               57\n",
       "2X1 1/2X3/16          24\n",
       "1 1/4X1 1/4X1/4       23\n",
       "1X1X1/4               23\n",
       "1X1X3/16              22\n",
       "3/4X3/4X1/8           15\n",
       "1 3/4X1 3/4X1/8        3\n",
       "2X1 1/2X1/4            2\n",
       "8X6X1                  1\n",
       "8X6X3/4                1\n",
       "1 1/2X1 1/2X1/8        1\n",
       "Name: size, dtype: int64"
      ]
     },
     "execution_count": 8,
     "metadata": {},
     "output_type": "execute_result"
    }
   ],
   "source": [
    "#looking to see offenders in Angle shapes (L_SHAPE)\n",
    "null_blocks[null_blocks[\"shape\"]==\"SHAPE_L\"][\"size\"].value_counts()"
   ]
  },
  {
   "cell_type": "markdown",
   "metadata": {},
   "source": [
    "No offenders apparent in 4\" ANG block:\n",
    "- 4 X 4 X .344 UNB\n",
    "- 4 X 4 X 1/2\n",
    "- 4 X 4 X 1/4\n",
    "- 4 X 4 X 3/4\n",
    "- 4 X 4 X 3/8\n",
    "- 4 X 4 X 5/16\n",
    "- 4 X 4 X 7/16\n",
    "- 4 X 4 X 9/16\n",
    "- 4 X 4 X 5/8"
   ]
  },
  {
   "cell_type": "markdown",
   "metadata": {},
   "source": [
    "## Distribution of Inventory through Time"
   ]
  },
  {
   "cell_type": "markdown",
   "metadata": {
    "toc-hr-collapsed": true,
    "toc-nb-collapsed": true
   },
   "source": [
    "### 4\" ANG Analysis (to be used for replication)"
   ]
  },
  {
   "cell_type": "code",
   "execution_count": 9,
   "metadata": {},
   "outputs": [],
   "source": [
    "#dataframe for (variable) block analysis\n",
    "block_df = inv_reduced[inv_reduced[\"block\"]=='4\" ANG']"
   ]
  },
  {
   "cell_type": "code",
   "execution_count": 10,
   "metadata": {},
   "outputs": [
    {
     "data": {
      "text/plain": [
       "104"
      ]
     },
     "execution_count": 10,
     "metadata": {},
     "output_type": "execute_result"
    }
   ],
   "source": [
    "#number of skus in this block\n",
    "block_df[\"sku\"].nunique()"
   ]
  },
  {
   "cell_type": "code",
   "execution_count": 11,
   "metadata": {},
   "outputs": [
    {
     "name": "stdout",
     "output_type": "stream",
     "text": [
      "<class 'pandas.core.frame.DataFrame'>\n",
      "Int64Index: 30681 entries, 823677 to 1953\n",
      "Data columns (total 11 columns):\n",
      "calendar_day            30681 non-null datetime64[ns]\n",
      "strategy                30681 non-null category\n",
      "sku                     30681 non-null object\n",
      "material_description    30681 non-null object\n",
      "work_center             30681 non-null category\n",
      "ph                      30681 non-null object\n",
      "shape                   30681 non-null object\n",
      "size                    30681 non-null object\n",
      "block                   30681 non-null object\n",
      "tons                    30681 non-null float64\n",
      "atp                     30681 non-null float64\n",
      "dtypes: category(2), datetime64[ns](1), float64(2), object(6)\n",
      "memory usage: 2.4+ MB\n"
     ]
    }
   ],
   "source": [
    "#description of block\n",
    "block_df.info()"
   ]
  },
  {
   "cell_type": "code",
   "execution_count": 12,
   "metadata": {},
   "outputs": [
    {
     "data": {
      "text/html": [
       "<div>\n",
       "<style scoped>\n",
       "    .dataframe tbody tr th:only-of-type {\n",
       "        vertical-align: middle;\n",
       "    }\n",
       "\n",
       "    .dataframe tbody tr th {\n",
       "        vertical-align: top;\n",
       "    }\n",
       "\n",
       "    .dataframe thead th {\n",
       "        text-align: right;\n",
       "    }\n",
       "</style>\n",
       "<table border=\"1\" class=\"dataframe\">\n",
       "  <thead>\n",
       "    <tr style=\"text-align: right;\">\n",
       "      <th></th>\n",
       "      <th>tons</th>\n",
       "      <th>atp</th>\n",
       "    </tr>\n",
       "  </thead>\n",
       "  <tbody>\n",
       "    <tr>\n",
       "      <th>count</th>\n",
       "      <td>30681.000000</td>\n",
       "      <td>30681.000000</td>\n",
       "    </tr>\n",
       "    <tr>\n",
       "      <th>mean</th>\n",
       "      <td>52.094909</td>\n",
       "      <td>4.494928</td>\n",
       "    </tr>\n",
       "    <tr>\n",
       "      <th>std</th>\n",
       "      <td>128.352124</td>\n",
       "      <td>27.550241</td>\n",
       "    </tr>\n",
       "    <tr>\n",
       "      <th>min</th>\n",
       "      <td>-0.002000</td>\n",
       "      <td>-298.690000</td>\n",
       "    </tr>\n",
       "    <tr>\n",
       "      <th>25%</th>\n",
       "      <td>0.001000</td>\n",
       "      <td>0.000000</td>\n",
       "    </tr>\n",
       "    <tr>\n",
       "      <th>50%</th>\n",
       "      <td>3.145000</td>\n",
       "      <td>0.000000</td>\n",
       "    </tr>\n",
       "    <tr>\n",
       "      <th>75%</th>\n",
       "      <td>42.966000</td>\n",
       "      <td>0.000000</td>\n",
       "    </tr>\n",
       "    <tr>\n",
       "      <th>max</th>\n",
       "      <td>1859.219971</td>\n",
       "      <td>617.876000</td>\n",
       "    </tr>\n",
       "  </tbody>\n",
       "</table>\n",
       "</div>"
      ],
      "text/plain": [
       "               tons           atp\n",
       "count  30681.000000  30681.000000\n",
       "mean      52.094909      4.494928\n",
       "std      128.352124     27.550241\n",
       "min       -0.002000   -298.690000\n",
       "25%        0.001000      0.000000\n",
       "50%        3.145000      0.000000\n",
       "75%       42.966000      0.000000\n",
       "max     1859.219971    617.876000"
      ]
     },
     "execution_count": 12,
     "metadata": {},
     "output_type": "execute_result"
    }
   ],
   "source": [
    "#quick description of 4\" ANG inventory tons and ATP\n",
    "block_df.describe()"
   ]
  },
  {
   "cell_type": "code",
   "execution_count": 13,
   "metadata": {},
   "outputs": [],
   "source": [
    "#Creating new columns to separate year, month and week\n",
    "block_df = block_df.set_index(\"calendar_day\")\n",
    "block_df[\"year\"] = block_df.index.year\n",
    "block_df[\"month\"] = block_df.index.month\n",
    "block_df[\"week\"] = block_df.index.week\n",
    "block_df[\"day\"] = block_df.index.dayofyear\n",
    "block_df = block_df.reset_index()"
   ]
  },
  {
   "cell_type": "code",
   "execution_count": 14,
   "metadata": {},
   "outputs": [
    {
     "name": "stdout",
     "output_type": "stream",
     "text": [
      "<class 'pandas.core.frame.DataFrame'>\n",
      "RangeIndex: 30681 entries, 0 to 30680\n",
      "Data columns (total 15 columns):\n",
      "calendar_day            30681 non-null datetime64[ns]\n",
      "strategy                30681 non-null category\n",
      "sku                     30681 non-null object\n",
      "material_description    30681 non-null object\n",
      "work_center             30681 non-null category\n",
      "ph                      30681 non-null object\n",
      "shape                   30681 non-null object\n",
      "size                    30681 non-null object\n",
      "block                   30681 non-null object\n",
      "tons                    30681 non-null float64\n",
      "atp                     30681 non-null float64\n",
      "year                    30681 non-null int64\n",
      "month                   30681 non-null int64\n",
      "week                    30681 non-null int64\n",
      "day                     30681 non-null int64\n",
      "dtypes: category(2), datetime64[ns](1), float64(2), int64(4), object(6)\n",
      "memory usage: 3.1+ MB\n"
     ]
    }
   ],
   "source": [
    "block_df.info()"
   ]
  },
  {
   "cell_type": "code",
   "execution_count": 15,
   "metadata": {},
   "outputs": [],
   "source": [
    "#Rearranging columns order\n",
    "cols = list(block_df.columns.values)\n",
    "cols = ['calendar_day', 'year', 'month', 'week', \"day\",'strategy', 'sku', 'material_description', \n",
    "        'work_center', 'ph', 'shape', 'size', 'block', 'tons', 'atp']\n",
    "block_df =block_df[cols]"
   ]
  },
  {
   "cell_type": "code",
   "execution_count": 86,
   "metadata": {},
   "outputs": [
    {
     "data": {
      "text/plain": [
       "219    50\n",
       "209    50\n",
       "224    50\n",
       "216    50\n",
       "220    50\n",
       "       ..\n",
       "197    33\n",
       "99     32\n",
       "97     32\n",
       "98     32\n",
       "195    13\n",
       "Name: day, Length: 272, dtype: int64"
      ]
     },
     "execution_count": 86,
     "metadata": {},
     "output_type": "execute_result"
    }
   ],
   "source": [
    "block_df[block_df[\"year\"]==2019][\"day\"].value_counts()"
   ]
  },
  {
   "cell_type": "code",
   "execution_count": 17,
   "metadata": {},
   "outputs": [
    {
     "data": {
      "text/plain": [
       "2019    10745\n",
       "2018    10280\n",
       "2017     8180\n",
       "2020     1476\n",
       "Name: year, dtype: int64"
      ]
     },
     "execution_count": 17,
     "metadata": {},
     "output_type": "execute_result"
    }
   ],
   "source": [
    "#distribution of inventory snapshots through years \n",
    "block_df[\"year\"].value_counts()"
   ]
  },
  {
   "cell_type": "code",
   "execution_count": 66,
   "metadata": {},
   "outputs": [
    {
     "data": {
      "text/plain": [
       "4X4X5/16    9077\n",
       "4X4X3/8     6346\n",
       "4X4X1/4     4836\n",
       "4X4X1/2     3280\n",
       "4X4X3/4     2501\n",
       "4X4X9/16    2475\n",
       "4X4X.344    1386\n",
       "4X4X5/8      688\n",
       "4X4X7/16      92\n",
       "Name: size, dtype: int64"
      ]
     },
     "execution_count": 66,
     "metadata": {},
     "output_type": "execute_result"
    }
   ],
   "source": [
    "#distribution of inventory snapshots by size\n",
    "block_df[\"size\"].value_counts()"
   ]
  },
  {
   "cell_type": "markdown",
   "metadata": {},
   "source": [
    "Tons on Inventory"
   ]
  },
  {
   "cell_type": "code",
   "execution_count": 63,
   "metadata": {},
   "outputs": [
    {
     "data": {
      "text/plain": [
       "Text(0, 0.5, 'Tons')"
      ]
     },
     "execution_count": 63,
     "metadata": {},
     "output_type": "execute_result"
    },
    {
     "data": {
      "image/png": "[encoded data removed]",
      "text/plain": [
       "<Figure size 864x432 with 1 Axes>"
      ]
     },
     "metadata": {
      "needs_background": "light"
     },
     "output_type": "display_data"
    }
   ],
   "source": [
    "#creating df for each year\n",
    "year_2017 = block_df[block_df.year == 2017]\n",
    "year_2018 = block_df[block_df.year == 2018]\n",
    "year_2019 = block_df[block_df.year == 2019]\n",
    "year_2020 = block_df[block_df.year == 2020]\n",
    "\n",
    "#Create figure and plots\n",
    "fig_dims = (12,6)\n",
    "fig, ax = plt.subplots(figsize=fig_dims)\n",
    "fig.suptitle('Variation of Inventory tons by Year: 4\" ANG Block')\n",
    "\n",
    "ax.plot(year_2017.calendar_day, year_2017[\"tons\"], label=2017, color ='r')\n",
    "ax.plot(year_2018.calendar_day, year_2018[\"tons\"], label=2018, color ='g')\n",
    "ax.plot(year_2019.calendar_day, year_2019[\"tons\"], label=2019, color ='orange')\n",
    "ax.plot(year_2020.calendar_day, year_2020[\"tons\"], label=2020, color ='b')\n",
    "\n",
    "#Create legend & axis names\n",
    "plt.legend(loc=\"best\", title=\"Year\", ncol=2)\n",
    "ax.set_xlabel(\"Time\")\n",
    "ax.set_ylabel(\"Tons\")"
   ]
  },
  {
   "cell_type": "markdown",
   "metadata": {},
   "source": [
    "ATP for this Block"
   ]
  },
  {
   "cell_type": "code",
   "execution_count": 23,
   "metadata": {},
   "outputs": [
    {
     "data": {
      "text/plain": [
       "Text(0, 0.5, 'APT(in tons)')"
      ]
     },
     "execution_count": 23,
     "metadata": {},
     "output_type": "execute_result"
    },
    {
     "data": {
      "image/png": "[encoded data removed]",
      "text/plain": [
       "<Figure size 864x432 with 1 Axes>"
      ]
     },
     "metadata": {
      "needs_background": "light"
     },
     "output_type": "display_data"
    }
   ],
   "source": [
    "#Create figure and plots\n",
    "fig_dims = (12,6)\n",
    "fig, ax = plt.subplots(figsize=fig_dims)\n",
    "fig.suptitle('Variation of ATP tons by Year: 4\" ANG Block')\n",
    "\n",
    "#ax.plot(year_2017.calendar_day, year_2017[\"atp\"], label=2017, color ='r')\n",
    "ax.plot(year_2018.calendar_day, year_2018[\"atp\"], label=2018, color ='g')\n",
    "ax.plot(year_2019.calendar_day, year_2019[\"atp\"], label=2019, color ='orange')\n",
    "ax.plot(year_2020.calendar_day, year_2020[\"atp\"], label=2020, color='b')\n",
    "\n",
    "#Create legend & axis names\n",
    "plt.legend(loc=\"best\", title=\"Year\", ncol=2)\n",
    "ax.set_xlabel(\"Time\")\n",
    "ax.set_ylabel(\"APT(in tons)\")"
   ]
  },
  {
   "cell_type": "code",
   "execution_count": 49,
   "metadata": {},
   "outputs": [],
   "source": [
    "##Checkout ipywidgets? - https://plotly.com/python/widget-app/   &   https://towardsdatascience.com/interactive-controls-for-jupyter-notebooks-f5c94829aee6\n",
    "## If not continue exploring ways to plot simulatenously ATP"
   ]
  },
  {
   "cell_type": "markdown",
   "metadata": {},
   "source": [
    "### Inventory & ATP Analysis"
   ]
  },
  {
   "cell_type": "code",
   "execution_count": 143,
   "metadata": {},
   "outputs": [
    {
     "data": {
      "application/vnd.jupyter.widget-view+json": {
       "model_id": "9c5aa6ddf0614f408fa7a031207a93fa",
       "version_major": 2,
       "version_minor": 0
      },
      "text/plain": [
       "interactive(children=(Checkbox(value=False, description='Aggregate_Block'), Checkbox(value=True, description='…"
      ]
     },
     "metadata": {},
     "output_type": "display_data"
    }
   ],
   "source": [
    "#Create Dropdown for blocks & sizes\n",
    "blocks = widgets.Dropdown(options=['4\" ANG','5 X 3-1/2\" ANG','5 X 3\" ANG','4 X 3\" ANG', '3-1/2\" ANG'])\n",
    "sizes = widgets.Dropdown(options=list(inv_reduced[inv_reduced.block==blocks.value][\"size\"].value_counts().index))\n",
    "\n",
    "#DATEPICKER IS NOT WORKING\n",
    "#start = widgets.DatePicker(description=\"Start Date\", value=pd.to_datetime('2019-01-01'))\n",
    "#end = widgets.DatePicker(description=\"End Date\", value=pd.to_datetime('2020-01-01'))\n",
    "\n",
    "#Update the size options from blocks picked\n",
    "def update_sizes(*args):\n",
    "    sizes.options = list(inv_reduced[inv_reduced.block==blocks.value][\"size\"].value_counts().index)\n",
    "#observing changes in blocks\n",
    "blocks.observe(update_sizes, 'value')\n",
    "    \n",
    "@widgets.interact\n",
    "def line_plot(Aggregate_Block=False, Show_ATP=True, Block = blocks, Size= sizes, Start= start, End= end):\n",
    "    fig_dims = (16,8)\n",
    "    fig, ax = plt.subplots(figsize=fig_dims)\n",
    "    plot_df = inv_reduced[(inv_reduced[\"calendar_day\"]>=start.value) & (inv_reduced[\"calendar_day\"]<=end.value)]\n",
    "    plot_df = inv_reduced[inv_reduced[\"block\"]==blocks.value]\n",
    "    if Aggregate_Block == False:\n",
    "        plot_df = plot_df[plot_df[\"size\"] == sizes.value]\n",
    "        sizes.disabled=False\n",
    "    else:\n",
    "        sizes.disabled=True\n",
    "    fig.suptitle('Variation of Inventory & ATP')\n",
    "    ax.plot(plot_df[\"calendar_day\"], plot_df[\"tons\"],alpha=.5, label= \"Inventory\")\n",
    "    if Show_ATP == True:\n",
    "        ax.plot(plot_df[\"calendar_day\"], plot_df[\"atp\"], alpha=.3, label= \"ATP\")\n",
    "    plt.legend(loc=\"best\")\n",
    "    ax.set_xlabel(\"Time\")\n",
    "    ax.set_ylabel(\"Tons\")\n",
    "    "
   ]
  },
  {
   "cell_type": "markdown",
   "metadata": {},
   "source": [
    "### Find Patterns"
   ]
  },
  {
   "cell_type": "markdown",
   "metadata": {},
   "source": [
    "#### Calculate Cycle Lenghts"
   ]
  },
  {
   "cell_type": "code",
   "execution_count": null,
   "metadata": {},
   "outputs": [],
   "source": []
  },
  {
   "cell_type": "markdown",
   "metadata": {},
   "source": [
    "#### Calculate Rate of Inventory Change"
   ]
  },
  {
   "cell_type": "code",
   "execution_count": null,
   "metadata": {},
   "outputs": [],
   "source": []
  },
  {
   "cell_type": "markdown",
   "metadata": {},
   "source": [
    "#### Calculate Relations ATP vs. Inventory"
   ]
  },
  {
   "cell_type": "code",
   "execution_count": null,
   "metadata": {},
   "outputs": [],
   "source": []
  },
  {
   "cell_type": "markdown",
   "metadata": {},
   "source": [
    "#### Ensure Rate of Ship == Rate of Inv. Decrease"
   ]
  },
  {
   "cell_type": "code",
   "execution_count": null,
   "metadata": {},
   "outputs": [],
   "source": []
  },
  {
   "cell_type": "markdown",
   "metadata": {},
   "source": [
    "#### Create Orders substitute(Inventory-ATP) to explore this as potential attributes"
   ]
  },
  {
   "cell_type": "code",
   "execution_count": null,
   "metadata": {},
   "outputs": [],
   "source": []
  }
 ],
 "metadata": {
  "kernelspec": {
   "display_name": "Python 3",
   "language": "python",
   "name": "python3"
  },
  "language_info": {
   "codemirror_mode": {
    "name": "ipython",
    "version": 3
   },
   "file_extension": ".py",
   "mimetype": "text/x-python",
   "name": "python",
   "nbconvert_exporter": "python",
   "pygments_lexer": "ipython3",
   "version": "3.7.6"
  }
 },
 "nbformat": 4,
 "nbformat_minor": 4
}
