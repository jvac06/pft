{
 "cells": [
  {
   "cell_type": "markdown",
   "metadata": {},
   "source": [
    "# Inventory EDA"
   ]
  },
  {
   "cell_type": "markdown",
   "metadata": {},
   "source": [
    "Inventory Data contains snapshot information about sku-level tons that were available in inventory at a specific date. This data pertains to Whitby mill (1302). \n",
    "\n",
    "One important consideration - the numbers in inventory could decrease by:\n",
    " 1. Shipments\n",
    " 2. Scrapping\n",
    "\n",
    "Our assumption for this analysis is that most of the decreases will be derived from shipments. Thus the rate of change we assume to be equal to the rate of shipments for the items in analysis. \n",
    "\n",
    "**Given limited time for analysis we will focus on specific blocks**\n",
    "- 4\" ANG\n",
    "- 5X3-1/2\" ANG\n",
    "- 5X3\" ANG\n",
    "- 4X3\" ANG\n",
    "- 3-1/2\" ANG\n",
    "\n",
    "Exploration areas:\n",
    "- Distribution of inventory through time\n",
    "- Is there cyclicality to inventory from month to month, or cycle to cycle\n",
    "- Analysis on the cycle lenghts (avg. and std deviations)\n",
    "- **Potential features that could serve as indicators for the prediction of production quantities**\n",
    "    - rate of change in inventory increasing decreasing (especially in comparison to ATP available)\n",
    "    - ..."
   ]
  },
  {
   "cell_type": "markdown",
   "metadata": {},
   "source": [
    "#### Dependencies"
   ]
  },
  {
   "cell_type": "code",
   "execution_count": 57,
   "metadata": {},
   "outputs": [],
   "source": [
    "#dependencies for EDA\n",
    "import numpy as np\n",
    "import pandas as pd\n",
    "import scipy as sp\n",
    "import matplotlib.pyplot as plt\n",
    "import seaborn as sns\n",
    "import datetime as dt\n",
    "import ipywidgets as widgets\n",
    "import plotly as py\n",
    "import plotly.graph_objs as go"
   ]
  },
  {
   "cell_type": "markdown",
   "metadata": {},
   "source": [
    "#### Read Dataframe"
   ]
  },
  {
   "cell_type": "code",
   "execution_count": 58,
   "metadata": {},
   "outputs": [],
   "source": [
    "#%store -r inv_reduced\n",
    "%store -r inv_reduced2"
   ]
  },
  {
   "cell_type": "markdown",
   "metadata": {},
   "source": [
    "## Peaking at Data"
   ]
  },
  {
   "cell_type": "code",
   "execution_count": 59,
   "metadata": {},
   "outputs": [
    {
     "data": {
      "text/html": [
       "<div>\n",
       "<style scoped>\n",
       "    .dataframe tbody tr th:only-of-type {\n",
       "        vertical-align: middle;\n",
       "    }\n",
       "\n",
       "    .dataframe tbody tr th {\n",
       "        vertical-align: top;\n",
       "    }\n",
       "\n",
       "    .dataframe thead th {\n",
       "        text-align: right;\n",
       "    }\n",
       "</style>\n",
       "<table border=\"1\" class=\"dataframe\">\n",
       "  <thead>\n",
       "    <tr style=\"text-align: right;\">\n",
       "      <th></th>\n",
       "      <th>calendar_day</th>\n",
       "      <th>sku</th>\n",
       "      <th>material_description</th>\n",
       "      <th>material_type</th>\n",
       "      <th>strategy</th>\n",
       "      <th>ph</th>\n",
       "      <th>shape</th>\n",
       "      <th>block</th>\n",
       "      <th>size</th>\n",
       "      <th>steel_grade</th>\n",
       "      <th>length_text</th>\n",
       "      <th>tons</th>\n",
       "    </tr>\n",
       "  </thead>\n",
       "  <tbody>\n",
       "    <tr>\n",
       "      <th>16</th>\n",
       "      <td>2016-01-03</td>\n",
       "      <td>106020238</td>\n",
       "      <td>C 10X15.3# GGMULTI 20'00\"</td>\n",
       "      <td>ZERT</td>\n",
       "      <td>MTS</td>\n",
       "      <td>LS-Mills-Mer-Mer-Strc A&amp;C-Channels</td>\n",
       "      <td>SHAPE_C</td>\n",
       "      <td>10\" CHN</td>\n",
       "      <td>10 X 15.3#</td>\n",
       "      <td>GGMULTI</td>\n",
       "      <td>20'00\"</td>\n",
       "      <td>200.736000</td>\n",
       "    </tr>\n",
       "    <tr>\n",
       "      <th>17</th>\n",
       "      <td>2016-01-03</td>\n",
       "      <td>106020239</td>\n",
       "      <td>C 10X15.3# GGMULTI 40'00\"</td>\n",
       "      <td>ZERT</td>\n",
       "      <td>MTS</td>\n",
       "      <td>LS-Mills-Mer-Mer-Strc A&amp;C-Channels</td>\n",
       "      <td>SHAPE_C</td>\n",
       "      <td>10\" CHN</td>\n",
       "      <td>10 X 15.3#</td>\n",
       "      <td>GGMULTI</td>\n",
       "      <td>40'00\"</td>\n",
       "      <td>352.206000</td>\n",
       "    </tr>\n",
       "    <tr>\n",
       "      <th>18</th>\n",
       "      <td>2016-01-03</td>\n",
       "      <td>106020242</td>\n",
       "      <td>C 10X15.3# GGMULTI 50'00\"</td>\n",
       "      <td>ZERT</td>\n",
       "      <td>MTS</td>\n",
       "      <td>LS-Mills-Mer-Mer-Strc A&amp;C-Channels</td>\n",
       "      <td>SHAPE_C</td>\n",
       "      <td>10\" CHN</td>\n",
       "      <td>10 X 15.3#</td>\n",
       "      <td>GGMULTI</td>\n",
       "      <td>50'00\"</td>\n",
       "      <td>99.450000</td>\n",
       "    </tr>\n",
       "    <tr>\n",
       "      <th>19</th>\n",
       "      <td>2016-01-03</td>\n",
       "      <td>106020243</td>\n",
       "      <td>C 10X15.3# GGMULTI 60'00\"</td>\n",
       "      <td>ZERT</td>\n",
       "      <td>MTS</td>\n",
       "      <td>LS-Mills-Mer-Mer-Strc A&amp;C-Channels</td>\n",
       "      <td>SHAPE_C</td>\n",
       "      <td>10\" CHN</td>\n",
       "      <td>10 X 15.3#</td>\n",
       "      <td>GGMULTI</td>\n",
       "      <td>60'00\"</td>\n",
       "      <td>26.622000</td>\n",
       "    </tr>\n",
       "    <tr>\n",
       "      <th>14</th>\n",
       "      <td>2016-01-03</td>\n",
       "      <td>106020214</td>\n",
       "      <td>C 10X20# GGMULTI 20'00\"</td>\n",
       "      <td>ZERT</td>\n",
       "      <td>MTS</td>\n",
       "      <td>LS-Mills-Mer-Mer-Strc A&amp;C-Channels</td>\n",
       "      <td>SHAPE_C</td>\n",
       "      <td>10\" CHN</td>\n",
       "      <td>10 X 20#</td>\n",
       "      <td>GGMULTI</td>\n",
       "      <td>20'00\"</td>\n",
       "      <td>38.400000</td>\n",
       "    </tr>\n",
       "    <tr>\n",
       "      <th>...</th>\n",
       "      <td>...</td>\n",
       "      <td>...</td>\n",
       "      <td>...</td>\n",
       "      <td>...</td>\n",
       "      <td>...</td>\n",
       "      <td>...</td>\n",
       "      <td>...</td>\n",
       "      <td>...</td>\n",
       "      <td>...</td>\n",
       "      <td>...</td>\n",
       "      <td>...</td>\n",
       "      <td>...</td>\n",
       "    </tr>\n",
       "    <tr>\n",
       "      <th>779016</th>\n",
       "      <td>2020-03-24</td>\n",
       "      <td>106019495</td>\n",
       "      <td>L 8X8X1/2 GGMULTI 40'00\"</td>\n",
       "      <td>ZERT</td>\n",
       "      <td>MTS</td>\n",
       "      <td>LS-Mills-Mer-Mer-Strc A&amp;C-Angles</td>\n",
       "      <td>SHAPE_L</td>\n",
       "      <td>8\" ANG</td>\n",
       "      <td>8X8X1/2</td>\n",
       "      <td>GGMULTI</td>\n",
       "      <td>40'00\"</td>\n",
       "      <td>19.007999</td>\n",
       "    </tr>\n",
       "    <tr>\n",
       "      <th>779017</th>\n",
       "      <td>2020-03-24</td>\n",
       "      <td>106019496</td>\n",
       "      <td>L 8X8X3/4 GGMULTI 40'00\"</td>\n",
       "      <td>ZERT</td>\n",
       "      <td>MTS</td>\n",
       "      <td>LS-Mills-Mer-Mer-Strc A&amp;C-Angles</td>\n",
       "      <td>SHAPE_L</td>\n",
       "      <td>8\" ANG</td>\n",
       "      <td>8X8X3/4</td>\n",
       "      <td>GGMULTI</td>\n",
       "      <td>40'00\"</td>\n",
       "      <td>42.012001</td>\n",
       "    </tr>\n",
       "    <tr>\n",
       "      <th>779354</th>\n",
       "      <td>2020-03-24</td>\n",
       "      <td>106029360</td>\n",
       "      <td>L 8X8X5/8 GGMULTI 40'00\"</td>\n",
       "      <td>ZERT</td>\n",
       "      <td>MTS</td>\n",
       "      <td>LS-Mills-Mer-Mer-Strc A&amp;C-Angles</td>\n",
       "      <td>SHAPE_L</td>\n",
       "      <td>8\" ANG</td>\n",
       "      <td>8X8X5/8</td>\n",
       "      <td>GGMULTI</td>\n",
       "      <td>40'00\"</td>\n",
       "      <td>11.772000</td>\n",
       "    </tr>\n",
       "    <tr>\n",
       "      <th>779018</th>\n",
       "      <td>2020-03-24</td>\n",
       "      <td>106019507</td>\n",
       "      <td>MC 10X8.4# GGMULTI 20'00\"</td>\n",
       "      <td>ZERT</td>\n",
       "      <td>MTS</td>\n",
       "      <td>LS-Mills-Mer-Mer-Strc A&amp;C-MC Channels</td>\n",
       "      <td>SHAPE_MC</td>\n",
       "      <td>MC10X8.4</td>\n",
       "      <td>10 X 8.4#</td>\n",
       "      <td>GGMULTI</td>\n",
       "      <td>20'00\"</td>\n",
       "      <td>8.316000</td>\n",
       "    </tr>\n",
       "    <tr>\n",
       "      <th>779019</th>\n",
       "      <td>2020-03-24</td>\n",
       "      <td>106019508</td>\n",
       "      <td>MC 10X8.4# GGMULTI 40'00\"</td>\n",
       "      <td>ZERT</td>\n",
       "      <td>MTS</td>\n",
       "      <td>LS-Mills-Mer-Mer-Strc A&amp;C-MC Channels</td>\n",
       "      <td>SHAPE_MC</td>\n",
       "      <td>MC10X8.4</td>\n",
       "      <td>10 X 8.4#</td>\n",
       "      <td>GGMULTI</td>\n",
       "      <td>40'00\"</td>\n",
       "      <td>18.816000</td>\n",
       "    </tr>\n",
       "  </tbody>\n",
       "</table>\n",
       "<p>774592 rows × 12 columns</p>\n",
       "</div>"
      ],
      "text/plain": [
       "       calendar_day        sku       material_description material_type  \\\n",
       "16       2016-01-03  106020238  C 10X15.3# GGMULTI 20'00\"          ZERT   \n",
       "17       2016-01-03  106020239  C 10X15.3# GGMULTI 40'00\"          ZERT   \n",
       "18       2016-01-03  106020242  C 10X15.3# GGMULTI 50'00\"          ZERT   \n",
       "19       2016-01-03  106020243  C 10X15.3# GGMULTI 60'00\"          ZERT   \n",
       "14       2016-01-03  106020214    C 10X20# GGMULTI 20'00\"          ZERT   \n",
       "...             ...        ...                        ...           ...   \n",
       "779016   2020-03-24  106019495   L 8X8X1/2 GGMULTI 40'00\"          ZERT   \n",
       "779017   2020-03-24  106019496   L 8X8X3/4 GGMULTI 40'00\"          ZERT   \n",
       "779354   2020-03-24  106029360   L 8X8X5/8 GGMULTI 40'00\"          ZERT   \n",
       "779018   2020-03-24  106019507  MC 10X8.4# GGMULTI 20'00\"          ZERT   \n",
       "779019   2020-03-24  106019508  MC 10X8.4# GGMULTI 40'00\"          ZERT   \n",
       "\n",
       "       strategy                                     ph     shape     block  \\\n",
       "16          MTS     LS-Mills-Mer-Mer-Strc A&C-Channels   SHAPE_C   10\" CHN   \n",
       "17          MTS     LS-Mills-Mer-Mer-Strc A&C-Channels   SHAPE_C   10\" CHN   \n",
       "18          MTS     LS-Mills-Mer-Mer-Strc A&C-Channels   SHAPE_C   10\" CHN   \n",
       "19          MTS     LS-Mills-Mer-Mer-Strc A&C-Channels   SHAPE_C   10\" CHN   \n",
       "14          MTS     LS-Mills-Mer-Mer-Strc A&C-Channels   SHAPE_C   10\" CHN   \n",
       "...         ...                                    ...       ...       ...   \n",
       "779016      MTS       LS-Mills-Mer-Mer-Strc A&C-Angles   SHAPE_L    8\" ANG   \n",
       "779017      MTS       LS-Mills-Mer-Mer-Strc A&C-Angles   SHAPE_L    8\" ANG   \n",
       "779354      MTS       LS-Mills-Mer-Mer-Strc A&C-Angles   SHAPE_L    8\" ANG   \n",
       "779018      MTS  LS-Mills-Mer-Mer-Strc A&C-MC Channels  SHAPE_MC  MC10X8.4   \n",
       "779019      MTS  LS-Mills-Mer-Mer-Strc A&C-MC Channels  SHAPE_MC  MC10X8.4   \n",
       "\n",
       "              size steel_grade length_text        tons  \n",
       "16      10 X 15.3#     GGMULTI      20'00\"  200.736000  \n",
       "17      10 X 15.3#     GGMULTI      40'00\"  352.206000  \n",
       "18      10 X 15.3#     GGMULTI      50'00\"   99.450000  \n",
       "19      10 X 15.3#     GGMULTI      60'00\"   26.622000  \n",
       "14        10 X 20#     GGMULTI      20'00\"   38.400000  \n",
       "...            ...         ...         ...         ...  \n",
       "779016     8X8X1/2     GGMULTI      40'00\"   19.007999  \n",
       "779017     8X8X3/4     GGMULTI      40'00\"   42.012001  \n",
       "779354     8X8X5/8     GGMULTI      40'00\"   11.772000  \n",
       "779018   10 X 8.4#     GGMULTI      20'00\"    8.316000  \n",
       "779019   10 X 8.4#     GGMULTI      40'00\"   18.816000  \n",
       "\n",
       "[774592 rows x 12 columns]"
      ]
     },
     "execution_count": 59,
     "metadata": {},
     "output_type": "execute_result"
    }
   ],
   "source": [
    "#peak\n",
    "inv_reduced2.head(-1)"
   ]
  },
  {
   "cell_type": "code",
   "execution_count": 60,
   "metadata": {},
   "outputs": [
    {
     "name": "stdout",
     "output_type": "stream",
     "text": [
      "<class 'pandas.core.frame.DataFrame'>\n",
      "Int64Index: 774593 entries, 16 to 779020\n",
      "Data columns (total 12 columns):\n",
      "calendar_day            774593 non-null datetime64[ns]\n",
      "sku                     774593 non-null object\n",
      "material_description    774593 non-null object\n",
      "material_type           774593 non-null object\n",
      "strategy                767339 non-null category\n",
      "ph                      774593 non-null object\n",
      "shape                   771786 non-null object\n",
      "block                   769246 non-null object\n",
      "size                    771786 non-null object\n",
      "steel_grade             771786 non-null object\n",
      "length_text             769268 non-null object\n",
      "tons                    774593 non-null float64\n",
      "dtypes: category(1), datetime64[ns](1), float64(1), object(9)\n",
      "memory usage: 71.7+ MB\n"
     ]
    }
   ],
   "source": [
    "#counts and dtypes\n",
    "inv_reduced2.info()"
   ]
  },
  {
   "cell_type": "code",
   "execution_count": 61,
   "metadata": {},
   "outputs": [],
   "source": [
    "#creating dataframe for analysis of null blocks in inventory\n",
    "null_blocks = inv_reduced2[inv_reduced2[\"block\"].isna()]"
   ]
  },
  {
   "cell_type": "code",
   "execution_count": 62,
   "metadata": {},
   "outputs": [
    {
     "data": {
      "text/plain": [
       "2X1 1/2X3/16    26\n",
       "Name: size, dtype: int64"
      ]
     },
     "execution_count": 62,
     "metadata": {},
     "output_type": "execute_result"
    }
   ],
   "source": [
    "#looking to see offenders in Angle shapes (L_SHAPE)\n",
    "null_blocks[null_blocks[\"shape\"]==\"SHAPE_L\"][\"size\"].value_counts()"
   ]
  },
  {
   "cell_type": "markdown",
   "metadata": {},
   "source": [
    "No offenders apparent in 4\" ANG block:\n",
    "- 4 X 4 X .344 UNB\n",
    "- 4 X 4 X 1/2\n",
    "- 4 X 4 X 1/4\n",
    "- 4 X 4 X 3/4\n",
    "- 4 X 4 X 3/8\n",
    "- 4 X 4 X 5/16\n",
    "- 4 X 4 X 7/16\n",
    "- 4 X 4 X 9/16\n",
    "- 4 X 4 X 5/8"
   ]
  },
  {
   "cell_type": "markdown",
   "metadata": {},
   "source": [
    "## Distribution of Inventory through Time"
   ]
  },
  {
   "cell_type": "markdown",
   "metadata": {},
   "source": [
    "### 4\" ANG Analysis (to be used for replication)"
   ]
  },
  {
   "cell_type": "code",
   "execution_count": 63,
   "metadata": {},
   "outputs": [],
   "source": [
    "#dataframe for (variable) block analysis\n",
    "block_df = inv_reduced2[inv_reduced2[\"block\"]=='4\" ANG']"
   ]
  },
  {
   "cell_type": "code",
   "execution_count": 64,
   "metadata": {},
   "outputs": [
    {
     "data": {
      "text/plain": [
       "110"
      ]
     },
     "execution_count": 64,
     "metadata": {},
     "output_type": "execute_result"
    }
   ],
   "source": [
    "#number of skus in this block\n",
    "block_df[\"sku\"].nunique()"
   ]
  },
  {
   "cell_type": "code",
   "execution_count": 65,
   "metadata": {},
   "outputs": [
    {
     "name": "stdout",
     "output_type": "stream",
     "text": [
      "<class 'pandas.core.frame.DataFrame'>\n",
      "Int64Index: 36378 entries, 126 to 779178\n",
      "Data columns (total 12 columns):\n",
      "calendar_day            36378 non-null datetime64[ns]\n",
      "sku                     36378 non-null object\n",
      "material_description    36378 non-null object\n",
      "material_type           36378 non-null object\n",
      "strategy                35571 non-null category\n",
      "ph                      36378 non-null object\n",
      "shape                   36378 non-null object\n",
      "block                   36378 non-null object\n",
      "size                    36378 non-null object\n",
      "steel_grade             36378 non-null object\n",
      "length_text             36378 non-null object\n",
      "tons                    36378 non-null float64\n",
      "dtypes: category(1), datetime64[ns](1), float64(1), object(9)\n",
      "memory usage: 3.4+ MB\n"
     ]
    }
   ],
   "source": [
    "#description of block\n",
    "block_df.info()"
   ]
  },
  {
   "cell_type": "code",
   "execution_count": 66,
   "metadata": {},
   "outputs": [
    {
     "data": {
      "text/html": [
       "<div>\n",
       "<style scoped>\n",
       "    .dataframe tbody tr th:only-of-type {\n",
       "        vertical-align: middle;\n",
       "    }\n",
       "\n",
       "    .dataframe tbody tr th {\n",
       "        vertical-align: top;\n",
       "    }\n",
       "\n",
       "    .dataframe thead th {\n",
       "        text-align: right;\n",
       "    }\n",
       "</style>\n",
       "<table border=\"1\" class=\"dataframe\">\n",
       "  <thead>\n",
       "    <tr style=\"text-align: right;\">\n",
       "      <th></th>\n",
       "      <th>tons</th>\n",
       "    </tr>\n",
       "  </thead>\n",
       "  <tbody>\n",
       "    <tr>\n",
       "      <th>count</th>\n",
       "      <td>36378.000000</td>\n",
       "    </tr>\n",
       "    <tr>\n",
       "      <th>mean</th>\n",
       "      <td>60.348227</td>\n",
       "    </tr>\n",
       "    <tr>\n",
       "      <th>std</th>\n",
       "      <td>138.361264</td>\n",
       "    </tr>\n",
       "    <tr>\n",
       "      <th>min</th>\n",
       "      <td>-0.002000</td>\n",
       "    </tr>\n",
       "    <tr>\n",
       "      <th>25%</th>\n",
       "      <td>0.001000</td>\n",
       "    </tr>\n",
       "    <tr>\n",
       "      <th>50%</th>\n",
       "      <td>4.900000</td>\n",
       "    </tr>\n",
       "    <tr>\n",
       "      <th>75%</th>\n",
       "      <td>52.910000</td>\n",
       "    </tr>\n",
       "    <tr>\n",
       "      <th>max</th>\n",
       "      <td>1859.219971</td>\n",
       "    </tr>\n",
       "  </tbody>\n",
       "</table>\n",
       "</div>"
      ],
      "text/plain": [
       "               tons\n",
       "count  36378.000000\n",
       "mean      60.348227\n",
       "std      138.361264\n",
       "min       -0.002000\n",
       "25%        0.001000\n",
       "50%        4.900000\n",
       "75%       52.910000\n",
       "max     1859.219971"
      ]
     },
     "execution_count": 66,
     "metadata": {},
     "output_type": "execute_result"
    }
   ],
   "source": [
    "#quick description of 4\" ANG inventory tons and ATP\n",
    "block_df.describe()"
   ]
  },
  {
   "cell_type": "code",
   "execution_count": 67,
   "metadata": {},
   "outputs": [],
   "source": [
    "#Creating new columns to separate year, month and week\n",
    "block_df = block_df.set_index(\"calendar_day\")\n",
    "block_df[\"year\"] = block_df.index.year\n",
    "block_df[\"month\"] = block_df.index.month\n",
    "block_df[\"week\"] = block_df.index.week\n",
    "block_df[\"day\"] = block_df.index.dayofyear\n",
    "block_df = block_df.reset_index()"
   ]
  },
  {
   "cell_type": "code",
   "execution_count": 68,
   "metadata": {},
   "outputs": [
    {
     "name": "stdout",
     "output_type": "stream",
     "text": [
      "<class 'pandas.core.frame.DataFrame'>\n",
      "RangeIndex: 36378 entries, 0 to 36377\n",
      "Data columns (total 16 columns):\n",
      "calendar_day            36378 non-null datetime64[ns]\n",
      "sku                     36378 non-null object\n",
      "material_description    36378 non-null object\n",
      "material_type           36378 non-null object\n",
      "strategy                35571 non-null category\n",
      "ph                      36378 non-null object\n",
      "shape                   36378 non-null object\n",
      "block                   36378 non-null object\n",
      "size                    36378 non-null object\n",
      "steel_grade             36378 non-null object\n",
      "length_text             36378 non-null object\n",
      "tons                    36378 non-null float64\n",
      "year                    36378 non-null int64\n",
      "month                   36378 non-null int64\n",
      "week                    36378 non-null int64\n",
      "day                     36378 non-null int64\n",
      "dtypes: category(1), datetime64[ns](1), float64(1), int64(4), object(9)\n",
      "memory usage: 4.2+ MB\n"
     ]
    }
   ],
   "source": [
    "block_df.info()"
   ]
  },
  {
   "cell_type": "code",
   "execution_count": 69,
   "metadata": {},
   "outputs": [
    {
     "data": {
      "text/plain": [
       "Index(['calendar_day', 'sku', 'material_description', 'material_type',\n",
       "       'strategy', 'ph', 'shape', 'block', 'size', 'steel_grade',\n",
       "       'length_text', 'tons', 'year', 'month', 'week', 'day'],\n",
       "      dtype='object')"
      ]
     },
     "execution_count": 69,
     "metadata": {},
     "output_type": "execute_result"
    }
   ],
   "source": [
    "block_df.columns"
   ]
  },
  {
   "cell_type": "code",
   "execution_count": 70,
   "metadata": {},
   "outputs": [],
   "source": [
    "#Rearranging columns order\n",
    "cols = list(block_df.columns.values)\n",
    "cols = ['calendar_day', 'year', 'month', 'week', 'day', 'sku', 'material_description', 'material_type',\n",
    "       'strategy', 'ph', 'shape', 'block', 'size', 'steel_grade',\n",
    "       'length_text', 'tons']\n",
    "block_df =block_df[cols]"
   ]
  },
  {
   "cell_type": "code",
   "execution_count": 71,
   "metadata": {},
   "outputs": [
    {
     "data": {
      "text/plain": [
       "219    50\n",
       "209    50\n",
       "224    50\n",
       "216    50\n",
       "220    50\n",
       "       ..\n",
       "197    33\n",
       "99     32\n",
       "97     32\n",
       "98     32\n",
       "195    13\n",
       "Name: day, Length: 272, dtype: int64"
      ]
     },
     "execution_count": 71,
     "metadata": {},
     "output_type": "execute_result"
    }
   ],
   "source": [
    "block_df[block_df[\"year\"]==2019][\"day\"].value_counts()"
   ]
  },
  {
   "cell_type": "code",
   "execution_count": 72,
   "metadata": {},
   "outputs": [
    {
     "data": {
      "text/plain": [
       "2019    10745\n",
       "2018    10280\n",
       "2017     8180\n",
       "2016     4822\n",
       "2020     2351\n",
       "Name: year, dtype: int64"
      ]
     },
     "execution_count": 72,
     "metadata": {},
     "output_type": "execute_result"
    }
   ],
   "source": [
    "#distribution of inventory snapshots through years \n",
    "block_df[\"year\"].value_counts()"
   ]
  },
  {
   "cell_type": "code",
   "execution_count": 73,
   "metadata": {},
   "outputs": [
    {
     "data": {
      "text/plain": [
       "4X4X5/16    10151\n",
       "4X4X3/8      7597\n",
       "4X4X1/4      5993\n",
       "4X4X1/2      4393\n",
       "4X4X3/4      2980\n",
       "4X4X9/16     2809\n",
       "4X4X.344     1438\n",
       "4X4X5/8       925\n",
       "4X4X7/16       92\n",
       "Name: size, dtype: int64"
      ]
     },
     "execution_count": 73,
     "metadata": {},
     "output_type": "execute_result"
    }
   ],
   "source": [
    "#distribution of inventory snapshots by size\n",
    "block_df[\"size\"].value_counts()"
   ]
  },
  {
   "cell_type": "markdown",
   "metadata": {},
   "source": [
    "Tons on Inventory"
   ]
  },
  {
   "cell_type": "code",
   "execution_count": 75,
   "metadata": {},
   "outputs": [
    {
     "data": {
      "text/plain": [
       "Text(0, 0.5, 'Tons')"
      ]
     },
     "execution_count": 75,
     "metadata": {},
     "output_type": "execute_result"
    },
    {
     "data": {
      "image/png": "[encoded data removed]",
      "text/plain": [
       "<Figure size 864x432 with 1 Axes>"
      ]
     },
     "metadata": {
      "needs_background": "light"
     },
     "output_type": "display_data"
    }
   ],
   "source": [
    "#creating df for each year\n",
    "year_2016 = block_df[block_df.year == 2016]\n",
    "year_2017 = block_df[block_df.year == 2017]\n",
    "year_2018 = block_df[block_df.year == 2018]\n",
    "year_2019 = block_df[block_df.year == 2019]\n",
    "year_2020 = block_df[block_df.year == 2020]\n",
    "\n",
    "#Create figure and plots\n",
    "fig_dims = (12,6)\n",
    "fig, ax = plt.subplots(figsize=fig_dims)\n",
    "fig.suptitle('Variation of Inventory tons by Year: 4\" ANG Block')\n",
    "\n",
    "ax.plot(year_2016.calendar_day, year_2016[\"tons\"], label=2016, color ='teal')\n",
    "ax.plot(year_2017.calendar_day, year_2017[\"tons\"], label=2017, color ='r')\n",
    "ax.plot(year_2018.calendar_day, year_2018[\"tons\"], label=2018, color ='g')\n",
    "ax.plot(year_2019.calendar_day, year_2019[\"tons\"], label=2019, color ='orange')\n",
    "ax.plot(year_2020.calendar_day, year_2020[\"tons\"], label=2020, color ='b')\n",
    "\n",
    "#Create legend & axis names\n",
    "plt.legend(loc=\"best\", title=\"Year\", ncol=2)\n",
    "ax.set_xlabel(\"Time\")\n",
    "ax.set_ylabel(\"Tons\")"
   ]
  },
  {
   "cell_type": "markdown",
   "metadata": {},
   "source": [
    "ATP for this Block"
   ]
  },
  {
   "cell_type": "code",
   "execution_count": 77,
   "metadata": {},
   "outputs": [],
   "source": [
    "# #BLOCKED OUT TO TEST NEW INVENTORY\n",
    "# #Create figure and plots\n",
    "# fig_dims = (12,6)\n",
    "# fig, ax = plt.subplots(figsize=fig_dims)\n",
    "# fig.suptitle('Variation of ATP tons by Year: 4\" ANG Block')\n",
    "\n",
    "# #ax.plot(year_2017.calendar_day, year_2017[\"atp\"], label=2017, color ='r')\n",
    "# ax.plot(year_2018.calendar_day, year_2018[\"atp\"], label=2018, color ='g')\n",
    "# ax.plot(year_2019.calendar_day, year_2019[\"atp\"], label=2019, color ='orange')\n",
    "# ax.plot(year_2020.calendar_day, year_2020[\"atp\"], label=2020, color='b')\n",
    "\n",
    "# #Create legend & axis names\n",
    "# plt.legend(loc=\"best\", title=\"Year\", ncol=2)\n",
    "# ax.set_xlabel(\"Time\")\n",
    "# ax.set_ylabel(\"APT(in tons)\")"
   ]
  },
  {
   "cell_type": "code",
   "execution_count": 39,
   "metadata": {},
   "outputs": [],
   "source": [
    "##Checkout ipywidgets? - https://plotly.com/python/widget-app/   &   https://towardsdatascience.com/interactive-controls-for-jupyter-notebooks-f5c94829aee6\n",
    "## If not continue exploring ways to plot simulatenously ATP"
   ]
  },
  {
   "cell_type": "markdown",
   "metadata": {},
   "source": [
    "### Inventory & ATP Analysis"
   ]
  },
  {
   "cell_type": "code",
   "execution_count": 76,
   "metadata": {},
   "outputs": [
    {
     "data": {
      "application/vnd.jupyter.widget-view+json": {
       "model_id": "d7d3bea9b825440897ab584530e48ee4",
       "version_major": 2,
       "version_minor": 0
      },
      "text/plain": [
       "interactive(children=(Checkbox(value=False, description='Aggregate_Block'), Dropdown(description='Block', opti…"
      ]
     },
     "metadata": {},
     "output_type": "display_data"
    }
   ],
   "source": [
    "#Create Dropdown for blocks & sizes\n",
    "blocks = widgets.Dropdown(options=['4\" ANG','5 X 3-1/2\" ANG','5 X 3\" ANG','4 X 3\" ANG', '3-1/2\" ANG'])\n",
    "sizes = widgets.Dropdown(options=list(inv_reduced2[inv_reduced2.block==blocks.value][\"size\"].value_counts().index))\n",
    "\n",
    "#DATEPICKER IS NOT WORKING\n",
    "start = widgets.DatePicker(description=\"Start Date\", value=pd.to_datetime('2019-01-01'))\n",
    "end = widgets.DatePicker(description=\"End Date\", value=pd.to_datetime('2020-01-01'))\n",
    "\n",
    "#Update the size options from blocks picked\n",
    "def update_sizes(*args):\n",
    "    sizes.options = list(inv_reduced2[inv_reduced2.block==blocks.value][\"size\"].value_counts().index)\n",
    "#observing changes in blocks\n",
    "blocks.observe(update_sizes, 'value')\n",
    "    \n",
    "@widgets.interact\n",
    "def line_plot(Aggregate_Block=False, Block = blocks, Size= sizes, Start= start, End= end):\n",
    "    fig_dims = (16,8)\n",
    "    fig, ax = plt.subplots(figsize=fig_dims)\n",
    "    plot_df = inv_reduced2[(inv_reduced2[\"calendar_day\"]>=start.value) & (inv_reduced2[\"calendar_day\"]<=end.value)]\n",
    "    plot_df = inv_reduced2[inv_reduced2[\"block\"]==blocks.value]\n",
    "    if Aggregate_Block == False:\n",
    "        plot_df = plot_df[plot_df[\"size\"] == sizes.value]\n",
    "        sizes.disabled=False\n",
    "    else:\n",
    "        sizes.disabled=True\n",
    "    fig.suptitle('Variation of Inventory')\n",
    "    ax.plot(plot_df[\"calendar_day\"], plot_df[\"tons\"],alpha=.5, label= \"Inventory\")\n",
    "    plt.legend(loc=\"best\")\n",
    "    ax.set_xlabel(\"Time\")\n",
    "    ax.set_ylabel(\"Tons\")"
   ]
  },
  {
   "cell_type": "markdown",
   "metadata": {},
   "source": [
    "### Find Patterns & Potential Features"
   ]
  },
  {
   "cell_type": "markdown",
   "metadata": {},
   "source": [
    "#### Calculate Cycle Lenghts"
   ]
  },
  {
   "cell_type": "code",
   "execution_count": null,
   "metadata": {},
   "outputs": [],
   "source": []
  },
  {
   "cell_type": "markdown",
   "metadata": {},
   "source": [
    "#### Calculate Rate of Inventory Change"
   ]
  },
  {
   "cell_type": "code",
   "execution_count": null,
   "metadata": {},
   "outputs": [],
   "source": []
  },
  {
   "cell_type": "markdown",
   "metadata": {},
   "source": [
    "#### Calculate Relations ATP vs. Inventory"
   ]
  },
  {
   "cell_type": "code",
   "execution_count": null,
   "metadata": {},
   "outputs": [],
   "source": []
  },
  {
   "cell_type": "markdown",
   "metadata": {},
   "source": [
    "#### Ensure Rate of Ship == Rate of Inv. Decrease"
   ]
  },
  {
   "cell_type": "code",
   "execution_count": null,
   "metadata": {},
   "outputs": [],
   "source": []
  },
  {
   "cell_type": "markdown",
   "metadata": {},
   "source": [
    "#### Create Orders substitute(Inventory-ATP) to explore this as potential attributes"
   ]
  },
  {
   "cell_type": "code",
   "execution_count": null,
   "metadata": {},
   "outputs": [],
   "source": []
  }
 ],
 "metadata": {
  "kernelspec": {
   "display_name": "Python 3",
   "language": "python",
   "name": "python3"
  },
  "language_info": {
   "codemirror_mode": {
    "name": "ipython",
    "version": 3
   },
   "file_extension": ".py",
   "mimetype": "text/x-python",
   "name": "python",
   "nbconvert_exporter": "python",
   "pygments_lexer": "ipython3",
   "version": "3.7.6"
  }
 },
 "nbformat": 4,
 "nbformat_minor": 4
}
