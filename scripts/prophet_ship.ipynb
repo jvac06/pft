{
 "cells": [
  {
   "cell_type": "code",
   "execution_count": 1,
   "metadata": {},
   "outputs": [
    {
     "output_type": "stream",
     "name": "stderr",
     "text": "Importing plotly failed. Interactive plots will not work.\n"
    }
   ],
   "source": [
    "#Dependencies\n",
    "import numpy as np\n",
    "import pandas as pd\n",
    "import plotly\n",
    "from fbprophet import Prophet\n",
    "from sklearn.model_selection import TimeSeriesSplit"
   ]
  },
  {
   "cell_type": "code",
   "execution_count": null,
   "metadata": {},
   "outputs": [],
   "source": [
    "structural = pd.read_pickle"
   ]
  }
 ],
 "metadata": {
  "language_info": {
   "codemirror_mode": {
    "name": "ipython",
    "version": 3
   },
   "file_extension": ".py",
   "mimetype": "text/x-python",
   "name": "python",
   "nbconvert_exporter": "python",
   "pygments_lexer": "ipython3",
   "version": "3.7.6-final"
  },
  "orig_nbformat": 2,
  "kernelspec": {
   "name": "python37664bitpftpipenv41a3325616004cea923f5375811f25e4",
   "display_name": "Python 3.7.6 64-bit ('pft': pipenv)"
  }
 },
 "nbformat": 4,
 "nbformat_minor": 2
}