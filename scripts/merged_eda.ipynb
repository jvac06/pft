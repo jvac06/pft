{
 "cells": [
  {
   "cell_type": "markdown",
   "metadata": {},
   "source": [
    "# Exploring Merged File"
   ]
  },
  {
   "cell_type": "code",
   "execution_count": 1,
   "metadata": {},
   "outputs": [],
   "source": [
    "#Dependencies\n",
    "import os\n",
    "import numpy as np\n",
    "import pandas as pd\n",
    "import joblib\n",
    "import matplotlib.pyplot as plt\n",
    "import seaborn as sns\n",
    "import re\n",
    "import datetime as dt"
   ]
  },
  {
   "cell_type": "code",
   "execution_count": 2,
   "metadata": {},
   "outputs": [
    {
     "output_type": "execute_result",
     "data": {
      "text/plain": "'/Users/jacosta3/OneDrive - University of South Florida/Gerdau Projects/pft/scripts'"
     },
     "metadata": {},
     "execution_count": 2
    }
   ],
   "source": [
    "os.getcwd()"
   ]
  },
  {
   "cell_type": "code",
   "execution_count": 55,
   "metadata": {},
   "outputs": [],
   "source": [
    "#change path to datasets folder\n",
    "os.chdir(\"../datasets/\")\n",
    "#read merged.pkl\n",
    "merged_df = pd.read_pickle(\"./serialized/merged.pkl\")"
   ]
  },
  {
   "cell_type": "code",
   "execution_count": 57,
   "metadata": {},
   "outputs": [],
   "source": [
    "#create file paths\n",
    "ser_path = \"./serialized/\"\n",
    "merged_path = \"./merged_clean/\""
   ]
  },
  {
   "cell_type": "code",
   "execution_count": 4,
   "metadata": {},
   "outputs": [
    {
     "output_type": "stream",
     "name": "stdout",
     "text": "<class 'pandas.core.frame.DataFrame'>\nInt64Index: 814243 entries, 0 to 814242\nData columns (total 16 columns):\n #   Column                    Non-Null Count   Dtype         \n---  ------                    --------------   -----         \n 0   calendar_day              814243 non-null  datetime64[ns]\n 1   sku                       814243 non-null  object        \n 2   size                      811071 non-null  object        \n 3   block                     813827 non-null  object        \n 4   material_description      813086 non-null  object        \n 5   shape                     810269 non-null  object        \n 6   strategy                  805552 non-null  object        \n 7   steel_grade               810269 non-null  object        \n 8   length_text               808869 non-null  object        \n 9   work_center               814189 non-null  object        \n 10  ph                        813878 non-null  object        \n 11  IN_tons                   774593 non-null  float64       \n 12  SO_order_qty_sales_units  77225 non-null   float64       \n 13  SO_confirmed_qty          77225 non-null   float64       \n 14  SH_shipment_tons          89182 non-null   float64       \n 15  PR_ton                    9740 non-null    float64       \ndtypes: datetime64[ns](1), float64(5), object(10)\nmemory usage: 105.6+ MB\n"
    }
   ],
   "source": [
    "merged_df.info()"
   ]
  },
  {
   "cell_type": "code",
   "execution_count": 5,
   "metadata": {},
   "outputs": [],
   "source": [
    "#dropping duplicate sales column - SO_confirmed_qty\n",
    "merged_df = merged_df.drop('SO_confirmed_qty', axis=1)"
   ]
  },
  {
   "cell_type": "code",
   "execution_count": 6,
   "metadata": {},
   "outputs": [
    {
     "output_type": "execute_result",
     "data": {
      "text/plain": "Index(['calendar_day', 'sku', 'size', 'block', 'material_description', 'shape',\n       'strategy', 'steel_grade', 'length_text', 'work_center', 'ph',\n       'IN_tons', 'SO_order_qty_sales_units', 'SH_shipment_tons', 'PR_ton'],\n      dtype='object')"
     },
     "metadata": {},
     "execution_count": 6
    }
   ],
   "source": [
    "merged_df.columns"
   ]
  },
  {
   "cell_type": "code",
   "execution_count": 17,
   "metadata": {},
   "outputs": [],
   "source": [
    "#adding other time columns for aggregating analysis\n",
    "merged_df['year'] = pd.DatetimeIndex(merged_df['calendar_day']).year\n",
    "merged_df['month'] = pd.DatetimeIndex(merged_df['calendar_day']).month\n",
    "merged_df['week'] = pd.DatetimeIndex(merged_df['calendar_day']).week"
   ]
  },
  {
   "cell_type": "code",
   "execution_count": 29,
   "metadata": {},
   "outputs": [],
   "source": [
    "#reorganizing column order\n",
    "merged_df = merged_df[['calendar_day','year', 'month', 'week',\n",
    "       'block', 'size', 'sku', 'material_description', 'shape',\n",
    "       'strategy', 'steel_grade', 'length_text', 'work_center', 'ph',\n",
    "       'IN_tons', 'SO_order_qty_sales_units', 'SH_shipment_tons', 'PR_ton']]"
   ]
  },
  {
   "cell_type": "code",
   "execution_count": 30,
   "metadata": {},
   "outputs": [
    {
     "output_type": "execute_result",
     "data": {
      "text/plain": "Index(['calendar_day', 'year', 'month', 'week', 'block', 'size', 'sku',\n       'material_description', 'shape', 'strategy', 'steel_grade',\n       'length_text', 'work_center', 'ph', 'IN_tons',\n       'SO_order_qty_sales_units', 'SH_shipment_tons', 'PR_ton'],\n      dtype='object')"
     },
     "metadata": {},
     "execution_count": 30
    }
   ],
   "source": [
    "merged_df.columns"
   ]
  },
  {
   "cell_type": "code",
   "execution_count": 31,
   "metadata": {},
   "outputs": [
    {
     "output_type": "stream",
     "name": "stdout",
     "text": "<class 'pandas.core.frame.DataFrame'>\nMultiIndex: 15767 entries, (2016, 1, '#7 REB') to (2020, 51, '8\" CHN')\nData columns (total 5 columns):\n #   Column                    Non-Null Count  Dtype  \n---  ------                    --------------  -----  \n 0   month                     15767 non-null  int64  \n 1   IN_tons                   15767 non-null  float64\n 2   SO_order_qty_sales_units  15767 non-null  float64\n 3   SH_shipment_tons          15767 non-null  float64\n 4   PR_ton                    15767 non-null  float64\ndtypes: float64(4), int64(1)\nmemory usage: 663.6+ KB\n"
    }
   ],
   "source": [
    "merged_df.groupby(['year','week','block' ]).sum().info()"
   ]
  },
  {
   "cell_type": "markdown",
   "metadata": {},
   "source": [
    "## Structural vs. Bar"
   ]
  },
  {
   "cell_type": "code",
   "execution_count": 32,
   "metadata": {},
   "outputs": [],
   "source": [
    "#converting work_center column to string\n",
    "#Structural = 25000001\n",
    "#Bar = 25000002\n",
    "merged_df['work_center'] = merged_df['work_center'].fillna(0).astype(int).astype(str)"
   ]
  },
  {
   "cell_type": "code",
   "execution_count": 33,
   "metadata": {},
   "outputs": [],
   "source": [
    "#structural df\n",
    "structural = merged_df[merged_df['work_center']==\"25000001\"] "
   ]
  },
  {
   "cell_type": "markdown",
   "metadata": {},
   "source": [
    "### Structual "
   ]
  },
  {
   "cell_type": "code",
   "execution_count": 35,
   "metadata": {},
   "outputs": [
    {
     "output_type": "execute_result",
     "data": {
      "text/plain": "year                        355024.0\nmonth                          954.0\nweek                          3926.0\nIN_tons                          0.0\nSO_order_qty_sales_units       136.5\nSH_shipment_tons                33.0\nPR_ton                          28.0\ndtype: float64"
     },
     "metadata": {},
     "execution_count": 35
    }
   ],
   "source": [
    "# look at block level\n",
    "structural[structural[\"block\"].isna()].groupby('sku').sum().max()"
   ]
  },
  {
   "cell_type": "code",
   "execution_count": 36,
   "metadata": {},
   "outputs": [
    {
     "output_type": "execute_result",
     "data": {
      "text/plain": "year                        1691259.0\nmonth                          5403.0\nweek                          21938.0\nIN_tons                           0.0\nSO_order_qty_sales_units        136.5\nSH_shipment_tons                 33.0\nPR_ton                           28.0\ndtype: float64"
     },
     "metadata": {},
     "execution_count": 36
    }
   ],
   "source": [
    "#look at the size level\n",
    "structural[structural[\"size\"].isna()].groupby('sku').sum().max()"
   ]
  },
  {
   "cell_type": "code",
   "execution_count": 37,
   "metadata": {},
   "outputs": [
    {
     "output_type": "execute_result",
     "data": {
      "text/plain": "                              year  month  week  IN_tons  \\\ncalendar_day size                                          \n2016-01-02   3/4 X 5          2016      1    53     0.00   \n             5X5X5/8          2016      1    53     0.00   \n2016-01-03   1 X 1 3/4        2016      1    53     0.00   \n             1 X 10           2016      1    53    10.20   \n             1 X 12           2016      1    53     2.04   \n...                            ...    ...   ...      ...   \n2020-09-11   3 1/2X3 1/2X3/8  2020      9    37     0.00   \n2020-11-10   1/2 X 9          2020     11    46     0.00   \n             3/8 X 9          2020     11    46     0.00   \n2020-12-15   1 X 10           2020     12    51     0.00   \n             8 X 18.75#       2020     12    51     0.00   \n\n                              SO_order_qty_sales_units  SH_shipment_tons  \\\ncalendar_day size                                                          \n2016-01-02   3/4 X 5                            3.0600               0.0   \n             5X5X5/8                           39.0000               0.0   \n2016-01-03   1 X 1 3/4                          4.9385               0.0   \n             1 X 10                             0.0000               0.0   \n             1 X 12                             0.0000               0.0   \n...                                                ...               ...   \n2020-09-11   3 1/2X3 1/2X3/8                   45.9000               0.0   \n2020-11-10   1/2 X 9                            4.2840               0.0   \n             3/8 X 9                            2.1810               0.0   \n2020-12-15   1 X 10                             2.0400               0.0   \n             8 X 18.75#                         4.5000               0.0   \n\n                              PR_ton  \ncalendar_day size                     \n2016-01-02   3/4 X 5             0.0  \n             5X5X5/8             0.0  \n2016-01-03   1 X 1 3/4           0.0  \n             1 X 10              0.0  \n             1 X 12              0.0  \n...                              ...  \n2020-09-11   3 1/2X3 1/2X3/8     0.0  \n2020-11-10   1/2 X 9             0.0  \n             3/8 X 9             0.0  \n2020-12-15   1 X 10              0.0  \n             8 X 18.75#          0.0  \n\n[168774 rows x 7 columns]",
      "text/html": "<div>\n<style scoped>\n    .dataframe tbody tr th:only-of-type {\n        vertical-align: middle;\n    }\n\n    .dataframe tbody tr th {\n        vertical-align: top;\n    }\n\n    .dataframe thead th {\n        text-align: right;\n    }\n</style>\n<table border=\"1\" class=\"dataframe\">\n  <thead>\n    <tr style=\"text-align: right;\">\n      <th></th>\n      <th></th>\n      <th>year</th>\n      <th>month</th>\n      <th>week</th>\n      <th>IN_tons</th>\n      <th>SO_order_qty_sales_units</th>\n      <th>SH_shipment_tons</th>\n      <th>PR_ton</th>\n    </tr>\n    <tr>\n      <th>calendar_day</th>\n      <th>size</th>\n      <th></th>\n      <th></th>\n      <th></th>\n      <th></th>\n      <th></th>\n      <th></th>\n      <th></th>\n    </tr>\n  </thead>\n  <tbody>\n    <tr>\n      <th rowspan=\"2\" valign=\"top\">2016-01-02</th>\n      <th>3/4 X 5</th>\n      <td>2016</td>\n      <td>1</td>\n      <td>53</td>\n      <td>0.00</td>\n      <td>3.0600</td>\n      <td>0.0</td>\n      <td>0.0</td>\n    </tr>\n    <tr>\n      <th>5X5X5/8</th>\n      <td>2016</td>\n      <td>1</td>\n      <td>53</td>\n      <td>0.00</td>\n      <td>39.0000</td>\n      <td>0.0</td>\n      <td>0.0</td>\n    </tr>\n    <tr>\n      <th rowspan=\"3\" valign=\"top\">2016-01-03</th>\n      <th>1 X 1 3/4</th>\n      <td>2016</td>\n      <td>1</td>\n      <td>53</td>\n      <td>0.00</td>\n      <td>4.9385</td>\n      <td>0.0</td>\n      <td>0.0</td>\n    </tr>\n    <tr>\n      <th>1 X 10</th>\n      <td>2016</td>\n      <td>1</td>\n      <td>53</td>\n      <td>10.20</td>\n      <td>0.0000</td>\n      <td>0.0</td>\n      <td>0.0</td>\n    </tr>\n    <tr>\n      <th>1 X 12</th>\n      <td>2016</td>\n      <td>1</td>\n      <td>53</td>\n      <td>2.04</td>\n      <td>0.0000</td>\n      <td>0.0</td>\n      <td>0.0</td>\n    </tr>\n    <tr>\n      <th>...</th>\n      <th>...</th>\n      <td>...</td>\n      <td>...</td>\n      <td>...</td>\n      <td>...</td>\n      <td>...</td>\n      <td>...</td>\n      <td>...</td>\n    </tr>\n    <tr>\n      <th>2020-09-11</th>\n      <th>3 1/2X3 1/2X3/8</th>\n      <td>2020</td>\n      <td>9</td>\n      <td>37</td>\n      <td>0.00</td>\n      <td>45.9000</td>\n      <td>0.0</td>\n      <td>0.0</td>\n    </tr>\n    <tr>\n      <th rowspan=\"2\" valign=\"top\">2020-11-10</th>\n      <th>1/2 X 9</th>\n      <td>2020</td>\n      <td>11</td>\n      <td>46</td>\n      <td>0.00</td>\n      <td>4.2840</td>\n      <td>0.0</td>\n      <td>0.0</td>\n    </tr>\n    <tr>\n      <th>3/8 X 9</th>\n      <td>2020</td>\n      <td>11</td>\n      <td>46</td>\n      <td>0.00</td>\n      <td>2.1810</td>\n      <td>0.0</td>\n      <td>0.0</td>\n    </tr>\n    <tr>\n      <th rowspan=\"2\" valign=\"top\">2020-12-15</th>\n      <th>1 X 10</th>\n      <td>2020</td>\n      <td>12</td>\n      <td>51</td>\n      <td>0.00</td>\n      <td>2.0400</td>\n      <td>0.0</td>\n      <td>0.0</td>\n    </tr>\n    <tr>\n      <th>8 X 18.75#</th>\n      <td>2020</td>\n      <td>12</td>\n      <td>51</td>\n      <td>0.00</td>\n      <td>4.5000</td>\n      <td>0.0</td>\n      <td>0.0</td>\n    </tr>\n  </tbody>\n</table>\n<p>168774 rows × 7 columns</p>\n</div>"
     },
     "metadata": {},
     "execution_count": 37
    }
   ],
   "source": [
    "#preview of structural by size\n",
    "structural.groupby(['calendar_day','size']).sum()"
   ]
  },
  {
   "cell_type": "code",
   "execution_count": 38,
   "metadata": {},
   "outputs": [
    {
     "output_type": "execute_result",
     "data": {
      "text/plain": "                           year  month  week  IN_tons  \\\ncalendar_day block                                      \n2016-01-02   5\" ANG        2016      1    53      0.0   \n             5\" FLT        2016      1    53      0.0   \n2016-01-03   1\" FLT        2016      1    53      0.0   \n             1\" SB FLT     6048      3   159      0.0   \n             1-2\" LRG FLT  2016      1    53      0.0   \n...                         ...    ...   ...      ...   \n2020-09-08   7\" FLT        2020      9    37      0.0   \n2020-09-11   3-1/2\" ANG    2020      9    37      0.0   \n2020-11-10   9\" FLT        4040     22    92      0.0   \n2020-12-15   10\" FLT       2020     12    51      0.0   \n             8\" CHN        2020     12    51      0.0   \n\n                           SO_order_qty_sales_units  SH_shipment_tons  PR_ton  \ncalendar_day block                                                             \n2016-01-02   5\" ANG                         39.0000               0.0     0.0  \n             5\" FLT                          3.0600               0.0     0.0  \n2016-01-03   1\" FLT                         10.0980               0.0     0.0  \n             1\" SB FLT                      22.5600               0.0     0.0  \n             1-2\" LRG FLT                    4.9385               0.0     0.0  \n...                                             ...               ...     ...  \n2020-09-08   7\" FLT                         14.2800               0.0     0.0  \n2020-09-11   3-1/2\" ANG                     45.9000               0.0     0.0  \n2020-11-10   9\" FLT                          6.4650               0.0     0.0  \n2020-12-15   10\" FLT                         2.0400               0.0     0.0  \n             8\" CHN                          4.5000               0.0     0.0  \n\n[54362 rows x 7 columns]",
      "text/html": "<div>\n<style scoped>\n    .dataframe tbody tr th:only-of-type {\n        vertical-align: middle;\n    }\n\n    .dataframe tbody tr th {\n        vertical-align: top;\n    }\n\n    .dataframe thead th {\n        text-align: right;\n    }\n</style>\n<table border=\"1\" class=\"dataframe\">\n  <thead>\n    <tr style=\"text-align: right;\">\n      <th></th>\n      <th></th>\n      <th>year</th>\n      <th>month</th>\n      <th>week</th>\n      <th>IN_tons</th>\n      <th>SO_order_qty_sales_units</th>\n      <th>SH_shipment_tons</th>\n      <th>PR_ton</th>\n    </tr>\n    <tr>\n      <th>calendar_day</th>\n      <th>block</th>\n      <th></th>\n      <th></th>\n      <th></th>\n      <th></th>\n      <th></th>\n      <th></th>\n      <th></th>\n    </tr>\n  </thead>\n  <tbody>\n    <tr>\n      <th rowspan=\"2\" valign=\"top\">2016-01-02</th>\n      <th>5\" ANG</th>\n      <td>2016</td>\n      <td>1</td>\n      <td>53</td>\n      <td>0.0</td>\n      <td>39.0000</td>\n      <td>0.0</td>\n      <td>0.0</td>\n    </tr>\n    <tr>\n      <th>5\" FLT</th>\n      <td>2016</td>\n      <td>1</td>\n      <td>53</td>\n      <td>0.0</td>\n      <td>3.0600</td>\n      <td>0.0</td>\n      <td>0.0</td>\n    </tr>\n    <tr>\n      <th rowspan=\"3\" valign=\"top\">2016-01-03</th>\n      <th>1\" FLT</th>\n      <td>2016</td>\n      <td>1</td>\n      <td>53</td>\n      <td>0.0</td>\n      <td>10.0980</td>\n      <td>0.0</td>\n      <td>0.0</td>\n    </tr>\n    <tr>\n      <th>1\" SB FLT</th>\n      <td>6048</td>\n      <td>3</td>\n      <td>159</td>\n      <td>0.0</td>\n      <td>22.5600</td>\n      <td>0.0</td>\n      <td>0.0</td>\n    </tr>\n    <tr>\n      <th>1-2\" LRG FLT</th>\n      <td>2016</td>\n      <td>1</td>\n      <td>53</td>\n      <td>0.0</td>\n      <td>4.9385</td>\n      <td>0.0</td>\n      <td>0.0</td>\n    </tr>\n    <tr>\n      <th>...</th>\n      <th>...</th>\n      <td>...</td>\n      <td>...</td>\n      <td>...</td>\n      <td>...</td>\n      <td>...</td>\n      <td>...</td>\n      <td>...</td>\n    </tr>\n    <tr>\n      <th>2020-09-08</th>\n      <th>7\" FLT</th>\n      <td>2020</td>\n      <td>9</td>\n      <td>37</td>\n      <td>0.0</td>\n      <td>14.2800</td>\n      <td>0.0</td>\n      <td>0.0</td>\n    </tr>\n    <tr>\n      <th>2020-09-11</th>\n      <th>3-1/2\" ANG</th>\n      <td>2020</td>\n      <td>9</td>\n      <td>37</td>\n      <td>0.0</td>\n      <td>45.9000</td>\n      <td>0.0</td>\n      <td>0.0</td>\n    </tr>\n    <tr>\n      <th>2020-11-10</th>\n      <th>9\" FLT</th>\n      <td>4040</td>\n      <td>22</td>\n      <td>92</td>\n      <td>0.0</td>\n      <td>6.4650</td>\n      <td>0.0</td>\n      <td>0.0</td>\n    </tr>\n    <tr>\n      <th rowspan=\"2\" valign=\"top\">2020-12-15</th>\n      <th>10\" FLT</th>\n      <td>2020</td>\n      <td>12</td>\n      <td>51</td>\n      <td>0.0</td>\n      <td>2.0400</td>\n      <td>0.0</td>\n      <td>0.0</td>\n    </tr>\n    <tr>\n      <th>8\" CHN</th>\n      <td>2020</td>\n      <td>12</td>\n      <td>51</td>\n      <td>0.0</td>\n      <td>4.5000</td>\n      <td>0.0</td>\n      <td>0.0</td>\n    </tr>\n  </tbody>\n</table>\n<p>54362 rows × 7 columns</p>\n</div>"
     },
     "metadata": {},
     "execution_count": 38
    }
   ],
   "source": [
    "#preview of structural by block\n",
    "structural.groupby(['calendar_day','block']).sum()"
   ]
  },
  {
   "cell_type": "code",
   "execution_count": 39,
   "metadata": {},
   "outputs": [],
   "source": [
    "#grouping structural material by block and size\n",
    "structural = structural.groupby(['calendar_day','block', 'size']).sum()\n",
    "structural = structural.reset_index()"
   ]
  },
  {
   "cell_type": "code",
   "execution_count": 40,
   "metadata": {},
   "outputs": [
    {
     "output_type": "execute_result",
     "data": {
      "text/plain": "  calendar_day      block          size  year  month  week  IN_tons  \\\n0   2016-01-02     5\" ANG       5X5X5/8  2016      1    53      0.0   \n1   2016-01-02     5\" FLT       3/4 X 5  2016      1    53      0.0   \n2   2016-01-03     1\" FLT       3/4 X 1  2016      1    53      0.0   \n3   2016-01-03  1\" SB FLT  3/16 X 1 1/2  2016      1    53      0.0   \n4   2016-01-03  1\" SB FLT   3/4 X 1 1/2  2016      1    53      0.0   \n\n   SO_order_qty_sales_units  SH_shipment_tons  PR_ton  \n0                    39.000               0.0     0.0  \n1                     3.060               0.0     0.0  \n2                    10.098               0.0     0.0  \n3                     2.447               0.0     0.0  \n4                     7.353               0.0     0.0  ",
      "text/html": "<div>\n<style scoped>\n    .dataframe tbody tr th:only-of-type {\n        vertical-align: middle;\n    }\n\n    .dataframe tbody tr th {\n        vertical-align: top;\n    }\n\n    .dataframe thead th {\n        text-align: right;\n    }\n</style>\n<table border=\"1\" class=\"dataframe\">\n  <thead>\n    <tr style=\"text-align: right;\">\n      <th></th>\n      <th>calendar_day</th>\n      <th>block</th>\n      <th>size</th>\n      <th>year</th>\n      <th>month</th>\n      <th>week</th>\n      <th>IN_tons</th>\n      <th>SO_order_qty_sales_units</th>\n      <th>SH_shipment_tons</th>\n      <th>PR_ton</th>\n    </tr>\n  </thead>\n  <tbody>\n    <tr>\n      <th>0</th>\n      <td>2016-01-02</td>\n      <td>5\" ANG</td>\n      <td>5X5X5/8</td>\n      <td>2016</td>\n      <td>1</td>\n      <td>53</td>\n      <td>0.0</td>\n      <td>39.000</td>\n      <td>0.0</td>\n      <td>0.0</td>\n    </tr>\n    <tr>\n      <th>1</th>\n      <td>2016-01-02</td>\n      <td>5\" FLT</td>\n      <td>3/4 X 5</td>\n      <td>2016</td>\n      <td>1</td>\n      <td>53</td>\n      <td>0.0</td>\n      <td>3.060</td>\n      <td>0.0</td>\n      <td>0.0</td>\n    </tr>\n    <tr>\n      <th>2</th>\n      <td>2016-01-03</td>\n      <td>1\" FLT</td>\n      <td>3/4 X 1</td>\n      <td>2016</td>\n      <td>1</td>\n      <td>53</td>\n      <td>0.0</td>\n      <td>10.098</td>\n      <td>0.0</td>\n      <td>0.0</td>\n    </tr>\n    <tr>\n      <th>3</th>\n      <td>2016-01-03</td>\n      <td>1\" SB FLT</td>\n      <td>3/16 X 1 1/2</td>\n      <td>2016</td>\n      <td>1</td>\n      <td>53</td>\n      <td>0.0</td>\n      <td>2.447</td>\n      <td>0.0</td>\n      <td>0.0</td>\n    </tr>\n    <tr>\n      <th>4</th>\n      <td>2016-01-03</td>\n      <td>1\" SB FLT</td>\n      <td>3/4 X 1 1/2</td>\n      <td>2016</td>\n      <td>1</td>\n      <td>53</td>\n      <td>0.0</td>\n      <td>7.353</td>\n      <td>0.0</td>\n      <td>0.0</td>\n    </tr>\n  </tbody>\n</table>\n</div>"
     },
     "metadata": {},
     "execution_count": 40
    }
   ],
   "source": [
    "structural.head()"
   ]
  },
  {
   "cell_type": "code",
   "execution_count": 43,
   "metadata": {},
   "outputs": [
    {
     "output_type": "execute_result",
     "data": {
      "text/plain": "Index(['calendar_day', 'block', 'size', 'year', 'month', 'week', 'IN_tons',\n       'SO_order_qty_sales_units', 'SH_shipment_tons', 'PR_ton'],\n      dtype='object')"
     },
     "metadata": {},
     "execution_count": 43
    }
   ],
   "source": [
    "structural.columns"
   ]
  },
  {
   "cell_type": "code",
   "execution_count": 44,
   "metadata": {},
   "outputs": [],
   "source": [
    "# rearranging order of columns df\n",
    "structural = structural[['calendar_day','year', 'month', 'week', 'block', 'size', 'IN_tons',\n",
    "       'SO_order_qty_sales_units', 'SH_shipment_tons', 'PR_ton']]"
   ]
  },
  {
   "cell_type": "code",
   "execution_count": 45,
   "metadata": {},
   "outputs": [
    {
     "output_type": "execute_result",
     "data": {
      "text/plain": "  calendar_day  year  month  week   block     size  IN_tons  \\\n0   2016-01-02  2016      1    53  5\" ANG  5X5X5/8      0.0   \n1   2016-01-02  2016      1    53  5\" FLT  3/4 X 5      0.0   \n\n   SO_order_qty_sales_units  SH_shipment_tons  PR_ton  \n0                     39.00               0.0     0.0  \n1                      3.06               0.0     0.0  ",
      "text/html": "<div>\n<style scoped>\n    .dataframe tbody tr th:only-of-type {\n        vertical-align: middle;\n    }\n\n    .dataframe tbody tr th {\n        vertical-align: top;\n    }\n\n    .dataframe thead th {\n        text-align: right;\n    }\n</style>\n<table border=\"1\" class=\"dataframe\">\n  <thead>\n    <tr style=\"text-align: right;\">\n      <th></th>\n      <th>calendar_day</th>\n      <th>year</th>\n      <th>month</th>\n      <th>week</th>\n      <th>block</th>\n      <th>size</th>\n      <th>IN_tons</th>\n      <th>SO_order_qty_sales_units</th>\n      <th>SH_shipment_tons</th>\n      <th>PR_ton</th>\n    </tr>\n  </thead>\n  <tbody>\n    <tr>\n      <th>0</th>\n      <td>2016-01-02</td>\n      <td>2016</td>\n      <td>1</td>\n      <td>53</td>\n      <td>5\" ANG</td>\n      <td>5X5X5/8</td>\n      <td>0.0</td>\n      <td>39.00</td>\n      <td>0.0</td>\n      <td>0.0</td>\n    </tr>\n    <tr>\n      <th>1</th>\n      <td>2016-01-02</td>\n      <td>2016</td>\n      <td>1</td>\n      <td>53</td>\n      <td>5\" FLT</td>\n      <td>3/4 X 5</td>\n      <td>0.0</td>\n      <td>3.06</td>\n      <td>0.0</td>\n      <td>0.0</td>\n    </tr>\n  </tbody>\n</table>\n</div>"
     },
     "metadata": {},
     "execution_count": 45
    }
   ],
   "source": [
    "structural.head(2)"
   ]
  },
  {
   "cell_type": "code",
   "execution_count": 47,
   "metadata": {},
   "outputs": [
    {
     "output_type": "execute_result",
     "data": {
      "text/plain": "(169642, 10)"
     },
     "metadata": {},
     "execution_count": 47
    }
   ],
   "source": [
    "structural.shape"
   ]
  },
  {
   "cell_type": "markdown",
   "metadata": {},
   "source": [
    "## Bar"
   ]
  },
  {
   "cell_type": "code",
   "execution_count": 34,
   "metadata": {},
   "outputs": [],
   "source": [
    "#bar df\n",
    "bar = merged_df[merged_df['work_center']==\"25000002\"] "
   ]
  },
  {
   "cell_type": "code",
   "execution_count": 50,
   "metadata": {},
   "outputs": [],
   "source": [
    "#group by calendar, block & size\n",
    "bar = bar.groupby(['calendar_day', 'block', 'size']).sum()\n",
    "bar = bar.reset_index()"
   ]
  },
  {
   "cell_type": "code",
   "execution_count": 52,
   "metadata": {},
   "outputs": [],
   "source": [
    "#reorganize order of columns\n",
    "bar = bar[['calendar_day','year', 'month', 'week', 'block', 'size', 'IN_tons',\n",
    "       'SO_order_qty_sales_units', 'SH_shipment_tons', 'PR_ton']]"
   ]
  },
  {
   "cell_type": "code",
   "execution_count": 54,
   "metadata": {},
   "outputs": [
    {
     "output_type": "execute_result",
     "data": {
      "text/plain": "(81174, 10)"
     },
     "metadata": {},
     "execution_count": 54
    }
   ],
   "source": [
    "bar.shape"
   ]
  },
  {
   "cell_type": "code",
   "execution_count": 53,
   "metadata": {},
   "outputs": [
    {
     "output_type": "execute_result",
     "data": {
      "text/plain": "  calendar_day  year  month  week       block              size  IN_tons  \\\n0   2016-01-01  2016      1    53  2-1/2\" ANG  2 1/2X2 1/2X5/16      0.0   \n1   2016-01-02  2016      1    53      3\" ANG           3X3X1/4      0.0   \n\n   SO_order_qty_sales_units  SH_shipment_tons  PR_ton  \n0                    315.00               0.0     0.0  \n1                     12.74               0.0     0.0  ",
      "text/html": "<div>\n<style scoped>\n    .dataframe tbody tr th:only-of-type {\n        vertical-align: middle;\n    }\n\n    .dataframe tbody tr th {\n        vertical-align: top;\n    }\n\n    .dataframe thead th {\n        text-align: right;\n    }\n</style>\n<table border=\"1\" class=\"dataframe\">\n  <thead>\n    <tr style=\"text-align: right;\">\n      <th></th>\n      <th>calendar_day</th>\n      <th>year</th>\n      <th>month</th>\n      <th>week</th>\n      <th>block</th>\n      <th>size</th>\n      <th>IN_tons</th>\n      <th>SO_order_qty_sales_units</th>\n      <th>SH_shipment_tons</th>\n      <th>PR_ton</th>\n    </tr>\n  </thead>\n  <tbody>\n    <tr>\n      <th>0</th>\n      <td>2016-01-01</td>\n      <td>2016</td>\n      <td>1</td>\n      <td>53</td>\n      <td>2-1/2\" ANG</td>\n      <td>2 1/2X2 1/2X5/16</td>\n      <td>0.0</td>\n      <td>315.00</td>\n      <td>0.0</td>\n      <td>0.0</td>\n    </tr>\n    <tr>\n      <th>1</th>\n      <td>2016-01-02</td>\n      <td>2016</td>\n      <td>1</td>\n      <td>53</td>\n      <td>3\" ANG</td>\n      <td>3X3X1/4</td>\n      <td>0.0</td>\n      <td>12.74</td>\n      <td>0.0</td>\n      <td>0.0</td>\n    </tr>\n  </tbody>\n</table>\n</div>"
     },
     "metadata": {},
     "execution_count": 53
    }
   ],
   "source": [
    "bar.head(2)"
   ]
  },
  {
   "cell_type": "markdown",
   "metadata": {},
   "source": [
    "## Saving dataframes to CSV"
   ]
  },
  {
   "cell_type": "code",
   "execution_count": 58,
   "metadata": {},
   "outputs": [],
   "source": [
    "# Convert to csv for easy share - structural & bar df\n",
    "#structural.to_csv(merged_path + \"structural_merged.csv\")\n",
    "#bar.to_csv(merged_path + \"bar_merged.csv\")"
   ]
  }
 ],
 "metadata": {
  "language_info": {
   "codemirror_mode": {
    "name": "ipython",
    "version": 3
   },
   "file_extension": ".py",
   "mimetype": "text/x-python",
   "name": "python",
   "nbconvert_exporter": "python",
   "pygments_lexer": "ipython3",
   "version": "3.7.6-final"
  },
  "orig_nbformat": 2,
  "kernelspec": {
   "name": "python37664bitpftpipenv41a3325616004cea923f5375811f25e4",
   "display_name": "Python 3.7.6 64-bit ('pft': pipenv)"
  }
 },
 "nbformat": 4,
 "nbformat_minor": 2
}