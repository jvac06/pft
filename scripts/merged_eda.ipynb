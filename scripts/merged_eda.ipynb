{
 "cells": [
  {
   "cell_type": "markdown",
   "metadata": {},
   "source": [
    "# Exploring Merged File"
   ]
  },
  {
   "cell_type": "code",
   "execution_count": 36,
   "metadata": {},
   "outputs": [],
   "source": [
    "#Dependencies\n",
    "import os\n",
    "import numpy as np\n",
    "import pandas as pd\n",
    "import joblib\n",
    "import matplotlib.pyplot as plt\n",
    "import seaborn as sns\n",
    "import re\n",
    "import datetime as dt"
   ]
  },
  {
   "cell_type": "code",
   "execution_count": 37,
   "metadata": {},
   "outputs": [
    {
     "output_type": "execute_result",
     "data": {
      "text/plain": "'/Users/jacosta3/OneDrive - University of South Florida/Gerdau Projects/pft/datasets'"
     },
     "metadata": {},
     "execution_count": 37
    }
   ],
   "source": [
    "os.getcwd()"
   ]
  },
  {
   "cell_type": "code",
   "execution_count": 38,
   "metadata": {},
   "outputs": [],
   "source": [
    "#change path to datasets folder\n",
    "os.chdir(\"../datasets/\")\n",
    "#read merged.pkl\n",
    "merged_df = pd.read_pickle(\"./serialized/merged.pkl\")"
   ]
  },
  {
   "cell_type": "code",
   "execution_count": 39,
   "metadata": {},
   "outputs": [
    {
     "output_type": "stream",
     "name": "stdout",
     "text": "<class 'pandas.core.frame.DataFrame'>\nInt64Index: 814243 entries, 0 to 814242\nData columns (total 16 columns):\n #   Column                    Non-Null Count   Dtype         \n---  ------                    --------------   -----         \n 0   calendar_day              814243 non-null  datetime64[ns]\n 1   sku                       814243 non-null  object        \n 2   size                      811071 non-null  object        \n 3   block                     813827 non-null  object        \n 4   material_description      813086 non-null  object        \n 5   shape                     810269 non-null  object        \n 6   strategy                  805552 non-null  object        \n 7   steel_grade               810269 non-null  object        \n 8   length_text               808869 non-null  object        \n 9   work_center               814189 non-null  object        \n 10  ph                        813878 non-null  object        \n 11  IN_tons                   774593 non-null  float64       \n 12  SO_order_qty_sales_units  77225 non-null   float64       \n 13  SO_confirmed_qty          77225 non-null   float64       \n 14  SH_shipment_tons          89182 non-null   float64       \n 15  PR_ton                    9740 non-null    float64       \ndtypes: datetime64[ns](1), float64(5), object(10)\nmemory usage: 105.6+ MB\n"
    }
   ],
   "source": [
    "merged_df.info()"
   ]
  },
  {
   "cell_type": "code",
   "execution_count": 49,
   "metadata": {},
   "outputs": [
    {
     "output_type": "execute_result",
     "data": {
      "text/plain": "IN_tons                       88.806999\nSO_order_qty_sales_units    5964.320000\nSO_confirmed_qty            4097.900000\nSH_shipment_tons              95.000000\nPR_ton                        95.000000\ndtype: float64"
     },
     "metadata": {},
     "execution_count": 49
    }
   ],
   "source": [
    "# look at block level\n",
    "merged_df[merged_df[\"block\"].isna()].groupby('sku').sum().max()"
   ]
  },
  {
   "cell_type": "code",
   "execution_count": 50,
   "metadata": {},
   "outputs": [
    {
     "output_type": "execute_result",
     "data": {
      "text/plain": "IN_tons                       28.25\nSO_order_qty_sales_units    5964.32\nSO_confirmed_qty            4097.90\nSH_shipment_tons              95.00\nPR_ton                        95.00\ndtype: float64"
     },
     "metadata": {},
     "execution_count": 50
    }
   ],
   "source": [
    "#look at the size level\n",
    "merged_df[merged_df[\"size\"].isna()].groupby('sku').sum().max()"
   ]
  },
  {
   "cell_type": "code",
   "execution_count": null,
   "metadata": {},
   "outputs": [],
   "source": [
    "merged_df.groupby('calendar_day','block').sum()"
   ]
  },
  {
   "cell_type": "code",
   "execution_count": null,
   "metadata": {},
   "outputs": [],
   "source": [
    "#Convert to csv for easy share?\n",
    "#merged_df.to_pickle(ser_path + \"merged.pkl\")"
   ]
  }
 ],
 "metadata": {
  "language_info": {
   "codemirror_mode": {
    "name": "ipython",
    "version": 3
   },
   "file_extension": ".py",
   "mimetype": "text/x-python",
   "name": "python",
   "nbconvert_exporter": "python",
   "pygments_lexer": "ipython3",
   "version": "3.7.6-final"
  },
  "orig_nbformat": 2,
  "kernelspec": {
   "name": "python37664bitpftpipenv41a3325616004cea923f5375811f25e4",
   "display_name": "Python 3.7.6 64-bit ('pft': pipenv)"
  }
 },
 "nbformat": 4,
 "nbformat_minor": 2
}