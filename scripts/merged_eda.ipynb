{
 "cells": [
  {
   "cell_type": "markdown",
   "metadata": {},
   "source": [
    "# Exploring Merged File"
   ]
  },
  {
   "cell_type": "code",
   "execution_count": 2,
   "metadata": {},
   "outputs": [],
   "source": [
    "#Dependencies\n",
    "import os\n",
    "import numpy as np\n",
    "import pandas as pd\n",
    "import joblib\n",
    "import matplotlib.pyplot as plt\n",
    "import seaborn as sns\n",
    "import re\n",
    "import datetime as dt"
   ]
  },
  {
   "cell_type": "code",
   "execution_count": 28,
   "metadata": {},
   "outputs": [],
   "source": [
    "path = os.getcwd()\n",
    "#change path to datasets folder\n",
    "os.chdir(\"../datasets/\")\n",
    "#read merged.pkl\n",
    "merged_df = pd.read_pickle(\"./serialized/merged.pkl\")"
   ]
  },
  {
   "cell_type": "code",
   "execution_count": 29,
   "metadata": {},
   "outputs": [
    {
     "output_type": "stream",
     "name": "stdout",
     "text": "<class 'pandas.core.frame.DataFrame'>\nInt64Index: 814243 entries, 0 to 814242\nData columns (total 16 columns):\n #   Column                    Non-Null Count   Dtype         \n---  ------                    --------------   -----         \n 0   calendar_day              814243 non-null  datetime64[ns]\n 1   sku                       814243 non-null  object        \n 2   size                      811071 non-null  object        \n 3   block                     807619 non-null  object        \n 4   ph                        813878 non-null  object        \n 5   IN_material_description   774593 non-null  object        \n 6   IN_material_type          774593 non-null  object        \n 7   IN_strategy               767339 non-null  category      \n 8   IN_shape                  771786 non-null  object        \n 9   IN_steel_grade            771786 non-null  object        \n 10  IN_length_text            769268 non-null  object        \n 11  IN_tons                   774593 non-null  float64       \n 12  SO_order_qty_sales_units  77225 non-null   float64       \n 13  SO_confirmed_qty          77225 non-null   float64       \n 14  SH_shipment_tons          89182 non-null   float64       \n 15  PR_ton                    9740 non-null    float64       \ndtypes: category(1), datetime64[ns](1), float64(5), object(9)\nmemory usage: 100.2+ MB\n"
    }
   ],
   "source": [
    "merged_df.info()"
   ]
  },
  {
   "cell_type": "code",
   "execution_count": 160,
   "metadata": {},
   "outputs": [
    {
     "output_type": "execute_result",
     "data": {
      "text/plain": "       calendar_day        sku     size   block                           ph  \\\n308      2016-01-03  109004183  5/8 X 6  6\" FLT  LS-Mills-Mer-Mer-MBQ-MBQ Fl   \n316      2016-01-03  109004293  3/8 X 6  6\" FLT  LS-Mills-Mer-Mer-MBQ-MBQ Fl   \n333      2016-01-03  109008152  3/8 X 6  6\" FLT  LS-Mills-Mer-Mer-MBQ-MBQ Fl   \n341      2016-01-03  109008525  5/8 X 6  6\" FLT  LS-Mills-Mer-Mer-MBQ-MBQ Fl   \n688      2016-01-04  109004183  5/8 X 6  6\" FLT  LS-Mills-Mer-Mer-MBQ-MBQ Fl   \n...             ...        ...      ...     ...                          ...   \n813599   2018-12-10  109008497  5/8 X 6  6\" FLT  LS-Mills-Mer-Mer-MBQ-MBQ Fl   \n813600   2018-12-10  109009166  5/8 X 6  6\" FLT  LS-Mills-Mer-Mer-MBQ-MBQ Fl   \n813602   2018-12-11  109008129  3/8 X 6  6\" FLT  LS-Mills-Mer-Mer-MBQ-MBQ Fl   \n813603   2018-12-11  109008151  3/8 X 6  6\" FLT  LS-Mills-Mer-Mer-MBQ-MBQ Fl   \n813606   2018-12-11  109300190  3/8 X 6  6\" FLT  LS-Mills-Mer-Mer-MBQ-MBQ Fl   \n\n               IN_material_description IN_material_type IN_strategy IN_shape  \\\n308     F 5/8X6 A36/44W/A572-50 20'00\"             ZERT         MTO     FLAT   \n316                 F 3/8X6 50W 20'00\"             ZERT         MTO     FLAT   \n333             F 3/8X6 GGMULTI 20'00\"             ZERT         MTS     FLAT   \n341             F 5/8X6 GGMULTI 20'00\"             ZERT         MTS     FLAT   \n688     F 5/8X6 A36/44W/A572-50 20'00\"             ZERT         MTO     FLAT   \n...                                ...              ...         ...      ...   \n813599                             NaN              NaN         NaN      NaN   \n813600                             NaN              NaN         NaN      NaN   \n813602                             NaN              NaN         NaN      NaN   \n813603                             NaN              NaN         NaN      NaN   \n813606                             NaN              NaN         NaN      NaN   \n\n         IN_steel_grade IN_length_text  IN_tons  SO_order_qty_sales_units  \\\n308     A36/44W/A572-50         20'00\"    0.003                       NaN   \n316                 50W         20'00\"    0.002                       NaN   \n333             GGMULTI         20'00\"  326.468                       NaN   \n341             GGMULTI         20'00\"   28.435                       NaN   \n688     A36/44W/A572-50         20'00\"    0.003                       NaN   \n...                 ...            ...      ...                       ...   \n813599              NaN            NaN      NaN                       NaN   \n813600              NaN            NaN      NaN                       NaN   \n813602              NaN            NaN      NaN                       NaN   \n813603              NaN            NaN      NaN                       NaN   \n813606              NaN            NaN      NaN                       NaN   \n\n        SO_confirmed_qty  SH_shipment_tons  PR_ton  \n308                  NaN               NaN     NaN  \n316                  NaN               NaN     NaN  \n333                  NaN               NaN     NaN  \n341                  NaN               NaN     NaN  \n688                  NaN               NaN     NaN  \n...                  ...               ...     ...  \n813599               NaN               NaN    45.0  \n813600               NaN               NaN    91.0  \n813602               NaN               NaN    62.0  \n813603               NaN               NaN    59.0  \n813606               NaN               NaN    79.0  \n\n[7196 rows x 16 columns]",
      "text/html": "<div>\n<style scoped>\n    .dataframe tbody tr th:only-of-type {\n        vertical-align: middle;\n    }\n\n    .dataframe tbody tr th {\n        vertical-align: top;\n    }\n\n    .dataframe thead th {\n        text-align: right;\n    }\n</style>\n<table border=\"1\" class=\"dataframe\">\n  <thead>\n    <tr style=\"text-align: right;\">\n      <th></th>\n      <th>calendar_day</th>\n      <th>sku</th>\n      <th>size</th>\n      <th>block</th>\n      <th>ph</th>\n      <th>IN_material_description</th>\n      <th>IN_material_type</th>\n      <th>IN_strategy</th>\n      <th>IN_shape</th>\n      <th>IN_steel_grade</th>\n      <th>IN_length_text</th>\n      <th>IN_tons</th>\n      <th>SO_order_qty_sales_units</th>\n      <th>SO_confirmed_qty</th>\n      <th>SH_shipment_tons</th>\n      <th>PR_ton</th>\n    </tr>\n  </thead>\n  <tbody>\n    <tr>\n      <th>308</th>\n      <td>2016-01-03</td>\n      <td>109004183</td>\n      <td>5/8 X 6</td>\n      <td>6\" FLT</td>\n      <td>LS-Mills-Mer-Mer-MBQ-MBQ Fl</td>\n      <td>F 5/8X6 A36/44W/A572-50 20'00\"</td>\n      <td>ZERT</td>\n      <td>MTO</td>\n      <td>FLAT</td>\n      <td>A36/44W/A572-50</td>\n      <td>20'00\"</td>\n      <td>0.003</td>\n      <td>NaN</td>\n      <td>NaN</td>\n      <td>NaN</td>\n      <td>NaN</td>\n    </tr>\n    <tr>\n      <th>316</th>\n      <td>2016-01-03</td>\n      <td>109004293</td>\n      <td>3/8 X 6</td>\n      <td>6\" FLT</td>\n      <td>LS-Mills-Mer-Mer-MBQ-MBQ Fl</td>\n      <td>F 3/8X6 50W 20'00\"</td>\n      <td>ZERT</td>\n      <td>MTO</td>\n      <td>FLAT</td>\n      <td>50W</td>\n      <td>20'00\"</td>\n      <td>0.002</td>\n      <td>NaN</td>\n      <td>NaN</td>\n      <td>NaN</td>\n      <td>NaN</td>\n    </tr>\n    <tr>\n      <th>333</th>\n      <td>2016-01-03</td>\n      <td>109008152</td>\n      <td>3/8 X 6</td>\n      <td>6\" FLT</td>\n      <td>LS-Mills-Mer-Mer-MBQ-MBQ Fl</td>\n      <td>F 3/8X6 GGMULTI 20'00\"</td>\n      <td>ZERT</td>\n      <td>MTS</td>\n      <td>FLAT</td>\n      <td>GGMULTI</td>\n      <td>20'00\"</td>\n      <td>326.468</td>\n      <td>NaN</td>\n      <td>NaN</td>\n      <td>NaN</td>\n      <td>NaN</td>\n    </tr>\n    <tr>\n      <th>341</th>\n      <td>2016-01-03</td>\n      <td>109008525</td>\n      <td>5/8 X 6</td>\n      <td>6\" FLT</td>\n      <td>LS-Mills-Mer-Mer-MBQ-MBQ Fl</td>\n      <td>F 5/8X6 GGMULTI 20'00\"</td>\n      <td>ZERT</td>\n      <td>MTS</td>\n      <td>FLAT</td>\n      <td>GGMULTI</td>\n      <td>20'00\"</td>\n      <td>28.435</td>\n      <td>NaN</td>\n      <td>NaN</td>\n      <td>NaN</td>\n      <td>NaN</td>\n    </tr>\n    <tr>\n      <th>688</th>\n      <td>2016-01-04</td>\n      <td>109004183</td>\n      <td>5/8 X 6</td>\n      <td>6\" FLT</td>\n      <td>LS-Mills-Mer-Mer-MBQ-MBQ Fl</td>\n      <td>F 5/8X6 A36/44W/A572-50 20'00\"</td>\n      <td>ZERT</td>\n      <td>MTO</td>\n      <td>FLAT</td>\n      <td>A36/44W/A572-50</td>\n      <td>20'00\"</td>\n      <td>0.003</td>\n      <td>NaN</td>\n      <td>NaN</td>\n      <td>NaN</td>\n      <td>NaN</td>\n    </tr>\n    <tr>\n      <th>...</th>\n      <td>...</td>\n      <td>...</td>\n      <td>...</td>\n      <td>...</td>\n      <td>...</td>\n      <td>...</td>\n      <td>...</td>\n      <td>...</td>\n      <td>...</td>\n      <td>...</td>\n      <td>...</td>\n      <td>...</td>\n      <td>...</td>\n      <td>...</td>\n      <td>...</td>\n      <td>...</td>\n    </tr>\n    <tr>\n      <th>813599</th>\n      <td>2018-12-10</td>\n      <td>109008497</td>\n      <td>5/8 X 6</td>\n      <td>6\" FLT</td>\n      <td>LS-Mills-Mer-Mer-MBQ-MBQ Fl</td>\n      <td>NaN</td>\n      <td>NaN</td>\n      <td>NaN</td>\n      <td>NaN</td>\n      <td>NaN</td>\n      <td>NaN</td>\n      <td>NaN</td>\n      <td>NaN</td>\n      <td>NaN</td>\n      <td>NaN</td>\n      <td>45.0</td>\n    </tr>\n    <tr>\n      <th>813600</th>\n      <td>2018-12-10</td>\n      <td>109009166</td>\n      <td>5/8 X 6</td>\n      <td>6\" FLT</td>\n      <td>LS-Mills-Mer-Mer-MBQ-MBQ Fl</td>\n      <td>NaN</td>\n      <td>NaN</td>\n      <td>NaN</td>\n      <td>NaN</td>\n      <td>NaN</td>\n      <td>NaN</td>\n      <td>NaN</td>\n      <td>NaN</td>\n      <td>NaN</td>\n      <td>NaN</td>\n      <td>91.0</td>\n    </tr>\n    <tr>\n      <th>813602</th>\n      <td>2018-12-11</td>\n      <td>109008129</td>\n      <td>3/8 X 6</td>\n      <td>6\" FLT</td>\n      <td>LS-Mills-Mer-Mer-MBQ-MBQ Fl</td>\n      <td>NaN</td>\n      <td>NaN</td>\n      <td>NaN</td>\n      <td>NaN</td>\n      <td>NaN</td>\n      <td>NaN</td>\n      <td>NaN</td>\n      <td>NaN</td>\n      <td>NaN</td>\n      <td>NaN</td>\n      <td>62.0</td>\n    </tr>\n    <tr>\n      <th>813603</th>\n      <td>2018-12-11</td>\n      <td>109008151</td>\n      <td>3/8 X 6</td>\n      <td>6\" FLT</td>\n      <td>LS-Mills-Mer-Mer-MBQ-MBQ Fl</td>\n      <td>NaN</td>\n      <td>NaN</td>\n      <td>NaN</td>\n      <td>NaN</td>\n      <td>NaN</td>\n      <td>NaN</td>\n      <td>NaN</td>\n      <td>NaN</td>\n      <td>NaN</td>\n      <td>NaN</td>\n      <td>59.0</td>\n    </tr>\n    <tr>\n      <th>813606</th>\n      <td>2018-12-11</td>\n      <td>109300190</td>\n      <td>3/8 X 6</td>\n      <td>6\" FLT</td>\n      <td>LS-Mills-Mer-Mer-MBQ-MBQ Fl</td>\n      <td>NaN</td>\n      <td>NaN</td>\n      <td>NaN</td>\n      <td>NaN</td>\n      <td>NaN</td>\n      <td>NaN</td>\n      <td>NaN</td>\n      <td>NaN</td>\n      <td>NaN</td>\n      <td>NaN</td>\n      <td>79.0</td>\n    </tr>\n  </tbody>\n</table>\n<p>7196 rows × 16 columns</p>\n</div>"
     },
     "metadata": {},
     "execution_count": 160
    }
   ],
   "source": [
    "merged_df[merged_df[\"size\"].str.contains(\"8 X 6\",na=False)]"
   ]
  },
  {
   "cell_type": "code",
   "execution_count": 154,
   "metadata": {},
   "outputs": [
    {
     "output_type": "execute_result",
     "data": {
      "text/plain": "3 1/2X2 1/2X1/4     4601\n3 1/2X2 1/2X3/8     3142\n3 1/2X2 1/2X5/16    2251\n3 1/2X2 1/2X1/2     1988\nName: size, dtype: int64"
     },
     "metadata": {},
     "execution_count": 154
    }
   ],
   "source": [
    "merged_df[merged_df[\"block\"]=='3-1/2X2-1/2\"ANG'][\"size\"].value_counts()"
   ]
  },
  {
   "cell_type": "code",
   "execution_count": 143,
   "metadata": {},
   "outputs": [
    {
     "output_type": "execute_result",
     "data": {
      "text/plain": "#5 (16MM)     612\n.678\"         173\n9/16\"          17\n3/16 X 3/4     12\n15/16\"          6\nName: size, dtype: int64"
     },
     "metadata": {},
     "execution_count": 143
    }
   ],
   "source": [
    "merged_df[merged_df[\"block\"].str.contains('16', na=False)][\"size\"].value_counts()"
   ]
  },
  {
   "cell_type": "code",
   "execution_count": 33,
   "metadata": {},
   "outputs": [
    {
     "output_type": "execute_result",
     "data": {
      "text/plain": "IN_tons                     632198.865803\nSO_order_qty_sales_units     43562.941500\nSO_confirmed_qty             43283.739500\nSH_shipment_tons             47590.000000\nPR_ton                       45707.000000\ndtype: float64"
     },
     "metadata": {},
     "execution_count": 33
    }
   ],
   "source": [
    "# look at block level\n",
    "merged_df[merged_df[\"block\"].isna()].groupby('sku').sum().max()"
   ]
  },
  {
   "cell_type": "code",
   "execution_count": 35,
   "metadata": {},
   "outputs": [
    {
     "output_type": "execute_result",
     "data": {
      "text/plain": "IN_tons                       28.25\nSO_order_qty_sales_units    5964.32\nSO_confirmed_qty            4097.90\nSH_shipment_tons              95.00\nPR_ton                        95.00\ndtype: float64"
     },
     "metadata": {},
     "execution_count": 35
    }
   ],
   "source": [
    "#look at the size level\n",
    "merged_df[merged_df[\"size\"].isna()].groupby('sku').sum().max()"
   ]
  },
  {
   "cell_type": "code",
   "execution_count": 36,
   "metadata": {},
   "outputs": [
    {
     "output_type": "execute_result",
     "data": {
      "text/plain": "       calendar_day        sku size       block  \\\n89       2016-01-03  106022528  NaN  2-1/2\" ANG   \n469      2016-01-04  106022528  NaN  2-1/2\" ANG   \n849      2016-01-05  106022528  NaN  2-1/2\" ANG   \n1230     2016-01-06  106022528  NaN  2-1/2\" ANG   \n1614     2016-01-07  106022528  NaN  2-1/2\" ANG   \n...             ...        ...  ...         ...   \n811463   2020-02-19  106022561  NaN         NaN   \n811531   2020-02-21  110001842  NaN         NaN   \n812210   2016-11-21  106028263  NaN         NaN   \n813984   2019-08-01  106030348  NaN         NaN   \n814054   2019-09-23  102300129  NaN         NaN   \n\n                                          ph  \\\n89      LS-Mills-Mer-Mer-Lght Shp-MBQ Angles   \n469     LS-Mills-Mer-Mer-Lght Shp-MBQ Angles   \n849     LS-Mills-Mer-Mer-Lght Shp-MBQ Angles   \n1230    LS-Mills-Mer-Mer-Lght Shp-MBQ Angles   \n1614    LS-Mills-Mer-Mer-Lght Shp-MBQ Angles   \n...                                      ...   \n811463                                   NaN   \n811531                                   NaN   \n812210                                   NaN   \n813984                                   NaN   \n814054                                   NaN   \n\n                         IN_material_description IN_material_type IN_strategy  \\\n89      L 2 1/2X2 1/2X3/16 A36/44W/A529-50 20'00             ZERT         MTO   \n469     L 2 1/2X2 1/2X3/16 A36/44W/A529-50 20'00             ZERT         MTO   \n849     L 2 1/2X2 1/2X3/16 A36/44W/A529-50 20'00             ZERT         MTO   \n1230    L 2 1/2X2 1/2X3/16 A36/44W/A529-50 20'00             ZERT         MTO   \n1614    L 2 1/2X2 1/2X3/16 A36/44W/A529-50 20'00             ZERT         MTO   \n...                                          ...              ...         ...   \n811463                                       NaN              NaN         NaN   \n811531                                       NaN              NaN         NaN   \n812210                                       NaN              NaN         NaN   \n813984                                       NaN              NaN         NaN   \n814054                                       NaN              NaN         NaN   \n\n       IN_shape IN_steel_grade IN_length_text  IN_tons  \\\n89          NaN            NaN            NaN    0.025   \n469         NaN            NaN            NaN    0.025   \n849         NaN            NaN            NaN    0.025   \n1230        NaN            NaN            NaN    0.025   \n1614        NaN            NaN            NaN    0.025   \n...         ...            ...            ...      ...   \n811463      NaN            NaN            NaN      NaN   \n811531      NaN            NaN            NaN      NaN   \n812210      NaN            NaN            NaN      NaN   \n813984      NaN            NaN            NaN      NaN   \n814054      NaN            NaN            NaN      NaN   \n\n        SO_order_qty_sales_units  SO_confirmed_qty  SH_shipment_tons  PR_ton  \n89                           NaN               NaN               NaN     NaN  \n469                          NaN               NaN               NaN     NaN  \n849                          NaN               NaN               NaN     NaN  \n1230                         NaN               NaN               NaN     NaN  \n1614                         NaN               NaN               NaN     NaN  \n...                          ...               ...               ...     ...  \n811463                       NaN               NaN               0.0     NaN  \n811531                       NaN               NaN               0.0     NaN  \n812210                       NaN               NaN               NaN    21.0  \n813984                       NaN               NaN               NaN    23.0  \n814054                       NaN               NaN               NaN    -1.0  \n\n[3172 rows x 16 columns]",
      "text/html": "<div>\n<style scoped>\n    .dataframe tbody tr th:only-of-type {\n        vertical-align: middle;\n    }\n\n    .dataframe tbody tr th {\n        vertical-align: top;\n    }\n\n    .dataframe thead th {\n        text-align: right;\n    }\n</style>\n<table border=\"1\" class=\"dataframe\">\n  <thead>\n    <tr style=\"text-align: right;\">\n      <th></th>\n      <th>calendar_day</th>\n      <th>sku</th>\n      <th>size</th>\n      <th>block</th>\n      <th>ph</th>\n      <th>IN_material_description</th>\n      <th>IN_material_type</th>\n      <th>IN_strategy</th>\n      <th>IN_shape</th>\n      <th>IN_steel_grade</th>\n      <th>IN_length_text</th>\n      <th>IN_tons</th>\n      <th>SO_order_qty_sales_units</th>\n      <th>SO_confirmed_qty</th>\n      <th>SH_shipment_tons</th>\n      <th>PR_ton</th>\n    </tr>\n  </thead>\n  <tbody>\n    <tr>\n      <th>89</th>\n      <td>2016-01-03</td>\n      <td>106022528</td>\n      <td>NaN</td>\n      <td>2-1/2\" ANG</td>\n      <td>LS-Mills-Mer-Mer-Lght Shp-MBQ Angles</td>\n      <td>L 2 1/2X2 1/2X3/16 A36/44W/A529-50 20'00</td>\n      <td>ZERT</td>\n      <td>MTO</td>\n      <td>NaN</td>\n      <td>NaN</td>\n      <td>NaN</td>\n      <td>0.025</td>\n      <td>NaN</td>\n      <td>NaN</td>\n      <td>NaN</td>\n      <td>NaN</td>\n    </tr>\n    <tr>\n      <th>469</th>\n      <td>2016-01-04</td>\n      <td>106022528</td>\n      <td>NaN</td>\n      <td>2-1/2\" ANG</td>\n      <td>LS-Mills-Mer-Mer-Lght Shp-MBQ Angles</td>\n      <td>L 2 1/2X2 1/2X3/16 A36/44W/A529-50 20'00</td>\n      <td>ZERT</td>\n      <td>MTO</td>\n      <td>NaN</td>\n      <td>NaN</td>\n      <td>NaN</td>\n      <td>0.025</td>\n      <td>NaN</td>\n      <td>NaN</td>\n      <td>NaN</td>\n      <td>NaN</td>\n    </tr>\n    <tr>\n      <th>849</th>\n      <td>2016-01-05</td>\n      <td>106022528</td>\n      <td>NaN</td>\n      <td>2-1/2\" ANG</td>\n      <td>LS-Mills-Mer-Mer-Lght Shp-MBQ Angles</td>\n      <td>L 2 1/2X2 1/2X3/16 A36/44W/A529-50 20'00</td>\n      <td>ZERT</td>\n      <td>MTO</td>\n      <td>NaN</td>\n      <td>NaN</td>\n      <td>NaN</td>\n      <td>0.025</td>\n      <td>NaN</td>\n      <td>NaN</td>\n      <td>NaN</td>\n      <td>NaN</td>\n    </tr>\n    <tr>\n      <th>1230</th>\n      <td>2016-01-06</td>\n      <td>106022528</td>\n      <td>NaN</td>\n      <td>2-1/2\" ANG</td>\n      <td>LS-Mills-Mer-Mer-Lght Shp-MBQ Angles</td>\n      <td>L 2 1/2X2 1/2X3/16 A36/44W/A529-50 20'00</td>\n      <td>ZERT</td>\n      <td>MTO</td>\n      <td>NaN</td>\n      <td>NaN</td>\n      <td>NaN</td>\n      <td>0.025</td>\n      <td>NaN</td>\n      <td>NaN</td>\n      <td>NaN</td>\n      <td>NaN</td>\n    </tr>\n    <tr>\n      <th>1614</th>\n      <td>2016-01-07</td>\n      <td>106022528</td>\n      <td>NaN</td>\n      <td>2-1/2\" ANG</td>\n      <td>LS-Mills-Mer-Mer-Lght Shp-MBQ Angles</td>\n      <td>L 2 1/2X2 1/2X3/16 A36/44W/A529-50 20'00</td>\n      <td>ZERT</td>\n      <td>MTO</td>\n      <td>NaN</td>\n      <td>NaN</td>\n      <td>NaN</td>\n      <td>0.025</td>\n      <td>NaN</td>\n      <td>NaN</td>\n      <td>NaN</td>\n      <td>NaN</td>\n    </tr>\n    <tr>\n      <th>...</th>\n      <td>...</td>\n      <td>...</td>\n      <td>...</td>\n      <td>...</td>\n      <td>...</td>\n      <td>...</td>\n      <td>...</td>\n      <td>...</td>\n      <td>...</td>\n      <td>...</td>\n      <td>...</td>\n      <td>...</td>\n      <td>...</td>\n      <td>...</td>\n      <td>...</td>\n      <td>...</td>\n    </tr>\n    <tr>\n      <th>811463</th>\n      <td>2020-02-19</td>\n      <td>106022561</td>\n      <td>NaN</td>\n      <td>NaN</td>\n      <td>NaN</td>\n      <td>NaN</td>\n      <td>NaN</td>\n      <td>NaN</td>\n      <td>NaN</td>\n      <td>NaN</td>\n      <td>NaN</td>\n      <td>NaN</td>\n      <td>NaN</td>\n      <td>NaN</td>\n      <td>0.0</td>\n      <td>NaN</td>\n    </tr>\n    <tr>\n      <th>811531</th>\n      <td>2020-02-21</td>\n      <td>110001842</td>\n      <td>NaN</td>\n      <td>NaN</td>\n      <td>NaN</td>\n      <td>NaN</td>\n      <td>NaN</td>\n      <td>NaN</td>\n      <td>NaN</td>\n      <td>NaN</td>\n      <td>NaN</td>\n      <td>NaN</td>\n      <td>NaN</td>\n      <td>NaN</td>\n      <td>0.0</td>\n      <td>NaN</td>\n    </tr>\n    <tr>\n      <th>812210</th>\n      <td>2016-11-21</td>\n      <td>106028263</td>\n      <td>NaN</td>\n      <td>NaN</td>\n      <td>NaN</td>\n      <td>NaN</td>\n      <td>NaN</td>\n      <td>NaN</td>\n      <td>NaN</td>\n      <td>NaN</td>\n      <td>NaN</td>\n      <td>NaN</td>\n      <td>NaN</td>\n      <td>NaN</td>\n      <td>NaN</td>\n      <td>21.0</td>\n    </tr>\n    <tr>\n      <th>813984</th>\n      <td>2019-08-01</td>\n      <td>106030348</td>\n      <td>NaN</td>\n      <td>NaN</td>\n      <td>NaN</td>\n      <td>NaN</td>\n      <td>NaN</td>\n      <td>NaN</td>\n      <td>NaN</td>\n      <td>NaN</td>\n      <td>NaN</td>\n      <td>NaN</td>\n      <td>NaN</td>\n      <td>NaN</td>\n      <td>NaN</td>\n      <td>23.0</td>\n    </tr>\n    <tr>\n      <th>814054</th>\n      <td>2019-09-23</td>\n      <td>102300129</td>\n      <td>NaN</td>\n      <td>NaN</td>\n      <td>NaN</td>\n      <td>NaN</td>\n      <td>NaN</td>\n      <td>NaN</td>\n      <td>NaN</td>\n      <td>NaN</td>\n      <td>NaN</td>\n      <td>NaN</td>\n      <td>NaN</td>\n      <td>NaN</td>\n      <td>NaN</td>\n      <td>-1.0</td>\n    </tr>\n  </tbody>\n</table>\n<p>3172 rows × 16 columns</p>\n</div>"
     },
     "metadata": {},
     "execution_count": 36
    }
   ],
   "source": [
    "merged_df[merged_df[\"size\"].isna()]"
   ]
  },
  {
   "cell_type": "code",
   "execution_count": 161,
   "metadata": {},
   "outputs": [
    {
     "output_type": "execute_result",
     "data": {
      "text/plain": "'/Users/jacosta3/OneDrive - University of South Florida/Gerdau Projects/pft/datasets'"
     },
     "metadata": {},
     "execution_count": 161
    }
   ],
   "source": [
    "os.getcwd()"
   ]
  },
  {
   "cell_type": "code",
   "execution_count": null,
   "metadata": {},
   "outputs": [],
   "source": [
    "#Convert to csv for easy share?\n",
    "#merged_df.to_pickle(ser_path + \"merged.pkl\")"
   ]
  }
 ],
 "metadata": {
  "language_info": {
   "codemirror_mode": {
    "name": "ipython",
    "version": 3
   },
   "file_extension": ".py",
   "mimetype": "text/x-python",
   "name": "python",
   "nbconvert_exporter": "python",
   "pygments_lexer": "ipython3",
   "version": "3.7.6-final"
  },
  "orig_nbformat": 2,
  "kernelspec": {
   "name": "python37664bitpftpipenv41a3325616004cea923f5375811f25e4",
   "display_name": "Python 3.7.6 64-bit ('pft': pipenv)"
  }
 },
 "nbformat": 4,
 "nbformat_minor": 2
}