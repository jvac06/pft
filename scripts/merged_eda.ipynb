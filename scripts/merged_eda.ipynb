{
 "cells": [
  {
   "cell_type": "markdown",
   "metadata": {},
   "source": [
    "# Exploring Merged File"
   ]
  },
  {
   "cell_type": "code",
   "execution_count": 44,
   "metadata": {},
   "outputs": [],
   "source": [
    "#Dependencies\n",
    "import os\n",
    "import numpy as np\n",
    "import pandas as pd\n",
    "import joblib\n",
    "import matplotlib.pyplot as plt\n",
    "import seaborn as sns\n",
    "import re\n",
    "import datetime as dt"
   ]
  },
  {
   "cell_type": "code",
   "execution_count": 45,
   "metadata": {},
   "outputs": [
    {
     "output_type": "execute_result",
     "data": {
      "text/plain": "'/Users/jacosta3/OneDrive - University of South Florida/Gerdau Projects/pft/datasets'"
     },
     "metadata": {},
     "execution_count": 45
    }
   ],
   "source": [
    "os.getcwd()"
   ]
  },
  {
   "cell_type": "code",
   "execution_count": 46,
   "metadata": {},
   "outputs": [],
   "source": [
    "#change path to datasets folder\n",
    "os.chdir(\"../datasets/\")\n",
    "#read merged.pkl\n",
    "merged_df = pd.read_pickle(\"./serialized/merged.pkl\")"
   ]
  },
  {
   "cell_type": "code",
   "execution_count": 47,
   "metadata": {},
   "outputs": [],
   "source": [
    "#create file paths\n",
    "ser_path = \"./serialized/\"\n",
    "merged_path = \"./merged_clean/\""
   ]
  },
  {
   "cell_type": "code",
   "execution_count": 48,
   "metadata": {},
   "outputs": [
    {
     "output_type": "stream",
     "name": "stdout",
     "text": "<class 'pandas.core.frame.DataFrame'>\nInt64Index: 814243 entries, 0 to 814242\nData columns (total 16 columns):\n #   Column                    Non-Null Count   Dtype         \n---  ------                    --------------   -----         \n 0   calendar_day              814243 non-null  datetime64[ns]\n 1   sku                       814243 non-null  object        \n 2   size                      811071 non-null  object        \n 3   block                     813827 non-null  object        \n 4   material_description      813086 non-null  object        \n 5   shape                     810269 non-null  object        \n 6   strategy                  805552 non-null  object        \n 7   steel_grade               810269 non-null  object        \n 8   length_text               808869 non-null  object        \n 9   work_center               814189 non-null  object        \n 10  ph                        813878 non-null  object        \n 11  IN_tons                   774593 non-null  float64       \n 12  SO_order_qty_sales_units  77225 non-null   float64       \n 13  SO_confirmed_qty          77225 non-null   float64       \n 14  SH_shipment_tons          89182 non-null   float64       \n 15  PR_ton                    9740 non-null    float64       \ndtypes: datetime64[ns](1), float64(5), object(10)\nmemory usage: 105.6+ MB\n"
    }
   ],
   "source": [
    "merged_df.info()"
   ]
  },
  {
   "cell_type": "code",
   "execution_count": 49,
   "metadata": {},
   "outputs": [],
   "source": [
    "#dropping duplicate sales column - SO_confirmed_qty\n",
    "merged_df = merged_df.drop('SO_confirmed_qty', axis=1)"
   ]
  },
  {
   "cell_type": "code",
   "execution_count": 50,
   "metadata": {},
   "outputs": [
    {
     "output_type": "execute_result",
     "data": {
      "text/plain": "Index(['calendar_day', 'sku', 'size', 'block', 'material_description', 'shape',\n       'strategy', 'steel_grade', 'length_text', 'work_center', 'ph',\n       'IN_tons', 'SO_order_qty_sales_units', 'SH_shipment_tons', 'PR_ton'],\n      dtype='object')"
     },
     "metadata": {},
     "execution_count": 50
    }
   ],
   "source": [
    "merged_df.columns"
   ]
  },
  {
   "cell_type": "code",
   "execution_count": 54,
   "metadata": {},
   "outputs": [],
   "source": [
    "#reorganizing column order\n",
    "merged_df = merged_df[['calendar_day', 'block', 'size', 'sku', 'material_description', 'shape',\n",
    "       'strategy', 'steel_grade', 'length_text', 'work_center', 'ph',\n",
    "       'IN_tons', 'SO_order_qty_sales_units', 'SH_shipment_tons', 'PR_ton']]"
   ]
  },
  {
   "cell_type": "code",
   "execution_count": 55,
   "metadata": {},
   "outputs": [
    {
     "output_type": "execute_result",
     "data": {
      "text/plain": "Index(['calendar_day', 'year', 'month', 'week', 'block', 'size', 'sku',\n       'material_description', 'shape', 'strategy', 'steel_grade',\n       'length_text', 'work_center', 'ph', 'IN_tons',\n       'SO_order_qty_sales_units', 'SH_shipment_tons', 'PR_ton'],\n      dtype='object')"
     },
     "metadata": {},
     "execution_count": 55
    }
   ],
   "source": [
    "merged_df.columns"
   ]
  },
  {
   "cell_type": "code",
   "execution_count": 56,
   "metadata": {},
   "outputs": [
    {
     "output_type": "stream",
     "name": "stdout",
     "text": "<class 'pandas.core.frame.DataFrame'>\nMultiIndex: 15767 entries, (2016, 1, '#7 REB') to (2020, 51, '8\" CHN')\nData columns (total 4 columns):\n #   Column                    Non-Null Count  Dtype  \n---  ------                    --------------  -----  \n 0   IN_tons                   15767 non-null  float64\n 1   SO_order_qty_sales_units  15767 non-null  float64\n 2   SH_shipment_tons          15767 non-null  float64\n 3   PR_ton                    15767 non-null  float64\ndtypes: float64(4)\nmemory usage: 540.5+ KB\n"
    }
   ],
   "source": [
    "merged_df.groupby(['year','week','block' ]).sum().info()"
   ]
  },
  {
   "cell_type": "markdown",
   "metadata": {},
   "source": [
    "## Structural vs. Bar"
   ]
  },
  {
   "cell_type": "code",
   "execution_count": 57,
   "metadata": {},
   "outputs": [],
   "source": [
    "#converting work_center column to string\n",
    "#Structural = 25000001\n",
    "#Bar = 25000002\n",
    "merged_df['work_center'] = merged_df['work_center'].fillna(0).astype(int).astype(str)"
   ]
  },
  {
   "cell_type": "markdown",
   "metadata": {},
   "source": [
    "### Structual "
   ]
  },
  {
   "cell_type": "code",
   "execution_count": 58,
   "metadata": {},
   "outputs": [],
   "source": [
    "#structural df\n",
    "structural = merged_df[merged_df['work_center']==\"25000001\"] "
   ]
  },
  {
   "cell_type": "code",
   "execution_count": 59,
   "metadata": {},
   "outputs": [],
   "source": [
    "#dropping any rows after 2020-01-03\n",
    "structural = structural[structural[\"calendar_day\"]<=\"2020-01-03\"]"
   ]
  },
  {
   "cell_type": "code",
   "execution_count": 60,
   "metadata": {},
   "outputs": [
    {
     "output_type": "execute_result",
     "data": {
      "text/plain": "year                                                                   431661\nmonth                                                                    1159\nweek                                                                     4710\nblock                                                                       0\nsize                                                                        0\nsku                                                               23138934524\nmaterial_description        L 4X3X1/2 A36/44W/A529-50 40'00\"F 1/4X3 A36/44...\nshape                       SHAPE_LFLATSQUARESHAPE_CFLATSHAPE_LFLATFLATROU...\nstrategy                    MTOMTOMTSMTOMTOMTOMTOMTSMTOMTSMTOMTOMTOMTOMTOM...\nlength_text                 40'00\"20'00\"20'00\"42'00\"20'00\"24'00\"20'00\"20'0...\nwork_center                 2500000125000001250000012500000125000001250000...\nph                                                                          0\nIN_tons                                                                     0\nSO_order_qty_sales_units                                                128.5\nSH_shipment_tons                                                          126\nPR_ton                                                                     49\ndtype: object"
     },
     "metadata": {},
     "execution_count": 60
    }
   ],
   "source": [
    "# look at block level\n",
    "structural[structural[\"block\"].isna()].sum()"
   ]
  },
  {
   "cell_type": "code",
   "execution_count": 61,
   "metadata": {},
   "outputs": [
    {
     "output_type": "execute_result",
     "data": {
      "text/plain": "year                                                                  1999700\nmonth                                                                    6440\nweek                                                                    26204\nsize                                                                        0\nsku                                                              105529138847\nmaterial_description        C 6X8.2# A36/44W/A529-50 36'00\"C 6X8.2# A36/44...\nstrategy                    MTOMTOMTOMTOMTOMTOMTOMTOMTOMTOMTOMTOMTOMTOMTOM...\nwork_center                 2500000125000001250000012500000125000001250000...\nIN_tons                                                                -0.777\nSO_order_qty_sales_units                                                128.5\nSH_shipment_tons                                                          126\nPR_ton                                                                     49\ndtype: object"
     },
     "metadata": {},
     "execution_count": 61
    }
   ],
   "source": [
    "#look at the size level\n",
    "structural[structural[\"size\"].isna()].sum()"
   ]
  },
  {
   "cell_type": "code",
   "execution_count": 62,
   "metadata": {},
   "outputs": [
    {
     "output_type": "execute_result",
     "data": {
      "text/plain": "                         IN_tons  SO_order_qty_sales_units  SH_shipment_tons  \\\ncalendar_day size                                                              \n2016-01-02   3/4 X 5        0.00                    3.0600               0.0   \n             5X5X5/8        0.00                   39.0000               0.0   \n2016-01-03   1 X 1 3/4      0.00                    4.9385               0.0   \n             1 X 10        10.20                    0.0000               0.0   \n             1 X 12         2.04                    0.0000               0.0   \n...                          ...                       ...               ...   \n2020-01-03   8 X 11.5#      0.00                   59.8000              59.0   \n             8 X 13.75#     0.00                    8.2500               0.0   \n             8 X 18.75#     0.00                   13.5000              10.0   \n             9 X 13.4#      0.00                    9.6480              33.0   \n             9 X 15#        0.00                    0.0000              14.0   \n\n                         PR_ton  \ncalendar_day size                \n2016-01-02   3/4 X 5        0.0  \n             5X5X5/8        0.0  \n2016-01-03   1 X 1 3/4      0.0  \n             1 X 10         0.0  \n             1 X 12         0.0  \n...                         ...  \n2020-01-03   8 X 11.5#      0.0  \n             8 X 13.75#     0.0  \n             8 X 18.75#     0.0  \n             9 X 13.4#      0.0  \n             9 X 15#        0.0  \n\n[157464 rows x 4 columns]",
      "text/html": "<div>\n<style scoped>\n    .dataframe tbody tr th:only-of-type {\n        vertical-align: middle;\n    }\n\n    .dataframe tbody tr th {\n        vertical-align: top;\n    }\n\n    .dataframe thead th {\n        text-align: right;\n    }\n</style>\n<table border=\"1\" class=\"dataframe\">\n  <thead>\n    <tr style=\"text-align: right;\">\n      <th></th>\n      <th></th>\n      <th>IN_tons</th>\n      <th>SO_order_qty_sales_units</th>\n      <th>SH_shipment_tons</th>\n      <th>PR_ton</th>\n    </tr>\n    <tr>\n      <th>calendar_day</th>\n      <th>size</th>\n      <th></th>\n      <th></th>\n      <th></th>\n      <th></th>\n    </tr>\n  </thead>\n  <tbody>\n    <tr>\n      <th rowspan=\"2\" valign=\"top\">2016-01-02</th>\n      <th>3/4 X 5</th>\n      <td>0.00</td>\n      <td>3.0600</td>\n      <td>0.0</td>\n      <td>0.0</td>\n    </tr>\n    <tr>\n      <th>5X5X5/8</th>\n      <td>0.00</td>\n      <td>39.0000</td>\n      <td>0.0</td>\n      <td>0.0</td>\n    </tr>\n    <tr>\n      <th rowspan=\"3\" valign=\"top\">2016-01-03</th>\n      <th>1 X 1 3/4</th>\n      <td>0.00</td>\n      <td>4.9385</td>\n      <td>0.0</td>\n      <td>0.0</td>\n    </tr>\n    <tr>\n      <th>1 X 10</th>\n      <td>10.20</td>\n      <td>0.0000</td>\n      <td>0.0</td>\n      <td>0.0</td>\n    </tr>\n    <tr>\n      <th>1 X 12</th>\n      <td>2.04</td>\n      <td>0.0000</td>\n      <td>0.0</td>\n      <td>0.0</td>\n    </tr>\n    <tr>\n      <th>...</th>\n      <th>...</th>\n      <td>...</td>\n      <td>...</td>\n      <td>...</td>\n      <td>...</td>\n    </tr>\n    <tr>\n      <th rowspan=\"5\" valign=\"top\">2020-01-03</th>\n      <th>8 X 11.5#</th>\n      <td>0.00</td>\n      <td>59.8000</td>\n      <td>59.0</td>\n      <td>0.0</td>\n    </tr>\n    <tr>\n      <th>8 X 13.75#</th>\n      <td>0.00</td>\n      <td>8.2500</td>\n      <td>0.0</td>\n      <td>0.0</td>\n    </tr>\n    <tr>\n      <th>8 X 18.75#</th>\n      <td>0.00</td>\n      <td>13.5000</td>\n      <td>10.0</td>\n      <td>0.0</td>\n    </tr>\n    <tr>\n      <th>9 X 13.4#</th>\n      <td>0.00</td>\n      <td>9.6480</td>\n      <td>33.0</td>\n      <td>0.0</td>\n    </tr>\n    <tr>\n      <th>9 X 15#</th>\n      <td>0.00</td>\n      <td>0.0000</td>\n      <td>14.0</td>\n      <td>0.0</td>\n    </tr>\n  </tbody>\n</table>\n<p>157464 rows × 4 columns</p>\n</div>"
     },
     "metadata": {},
     "execution_count": 62
    }
   ],
   "source": [
    "#preview of structural by size\n",
    "structural.groupby(['calendar_day','size']).sum()"
   ]
  },
  {
   "cell_type": "code",
   "execution_count": 63,
   "metadata": {},
   "outputs": [
    {
     "output_type": "execute_result",
     "data": {
      "text/plain": "                           IN_tons  SO_order_qty_sales_units  \\\ncalendar_day block                                             \n2016-01-02   5\" ANG            0.0                   39.0000   \n             5\" FLT            0.0                    3.0600   \n2016-01-03   1\" FLT            0.0                   10.0980   \n             1\" SB FLT         0.0                   22.5600   \n             1-2\" LRG FLT      0.0                    4.9385   \n...                            ...                       ...   \n2020-01-03   8\" CHN            0.0                   81.5500   \n             8\" FLT            0.0                    0.0000   \n             9\" CHN            0.0                    9.6480   \n             MC12X10.6         0.0                    4.2400   \n             MC4\" CHN          0.0                    0.0000   \n\n                           SH_shipment_tons  PR_ton  \ncalendar_day block                                   \n2016-01-02   5\" ANG                     0.0     0.0  \n             5\" FLT                     0.0     0.0  \n2016-01-03   1\" FLT                     0.0     0.0  \n             1\" SB FLT                  0.0     0.0  \n             1-2\" LRG FLT               0.0     0.0  \n...                                     ...     ...  \n2020-01-03   8\" CHN                    69.0     0.0  \n             8\" FLT                     9.0     0.0  \n             9\" CHN                    47.0     0.0  \n             MC12X10.6                  0.0     0.0  \n             MC4\" CHN                  11.0     0.0  \n\n[50323 rows x 4 columns]",
      "text/html": "<div>\n<style scoped>\n    .dataframe tbody tr th:only-of-type {\n        vertical-align: middle;\n    }\n\n    .dataframe tbody tr th {\n        vertical-align: top;\n    }\n\n    .dataframe thead th {\n        text-align: right;\n    }\n</style>\n<table border=\"1\" class=\"dataframe\">\n  <thead>\n    <tr style=\"text-align: right;\">\n      <th></th>\n      <th></th>\n      <th>IN_tons</th>\n      <th>SO_order_qty_sales_units</th>\n      <th>SH_shipment_tons</th>\n      <th>PR_ton</th>\n    </tr>\n    <tr>\n      <th>calendar_day</th>\n      <th>block</th>\n      <th></th>\n      <th></th>\n      <th></th>\n      <th></th>\n    </tr>\n  </thead>\n  <tbody>\n    <tr>\n      <th rowspan=\"2\" valign=\"top\">2016-01-02</th>\n      <th>5\" ANG</th>\n      <td>0.0</td>\n      <td>39.0000</td>\n      <td>0.0</td>\n      <td>0.0</td>\n    </tr>\n    <tr>\n      <th>5\" FLT</th>\n      <td>0.0</td>\n      <td>3.0600</td>\n      <td>0.0</td>\n      <td>0.0</td>\n    </tr>\n    <tr>\n      <th rowspan=\"3\" valign=\"top\">2016-01-03</th>\n      <th>1\" FLT</th>\n      <td>0.0</td>\n      <td>10.0980</td>\n      <td>0.0</td>\n      <td>0.0</td>\n    </tr>\n    <tr>\n      <th>1\" SB FLT</th>\n      <td>0.0</td>\n      <td>22.5600</td>\n      <td>0.0</td>\n      <td>0.0</td>\n    </tr>\n    <tr>\n      <th>1-2\" LRG FLT</th>\n      <td>0.0</td>\n      <td>4.9385</td>\n      <td>0.0</td>\n      <td>0.0</td>\n    </tr>\n    <tr>\n      <th>...</th>\n      <th>...</th>\n      <td>...</td>\n      <td>...</td>\n      <td>...</td>\n      <td>...</td>\n    </tr>\n    <tr>\n      <th rowspan=\"5\" valign=\"top\">2020-01-03</th>\n      <th>8\" CHN</th>\n      <td>0.0</td>\n      <td>81.5500</td>\n      <td>69.0</td>\n      <td>0.0</td>\n    </tr>\n    <tr>\n      <th>8\" FLT</th>\n      <td>0.0</td>\n      <td>0.0000</td>\n      <td>9.0</td>\n      <td>0.0</td>\n    </tr>\n    <tr>\n      <th>9\" CHN</th>\n      <td>0.0</td>\n      <td>9.6480</td>\n      <td>47.0</td>\n      <td>0.0</td>\n    </tr>\n    <tr>\n      <th>MC12X10.6</th>\n      <td>0.0</td>\n      <td>4.2400</td>\n      <td>0.0</td>\n      <td>0.0</td>\n    </tr>\n    <tr>\n      <th>MC4\" CHN</th>\n      <td>0.0</td>\n      <td>0.0000</td>\n      <td>11.0</td>\n      <td>0.0</td>\n    </tr>\n  </tbody>\n</table>\n<p>50323 rows × 4 columns</p>\n</div>"
     },
     "metadata": {},
     "execution_count": 63
    }
   ],
   "source": [
    "#preview of structural by block\n",
    "structural.groupby(['calendar_day','block']).sum()"
   ]
  },
  {
   "cell_type": "code",
   "execution_count": 64,
   "metadata": {},
   "outputs": [],
   "source": [
    "#grouping structural material by block and size\n",
    "structural = structural.groupby(['calendar_day','block', 'size']).sum()\n",
    "structural = structural.reset_index()"
   ]
  },
  {
   "cell_type": "code",
   "execution_count": 65,
   "metadata": {},
   "outputs": [
    {
     "output_type": "execute_result",
     "data": {
      "text/plain": "  calendar_day      block          size  IN_tons  SO_order_qty_sales_units  \\\n0   2016-01-02     5\" ANG       5X5X5/8      0.0                    39.000   \n1   2016-01-02     5\" FLT       3/4 X 5      0.0                     3.060   \n2   2016-01-03     1\" FLT       3/4 X 1      0.0                    10.098   \n3   2016-01-03  1\" SB FLT  3/16 X 1 1/2      0.0                     2.447   \n4   2016-01-03  1\" SB FLT   3/4 X 1 1/2      0.0                     7.353   \n\n   SH_shipment_tons  PR_ton  \n0               0.0     0.0  \n1               0.0     0.0  \n2               0.0     0.0  \n3               0.0     0.0  \n4               0.0     0.0  ",
      "text/html": "<div>\n<style scoped>\n    .dataframe tbody tr th:only-of-type {\n        vertical-align: middle;\n    }\n\n    .dataframe tbody tr th {\n        vertical-align: top;\n    }\n\n    .dataframe thead th {\n        text-align: right;\n    }\n</style>\n<table border=\"1\" class=\"dataframe\">\n  <thead>\n    <tr style=\"text-align: right;\">\n      <th></th>\n      <th>calendar_day</th>\n      <th>block</th>\n      <th>size</th>\n      <th>IN_tons</th>\n      <th>SO_order_qty_sales_units</th>\n      <th>SH_shipment_tons</th>\n      <th>PR_ton</th>\n    </tr>\n  </thead>\n  <tbody>\n    <tr>\n      <th>0</th>\n      <td>2016-01-02</td>\n      <td>5\" ANG</td>\n      <td>5X5X5/8</td>\n      <td>0.0</td>\n      <td>39.000</td>\n      <td>0.0</td>\n      <td>0.0</td>\n    </tr>\n    <tr>\n      <th>1</th>\n      <td>2016-01-02</td>\n      <td>5\" FLT</td>\n      <td>3/4 X 5</td>\n      <td>0.0</td>\n      <td>3.060</td>\n      <td>0.0</td>\n      <td>0.0</td>\n    </tr>\n    <tr>\n      <th>2</th>\n      <td>2016-01-03</td>\n      <td>1\" FLT</td>\n      <td>3/4 X 1</td>\n      <td>0.0</td>\n      <td>10.098</td>\n      <td>0.0</td>\n      <td>0.0</td>\n    </tr>\n    <tr>\n      <th>3</th>\n      <td>2016-01-03</td>\n      <td>1\" SB FLT</td>\n      <td>3/16 X 1 1/2</td>\n      <td>0.0</td>\n      <td>2.447</td>\n      <td>0.0</td>\n      <td>0.0</td>\n    </tr>\n    <tr>\n      <th>4</th>\n      <td>2016-01-03</td>\n      <td>1\" SB FLT</td>\n      <td>3/4 X 1 1/2</td>\n      <td>0.0</td>\n      <td>7.353</td>\n      <td>0.0</td>\n      <td>0.0</td>\n    </tr>\n  </tbody>\n</table>\n</div>"
     },
     "metadata": {},
     "execution_count": 65
    }
   ],
   "source": [
    "structural.head()"
   ]
  },
  {
   "cell_type": "code",
   "execution_count": 78,
   "metadata": {},
   "outputs": [],
   "source": [
    "#adding other time columns for aggregating analysis\n",
    "structural['year'] = pd.DatetimeIndex(structural['calendar_day']).year\n",
    "structural['month'] = pd.DatetimeIndex(structural['calendar_day']).month\n",
    "structural['week'] = pd.DatetimeIndex(structural['calendar_day']).week"
   ]
  },
  {
   "cell_type": "code",
   "execution_count": 79,
   "metadata": {},
   "outputs": [],
   "source": [
    "#changing time variables to object\n",
    "structural.year = structural.year.astype('object')\n",
    "structural.month = structural.month.astype('object')\n",
    "structural.week = structural.week.astype('object')"
   ]
  },
  {
   "cell_type": "code",
   "execution_count": 80,
   "metadata": {},
   "outputs": [
    {
     "output_type": "execute_result",
     "data": {
      "text/plain": "Index(['calendar_day', 'block', 'size', 'IN_tons', 'SO_order_qty_sales_units',\n       'SH_shipment_tons', 'PR_ton', 'year', 'month', 'week'],\n      dtype='object')"
     },
     "metadata": {},
     "execution_count": 80
    }
   ],
   "source": [
    "structural.columns"
   ]
  },
  {
   "cell_type": "code",
   "execution_count": 81,
   "metadata": {},
   "outputs": [],
   "source": [
    "# rearranging order of columns df\n",
    "structural = structural[['calendar_day','year', 'month', 'week', 'block', 'size', 'IN_tons',\n",
    "       'SO_order_qty_sales_units', 'SH_shipment_tons', 'PR_ton']]"
   ]
  },
  {
   "cell_type": "code",
   "execution_count": 82,
   "metadata": {},
   "outputs": [
    {
     "output_type": "execute_result",
     "data": {
      "text/plain": "       calendar_day  year month week      block        size  IN_tons  \\\n158268   2020-01-03  2020     1    1  MC12X10.6  12 X 10.6#      0.0   \n158269   2020-01-03  2020     1    1   MC4\" CHN   4 X 13.8#      0.0   \n\n        SO_order_qty_sales_units  SH_shipment_tons  PR_ton  \n158268                      4.24               0.0     0.0  \n158269                      0.00              11.0     0.0  ",
      "text/html": "<div>\n<style scoped>\n    .dataframe tbody tr th:only-of-type {\n        vertical-align: middle;\n    }\n\n    .dataframe tbody tr th {\n        vertical-align: top;\n    }\n\n    .dataframe thead th {\n        text-align: right;\n    }\n</style>\n<table border=\"1\" class=\"dataframe\">\n  <thead>\n    <tr style=\"text-align: right;\">\n      <th></th>\n      <th>calendar_day</th>\n      <th>year</th>\n      <th>month</th>\n      <th>week</th>\n      <th>block</th>\n      <th>size</th>\n      <th>IN_tons</th>\n      <th>SO_order_qty_sales_units</th>\n      <th>SH_shipment_tons</th>\n      <th>PR_ton</th>\n    </tr>\n  </thead>\n  <tbody>\n    <tr>\n      <th>158268</th>\n      <td>2020-01-03</td>\n      <td>2020</td>\n      <td>1</td>\n      <td>1</td>\n      <td>MC12X10.6</td>\n      <td>12 X 10.6#</td>\n      <td>0.0</td>\n      <td>4.24</td>\n      <td>0.0</td>\n      <td>0.0</td>\n    </tr>\n    <tr>\n      <th>158269</th>\n      <td>2020-01-03</td>\n      <td>2020</td>\n      <td>1</td>\n      <td>1</td>\n      <td>MC4\" CHN</td>\n      <td>4 X 13.8#</td>\n      <td>0.0</td>\n      <td>0.00</td>\n      <td>11.0</td>\n      <td>0.0</td>\n    </tr>\n  </tbody>\n</table>\n</div>"
     },
     "metadata": {},
     "execution_count": 82
    }
   ],
   "source": [
    "structural.tail(2)"
   ]
  },
  {
   "cell_type": "code",
   "execution_count": 69,
   "metadata": {},
   "outputs": [
    {
     "output_type": "execute_result",
     "data": {
      "text/plain": "(158270, 7)"
     },
     "metadata": {},
     "execution_count": 69
    }
   ],
   "source": [
    "structural.shape"
   ]
  },
  {
   "cell_type": "markdown",
   "metadata": {},
   "source": [
    "## Bar"
   ]
  },
  {
   "cell_type": "code",
   "execution_count": 70,
   "metadata": {},
   "outputs": [],
   "source": [
    "#bar df\n",
    "bar = merged_df[merged_df['work_center']==\"25000002\"] "
   ]
  },
  {
   "cell_type": "code",
   "execution_count": 71,
   "metadata": {},
   "outputs": [],
   "source": [
    "#group by calendar, block & size\n",
    "bar = bar.groupby(['calendar_day', 'block', 'size']).sum()\n",
    "bar = bar.reset_index()"
   ]
  },
  {
   "cell_type": "code",
   "execution_count": 72,
   "metadata": {},
   "outputs": [],
   "source": [
    "#dropping rows after 2020-01-31\n",
    "bar = bar[bar[\"calendar_day\"]<=\"2020-01-03\"]"
   ]
  },
  {
   "cell_type": "code",
   "execution_count": 84,
   "metadata": {},
   "outputs": [],
   "source": [
    "#adding other time columns for aggregating analysis\n",
    "bar['year'] = pd.DatetimeIndex(bar['calendar_day']).year\n",
    "bar['month'] = pd.DatetimeIndex(bar['calendar_day']).month\n",
    "bar['week'] = pd.DatetimeIndex(bar['calendar_day']).week"
   ]
  },
  {
   "cell_type": "code",
   "execution_count": 86,
   "metadata": {},
   "outputs": [],
   "source": [
    "#changing time variables to object\n",
    "bar.year = bar.year.astype('object')\n",
    "bar.month = bar.month.astype('object')\n",
    "bar.week = bar.week.astype('object')"
   ]
  },
  {
   "cell_type": "code",
   "execution_count": 87,
   "metadata": {},
   "outputs": [],
   "source": [
    "#reorganize order of columns\n",
    "bar = bar[['calendar_day','year', 'month', 'week', 'block', 'size', 'IN_tons',\n",
    "       'SO_order_qty_sales_units', 'SH_shipment_tons', 'PR_ton']]"
   ]
  },
  {
   "cell_type": "code",
   "execution_count": 88,
   "metadata": {},
   "outputs": [
    {
     "output_type": "execute_result",
     "data": {
      "text/plain": "(75018, 10)"
     },
     "metadata": {},
     "execution_count": 88
    }
   ],
   "source": [
    "bar.shape"
   ]
  },
  {
   "cell_type": "code",
   "execution_count": 89,
   "metadata": {},
   "outputs": [
    {
     "output_type": "execute_result",
     "data": {
      "text/plain": "  calendar_day  year month week       block              size  IN_tons  \\\n0   2016-01-01  2016     1   53  2-1/2\" ANG  2 1/2X2 1/2X5/16      0.0   \n1   2016-01-02  2016     1   53      3\" ANG           3X3X1/4      0.0   \n\n   SO_order_qty_sales_units  SH_shipment_tons  PR_ton  \n0                    315.00               0.0     0.0  \n1                     12.74               0.0     0.0  ",
      "text/html": "<div>\n<style scoped>\n    .dataframe tbody tr th:only-of-type {\n        vertical-align: middle;\n    }\n\n    .dataframe tbody tr th {\n        vertical-align: top;\n    }\n\n    .dataframe thead th {\n        text-align: right;\n    }\n</style>\n<table border=\"1\" class=\"dataframe\">\n  <thead>\n    <tr style=\"text-align: right;\">\n      <th></th>\n      <th>calendar_day</th>\n      <th>year</th>\n      <th>month</th>\n      <th>week</th>\n      <th>block</th>\n      <th>size</th>\n      <th>IN_tons</th>\n      <th>SO_order_qty_sales_units</th>\n      <th>SH_shipment_tons</th>\n      <th>PR_ton</th>\n    </tr>\n  </thead>\n  <tbody>\n    <tr>\n      <th>0</th>\n      <td>2016-01-01</td>\n      <td>2016</td>\n      <td>1</td>\n      <td>53</td>\n      <td>2-1/2\" ANG</td>\n      <td>2 1/2X2 1/2X5/16</td>\n      <td>0.0</td>\n      <td>315.00</td>\n      <td>0.0</td>\n      <td>0.0</td>\n    </tr>\n    <tr>\n      <th>1</th>\n      <td>2016-01-02</td>\n      <td>2016</td>\n      <td>1</td>\n      <td>53</td>\n      <td>3\" ANG</td>\n      <td>3X3X1/4</td>\n      <td>0.0</td>\n      <td>12.74</td>\n      <td>0.0</td>\n      <td>0.0</td>\n    </tr>\n  </tbody>\n</table>\n</div>"
     },
     "metadata": {},
     "execution_count": 89
    }
   ],
   "source": [
    "bar.head(2)"
   ]
  },
  {
   "cell_type": "markdown",
   "metadata": {},
   "source": [
    "## Saving dataframes to CSV & Pickle"
   ]
  },
  {
   "cell_type": "code",
   "execution_count": 91,
   "metadata": {},
   "outputs": [],
   "source": [
    "# Convert to csv for easy share - structural & bar df\n",
    "structural.to_csv(merged_path + \"structural_merged.csv\")\n",
    "bar.to_csv(merged_path + \"bar_merged.csv\")"
   ]
  },
  {
   "cell_type": "code",
   "execution_count": 92,
   "metadata": {},
   "outputs": [],
   "source": [
    "# Convert to pickle for easy share - structural & bar df\n",
    "structural.to_pickle(ser_path + \"structural_merged.pkl\")\n",
    "bar.to_pickle(ser_path + \"bar_merged.pkl\")"
   ]
  },
  {
   "cell_type": "code",
   "execution_count": null,
   "metadata": {},
   "outputs": [],
   "source": []
  }
 ],
 "metadata": {
  "language_info": {
   "codemirror_mode": {
    "name": "ipython",
    "version": 3
   },
   "file_extension": ".py",
   "mimetype": "text/x-python",
   "name": "python",
   "nbconvert_exporter": "python",
   "pygments_lexer": "ipython3",
   "version": "3.7.6-final"
  },
  "orig_nbformat": 2,
  "kernelspec": {
   "name": "python37664bitpftpipenv41a3325616004cea923f5375811f25e4",
   "display_name": "Python 3.7.6 64-bit ('pft': pipenv)"
  }
 },
 "nbformat": 4,
 "nbformat_minor": 2
}