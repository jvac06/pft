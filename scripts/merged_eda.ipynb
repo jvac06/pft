{
 "cells": [
  {
   "cell_type": "markdown",
   "metadata": {},
   "source": [
    "# Exploring Merged File"
   ]
  },
  {
   "cell_type": "code",
   "execution_count": 36,
   "metadata": {},
   "outputs": [],
   "source": [
    "#Dependencies\n",
    "import os\n",
    "import numpy as np\n",
    "import pandas as pd\n",
    "import joblib\n",
    "import matplotlib.pyplot as plt\n",
    "import seaborn as sns\n",
    "import re\n",
    "import datetime as dt"
   ]
  },
  {
   "cell_type": "code",
   "execution_count": 37,
   "metadata": {},
   "outputs": [
    {
     "output_type": "execute_result",
     "data": {
      "text/plain": "'/Users/jacosta3/OneDrive - University of South Florida/Gerdau Projects/pft/datasets'"
     },
     "metadata": {},
     "execution_count": 37
    }
   ],
   "source": [
    "os.getcwd()"
   ]
  },
  {
   "cell_type": "code",
   "execution_count": 38,
   "metadata": {},
   "outputs": [],
   "source": [
    "#change path to datasets folder\n",
    "os.chdir(\"../datasets/\")\n",
    "#read merged.pkl\n",
    "merged_df = pd.read_pickle(\"./serialized/merged.pkl\")"
   ]
  },
  {
   "cell_type": "code",
   "execution_count": 39,
   "metadata": {},
   "outputs": [
    {
     "output_type": "stream",
     "name": "stdout",
     "text": "<class 'pandas.core.frame.DataFrame'>\nInt64Index: 814243 entries, 0 to 814242\nData columns (total 16 columns):\n #   Column                    Non-Null Count   Dtype         \n---  ------                    --------------   -----         \n 0   calendar_day              814243 non-null  datetime64[ns]\n 1   sku                       814243 non-null  object        \n 2   size                      811071 non-null  object        \n 3   block                     813827 non-null  object        \n 4   material_description      813086 non-null  object        \n 5   shape                     810269 non-null  object        \n 6   strategy                  805552 non-null  object        \n 7   steel_grade               810269 non-null  object        \n 8   length_text               808869 non-null  object        \n 9   work_center               814189 non-null  object        \n 10  ph                        813878 non-null  object        \n 11  IN_tons                   774593 non-null  float64       \n 12  SO_order_qty_sales_units  77225 non-null   float64       \n 13  SO_confirmed_qty          77225 non-null   float64       \n 14  SH_shipment_tons          89182 non-null   float64       \n 15  PR_ton                    9740 non-null    float64       \ndtypes: datetime64[ns](1), float64(5), object(10)\nmemory usage: 105.6+ MB\n"
    }
   ],
   "source": [
    "merged_df.info()"
   ]
  },
  {
   "cell_type": "code",
   "execution_count": 49,
   "metadata": {},
   "outputs": [
    {
     "output_type": "execute_result",
     "data": {
      "text/plain": "IN_tons                       88.806999\nSO_order_qty_sales_units    5964.320000\nSO_confirmed_qty            4097.900000\nSH_shipment_tons              95.000000\nPR_ton                        95.000000\ndtype: float64"
     },
     "metadata": {},
     "execution_count": 49
    }
   ],
   "source": [
    "# look at block level\n",
    "merged_df[merged_df[\"block\"].isna()].groupby('sku').sum().max()"
   ]
  },
  {
   "cell_type": "code",
   "execution_count": 50,
   "metadata": {},
   "outputs": [
    {
     "output_type": "execute_result",
     "data": {
      "text/plain": "IN_tons                       28.25\nSO_order_qty_sales_units    5964.32\nSO_confirmed_qty            4097.90\nSH_shipment_tons              95.00\nPR_ton                        95.00\ndtype: float64"
     },
     "metadata": {},
     "execution_count": 50
    }
   ],
   "source": [
    "#look at the size level\n",
    "merged_df[merged_df[\"size\"].isna()].groupby('sku').sum().max()"
   ]
  },
  {
   "cell_type": "code",
   "execution_count": 55,
   "metadata": {},
   "outputs": [
    {
     "output_type": "execute_result",
     "data": {
      "text/plain": "                               IN_tons  SO_order_qty_sales_units  \\\ncalendar_day size                                                  \n2016-01-01   2 1/2X2 1/2X5/16      0.0                   315.000   \n2016-01-02   3/4 X 5               0.0                     3.060   \n             3X3X1/4               0.0                    12.740   \n             3X3X3/8               0.0                    15.120   \n             3X3X5/16              0.0                    27.450   \n...                                ...                       ...   \n2020-11-10   1/2 X 9               0.0                     4.284   \n             3/8 X 9               0.0                     2.181   \n2020-12-15   1 X 10                0.0                     2.040   \n             8 X 18.75#            0.0                     4.500   \n2020-12-18   4 X 5.4#              0.0                     1.944   \n\n                               SO_confirmed_qty  SH_shipment_tons  PR_ton  \ncalendar_day size                                                          \n2016-01-01   2 1/2X2 1/2X5/16           315.000               0.0     0.0  \n2016-01-02   3/4 X 5                      3.060               0.0     0.0  \n             3X3X1/4                     12.740               0.0     0.0  \n             3X3X3/8                     15.120               0.0     0.0  \n             3X3X5/16                    27.450               0.0     0.0  \n...                                         ...               ...     ...  \n2020-11-10   1/2 X 9                      4.284               0.0     0.0  \n             3/8 X 9                      2.181               0.0     0.0  \n2020-12-15   1 X 10                       2.040               0.0     0.0  \n             8 X 18.75#                   4.500               0.0     0.0  \n2020-12-18   4 X 5.4#                     1.944               0.0     0.0  \n\n[242555 rows x 5 columns]",
      "text/html": "<div>\n<style scoped>\n    .dataframe tbody tr th:only-of-type {\n        vertical-align: middle;\n    }\n\n    .dataframe tbody tr th {\n        vertical-align: top;\n    }\n\n    .dataframe thead th {\n        text-align: right;\n    }\n</style>\n<table border=\"1\" class=\"dataframe\">\n  <thead>\n    <tr style=\"text-align: right;\">\n      <th></th>\n      <th></th>\n      <th>IN_tons</th>\n      <th>SO_order_qty_sales_units</th>\n      <th>SO_confirmed_qty</th>\n      <th>SH_shipment_tons</th>\n      <th>PR_ton</th>\n    </tr>\n    <tr>\n      <th>calendar_day</th>\n      <th>size</th>\n      <th></th>\n      <th></th>\n      <th></th>\n      <th></th>\n      <th></th>\n    </tr>\n  </thead>\n  <tbody>\n    <tr>\n      <th>2016-01-01</th>\n      <th>2 1/2X2 1/2X5/16</th>\n      <td>0.0</td>\n      <td>315.000</td>\n      <td>315.000</td>\n      <td>0.0</td>\n      <td>0.0</td>\n    </tr>\n    <tr>\n      <th rowspan=\"4\" valign=\"top\">2016-01-02</th>\n      <th>3/4 X 5</th>\n      <td>0.0</td>\n      <td>3.060</td>\n      <td>3.060</td>\n      <td>0.0</td>\n      <td>0.0</td>\n    </tr>\n    <tr>\n      <th>3X3X1/4</th>\n      <td>0.0</td>\n      <td>12.740</td>\n      <td>12.740</td>\n      <td>0.0</td>\n      <td>0.0</td>\n    </tr>\n    <tr>\n      <th>3X3X3/8</th>\n      <td>0.0</td>\n      <td>15.120</td>\n      <td>15.120</td>\n      <td>0.0</td>\n      <td>0.0</td>\n    </tr>\n    <tr>\n      <th>3X3X5/16</th>\n      <td>0.0</td>\n      <td>27.450</td>\n      <td>27.450</td>\n      <td>0.0</td>\n      <td>0.0</td>\n    </tr>\n    <tr>\n      <th>...</th>\n      <th>...</th>\n      <td>...</td>\n      <td>...</td>\n      <td>...</td>\n      <td>...</td>\n      <td>...</td>\n    </tr>\n    <tr>\n      <th rowspan=\"2\" valign=\"top\">2020-11-10</th>\n      <th>1/2 X 9</th>\n      <td>0.0</td>\n      <td>4.284</td>\n      <td>4.284</td>\n      <td>0.0</td>\n      <td>0.0</td>\n    </tr>\n    <tr>\n      <th>3/8 X 9</th>\n      <td>0.0</td>\n      <td>2.181</td>\n      <td>2.181</td>\n      <td>0.0</td>\n      <td>0.0</td>\n    </tr>\n    <tr>\n      <th rowspan=\"2\" valign=\"top\">2020-12-15</th>\n      <th>1 X 10</th>\n      <td>0.0</td>\n      <td>2.040</td>\n      <td>2.040</td>\n      <td>0.0</td>\n      <td>0.0</td>\n    </tr>\n    <tr>\n      <th>8 X 18.75#</th>\n      <td>0.0</td>\n      <td>4.500</td>\n      <td>4.500</td>\n      <td>0.0</td>\n      <td>0.0</td>\n    </tr>\n    <tr>\n      <th>2020-12-18</th>\n      <th>4 X 5.4#</th>\n      <td>0.0</td>\n      <td>1.944</td>\n      <td>1.944</td>\n      <td>0.0</td>\n      <td>0.0</td>\n    </tr>\n  </tbody>\n</table>\n<p>242555 rows × 5 columns</p>\n</div>"
     },
     "metadata": {},
     "execution_count": 55
    }
   ],
   "source": [
    "#preview of merged by size\n",
    "merged_df.groupby(['calendar_day','size']).sum()"
   ]
  },
  {
   "cell_type": "code",
   "execution_count": 54,
   "metadata": {},
   "outputs": [
    {
     "output_type": "execute_result",
     "data": {
      "text/plain": "                         IN_tons  SO_order_qty_sales_units  SO_confirmed_qty  \\\ncalendar_day block                                                             \n2016-01-01   2-1/2\" ANG    0.000                   315.000           315.000   \n2016-01-02   3\" ANG        0.000                    55.310            55.310   \n             5\" ANG        0.000                    39.000            39.000   \n             5\" FLT        0.000                     3.060             3.060   \n2016-01-03   #7 REB      184.359                     0.000             0.000   \n...                          ...                       ...               ...   \n2020-09-11   3-1/2\" ANG    0.000                    45.900            45.900   \n2020-11-10   9\" FLT        0.000                     6.465             6.465   \n2020-12-15   10\" FLT       0.000                     2.040             2.040   \n             8\" CHN        0.000                     4.500             4.500   \n2020-12-18   4\" CHN        0.000                     1.944             1.944   \n\n                         SH_shipment_tons  PR_ton  \ncalendar_day block                                 \n2016-01-01   2-1/2\" ANG               0.0     0.0  \n2016-01-02   3\" ANG                   0.0     0.0  \n             5\" ANG                   0.0     0.0  \n             5\" FLT                   0.0     0.0  \n2016-01-03   #7 REB                   0.0     0.0  \n...                                   ...     ...  \n2020-09-11   3-1/2\" ANG               0.0     0.0  \n2020-11-10   9\" FLT                   0.0     0.0  \n2020-12-15   10\" FLT                  0.0     0.0  \n             8\" CHN                   0.0     0.0  \n2020-12-18   4\" CHN                   0.0     0.0  \n\n[81497 rows x 5 columns]",
      "text/html": "<div>\n<style scoped>\n    .dataframe tbody tr th:only-of-type {\n        vertical-align: middle;\n    }\n\n    .dataframe tbody tr th {\n        vertical-align: top;\n    }\n\n    .dataframe thead th {\n        text-align: right;\n    }\n</style>\n<table border=\"1\" class=\"dataframe\">\n  <thead>\n    <tr style=\"text-align: right;\">\n      <th></th>\n      <th></th>\n      <th>IN_tons</th>\n      <th>SO_order_qty_sales_units</th>\n      <th>SO_confirmed_qty</th>\n      <th>SH_shipment_tons</th>\n      <th>PR_ton</th>\n    </tr>\n    <tr>\n      <th>calendar_day</th>\n      <th>block</th>\n      <th></th>\n      <th></th>\n      <th></th>\n      <th></th>\n      <th></th>\n    </tr>\n  </thead>\n  <tbody>\n    <tr>\n      <th>2016-01-01</th>\n      <th>2-1/2\" ANG</th>\n      <td>0.000</td>\n      <td>315.000</td>\n      <td>315.000</td>\n      <td>0.0</td>\n      <td>0.0</td>\n    </tr>\n    <tr>\n      <th rowspan=\"3\" valign=\"top\">2016-01-02</th>\n      <th>3\" ANG</th>\n      <td>0.000</td>\n      <td>55.310</td>\n      <td>55.310</td>\n      <td>0.0</td>\n      <td>0.0</td>\n    </tr>\n    <tr>\n      <th>5\" ANG</th>\n      <td>0.000</td>\n      <td>39.000</td>\n      <td>39.000</td>\n      <td>0.0</td>\n      <td>0.0</td>\n    </tr>\n    <tr>\n      <th>5\" FLT</th>\n      <td>0.000</td>\n      <td>3.060</td>\n      <td>3.060</td>\n      <td>0.0</td>\n      <td>0.0</td>\n    </tr>\n    <tr>\n      <th>2016-01-03</th>\n      <th>#7 REB</th>\n      <td>184.359</td>\n      <td>0.000</td>\n      <td>0.000</td>\n      <td>0.0</td>\n      <td>0.0</td>\n    </tr>\n    <tr>\n      <th>...</th>\n      <th>...</th>\n      <td>...</td>\n      <td>...</td>\n      <td>...</td>\n      <td>...</td>\n      <td>...</td>\n    </tr>\n    <tr>\n      <th>2020-09-11</th>\n      <th>3-1/2\" ANG</th>\n      <td>0.000</td>\n      <td>45.900</td>\n      <td>45.900</td>\n      <td>0.0</td>\n      <td>0.0</td>\n    </tr>\n    <tr>\n      <th>2020-11-10</th>\n      <th>9\" FLT</th>\n      <td>0.000</td>\n      <td>6.465</td>\n      <td>6.465</td>\n      <td>0.0</td>\n      <td>0.0</td>\n    </tr>\n    <tr>\n      <th rowspan=\"2\" valign=\"top\">2020-12-15</th>\n      <th>10\" FLT</th>\n      <td>0.000</td>\n      <td>2.040</td>\n      <td>2.040</td>\n      <td>0.0</td>\n      <td>0.0</td>\n    </tr>\n    <tr>\n      <th>8\" CHN</th>\n      <td>0.000</td>\n      <td>4.500</td>\n      <td>4.500</td>\n      <td>0.0</td>\n      <td>0.0</td>\n    </tr>\n    <tr>\n      <th>2020-12-18</th>\n      <th>4\" CHN</th>\n      <td>0.000</td>\n      <td>1.944</td>\n      <td>1.944</td>\n      <td>0.0</td>\n      <td>0.0</td>\n    </tr>\n  </tbody>\n</table>\n<p>81497 rows × 5 columns</p>\n</div>"
     },
     "metadata": {},
     "execution_count": 54
    }
   ],
   "source": [
    "#preview of merged by block\n",
    "merged_df.groupby(['calendar_day','block']).sum()"
   ]
  },
  {
   "cell_type": "code",
   "execution_count": null,
   "metadata": {},
   "outputs": [],
   "source": [
    "#Convert to csv for easy share?\n",
    "#merged_df.to_pickle(ser_path + \"merged.pkl\")"
   ]
  }
 ],
 "metadata": {
  "language_info": {
   "codemirror_mode": {
    "name": "ipython",
    "version": 3
   },
   "file_extension": ".py",
   "mimetype": "text/x-python",
   "name": "python",
   "nbconvert_exporter": "python",
   "pygments_lexer": "ipython3",
   "version": "3.7.6-final"
  },
  "orig_nbformat": 2,
  "kernelspec": {
   "name": "python37664bitpftpipenv41a3325616004cea923f5375811f25e4",
   "display_name": "Python 3.7.6 64-bit ('pft': pipenv)"
  }
 },
 "nbformat": 4,
 "nbformat_minor": 2
}