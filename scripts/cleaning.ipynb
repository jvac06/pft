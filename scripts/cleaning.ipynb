{
 "cells": [
  {
   "cell_type": "markdown",
   "metadata": {},
   "source": [
    "# Let's get this party started"
   ],
   "execution_count": null,
   "outputs": []
  },
  {
   "cell_type": "code",
   "execution_count": 1,
   "metadata": {},
   "outputs": [],
   "source": [
    "#Dependencies\n",
    "import os\n",
    "import numpy as np\n",
    "import pandas as pd\n",
    "import joblib\n",
    "import matplotlib.pyplot as plt\n",
    "import seaborn as sns\n",
    "import re"
   ]
  },
  {
   "cell_type": "markdown",
   "metadata": {},
   "source": [
    "# 1. Framing the Problem & Big Picture look (see readme file)"
   ],
   "execution_count": null,
   "outputs": []
  },
  {
   "cell_type": "markdown",
   "metadata": {},
   "source": [
    "# 2. Get the Data"
   ],
   "execution_count": null,
   "outputs": []
  },
  {
   "cell_type": "code",
   "execution_count": 2,
   "metadata": {},
   "outputs": [],
   "source": [
    "#set path to datasets\n",
    "path = os.getcwd()\n",
    "os.chdir(\"../datasets/\")\n",
    "filename = \"sampledata.xlsx\"\n",
    "ser_path = \"./serialized/\""
   ]
  },
  {
   "cell_type": "code",
   "execution_count": 3,
   "metadata": {},
   "outputs": [],
   "source": [
    "#Importing company datasets\n",
    "#prod_hist = pd.read_excel(filename, sheet_name=\"production_hist\")\n",
    "#ship_hist = pd.read_excel(filename, sheet_name=\"shipment_hist\")\n",
    "#atp_hist = pd.read_excel(filename, sheet_name=\"atp_hist\")\n",
    "#inventory = pd.read_excel(filename, sheet_name=\"inventory\")"
   ]
  },
  {
   "cell_type": "code",
   "execution_count": 4,
   "metadata": {},
   "outputs": [],
   "source": [
    "#setting file names\n",
    "# data = [inventory, atp_hist, prod_hist, ship_hist]\n",
    "# fnames = [\"inventory\", \"atp_hist\", \"prod_hist\",\"ship_hist\"]\n",
    "# count = 0\n",
    "# for df in data:\n",
    "#     df.name = fnames[count]\n",
    "#     count+=1"
   ]
  },
  {
   "cell_type": "code",
   "execution_count": 5,
   "metadata": {},
   "outputs": [],
   "source": [
    "#saving dataframes into pickle files\n",
    "# for df in data:\n",
    "#     pklfile = df.name + \".pkl\"\n",
    "#     df.to_pickle(ser_path + pklfile)"
   ]
  },
  {
   "cell_type": "markdown",
   "metadata": {},
   "source": [
    "#saving dataframes into feather (not working)\n",
    "for df in data:\n",
    "    feafile = df.name\n",
    "    df.to_feather(ser_path+feafile)"
   ],
   "execution_count": null,
   "outputs": []
  },
  {
   "cell_type": "code",
   "metadata": {},
   "source": [
    "#see pklfile name order\n",
    "pklfiles = os.listdir(\"./serialized\")\n",
    "pklfiles"
   ],
   "execution_count": 6,
   "outputs": [
    {
     "output_type": "execute_result",
     "data": {
      "text/plain": "['ship_hist.pkl', 'inventory.pkl', 'atp_hist.pkl', 'prod_hist.pkl']"
     },
     "metadata": {},
     "execution_count": 6
    }
   ]
  },
  {
   "cell_type": "code",
   "execution_count": 7,
   "metadata": {},
   "outputs": [],
   "source": [
    "#Fast Upload using pickle files\n",
    "inventory = pd.read_pickle(ser_path+pklfiles[1])\n",
    "atp_hist = pd.read_pickle(ser_path+pklfiles[2])\n",
    "prod_hist = pd.read_pickle(ser_path+pklfiles[3])\n",
    "ship_hist = pd.read_pickle(ser_path+pklfiles[0])"
   ]
  },
  {
   "cell_type": "markdown",
   "metadata": {},
   "source": [
    "## Cleaning Up"
   ],
   "execution_count": null,
   "outputs": []
  },
  {
   "cell_type": "code",
   "execution_count": 8,
   "metadata": {},
   "outputs": [],
   "source": [
    "def clean_columns(dataframe):\n",
    "    for col in dataframe.columns:\n",
    "        dataframe.rename(columns={col:re.sub(r'([a-z](?=[A-Z])|[A-Z](?=[A-Z][a-z]))', r'\\1 ', col)}, inplace=True)\n",
    "    dataframe.columns = dataframe.columns.str.strip().str.lower().str.replace(\" \",\"_\")\n",
    "    try:\n",
    "        dataframe[\"calendar_day\"] = dataframe[\"calendar_day\"].astype(\"datetime64\")\n",
    "    except:\n",
    "        pass\n",
    "    try:\n",
    "        dataframe[\"snapshot_date\"] = dataframe[\"snapshot_date\"].astype(\"datetime64\")\n",
    "    finally:\n",
    "        return dataframe.columns"
   ]
  },
  {
   "cell_type": "code",
   "execution_count": 9,
   "metadata": {},
   "outputs": [],
   "source": [
    "# attempt to get rid of nulls, need to be more specific with fills to not loose valuable insight. \n",
    "# data = [inventory, atp_hist, prod_hist, ship_hist]\n",
    "# for df in data:\n",
    "#     df = df.fillna(0, inplace=True)"
   ]
  },
  {
   "cell_type": "markdown",
   "metadata": {},
   "source": [
    "### Inventory"
   ],
   "execution_count": null,
   "outputs": []
  },
  {
   "cell_type": "code",
   "execution_count": 10,
   "metadata": {},
   "outputs": [
    {
     "output_type": "execute_result",
     "data": {
      "text/plain": "Index(['calendar_day', 'plant', 'material', 'maktx', 'ph3', 'ph5', 'ph',\n       'material_type', 'tons', 'shape', 'size_for_qual_cert', 'strgr',\n       'block_resource', 'work_center', 'atp'],\n      dtype='object')"
     },
     "metadata": {},
     "execution_count": 10
    }
   ],
   "source": [
    "clean_columns(inventory)"
   ]
  },
  {
   "cell_type": "code",
   "execution_count": 11,
   "metadata": {},
   "outputs": [
    {
     "output_type": "stream",
     "name": "stdout",
     "text": "<class 'pandas.core.frame.DataFrame'>\nRangeIndex: 850873 entries, 0 to 850872\nData columns (total 15 columns):\n #   Column              Non-Null Count   Dtype         \n---  ------              --------------   -----         \n 0   calendar_day        850873 non-null  datetime64[ns]\n 1   plant               850873 non-null  int64         \n 2   material            850873 non-null  int64         \n 3   maktx               850873 non-null  object        \n 4   ph3                 850873 non-null  object        \n 5   ph5                 850873 non-null  object        \n 6   ph                  850873 non-null  object        \n 7   material_type       850873 non-null  object        \n 8   tons                850873 non-null  float64       \n 9   shape               848401 non-null  object        \n 10  size_for_qual_cert  848401 non-null  object        \n 11  strgr               850873 non-null  int64         \n 12  block_resource      626217 non-null  object        \n 13  work_center         850866 non-null  float64       \n 14  atp                 175364 non-null  float64       \ndtypes: datetime64[ns](1), float64(3), int64(3), object(8)\nmemory usage: 97.4+ MB\n"
    }
   ],
   "source": [
    "inventory.info()"
   ]
  },
  {
   "cell_type": "code",
   "execution_count": 12,
   "metadata": {},
   "outputs": [],
   "source": [
    "#Filling in empty atp rows with zero\n",
    "inventory[\"atp\"].fillna(0, inplace=True)"
   ]
  },
  {
   "cell_type": "code",
   "execution_count": 13,
   "metadata": {},
   "outputs": [],
   "source": [
    "# inventory[\"work_center\"] = inventory[\"work_center\"].astype(\"int64\")"
   ]
  },
  {
   "cell_type": "code",
   "execution_count": 14,
   "metadata": {},
   "outputs": [
    {
     "output_type": "execute_result",
     "data": {
      "text/plain": "array(['ZERT'], dtype=object)"
     },
     "metadata": {},
     "execution_count": 14
    }
   ],
   "source": [
    "inventory = inventory.loc[inventory[\"material_type\"]==\"ZERT\"]\n",
    "inventory[\"material_type\"].unique()"
   ]
  },
  {
   "cell_type": "code",
   "execution_count": 15,
   "metadata": {},
   "outputs": [
    {
     "output_type": "execute_result",
     "data": {
      "text/plain": "  calendar_day        sku              material_description  \\\n0   2020-02-23  106022474  L 2X2X1/4 A36/44W/A529-50 20'00\"   \n1   2020-02-20  106022474  L 2X2X1/4 A36/44W/A529-50 20'00\"   \n2   2020-02-19  106022474  L 2X2X1/4 A36/44W/A529-50 20'00\"   \n3   2020-02-18  106022474  L 2X2X1/4 A36/44W/A529-50 20'00\"   \n4   2020-02-17  106022474  L 2X2X1/4 A36/44W/A529-50 20'00\"   \n\n                         ph5    shape     size block_resource   tons  atp  \n0  LS-Mills-Mer-Mer-Lght Shp  SHAPE_L  2X2X1/4         2\" ANG  0.009  0.0  \n1  LS-Mills-Mer-Mer-Lght Shp  SHAPE_L  2X2X1/4         2\" ANG  0.009  0.0  \n2  LS-Mills-Mer-Mer-Lght Shp  SHAPE_L  2X2X1/4         2\" ANG  0.009  0.0  \n3  LS-Mills-Mer-Mer-Lght Shp  SHAPE_L  2X2X1/4         2\" ANG  0.009  0.0  \n4  LS-Mills-Mer-Mer-Lght Shp  SHAPE_L  2X2X1/4         2\" ANG  0.009  0.0  ",
      "text/html": "<div>\n<style scoped>\n    .dataframe tbody tr th:only-of-type {\n        vertical-align: middle;\n    }\n\n    .dataframe tbody tr th {\n        vertical-align: top;\n    }\n\n    .dataframe thead th {\n        text-align: right;\n    }\n</style>\n<table border=\"1\" class=\"dataframe\">\n  <thead>\n    <tr style=\"text-align: right;\">\n      <th></th>\n      <th>calendar_day</th>\n      <th>sku</th>\n      <th>material_description</th>\n      <th>ph5</th>\n      <th>shape</th>\n      <th>size</th>\n      <th>block_resource</th>\n      <th>tons</th>\n      <th>atp</th>\n    </tr>\n  </thead>\n  <tbody>\n    <tr>\n      <th>0</th>\n      <td>2020-02-23</td>\n      <td>106022474</td>\n      <td>L 2X2X1/4 A36/44W/A529-50 20'00\"</td>\n      <td>LS-Mills-Mer-Mer-Lght Shp</td>\n      <td>SHAPE_L</td>\n      <td>2X2X1/4</td>\n      <td>2\" ANG</td>\n      <td>0.009</td>\n      <td>0.0</td>\n    </tr>\n    <tr>\n      <th>1</th>\n      <td>2020-02-20</td>\n      <td>106022474</td>\n      <td>L 2X2X1/4 A36/44W/A529-50 20'00\"</td>\n      <td>LS-Mills-Mer-Mer-Lght Shp</td>\n      <td>SHAPE_L</td>\n      <td>2X2X1/4</td>\n      <td>2\" ANG</td>\n      <td>0.009</td>\n      <td>0.0</td>\n    </tr>\n    <tr>\n      <th>2</th>\n      <td>2020-02-19</td>\n      <td>106022474</td>\n      <td>L 2X2X1/4 A36/44W/A529-50 20'00\"</td>\n      <td>LS-Mills-Mer-Mer-Lght Shp</td>\n      <td>SHAPE_L</td>\n      <td>2X2X1/4</td>\n      <td>2\" ANG</td>\n      <td>0.009</td>\n      <td>0.0</td>\n    </tr>\n    <tr>\n      <th>3</th>\n      <td>2020-02-18</td>\n      <td>106022474</td>\n      <td>L 2X2X1/4 A36/44W/A529-50 20'00\"</td>\n      <td>LS-Mills-Mer-Mer-Lght Shp</td>\n      <td>SHAPE_L</td>\n      <td>2X2X1/4</td>\n      <td>2\" ANG</td>\n      <td>0.009</td>\n      <td>0.0</td>\n    </tr>\n    <tr>\n      <th>4</th>\n      <td>2020-02-17</td>\n      <td>106022474</td>\n      <td>L 2X2X1/4 A36/44W/A529-50 20'00\"</td>\n      <td>LS-Mills-Mer-Mer-Lght Shp</td>\n      <td>SHAPE_L</td>\n      <td>2X2X1/4</td>\n      <td>2\" ANG</td>\n      <td>0.009</td>\n      <td>0.0</td>\n    </tr>\n  </tbody>\n</table>\n</div>"
     },
     "metadata": {},
     "execution_count": 15
    }
   ],
   "source": [
    "inventory_reduced = inventory[[\"calendar_day\",\"material\",\"maktx\", \"ph5\", \"shape\", \"size_for_qual_cert\", \"block_resource\", \"tons\", \"atp\"]]\n",
    "inventory_reduced.rename(columns={\"material\":\"sku\", \"maktx\":\"material_description\", \"size_for_qual_cert\":\"size\"}, inplace=True)\n",
    "inventory_reduced.head()"
   ]
  },
  {
   "cell_type": "code",
   "execution_count": 16,
   "metadata": {},
   "outputs": [
    {
     "output_type": "stream",
     "name": "stdout",
     "text": "<class 'pandas.core.frame.DataFrame'>\nInt64Index: 649986 entries, 0 to 850872\nData columns (total 9 columns):\n #   Column                Non-Null Count   Dtype         \n---  ------                --------------   -----         \n 0   calendar_day          649986 non-null  datetime64[ns]\n 1   sku                   649986 non-null  int64         \n 2   material_description  649986 non-null  object        \n 3   ph5                   649986 non-null  object        \n 4   shape                 647514 non-null  object        \n 5   size                  647514 non-null  object        \n 6   block_resource        626217 non-null  object        \n 7   tons                  649986 non-null  float64       \n 8   atp                   649986 non-null  float64       \ndtypes: datetime64[ns](1), float64(2), int64(1), object(5)\nmemory usage: 49.6+ MB\n"
    }
   ],
   "source": [
    "inventory_reduced.info()"
   ]
  },
  {
   "cell_type": "code",
   "execution_count": 17,
   "metadata": {},
   "outputs": [
    {
     "output_type": "execute_result",
     "data": {
      "text/plain": "       calendar_day        sku         material_description  \\\n3819     2020-02-23  109004211       PR 3/8\" 1018 20'00\" CD   \n3820     2020-02-20  109004211       PR 3/8\" 1018 20'00\" CD   \n3821     2020-02-19  109004211       PR 3/8\" 1018 20'00\" CD   \n3822     2020-02-18  109004211       PR 3/8\" 1018 20'00\" CD   \n3823     2020-02-17  109004211       PR 3/8\" 1018 20'00\" CD   \n...             ...        ...                          ...   \n850145   2017-03-27  109004278  F 5/16X1 3/4 A36/44W 20'00\"   \n850146   2017-04-05  109004278  F 5/16X1 3/4 A36/44W 20'00\"   \n850147   2017-02-23  109004278  F 5/16X1 3/4 A36/44W 20'00\"   \n850148   2017-03-15  109004278  F 5/16X1 3/4 A36/44W 20'00\"   \n850149   2017-03-06  109004278  F 5/16X1 3/4 A36/44W 20'00\"   \n\n                         ph5       shape          size block_resource   tons  \\\n3819    LS-Mills-Mer-Mer-MBQ  PENCIL_ROD          3/8\"            NaN -0.002   \n3820    LS-Mills-Mer-Mer-MBQ  PENCIL_ROD          3/8\"            NaN -0.002   \n3821    LS-Mills-Mer-Mer-MBQ  PENCIL_ROD          3/8\"            NaN -0.002   \n3822    LS-Mills-Mer-Mer-MBQ  PENCIL_ROD          3/8\"            NaN -0.002   \n3823    LS-Mills-Mer-Mer-MBQ  PENCIL_ROD          3/8\"            NaN -0.002   \n...                      ...         ...           ...            ...    ...   \n850145  LS-Mills-Mer-Mer-MBQ        FLAT  5/16 X 1 3/4            NaN  0.001   \n850146  LS-Mills-Mer-Mer-MBQ        FLAT  5/16 X 1 3/4            NaN  0.001   \n850147  LS-Mills-Mer-Mer-MBQ        FLAT  5/16 X 1 3/4            NaN  0.001   \n850148  LS-Mills-Mer-Mer-MBQ        FLAT  5/16 X 1 3/4            NaN  0.001   \n850149  LS-Mills-Mer-Mer-MBQ        FLAT  5/16 X 1 3/4            NaN  0.001   \n\n        atp  \n3819    0.0  \n3820    0.0  \n3821    0.0  \n3822    0.0  \n3823    0.0  \n...     ...  \n850145  0.0  \n850146  0.0  \n850147  0.0  \n850148  0.0  \n850149  0.0  \n\n[26241 rows x 9 columns]",
      "text/html": "<div>\n<style scoped>\n    .dataframe tbody tr th:only-of-type {\n        vertical-align: middle;\n    }\n\n    .dataframe tbody tr th {\n        vertical-align: top;\n    }\n\n    .dataframe thead th {\n        text-align: right;\n    }\n</style>\n<table border=\"1\" class=\"dataframe\">\n  <thead>\n    <tr style=\"text-align: right;\">\n      <th></th>\n      <th>calendar_day</th>\n      <th>sku</th>\n      <th>material_description</th>\n      <th>ph5</th>\n      <th>shape</th>\n      <th>size</th>\n      <th>block_resource</th>\n      <th>tons</th>\n      <th>atp</th>\n    </tr>\n  </thead>\n  <tbody>\n    <tr>\n      <th>3819</th>\n      <td>2020-02-23</td>\n      <td>109004211</td>\n      <td>PR 3/8\" 1018 20'00\" CD</td>\n      <td>LS-Mills-Mer-Mer-MBQ</td>\n      <td>PENCIL_ROD</td>\n      <td>3/8\"</td>\n      <td>NaN</td>\n      <td>-0.002</td>\n      <td>0.0</td>\n    </tr>\n    <tr>\n      <th>3820</th>\n      <td>2020-02-20</td>\n      <td>109004211</td>\n      <td>PR 3/8\" 1018 20'00\" CD</td>\n      <td>LS-Mills-Mer-Mer-MBQ</td>\n      <td>PENCIL_ROD</td>\n      <td>3/8\"</td>\n      <td>NaN</td>\n      <td>-0.002</td>\n      <td>0.0</td>\n    </tr>\n    <tr>\n      <th>3821</th>\n      <td>2020-02-19</td>\n      <td>109004211</td>\n      <td>PR 3/8\" 1018 20'00\" CD</td>\n      <td>LS-Mills-Mer-Mer-MBQ</td>\n      <td>PENCIL_ROD</td>\n      <td>3/8\"</td>\n      <td>NaN</td>\n      <td>-0.002</td>\n      <td>0.0</td>\n    </tr>\n    <tr>\n      <th>3822</th>\n      <td>2020-02-18</td>\n      <td>109004211</td>\n      <td>PR 3/8\" 1018 20'00\" CD</td>\n      <td>LS-Mills-Mer-Mer-MBQ</td>\n      <td>PENCIL_ROD</td>\n      <td>3/8\"</td>\n      <td>NaN</td>\n      <td>-0.002</td>\n      <td>0.0</td>\n    </tr>\n    <tr>\n      <th>3823</th>\n      <td>2020-02-17</td>\n      <td>109004211</td>\n      <td>PR 3/8\" 1018 20'00\" CD</td>\n      <td>LS-Mills-Mer-Mer-MBQ</td>\n      <td>PENCIL_ROD</td>\n      <td>3/8\"</td>\n      <td>NaN</td>\n      <td>-0.002</td>\n      <td>0.0</td>\n    </tr>\n    <tr>\n      <th>...</th>\n      <td>...</td>\n      <td>...</td>\n      <td>...</td>\n      <td>...</td>\n      <td>...</td>\n      <td>...</td>\n      <td>...</td>\n      <td>...</td>\n      <td>...</td>\n    </tr>\n    <tr>\n      <th>850145</th>\n      <td>2017-03-27</td>\n      <td>109004278</td>\n      <td>F 5/16X1 3/4 A36/44W 20'00\"</td>\n      <td>LS-Mills-Mer-Mer-MBQ</td>\n      <td>FLAT</td>\n      <td>5/16 X 1 3/4</td>\n      <td>NaN</td>\n      <td>0.001</td>\n      <td>0.0</td>\n    </tr>\n    <tr>\n      <th>850146</th>\n      <td>2017-04-05</td>\n      <td>109004278</td>\n      <td>F 5/16X1 3/4 A36/44W 20'00\"</td>\n      <td>LS-Mills-Mer-Mer-MBQ</td>\n      <td>FLAT</td>\n      <td>5/16 X 1 3/4</td>\n      <td>NaN</td>\n      <td>0.001</td>\n      <td>0.0</td>\n    </tr>\n    <tr>\n      <th>850147</th>\n      <td>2017-02-23</td>\n      <td>109004278</td>\n      <td>F 5/16X1 3/4 A36/44W 20'00\"</td>\n      <td>LS-Mills-Mer-Mer-MBQ</td>\n      <td>FLAT</td>\n      <td>5/16 X 1 3/4</td>\n      <td>NaN</td>\n      <td>0.001</td>\n      <td>0.0</td>\n    </tr>\n    <tr>\n      <th>850148</th>\n      <td>2017-03-15</td>\n      <td>109004278</td>\n      <td>F 5/16X1 3/4 A36/44W 20'00\"</td>\n      <td>LS-Mills-Mer-Mer-MBQ</td>\n      <td>FLAT</td>\n      <td>5/16 X 1 3/4</td>\n      <td>NaN</td>\n      <td>0.001</td>\n      <td>0.0</td>\n    </tr>\n    <tr>\n      <th>850149</th>\n      <td>2017-03-06</td>\n      <td>109004278</td>\n      <td>F 5/16X1 3/4 A36/44W 20'00\"</td>\n      <td>LS-Mills-Mer-Mer-MBQ</td>\n      <td>FLAT</td>\n      <td>5/16 X 1 3/4</td>\n      <td>NaN</td>\n      <td>0.001</td>\n      <td>0.0</td>\n    </tr>\n  </tbody>\n</table>\n<p>26241 rows × 9 columns</p>\n</div>"
     },
     "metadata": {},
     "execution_count": 17
    }
   ],
   "source": [
    "inventory_reduced[inventory_reduced.isna().any(axis=1)]"
   ]
  },
  {
   "cell_type": "markdown",
   "metadata": {},
   "source": [
    "### ATP History"
   ],
   "execution_count": null,
   "outputs": []
  },
  {
   "cell_type": "code",
   "execution_count": 18,
   "metadata": {},
   "outputs": [
    {
     "output_type": "execute_result",
     "data": {
      "text/plain": "Index(['plant', 'plant_description', 'sku', 'atp_floor', 'snapshot_date'], dtype='object')"
     },
     "metadata": {},
     "execution_count": 18
    }
   ],
   "source": [
    "clean_columns(atp_hist)"
   ]
  },
  {
   "cell_type": "code",
   "execution_count": 19,
   "metadata": {},
   "outputs": [
    {
     "output_type": "stream",
     "name": "stdout",
     "text": "<class 'pandas.core.frame.DataFrame'>\nRangeIndex: 235706 entries, 0 to 235705\nData columns (total 5 columns):\n #   Column             Non-Null Count   Dtype         \n---  ------             --------------   -----         \n 0   plant              235706 non-null  int64         \n 1   plant_description  235706 non-null  object        \n 2   sku                235706 non-null  object        \n 3   atp_floor          235706 non-null  float64       \n 4   snapshot_date      235706 non-null  datetime64[ns]\ndtypes: datetime64[ns](1), float64(1), int64(1), object(2)\nmemory usage: 9.0+ MB\n"
    }
   ],
   "source": [
    "atp_hist.info()"
   ]
  },
  {
   "cell_type": "code",
   "execution_count": 20,
   "metadata": {},
   "outputs": [
    {
     "output_type": "execute_result",
     "data": {
      "text/plain": "         sku  atp_floor snapshot_date\n0  102003353        2.0    2019-11-01\n1  102003353        2.0    2019-10-17\n2  102003353        2.0    2019-10-16\n3  102003353        2.0    2019-10-15\n4  102003353        2.0    2019-10-14",
      "text/html": "<div>\n<style scoped>\n    .dataframe tbody tr th:only-of-type {\n        vertical-align: middle;\n    }\n\n    .dataframe tbody tr th {\n        vertical-align: top;\n    }\n\n    .dataframe thead th {\n        text-align: right;\n    }\n</style>\n<table border=\"1\" class=\"dataframe\">\n  <thead>\n    <tr style=\"text-align: right;\">\n      <th></th>\n      <th>sku</th>\n      <th>atp_floor</th>\n      <th>snapshot_date</th>\n    </tr>\n  </thead>\n  <tbody>\n    <tr>\n      <th>0</th>\n      <td>102003353</td>\n      <td>2.0</td>\n      <td>2019-11-01</td>\n    </tr>\n    <tr>\n      <th>1</th>\n      <td>102003353</td>\n      <td>2.0</td>\n      <td>2019-10-17</td>\n    </tr>\n    <tr>\n      <th>2</th>\n      <td>102003353</td>\n      <td>2.0</td>\n      <td>2019-10-16</td>\n    </tr>\n    <tr>\n      <th>3</th>\n      <td>102003353</td>\n      <td>2.0</td>\n      <td>2019-10-15</td>\n    </tr>\n    <tr>\n      <th>4</th>\n      <td>102003353</td>\n      <td>2.0</td>\n      <td>2019-10-14</td>\n    </tr>\n  </tbody>\n</table>\n</div>"
     },
     "metadata": {},
     "execution_count": 20
    }
   ],
   "source": [
    "atp_reduced = atp_hist[[\"sku\", \"atp_floor\", \"snapshot_date\"]]\n",
    "atp_reduced.head()"
   ]
  },
  {
   "cell_type": "markdown",
   "metadata": {},
   "source": [
    "### Production History"
   ],
   "execution_count": null,
   "outputs": []
  },
  {
   "cell_type": "code",
   "execution_count": 21,
   "metadata": {},
   "outputs": [
    {
     "output_type": "execute_result",
     "data": {
      "text/plain": "Index(['calendar_day', 'plant', 'plant_description', 'production_process',\n       'production_process_description', 'work_center', 'wc_description',\n       'material', 'material_description', 'ph3', 'ph5', 'ton', 'block',\n       'shape', 'size', 'stratedgy', 'month/year', 'year', 'monthyear'],\n      dtype='object')"
     },
     "metadata": {},
     "execution_count": 21
    }
   ],
   "source": [
    "clean_columns(prod_hist)"
   ]
  },
  {
   "cell_type": "code",
   "execution_count": 22,
   "metadata": {},
   "outputs": [
    {
     "output_type": "stream",
     "name": "stdout",
     "text": "<class 'pandas.core.frame.DataFrame'>\nRangeIndex: 41935 entries, 0 to 41934\nData columns (total 19 columns):\n #   Column                          Non-Null Count  Dtype         \n---  ------                          --------------  -----         \n 0   calendar_day                    41935 non-null  datetime64[ns]\n 1   plant                           41935 non-null  int64         \n 2   plant_description               41935 non-null  object        \n 3   production_process              41935 non-null  int64         \n 4   production_process_description  41935 non-null  object        \n 5   work_center                     37833 non-null  object        \n 6   wc_description                  41935 non-null  object        \n 7   material                        41935 non-null  int64         \n 8   material_description            41935 non-null  object        \n 9   ph3                             36579 non-null  object        \n 10  ph5                             36579 non-null  object        \n 11  ton                             41935 non-null  int64         \n 12  block                           14851 non-null  object        \n 13  shape                           36115 non-null  object        \n 14  size                            36115 non-null  object        \n 15  stratedgy                       36129 non-null  float64       \n 16  month/year                      41935 non-null  datetime64[ns]\n 17  year                            41935 non-null  int64         \n 18  monthyear                       41935 non-null  datetime64[ns]\ndtypes: datetime64[ns](3), float64(1), int64(5), object(10)\nmemory usage: 6.1+ MB\n"
    }
   ],
   "source": [
    "prod_hist.info()"
   ]
  },
  {
   "cell_type": "code",
   "execution_count": 23,
   "metadata": {},
   "outputs": [],
   "source": [
    "#Removing strategy 10 (Note: check assumption that these are all billets)\n",
    "prod_hist = prod_hist.loc[(prod_hist[\"stratedgy\"] !=10)]"
   ]
  },
  {
   "cell_type": "code",
   "execution_count": 24,
   "metadata": {},
   "outputs": [],
   "source": [
    "# prod_hist[\"stratedgy\"] = prod_hist[\"stratedgy\"].astype(\"int64\")"
   ]
  },
  {
   "cell_type": "code",
   "execution_count": 25,
   "metadata": {},
   "outputs": [
    {
     "output_type": "execute_result",
     "data": {
      "text/plain": "  calendar_day  production_process production_process_description  strategy  \\\n0   2013-02-06                4310                        Rolling      63.0   \n1   2013-02-06                4310                        Rolling      63.0   \n2   2013-02-06                4310                        Rolling      63.0   \n3   2013-02-06                4310                        Rolling      63.0   \n4   2013-02-06                4310                        Rolling      63.0   \n\n  work_center        wc_description   block    shape     size        sku  \\\n0    25000001  ROLLING - STRUCTURAL  4\" ANG  SHAPE_L  4X4X3/8  106023315   \n1    25000001  ROLLING - STRUCTURAL  4\" ANG  SHAPE_L  4X4X3/8  106022771   \n2    25000001  ROLLING - STRUCTURAL  4\" ANG  SHAPE_L  4X4X3/8  106022760   \n3    25000001  ROLLING - STRUCTURAL  4\" ANG  SHAPE_L  4X4X3/8  106022755   \n4    25000001  ROLLING - STRUCTURAL  4\" ANG  SHAPE_L  4X4X3/8  106022749   \n\n               material_description  ton  \n0              L 4X4X3/8 44W 60'00\"   40  \n1  L 4X4X3/8 A36/44W/A529-50 40'00\"  390  \n2  L 4X4X3/8 A36/44W/A529-50 20'00\"  345  \n3              L 4X4X3/8 55W 60'00\"  205  \n4              L 4X4X3/8 50W 60'00\"   32  ",
      "text/html": "<div>\n<style scoped>\n    .dataframe tbody tr th:only-of-type {\n        vertical-align: middle;\n    }\n\n    .dataframe tbody tr th {\n        vertical-align: top;\n    }\n\n    .dataframe thead th {\n        text-align: right;\n    }\n</style>\n<table border=\"1\" class=\"dataframe\">\n  <thead>\n    <tr style=\"text-align: right;\">\n      <th></th>\n      <th>calendar_day</th>\n      <th>production_process</th>\n      <th>production_process_description</th>\n      <th>strategy</th>\n      <th>work_center</th>\n      <th>wc_description</th>\n      <th>block</th>\n      <th>shape</th>\n      <th>size</th>\n      <th>sku</th>\n      <th>material_description</th>\n      <th>ton</th>\n    </tr>\n  </thead>\n  <tbody>\n    <tr>\n      <th>0</th>\n      <td>2013-02-06</td>\n      <td>4310</td>\n      <td>Rolling</td>\n      <td>63.0</td>\n      <td>25000001</td>\n      <td>ROLLING - STRUCTURAL</td>\n      <td>4\" ANG</td>\n      <td>SHAPE_L</td>\n      <td>4X4X3/8</td>\n      <td>106023315</td>\n      <td>L 4X4X3/8 44W 60'00\"</td>\n      <td>40</td>\n    </tr>\n    <tr>\n      <th>1</th>\n      <td>2013-02-06</td>\n      <td>4310</td>\n      <td>Rolling</td>\n      <td>63.0</td>\n      <td>25000001</td>\n      <td>ROLLING - STRUCTURAL</td>\n      <td>4\" ANG</td>\n      <td>SHAPE_L</td>\n      <td>4X4X3/8</td>\n      <td>106022771</td>\n      <td>L 4X4X3/8 A36/44W/A529-50 40'00\"</td>\n      <td>390</td>\n    </tr>\n    <tr>\n      <th>2</th>\n      <td>2013-02-06</td>\n      <td>4310</td>\n      <td>Rolling</td>\n      <td>63.0</td>\n      <td>25000001</td>\n      <td>ROLLING - STRUCTURAL</td>\n      <td>4\" ANG</td>\n      <td>SHAPE_L</td>\n      <td>4X4X3/8</td>\n      <td>106022760</td>\n      <td>L 4X4X3/8 A36/44W/A529-50 20'00\"</td>\n      <td>345</td>\n    </tr>\n    <tr>\n      <th>3</th>\n      <td>2013-02-06</td>\n      <td>4310</td>\n      <td>Rolling</td>\n      <td>63.0</td>\n      <td>25000001</td>\n      <td>ROLLING - STRUCTURAL</td>\n      <td>4\" ANG</td>\n      <td>SHAPE_L</td>\n      <td>4X4X3/8</td>\n      <td>106022755</td>\n      <td>L 4X4X3/8 55W 60'00\"</td>\n      <td>205</td>\n    </tr>\n    <tr>\n      <th>4</th>\n      <td>2013-02-06</td>\n      <td>4310</td>\n      <td>Rolling</td>\n      <td>63.0</td>\n      <td>25000001</td>\n      <td>ROLLING - STRUCTURAL</td>\n      <td>4\" ANG</td>\n      <td>SHAPE_L</td>\n      <td>4X4X3/8</td>\n      <td>106022749</td>\n      <td>L 4X4X3/8 50W 60'00\"</td>\n      <td>32</td>\n    </tr>\n  </tbody>\n</table>\n</div>"
     },
     "metadata": {},
     "execution_count": 25
    }
   ],
   "source": [
    "prod_reduced = prod_hist[[\"calendar_day\", \"production_process\", \"production_process_description\",\"stratedgy\",\"work_center\",\"wc_description\",\"block\",\"shape\",\"size\",\"material\",\"material_description\",\"ton\"]]\n",
    "prod_reduced.rename(columns={\"material\":\"sku\", \"stratedgy\":\"strategy\"}, inplace=True)\n",
    "prod_reduced.head()"
   ]
  },
  {
   "cell_type": "code",
   "execution_count": 26,
   "metadata": {},
   "outputs": [],
   "source": [
    "#Removing prod_processes up the supply chain: melt, scrap etc.\n",
    "prod_reduced = prod_reduced.loc[(prod_reduced[\"production_process_description\"] != \"Melt shop\") & (prod_reduced[\"production_process_description\"] != \"Scrap yard\")]\n",
    "prod_reduced = prod_reduced.loc[(prod_reduced[\"production_process_description\"] != \"Finishing production\")]"
   ]
  },
  {
   "cell_type": "code",
   "execution_count": 28,
   "metadata": {},
   "outputs": [
    {
     "output_type": "stream",
     "name": "stdout",
     "text": "<class 'pandas.core.frame.DataFrame'>\nInt64Index: 14822 entries, 0 to 36155\nData columns (total 12 columns):\n #   Column                          Non-Null Count  Dtype         \n---  ------                          --------------  -----         \n 0   calendar_day                    14822 non-null  datetime64[ns]\n 1   production_process              14822 non-null  int64         \n 2   production_process_description  14822 non-null  object        \n 3   strategy                        14820 non-null  float64       \n 4   work_center                     13452 non-null  object        \n 5   wc_description                  14822 non-null  object        \n 6   block                           14815 non-null  object        \n 7   shape                           14795 non-null  object        \n 8   size                            14795 non-null  object        \n 9   sku                             14822 non-null  int64         \n 10  material_description            14822 non-null  object        \n 11  ton                             14822 non-null  int64         \ndtypes: datetime64[ns](1), float64(1), int64(3), object(7)\nmemory usage: 1.5+ MB\n"
    }
   ],
   "source": [
    "prod_reduced.info()"
   ]
  },
  {
   "cell_type": "code",
   "execution_count": 29,
   "metadata": {},
   "outputs": [
    {
     "output_type": "execute_result",
     "data": {
      "text/plain": "35617    Rolling\n35618    Rolling\n35631    Rolling\n35632    Rolling\n36135    Rolling\n36154    Rolling\n36155    Rolling\nName: production_process_description, dtype: object"
     },
     "metadata": {},
     "execution_count": 29
    }
   ],
   "source": [
    "prod_reduced[prod_reduced[\"block\"].isna()][\"production_process_description\"]"
   ]
  },
  {
   "cell_type": "code",
   "execution_count": 30,
   "metadata": {},
   "outputs": [],
   "source": [
    "#need to figure out how to trace the 30K rows missing in block - maybe get rid of \"meltshop, scrap yard, finishing production\""
   ]
  },
  {
   "cell_type": "code",
   "execution_count": 31,
   "metadata": {},
   "outputs": [
    {
     "output_type": "execute_result",
     "data": {
      "text/plain": "                                calendar_day  production_process  strategy  \\\nproduction_process_description                                               \nRolling                                    7                   7         5   \n\n                                work_center  wc_description  block  shape  \\\nproduction_process_description                                              \nRolling                                   5               7      0      5   \n\n                                size  sku  material_description  ton  \nproduction_process_description                                        \nRolling                            5    7                     7    7  ",
      "text/html": "<div>\n<style scoped>\n    .dataframe tbody tr th:only-of-type {\n        vertical-align: middle;\n    }\n\n    .dataframe tbody tr th {\n        vertical-align: top;\n    }\n\n    .dataframe thead th {\n        text-align: right;\n    }\n</style>\n<table border=\"1\" class=\"dataframe\">\n  <thead>\n    <tr style=\"text-align: right;\">\n      <th></th>\n      <th>calendar_day</th>\n      <th>production_process</th>\n      <th>strategy</th>\n      <th>work_center</th>\n      <th>wc_description</th>\n      <th>block</th>\n      <th>shape</th>\n      <th>size</th>\n      <th>sku</th>\n      <th>material_description</th>\n      <th>ton</th>\n    </tr>\n    <tr>\n      <th>production_process_description</th>\n      <th></th>\n      <th></th>\n      <th></th>\n      <th></th>\n      <th></th>\n      <th></th>\n      <th></th>\n      <th></th>\n      <th></th>\n      <th></th>\n      <th></th>\n    </tr>\n  </thead>\n  <tbody>\n    <tr>\n      <th>Rolling</th>\n      <td>7</td>\n      <td>7</td>\n      <td>5</td>\n      <td>5</td>\n      <td>7</td>\n      <td>0</td>\n      <td>5</td>\n      <td>5</td>\n      <td>7</td>\n      <td>7</td>\n      <td>7</td>\n    </tr>\n  </tbody>\n</table>\n</div>"
     },
     "metadata": {},
     "execution_count": 31
    }
   ],
   "source": [
    "prod_reduced[prod_reduced[\"block\"].isna()].groupby(\"production_process_description\").count()"
   ]
  },
  {
   "cell_type": "code",
   "execution_count": 32,
   "metadata": {},
   "outputs": [
    {
     "output_type": "execute_result",
     "data": {
      "text/plain": "Empty DataFrame\nColumns: [calendar_day, production_process, production_process_description, strategy, work_center, wc_description, block, shape, size, sku, material_description, ton]\nIndex: []",
      "text/html": "<div>\n<style scoped>\n    .dataframe tbody tr th:only-of-type {\n        vertical-align: middle;\n    }\n\n    .dataframe tbody tr th {\n        vertical-align: top;\n    }\n\n    .dataframe thead th {\n        text-align: right;\n    }\n</style>\n<table border=\"1\" class=\"dataframe\">\n  <thead>\n    <tr style=\"text-align: right;\">\n      <th></th>\n      <th>calendar_day</th>\n      <th>production_process</th>\n      <th>production_process_description</th>\n      <th>strategy</th>\n      <th>work_center</th>\n      <th>wc_description</th>\n      <th>block</th>\n      <th>shape</th>\n      <th>size</th>\n      <th>sku</th>\n      <th>material_description</th>\n      <th>ton</th>\n    </tr>\n  </thead>\n  <tbody>\n  </tbody>\n</table>\n</div>"
     },
     "metadata": {},
     "execution_count": 32
    }
   ],
   "source": [
    "prod_reduced[prod_reduced[\"production_process_description\"]==\"Melt shop\"]"
   ]
  },
  {
   "cell_type": "markdown",
   "metadata": {},
   "source": [
    "### Ship History"
   ],
   "execution_count": null,
   "outputs": []
  },
  {
   "cell_type": "code",
   "execution_count": 33,
   "metadata": {},
   "outputs": [
    {
     "output_type": "execute_result",
     "data": {
      "text/plain": "Index(['shipping_day', 'plant', 'plant_description', 'sales_organization',\n       'sales_doc_type', 'outside_rep_ship-to', 'inside_rep_ship-to',\n       'sold-to_party', 'sold-to_part_name', 'ship-to_party',\n       'ship-to_party_name', 'postal_code', 'location', 'region',\n       'region_description', 'country', 'country_description', 'material',\n       'material_description', 'div_id', 'div', 'prod_hier_level_3',\n       'prod_hier_level_5', 'shipment_tons', 'manager', 'segment',\n       'plantcountry', 'businessdaycounter', 'block', 'lvorm', 'mrptype',\n       'proctype', 'relativemonth', 'shipping_week', 'strgr', 'shape',\n       'sizeforqualcert', 'dailyshiprate3', 'monthdelta', 'dailyshiprate6',\n       'dailyshiprate12', 'workcenter', 'wc_desc', 'bayou_flag'],\n      dtype='object')"
     },
     "metadata": {},
     "execution_count": 33
    }
   ],
   "source": [
    "clean_columns(ship_hist)"
   ]
  },
  {
   "cell_type": "code",
   "execution_count": 34,
   "metadata": {},
   "outputs": [
    {
     "output_type": "stream",
     "name": "stdout",
     "text": "<class 'pandas.core.frame.DataFrame'>\nRangeIndex: 156796 entries, 0 to 156795\nData columns (total 44 columns):\n #   Column                Non-Null Count   Dtype         \n---  ------                --------------   -----         \n 0   shipping_day          156796 non-null  datetime64[ns]\n 1   plant                 156796 non-null  int64         \n 2   plant_description     156796 non-null  object        \n 3   sales_organization    156796 non-null  object        \n 4   sales_doc_type        156796 non-null  object        \n 5   outside_rep_ship-to   156796 non-null  object        \n 6   inside_rep_ship-to    156796 non-null  object        \n 7   sold-to_party         156796 non-null  int64         \n 8   sold-to_part_name     156796 non-null  object        \n 9   ship-to_party         156796 non-null  int64         \n 10  ship-to_party_name    156796 non-null  object        \n 11  postal_code           156796 non-null  object        \n 12  location              156796 non-null  object        \n 13  region                156796 non-null  object        \n 14  region_description    156796 non-null  object        \n 15  country               156796 non-null  object        \n 16  country_description   156796 non-null  object        \n 17  material              156796 non-null  int64         \n 18  material_description  156796 non-null  object        \n 19  div_id                156796 non-null  int64         \n 20  div                   156796 non-null  object        \n 21  prod_hier_level_3     156796 non-null  object        \n 22  prod_hier_level_5     156796 non-null  object        \n 23  shipment_tons         155615 non-null  float64       \n 24  manager               154100 non-null  object        \n 25  segment               154100 non-null  object        \n 26  plantcountry          156796 non-null  object        \n 27  businessdaycounter    146985 non-null  float64       \n 28  block                 153079 non-null  object        \n 29  lvorm                 1374 non-null    object        \n 30  mrptype               156772 non-null  object        \n 31  proctype              156772 non-null  object        \n 32  relativemonth         156796 non-null  int64         \n 33  shipping_week         156796 non-null  datetime64[ns]\n 34  strgr                 156775 non-null  float64       \n 35  shape                 156775 non-null  object        \n 36  sizeforqualcert       156775 non-null  object        \n 37  dailyshiprate3        156322 non-null  float64       \n 38  monthdelta            156796 non-null  int64         \n 39  dailyshiprate6        155994 non-null  float64       \n 40  dailyshiprate12       155830 non-null  float64       \n 41  workcenter            126757 non-null  float64       \n 42  wc_desc               126721 non-null  object        \n 43  bayou_flag            110339 non-null  object        \ndtypes: datetime64[ns](2), float64(7), int64(7), object(28)\nmemory usage: 52.6+ MB\n"
    }
   ],
   "source": [
    "ship_hist.info()"
   ]
  },
  {
   "cell_type": "code",
   "execution_count": 35,
   "metadata": {},
   "outputs": [],
   "source": [
    "#Filling in NaN Shipment field rows to zero\n",
    "ship_hist[\"shipment_tons\"].fillna(0, inplace=True)"
   ]
  },
  {
   "cell_type": "code",
   "execution_count": 36,
   "metadata": {},
   "outputs": [],
   "source": [
    "# Attempt to get correct data types, needs work.\n",
    "# ship_hist[\"businessdaycounter\"] = ship_hist[\"businessdaycounter\"].astype(\"int64\")\n",
    "# ship_hist[\"strgr\"] = ship_hist[\"strgr\"].astype(\"int64\")\n",
    "# ship_hist[\"workcenter\"] = ship_hist[\"workcenter\"].astype(\"int64\")"
   ]
  },
  {
   "cell_type": "code",
   "execution_count": 37,
   "metadata": {},
   "outputs": [
    {
     "output_type": "execute_result",
     "data": {
      "text/plain": "  shipping_day       block  strategy    shape        size        div  \\\n0   2020-01-29      8\" CHN      40.0  SHAPE_C   8 X 11.5#  Merchants   \n1   2020-01-07      8\" CHN      40.0  SHAPE_C   8 X 11.5#  Merchants   \n2   2020-01-24      8\" CHN      40.0  SHAPE_C   8 X 11.5#  Merchants   \n3   2020-01-29  3 X 2\" ANG      40.0  SHAPE_L     3X2X1/2  Merchants   \n4   2020-01-27     12\" CHN      40.0  SHAPE_C  12 X 20.7#  Merchants   \n\n         sku       material_description  shipment_tons            segment  \\\n0  106021716   C 8X11.5# GGMULTI 40'00\"            0.0  NA - DISTRIBUTION   \n1  106021716   C 8X11.5# GGMULTI 40'00\"            0.0  NA - DISTRIBUTION   \n2  106021716   C 8X11.5# GGMULTI 40'00\"            0.0  NA - DISTRIBUTION   \n3  106022002   L 3X2X1/2 GGMULTI 40'00\"            0.0  NA - DISTRIBUTION   \n4  106020260  C 12X20.7# GGMULTI 40'00\"            0.0  NA - DISTRIBUTION   \n\n   sold-to_party  ship-to_party postal_code region_description country  \n0      100092779      100099953  72301-7103           Arkansas      US  \n1      100092779      100099953  72301-7103           Arkansas      US  \n2      100092318      100099655  37218-3813          Tennessee      US  \n3      100092779      100099953  72301-7103           Arkansas      US  \n4      100092309      100095766       35954            Alabama      US  ",
      "text/html": "<div>\n<style scoped>\n    .dataframe tbody tr th:only-of-type {\n        vertical-align: middle;\n    }\n\n    .dataframe tbody tr th {\n        vertical-align: top;\n    }\n\n    .dataframe thead th {\n        text-align: right;\n    }\n</style>\n<table border=\"1\" class=\"dataframe\">\n  <thead>\n    <tr style=\"text-align: right;\">\n      <th></th>\n      <th>shipping_day</th>\n      <th>block</th>\n      <th>strategy</th>\n      <th>shape</th>\n      <th>size</th>\n      <th>div</th>\n      <th>sku</th>\n      <th>material_description</th>\n      <th>shipment_tons</th>\n      <th>segment</th>\n      <th>sold-to_party</th>\n      <th>ship-to_party</th>\n      <th>postal_code</th>\n      <th>region_description</th>\n      <th>country</th>\n    </tr>\n  </thead>\n  <tbody>\n    <tr>\n      <th>0</th>\n      <td>2020-01-29</td>\n      <td>8\" CHN</td>\n      <td>40.0</td>\n      <td>SHAPE_C</td>\n      <td>8 X 11.5#</td>\n      <td>Merchants</td>\n      <td>106021716</td>\n      <td>C 8X11.5# GGMULTI 40'00\"</td>\n      <td>0.0</td>\n      <td>NA - DISTRIBUTION</td>\n      <td>100092779</td>\n      <td>100099953</td>\n      <td>72301-7103</td>\n      <td>Arkansas</td>\n      <td>US</td>\n    </tr>\n    <tr>\n      <th>1</th>\n      <td>2020-01-07</td>\n      <td>8\" CHN</td>\n      <td>40.0</td>\n      <td>SHAPE_C</td>\n      <td>8 X 11.5#</td>\n      <td>Merchants</td>\n      <td>106021716</td>\n      <td>C 8X11.5# GGMULTI 40'00\"</td>\n      <td>0.0</td>\n      <td>NA - DISTRIBUTION</td>\n      <td>100092779</td>\n      <td>100099953</td>\n      <td>72301-7103</td>\n      <td>Arkansas</td>\n      <td>US</td>\n    </tr>\n    <tr>\n      <th>2</th>\n      <td>2020-01-24</td>\n      <td>8\" CHN</td>\n      <td>40.0</td>\n      <td>SHAPE_C</td>\n      <td>8 X 11.5#</td>\n      <td>Merchants</td>\n      <td>106021716</td>\n      <td>C 8X11.5# GGMULTI 40'00\"</td>\n      <td>0.0</td>\n      <td>NA - DISTRIBUTION</td>\n      <td>100092318</td>\n      <td>100099655</td>\n      <td>37218-3813</td>\n      <td>Tennessee</td>\n      <td>US</td>\n    </tr>\n    <tr>\n      <th>3</th>\n      <td>2020-01-29</td>\n      <td>3 X 2\" ANG</td>\n      <td>40.0</td>\n      <td>SHAPE_L</td>\n      <td>3X2X1/2</td>\n      <td>Merchants</td>\n      <td>106022002</td>\n      <td>L 3X2X1/2 GGMULTI 40'00\"</td>\n      <td>0.0</td>\n      <td>NA - DISTRIBUTION</td>\n      <td>100092779</td>\n      <td>100099953</td>\n      <td>72301-7103</td>\n      <td>Arkansas</td>\n      <td>US</td>\n    </tr>\n    <tr>\n      <th>4</th>\n      <td>2020-01-27</td>\n      <td>12\" CHN</td>\n      <td>40.0</td>\n      <td>SHAPE_C</td>\n      <td>12 X 20.7#</td>\n      <td>Merchants</td>\n      <td>106020260</td>\n      <td>C 12X20.7# GGMULTI 40'00\"</td>\n      <td>0.0</td>\n      <td>NA - DISTRIBUTION</td>\n      <td>100092309</td>\n      <td>100095766</td>\n      <td>35954</td>\n      <td>Alabama</td>\n      <td>US</td>\n    </tr>\n  </tbody>\n</table>\n</div>"
     },
     "metadata": {},
     "execution_count": 37
    }
   ],
   "source": [
    "#Reducing main data frame\n",
    "ship_reduced = ship_hist[[\"shipping_day\", \"block\", \"strgr\", \"shape\", \"sizeforqualcert\", \"div\", \"material\", \"material_description\",\"shipment_tons\", \"segment\", \"sold-to_party\",\"ship-to_party\", \"postal_code\",\"region_description\", \"country\"]]\n",
    "ship_reduced.rename(columns={\"material\":\"sku\", \"strgr\":\"strategy\",\"sizeforqualcert\":\"size\"}, inplace=True)\n",
    "ship_reduced.head()"
   ]
  },
  {
   "cell_type": "code",
   "execution_count": 38,
   "metadata": {},
   "outputs": [
    {
     "output_type": "execute_result",
     "data": {
      "text/plain": "array(['Merchants', 'Rebar', 'Billets', 'SBQ Bar', 'Scrap'], dtype=object)"
     },
     "metadata": {},
     "execution_count": 38
    }
   ],
   "source": [
    "#Check unique Divisions\n",
    "ship_hist[\"div\"].unique()"
   ]
  },
  {
   "cell_type": "code",
   "execution_count": 39,
   "metadata": {},
   "outputs": [],
   "source": [
    "#Removing billets and scrap from dataframe\n",
    "ship_reduced = ship_reduced.loc[(ship_reduced[\"div\"] != \"Billets\") & (ship_reduced[\"div\"] != \"Scrap\")]"
   ]
  },
  {
   "cell_type": "code",
   "execution_count": 40,
   "metadata": {},
   "outputs": [
    {
     "output_type": "stream",
     "name": "stdout",
     "text": "<class 'pandas.core.frame.DataFrame'>\nInt64Index: 156711 entries, 0 to 156795\nData columns (total 15 columns):\n #   Column                Non-Null Count   Dtype         \n---  ------                --------------   -----         \n 0   shipping_day          156711 non-null  datetime64[ns]\n 1   block                 153079 non-null  object        \n 2   strategy              156700 non-null  float64       \n 3   shape                 156700 non-null  object        \n 4   size                  156700 non-null  object        \n 5   div                   156711 non-null  object        \n 6   sku                   156711 non-null  int64         \n 7   material_description  156711 non-null  object        \n 8   shipment_tons         156711 non-null  float64       \n 9   segment               154025 non-null  object        \n 10  sold-to_party         156711 non-null  int64         \n 11  ship-to_party         156711 non-null  int64         \n 12  postal_code           156711 non-null  object        \n 13  region_description    156711 non-null  object        \n 14  country               156711 non-null  object        \ndtypes: datetime64[ns](1), float64(2), int64(3), object(9)\nmemory usage: 19.1+ MB\n"
    }
   ],
   "source": [
    "ship_reduced.info()"
   ]
  },
  {
   "cell_type": "code",
   "execution_count": 41,
   "metadata": {},
   "outputs": [
    {
     "output_type": "execute_result",
     "data": {
      "text/plain": "       shipping_day       block  strategy    shape             size  \\\n91       2020-01-28  2-1/2\" ANG      40.0  SHAPE_L  2 1/2X2 1/2X1/4   \n152      2019-10-29  2-1/2\" ANG      40.0  SHAPE_L  2 1/2X2 1/2X1/4   \n314      2020-01-06         NaN      40.0     FLAT          1/4 X 5   \n430      2020-02-04      8\" FLT      40.0     FLAT          1/2 X 8   \n431      2020-02-04      2\" ANG      40.0  SHAPE_L          2X2X1/8   \n...             ...         ...       ...      ...              ...   \n155890   2017-05-24         NaN      40.0  SHAPE_C         15 X 50#   \n156012   2017-02-08         NaN      40.0  SHAPE_C       15 X 33.9#   \n156429   2017-03-22         NaN      40.0  SHAPE_C       15 X 33.9#   \n156455   2017-01-31         NaN      40.0  SHAPE_C       15 X 33.9#   \n156748   2017-01-30         NaN      40.0  SHAPE_C         15 X 40#   \n\n              div        sku              material_description  shipment_tons  \\\n91      Merchants  106028782  L 2 1/2X2 1/2X1/4 GGMULTI 20'00\"            0.0   \n152     Merchants  106028782  L 2 1/2X2 1/2X1/4 GGMULTI 20'00\"            0.0   \n314     Merchants  109005365            F 1/4X5 GGMULTI 20'00\"            0.0   \n430     Merchants  109008964            F 1/2X8 GGMULTI 20'00\"            0.0   \n431     Merchants  106029077          L 2X2X1/8 GGMULTI 20'00\"            0.0   \n...           ...        ...                               ...            ...   \n155890  Merchants  106027672           C 15X50# GGMULTI 40'00\"           24.0   \n156012  Merchants  106019519         C 15X33.9# GGMULTI 40'00\"            5.0   \n156429  Merchants  106027715         C 15X33.9# GGMULTI 50'00\"            8.0   \n156455  Merchants  106019519         C 15X33.9# GGMULTI 40'00\"            5.0   \n156748  Merchants  106027635           C 15X40# GGMULTI 40'00\"            5.0   \n\n                  segment  sold-to_party  ship-to_party postal_code  \\\n91                    NaN      100051158      100051158       77029   \n152                   NaN      100051158      100051158       77029   \n314     NA - DISTRIBUTION      100091890      100094606     N2R 1E6   \n430                   NaN      100092155      100478827     S6V 5P9   \n431                   NaN      100092155      100478827     S6V 5P9   \n...                   ...            ...            ...         ...   \n155890  NA - DISTRIBUTION      100091238      100103765  14606-3100   \n156012  NA - DISTRIBUTION      100060362      100060377  49444-2333   \n156429  NA - DISTRIBUTION      100060244      100060250  40209-1845   \n156455  NA - DISTRIBUTION      100060244      100114121       60440   \n156748  NA - DISTRIBUTION      100060244      100060255  48876-8795   \n\n       region_description country  \n91                  Texas      US  \n152                 Texas      US  \n314               Ontario      CA  \n430          Saskatchewan      CA  \n431          Saskatchewan      CA  \n...                   ...     ...  \n155890           New York      US  \n156012           Michigan      US  \n156429           Kentucky      US  \n156455           Illinois      US  \n156748           Michigan      US  \n\n[6020 rows x 15 columns]",
      "text/html": "<div>\n<style scoped>\n    .dataframe tbody tr th:only-of-type {\n        vertical-align: middle;\n    }\n\n    .dataframe tbody tr th {\n        vertical-align: top;\n    }\n\n    .dataframe thead th {\n        text-align: right;\n    }\n</style>\n<table border=\"1\" class=\"dataframe\">\n  <thead>\n    <tr style=\"text-align: right;\">\n      <th></th>\n      <th>shipping_day</th>\n      <th>block</th>\n      <th>strategy</th>\n      <th>shape</th>\n      <th>size</th>\n      <th>div</th>\n      <th>sku</th>\n      <th>material_description</th>\n      <th>shipment_tons</th>\n      <th>segment</th>\n      <th>sold-to_party</th>\n      <th>ship-to_party</th>\n      <th>postal_code</th>\n      <th>region_description</th>\n      <th>country</th>\n    </tr>\n  </thead>\n  <tbody>\n    <tr>\n      <th>91</th>\n      <td>2020-01-28</td>\n      <td>2-1/2\" ANG</td>\n      <td>40.0</td>\n      <td>SHAPE_L</td>\n      <td>2 1/2X2 1/2X1/4</td>\n      <td>Merchants</td>\n      <td>106028782</td>\n      <td>L 2 1/2X2 1/2X1/4 GGMULTI 20'00\"</td>\n      <td>0.0</td>\n      <td>NaN</td>\n      <td>100051158</td>\n      <td>100051158</td>\n      <td>77029</td>\n      <td>Texas</td>\n      <td>US</td>\n    </tr>\n    <tr>\n      <th>152</th>\n      <td>2019-10-29</td>\n      <td>2-1/2\" ANG</td>\n      <td>40.0</td>\n      <td>SHAPE_L</td>\n      <td>2 1/2X2 1/2X1/4</td>\n      <td>Merchants</td>\n      <td>106028782</td>\n      <td>L 2 1/2X2 1/2X1/4 GGMULTI 20'00\"</td>\n      <td>0.0</td>\n      <td>NaN</td>\n      <td>100051158</td>\n      <td>100051158</td>\n      <td>77029</td>\n      <td>Texas</td>\n      <td>US</td>\n    </tr>\n    <tr>\n      <th>314</th>\n      <td>2020-01-06</td>\n      <td>NaN</td>\n      <td>40.0</td>\n      <td>FLAT</td>\n      <td>1/4 X 5</td>\n      <td>Merchants</td>\n      <td>109005365</td>\n      <td>F 1/4X5 GGMULTI 20'00\"</td>\n      <td>0.0</td>\n      <td>NA - DISTRIBUTION</td>\n      <td>100091890</td>\n      <td>100094606</td>\n      <td>N2R 1E6</td>\n      <td>Ontario</td>\n      <td>CA</td>\n    </tr>\n    <tr>\n      <th>430</th>\n      <td>2020-02-04</td>\n      <td>8\" FLT</td>\n      <td>40.0</td>\n      <td>FLAT</td>\n      <td>1/2 X 8</td>\n      <td>Merchants</td>\n      <td>109008964</td>\n      <td>F 1/2X8 GGMULTI 20'00\"</td>\n      <td>0.0</td>\n      <td>NaN</td>\n      <td>100092155</td>\n      <td>100478827</td>\n      <td>S6V 5P9</td>\n      <td>Saskatchewan</td>\n      <td>CA</td>\n    </tr>\n    <tr>\n      <th>431</th>\n      <td>2020-02-04</td>\n      <td>2\" ANG</td>\n      <td>40.0</td>\n      <td>SHAPE_L</td>\n      <td>2X2X1/8</td>\n      <td>Merchants</td>\n      <td>106029077</td>\n      <td>L 2X2X1/8 GGMULTI 20'00\"</td>\n      <td>0.0</td>\n      <td>NaN</td>\n      <td>100092155</td>\n      <td>100478827</td>\n      <td>S6V 5P9</td>\n      <td>Saskatchewan</td>\n      <td>CA</td>\n    </tr>\n    <tr>\n      <th>...</th>\n      <td>...</td>\n      <td>...</td>\n      <td>...</td>\n      <td>...</td>\n      <td>...</td>\n      <td>...</td>\n      <td>...</td>\n      <td>...</td>\n      <td>...</td>\n      <td>...</td>\n      <td>...</td>\n      <td>...</td>\n      <td>...</td>\n      <td>...</td>\n      <td>...</td>\n    </tr>\n    <tr>\n      <th>155890</th>\n      <td>2017-05-24</td>\n      <td>NaN</td>\n      <td>40.0</td>\n      <td>SHAPE_C</td>\n      <td>15 X 50#</td>\n      <td>Merchants</td>\n      <td>106027672</td>\n      <td>C 15X50# GGMULTI 40'00\"</td>\n      <td>24.0</td>\n      <td>NA - DISTRIBUTION</td>\n      <td>100091238</td>\n      <td>100103765</td>\n      <td>14606-3100</td>\n      <td>New York</td>\n      <td>US</td>\n    </tr>\n    <tr>\n      <th>156012</th>\n      <td>2017-02-08</td>\n      <td>NaN</td>\n      <td>40.0</td>\n      <td>SHAPE_C</td>\n      <td>15 X 33.9#</td>\n      <td>Merchants</td>\n      <td>106019519</td>\n      <td>C 15X33.9# GGMULTI 40'00\"</td>\n      <td>5.0</td>\n      <td>NA - DISTRIBUTION</td>\n      <td>100060362</td>\n      <td>100060377</td>\n      <td>49444-2333</td>\n      <td>Michigan</td>\n      <td>US</td>\n    </tr>\n    <tr>\n      <th>156429</th>\n      <td>2017-03-22</td>\n      <td>NaN</td>\n      <td>40.0</td>\n      <td>SHAPE_C</td>\n      <td>15 X 33.9#</td>\n      <td>Merchants</td>\n      <td>106027715</td>\n      <td>C 15X33.9# GGMULTI 50'00\"</td>\n      <td>8.0</td>\n      <td>NA - DISTRIBUTION</td>\n      <td>100060244</td>\n      <td>100060250</td>\n      <td>40209-1845</td>\n      <td>Kentucky</td>\n      <td>US</td>\n    </tr>\n    <tr>\n      <th>156455</th>\n      <td>2017-01-31</td>\n      <td>NaN</td>\n      <td>40.0</td>\n      <td>SHAPE_C</td>\n      <td>15 X 33.9#</td>\n      <td>Merchants</td>\n      <td>106019519</td>\n      <td>C 15X33.9# GGMULTI 40'00\"</td>\n      <td>5.0</td>\n      <td>NA - DISTRIBUTION</td>\n      <td>100060244</td>\n      <td>100114121</td>\n      <td>60440</td>\n      <td>Illinois</td>\n      <td>US</td>\n    </tr>\n    <tr>\n      <th>156748</th>\n      <td>2017-01-30</td>\n      <td>NaN</td>\n      <td>40.0</td>\n      <td>SHAPE_C</td>\n      <td>15 X 40#</td>\n      <td>Merchants</td>\n      <td>106027635</td>\n      <td>C 15X40# GGMULTI 40'00\"</td>\n      <td>5.0</td>\n      <td>NA - DISTRIBUTION</td>\n      <td>100060244</td>\n      <td>100060255</td>\n      <td>48876-8795</td>\n      <td>Michigan</td>\n      <td>US</td>\n    </tr>\n  </tbody>\n</table>\n<p>6020 rows × 15 columns</p>\n</div>"
     },
     "metadata": {},
     "execution_count": 41
    }
   ],
   "source": [
    "#Show Sample of NaN fields\n",
    "ship_reduced[ship_reduced.isna().any(axis=1)]"
   ]
  },
  {
   "cell_type": "code",
   "execution_count": 42,
   "metadata": {},
   "outputs": [
    {
     "output_type": "execute_result",
     "data": {
      "text/plain": "            shipping_day  block  strategy  size   div   sku  \\\nshape                                                         \nASDRAWING              2      0         2     2     2     2   \nFLAT                2457      0      2457  2457  2457  2457   \nPENCIL_ROD            81      0        81    81    81    81   \nROUND                246      0       246   246   246   246   \nSHAPE_C              237      0       237   237   237   237   \nSHAPE_L              415      0       415   415   415   415   \nSHAPE_MC              31      0        31    31    31    31   \nSQUARE               152      0       152   152   152   152   \n\n            material_description  shipment_tons  segment  sold-to_party  \\\nshape                                                                     \nASDRAWING                      2              2        2              2   \nFLAT                        2457           2457     2249           2457   \nPENCIL_ROD                    81             81       81             81   \nROUND                        246            246      216            246   \nSHAPE_C                      237            237      231            237   \nSHAPE_L                      415            415      384            415   \nSHAPE_MC                      31             31       31             31   \nSQUARE                       152            152      139            152   \n\n            ship-to_party  postal_code  region_description  country  \nshape                                                                \nASDRAWING               2            2                   2        2  \nFLAT                 2457         2457                2457     2457  \nPENCIL_ROD             81           81                  81       81  \nROUND                 246          246                 246      246  \nSHAPE_C               237          237                 237      237  \nSHAPE_L               415          415                 415      415  \nSHAPE_MC               31           31                  31       31  \nSQUARE                152          152                 152      152  ",
      "text/html": "<div>\n<style scoped>\n    .dataframe tbody tr th:only-of-type {\n        vertical-align: middle;\n    }\n\n    .dataframe tbody tr th {\n        vertical-align: top;\n    }\n\n    .dataframe thead th {\n        text-align: right;\n    }\n</style>\n<table border=\"1\" class=\"dataframe\">\n  <thead>\n    <tr style=\"text-align: right;\">\n      <th></th>\n      <th>shipping_day</th>\n      <th>block</th>\n      <th>strategy</th>\n      <th>size</th>\n      <th>div</th>\n      <th>sku</th>\n      <th>material_description</th>\n      <th>shipment_tons</th>\n      <th>segment</th>\n      <th>sold-to_party</th>\n      <th>ship-to_party</th>\n      <th>postal_code</th>\n      <th>region_description</th>\n      <th>country</th>\n    </tr>\n    <tr>\n      <th>shape</th>\n      <th></th>\n      <th></th>\n      <th></th>\n      <th></th>\n      <th></th>\n      <th></th>\n      <th></th>\n      <th></th>\n      <th></th>\n      <th></th>\n      <th></th>\n      <th></th>\n      <th></th>\n      <th></th>\n    </tr>\n  </thead>\n  <tbody>\n    <tr>\n      <th>ASDRAWING</th>\n      <td>2</td>\n      <td>0</td>\n      <td>2</td>\n      <td>2</td>\n      <td>2</td>\n      <td>2</td>\n      <td>2</td>\n      <td>2</td>\n      <td>2</td>\n      <td>2</td>\n      <td>2</td>\n      <td>2</td>\n      <td>2</td>\n      <td>2</td>\n    </tr>\n    <tr>\n      <th>FLAT</th>\n      <td>2457</td>\n      <td>0</td>\n      <td>2457</td>\n      <td>2457</td>\n      <td>2457</td>\n      <td>2457</td>\n      <td>2457</td>\n      <td>2457</td>\n      <td>2249</td>\n      <td>2457</td>\n      <td>2457</td>\n      <td>2457</td>\n      <td>2457</td>\n      <td>2457</td>\n    </tr>\n    <tr>\n      <th>PENCIL_ROD</th>\n      <td>81</td>\n      <td>0</td>\n      <td>81</td>\n      <td>81</td>\n      <td>81</td>\n      <td>81</td>\n      <td>81</td>\n      <td>81</td>\n      <td>81</td>\n      <td>81</td>\n      <td>81</td>\n      <td>81</td>\n      <td>81</td>\n      <td>81</td>\n    </tr>\n    <tr>\n      <th>ROUND</th>\n      <td>246</td>\n      <td>0</td>\n      <td>246</td>\n      <td>246</td>\n      <td>246</td>\n      <td>246</td>\n      <td>246</td>\n      <td>246</td>\n      <td>216</td>\n      <td>246</td>\n      <td>246</td>\n      <td>246</td>\n      <td>246</td>\n      <td>246</td>\n    </tr>\n    <tr>\n      <th>SHAPE_C</th>\n      <td>237</td>\n      <td>0</td>\n      <td>237</td>\n      <td>237</td>\n      <td>237</td>\n      <td>237</td>\n      <td>237</td>\n      <td>237</td>\n      <td>231</td>\n      <td>237</td>\n      <td>237</td>\n      <td>237</td>\n      <td>237</td>\n      <td>237</td>\n    </tr>\n    <tr>\n      <th>SHAPE_L</th>\n      <td>415</td>\n      <td>0</td>\n      <td>415</td>\n      <td>415</td>\n      <td>415</td>\n      <td>415</td>\n      <td>415</td>\n      <td>415</td>\n      <td>384</td>\n      <td>415</td>\n      <td>415</td>\n      <td>415</td>\n      <td>415</td>\n      <td>415</td>\n    </tr>\n    <tr>\n      <th>SHAPE_MC</th>\n      <td>31</td>\n      <td>0</td>\n      <td>31</td>\n      <td>31</td>\n      <td>31</td>\n      <td>31</td>\n      <td>31</td>\n      <td>31</td>\n      <td>31</td>\n      <td>31</td>\n      <td>31</td>\n      <td>31</td>\n      <td>31</td>\n      <td>31</td>\n    </tr>\n    <tr>\n      <th>SQUARE</th>\n      <td>152</td>\n      <td>0</td>\n      <td>152</td>\n      <td>152</td>\n      <td>152</td>\n      <td>152</td>\n      <td>152</td>\n      <td>152</td>\n      <td>139</td>\n      <td>152</td>\n      <td>152</td>\n      <td>152</td>\n      <td>152</td>\n      <td>152</td>\n    </tr>\n  </tbody>\n</table>\n</div>"
     },
     "metadata": {},
     "execution_count": 42
    }
   ],
   "source": [
    "#Show the shape that show as null within the block\n",
    "ship_reduced[ship_reduced[\"block\"].isna()].groupby(\"shape\").count()"
   ]
  },
  {
   "cell_type": "markdown",
   "metadata": {},
   "source": [
    "### Cleaned Reduced Datasets"
   ],
   "execution_count": null,
   "outputs": []
  },
  {
   "cell_type": "code",
   "execution_count": 43,
   "metadata": {},
   "outputs": [],
   "source": [
    "data_reduced = [ship_reduced, inventory_reduced, atp_reduced, prod_reduced]\n",
    ""
   ]
  },
  {
   "cell_type": "code",
   "execution_count": 44,
   "metadata": {},
   "outputs": [
    {
     "output_type": "stream",
     "name": "stdout",
     "text": "Stored 'prod_reduced' (DataFrame)\nStored 'ship_reduced' (DataFrame)\nStored 'inventory_reduced' (DataFrame)\nStored 'atp_reduced' (DataFrame)\n"
    }
   ],
   "source": [
    "#storing cleaned Prod\n",
    "%store prod_reduced\n",
    "\n",
    "#storing cleaned Ship\n",
    "%store ship_reduced\n",
    "\n",
    "#storing cleaned Inventory\n",
    "%store inventory_reduced\n",
    "\n",
    "#storing cleaned ATP\n",
    "%store atp_reduced"
   ]
  },
  {
   "cell_type": "markdown",
   "metadata": {},
   "source": [
    "## Add Sales Order Data"
   ]
  },
  {
   "cell_type": "markdown",
   "metadata": {},
   "source": [
    "# 3. Exploratory Data Analysis"
   ]
  }
 ],
 "metadata": {
  "kernelspec": {
   "display_name": "Python 3.7.6 64-bit ('pft': pipenv)",
   "language": "python",
   "name": "python37664bitpftpipenv41a3325616004cea923f5375811f25e4"
  },
  "language_info": {
   "codemirror_mode": {
    "name": "ipython",
    "version": 3
   },
   "file_extension": ".py",
   "mimetype": "text/x-python",
   "name": "python",
   "nbconvert_exporter": "python",
   "pygments_lexer": "ipython3",
   "version": "3.7.6-final"
  }
 },
 "nbformat": 4,
 "nbformat_minor": 4
}