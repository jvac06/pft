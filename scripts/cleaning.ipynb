{
 "cells": [
  {
   "cell_type": "markdown",
   "metadata": {
    "toc-hr-collapsed": true,
    "toc-nb-collapsed": true
   },
   "source": [
    "# Let's get this party started"
   ]
  },
  {
   "cell_type": "code",
   "execution_count": 1,
   "metadata": {},
   "outputs": [],
   "source": [
    "#Dependencies\n",
    "import os\n",
    "import numpy as np\n",
    "import pandas as pd\n",
    "import joblib\n",
    "import matplotlib.pyplot as plt\n",
    "import seaborn as sns\n",
    "import re\n",
    "import datetime as dt"
   ]
  },
  {
   "cell_type": "markdown",
   "metadata": {
    "toc-hr-collapsed": true,
    "toc-nb-collapsed": true
   },
   "source": [
    "# Framing the Problem & Big Picture look (see readme file)"
   ]
  },
  {
   "cell_type": "markdown",
   "metadata": {
    "toc-hr-collapsed": true,
    "toc-nb-collapsed": true
   },
   "source": [
    "# Get the Data"
   ]
  },
  {
   "cell_type": "code",
   "execution_count": 2,
   "metadata": {},
   "outputs": [],
   "source": [
    "#set path to datasets\n",
    "path = os.getcwd()\n",
    "os.chdir(\"../datasets/\")\n",
    "filename = \"sampledata.xlsx\"\n",
    "ser_path = \"./serialized/\"\n",
    "filetwo = \"sale_orders.xlsx\"\n",
    "filethree = \"new_inventory.xlsx\""
   ]
  },
  {
   "cell_type": "code",
   "execution_count": 3,
   "metadata": {},
   "outputs": [],
   "source": [
    "#Importing company datasets\n",
    "#prod_hist = pd.read_excel(filename, sheet_name=\"production_hist\")\n",
    "#ship_hist = pd.read_excel(filename, sheet_name=\"shipment_hist\")\n",
    "#atp_hist = pd.read_excel(filename, sheet_name=\"atp_hist\")\n",
    "#inventory = pd.read_excel(filename, sheet_name=\"inventory\")"
   ]
  },
  {
   "cell_type": "code",
   "execution_count": 4,
   "metadata": {},
   "outputs": [],
   "source": [
    "#importing sales orders and new inventory\n",
    "# order_hist = pd.read_excel(filetwo, sheet_name = \"sale_orders\")\n",
    "# inv_hist2 = pd.read_excel(filethree, sheet_name = \"new_inv\")"
   ]
  },
  {
   "cell_type": "code",
   "execution_count": 5,
   "metadata": {},
   "outputs": [],
   "source": [
    "# #setting file names\n",
    "# data = [inventory, atp_hist, prod_hist, ship_hist]\n",
    "# fnames = [\"inventory\", \"atp_hist\", \"prod_hist\",\"ship_hist\"]\n",
    "# count = 0\n",
    "# for df in data:\n",
    "#     df.name = fnames[count]\n",
    "#     count+=1"
   ]
  },
  {
   "cell_type": "code",
   "execution_count": 6,
   "metadata": {},
   "outputs": [],
   "source": [
    "# #saving dataframes into pickle files\n",
    "# for df in data:\n",
    "#     pklfile = df.name + \".pkl\"\n",
    "#     df.to_pickle(ser_path + pklfile)"
   ]
  },
  {
   "cell_type": "code",
   "execution_count": 7,
   "metadata": {},
   "outputs": [],
   "source": [
    "# #setting file names\n",
    "# data2 = [order_hist, inv_hist2]\n",
    "# fnames = [\"order_hist\", \"inv_hist2\"]\n",
    "\n",
    "# count = 0\n",
    "# for df in data2:\n",
    "#     df.name = fnames[count]\n",
    "#     count+=1\n",
    "\n",
    "# #saving new data into pickle files\n",
    "# for df in data2:\n",
    "#     pklfile = df.name + \".pkl\"\n",
    "#     df.to_pickle(ser_path + pklfile)"
   ]
  },
  {
   "cell_type": "markdown",
   "metadata": {},
   "source": [
    "#saving dataframes into feather (not working)\n",
    "for df in data:\n",
    "    feafile = df.name\n",
    "    df.to_feather(ser_path+feafile)"
   ]
  },
  {
   "cell_type": "code",
   "execution_count": 8,
   "metadata": {},
   "outputs": [
    {
     "output_type": "execute_result",
     "data": {
      "text/plain": "['ship_hist.pkl',\n 'inventory.pkl',\n 'inv_hist2.pkl',\n 'order_hist.pkl',\n 'atp_hist.pkl',\n 'prod_hist.pkl',\n 'merged.pkl']"
     },
     "metadata": {},
     "execution_count": 8
    }
   ],
   "source": [
    "#see pklfile name order\n",
    "pklfiles = os.listdir(\"./serialized\")\n",
    "pklfiles"
   ]
  },
  {
   "cell_type": "code",
   "execution_count": 147,
   "metadata": {},
   "outputs": [],
   "source": [
    "#Fast Upload using pickle files\n",
    "ship_hist = pd.read_pickle(ser_path+pklfiles[0])\n",
    "inventory = pd.read_pickle(ser_path+pklfiles[1])\n",
    "inv_hist2 = pd.read_pickle(ser_path+pklfiles[2])\n",
    "order_hist = pd.read_pickle(ser_path+pklfiles[3])\n",
    "atp_hist = pd.read_pickle(ser_path+pklfiles[4])\n",
    "prod_hist = pd.read_pickle(ser_path+pklfiles[5])\n",
    "merged_df = pd.read_pickle(ser_path+pklfiles[6])"
   ]
  },
  {
   "cell_type": "markdown",
   "metadata": {},
   "source": [
    "# Cleaning Up"
   ]
  },
  {
   "cell_type": "markdown",
   "metadata": {
    "toc-hr-collapsed": true,
    "toc-nb-collapsed": true
   },
   "source": [
    "### function clean_columns"
   ]
  },
  {
   "cell_type": "code",
   "execution_count": 10,
   "metadata": {},
   "outputs": [],
   "source": [
    "def clean_columns(dataframe):\n",
    "    for col in dataframe.columns:\n",
    "        dataframe.rename(columns={col:re.sub(r'([a-z](?=[A-Z])|[A-Z](?=[A-Z][a-z]))', r'\\1 ', col)}, inplace=True)\n",
    "    dataframe.columns = dataframe.columns.str.strip().str.lower().str.replace(\" \",\"_\")\n",
    "    try:\n",
    "        dataframe[\"calendar_day\"] = dataframe[\"calendar_day\"].astype(\"datetime64\")\n",
    "    except:\n",
    "        pass\n",
    "    try:\n",
    "        dataframe[\"requested_date\"] = dataframe[\"requested_date\"].astype(\"datetime64\")\n",
    "        dataframe[\"confirmed_date\"] = dataframe[\"confirmed_date\"].astype(\"datetime64\")\n",
    "        dataframe[\"material_avail_date\"] = dataframe[\"material_avail_date\"].astype(\"datetime64\")\n",
    "        dataframe[\"load_date\"] = dataframe[\"load_date\"].astype(\"datetime64\")\n",
    "        dataframe[\"plan_goods_issue_date\"] = dataframe[\"plan_goods_issue_date\"].astype(\"datetime64\")\n",
    "    except:\n",
    "        pass\n",
    "    try:\n",
    "        dataframe[\"snapshot_date\"] = dataframe[\"snapshot_date\"].astype(\"datetime64\")\n",
    "    finally:\n",
    "        return dataframe.columns"
   ]
  },
  {
   "cell_type": "code",
   "execution_count": 11,
   "metadata": {},
   "outputs": [],
   "source": [
    "# attempt to get rid of nulls, need to be more specific with fills to not loose valuable insight. \n",
    "# data = [inventory, atp_hist, prod_hist, ship_hist]\n",
    "# for df in data:\n",
    "#     df = df.fillna(0, inplace=True)"
   ]
  },
  {
   "cell_type": "markdown",
   "metadata": {
    "toc-hr-collapsed": true,
    "toc-nb-collapsed": true
   },
   "source": [
    "### Inventory"
   ]
  },
  {
   "cell_type": "code",
   "execution_count": 12,
   "metadata": {},
   "outputs": [
    {
     "output_type": "execute_result",
     "data": {
      "text/plain": "Index(['calendar_day', 'plant', 'material', 'maktx', 'ph3', 'ph5', 'ph',\n       'material_type', 'tons', 'shape', 'size_for_qual_cert', 'strgr',\n       'block_resource', 'work_center', 'atp'],\n      dtype='object')"
     },
     "metadata": {},
     "execution_count": 12
    }
   ],
   "source": [
    "clean_columns(inventory)"
   ]
  },
  {
   "cell_type": "code",
   "execution_count": 13,
   "metadata": {},
   "outputs": [
    {
     "output_type": "execute_result",
     "data": {
      "text/plain": "  calendar_day  plant   material                             maktx  \\\n0   2020-02-23   1302  106022474  L 2X2X1/4 A36/44W/A529-50 20'00\"   \n1   2020-02-20   1302  106022474  L 2X2X1/4 A36/44W/A529-50 20'00\"   \n2   2020-02-19   1302  106022474  L 2X2X1/4 A36/44W/A529-50 20'00\"   \n3   2020-02-18   1302  106022474  L 2X2X1/4 A36/44W/A529-50 20'00\"   \n4   2020-02-17   1302  106022474  L 2X2X1/4 A36/44W/A529-50 20'00\"   \n\n            ph3                        ph5  \\\n0  LS-Mills-Mer  LS-Mills-Mer-Mer-Lght Shp   \n1  LS-Mills-Mer  LS-Mills-Mer-Mer-Lght Shp   \n2  LS-Mills-Mer  LS-Mills-Mer-Mer-Lght Shp   \n3  LS-Mills-Mer  LS-Mills-Mer-Mer-Lght Shp   \n4  LS-Mills-Mer  LS-Mills-Mer-Mer-Lght Shp   \n\n                                     ph material_type   tons    shape  \\\n0  LS-Mills-Mer-Mer-Lght Shp-MBQ Angles          ZERT  0.009  SHAPE_L   \n1  LS-Mills-Mer-Mer-Lght Shp-MBQ Angles          ZERT  0.009  SHAPE_L   \n2  LS-Mills-Mer-Mer-Lght Shp-MBQ Angles          ZERT  0.009  SHAPE_L   \n3  LS-Mills-Mer-Mer-Lght Shp-MBQ Angles          ZERT  0.009  SHAPE_L   \n4  LS-Mills-Mer-Mer-Lght Shp-MBQ Angles          ZERT  0.009  SHAPE_L   \n\n  size_for_qual_cert  strgr block_resource  work_center  atp  \n0            2X2X1/4     63         2\" ANG   25000001.0  NaN  \n1            2X2X1/4     63         2\" ANG   25000001.0  NaN  \n2            2X2X1/4     63         2\" ANG   25000001.0  NaN  \n3            2X2X1/4     63         2\" ANG   25000001.0  NaN  \n4            2X2X1/4     63         2\" ANG   25000001.0  NaN  ",
      "text/html": "<div>\n<style scoped>\n    .dataframe tbody tr th:only-of-type {\n        vertical-align: middle;\n    }\n\n    .dataframe tbody tr th {\n        vertical-align: top;\n    }\n\n    .dataframe thead th {\n        text-align: right;\n    }\n</style>\n<table border=\"1\" class=\"dataframe\">\n  <thead>\n    <tr style=\"text-align: right;\">\n      <th></th>\n      <th>calendar_day</th>\n      <th>plant</th>\n      <th>material</th>\n      <th>maktx</th>\n      <th>ph3</th>\n      <th>ph5</th>\n      <th>ph</th>\n      <th>material_type</th>\n      <th>tons</th>\n      <th>shape</th>\n      <th>size_for_qual_cert</th>\n      <th>strgr</th>\n      <th>block_resource</th>\n      <th>work_center</th>\n      <th>atp</th>\n    </tr>\n  </thead>\n  <tbody>\n    <tr>\n      <th>0</th>\n      <td>2020-02-23</td>\n      <td>1302</td>\n      <td>106022474</td>\n      <td>L 2X2X1/4 A36/44W/A529-50 20'00\"</td>\n      <td>LS-Mills-Mer</td>\n      <td>LS-Mills-Mer-Mer-Lght Shp</td>\n      <td>LS-Mills-Mer-Mer-Lght Shp-MBQ Angles</td>\n      <td>ZERT</td>\n      <td>0.009</td>\n      <td>SHAPE_L</td>\n      <td>2X2X1/4</td>\n      <td>63</td>\n      <td>2\" ANG</td>\n      <td>25000001.0</td>\n      <td>NaN</td>\n    </tr>\n    <tr>\n      <th>1</th>\n      <td>2020-02-20</td>\n      <td>1302</td>\n      <td>106022474</td>\n      <td>L 2X2X1/4 A36/44W/A529-50 20'00\"</td>\n      <td>LS-Mills-Mer</td>\n      <td>LS-Mills-Mer-Mer-Lght Shp</td>\n      <td>LS-Mills-Mer-Mer-Lght Shp-MBQ Angles</td>\n      <td>ZERT</td>\n      <td>0.009</td>\n      <td>SHAPE_L</td>\n      <td>2X2X1/4</td>\n      <td>63</td>\n      <td>2\" ANG</td>\n      <td>25000001.0</td>\n      <td>NaN</td>\n    </tr>\n    <tr>\n      <th>2</th>\n      <td>2020-02-19</td>\n      <td>1302</td>\n      <td>106022474</td>\n      <td>L 2X2X1/4 A36/44W/A529-50 20'00\"</td>\n      <td>LS-Mills-Mer</td>\n      <td>LS-Mills-Mer-Mer-Lght Shp</td>\n      <td>LS-Mills-Mer-Mer-Lght Shp-MBQ Angles</td>\n      <td>ZERT</td>\n      <td>0.009</td>\n      <td>SHAPE_L</td>\n      <td>2X2X1/4</td>\n      <td>63</td>\n      <td>2\" ANG</td>\n      <td>25000001.0</td>\n      <td>NaN</td>\n    </tr>\n    <tr>\n      <th>3</th>\n      <td>2020-02-18</td>\n      <td>1302</td>\n      <td>106022474</td>\n      <td>L 2X2X1/4 A36/44W/A529-50 20'00\"</td>\n      <td>LS-Mills-Mer</td>\n      <td>LS-Mills-Mer-Mer-Lght Shp</td>\n      <td>LS-Mills-Mer-Mer-Lght Shp-MBQ Angles</td>\n      <td>ZERT</td>\n      <td>0.009</td>\n      <td>SHAPE_L</td>\n      <td>2X2X1/4</td>\n      <td>63</td>\n      <td>2\" ANG</td>\n      <td>25000001.0</td>\n      <td>NaN</td>\n    </tr>\n    <tr>\n      <th>4</th>\n      <td>2020-02-17</td>\n      <td>1302</td>\n      <td>106022474</td>\n      <td>L 2X2X1/4 A36/44W/A529-50 20'00\"</td>\n      <td>LS-Mills-Mer</td>\n      <td>LS-Mills-Mer-Mer-Lght Shp</td>\n      <td>LS-Mills-Mer-Mer-Lght Shp-MBQ Angles</td>\n      <td>ZERT</td>\n      <td>0.009</td>\n      <td>SHAPE_L</td>\n      <td>2X2X1/4</td>\n      <td>63</td>\n      <td>2\" ANG</td>\n      <td>25000001.0</td>\n      <td>NaN</td>\n    </tr>\n  </tbody>\n</table>\n</div>"
     },
     "metadata": {},
     "execution_count": 13
    }
   ],
   "source": [
    "inventory.head(5)"
   ]
  },
  {
   "cell_type": "code",
   "execution_count": 14,
   "metadata": {},
   "outputs": [
    {
     "output_type": "stream",
     "name": "stdout",
     "text": "<class 'pandas.core.frame.DataFrame'>\nRangeIndex: 850873 entries, 0 to 850872\nData columns (total 15 columns):\n #   Column              Non-Null Count   Dtype         \n---  ------              --------------   -----         \n 0   calendar_day        850873 non-null  datetime64[ns]\n 1   plant               850873 non-null  int64         \n 2   material            850873 non-null  int64         \n 3   maktx               850873 non-null  object        \n 4   ph3                 850873 non-null  object        \n 5   ph5                 850873 non-null  object        \n 6   ph                  850873 non-null  object        \n 7   material_type       850873 non-null  object        \n 8   tons                850873 non-null  float64       \n 9   shape               848401 non-null  object        \n 10  size_for_qual_cert  848401 non-null  object        \n 11  strgr               850873 non-null  int64         \n 12  block_resource      626217 non-null  object        \n 13  work_center         850866 non-null  float64       \n 14  atp                 175364 non-null  float64       \ndtypes: datetime64[ns](1), float64(3), int64(3), object(8)\nmemory usage: 97.4+ MB\n"
    }
   ],
   "source": [
    "inventory.info()"
   ]
  },
  {
   "cell_type": "code",
   "execution_count": 15,
   "metadata": {},
   "outputs": [],
   "source": [
    "#Filling in empty atp rows with zero\n",
    "inventory[\"atp\"].fillna(0, inplace=True)"
   ]
  },
  {
   "cell_type": "code",
   "execution_count": 16,
   "metadata": {},
   "outputs": [],
   "source": [
    "# inventory[\"work_center\"] = inventory[\"work_center\"].astype(\"int64\")"
   ]
  },
  {
   "cell_type": "code",
   "execution_count": 17,
   "metadata": {},
   "outputs": [
    {
     "output_type": "execute_result",
     "data": {
      "text/plain": "array(['ZERT'], dtype=object)"
     },
     "metadata": {},
     "execution_count": 17
    }
   ],
   "source": [
    "inventory = inventory.loc[inventory[\"material_type\"]==\"ZERT\"]\n",
    "inventory[\"material_type\"].unique()"
   ]
  },
  {
   "cell_type": "code",
   "execution_count": 18,
   "metadata": {},
   "outputs": [
    {
     "output_type": "execute_result",
     "data": {
      "text/plain": "       calendar_day  strategy        sku  \\\n799352   2017-01-01        63  102003236   \n799094   2017-01-01        63  102003053   \n799267   2017-01-01        63  102003353   \n799180   2017-01-01        63  102003354   \n844399   2017-01-01        40  106020238   \n\n                            material_description  work_center  \\\n799352       BL 5 1/8X7 3/8 1010M-446_1302 3,800   18000001.0   \n799094    BL 5 1/8X7 3/8 1010M-446_1302 3,858 SA   18000001.0   \n799267  BL 5 1/8X7 3/8 GAU_1050-501_1302 3168 SA   18000001.0   \n799180  BL 5 1/8X7 3/8 GAU_MG12-500_1302 3220 SA   18000001.0   \n844399                 C 10X15.3# GGMULTI 20'00\"   25000001.0   \n\n                                        ph        shape           size  \\\n799352        LS-Mills-Bil-Bil-Bil-Billets  RECTANGULAR  5 1/8 X 7 3/8   \n799094        LS-Mills-Bil-Bil-Bil-Billets  RECTANGULAR  5 1/8 X 7 3/8   \n799267        LS-Mills-Bil-Bil-Bil-Billets  RECTANGULAR  5 1/8 X 7 3/8   \n799180        LS-Mills-Bil-Bil-Bil-Billets  RECTANGULAR  5 1/8 X 7 3/8   \n844399  LS-Mills-Mer-Mer-Strc A&C-Channels      SHAPE_C     10 X 15.3#   \n\n          block        tons  atp  \n799352      NaN    9.442000  0.0  \n799094      NaN    1.929000  0.0  \n799267      NaN    7.920000  0.0  \n799180      NaN   11.380000  0.0  \n844399  10\" CHN  110.007004  0.0  ",
      "text/html": "<div>\n<style scoped>\n    .dataframe tbody tr th:only-of-type {\n        vertical-align: middle;\n    }\n\n    .dataframe tbody tr th {\n        vertical-align: top;\n    }\n\n    .dataframe thead th {\n        text-align: right;\n    }\n</style>\n<table border=\"1\" class=\"dataframe\">\n  <thead>\n    <tr style=\"text-align: right;\">\n      <th></th>\n      <th>calendar_day</th>\n      <th>strategy</th>\n      <th>sku</th>\n      <th>material_description</th>\n      <th>work_center</th>\n      <th>ph</th>\n      <th>shape</th>\n      <th>size</th>\n      <th>block</th>\n      <th>tons</th>\n      <th>atp</th>\n    </tr>\n  </thead>\n  <tbody>\n    <tr>\n      <th>799352</th>\n      <td>2017-01-01</td>\n      <td>63</td>\n      <td>102003236</td>\n      <td>BL 5 1/8X7 3/8 1010M-446_1302 3,800</td>\n      <td>18000001.0</td>\n      <td>LS-Mills-Bil-Bil-Bil-Billets</td>\n      <td>RECTANGULAR</td>\n      <td>5 1/8 X 7 3/8</td>\n      <td>NaN</td>\n      <td>9.442000</td>\n      <td>0.0</td>\n    </tr>\n    <tr>\n      <th>799094</th>\n      <td>2017-01-01</td>\n      <td>63</td>\n      <td>102003053</td>\n      <td>BL 5 1/8X7 3/8 1010M-446_1302 3,858 SA</td>\n      <td>18000001.0</td>\n      <td>LS-Mills-Bil-Bil-Bil-Billets</td>\n      <td>RECTANGULAR</td>\n      <td>5 1/8 X 7 3/8</td>\n      <td>NaN</td>\n      <td>1.929000</td>\n      <td>0.0</td>\n    </tr>\n    <tr>\n      <th>799267</th>\n      <td>2017-01-01</td>\n      <td>63</td>\n      <td>102003353</td>\n      <td>BL 5 1/8X7 3/8 GAU_1050-501_1302 3168 SA</td>\n      <td>18000001.0</td>\n      <td>LS-Mills-Bil-Bil-Bil-Billets</td>\n      <td>RECTANGULAR</td>\n      <td>5 1/8 X 7 3/8</td>\n      <td>NaN</td>\n      <td>7.920000</td>\n      <td>0.0</td>\n    </tr>\n    <tr>\n      <th>799180</th>\n      <td>2017-01-01</td>\n      <td>63</td>\n      <td>102003354</td>\n      <td>BL 5 1/8X7 3/8 GAU_MG12-500_1302 3220 SA</td>\n      <td>18000001.0</td>\n      <td>LS-Mills-Bil-Bil-Bil-Billets</td>\n      <td>RECTANGULAR</td>\n      <td>5 1/8 X 7 3/8</td>\n      <td>NaN</td>\n      <td>11.380000</td>\n      <td>0.0</td>\n    </tr>\n    <tr>\n      <th>844399</th>\n      <td>2017-01-01</td>\n      <td>40</td>\n      <td>106020238</td>\n      <td>C 10X15.3# GGMULTI 20'00\"</td>\n      <td>25000001.0</td>\n      <td>LS-Mills-Mer-Mer-Strc A&amp;C-Channels</td>\n      <td>SHAPE_C</td>\n      <td>10 X 15.3#</td>\n      <td>10\" CHN</td>\n      <td>110.007004</td>\n      <td>0.0</td>\n    </tr>\n  </tbody>\n</table>\n</div>"
     },
     "metadata": {},
     "execution_count": 18
    }
   ],
   "source": [
    "inv_reduced = inventory[[\"calendar_day\", \"strgr\", \"material\", \"maktx\", \"work_center\", \"ph\", \"shape\", \"size_for_qual_cert\", \"block_resource\", \"tons\", \"atp\"]]\n",
    "inv_reduced.rename(columns={\"material\":\"sku\", \"maktx\":\"material_description\", \"size_for_qual_cert\":\"size\", \"block_resource\":\"block\", \"strgr\":\"strategy\"}, inplace=True)\n",
    "inv_reduced = inv_reduced.sort_values([\"calendar_day\", \"material_description\"])\n",
    "inv_reduced.head()"
   ]
  },
  {
   "cell_type": "code",
   "execution_count": 19,
   "metadata": {},
   "outputs": [],
   "source": [
    "#changing dtype\n",
    "inv_reduced[\"strategy\"] = inv_reduced[\"strategy\"].astype(\"category\")\n",
    "inv_reduced[\"sku\"] = inv_reduced[\"sku\"].astype(\"object\")\n",
    "inv_reduced[\"work_center\"] = inv_reduced[\"work_center\"].astype(\"category\")"
   ]
  },
  {
   "cell_type": "code",
   "execution_count": 20,
   "metadata": {},
   "outputs": [
    {
     "output_type": "stream",
     "name": "stdout",
     "text": "<class 'pandas.core.frame.DataFrame'>\nInt64Index: 649986 entries, 799352 to 18367\nData columns (total 11 columns):\n #   Column                Non-Null Count   Dtype         \n---  ------                --------------   -----         \n 0   calendar_day          649986 non-null  datetime64[ns]\n 1   strategy              649986 non-null  category      \n 2   sku                   649986 non-null  object        \n 3   material_description  649986 non-null  object        \n 4   work_center           649979 non-null  category      \n 5   ph                    649986 non-null  object        \n 6   shape                 647514 non-null  object        \n 7   size                  647514 non-null  object        \n 8   block                 626217 non-null  object        \n 9   tons                  649986 non-null  float64       \n 10  atp                   649986 non-null  float64       \ndtypes: category(2), datetime64[ns](1), float64(2), object(6)\nmemory usage: 50.8+ MB\n"
    }
   ],
   "source": [
    "#view of new dtypes & counts\n",
    "inv_reduced.info()"
   ]
  },
  {
   "cell_type": "code",
   "execution_count": 21,
   "metadata": {},
   "outputs": [
    {
     "output_type": "execute_result",
     "data": {
      "text/plain": "       calendar_day strategy        sku  \\\n799352   2017-01-01       63  102003236   \n799094   2017-01-01       63  102003053   \n799267   2017-01-01       63  102003353   \n799180   2017-01-01       63  102003354   \n840484   2017-01-01       40  106020149   \n...             ...      ...        ...   \n3819     2020-02-23       40  109004211   \n19798    2020-02-23       63  205012261   \n8136     2020-02-23       40  109250351   \n8134     2020-02-23       63  109250353   \n8133     2020-02-23       40  109250355   \n\n                            material_description work_center  \\\n799352       BL 5 1/8X7 3/8 1010M-446_1302 3,800  18000001.0   \n799094    BL 5 1/8X7 3/8 1010M-446_1302 3,858 SA  18000001.0   \n799267  BL 5 1/8X7 3/8 GAU_1050-501_1302 3168 SA  18000001.0   \n799180  BL 5 1/8X7 3/8 GAU_MG12-500_1302 3220 SA  18000001.0   \n840484                   C 12X30# GGMULTI 20'00\"  25000001.0   \n...                                          ...         ...   \n3819                      PR 3/8\" 1018 20'00\" CD  25000001.0   \n19798                     RD .678\" 1055MC 31'00\"  25000002.0   \n8136                    RD 1 1/4\" GGMULTI 20'00\"  25000002.0   \n8134                      RD 1/2\" GGMULTI 20'00\"  25000002.0   \n8133                      RD 3/4\" GGMULTI 20'00\"  25000002.0   \n\n                                        ph        shape           size block  \\\n799352        LS-Mills-Bil-Bil-Bil-Billets  RECTANGULAR  5 1/8 X 7 3/8   NaN   \n799094        LS-Mills-Bil-Bil-Bil-Billets  RECTANGULAR  5 1/8 X 7 3/8   NaN   \n799267        LS-Mills-Bil-Bil-Bil-Billets  RECTANGULAR  5 1/8 X 7 3/8   NaN   \n799180        LS-Mills-Bil-Bil-Bil-Billets  RECTANGULAR  5 1/8 X 7 3/8   NaN   \n840484  LS-Mills-Mer-Mer-Strc A&C-Channels      SHAPE_C       12 X 30#   NaN   \n...                                    ...          ...            ...   ...   \n3819       LS-Mills-Mer-Mer-MBQ-Pencil Rod   PENCIL_ROD           3/8\"   NaN   \n19798          SS-Mills-SBQ-SBQ-SBQ-SBQ Rd        ROUND          .678\"   NaN   \n8136           LS-Mills-Mer-Mer-MBQ-MBQ Rd        ROUND         1 1/4\"   NaN   \n8134           LS-Mills-Mer-Mer-MBQ-MBQ Rd        ROUND           1/2\"   NaN   \n8133           LS-Mills-Mer-Mer-MBQ-MBQ Rd        ROUND           3/4\"   NaN   \n\n          tons  atp  \n799352   9.442  0.0  \n799094   1.929  0.0  \n799267   7.920  0.0  \n799180  11.380  0.0  \n840484   1.200  0.0  \n...        ...  ...  \n3819    -0.002  0.0  \n19798   -0.001  0.0  \n8136     2.529  0.0  \n8134    -0.002  0.0  \n8133     0.002  0.0  \n\n[26241 rows x 11 columns]",
      "text/html": "<div>\n<style scoped>\n    .dataframe tbody tr th:only-of-type {\n        vertical-align: middle;\n    }\n\n    .dataframe tbody tr th {\n        vertical-align: top;\n    }\n\n    .dataframe thead th {\n        text-align: right;\n    }\n</style>\n<table border=\"1\" class=\"dataframe\">\n  <thead>\n    <tr style=\"text-align: right;\">\n      <th></th>\n      <th>calendar_day</th>\n      <th>strategy</th>\n      <th>sku</th>\n      <th>material_description</th>\n      <th>work_center</th>\n      <th>ph</th>\n      <th>shape</th>\n      <th>size</th>\n      <th>block</th>\n      <th>tons</th>\n      <th>atp</th>\n    </tr>\n  </thead>\n  <tbody>\n    <tr>\n      <th>799352</th>\n      <td>2017-01-01</td>\n      <td>63</td>\n      <td>102003236</td>\n      <td>BL 5 1/8X7 3/8 1010M-446_1302 3,800</td>\n      <td>18000001.0</td>\n      <td>LS-Mills-Bil-Bil-Bil-Billets</td>\n      <td>RECTANGULAR</td>\n      <td>5 1/8 X 7 3/8</td>\n      <td>NaN</td>\n      <td>9.442</td>\n      <td>0.0</td>\n    </tr>\n    <tr>\n      <th>799094</th>\n      <td>2017-01-01</td>\n      <td>63</td>\n      <td>102003053</td>\n      <td>BL 5 1/8X7 3/8 1010M-446_1302 3,858 SA</td>\n      <td>18000001.0</td>\n      <td>LS-Mills-Bil-Bil-Bil-Billets</td>\n      <td>RECTANGULAR</td>\n      <td>5 1/8 X 7 3/8</td>\n      <td>NaN</td>\n      <td>1.929</td>\n      <td>0.0</td>\n    </tr>\n    <tr>\n      <th>799267</th>\n      <td>2017-01-01</td>\n      <td>63</td>\n      <td>102003353</td>\n      <td>BL 5 1/8X7 3/8 GAU_1050-501_1302 3168 SA</td>\n      <td>18000001.0</td>\n      <td>LS-Mills-Bil-Bil-Bil-Billets</td>\n      <td>RECTANGULAR</td>\n      <td>5 1/8 X 7 3/8</td>\n      <td>NaN</td>\n      <td>7.920</td>\n      <td>0.0</td>\n    </tr>\n    <tr>\n      <th>799180</th>\n      <td>2017-01-01</td>\n      <td>63</td>\n      <td>102003354</td>\n      <td>BL 5 1/8X7 3/8 GAU_MG12-500_1302 3220 SA</td>\n      <td>18000001.0</td>\n      <td>LS-Mills-Bil-Bil-Bil-Billets</td>\n      <td>RECTANGULAR</td>\n      <td>5 1/8 X 7 3/8</td>\n      <td>NaN</td>\n      <td>11.380</td>\n      <td>0.0</td>\n    </tr>\n    <tr>\n      <th>840484</th>\n      <td>2017-01-01</td>\n      <td>40</td>\n      <td>106020149</td>\n      <td>C 12X30# GGMULTI 20'00\"</td>\n      <td>25000001.0</td>\n      <td>LS-Mills-Mer-Mer-Strc A&amp;C-Channels</td>\n      <td>SHAPE_C</td>\n      <td>12 X 30#</td>\n      <td>NaN</td>\n      <td>1.200</td>\n      <td>0.0</td>\n    </tr>\n    <tr>\n      <th>...</th>\n      <td>...</td>\n      <td>...</td>\n      <td>...</td>\n      <td>...</td>\n      <td>...</td>\n      <td>...</td>\n      <td>...</td>\n      <td>...</td>\n      <td>...</td>\n      <td>...</td>\n      <td>...</td>\n    </tr>\n    <tr>\n      <th>3819</th>\n      <td>2020-02-23</td>\n      <td>40</td>\n      <td>109004211</td>\n      <td>PR 3/8\" 1018 20'00\" CD</td>\n      <td>25000001.0</td>\n      <td>LS-Mills-Mer-Mer-MBQ-Pencil Rod</td>\n      <td>PENCIL_ROD</td>\n      <td>3/8\"</td>\n      <td>NaN</td>\n      <td>-0.002</td>\n      <td>0.0</td>\n    </tr>\n    <tr>\n      <th>19798</th>\n      <td>2020-02-23</td>\n      <td>63</td>\n      <td>205012261</td>\n      <td>RD .678\" 1055MC 31'00\"</td>\n      <td>25000002.0</td>\n      <td>SS-Mills-SBQ-SBQ-SBQ-SBQ Rd</td>\n      <td>ROUND</td>\n      <td>.678\"</td>\n      <td>NaN</td>\n      <td>-0.001</td>\n      <td>0.0</td>\n    </tr>\n    <tr>\n      <th>8136</th>\n      <td>2020-02-23</td>\n      <td>40</td>\n      <td>109250351</td>\n      <td>RD 1 1/4\" GGMULTI 20'00\"</td>\n      <td>25000002.0</td>\n      <td>LS-Mills-Mer-Mer-MBQ-MBQ Rd</td>\n      <td>ROUND</td>\n      <td>1 1/4\"</td>\n      <td>NaN</td>\n      <td>2.529</td>\n      <td>0.0</td>\n    </tr>\n    <tr>\n      <th>8134</th>\n      <td>2020-02-23</td>\n      <td>63</td>\n      <td>109250353</td>\n      <td>RD 1/2\" GGMULTI 20'00\"</td>\n      <td>25000002.0</td>\n      <td>LS-Mills-Mer-Mer-MBQ-MBQ Rd</td>\n      <td>ROUND</td>\n      <td>1/2\"</td>\n      <td>NaN</td>\n      <td>-0.002</td>\n      <td>0.0</td>\n    </tr>\n    <tr>\n      <th>8133</th>\n      <td>2020-02-23</td>\n      <td>40</td>\n      <td>109250355</td>\n      <td>RD 3/4\" GGMULTI 20'00\"</td>\n      <td>25000002.0</td>\n      <td>LS-Mills-Mer-Mer-MBQ-MBQ Rd</td>\n      <td>ROUND</td>\n      <td>3/4\"</td>\n      <td>NaN</td>\n      <td>0.002</td>\n      <td>0.0</td>\n    </tr>\n  </tbody>\n</table>\n<p>26241 rows × 11 columns</p>\n</div>"
     },
     "metadata": {},
     "execution_count": 21
    }
   ],
   "source": [
    "#peak at all nulls across\n",
    "inv_reduced[inv_reduced.isna().any(axis=1)]"
   ]
  },
  {
   "cell_type": "markdown",
   "metadata": {
    "toc-hr-collapsed": true,
    "toc-nb-collapsed": true
   },
   "source": [
    "### ATP History"
   ]
  },
  {
   "cell_type": "code",
   "execution_count": 22,
   "metadata": {},
   "outputs": [
    {
     "output_type": "execute_result",
     "data": {
      "text/plain": "Index(['plant', 'plant_description', 'sku', 'atp_floor', 'snapshot_date'], dtype='object')"
     },
     "metadata": {},
     "execution_count": 22
    }
   ],
   "source": [
    "clean_columns(atp_hist)"
   ]
  },
  {
   "cell_type": "code",
   "execution_count": 23,
   "metadata": {},
   "outputs": [
    {
     "output_type": "stream",
     "name": "stdout",
     "text": "<class 'pandas.core.frame.DataFrame'>\nRangeIndex: 235706 entries, 0 to 235705\nData columns (total 5 columns):\n #   Column             Non-Null Count   Dtype         \n---  ------             --------------   -----         \n 0   plant              235706 non-null  int64         \n 1   plant_description  235706 non-null  object        \n 2   sku                235706 non-null  object        \n 3   atp_floor          235706 non-null  float64       \n 4   snapshot_date      235706 non-null  datetime64[ns]\ndtypes: datetime64[ns](1), float64(1), int64(1), object(2)\nmemory usage: 9.0+ MB\n"
    }
   ],
   "source": [
    "atp_hist.info()"
   ]
  },
  {
   "cell_type": "code",
   "execution_count": 24,
   "metadata": {},
   "outputs": [
    {
     "output_type": "execute_result",
     "data": {
      "text/plain": "              sku  atp_floor snapshot_date\n109514  101500984     12.306    2017-12-04\n109513  102003236      9.442    2017-12-04\n109512  102003353      1.584    2017-12-04\n18494   102003354      2.380    2017-12-04\n109511  102508509     17.590    2017-12-04",
      "text/html": "<div>\n<style scoped>\n    .dataframe tbody tr th:only-of-type {\n        vertical-align: middle;\n    }\n\n    .dataframe tbody tr th {\n        vertical-align: top;\n    }\n\n    .dataframe thead th {\n        text-align: right;\n    }\n</style>\n<table border=\"1\" class=\"dataframe\">\n  <thead>\n    <tr style=\"text-align: right;\">\n      <th></th>\n      <th>sku</th>\n      <th>atp_floor</th>\n      <th>snapshot_date</th>\n    </tr>\n  </thead>\n  <tbody>\n    <tr>\n      <th>109514</th>\n      <td>101500984</td>\n      <td>12.306</td>\n      <td>2017-12-04</td>\n    </tr>\n    <tr>\n      <th>109513</th>\n      <td>102003236</td>\n      <td>9.442</td>\n      <td>2017-12-04</td>\n    </tr>\n    <tr>\n      <th>109512</th>\n      <td>102003353</td>\n      <td>1.584</td>\n      <td>2017-12-04</td>\n    </tr>\n    <tr>\n      <th>18494</th>\n      <td>102003354</td>\n      <td>2.380</td>\n      <td>2017-12-04</td>\n    </tr>\n    <tr>\n      <th>109511</th>\n      <td>102508509</td>\n      <td>17.590</td>\n      <td>2017-12-04</td>\n    </tr>\n  </tbody>\n</table>\n</div>"
     },
     "metadata": {},
     "execution_count": 24
    }
   ],
   "source": [
    "atp_reduced = atp_hist[[\"sku\", \"atp_floor\", \"snapshot_date\"]]\n",
    "atp_reduced = atp_reduced.sort_values([\"snapshot_date\", \"sku\"])\n",
    "atp_reduced.head()"
   ]
  },
  {
   "cell_type": "code",
   "execution_count": 25,
   "metadata": {},
   "outputs": [
    {
     "output_type": "stream",
     "name": "stdout",
     "text": "<class 'pandas.core.frame.DataFrame'>\nInt64Index: 235706 entries, 109514 to 132048\nData columns (total 3 columns):\n #   Column         Non-Null Count   Dtype         \n---  ------         --------------   -----         \n 0   sku            235706 non-null  object        \n 1   atp_floor      235706 non-null  float64       \n 2   snapshot_date  235706 non-null  datetime64[ns]\ndtypes: datetime64[ns](1), float64(1), object(1)\nmemory usage: 7.2+ MB\n"
    }
   ],
   "source": [
    "atp_reduced.info()"
   ]
  },
  {
   "cell_type": "markdown",
   "metadata": {},
   "source": [
    "### Production History"
   ]
  },
  {
   "cell_type": "code",
   "execution_count": 26,
   "metadata": {},
   "outputs": [
    {
     "output_type": "execute_result",
     "data": {
      "text/plain": "Index(['calendar_day', 'plant', 'plant_description', 'production_process',\n       'production_process_description', 'work_center', 'wc_description',\n       'material', 'material_description', 'ph3', 'ph5', 'ton', 'block',\n       'shape', 'size', 'stratedgy', 'month/year', 'year', 'monthyear'],\n      dtype='object')"
     },
     "metadata": {},
     "execution_count": 26
    }
   ],
   "source": [
    "clean_columns(prod_hist)"
   ]
  },
  {
   "cell_type": "code",
   "execution_count": 27,
   "metadata": {},
   "outputs": [
    {
     "output_type": "stream",
     "name": "stdout",
     "text": "<class 'pandas.core.frame.DataFrame'>\nRangeIndex: 41935 entries, 0 to 41934\nData columns (total 19 columns):\n #   Column                          Non-Null Count  Dtype         \n---  ------                          --------------  -----         \n 0   calendar_day                    41935 non-null  datetime64[ns]\n 1   plant                           41935 non-null  int64         \n 2   plant_description               41935 non-null  object        \n 3   production_process              41935 non-null  int64         \n 4   production_process_description  41935 non-null  object        \n 5   work_center                     37833 non-null  object        \n 6   wc_description                  41935 non-null  object        \n 7   material                        41935 non-null  int64         \n 8   material_description            41935 non-null  object        \n 9   ph3                             36579 non-null  object        \n 10  ph5                             36579 non-null  object        \n 11  ton                             41935 non-null  int64         \n 12  block                           14851 non-null  object        \n 13  shape                           36115 non-null  object        \n 14  size                            36115 non-null  object        \n 15  stratedgy                       36129 non-null  float64       \n 16  month/year                      41935 non-null  datetime64[ns]\n 17  year                            41935 non-null  int64         \n 18  monthyear                       41935 non-null  datetime64[ns]\ndtypes: datetime64[ns](3), float64(1), int64(5), object(10)\nmemory usage: 6.1+ MB\n"
    }
   ],
   "source": [
    "prod_hist.info()"
   ]
  },
  {
   "cell_type": "code",
   "execution_count": 28,
   "metadata": {},
   "outputs": [],
   "source": [
    "# prod_hist[\"stratedgy\"] = prod_hist[\"stratedgy\"].astype(\"int64\")"
   ]
  },
  {
   "cell_type": "code",
   "execution_count": 29,
   "metadata": {},
   "outputs": [
    {
     "output_type": "execute_result",
     "data": {
      "text/plain": "      calendar_day  production_process production_process_description  \\\n39204   2013-02-01                4306                     Scrap yard   \n41067   2013-02-01                4306                     Scrap yard   \n30631   2013-02-04                4307                      Melt shop   \n22721   2013-02-04                4307                      Melt shop   \n30634   2013-02-04                4307                      Melt shop   \n\n       strategy work_center                  wc_description block  \\\n39204       NaN    17200001                   1302/17200001   NaN   \n41067       NaN    17200001                   1302/17200001   NaN   \n30631      10.0    19000001  MELT SHOP - CONTINUOUS CASTING   NaN   \n22721      10.0    19000001  MELT SHOP - CONTINUOUS CASTING   NaN   \n30634      10.0    19000001  MELT SHOP - CONTINUOUS CASTING   NaN   \n\n             shape           size        sku  \\\n39204          NaN            NaN   56000099   \n41067          NaN            NaN   56000093   \n30631  RECTANGULAR  5 1/8 X 7 3/8  102508981   \n22721  RECTANGULAR  5 1/8 X 7 3/8  102508832   \n30634  RECTANGULAR  5 1/8 X 7 3/8  102508836   \n\n                       material_description  ton  \n39204                    INDUSTRIAL - #1 HM   58  \n41067                 INDUSTRIAL - #2 SHRED  359  \n30631  BL 5 1/8X7 3/8 TRIPLB-393_1302 3,662  114  \n22721  BL 5 1/8X7 3/8 TRIPLB-424_1302 4,002   42  \n30634  BL 5 1/8X7 3/8 TRIPLB-426_1302 3,516  791  ",
      "text/html": "<div>\n<style scoped>\n    .dataframe tbody tr th:only-of-type {\n        vertical-align: middle;\n    }\n\n    .dataframe tbody tr th {\n        vertical-align: top;\n    }\n\n    .dataframe thead th {\n        text-align: right;\n    }\n</style>\n<table border=\"1\" class=\"dataframe\">\n  <thead>\n    <tr style=\"text-align: right;\">\n      <th></th>\n      <th>calendar_day</th>\n      <th>production_process</th>\n      <th>production_process_description</th>\n      <th>strategy</th>\n      <th>work_center</th>\n      <th>wc_description</th>\n      <th>block</th>\n      <th>shape</th>\n      <th>size</th>\n      <th>sku</th>\n      <th>material_description</th>\n      <th>ton</th>\n    </tr>\n  </thead>\n  <tbody>\n    <tr>\n      <th>39204</th>\n      <td>2013-02-01</td>\n      <td>4306</td>\n      <td>Scrap yard</td>\n      <td>NaN</td>\n      <td>17200001</td>\n      <td>1302/17200001</td>\n      <td>NaN</td>\n      <td>NaN</td>\n      <td>NaN</td>\n      <td>56000099</td>\n      <td>INDUSTRIAL - #1 HM</td>\n      <td>58</td>\n    </tr>\n    <tr>\n      <th>41067</th>\n      <td>2013-02-01</td>\n      <td>4306</td>\n      <td>Scrap yard</td>\n      <td>NaN</td>\n      <td>17200001</td>\n      <td>1302/17200001</td>\n      <td>NaN</td>\n      <td>NaN</td>\n      <td>NaN</td>\n      <td>56000093</td>\n      <td>INDUSTRIAL - #2 SHRED</td>\n      <td>359</td>\n    </tr>\n    <tr>\n      <th>30631</th>\n      <td>2013-02-04</td>\n      <td>4307</td>\n      <td>Melt shop</td>\n      <td>10.0</td>\n      <td>19000001</td>\n      <td>MELT SHOP - CONTINUOUS CASTING</td>\n      <td>NaN</td>\n      <td>RECTANGULAR</td>\n      <td>5 1/8 X 7 3/8</td>\n      <td>102508981</td>\n      <td>BL 5 1/8X7 3/8 TRIPLB-393_1302 3,662</td>\n      <td>114</td>\n    </tr>\n    <tr>\n      <th>22721</th>\n      <td>2013-02-04</td>\n      <td>4307</td>\n      <td>Melt shop</td>\n      <td>10.0</td>\n      <td>19000001</td>\n      <td>MELT SHOP - CONTINUOUS CASTING</td>\n      <td>NaN</td>\n      <td>RECTANGULAR</td>\n      <td>5 1/8 X 7 3/8</td>\n      <td>102508832</td>\n      <td>BL 5 1/8X7 3/8 TRIPLB-424_1302 4,002</td>\n      <td>42</td>\n    </tr>\n    <tr>\n      <th>30634</th>\n      <td>2013-02-04</td>\n      <td>4307</td>\n      <td>Melt shop</td>\n      <td>10.0</td>\n      <td>19000001</td>\n      <td>MELT SHOP - CONTINUOUS CASTING</td>\n      <td>NaN</td>\n      <td>RECTANGULAR</td>\n      <td>5 1/8 X 7 3/8</td>\n      <td>102508836</td>\n      <td>BL 5 1/8X7 3/8 TRIPLB-426_1302 3,516</td>\n      <td>791</td>\n    </tr>\n  </tbody>\n</table>\n</div>"
     },
     "metadata": {},
     "execution_count": 29
    }
   ],
   "source": [
    "prod_reduced = prod_hist[[\"calendar_day\", \"production_process\", \"production_process_description\",\"stratedgy\",\"work_center\",\"wc_description\",\"block\",\"shape\",\"size\",\"material\",\"material_description\",\"ton\"]]\n",
    "prod_reduced.rename(columns={\"material\":\"sku\", \"stratedgy\":\"strategy\"}, inplace=True)\n",
    "prod_reduced = prod_reduced.sort_values([\"calendar_day\", \"material_description\"])\n",
    "prod_reduced.head()"
   ]
  },
  {
   "cell_type": "code",
   "execution_count": 30,
   "metadata": {},
   "outputs": [],
   "source": [
    "#Removing strategy 10 (Note: check assumption that these are all billets)\n",
    "prod_reduced = prod_reduced.loc[(prod_reduced[\"strategy\"] !=10)]"
   ]
  },
  {
   "cell_type": "code",
   "execution_count": 31,
   "metadata": {},
   "outputs": [],
   "source": [
    "#Removing prod_processes up the supply chain: melt, scrap etc.\n",
    "prod_reduced = prod_reduced.loc[(prod_reduced[\"production_process_description\"] != \"Melt shop\") & (prod_reduced[\"production_process_description\"] != \"Scrap yard\")]\n",
    "prod_reduced = prod_reduced.loc[(prod_reduced[\"production_process_description\"] != \"Finishing production\")]"
   ]
  },
  {
   "cell_type": "code",
   "execution_count": 32,
   "metadata": {},
   "outputs": [
    {
     "output_type": "execute_result",
     "data": {
      "text/plain": "      calendar_day  production_process production_process_description  \\\n36154   2015-02-27                4310                        Rolling   \n36155   2016-12-29                4310                        Rolling   \n\n       strategy work_center wc_description block shape size       sku  \\\n36154       NaN    25000002  ROLLING - BAR   NaN   NaN  NaN  40000148   \n36155       NaN    25000002  ROLLING - BAR   NaN   NaN  NaN  40000148   \n\n                        material_description  ton  \n36154  COPROD - FG YIELD LOSS (ROLLING MILL)   10  \n36155  COPROD - FG YIELD LOSS (ROLLING MILL)  -10  ",
      "text/html": "<div>\n<style scoped>\n    .dataframe tbody tr th:only-of-type {\n        vertical-align: middle;\n    }\n\n    .dataframe tbody tr th {\n        vertical-align: top;\n    }\n\n    .dataframe thead th {\n        text-align: right;\n    }\n</style>\n<table border=\"1\" class=\"dataframe\">\n  <thead>\n    <tr style=\"text-align: right;\">\n      <th></th>\n      <th>calendar_day</th>\n      <th>production_process</th>\n      <th>production_process_description</th>\n      <th>strategy</th>\n      <th>work_center</th>\n      <th>wc_description</th>\n      <th>block</th>\n      <th>shape</th>\n      <th>size</th>\n      <th>sku</th>\n      <th>material_description</th>\n      <th>ton</th>\n    </tr>\n  </thead>\n  <tbody>\n    <tr>\n      <th>36154</th>\n      <td>2015-02-27</td>\n      <td>4310</td>\n      <td>Rolling</td>\n      <td>NaN</td>\n      <td>25000002</td>\n      <td>ROLLING - BAR</td>\n      <td>NaN</td>\n      <td>NaN</td>\n      <td>NaN</td>\n      <td>40000148</td>\n      <td>COPROD - FG YIELD LOSS (ROLLING MILL)</td>\n      <td>10</td>\n    </tr>\n    <tr>\n      <th>36155</th>\n      <td>2016-12-29</td>\n      <td>4310</td>\n      <td>Rolling</td>\n      <td>NaN</td>\n      <td>25000002</td>\n      <td>ROLLING - BAR</td>\n      <td>NaN</td>\n      <td>NaN</td>\n      <td>NaN</td>\n      <td>40000148</td>\n      <td>COPROD - FG YIELD LOSS (ROLLING MILL)</td>\n      <td>-10</td>\n    </tr>\n  </tbody>\n</table>\n</div>"
     },
     "metadata": {},
     "execution_count": 32
    }
   ],
   "source": [
    "#Identifying strategy=NaN rows\n",
    "prod_reduced[prod_reduced[\"strategy\"].isna()]"
   ]
  },
  {
   "cell_type": "code",
   "execution_count": 33,
   "metadata": {},
   "outputs": [],
   "source": [
    "#Identifying size=NaN rows\n",
    "#prod_reduced[prod_reduced[\"size\"].isna()]"
   ]
  },
  {
   "cell_type": "code",
   "execution_count": 34,
   "metadata": {},
   "outputs": [],
   "source": [
    "#Dropping selective NaN rows\n",
    "prod_reduced.dropna(subset=[\"strategy\"], inplace=True)"
   ]
  },
  {
   "cell_type": "code",
   "execution_count": 35,
   "metadata": {},
   "outputs": [
    {
     "output_type": "execute_result",
     "data": {
      "text/plain": "                       Column_Name  Num_Unique\n1               production_process           1\n2   production_process_description           1\n3                         strategy           2\n4                      work_center           4\n5                   wc_description           4\n7                            shape           6\n6                            block          41\n8                             size         175\n11                             ton        1299\n9                              sku        1862\n0                     calendar_day        1884\n10            material_description        1905",
      "text/html": "<div>\n<style scoped>\n    .dataframe tbody tr th:only-of-type {\n        vertical-align: middle;\n    }\n\n    .dataframe tbody tr th {\n        vertical-align: top;\n    }\n\n    .dataframe thead th {\n        text-align: right;\n    }\n</style>\n<table border=\"1\" class=\"dataframe\">\n  <thead>\n    <tr style=\"text-align: right;\">\n      <th></th>\n      <th>Column_Name</th>\n      <th>Num_Unique</th>\n    </tr>\n  </thead>\n  <tbody>\n    <tr>\n      <th>1</th>\n      <td>production_process</td>\n      <td>1</td>\n    </tr>\n    <tr>\n      <th>2</th>\n      <td>production_process_description</td>\n      <td>1</td>\n    </tr>\n    <tr>\n      <th>3</th>\n      <td>strategy</td>\n      <td>2</td>\n    </tr>\n    <tr>\n      <th>4</th>\n      <td>work_center</td>\n      <td>4</td>\n    </tr>\n    <tr>\n      <th>5</th>\n      <td>wc_description</td>\n      <td>4</td>\n    </tr>\n    <tr>\n      <th>7</th>\n      <td>shape</td>\n      <td>6</td>\n    </tr>\n    <tr>\n      <th>6</th>\n      <td>block</td>\n      <td>41</td>\n    </tr>\n    <tr>\n      <th>8</th>\n      <td>size</td>\n      <td>175</td>\n    </tr>\n    <tr>\n      <th>11</th>\n      <td>ton</td>\n      <td>1299</td>\n    </tr>\n    <tr>\n      <th>9</th>\n      <td>sku</td>\n      <td>1862</td>\n    </tr>\n    <tr>\n      <th>0</th>\n      <td>calendar_day</td>\n      <td>1884</td>\n    </tr>\n    <tr>\n      <th>10</th>\n      <td>material_description</td>\n      <td>1905</td>\n    </tr>\n  </tbody>\n</table>\n</div>"
     },
     "metadata": {},
     "execution_count": 35
    }
   ],
   "source": [
    "#Identifying unique inputs by column\n",
    "unique_counts = pd.DataFrame.from_records([(col, prod_reduced[col].nunique()) for col in prod_reduced.columns],\n",
    "                          columns=['Column_Name', 'Num_Unique']).sort_values(by=['Num_Unique'])\n",
    "unique_counts"
   ]
  },
  {
   "cell_type": "code",
   "execution_count": 36,
   "metadata": {},
   "outputs": [],
   "source": [
    "# Changing data types for colums, \n",
    "for col in prod_reduced.columns:\n",
    "    if prod_reduced[col].nunique() < 10:\n",
    "        prod_reduced[col] = prod_reduced[col].astype(\"category\")\n",
    "# not including \"block\" as it used as object elsewhere\n",
    "\n",
    "prod_reduced[\"sku\"] =prod_reduced[\"sku\"].astype(\"object\")"
   ]
  },
  {
   "cell_type": "code",
   "execution_count": 37,
   "metadata": {},
   "outputs": [
    {
     "output_type": "stream",
     "name": "stdout",
     "text": "<class 'pandas.core.frame.DataFrame'>\nInt64Index: 14820 entries, 192 to 13808\nData columns (total 12 columns):\n #   Column                          Non-Null Count  Dtype         \n---  ------                          --------------  -----         \n 0   calendar_day                    14820 non-null  datetime64[ns]\n 1   production_process              14820 non-null  category      \n 2   production_process_description  14820 non-null  category      \n 3   strategy                        14820 non-null  category      \n 4   work_center                     13450 non-null  category      \n 5   wc_description                  14820 non-null  category      \n 6   block                           14815 non-null  object        \n 7   shape                           14795 non-null  category      \n 8   size                            14795 non-null  object        \n 9   sku                             14820 non-null  object        \n 10  material_description            14820 non-null  object        \n 11  ton                             14820 non-null  int64         \ndtypes: category(6), datetime64[ns](1), int64(1), object(4)\nmemory usage: 898.1+ KB\n"
    }
   ],
   "source": [
    "prod_reduced.info()"
   ]
  },
  {
   "cell_type": "code",
   "execution_count": 38,
   "metadata": {},
   "outputs": [
    {
     "output_type": "execute_result",
     "data": {
      "text/plain": "36135    Rolling\n35617    Rolling\n35618    Rolling\n35632    Rolling\n35631    Rolling\nName: production_process_description, dtype: category\nCategories (1, object): [Rolling]"
     },
     "metadata": {},
     "execution_count": 38
    }
   ],
   "source": [
    "prod_reduced[prod_reduced[\"block\"].isna()][\"production_process_description\"]"
   ]
  },
  {
   "cell_type": "code",
   "execution_count": 39,
   "metadata": {},
   "outputs": [
    {
     "output_type": "execute_result",
     "data": {
      "text/plain": "                                calendar_day  production_process  strategy  \\\nproduction_process_description                                               \nRolling                                    5                   5         5   \n\n                                work_center  wc_description  block  shape  \\\nproduction_process_description                                              \nRolling                                   3               5      0      5   \n\n                                size  sku  material_description  ton  \nproduction_process_description                                        \nRolling                            5    5                     5    5  ",
      "text/html": "<div>\n<style scoped>\n    .dataframe tbody tr th:only-of-type {\n        vertical-align: middle;\n    }\n\n    .dataframe tbody tr th {\n        vertical-align: top;\n    }\n\n    .dataframe thead th {\n        text-align: right;\n    }\n</style>\n<table border=\"1\" class=\"dataframe\">\n  <thead>\n    <tr style=\"text-align: right;\">\n      <th></th>\n      <th>calendar_day</th>\n      <th>production_process</th>\n      <th>strategy</th>\n      <th>work_center</th>\n      <th>wc_description</th>\n      <th>block</th>\n      <th>shape</th>\n      <th>size</th>\n      <th>sku</th>\n      <th>material_description</th>\n      <th>ton</th>\n    </tr>\n    <tr>\n      <th>production_process_description</th>\n      <th></th>\n      <th></th>\n      <th></th>\n      <th></th>\n      <th></th>\n      <th></th>\n      <th></th>\n      <th></th>\n      <th></th>\n      <th></th>\n      <th></th>\n    </tr>\n  </thead>\n  <tbody>\n    <tr>\n      <th>Rolling</th>\n      <td>5</td>\n      <td>5</td>\n      <td>5</td>\n      <td>3</td>\n      <td>5</td>\n      <td>0</td>\n      <td>5</td>\n      <td>5</td>\n      <td>5</td>\n      <td>5</td>\n      <td>5</td>\n    </tr>\n  </tbody>\n</table>\n</div>"
     },
     "metadata": {},
     "execution_count": 39
    }
   ],
   "source": [
    "prod_reduced[prod_reduced[\"block\"].isna()].groupby(\"production_process_description\").count()"
   ]
  },
  {
   "cell_type": "markdown",
   "metadata": {},
   "source": [
    "#### Adding WC_dictionary"
   ]
  },
  {
   "cell_type": "code",
   "execution_count": 40,
   "metadata": {},
   "outputs": [],
   "source": [
    "#needs work\n",
    "#prod_reduced.groupby([\"PR_sku\",\"PR_wc_description\"]).sum().reset_index()\n",
    "\n",
    "#work_cent_dict = \n",
    "#size_dict = size_dict.reset_index()\n",
    "#size_dict = size_dict.drop(\"tons\", axis=1)"
   ]
  },
  {
   "cell_type": "markdown",
   "metadata": {},
   "source": [
    "### Ship History"
   ]
  },
  {
   "cell_type": "code",
   "execution_count": 41,
   "metadata": {},
   "outputs": [
    {
     "output_type": "execute_result",
     "data": {
      "text/plain": "Index(['shipping_day', 'plant', 'plant_description', 'sales_organization',\n       'sales_doc_type', 'outside_rep_ship-to', 'inside_rep_ship-to',\n       'sold-to_party', 'sold-to_part_name', 'ship-to_party',\n       'ship-to_party_name', 'postal_code', 'location', 'region',\n       'region_description', 'country', 'country_description', 'material',\n       'material_description', 'div_id', 'div', 'prod_hier_level_3',\n       'prod_hier_level_5', 'shipment_tons', 'manager', 'segment',\n       'plantcountry', 'businessdaycounter', 'block', 'lvorm', 'mrptype',\n       'proctype', 'relativemonth', 'shipping_week', 'strgr', 'shape',\n       'sizeforqualcert', 'dailyshiprate3', 'monthdelta', 'dailyshiprate6',\n       'dailyshiprate12', 'workcenter', 'wc_desc', 'bayou_flag'],\n      dtype='object')"
     },
     "metadata": {},
     "execution_count": 41
    }
   ],
   "source": [
    "clean_columns(ship_hist)"
   ]
  },
  {
   "cell_type": "code",
   "execution_count": 42,
   "metadata": {},
   "outputs": [
    {
     "output_type": "stream",
     "name": "stdout",
     "text": "<class 'pandas.core.frame.DataFrame'>\nRangeIndex: 156796 entries, 0 to 156795\nData columns (total 44 columns):\n #   Column                Non-Null Count   Dtype         \n---  ------                --------------   -----         \n 0   shipping_day          156796 non-null  datetime64[ns]\n 1   plant                 156796 non-null  int64         \n 2   plant_description     156796 non-null  object        \n 3   sales_organization    156796 non-null  object        \n 4   sales_doc_type        156796 non-null  object        \n 5   outside_rep_ship-to   156796 non-null  object        \n 6   inside_rep_ship-to    156796 non-null  object        \n 7   sold-to_party         156796 non-null  int64         \n 8   sold-to_part_name     156796 non-null  object        \n 9   ship-to_party         156796 non-null  int64         \n 10  ship-to_party_name    156796 non-null  object        \n 11  postal_code           156796 non-null  object        \n 12  location              156796 non-null  object        \n 13  region                156796 non-null  object        \n 14  region_description    156796 non-null  object        \n 15  country               156796 non-null  object        \n 16  country_description   156796 non-null  object        \n 17  material              156796 non-null  int64         \n 18  material_description  156796 non-null  object        \n 19  div_id                156796 non-null  int64         \n 20  div                   156796 non-null  object        \n 21  prod_hier_level_3     156796 non-null  object        \n 22  prod_hier_level_5     156796 non-null  object        \n 23  shipment_tons         155615 non-null  float64       \n 24  manager               154100 non-null  object        \n 25  segment               154100 non-null  object        \n 26  plantcountry          156796 non-null  object        \n 27  businessdaycounter    146985 non-null  float64       \n 28  block                 153079 non-null  object        \n 29  lvorm                 1374 non-null    object        \n 30  mrptype               156772 non-null  object        \n 31  proctype              156772 non-null  object        \n 32  relativemonth         156796 non-null  int64         \n 33  shipping_week         156796 non-null  datetime64[ns]\n 34  strgr                 156775 non-null  float64       \n 35  shape                 156775 non-null  object        \n 36  sizeforqualcert       156775 non-null  object        \n 37  dailyshiprate3        156322 non-null  float64       \n 38  monthdelta            156796 non-null  int64         \n 39  dailyshiprate6        155994 non-null  float64       \n 40  dailyshiprate12       155830 non-null  float64       \n 41  workcenter            126757 non-null  float64       \n 42  wc_desc               126721 non-null  object        \n 43  bayou_flag            110339 non-null  object        \ndtypes: datetime64[ns](2), float64(7), int64(7), object(28)\nmemory usage: 52.6+ MB\n"
    }
   ],
   "source": [
    "ship_hist.info()"
   ]
  },
  {
   "cell_type": "code",
   "execution_count": 43,
   "metadata": {},
   "outputs": [],
   "source": [
    "#Filling in NaN Shipment field rows to zero\n",
    "ship_hist[\"shipment_tons\"].fillna(0, inplace=True)"
   ]
  },
  {
   "cell_type": "code",
   "execution_count": 44,
   "metadata": {},
   "outputs": [],
   "source": [
    "# Attempt to get correct data types, needs work.\n",
    "# ship_hist[\"businessdaycounter\"] = ship_hist[\"businessdaycounter\"].astype(\"int64\")\n",
    "# ship_hist[\"strgr\"] = ship_hist[\"strgr\"].astype(\"int64\")\n",
    "# ship_hist[\"workcenter\"] = ship_hist[\"workcenter\"].astype(\"int64\")"
   ]
  },
  {
   "cell_type": "code",
   "execution_count": 45,
   "metadata": {},
   "outputs": [
    {
     "output_type": "execute_result",
     "data": {
      "text/plain": "       shipping_day   block  strategy    shape       size        div  \\\n155274   2015-01-02  8\" CHN      40.0  SHAPE_C  8 X 11.5#  Merchants   \n142630   2015-01-02  3\" ANG      63.0  SHAPE_L    3X3X3/8  Merchants   \n142631   2015-01-02  3\" ANG      63.0  SHAPE_L   3X3X5/16  Merchants   \n153402   2015-01-02  5\" ANG      40.0  SHAPE_L    5X5X1/2  Merchants   \n153404   2015-01-02  5\" ANG      40.0  SHAPE_L    5X5X3/8  Merchants   \n\n              sku      material_description  shipment_tons            segment  \\\n155274  106021714  C 8X11.5# GGMULTI 20'00\"            6.0  NA - DISTRIBUTION   \n142630  106023082      L 3X3X3/8 55W 60'00\"           66.0  NA - CONSTRUCTION   \n142631  106023056     L 3X3X5/16 55W 60'00\"          218.0  NA - CONSTRUCTION   \n153402  106029552  L 5X5X1/2 GGMULTI 40'00\"            5.0  NA - DISTRIBUTION   \n153404  106029532  L 5X5X3/8 GGMULTI 40'00\"            5.0  NA - DISTRIBUTION   \n\n        sold-to_party  ship-to_party postal_code region_description country  \n155274      100064074      100095278  05602-4480            Vermont      US  \n142630      100092191      100095442     J4G 1E5             Quebec      CA  \n142631      100092191      100095442     J4G 1E5             Quebec      CA  \n153402      100064074      100095278  05602-4480            Vermont      US  \n153404      100064074      100095278  05602-4480            Vermont      US  ",
      "text/html": "<div>\n<style scoped>\n    .dataframe tbody tr th:only-of-type {\n        vertical-align: middle;\n    }\n\n    .dataframe tbody tr th {\n        vertical-align: top;\n    }\n\n    .dataframe thead th {\n        text-align: right;\n    }\n</style>\n<table border=\"1\" class=\"dataframe\">\n  <thead>\n    <tr style=\"text-align: right;\">\n      <th></th>\n      <th>shipping_day</th>\n      <th>block</th>\n      <th>strategy</th>\n      <th>shape</th>\n      <th>size</th>\n      <th>div</th>\n      <th>sku</th>\n      <th>material_description</th>\n      <th>shipment_tons</th>\n      <th>segment</th>\n      <th>sold-to_party</th>\n      <th>ship-to_party</th>\n      <th>postal_code</th>\n      <th>region_description</th>\n      <th>country</th>\n    </tr>\n  </thead>\n  <tbody>\n    <tr>\n      <th>155274</th>\n      <td>2015-01-02</td>\n      <td>8\" CHN</td>\n      <td>40.0</td>\n      <td>SHAPE_C</td>\n      <td>8 X 11.5#</td>\n      <td>Merchants</td>\n      <td>106021714</td>\n      <td>C 8X11.5# GGMULTI 20'00\"</td>\n      <td>6.0</td>\n      <td>NA - DISTRIBUTION</td>\n      <td>100064074</td>\n      <td>100095278</td>\n      <td>05602-4480</td>\n      <td>Vermont</td>\n      <td>US</td>\n    </tr>\n    <tr>\n      <th>142630</th>\n      <td>2015-01-02</td>\n      <td>3\" ANG</td>\n      <td>63.0</td>\n      <td>SHAPE_L</td>\n      <td>3X3X3/8</td>\n      <td>Merchants</td>\n      <td>106023082</td>\n      <td>L 3X3X3/8 55W 60'00\"</td>\n      <td>66.0</td>\n      <td>NA - CONSTRUCTION</td>\n      <td>100092191</td>\n      <td>100095442</td>\n      <td>J4G 1E5</td>\n      <td>Quebec</td>\n      <td>CA</td>\n    </tr>\n    <tr>\n      <th>142631</th>\n      <td>2015-01-02</td>\n      <td>3\" ANG</td>\n      <td>63.0</td>\n      <td>SHAPE_L</td>\n      <td>3X3X5/16</td>\n      <td>Merchants</td>\n      <td>106023056</td>\n      <td>L 3X3X5/16 55W 60'00\"</td>\n      <td>218.0</td>\n      <td>NA - CONSTRUCTION</td>\n      <td>100092191</td>\n      <td>100095442</td>\n      <td>J4G 1E5</td>\n      <td>Quebec</td>\n      <td>CA</td>\n    </tr>\n    <tr>\n      <th>153402</th>\n      <td>2015-01-02</td>\n      <td>5\" ANG</td>\n      <td>40.0</td>\n      <td>SHAPE_L</td>\n      <td>5X5X1/2</td>\n      <td>Merchants</td>\n      <td>106029552</td>\n      <td>L 5X5X1/2 GGMULTI 40'00\"</td>\n      <td>5.0</td>\n      <td>NA - DISTRIBUTION</td>\n      <td>100064074</td>\n      <td>100095278</td>\n      <td>05602-4480</td>\n      <td>Vermont</td>\n      <td>US</td>\n    </tr>\n    <tr>\n      <th>153404</th>\n      <td>2015-01-02</td>\n      <td>5\" ANG</td>\n      <td>40.0</td>\n      <td>SHAPE_L</td>\n      <td>5X5X3/8</td>\n      <td>Merchants</td>\n      <td>106029532</td>\n      <td>L 5X5X3/8 GGMULTI 40'00\"</td>\n      <td>5.0</td>\n      <td>NA - DISTRIBUTION</td>\n      <td>100064074</td>\n      <td>100095278</td>\n      <td>05602-4480</td>\n      <td>Vermont</td>\n      <td>US</td>\n    </tr>\n  </tbody>\n</table>\n</div>"
     },
     "metadata": {},
     "execution_count": 45
    }
   ],
   "source": [
    "#Reducing main data frame\n",
    "ship_reduced = ship_hist[[\"shipping_day\", \"block\", \"strgr\", \"shape\", \"sizeforqualcert\", \"div\", \"material\", \"material_description\",\"shipment_tons\", \"segment\", \"sold-to_party\",\"ship-to_party\", \"postal_code\",\"region_description\", \"country\"]]\n",
    "ship_reduced.rename(columns={\"material\":\"sku\", \"strgr\":\"strategy\",\"sizeforqualcert\":\"size\"}, inplace=True)\n",
    "ship_reduced = ship_reduced.sort_values([\"shipping_day\", \"material_description\"])\n",
    "ship_reduced.head()"
   ]
  },
  {
   "cell_type": "code",
   "execution_count": 46,
   "metadata": {},
   "outputs": [],
   "source": [
    "#changing sku to object dtype\n",
    "ship_reduced[\"sku\"] = ship_reduced[\"sku\"].astype(\"object\")\n",
    "ship_reduced[\"sold-to_party\"] = ship_reduced[\"sold-to_party\"].astype(\"object\")\n",
    "ship_reduced[\"ship-to_party\"] = ship_reduced[\"ship-to_party\"].astype(\"object\")\n",
    "ship_reduced[\"strategy\"] = ship_reduced[\"strategy\"].astype(\"object\")"
   ]
  },
  {
   "cell_type": "code",
   "execution_count": 47,
   "metadata": {},
   "outputs": [
    {
     "output_type": "execute_result",
     "data": {
      "text/plain": "array(['Merchants', 'Rebar', 'Billets', 'SBQ Bar', 'Scrap'], dtype=object)"
     },
     "metadata": {},
     "execution_count": 47
    }
   ],
   "source": [
    "#Check unique Divisions\n",
    "ship_hist[\"div\"].unique()"
   ]
  },
  {
   "cell_type": "code",
   "execution_count": 48,
   "metadata": {},
   "outputs": [],
   "source": [
    "#Removing billets and scrap from dataframe\n",
    "ship_reduced = ship_reduced.loc[(ship_reduced[\"div\"] != \"Billets\") & (ship_reduced[\"div\"] != \"Scrap\")]"
   ]
  },
  {
   "cell_type": "code",
   "execution_count": 49,
   "metadata": {},
   "outputs": [
    {
     "output_type": "stream",
     "name": "stdout",
     "text": "<class 'pandas.core.frame.DataFrame'>\nInt64Index: 156711 entries, 155274 to 21756\nData columns (total 15 columns):\n #   Column                Non-Null Count   Dtype         \n---  ------                --------------   -----         \n 0   shipping_day          156711 non-null  datetime64[ns]\n 1   block                 153079 non-null  object        \n 2   strategy              156700 non-null  object        \n 3   shape                 156700 non-null  object        \n 4   size                  156700 non-null  object        \n 5   div                   156711 non-null  object        \n 6   sku                   156711 non-null  object        \n 7   material_description  156711 non-null  object        \n 8   shipment_tons         156711 non-null  float64       \n 9   segment               154025 non-null  object        \n 10  sold-to_party         156711 non-null  object        \n 11  ship-to_party         156711 non-null  object        \n 12  postal_code           156711 non-null  object        \n 13  region_description    156711 non-null  object        \n 14  country               156711 non-null  object        \ndtypes: datetime64[ns](1), float64(1), object(13)\nmemory usage: 19.1+ MB\n"
    }
   ],
   "source": [
    "ship_reduced.info()"
   ]
  },
  {
   "cell_type": "code",
   "execution_count": 50,
   "metadata": {},
   "outputs": [
    {
     "output_type": "execute_result",
     "data": {
      "text/plain": "       shipping_day       block strategy    shape      size        div  \\\n99068    2015-01-05         NaN       40     FLAT  5/16 X 8  Merchants   \n146066   2015-01-05         NaN       40     FLAT   5/8 X 9  Merchants   \n127810   2015-01-06         NaN       40     FLAT   1/4 X 1  Merchants   \n127807   2015-01-06         NaN       40     FLAT   1/4 X 2  Merchants   \n127806   2015-01-06         NaN       40     FLAT   1/4 X 3  Merchants   \n...             ...         ...      ...      ...       ...        ...   \n18290    2020-02-21  4 X 3\" ANG       40  SHAPE_L   4X3X1/4  Merchants   \n24479    2020-02-21      4\" ANG       40  SHAPE_L   4X4X1/4  Merchants   \n24480    2020-02-21      4\" ANG       40  SHAPE_L   4X4X3/8  Merchants   \n18281    2020-02-21  5 X 3\" ANG       40  SHAPE_L   5X3X3/8  Merchants   \n18370    2020-02-21         TRN       40  SHAPE_L   8X8X1/2  Merchants   \n\n              sku      material_description  shipment_tons            segment  \\\n99068   109004173   F 5/16X8 GGMULTI 20'00\"            7.0  NA - DISTRIBUTION   \n146066  109004228    F 5/8X9 GGMULTI 20'00\"            4.0  NA - DISTRIBUTION   \n127810  109005227    F 1/4X1 A36/44W 20'00\"            3.0  NA - DISTRIBUTION   \n127807  109009070    F 1/4X2 GGMULTI 20'00\"            5.0  NA - DISTRIBUTION   \n127806  109009081    F 1/4X3 GGMULTI 20'00\"           10.0  NA - DISTRIBUTION   \n...           ...                       ...            ...                ...   \n18290   106028496  L 4X3X1/4 GGMULTI 20'00\"            3.0                NaN   \n24479   106028759  L 4X4X1/4 GGMULTI 40'00\"           10.0                NaN   \n24480   106028625  L 4X4X3/8 GGMULTI 40'00\"           10.0                NaN   \n18281   106029499  L 5X3X3/8 GGMULTI 20'00\"            3.0                NaN   \n18370   106019495  L 8X8X1/2 GGMULTI 40'00\"            5.0                NaN   \n\n       sold-to_party ship-to_party postal_code region_description country  \n99068      100061219     100061242     K1G 3W3            Ontario      CA  \n146066     100060244     100060255  48876-8795           Michigan      US  \n127810     100092155     100095353     T2C 4W3            Alberta      CA  \n127807     100092155     100095353     T2C 4W3            Alberta      CA  \n127806     100092155     100095353     T2C 4W3            Alberta      CA  \n...              ...           ...         ...                ...     ...  \n18290      100092138     100095277     V3N 2T8   British Columbia      CA  \n24479      100061349     100061360     T2C 2A1            Alberta      CA  \n24480      100061349     100061360     T2C 2A1            Alberta      CA  \n18281      100092142     100095283     V4X 2M9   British Columbia      CA  \n18370      100092138     100095277     V3N 2T8   British Columbia      CA  \n\n[6020 rows x 15 columns]",
      "text/html": "<div>\n<style scoped>\n    .dataframe tbody tr th:only-of-type {\n        vertical-align: middle;\n    }\n\n    .dataframe tbody tr th {\n        vertical-align: top;\n    }\n\n    .dataframe thead th {\n        text-align: right;\n    }\n</style>\n<table border=\"1\" class=\"dataframe\">\n  <thead>\n    <tr style=\"text-align: right;\">\n      <th></th>\n      <th>shipping_day</th>\n      <th>block</th>\n      <th>strategy</th>\n      <th>shape</th>\n      <th>size</th>\n      <th>div</th>\n      <th>sku</th>\n      <th>material_description</th>\n      <th>shipment_tons</th>\n      <th>segment</th>\n      <th>sold-to_party</th>\n      <th>ship-to_party</th>\n      <th>postal_code</th>\n      <th>region_description</th>\n      <th>country</th>\n    </tr>\n  </thead>\n  <tbody>\n    <tr>\n      <th>99068</th>\n      <td>2015-01-05</td>\n      <td>NaN</td>\n      <td>40</td>\n      <td>FLAT</td>\n      <td>5/16 X 8</td>\n      <td>Merchants</td>\n      <td>109004173</td>\n      <td>F 5/16X8 GGMULTI 20'00\"</td>\n      <td>7.0</td>\n      <td>NA - DISTRIBUTION</td>\n      <td>100061219</td>\n      <td>100061242</td>\n      <td>K1G 3W3</td>\n      <td>Ontario</td>\n      <td>CA</td>\n    </tr>\n    <tr>\n      <th>146066</th>\n      <td>2015-01-05</td>\n      <td>NaN</td>\n      <td>40</td>\n      <td>FLAT</td>\n      <td>5/8 X 9</td>\n      <td>Merchants</td>\n      <td>109004228</td>\n      <td>F 5/8X9 GGMULTI 20'00\"</td>\n      <td>4.0</td>\n      <td>NA - DISTRIBUTION</td>\n      <td>100060244</td>\n      <td>100060255</td>\n      <td>48876-8795</td>\n      <td>Michigan</td>\n      <td>US</td>\n    </tr>\n    <tr>\n      <th>127810</th>\n      <td>2015-01-06</td>\n      <td>NaN</td>\n      <td>40</td>\n      <td>FLAT</td>\n      <td>1/4 X 1</td>\n      <td>Merchants</td>\n      <td>109005227</td>\n      <td>F 1/4X1 A36/44W 20'00\"</td>\n      <td>3.0</td>\n      <td>NA - DISTRIBUTION</td>\n      <td>100092155</td>\n      <td>100095353</td>\n      <td>T2C 4W3</td>\n      <td>Alberta</td>\n      <td>CA</td>\n    </tr>\n    <tr>\n      <th>127807</th>\n      <td>2015-01-06</td>\n      <td>NaN</td>\n      <td>40</td>\n      <td>FLAT</td>\n      <td>1/4 X 2</td>\n      <td>Merchants</td>\n      <td>109009070</td>\n      <td>F 1/4X2 GGMULTI 20'00\"</td>\n      <td>5.0</td>\n      <td>NA - DISTRIBUTION</td>\n      <td>100092155</td>\n      <td>100095353</td>\n      <td>T2C 4W3</td>\n      <td>Alberta</td>\n      <td>CA</td>\n    </tr>\n    <tr>\n      <th>127806</th>\n      <td>2015-01-06</td>\n      <td>NaN</td>\n      <td>40</td>\n      <td>FLAT</td>\n      <td>1/4 X 3</td>\n      <td>Merchants</td>\n      <td>109009081</td>\n      <td>F 1/4X3 GGMULTI 20'00\"</td>\n      <td>10.0</td>\n      <td>NA - DISTRIBUTION</td>\n      <td>100092155</td>\n      <td>100095353</td>\n      <td>T2C 4W3</td>\n      <td>Alberta</td>\n      <td>CA</td>\n    </tr>\n    <tr>\n      <th>...</th>\n      <td>...</td>\n      <td>...</td>\n      <td>...</td>\n      <td>...</td>\n      <td>...</td>\n      <td>...</td>\n      <td>...</td>\n      <td>...</td>\n      <td>...</td>\n      <td>...</td>\n      <td>...</td>\n      <td>...</td>\n      <td>...</td>\n      <td>...</td>\n      <td>...</td>\n    </tr>\n    <tr>\n      <th>18290</th>\n      <td>2020-02-21</td>\n      <td>4 X 3\" ANG</td>\n      <td>40</td>\n      <td>SHAPE_L</td>\n      <td>4X3X1/4</td>\n      <td>Merchants</td>\n      <td>106028496</td>\n      <td>L 4X3X1/4 GGMULTI 20'00\"</td>\n      <td>3.0</td>\n      <td>NaN</td>\n      <td>100092138</td>\n      <td>100095277</td>\n      <td>V3N 2T8</td>\n      <td>British Columbia</td>\n      <td>CA</td>\n    </tr>\n    <tr>\n      <th>24479</th>\n      <td>2020-02-21</td>\n      <td>4\" ANG</td>\n      <td>40</td>\n      <td>SHAPE_L</td>\n      <td>4X4X1/4</td>\n      <td>Merchants</td>\n      <td>106028759</td>\n      <td>L 4X4X1/4 GGMULTI 40'00\"</td>\n      <td>10.0</td>\n      <td>NaN</td>\n      <td>100061349</td>\n      <td>100061360</td>\n      <td>T2C 2A1</td>\n      <td>Alberta</td>\n      <td>CA</td>\n    </tr>\n    <tr>\n      <th>24480</th>\n      <td>2020-02-21</td>\n      <td>4\" ANG</td>\n      <td>40</td>\n      <td>SHAPE_L</td>\n      <td>4X4X3/8</td>\n      <td>Merchants</td>\n      <td>106028625</td>\n      <td>L 4X4X3/8 GGMULTI 40'00\"</td>\n      <td>10.0</td>\n      <td>NaN</td>\n      <td>100061349</td>\n      <td>100061360</td>\n      <td>T2C 2A1</td>\n      <td>Alberta</td>\n      <td>CA</td>\n    </tr>\n    <tr>\n      <th>18281</th>\n      <td>2020-02-21</td>\n      <td>5 X 3\" ANG</td>\n      <td>40</td>\n      <td>SHAPE_L</td>\n      <td>5X3X3/8</td>\n      <td>Merchants</td>\n      <td>106029499</td>\n      <td>L 5X3X3/8 GGMULTI 20'00\"</td>\n      <td>3.0</td>\n      <td>NaN</td>\n      <td>100092142</td>\n      <td>100095283</td>\n      <td>V4X 2M9</td>\n      <td>British Columbia</td>\n      <td>CA</td>\n    </tr>\n    <tr>\n      <th>18370</th>\n      <td>2020-02-21</td>\n      <td>TRN</td>\n      <td>40</td>\n      <td>SHAPE_L</td>\n      <td>8X8X1/2</td>\n      <td>Merchants</td>\n      <td>106019495</td>\n      <td>L 8X8X1/2 GGMULTI 40'00\"</td>\n      <td>5.0</td>\n      <td>NaN</td>\n      <td>100092138</td>\n      <td>100095277</td>\n      <td>V3N 2T8</td>\n      <td>British Columbia</td>\n      <td>CA</td>\n    </tr>\n  </tbody>\n</table>\n<p>6020 rows × 15 columns</p>\n</div>"
     },
     "metadata": {},
     "execution_count": 50
    }
   ],
   "source": [
    "#Show Sample of NaN fields\n",
    "ship_reduced[ship_reduced.isna().any(axis=1)]"
   ]
  },
  {
   "cell_type": "code",
   "execution_count": 51,
   "metadata": {},
   "outputs": [
    {
     "output_type": "execute_result",
     "data": {
      "text/plain": "            shipping_day  block  strategy  size   div   sku  \\\nshape                                                         \nASDRAWING              2      0         2     2     2     2   \nFLAT                2457      0      2457  2457  2457  2457   \nPENCIL_ROD            81      0        81    81    81    81   \nROUND                246      0       246   246   246   246   \nSHAPE_C              237      0       237   237   237   237   \nSHAPE_L              415      0       415   415   415   415   \nSHAPE_MC              31      0        31    31    31    31   \nSQUARE               152      0       152   152   152   152   \n\n            material_description  shipment_tons  segment  sold-to_party  \\\nshape                                                                     \nASDRAWING                      2              2        2              2   \nFLAT                        2457           2457     2249           2457   \nPENCIL_ROD                    81             81       81             81   \nROUND                        246            246      216            246   \nSHAPE_C                      237            237      231            237   \nSHAPE_L                      415            415      384            415   \nSHAPE_MC                      31             31       31             31   \nSQUARE                       152            152      139            152   \n\n            ship-to_party  postal_code  region_description  country  \nshape                                                                \nASDRAWING               2            2                   2        2  \nFLAT                 2457         2457                2457     2457  \nPENCIL_ROD             81           81                  81       81  \nROUND                 246          246                 246      246  \nSHAPE_C               237          237                 237      237  \nSHAPE_L               415          415                 415      415  \nSHAPE_MC               31           31                  31       31  \nSQUARE                152          152                 152      152  ",
      "text/html": "<div>\n<style scoped>\n    .dataframe tbody tr th:only-of-type {\n        vertical-align: middle;\n    }\n\n    .dataframe tbody tr th {\n        vertical-align: top;\n    }\n\n    .dataframe thead th {\n        text-align: right;\n    }\n</style>\n<table border=\"1\" class=\"dataframe\">\n  <thead>\n    <tr style=\"text-align: right;\">\n      <th></th>\n      <th>shipping_day</th>\n      <th>block</th>\n      <th>strategy</th>\n      <th>size</th>\n      <th>div</th>\n      <th>sku</th>\n      <th>material_description</th>\n      <th>shipment_tons</th>\n      <th>segment</th>\n      <th>sold-to_party</th>\n      <th>ship-to_party</th>\n      <th>postal_code</th>\n      <th>region_description</th>\n      <th>country</th>\n    </tr>\n    <tr>\n      <th>shape</th>\n      <th></th>\n      <th></th>\n      <th></th>\n      <th></th>\n      <th></th>\n      <th></th>\n      <th></th>\n      <th></th>\n      <th></th>\n      <th></th>\n      <th></th>\n      <th></th>\n      <th></th>\n      <th></th>\n    </tr>\n  </thead>\n  <tbody>\n    <tr>\n      <th>ASDRAWING</th>\n      <td>2</td>\n      <td>0</td>\n      <td>2</td>\n      <td>2</td>\n      <td>2</td>\n      <td>2</td>\n      <td>2</td>\n      <td>2</td>\n      <td>2</td>\n      <td>2</td>\n      <td>2</td>\n      <td>2</td>\n      <td>2</td>\n      <td>2</td>\n    </tr>\n    <tr>\n      <th>FLAT</th>\n      <td>2457</td>\n      <td>0</td>\n      <td>2457</td>\n      <td>2457</td>\n      <td>2457</td>\n      <td>2457</td>\n      <td>2457</td>\n      <td>2457</td>\n      <td>2249</td>\n      <td>2457</td>\n      <td>2457</td>\n      <td>2457</td>\n      <td>2457</td>\n      <td>2457</td>\n    </tr>\n    <tr>\n      <th>PENCIL_ROD</th>\n      <td>81</td>\n      <td>0</td>\n      <td>81</td>\n      <td>81</td>\n      <td>81</td>\n      <td>81</td>\n      <td>81</td>\n      <td>81</td>\n      <td>81</td>\n      <td>81</td>\n      <td>81</td>\n      <td>81</td>\n      <td>81</td>\n      <td>81</td>\n    </tr>\n    <tr>\n      <th>ROUND</th>\n      <td>246</td>\n      <td>0</td>\n      <td>246</td>\n      <td>246</td>\n      <td>246</td>\n      <td>246</td>\n      <td>246</td>\n      <td>246</td>\n      <td>216</td>\n      <td>246</td>\n      <td>246</td>\n      <td>246</td>\n      <td>246</td>\n      <td>246</td>\n    </tr>\n    <tr>\n      <th>SHAPE_C</th>\n      <td>237</td>\n      <td>0</td>\n      <td>237</td>\n      <td>237</td>\n      <td>237</td>\n      <td>237</td>\n      <td>237</td>\n      <td>237</td>\n      <td>231</td>\n      <td>237</td>\n      <td>237</td>\n      <td>237</td>\n      <td>237</td>\n      <td>237</td>\n    </tr>\n    <tr>\n      <th>SHAPE_L</th>\n      <td>415</td>\n      <td>0</td>\n      <td>415</td>\n      <td>415</td>\n      <td>415</td>\n      <td>415</td>\n      <td>415</td>\n      <td>415</td>\n      <td>384</td>\n      <td>415</td>\n      <td>415</td>\n      <td>415</td>\n      <td>415</td>\n      <td>415</td>\n    </tr>\n    <tr>\n      <th>SHAPE_MC</th>\n      <td>31</td>\n      <td>0</td>\n      <td>31</td>\n      <td>31</td>\n      <td>31</td>\n      <td>31</td>\n      <td>31</td>\n      <td>31</td>\n      <td>31</td>\n      <td>31</td>\n      <td>31</td>\n      <td>31</td>\n      <td>31</td>\n      <td>31</td>\n    </tr>\n    <tr>\n      <th>SQUARE</th>\n      <td>152</td>\n      <td>0</td>\n      <td>152</td>\n      <td>152</td>\n      <td>152</td>\n      <td>152</td>\n      <td>152</td>\n      <td>152</td>\n      <td>139</td>\n      <td>152</td>\n      <td>152</td>\n      <td>152</td>\n      <td>152</td>\n      <td>152</td>\n    </tr>\n  </tbody>\n</table>\n</div>"
     },
     "metadata": {},
     "execution_count": 51
    }
   ],
   "source": [
    "#Show the shape that show as null within the block\n",
    "ship_reduced[ship_reduced[\"block\"].isna()].groupby(\"shape\").count()"
   ]
  },
  {
   "cell_type": "markdown",
   "metadata": {},
   "source": [
    "### New Inventory Data (dating back 2016)"
   ]
  },
  {
   "cell_type": "code",
   "execution_count": 52,
   "metadata": {},
   "outputs": [
    {
     "output_type": "stream",
     "name": "stdout",
     "text": "<class 'pandas.core.frame.DataFrame'>\nRangeIndex: 779395 entries, 0 to 779394\nData columns (total 23 columns):\n #   Column           Non-Null Count   Dtype         \n---  ------           --------------   -----         \n 0   CalendarDay      779395 non-null  datetime64[ns]\n 1   Plant            779395 non-null  int64         \n 2   Material         779395 non-null  int64         \n 3   PH3              779395 non-null  object        \n 4   PH5              779395 non-null  object        \n 5   PH               779395 non-null  object        \n 6   Material type    779395 non-null  object        \n 7   Tons             779395 non-null  float64       \n 8   MATNR            779395 non-null  int64         \n 9   MAKTX            779395 non-null  object        \n 10  Shape            776588 non-null  object        \n 11  SizeForQualCert  776588 non-null  object        \n 12  MTO_MTS          771934 non-null  object        \n 13  Planning_Group   776585 non-null  object        \n 14  PTP_Group        776588 non-null  object        \n 15  MillComboCode    779392 non-null  object        \n 16  PGGroupCode      779392 non-null  object        \n 17  BlockResource    769251 non-null  object        \n 18  L5Code           779392 non-null  object        \n 19  SteelGrade       776588 non-null  object        \n 20  LengthImperial   47420 non-null   float64       \n 21  LengthText       773743 non-null  object        \n 22  WeightPerPiece   738328 non-null  float64       \ndtypes: datetime64[ns](1), float64(3), int64(3), object(16)\nmemory usage: 136.8+ MB\n"
    }
   ],
   "source": [
    "inv_hist2.info()"
   ]
  },
  {
   "cell_type": "code",
   "execution_count": 53,
   "metadata": {},
   "outputs": [
    {
     "output_type": "execute_result",
     "data": {
      "text/plain": "Index(['calendar_day', 'plant', 'material', 'ph3', 'ph5', 'ph',\n       'material_type', 'tons', 'matnr', 'maktx', 'shape',\n       'size_for_qual_cert', 'mto_mts', 'planning_group', 'ptp_group',\n       'mill_combo_code', 'pg_group_code', 'block_resource', 'l5code',\n       'steel_grade', 'length_imperial', 'length_text', 'weight_per_piece'],\n      dtype='object')"
     },
     "metadata": {},
     "execution_count": 53
    }
   ],
   "source": [
    "clean_columns(inv_hist2) "
   ]
  },
  {
   "cell_type": "code",
   "execution_count": 54,
   "metadata": {},
   "outputs": [
    {
     "output_type": "execute_result",
     "data": {
      "text/plain": "   calendar_day        sku                 material_description material_type  \\\n0    2016-01-03  102003236  BL 5 1/8X7 3/8 1010M-446_1302 3,800          ZERT   \n16   2016-01-03  106020238            C 10X15.3# GGMULTI 20'00\"          ZERT   \n17   2016-01-03  106020239            C 10X15.3# GGMULTI 40'00\"          ZERT   \n18   2016-01-03  106020242            C 10X15.3# GGMULTI 50'00\"          ZERT   \n19   2016-01-03  106020243            C 10X15.3# GGMULTI 60'00\"          ZERT   \n\n   strategy                                  ph        shape    block  \\\n0       MTO        LS-Mills-Bil-Bil-Bil-Billets  RECTANGULAR      NaN   \n16      MTS  LS-Mills-Mer-Mer-Strc A&C-Channels      SHAPE_C  10\" CHN   \n17      MTS  LS-Mills-Mer-Mer-Strc A&C-Channels      SHAPE_C  10\" CHN   \n18      MTS  LS-Mills-Mer-Mer-Strc A&C-Channels      SHAPE_C  10\" CHN   \n19      MTS  LS-Mills-Mer-Mer-Strc A&C-Channels      SHAPE_C  10\" CHN   \n\n             size     steel_grade length_text     tons  \n0   5 1/8 X 7 3/8  1010M-446_1302           0    7.600  \n16     10 X 15.3#         GGMULTI      20'00\"  200.736  \n17     10 X 15.3#         GGMULTI      40'00\"  352.206  \n18     10 X 15.3#         GGMULTI      50'00\"   99.450  \n19     10 X 15.3#         GGMULTI      60'00\"   26.622  ",
      "text/html": "<div>\n<style scoped>\n    .dataframe tbody tr th:only-of-type {\n        vertical-align: middle;\n    }\n\n    .dataframe tbody tr th {\n        vertical-align: top;\n    }\n\n    .dataframe thead th {\n        text-align: right;\n    }\n</style>\n<table border=\"1\" class=\"dataframe\">\n  <thead>\n    <tr style=\"text-align: right;\">\n      <th></th>\n      <th>calendar_day</th>\n      <th>sku</th>\n      <th>material_description</th>\n      <th>material_type</th>\n      <th>strategy</th>\n      <th>ph</th>\n      <th>shape</th>\n      <th>block</th>\n      <th>size</th>\n      <th>steel_grade</th>\n      <th>length_text</th>\n      <th>tons</th>\n    </tr>\n  </thead>\n  <tbody>\n    <tr>\n      <th>0</th>\n      <td>2016-01-03</td>\n      <td>102003236</td>\n      <td>BL 5 1/8X7 3/8 1010M-446_1302 3,800</td>\n      <td>ZERT</td>\n      <td>MTO</td>\n      <td>LS-Mills-Bil-Bil-Bil-Billets</td>\n      <td>RECTANGULAR</td>\n      <td>NaN</td>\n      <td>5 1/8 X 7 3/8</td>\n      <td>1010M-446_1302</td>\n      <td>0</td>\n      <td>7.600</td>\n    </tr>\n    <tr>\n      <th>16</th>\n      <td>2016-01-03</td>\n      <td>106020238</td>\n      <td>C 10X15.3# GGMULTI 20'00\"</td>\n      <td>ZERT</td>\n      <td>MTS</td>\n      <td>LS-Mills-Mer-Mer-Strc A&amp;C-Channels</td>\n      <td>SHAPE_C</td>\n      <td>10\" CHN</td>\n      <td>10 X 15.3#</td>\n      <td>GGMULTI</td>\n      <td>20'00\"</td>\n      <td>200.736</td>\n    </tr>\n    <tr>\n      <th>17</th>\n      <td>2016-01-03</td>\n      <td>106020239</td>\n      <td>C 10X15.3# GGMULTI 40'00\"</td>\n      <td>ZERT</td>\n      <td>MTS</td>\n      <td>LS-Mills-Mer-Mer-Strc A&amp;C-Channels</td>\n      <td>SHAPE_C</td>\n      <td>10\" CHN</td>\n      <td>10 X 15.3#</td>\n      <td>GGMULTI</td>\n      <td>40'00\"</td>\n      <td>352.206</td>\n    </tr>\n    <tr>\n      <th>18</th>\n      <td>2016-01-03</td>\n      <td>106020242</td>\n      <td>C 10X15.3# GGMULTI 50'00\"</td>\n      <td>ZERT</td>\n      <td>MTS</td>\n      <td>LS-Mills-Mer-Mer-Strc A&amp;C-Channels</td>\n      <td>SHAPE_C</td>\n      <td>10\" CHN</td>\n      <td>10 X 15.3#</td>\n      <td>GGMULTI</td>\n      <td>50'00\"</td>\n      <td>99.450</td>\n    </tr>\n    <tr>\n      <th>19</th>\n      <td>2016-01-03</td>\n      <td>106020243</td>\n      <td>C 10X15.3# GGMULTI 60'00\"</td>\n      <td>ZERT</td>\n      <td>MTS</td>\n      <td>LS-Mills-Mer-Mer-Strc A&amp;C-Channels</td>\n      <td>SHAPE_C</td>\n      <td>10\" CHN</td>\n      <td>10 X 15.3#</td>\n      <td>GGMULTI</td>\n      <td>60'00\"</td>\n      <td>26.622</td>\n    </tr>\n  </tbody>\n</table>\n</div>"
     },
     "metadata": {},
     "execution_count": 54
    }
   ],
   "source": [
    "inv_reduced2 = inv_hist2[[\"calendar_day\",\"material\", \"maktx\",\"material_type\", \"mto_mts\", \"ph\",\"shape\", \"block_resource\",\n",
    "                          \"size_for_qual_cert\", \"steel_grade\",\"length_text\", \"tons\"]]\n",
    "inv_reduced2.rename(columns={\"material\":\"sku\", \"maktx\":\"material_description\", \"mto_mts\":\"strategy\", \"block_resource\":\"block\", \n",
    "                             \"size_for_qual_cert\":\"size\"}, inplace=True)\n",
    "inv_reduced2 = inv_reduced2.sort_values([\"calendar_day\", \"material_description\"])\n",
    "inv_reduced2.head()"
   ]
  },
  {
   "cell_type": "code",
   "execution_count": 55,
   "metadata": {},
   "outputs": [],
   "source": [
    "#changing dtype\n",
    "inv_reduced2[\"strategy\"] = inv_reduced2[\"strategy\"].astype(\"category\")\n",
    "inv_reduced2[\"sku\"] = inv_reduced2[\"sku\"].astype(\"object\")"
   ]
  },
  {
   "cell_type": "code",
   "execution_count": 56,
   "metadata": {},
   "outputs": [
    {
     "output_type": "execute_result",
     "data": {
      "text/plain": "LS-Mills-Mer-Mer-Strc A&C-Angles          263153\nLS-Mills-Mer-Mer-Lght Shp-MBQ Angles      174981\nLS-Mills-Mer-Mer-Strc A&C-Channels        164836\nLS-Mills-Mer-Mer-MBQ-MBQ Fl                70798\nLS-Mills-Reb-Reb-Str Reb-Str Reb           41162\nLS-Mills-Mer-Mer-Lght Shp-MBQ Channels     37024\nLS-Mills-Reb-Reb-Reb Spc-Rebar MRB          9864\nLS-Mills-Mer-Mer-Strc A&C-MC Channels       6594\nLS-Mills-Mer-Mer-MBQ-MBQ Rd                 3091\nLS-Mills-Mer-Mer-MBQ-MBQ Sq                 1748\nLS-Mills-Mer-Mer-MBQ-Pencil Rod              895\nAL-Laminaci√≥n-Perfiles-Canal                277\nSS-Mills-SBQ-SBQ-SBQ-SBQ Rd                  170\nName: ph, dtype: int64"
     },
     "metadata": {},
     "execution_count": 56
    }
   ],
   "source": [
    "#removing non-end use product hierarchy\n",
    "inv_reduced2 = inv_reduced2[(inv_reduced2[\"ph\"]!= \"LS-Mills-Bil-Bil-Bil-Billets\") & \n",
    "                            (inv_reduced2[\"ph\"]!= \"DO NOT USE\") &\n",
    "                            (inv_reduced2[\"ph\"]!= \"LS-Mills-Mer-Mer-MBQ-MBQ HRB\")]\n",
    "inv_reduced2[\"ph\"].value_counts()"
   ]
  },
  {
   "cell_type": "code",
   "execution_count": 57,
   "metadata": {},
   "outputs": [
    {
     "output_type": "stream",
     "name": "stdout",
     "text": "<class 'pandas.core.frame.DataFrame'>\nInt64Index: 774593 entries, 16 to 779020\nData columns (total 12 columns):\n #   Column                Non-Null Count   Dtype         \n---  ------                --------------   -----         \n 0   calendar_day          774593 non-null  datetime64[ns]\n 1   sku                   774593 non-null  object        \n 2   material_description  774593 non-null  object        \n 3   material_type         774593 non-null  object        \n 4   strategy              767339 non-null  category      \n 5   ph                    774593 non-null  object        \n 6   shape                 771786 non-null  object        \n 7   block                 769246 non-null  object        \n 8   size                  771786 non-null  object        \n 9   steel_grade           771786 non-null  object        \n 10  length_text           769268 non-null  object        \n 11  tons                  774593 non-null  float64       \ndtypes: category(1), datetime64[ns](1), float64(1), object(9)\nmemory usage: 71.7+ MB\n"
    }
   ],
   "source": [
    "inv_reduced2.info()"
   ]
  },
  {
   "cell_type": "markdown",
   "metadata": {},
   "source": [
    "### Sales Order Data"
   ]
  },
  {
   "cell_type": "code",
   "execution_count": 58,
   "metadata": {},
   "outputs": [
    {
     "output_type": "execute_result",
     "data": {
      "text/plain": "Index(['sold_to', 'ship_to', 'ship_to_city', 'ship_to_state', 'order_no',\n       'item_no', 'material_number', 'material_description', 'division',\n       'reject_reason_code', 'po_line_item_no', 'cust_material_no',\n       'overdeliv_tol', 'underdeliv_tol', 'plant', 'plant_name', 'storage_loc',\n       'shipping_point', 'route', 'sales_district_code', 'requested_date',\n       'confirmed_date', 'order_qty_sales_units', 'confirmed_qty', 'sales_uom',\n       'weight_per_piece', 'req_qty_base_uom', 'base_uom', 'transp_plan_date',\n       'material_avail_date', 'load_date', 'plan_goods_issue_date',\n       'delivery_block', 'qty_on_delivery', 'qty_on_shipment', 'qty_shipped',\n       'qty_on_delivery_sales_units', 'qty_on_shipment_sales_units',\n       'qty_shipped_sales_units', 'item_status'],\n      dtype='object')"
     },
     "metadata": {},
     "execution_count": 58
    }
   ],
   "source": [
    "clean_columns(order_hist)"
   ]
  },
  {
   "cell_type": "code",
   "execution_count": 59,
   "metadata": {},
   "outputs": [
    {
     "output_type": "execute_result",
     "data": {
      "text/plain": "     sold_to    ship_to ship_to_city ship_to_state  order_no  item_no  \\\n0  100091881  100103709      CANDIAC            QC    171122       60   \n1  100091881  100103709      CANDIAC            QC    171122       90   \n2  100091881  100103709      CANDIAC            QC    171122       50   \n3  100092158  100099545        NISKU            AB    358536       30   \n4  100092158  100099545        NISKU            AB    358536       50   \n\n   material_number              material_description  division  \\\n0        106020877  L 6X6X1/2 A36/44W/A529-50 40'00\"         5   \n1        106020931              L 6X6X3/8 50W 46'05\"         5   \n2        106020931              L 6X6X3/8 50W 46'05\"         5   \n3        106021399   C 6X8.2# A36/44W/A529-50 40'00\"         3   \n4        106021716          C 8X11.5# GGMULTI 40'00\"         3   \n\n  reject_reason_code  ...  load_date plan_goods_issue_date  delivery_block  \\\n0                     ... 2013-02-06            2013-02-07                   \n1                     ... 2013-03-27            2013-03-28                   \n2                     ... 2012-12-14            2012-12-17                   \n3                     ... 2013-06-03            2013-06-18                   \n4                     ... 2013-06-07            2013-06-24                   \n\n   qty_on_delivery  qty_on_shipment qty_shipped qty_on_delivery_sales_units  \\\n0              0.0              0.0  583296.000                         0.0   \n1              0.0              0.0  329222.544                         0.0   \n2              0.0              0.0   91296.000                         0.0   \n3              0.0              0.0   59040.000                         0.0   \n4              0.0              0.0   18400.000                         0.0   \n\n   qty_on_shipment_sales_units qty_shipped_sales_units           item_status  \n0                          0.0               82176.000  Completely Processed  \n1                          0.0              116504.016  Completely Processed  \n2                          0.0               91296.000  Completely Processed  \n3                          0.0                 180.000  Completely Processed  \n4                          0.0                  40.000  Completely Processed  \n\n[5 rows x 40 columns]",
      "text/html": "<div>\n<style scoped>\n    .dataframe tbody tr th:only-of-type {\n        vertical-align: middle;\n    }\n\n    .dataframe tbody tr th {\n        vertical-align: top;\n    }\n\n    .dataframe thead th {\n        text-align: right;\n    }\n</style>\n<table border=\"1\" class=\"dataframe\">\n  <thead>\n    <tr style=\"text-align: right;\">\n      <th></th>\n      <th>sold_to</th>\n      <th>ship_to</th>\n      <th>ship_to_city</th>\n      <th>ship_to_state</th>\n      <th>order_no</th>\n      <th>item_no</th>\n      <th>material_number</th>\n      <th>material_description</th>\n      <th>division</th>\n      <th>reject_reason_code</th>\n      <th>...</th>\n      <th>load_date</th>\n      <th>plan_goods_issue_date</th>\n      <th>delivery_block</th>\n      <th>qty_on_delivery</th>\n      <th>qty_on_shipment</th>\n      <th>qty_shipped</th>\n      <th>qty_on_delivery_sales_units</th>\n      <th>qty_on_shipment_sales_units</th>\n      <th>qty_shipped_sales_units</th>\n      <th>item_status</th>\n    </tr>\n  </thead>\n  <tbody>\n    <tr>\n      <th>0</th>\n      <td>100091881</td>\n      <td>100103709</td>\n      <td>CANDIAC</td>\n      <td>QC</td>\n      <td>171122</td>\n      <td>60</td>\n      <td>106020877</td>\n      <td>L 6X6X1/2 A36/44W/A529-50 40'00\"</td>\n      <td>5</td>\n      <td></td>\n      <td>...</td>\n      <td>2013-02-06</td>\n      <td>2013-02-07</td>\n      <td></td>\n      <td>0.0</td>\n      <td>0.0</td>\n      <td>583296.000</td>\n      <td>0.0</td>\n      <td>0.0</td>\n      <td>82176.000</td>\n      <td>Completely Processed</td>\n    </tr>\n    <tr>\n      <th>1</th>\n      <td>100091881</td>\n      <td>100103709</td>\n      <td>CANDIAC</td>\n      <td>QC</td>\n      <td>171122</td>\n      <td>90</td>\n      <td>106020931</td>\n      <td>L 6X6X3/8 50W 46'05\"</td>\n      <td>5</td>\n      <td></td>\n      <td>...</td>\n      <td>2013-03-27</td>\n      <td>2013-03-28</td>\n      <td></td>\n      <td>0.0</td>\n      <td>0.0</td>\n      <td>329222.544</td>\n      <td>0.0</td>\n      <td>0.0</td>\n      <td>116504.016</td>\n      <td>Completely Processed</td>\n    </tr>\n    <tr>\n      <th>2</th>\n      <td>100091881</td>\n      <td>100103709</td>\n      <td>CANDIAC</td>\n      <td>QC</td>\n      <td>171122</td>\n      <td>50</td>\n      <td>106020931</td>\n      <td>L 6X6X3/8 50W 46'05\"</td>\n      <td>5</td>\n      <td></td>\n      <td>...</td>\n      <td>2012-12-14</td>\n      <td>2012-12-17</td>\n      <td></td>\n      <td>0.0</td>\n      <td>0.0</td>\n      <td>91296.000</td>\n      <td>0.0</td>\n      <td>0.0</td>\n      <td>91296.000</td>\n      <td>Completely Processed</td>\n    </tr>\n    <tr>\n      <th>3</th>\n      <td>100092158</td>\n      <td>100099545</td>\n      <td>NISKU</td>\n      <td>AB</td>\n      <td>358536</td>\n      <td>30</td>\n      <td>106021399</td>\n      <td>C 6X8.2# A36/44W/A529-50 40'00\"</td>\n      <td>3</td>\n      <td></td>\n      <td>...</td>\n      <td>2013-06-03</td>\n      <td>2013-06-18</td>\n      <td></td>\n      <td>0.0</td>\n      <td>0.0</td>\n      <td>59040.000</td>\n      <td>0.0</td>\n      <td>0.0</td>\n      <td>180.000</td>\n      <td>Completely Processed</td>\n    </tr>\n    <tr>\n      <th>4</th>\n      <td>100092158</td>\n      <td>100099545</td>\n      <td>NISKU</td>\n      <td>AB</td>\n      <td>358536</td>\n      <td>50</td>\n      <td>106021716</td>\n      <td>C 8X11.5# GGMULTI 40'00\"</td>\n      <td>3</td>\n      <td></td>\n      <td>...</td>\n      <td>2013-06-07</td>\n      <td>2013-06-24</td>\n      <td></td>\n      <td>0.0</td>\n      <td>0.0</td>\n      <td>18400.000</td>\n      <td>0.0</td>\n      <td>0.0</td>\n      <td>40.000</td>\n      <td>Completely Processed</td>\n    </tr>\n  </tbody>\n</table>\n<p>5 rows × 40 columns</p>\n</div>"
     },
     "metadata": {},
     "execution_count": 59
    }
   ],
   "source": [
    "order_hist.head()"
   ]
  },
  {
   "cell_type": "code",
   "execution_count": 60,
   "metadata": {},
   "outputs": [
    {
     "output_type": "execute_result",
     "data": {
      "text/plain": "       requested_date confirmed_date material_avail_date  load_date  \\\n188922     1900-01-01     1900-01-01          1900-01-01 1900-01-01   \n188915     1900-01-01     1900-01-01          1900-01-01 1900-01-01   \n188916     1900-01-01     1900-01-01          1900-01-01 1900-01-01   \n1497       2012-07-22     2012-07-22          2013-07-19 2013-07-19   \n119        2012-10-01     2012-10-01          2012-10-26 2012-10-26   \n...               ...            ...                 ...        ...   \n186380     1900-01-01     2020-09-08          2020-09-03 2020-09-03   \n187076     2020-04-01     2020-09-08          2020-09-03 2020-09-03   \n185362     2020-09-08     2020-09-08          2020-09-03 2020-09-03   \n183265     2020-09-11     2020-09-11          2020-09-09 2020-09-09   \n181857     1900-01-01     2020-09-11          2020-09-09 2020-09-09   \n\n       plan_goods_issue_date sales_district_code  division    sold_to  \\\n188922            1900-01-01              100311         3  100091887   \n188915            1900-01-01              100311         3  100091887   \n188916            1900-01-01              100311         3  100091887   \n1497              2013-07-22                             5  100061219   \n119               2012-10-29                             5  100091890   \n...                      ...                 ...       ...        ...   \n186380            2020-09-04              100311         3  100061219   \n187076            2020-09-04              100311         3  100092135   \n185362            2020-09-04              100313         3  100092191   \n183265            2020-09-10              100313         3  100092191   \n181857            2020-09-10              100313         3  100092191   \n\n          ship_to   route ship_to_city ship_to_state        sku  \\\n188922  100094602  C00486  MISSISSAUGA            ON  106029006   \n188915  100094602  C00486  MISSISSAUGA            ON  106028705   \n188916  100094602  C00486  MISSISSAUGA            ON  106028755   \n1497    100061228  C00333    CAMBRIDGE            ON  106022700   \n119     100094606  C00427    KITCHENER            ON  106020434   \n...           ...     ...          ...           ...        ...   \n186380  100061228  C00333    CAMBRIDGE            ON  109008606   \n187076  100095263  C07102  SAINT-BRUNO            QC  109008606   \n185362  100095443  C00486  MISSISSAUGA            ON  106022550   \n183265  100095443  C00486  MISSISSAUGA            ON  106022472   \n181857  100095443  C00486  MISSISSAUGA            ON  106022114   \n\n                         material_description  order_qty_sales_units  \\\n188922               L 2X2X3/8 GGMULTI 20'00\"                   0.00   \n188915               L 4X3X3/8 GGMULTI 20'00\"                   0.00   \n188916               L 4X4X1/4 GGMULTI 20'00\"                   0.00   \n1497    L 5X3 1/2X5/16 A36/44W/A529-50 40'00\"                  10.44   \n119             C 3X5# A36/44W/A529-50 20'00\"                4800.00   \n...                                       ...                    ...   \n186380                   F 1X7 GGMULTI 20'00\"                9520.00   \n187076                   F 1X7 GGMULTI 20'00\"               19040.00   \n185362           L 2 1/2X2 1/2X1/4 55W 60'00\"              103320.00   \n183265                   L 2X2X1/4 55W 60'00\"               93600.00   \n181857           L 3 1/2X3 1/2X3/8 55W 60'00\"               91800.00   \n\n        confirmed_qty sales_uom  qty_on_shipment  qty_shipped_sales_units  \\\n188922           0.00                        NaN                      NaN   \n188915           0.00                        NaN                      NaN   \n188916           0.00                        NaN                      NaN   \n1497            10.44       TON              0.0                    20.88   \n119           4800.00        LB              0.0                  9600.00   \n...               ...       ...              ...                      ...   \n186380        9520.00        LB              NaN                      NaN   \n187076       19040.00        LB              NaN                      NaN   \n185362      103320.00        LB              NaN                      NaN   \n183265       93600.00        LB              NaN                      NaN   \n181857       91800.00        LB              NaN                      NaN   \n\n                 item_status  \n188922     Not Yet Processed  \n188915     Not Yet Processed  \n188916     Not Yet Processed  \n1497    Completely Processed  \n119     Completely Processed  \n...                      ...  \n186380     Not Yet Processed  \n187076     Not Yet Processed  \n185362     Not Yet Processed  \n183265     Not Yet Processed  \n181857     Not Yet Processed  \n\n[188948 rows x 20 columns]",
      "text/html": "<div>\n<style scoped>\n    .dataframe tbody tr th:only-of-type {\n        vertical-align: middle;\n    }\n\n    .dataframe tbody tr th {\n        vertical-align: top;\n    }\n\n    .dataframe thead th {\n        text-align: right;\n    }\n</style>\n<table border=\"1\" class=\"dataframe\">\n  <thead>\n    <tr style=\"text-align: right;\">\n      <th></th>\n      <th>requested_date</th>\n      <th>confirmed_date</th>\n      <th>material_avail_date</th>\n      <th>load_date</th>\n      <th>plan_goods_issue_date</th>\n      <th>sales_district_code</th>\n      <th>division</th>\n      <th>sold_to</th>\n      <th>ship_to</th>\n      <th>route</th>\n      <th>ship_to_city</th>\n      <th>ship_to_state</th>\n      <th>sku</th>\n      <th>material_description</th>\n      <th>order_qty_sales_units</th>\n      <th>confirmed_qty</th>\n      <th>sales_uom</th>\n      <th>qty_on_shipment</th>\n      <th>qty_shipped_sales_units</th>\n      <th>item_status</th>\n    </tr>\n  </thead>\n  <tbody>\n    <tr>\n      <th>188922</th>\n      <td>1900-01-01</td>\n      <td>1900-01-01</td>\n      <td>1900-01-01</td>\n      <td>1900-01-01</td>\n      <td>1900-01-01</td>\n      <td>100311</td>\n      <td>3</td>\n      <td>100091887</td>\n      <td>100094602</td>\n      <td>C00486</td>\n      <td>MISSISSAUGA</td>\n      <td>ON</td>\n      <td>106029006</td>\n      <td>L 2X2X3/8 GGMULTI 20'00\"</td>\n      <td>0.00</td>\n      <td>0.00</td>\n      <td></td>\n      <td>NaN</td>\n      <td>NaN</td>\n      <td>Not Yet Processed</td>\n    </tr>\n    <tr>\n      <th>188915</th>\n      <td>1900-01-01</td>\n      <td>1900-01-01</td>\n      <td>1900-01-01</td>\n      <td>1900-01-01</td>\n      <td>1900-01-01</td>\n      <td>100311</td>\n      <td>3</td>\n      <td>100091887</td>\n      <td>100094602</td>\n      <td>C00486</td>\n      <td>MISSISSAUGA</td>\n      <td>ON</td>\n      <td>106028705</td>\n      <td>L 4X3X3/8 GGMULTI 20'00\"</td>\n      <td>0.00</td>\n      <td>0.00</td>\n      <td></td>\n      <td>NaN</td>\n      <td>NaN</td>\n      <td>Not Yet Processed</td>\n    </tr>\n    <tr>\n      <th>188916</th>\n      <td>1900-01-01</td>\n      <td>1900-01-01</td>\n      <td>1900-01-01</td>\n      <td>1900-01-01</td>\n      <td>1900-01-01</td>\n      <td>100311</td>\n      <td>3</td>\n      <td>100091887</td>\n      <td>100094602</td>\n      <td>C00486</td>\n      <td>MISSISSAUGA</td>\n      <td>ON</td>\n      <td>106028755</td>\n      <td>L 4X4X1/4 GGMULTI 20'00\"</td>\n      <td>0.00</td>\n      <td>0.00</td>\n      <td></td>\n      <td>NaN</td>\n      <td>NaN</td>\n      <td>Not Yet Processed</td>\n    </tr>\n    <tr>\n      <th>1497</th>\n      <td>2012-07-22</td>\n      <td>2012-07-22</td>\n      <td>2013-07-19</td>\n      <td>2013-07-19</td>\n      <td>2013-07-22</td>\n      <td></td>\n      <td>5</td>\n      <td>100061219</td>\n      <td>100061228</td>\n      <td>C00333</td>\n      <td>CAMBRIDGE</td>\n      <td>ON</td>\n      <td>106022700</td>\n      <td>L 5X3 1/2X5/16 A36/44W/A529-50 40'00\"</td>\n      <td>10.44</td>\n      <td>10.44</td>\n      <td>TON</td>\n      <td>0.0</td>\n      <td>20.88</td>\n      <td>Completely Processed</td>\n    </tr>\n    <tr>\n      <th>119</th>\n      <td>2012-10-01</td>\n      <td>2012-10-01</td>\n      <td>2012-10-26</td>\n      <td>2012-10-26</td>\n      <td>2012-10-29</td>\n      <td></td>\n      <td>5</td>\n      <td>100091890</td>\n      <td>100094606</td>\n      <td>C00427</td>\n      <td>KITCHENER</td>\n      <td>ON</td>\n      <td>106020434</td>\n      <td>C 3X5# A36/44W/A529-50 20'00\"</td>\n      <td>4800.00</td>\n      <td>4800.00</td>\n      <td>LB</td>\n      <td>0.0</td>\n      <td>9600.00</td>\n      <td>Completely Processed</td>\n    </tr>\n    <tr>\n      <th>...</th>\n      <td>...</td>\n      <td>...</td>\n      <td>...</td>\n      <td>...</td>\n      <td>...</td>\n      <td>...</td>\n      <td>...</td>\n      <td>...</td>\n      <td>...</td>\n      <td>...</td>\n      <td>...</td>\n      <td>...</td>\n      <td>...</td>\n      <td>...</td>\n      <td>...</td>\n      <td>...</td>\n      <td>...</td>\n      <td>...</td>\n      <td>...</td>\n      <td>...</td>\n    </tr>\n    <tr>\n      <th>186380</th>\n      <td>1900-01-01</td>\n      <td>2020-09-08</td>\n      <td>2020-09-03</td>\n      <td>2020-09-03</td>\n      <td>2020-09-04</td>\n      <td>100311</td>\n      <td>3</td>\n      <td>100061219</td>\n      <td>100061228</td>\n      <td>C00333</td>\n      <td>CAMBRIDGE</td>\n      <td>ON</td>\n      <td>109008606</td>\n      <td>F 1X7 GGMULTI 20'00\"</td>\n      <td>9520.00</td>\n      <td>9520.00</td>\n      <td>LB</td>\n      <td>NaN</td>\n      <td>NaN</td>\n      <td>Not Yet Processed</td>\n    </tr>\n    <tr>\n      <th>187076</th>\n      <td>2020-04-01</td>\n      <td>2020-09-08</td>\n      <td>2020-09-03</td>\n      <td>2020-09-03</td>\n      <td>2020-09-04</td>\n      <td>100311</td>\n      <td>3</td>\n      <td>100092135</td>\n      <td>100095263</td>\n      <td>C07102</td>\n      <td>SAINT-BRUNO</td>\n      <td>QC</td>\n      <td>109008606</td>\n      <td>F 1X7 GGMULTI 20'00\"</td>\n      <td>19040.00</td>\n      <td>19040.00</td>\n      <td>LB</td>\n      <td>NaN</td>\n      <td>NaN</td>\n      <td>Not Yet Processed</td>\n    </tr>\n    <tr>\n      <th>185362</th>\n      <td>2020-09-08</td>\n      <td>2020-09-08</td>\n      <td>2020-09-03</td>\n      <td>2020-09-03</td>\n      <td>2020-09-04</td>\n      <td>100313</td>\n      <td>3</td>\n      <td>100092191</td>\n      <td>100095443</td>\n      <td>C00486</td>\n      <td>MISSISSAUGA</td>\n      <td>ON</td>\n      <td>106022550</td>\n      <td>L 2 1/2X2 1/2X1/4 55W 60'00\"</td>\n      <td>103320.00</td>\n      <td>103320.00</td>\n      <td>LB</td>\n      <td>NaN</td>\n      <td>NaN</td>\n      <td>Not Yet Processed</td>\n    </tr>\n    <tr>\n      <th>183265</th>\n      <td>2020-09-11</td>\n      <td>2020-09-11</td>\n      <td>2020-09-09</td>\n      <td>2020-09-09</td>\n      <td>2020-09-10</td>\n      <td>100313</td>\n      <td>3</td>\n      <td>100092191</td>\n      <td>100095443</td>\n      <td>C00486</td>\n      <td>MISSISSAUGA</td>\n      <td>ON</td>\n      <td>106022472</td>\n      <td>L 2X2X1/4 55W 60'00\"</td>\n      <td>93600.00</td>\n      <td>93600.00</td>\n      <td>LB</td>\n      <td>NaN</td>\n      <td>NaN</td>\n      <td>Not Yet Processed</td>\n    </tr>\n    <tr>\n      <th>181857</th>\n      <td>1900-01-01</td>\n      <td>2020-09-11</td>\n      <td>2020-09-09</td>\n      <td>2020-09-09</td>\n      <td>2020-09-10</td>\n      <td>100313</td>\n      <td>3</td>\n      <td>100092191</td>\n      <td>100095443</td>\n      <td>C00486</td>\n      <td>MISSISSAUGA</td>\n      <td>ON</td>\n      <td>106022114</td>\n      <td>L 3 1/2X3 1/2X3/8 55W 60'00\"</td>\n      <td>91800.00</td>\n      <td>91800.00</td>\n      <td>LB</td>\n      <td>NaN</td>\n      <td>NaN</td>\n      <td>Not Yet Processed</td>\n    </tr>\n  </tbody>\n</table>\n<p>188948 rows × 20 columns</p>\n</div>"
     },
     "metadata": {},
     "execution_count": 60
    }
   ],
   "source": [
    "#Reducing main data frame\n",
    "order_reduced = order_hist[[\"requested_date\",'confirmed_date','material_avail_date', 'load_date', 'plan_goods_issue_date','sales_district_code',\n",
    "                            \"division\", \"sold_to\", \"ship_to\",\"route\",\"ship_to_city\", \"ship_to_state\", \"material_number\",'material_description',\n",
    "                            'order_qty_sales_units', 'confirmed_qty', 'sales_uom','qty_on_shipment','qty_shipped_sales_units', 'item_status',]]\n",
    "order_reduced.rename(columns={\"material_number\":\"sku\"}, inplace=True)\n",
    "order_reduced = order_reduced.sort_values([\"confirmed_date\", \"material_description\"])\n",
    "order_reduced.head(-5)"
   ]
  },
  {
   "cell_type": "code",
   "execution_count": 61,
   "metadata": {},
   "outputs": [
    {
     "output_type": "stream",
     "name": "stdout",
     "text": "<class 'pandas.core.frame.DataFrame'>\nInt64Index: 188953 entries, 188922 to 177013\nData columns (total 20 columns):\n #   Column                   Non-Null Count   Dtype         \n---  ------                   --------------   -----         \n 0   requested_date           188953 non-null  datetime64[ns]\n 1   confirmed_date           188953 non-null  datetime64[ns]\n 2   material_avail_date      188953 non-null  datetime64[ns]\n 3   load_date                188953 non-null  datetime64[ns]\n 4   plan_goods_issue_date    188953 non-null  datetime64[ns]\n 5   sales_district_code      188953 non-null  object        \n 6   division                 188953 non-null  int64         \n 7   sold_to                  188953 non-null  int64         \n 8   ship_to                  188953 non-null  int64         \n 9   route                    188953 non-null  object        \n 10  ship_to_city             188953 non-null  object        \n 11  ship_to_state            188953 non-null  object        \n 12  sku                      188953 non-null  int64         \n 13  material_description     188953 non-null  object        \n 14  order_qty_sales_units    188953 non-null  float64       \n 15  confirmed_qty            188953 non-null  float64       \n 16  sales_uom                188953 non-null  object        \n 17  qty_on_shipment          184793 non-null  float64       \n 18  qty_shipped_sales_units  184793 non-null  float64       \n 19  item_status              188953 non-null  object        \ndtypes: datetime64[ns](5), float64(4), int64(4), object(7)\nmemory usage: 30.3+ MB\n"
    }
   ],
   "source": [
    "order_reduced.info()"
   ]
  },
  {
   "cell_type": "code",
   "execution_count": 62,
   "metadata": {},
   "outputs": [],
   "source": [
    "#Change type of sku\n",
    "order_reduced[\"sku\"] =order_reduced[\"sku\"].astype(\"object\")"
   ]
  },
  {
   "cell_type": "markdown",
   "metadata": {
    "toc-hr-collapsed": true,
    "toc-nb-collapsed": true
   },
   "source": [
    "#### Understanding Orders not confirmed for requested date == 1900-01-01"
   ]
  },
  {
   "cell_type": "code",
   "execution_count": 63,
   "metadata": {},
   "outputs": [
    {
     "output_type": "execute_result",
     "data": {
      "text/plain": "(3, 20)"
     },
     "metadata": {},
     "execution_count": 63
    }
   ],
   "source": [
    "# Confirned date only has three of these, safe to use. \n",
    "order_reduced[order_reduced[\"confirmed_date\"]=='1900-01-01'].shape"
   ]
  },
  {
   "cell_type": "code",
   "execution_count": 64,
   "metadata": {},
   "outputs": [
    {
     "output_type": "execute_result",
     "data": {
      "text/plain": "Completely Processed    4447\nNot Yet Processed        912\nPartially Processed      155\nName: item_status, dtype: int64"
     },
     "metadata": {},
     "execution_count": 64
    }
   ],
   "source": [
    "#Most are completely processed, but with nearly 1/5 on-process\n",
    "order_reduced[order_reduced[\"requested_date\"]=='1900-01-01'][\"item_status\"].value_counts()"
   ]
  },
  {
   "cell_type": "code",
   "execution_count": 65,
   "metadata": {},
   "outputs": [
    {
     "output_type": "execute_result",
     "data": {
      "text/plain": "       requested_date confirmed_date material_avail_date  load_date  \\\n174748     1900-01-01     2020-04-03          2020-04-01 2020-04-01   \n164002     1900-01-01     2019-10-06          2019-10-06 2019-10-06   \n179922     1900-01-01     2020-05-15          2020-04-13 2020-04-13   \n171806     1900-01-01     2019-11-05          2019-11-01 2019-11-01   \n187928     1900-01-01     2020-07-08          2020-07-06 2020-07-06   \n178819     1900-01-01     2020-06-03          2020-06-03 2020-06-03   \n182900     1900-01-01     2020-07-14          2020-07-10 2020-07-10   \n184014     1900-01-01     2020-04-24          2020-04-20 2020-04-20   \n174306     1900-01-01     2020-01-01          2019-12-27 2019-12-27   \n181304     1900-01-01     2020-03-02          2020-02-27 2020-02-27   \n\n       plan_goods_issue_date sales_district_code  division    sold_to  \\\n174748            2020-04-02              100306         3  100091637   \n164002            2019-10-06              100311         3  100092146   \n179922            2020-04-28              100312         3  100092155   \n171806            2019-11-04              100209         2  100092147   \n187928            2020-07-07              100302         3  100092247   \n178819            2020-06-03              100311         3  100051178   \n182900            2020-07-13              100209         2  100073247   \n184014            2020-04-21              100311         3  100061270   \n174306            2019-12-30              100311         3  100051178   \n181304            2020-02-28              100209         2  100092177   \n\n          ship_to   route   ship_to_city ship_to_state        sku  \\\n174748  100099292  U08596         WAUSAU            WI  106027225   \n164002  100103991  999999  NIAGARA FALLS            ON  109008106   \n179922  100987501  CM0801    CORMAN PARK            SK  106028782   \n171806  100114222  C07206      ETOBICOKE            ON  110001621   \n187928  100095602  C00752  DRUMMONDVILLE            QC  106028974   \n178819  100103861  999999   SAINT-JEROME            QC  106020529   \n182900  100095381  C00427      KITCHENER            ON  110001535   \n184014  100061277  C00236     SAINT JOHN            NB  106020239   \n174306  100103819  C00764       JOLIETTE            QC  106028496   \n181304  100095403  C00970  VICTORIAVILLE            QC  110001535   \n\n                     material_description  order_qty_sales_units  \\\n174748            C 4X5.4# GGMULTI 40'00\"                15552.0   \n164002             F 3/8X8 GGMULTI 20'00\"                12252.0   \n179922   L 2 1/2X2 1/2X1/4 GGMULTI 20'00\"                12628.0   \n171806               RB 30M 400W 18M 00CM                82413.0   \n187928  L 3 1/2X3 1/2X5/16 GGMULTI 40'00\"                41472.0   \n178819            L 6X4X3/8 MERSPC 40'00\"                49200.0   \n182900               RB 15M 400W 18M 00CM               448550.0   \n184014          C 10X15.3# GGMULTI 40'00\"                19584.0   \n174306           L 4X3X1/4 GGMULTI 20'00\"                12992.0   \n181304               RB 15M 400W 18M 00CM              1435360.0   \n\n        confirmed_qty sales_uom  qty_on_shipment  qty_shipped_sales_units  \\\n174748        15552.0        LB              0.0                  15552.0   \n164002        12252.0        LB              0.0                  24504.0   \n179922        12628.0        LB              0.0                      0.0   \n171806        82413.0        LB              0.0                 174100.0   \n187928        41472.0        LB              NaN                      NaN   \n178819        49200.0        LB          59040.0                      0.0   \n182900       448550.0        LB              0.0                 171940.0   \n184014        19584.0        LB              0.0                      0.0   \n174306        12992.0        LB              0.0                  25984.0   \n181304      1435360.0        LB              0.0                2758580.0   \n\n                 item_status  \n174748  Completely Processed  \n164002  Completely Processed  \n179922  Completely Processed  \n171806  Completely Processed  \n187928     Not Yet Processed  \n178819   Partially Processed  \n182900   Partially Processed  \n184014  Completely Processed  \n174306  Completely Processed  \n181304  Completely Processed  ",
      "text/html": "<div>\n<style scoped>\n    .dataframe tbody tr th:only-of-type {\n        vertical-align: middle;\n    }\n\n    .dataframe tbody tr th {\n        vertical-align: top;\n    }\n\n    .dataframe thead th {\n        text-align: right;\n    }\n</style>\n<table border=\"1\" class=\"dataframe\">\n  <thead>\n    <tr style=\"text-align: right;\">\n      <th></th>\n      <th>requested_date</th>\n      <th>confirmed_date</th>\n      <th>material_avail_date</th>\n      <th>load_date</th>\n      <th>plan_goods_issue_date</th>\n      <th>sales_district_code</th>\n      <th>division</th>\n      <th>sold_to</th>\n      <th>ship_to</th>\n      <th>route</th>\n      <th>ship_to_city</th>\n      <th>ship_to_state</th>\n      <th>sku</th>\n      <th>material_description</th>\n      <th>order_qty_sales_units</th>\n      <th>confirmed_qty</th>\n      <th>sales_uom</th>\n      <th>qty_on_shipment</th>\n      <th>qty_shipped_sales_units</th>\n      <th>item_status</th>\n    </tr>\n  </thead>\n  <tbody>\n    <tr>\n      <th>174748</th>\n      <td>1900-01-01</td>\n      <td>2020-04-03</td>\n      <td>2020-04-01</td>\n      <td>2020-04-01</td>\n      <td>2020-04-02</td>\n      <td>100306</td>\n      <td>3</td>\n      <td>100091637</td>\n      <td>100099292</td>\n      <td>U08596</td>\n      <td>WAUSAU</td>\n      <td>WI</td>\n      <td>106027225</td>\n      <td>C 4X5.4# GGMULTI 40'00\"</td>\n      <td>15552.0</td>\n      <td>15552.0</td>\n      <td>LB</td>\n      <td>0.0</td>\n      <td>15552.0</td>\n      <td>Completely Processed</td>\n    </tr>\n    <tr>\n      <th>164002</th>\n      <td>1900-01-01</td>\n      <td>2019-10-06</td>\n      <td>2019-10-06</td>\n      <td>2019-10-06</td>\n      <td>2019-10-06</td>\n      <td>100311</td>\n      <td>3</td>\n      <td>100092146</td>\n      <td>100103991</td>\n      <td>999999</td>\n      <td>NIAGARA FALLS</td>\n      <td>ON</td>\n      <td>109008106</td>\n      <td>F 3/8X8 GGMULTI 20'00\"</td>\n      <td>12252.0</td>\n      <td>12252.0</td>\n      <td>LB</td>\n      <td>0.0</td>\n      <td>24504.0</td>\n      <td>Completely Processed</td>\n    </tr>\n    <tr>\n      <th>179922</th>\n      <td>1900-01-01</td>\n      <td>2020-05-15</td>\n      <td>2020-04-13</td>\n      <td>2020-04-13</td>\n      <td>2020-04-28</td>\n      <td>100312</td>\n      <td>3</td>\n      <td>100092155</td>\n      <td>100987501</td>\n      <td>CM0801</td>\n      <td>CORMAN PARK</td>\n      <td>SK</td>\n      <td>106028782</td>\n      <td>L 2 1/2X2 1/2X1/4 GGMULTI 20'00\"</td>\n      <td>12628.0</td>\n      <td>12628.0</td>\n      <td>LB</td>\n      <td>0.0</td>\n      <td>0.0</td>\n      <td>Completely Processed</td>\n    </tr>\n    <tr>\n      <th>171806</th>\n      <td>1900-01-01</td>\n      <td>2019-11-05</td>\n      <td>2019-11-01</td>\n      <td>2019-11-01</td>\n      <td>2019-11-04</td>\n      <td>100209</td>\n      <td>2</td>\n      <td>100092147</td>\n      <td>100114222</td>\n      <td>C07206</td>\n      <td>ETOBICOKE</td>\n      <td>ON</td>\n      <td>110001621</td>\n      <td>RB 30M 400W 18M 00CM</td>\n      <td>82413.0</td>\n      <td>82413.0</td>\n      <td>LB</td>\n      <td>0.0</td>\n      <td>174100.0</td>\n      <td>Completely Processed</td>\n    </tr>\n    <tr>\n      <th>187928</th>\n      <td>1900-01-01</td>\n      <td>2020-07-08</td>\n      <td>2020-07-06</td>\n      <td>2020-07-06</td>\n      <td>2020-07-07</td>\n      <td>100302</td>\n      <td>3</td>\n      <td>100092247</td>\n      <td>100095602</td>\n      <td>C00752</td>\n      <td>DRUMMONDVILLE</td>\n      <td>QC</td>\n      <td>106028974</td>\n      <td>L 3 1/2X3 1/2X5/16 GGMULTI 40'00\"</td>\n      <td>41472.0</td>\n      <td>41472.0</td>\n      <td>LB</td>\n      <td>NaN</td>\n      <td>NaN</td>\n      <td>Not Yet Processed</td>\n    </tr>\n    <tr>\n      <th>178819</th>\n      <td>1900-01-01</td>\n      <td>2020-06-03</td>\n      <td>2020-06-03</td>\n      <td>2020-06-03</td>\n      <td>2020-06-03</td>\n      <td>100311</td>\n      <td>3</td>\n      <td>100051178</td>\n      <td>100103861</td>\n      <td>999999</td>\n      <td>SAINT-JEROME</td>\n      <td>QC</td>\n      <td>106020529</td>\n      <td>L 6X4X3/8 MERSPC 40'00\"</td>\n      <td>49200.0</td>\n      <td>49200.0</td>\n      <td>LB</td>\n      <td>59040.0</td>\n      <td>0.0</td>\n      <td>Partially Processed</td>\n    </tr>\n    <tr>\n      <th>182900</th>\n      <td>1900-01-01</td>\n      <td>2020-07-14</td>\n      <td>2020-07-10</td>\n      <td>2020-07-10</td>\n      <td>2020-07-13</td>\n      <td>100209</td>\n      <td>2</td>\n      <td>100073247</td>\n      <td>100095381</td>\n      <td>C00427</td>\n      <td>KITCHENER</td>\n      <td>ON</td>\n      <td>110001535</td>\n      <td>RB 15M 400W 18M 00CM</td>\n      <td>448550.0</td>\n      <td>448550.0</td>\n      <td>LB</td>\n      <td>0.0</td>\n      <td>171940.0</td>\n      <td>Partially Processed</td>\n    </tr>\n    <tr>\n      <th>184014</th>\n      <td>1900-01-01</td>\n      <td>2020-04-24</td>\n      <td>2020-04-20</td>\n      <td>2020-04-20</td>\n      <td>2020-04-21</td>\n      <td>100311</td>\n      <td>3</td>\n      <td>100061270</td>\n      <td>100061277</td>\n      <td>C00236</td>\n      <td>SAINT JOHN</td>\n      <td>NB</td>\n      <td>106020239</td>\n      <td>C 10X15.3# GGMULTI 40'00\"</td>\n      <td>19584.0</td>\n      <td>19584.0</td>\n      <td>LB</td>\n      <td>0.0</td>\n      <td>0.0</td>\n      <td>Completely Processed</td>\n    </tr>\n    <tr>\n      <th>174306</th>\n      <td>1900-01-01</td>\n      <td>2020-01-01</td>\n      <td>2019-12-27</td>\n      <td>2019-12-27</td>\n      <td>2019-12-30</td>\n      <td>100311</td>\n      <td>3</td>\n      <td>100051178</td>\n      <td>100103819</td>\n      <td>C00764</td>\n      <td>JOLIETTE</td>\n      <td>QC</td>\n      <td>106028496</td>\n      <td>L 4X3X1/4 GGMULTI 20'00\"</td>\n      <td>12992.0</td>\n      <td>12992.0</td>\n      <td>LB</td>\n      <td>0.0</td>\n      <td>25984.0</td>\n      <td>Completely Processed</td>\n    </tr>\n    <tr>\n      <th>181304</th>\n      <td>1900-01-01</td>\n      <td>2020-03-02</td>\n      <td>2020-02-27</td>\n      <td>2020-02-27</td>\n      <td>2020-02-28</td>\n      <td>100209</td>\n      <td>2</td>\n      <td>100092177</td>\n      <td>100095403</td>\n      <td>C00970</td>\n      <td>VICTORIAVILLE</td>\n      <td>QC</td>\n      <td>110001535</td>\n      <td>RB 15M 400W 18M 00CM</td>\n      <td>1435360.0</td>\n      <td>1435360.0</td>\n      <td>LB</td>\n      <td>0.0</td>\n      <td>2758580.0</td>\n      <td>Completely Processed</td>\n    </tr>\n  </tbody>\n</table>\n</div>"
     },
     "metadata": {},
     "execution_count": 65
    }
   ],
   "source": [
    "#Most are from late 2019 - early 2020\n",
    "order_reduced[order_reduced[\"requested_date\"]=='1900-01-01'].sample(10)"
   ]
  },
  {
   "cell_type": "markdown",
   "metadata": {
    "toc-hr-collapsed": true,
    "toc-nb-collapsed": true
   },
   "source": [
    "#### Explore Units of Measure"
   ]
  },
  {
   "cell_type": "code",
   "execution_count": 66,
   "metadata": {},
   "outputs": [
    {
     "output_type": "execute_result",
     "data": {
      "text/plain": "LB     182513\nTON      6364\nST         62\nZNT        11\n            3\nName: sales_uom, dtype: int64"
     },
     "metadata": {},
     "execution_count": 66
    }
   ],
   "source": [
    "order_reduced[\"sales_uom\"].value_counts()"
   ]
  },
  {
   "cell_type": "code",
   "execution_count": 67,
   "metadata": {},
   "outputs": [
    {
     "output_type": "execute_result",
     "data": {
      "text/plain": "      requested_date confirmed_date material_avail_date  load_date  \\\n41603     2014-07-31     2014-08-04          2014-07-29 2014-07-29   \n22071     2013-11-01     2013-11-01          2013-10-29 2013-10-29   \n6152      2013-01-31     2013-01-31          2013-01-29 2013-01-29   \n\n      plan_goods_issue_date sales_district_code  division    sold_to  \\\n41603            2014-07-30                             3  100060909   \n22071            2013-10-30                             3  100073186   \n6152             2013-01-30                             2  100092467   \n\n         ship_to   route    ship_to_city ship_to_state        sku  \\\n41603  100060960  U05194         WILLMAR            MN  106028666   \n22071  100104393  U02974        MABLETON            GA  106022002   \n6152   100095997  C00895  SAINT-EUSTACHE            QC  110001535   \n\n               material_description  order_qty_sales_units  confirmed_qty  \\\n41603  L 5X3 1/2X1/2 GGMULTI 20'00\"                   5.44           5.44   \n22071      L 3X2X1/2 GGMULTI 40'00\"                   4.62           4.62   \n6152           RB 15M 400W 18M 00CM                  40.00          40.00   \n\n      sales_uom  qty_on_shipment  qty_shipped_sales_units  \\\n41603       TON              0.0                    10.88   \n22071       TON              0.0                     9.24   \n6152        TON              0.0                    78.45   \n\n                item_status  \n41603  Completely Processed  \n22071  Completely Processed  \n6152   Completely Processed  ",
      "text/html": "<div>\n<style scoped>\n    .dataframe tbody tr th:only-of-type {\n        vertical-align: middle;\n    }\n\n    .dataframe tbody tr th {\n        vertical-align: top;\n    }\n\n    .dataframe thead th {\n        text-align: right;\n    }\n</style>\n<table border=\"1\" class=\"dataframe\">\n  <thead>\n    <tr style=\"text-align: right;\">\n      <th></th>\n      <th>requested_date</th>\n      <th>confirmed_date</th>\n      <th>material_avail_date</th>\n      <th>load_date</th>\n      <th>plan_goods_issue_date</th>\n      <th>sales_district_code</th>\n      <th>division</th>\n      <th>sold_to</th>\n      <th>ship_to</th>\n      <th>route</th>\n      <th>ship_to_city</th>\n      <th>ship_to_state</th>\n      <th>sku</th>\n      <th>material_description</th>\n      <th>order_qty_sales_units</th>\n      <th>confirmed_qty</th>\n      <th>sales_uom</th>\n      <th>qty_on_shipment</th>\n      <th>qty_shipped_sales_units</th>\n      <th>item_status</th>\n    </tr>\n  </thead>\n  <tbody>\n    <tr>\n      <th>41603</th>\n      <td>2014-07-31</td>\n      <td>2014-08-04</td>\n      <td>2014-07-29</td>\n      <td>2014-07-29</td>\n      <td>2014-07-30</td>\n      <td></td>\n      <td>3</td>\n      <td>100060909</td>\n      <td>100060960</td>\n      <td>U05194</td>\n      <td>WILLMAR</td>\n      <td>MN</td>\n      <td>106028666</td>\n      <td>L 5X3 1/2X1/2 GGMULTI 20'00\"</td>\n      <td>5.44</td>\n      <td>5.44</td>\n      <td>TON</td>\n      <td>0.0</td>\n      <td>10.88</td>\n      <td>Completely Processed</td>\n    </tr>\n    <tr>\n      <th>22071</th>\n      <td>2013-11-01</td>\n      <td>2013-11-01</td>\n      <td>2013-10-29</td>\n      <td>2013-10-29</td>\n      <td>2013-10-30</td>\n      <td></td>\n      <td>3</td>\n      <td>100073186</td>\n      <td>100104393</td>\n      <td>U02974</td>\n      <td>MABLETON</td>\n      <td>GA</td>\n      <td>106022002</td>\n      <td>L 3X2X1/2 GGMULTI 40'00\"</td>\n      <td>4.62</td>\n      <td>4.62</td>\n      <td>TON</td>\n      <td>0.0</td>\n      <td>9.24</td>\n      <td>Completely Processed</td>\n    </tr>\n    <tr>\n      <th>6152</th>\n      <td>2013-01-31</td>\n      <td>2013-01-31</td>\n      <td>2013-01-29</td>\n      <td>2013-01-29</td>\n      <td>2013-01-30</td>\n      <td></td>\n      <td>2</td>\n      <td>100092467</td>\n      <td>100095997</td>\n      <td>C00895</td>\n      <td>SAINT-EUSTACHE</td>\n      <td>QC</td>\n      <td>110001535</td>\n      <td>RB 15M 400W 18M 00CM</td>\n      <td>40.00</td>\n      <td>40.00</td>\n      <td>TON</td>\n      <td>0.0</td>\n      <td>78.45</td>\n      <td>Completely Processed</td>\n    </tr>\n  </tbody>\n</table>\n</div>"
     },
     "metadata": {},
     "execution_count": 67
    }
   ],
   "source": [
    "order_reduced[order_reduced[\"sales_uom\"]==\"TON\"].sample(3)"
   ]
  },
  {
   "cell_type": "markdown",
   "metadata": {},
   "source": [
    "#### Convert LB to Tons"
   ]
  },
  {
   "cell_type": "code",
   "execution_count": 68,
   "metadata": {},
   "outputs": [],
   "source": [
    "if \"LB\" in order_reduced[\"sales_uom\"].unique():\n",
    "    order_reduced.loc[order_reduced[\"sales_uom\"] == \"LB\", \"confirmed_qty\"] = order_reduced[\"confirmed_qty\"].apply(lambda x: x / 2000)\n",
    "    order_reduced.loc[order_reduced[\"sales_uom\"] == \"LB\", \"order_qty_sales_units\"] = order_reduced[\"order_qty_sales_units\"].apply(lambda x: x / 2000)\n",
    "    order_reduced.loc[order_reduced[\"sales_uom\"] == \"LB\", \"qty_on_shipment\"] = order_reduced[\"qty_on_shipment\"].apply(lambda x: x / 2000)\n",
    "    order_reduced.loc[order_reduced[\"sales_uom\"] == \"LB\", \"qty_shipped_sales_units\"] = order_reduced[\"qty_shipped_sales_units\"].apply(lambda x: x / 2000)\n",
    "    order_reduced.loc[order_reduced[\"sales_uom\"] == \"LB\", \"sales_uom\"] = \"TON\""
   ]
  },
  {
   "cell_type": "markdown",
   "metadata": {},
   "source": [
    "#### Add Unique Size, Block, Hierarchy to Sales Data"
   ]
  },
  {
   "cell_type": "code",
   "execution_count": 69,
   "metadata": {},
   "outputs": [
    {
     "output_type": "stream",
     "name": "stdout",
     "text": "<class 'pandas.core.frame.DataFrame'>\nInt64Index: 774593 entries, 16 to 779020\nData columns (total 12 columns):\n #   Column                Non-Null Count   Dtype         \n---  ------                --------------   -----         \n 0   calendar_day          774593 non-null  datetime64[ns]\n 1   sku                   774593 non-null  object        \n 2   material_description  774593 non-null  object        \n 3   material_type         774593 non-null  object        \n 4   strategy              767339 non-null  category      \n 5   ph                    774593 non-null  object        \n 6   shape                 771786 non-null  object        \n 7   block                 769246 non-null  object        \n 8   size                  771786 non-null  object        \n 9   steel_grade           771786 non-null  object        \n 10  length_text           769268 non-null  object        \n 11  tons                  774593 non-null  float64       \ndtypes: category(1), datetime64[ns](1), float64(1), object(9)\nmemory usage: 71.7+ MB\n"
    }
   ],
   "source": [
    "inv_reduced2.info()"
   ]
  },
  {
   "cell_type": "code",
   "execution_count": 70,
   "metadata": {},
   "outputs": [],
   "source": [
    "size_dict = inv_reduced2.groupby([\"sku\",\"size\"]).sum()\n",
    "size_dict = size_dict.reset_index()\n",
    "size_dict = size_dict.drop(\"tons\", axis=1)"
   ]
  },
  {
   "cell_type": "code",
   "execution_count": 71,
   "metadata": {},
   "outputs": [],
   "source": [
    "block_dict = inv_reduced2.groupby([\"sku\",\"block\"]).sum()\n",
    "block_dict = block_dict.reset_index()\n",
    "block_dict = block_dict.drop(\"tons\", axis=1)"
   ]
  },
  {
   "cell_type": "code",
   "execution_count": 72,
   "metadata": {},
   "outputs": [],
   "source": [
    "ph_dict = inv_reduced2.groupby([\"sku\",\"ph\"]).sum()\n",
    "ph_dict = ph_dict.reset_index()\n",
    "ph_dict = ph_dict.drop(\"tons\", axis=1)"
   ]
  },
  {
   "cell_type": "code",
   "execution_count": 73,
   "metadata": {},
   "outputs": [
    {
     "output_type": "execute_result",
     "data": {
      "text/plain": "            sku       block\n88    106020352      4\" CHN\n709   106035951      4\" CHN\n1303  106302917      2\" ANG\n1644  110001613        10MM\n290   106022607  2-1/2\" ANG",
      "text/html": "<div>\n<style scoped>\n    .dataframe tbody tr th:only-of-type {\n        vertical-align: middle;\n    }\n\n    .dataframe tbody tr th {\n        vertical-align: top;\n    }\n\n    .dataframe thead th {\n        text-align: right;\n    }\n</style>\n<table border=\"1\" class=\"dataframe\">\n  <thead>\n    <tr style=\"text-align: right;\">\n      <th></th>\n      <th>sku</th>\n      <th>block</th>\n    </tr>\n  </thead>\n  <tbody>\n    <tr>\n      <th>88</th>\n      <td>106020352</td>\n      <td>4\" CHN</td>\n    </tr>\n    <tr>\n      <th>709</th>\n      <td>106035951</td>\n      <td>4\" CHN</td>\n    </tr>\n    <tr>\n      <th>1303</th>\n      <td>106302917</td>\n      <td>2\" ANG</td>\n    </tr>\n    <tr>\n      <th>1644</th>\n      <td>110001613</td>\n      <td>10MM</td>\n    </tr>\n    <tr>\n      <th>290</th>\n      <td>106022607</td>\n      <td>2-1/2\" ANG</td>\n    </tr>\n  </tbody>\n</table>\n</div>"
     },
     "metadata": {},
     "execution_count": 73
    }
   ],
   "source": [
    "block_dict.sample(5)"
   ]
  },
  {
   "cell_type": "code",
   "execution_count": 74,
   "metadata": {},
   "outputs": [],
   "source": [
    "order_reduced = order_reduced.merge(size_dict, how=\"left\", left_on=\"sku\", right_on=\"sku\")\n",
    "order_reduced = order_reduced.merge(block_dict, how=\"left\", left_on=\"sku\", right_on=\"sku\")\n",
    "order_reduced = order_reduced.merge(ph_dict, how=\"left\", left_on=\"sku\", right_on=\"sku\")"
   ]
  },
  {
   "cell_type": "code",
   "execution_count": 75,
   "metadata": {},
   "outputs": [
    {
     "output_type": "execute_result",
     "data": {
      "text/plain": "Index(['requested_date', 'confirmed_date', 'material_avail_date', 'load_date',\n       'plan_goods_issue_date', 'sales_district_code', 'division', 'sold_to',\n       'ship_to', 'route', 'ship_to_city', 'ship_to_state', 'sku',\n       'material_description', 'order_qty_sales_units', 'confirmed_qty',\n       'sales_uom', 'qty_on_shipment', 'qty_shipped_sales_units',\n       'item_status', 'size', 'block', 'ph'],\n      dtype='object')"
     },
     "metadata": {},
     "execution_count": 75
    }
   ],
   "source": [
    "order_reduced.columns"
   ]
  },
  {
   "cell_type": "code",
   "execution_count": 76,
   "metadata": {},
   "outputs": [
    {
     "output_type": "execute_result",
     "data": {
      "text/plain": "  requested_date confirmed_date material_avail_date  load_date  \\\n0     1900-01-01     1900-01-01          1900-01-01 1900-01-01   \n1     1900-01-01     1900-01-01          1900-01-01 1900-01-01   \n2     1900-01-01     1900-01-01          1900-01-01 1900-01-01   \n3     2012-07-22     2012-07-22          2013-07-19 2013-07-19   \n4     2012-10-01     2012-10-01          2012-10-26 2012-10-26   \n\n  plan_goods_issue_date sales_district_code  division    sold_to    ship_to  \\\n0            1900-01-01              100311         3  100091887  100094602   \n1            1900-01-01              100311         3  100091887  100094602   \n2            1900-01-01              100311         3  100091887  100094602   \n3            2013-07-22                             5  100061219  100061228   \n4            2012-10-29                             5  100091890  100094606   \n\n    route  ...                   material_description order_qty_sales_units  \\\n0  C00486  ...               L 2X2X3/8 GGMULTI 20'00\"                  0.00   \n1  C00486  ...               L 4X3X3/8 GGMULTI 20'00\"                  0.00   \n2  C00486  ...               L 4X4X1/4 GGMULTI 20'00\"                  0.00   \n3  C00333  ...  L 5X3 1/2X5/16 A36/44W/A529-50 40'00\"                 10.44   \n4  C00427  ...          C 3X5# A36/44W/A529-50 20'00\"                  2.40   \n\n  confirmed_qty sales_uom  qty_on_shipment  qty_shipped_sales_units  \\\n0          0.00                        NaN                      NaN   \n1          0.00                        NaN                      NaN   \n2          0.00                        NaN                      NaN   \n3         10.44       TON              0.0                    20.88   \n4          2.40       TON              0.0                     4.80   \n\n            item_status     size       block  \\\n0     Not Yet Processed  2X2X3/8      2\" ANG   \n1     Not Yet Processed  4X3X3/8  4 X 3\" ANG   \n2     Not Yet Processed  4X4X1/4      4\" ANG   \n3  Completely Processed      NaN         NaN   \n4  Completely Processed      NaN         NaN   \n\n                                     ph  \n0  LS-Mills-Mer-Mer-Lght Shp-MBQ Angles  \n1      LS-Mills-Mer-Mer-Strc A&C-Angles  \n2      LS-Mills-Mer-Mer-Strc A&C-Angles  \n3                                   NaN  \n4                                   NaN  \n\n[5 rows x 23 columns]",
      "text/html": "<div>\n<style scoped>\n    .dataframe tbody tr th:only-of-type {\n        vertical-align: middle;\n    }\n\n    .dataframe tbody tr th {\n        vertical-align: top;\n    }\n\n    .dataframe thead th {\n        text-align: right;\n    }\n</style>\n<table border=\"1\" class=\"dataframe\">\n  <thead>\n    <tr style=\"text-align: right;\">\n      <th></th>\n      <th>requested_date</th>\n      <th>confirmed_date</th>\n      <th>material_avail_date</th>\n      <th>load_date</th>\n      <th>plan_goods_issue_date</th>\n      <th>sales_district_code</th>\n      <th>division</th>\n      <th>sold_to</th>\n      <th>ship_to</th>\n      <th>route</th>\n      <th>...</th>\n      <th>material_description</th>\n      <th>order_qty_sales_units</th>\n      <th>confirmed_qty</th>\n      <th>sales_uom</th>\n      <th>qty_on_shipment</th>\n      <th>qty_shipped_sales_units</th>\n      <th>item_status</th>\n      <th>size</th>\n      <th>block</th>\n      <th>ph</th>\n    </tr>\n  </thead>\n  <tbody>\n    <tr>\n      <th>0</th>\n      <td>1900-01-01</td>\n      <td>1900-01-01</td>\n      <td>1900-01-01</td>\n      <td>1900-01-01</td>\n      <td>1900-01-01</td>\n      <td>100311</td>\n      <td>3</td>\n      <td>100091887</td>\n      <td>100094602</td>\n      <td>C00486</td>\n      <td>...</td>\n      <td>L 2X2X3/8 GGMULTI 20'00\"</td>\n      <td>0.00</td>\n      <td>0.00</td>\n      <td></td>\n      <td>NaN</td>\n      <td>NaN</td>\n      <td>Not Yet Processed</td>\n      <td>2X2X3/8</td>\n      <td>2\" ANG</td>\n      <td>LS-Mills-Mer-Mer-Lght Shp-MBQ Angles</td>\n    </tr>\n    <tr>\n      <th>1</th>\n      <td>1900-01-01</td>\n      <td>1900-01-01</td>\n      <td>1900-01-01</td>\n      <td>1900-01-01</td>\n      <td>1900-01-01</td>\n      <td>100311</td>\n      <td>3</td>\n      <td>100091887</td>\n      <td>100094602</td>\n      <td>C00486</td>\n      <td>...</td>\n      <td>L 4X3X3/8 GGMULTI 20'00\"</td>\n      <td>0.00</td>\n      <td>0.00</td>\n      <td></td>\n      <td>NaN</td>\n      <td>NaN</td>\n      <td>Not Yet Processed</td>\n      <td>4X3X3/8</td>\n      <td>4 X 3\" ANG</td>\n      <td>LS-Mills-Mer-Mer-Strc A&amp;C-Angles</td>\n    </tr>\n    <tr>\n      <th>2</th>\n      <td>1900-01-01</td>\n      <td>1900-01-01</td>\n      <td>1900-01-01</td>\n      <td>1900-01-01</td>\n      <td>1900-01-01</td>\n      <td>100311</td>\n      <td>3</td>\n      <td>100091887</td>\n      <td>100094602</td>\n      <td>C00486</td>\n      <td>...</td>\n      <td>L 4X4X1/4 GGMULTI 20'00\"</td>\n      <td>0.00</td>\n      <td>0.00</td>\n      <td></td>\n      <td>NaN</td>\n      <td>NaN</td>\n      <td>Not Yet Processed</td>\n      <td>4X4X1/4</td>\n      <td>4\" ANG</td>\n      <td>LS-Mills-Mer-Mer-Strc A&amp;C-Angles</td>\n    </tr>\n    <tr>\n      <th>3</th>\n      <td>2012-07-22</td>\n      <td>2012-07-22</td>\n      <td>2013-07-19</td>\n      <td>2013-07-19</td>\n      <td>2013-07-22</td>\n      <td></td>\n      <td>5</td>\n      <td>100061219</td>\n      <td>100061228</td>\n      <td>C00333</td>\n      <td>...</td>\n      <td>L 5X3 1/2X5/16 A36/44W/A529-50 40'00\"</td>\n      <td>10.44</td>\n      <td>10.44</td>\n      <td>TON</td>\n      <td>0.0</td>\n      <td>20.88</td>\n      <td>Completely Processed</td>\n      <td>NaN</td>\n      <td>NaN</td>\n      <td>NaN</td>\n    </tr>\n    <tr>\n      <th>4</th>\n      <td>2012-10-01</td>\n      <td>2012-10-01</td>\n      <td>2012-10-26</td>\n      <td>2012-10-26</td>\n      <td>2012-10-29</td>\n      <td></td>\n      <td>5</td>\n      <td>100091890</td>\n      <td>100094606</td>\n      <td>C00427</td>\n      <td>...</td>\n      <td>C 3X5# A36/44W/A529-50 20'00\"</td>\n      <td>2.40</td>\n      <td>2.40</td>\n      <td>TON</td>\n      <td>0.0</td>\n      <td>4.80</td>\n      <td>Completely Processed</td>\n      <td>NaN</td>\n      <td>NaN</td>\n      <td>NaN</td>\n    </tr>\n  </tbody>\n</table>\n<p>5 rows × 23 columns</p>\n</div>"
     },
     "metadata": {},
     "execution_count": 76
    }
   ],
   "source": [
    "order_reduced.head()"
   ]
  },
  {
   "cell_type": "code",
   "execution_count": 77,
   "metadata": {},
   "outputs": [
    {
     "output_type": "stream",
     "name": "stdout",
     "text": "<class 'pandas.core.frame.DataFrame'>\nInt64Index: 188983 entries, 0 to 188982\nData columns (total 23 columns):\n #   Column                   Non-Null Count   Dtype         \n---  ------                   --------------   -----         \n 0   requested_date           188983 non-null  datetime64[ns]\n 1   confirmed_date           188983 non-null  datetime64[ns]\n 2   material_avail_date      188983 non-null  datetime64[ns]\n 3   load_date                188983 non-null  datetime64[ns]\n 4   plan_goods_issue_date    188983 non-null  datetime64[ns]\n 5   sales_district_code      188983 non-null  object        \n 6   division                 188983 non-null  int64         \n 7   sold_to                  188983 non-null  int64         \n 8   ship_to                  188983 non-null  int64         \n 9   route                    188983 non-null  object        \n 10  ship_to_city             188983 non-null  object        \n 11  ship_to_state            188983 non-null  object        \n 12  sku                      188983 non-null  object        \n 13  material_description     188983 non-null  object        \n 14  order_qty_sales_units    188983 non-null  float64       \n 15  confirmed_qty            188983 non-null  float64       \n 16  sales_uom                188983 non-null  object        \n 17  qty_on_shipment          184822 non-null  float64       \n 18  qty_shipped_sales_units  184822 non-null  float64       \n 19  item_status              188983 non-null  object        \n 20  size                     169031 non-null  object        \n 21  block                    162173 non-null  object        \n 22  ph                       169243 non-null  object        \ndtypes: datetime64[ns](5), float64(4), int64(3), object(11)\nmemory usage: 34.6+ MB\n"
    }
   ],
   "source": [
    "order_reduced.info()"
   ]
  },
  {
   "cell_type": "code",
   "execution_count": 78,
   "metadata": {},
   "outputs": [
    {
     "output_type": "execute_result",
     "data": {
      "text/plain": "      requested_date confirmed_date material_avail_date  load_date  \\\n3397      2012-11-21     2012-11-28          2012-11-26 2012-11-26   \n42134     2014-09-15     2014-09-15          2014-09-15 2014-09-15   \n10141     2013-03-20     2013-04-02          2013-03-28 2013-03-28   \n8947      2013-01-31     2013-03-13          2013-02-08 2013-02-08   \n27606     2014-01-30     2014-01-30          2014-01-30 2014-01-30   \n10028     2013-03-22     2013-04-01          2013-03-27 2013-03-27   \n97        2012-10-09     2012-10-09          2012-12-03 2012-12-03   \n3814      2012-12-02     2012-12-06          2012-12-04 2012-12-04   \n35024     2014-05-23     2014-05-27          2014-05-21 2014-05-21   \n9128      2013-03-15     2013-03-15          2013-03-08 2013-03-08   \n1868      2012-11-01     2012-11-07          2012-11-01 2012-11-01   \n26036     2013-12-25     2013-12-25          2013-12-25 2013-12-25   \n18142     2013-08-08     2013-08-08          2013-08-08 2013-08-08   \n26964     2014-01-15     2014-01-15          2014-01-13 2014-01-13   \n4967      2012-12-30     2012-12-31          2012-11-26 2012-11-26   \n\n      plan_goods_issue_date sales_district_code  division    sold_to  \\\n3397             2012-11-27                             2  100051178   \n42134            2014-09-15                             3  100060551   \n10141            2013-04-01                             3  100060551   \n8947             2013-02-26                             5  100061174   \n27606            2014-01-30                             3  100091983   \n10028            2013-03-28                             3  100091983   \n97               2012-12-04                             5  100061219   \n3814             2012-12-05                             5  100091899   \n35024            2014-05-22                             3  100091998   \n9128             2013-03-11                             5  100061247   \n1868             2012-11-02                             3  100060828   \n26036            2013-12-25                             3  100051178   \n18142            2013-08-08                             3  100051178   \n26964            2014-01-14                             3  100336295   \n4967             2012-12-11                             3  100092155   \n\n         ship_to   route  ...                      material_description  \\\n3397   100114541  C00861  ...                      RB 15M 400W 12M 65CM   \n42134  100060565  999999  ...          L 4X3X1/4 A36/44W/A529-50 20'00\"   \n10141  100060567  C00722  ...  L 2 1/2X2 1/2X5/16 A36/44W/A529-50 20'00   \n8947   100061186  CR0037  ...          L 4X4X3/8 A36/44W/A529-50 20'00\"   \n27606  100336810  999999  ...  L 2 1/2X2 1/2X1/4 A36/44W/A529-50 20'00\"   \n10028  100099290  C00304  ...             C 5X9# A36/44W/A529-50 20'00\"   \n97     100061228  C00333  ...          L 5X5X5/8 A36/44W/A529-50 20'00\"   \n3814   100094637  C00786  ...           C 4X5.4# A36/44W/A529-50 40'00\"   \n35024  100094880  U04599  ...          C 6X10.5# A36/44W/A529-50 40'00\"   \n9128   100061261  C00253  ...      L 5X3 1/2X3/8 A36/44W/A529-50 20'00\"   \n1868   100060836  C00203  ...  L 2 1/2X2 1/2X3/16 A36/44W/A529-50 20'00   \n26036  100103866  999999  ...          L 4X4X3/4 A36/44W/A529-50 40'00\"   \n18142  100103866  999999  ...            F 1/2X7 A36/44W/A572-50 20'00\"   \n26964  100336295  C00871  ...          L 4X4X1/2 A36/44W/A529-50 40'00\"   \n4967   100095357  CM0159  ...  L 2 1/2X2 1/2X1/4 A36/44W/A529-50 40'00\"   \n\n      order_qty_sales_units confirmed_qty sales_uom  qty_on_shipment  \\\n3397                 35.000        35.000       TON              0.0   \n42134                 3.074         3.074       TON              0.0   \n10141                 6.300         6.300       TON              0.0   \n8947                 11.760        11.760       TON              0.0   \n27606                 3.157         3.157       TON              0.0   \n10028                 3.240         3.240       TON              0.0   \n97                    2.000         2.000       TON              0.0   \n3814                 11.664        11.664       TON              0.0   \n35024                 5.040         5.040       TON              0.0   \n9128                  6.240         6.240       TON              0.0   \n1868                  3.009         3.009       TON              0.0   \n26036                 4.810         4.810       TON              0.0   \n18142                 2.856         2.856       TON              0.0   \n26964                 5.120         5.120       TON              0.0   \n4967                  5.166         5.166       TON              0.0   \n\n       qty_shipped_sales_units           item_status  size       block  \\\n3397                    67.320  Completely Processed   NaN         NaN   \n42134                    6.148  Completely Processed   NaN         NaN   \n10141                   12.500  Completely Processed   NaN         NaN   \n8947                    23.520  Completely Processed   NaN         NaN   \n27606                    6.314  Completely Processed   NaN         NaN   \n10028                    6.480  Completely Processed   NaN         NaN   \n97                       4.000  Completely Processed   NaN         NaN   \n3814                    23.328  Completely Processed   NaN         NaN   \n35024                   10.080  Completely Processed   NaN         NaN   \n9128                    12.480  Completely Processed   NaN         NaN   \n1868                     6.018  Completely Processed   NaN  2-1/2\" ANG   \n26036                    9.620  Completely Processed   NaN         NaN   \n18142                    5.712  Completely Processed   NaN         NaN   \n26964                   10.240  Completely Processed   NaN         NaN   \n4967                    10.332  Completely Processed   NaN         NaN   \n\n                                         ph  \n3397                                    NaN  \n42134                                   NaN  \n10141                                   NaN  \n8947                                    NaN  \n27606                                   NaN  \n10028                                   NaN  \n97                                      NaN  \n3814                                    NaN  \n35024                                   NaN  \n9128                                    NaN  \n1868   LS-Mills-Mer-Mer-Lght Shp-MBQ Angles  \n26036                                   NaN  \n18142                                   NaN  \n26964                                   NaN  \n4967                                    NaN  \n\n[15 rows x 23 columns]",
      "text/html": "<div>\n<style scoped>\n    .dataframe tbody tr th:only-of-type {\n        vertical-align: middle;\n    }\n\n    .dataframe tbody tr th {\n        vertical-align: top;\n    }\n\n    .dataframe thead th {\n        text-align: right;\n    }\n</style>\n<table border=\"1\" class=\"dataframe\">\n  <thead>\n    <tr style=\"text-align: right;\">\n      <th></th>\n      <th>requested_date</th>\n      <th>confirmed_date</th>\n      <th>material_avail_date</th>\n      <th>load_date</th>\n      <th>plan_goods_issue_date</th>\n      <th>sales_district_code</th>\n      <th>division</th>\n      <th>sold_to</th>\n      <th>ship_to</th>\n      <th>route</th>\n      <th>...</th>\n      <th>material_description</th>\n      <th>order_qty_sales_units</th>\n      <th>confirmed_qty</th>\n      <th>sales_uom</th>\n      <th>qty_on_shipment</th>\n      <th>qty_shipped_sales_units</th>\n      <th>item_status</th>\n      <th>size</th>\n      <th>block</th>\n      <th>ph</th>\n    </tr>\n  </thead>\n  <tbody>\n    <tr>\n      <th>3397</th>\n      <td>2012-11-21</td>\n      <td>2012-11-28</td>\n      <td>2012-11-26</td>\n      <td>2012-11-26</td>\n      <td>2012-11-27</td>\n      <td></td>\n      <td>2</td>\n      <td>100051178</td>\n      <td>100114541</td>\n      <td>C00861</td>\n      <td>...</td>\n      <td>RB 15M 400W 12M 65CM</td>\n      <td>35.000</td>\n      <td>35.000</td>\n      <td>TON</td>\n      <td>0.0</td>\n      <td>67.320</td>\n      <td>Completely Processed</td>\n      <td>NaN</td>\n      <td>NaN</td>\n      <td>NaN</td>\n    </tr>\n    <tr>\n      <th>42134</th>\n      <td>2014-09-15</td>\n      <td>2014-09-15</td>\n      <td>2014-09-15</td>\n      <td>2014-09-15</td>\n      <td>2014-09-15</td>\n      <td></td>\n      <td>3</td>\n      <td>100060551</td>\n      <td>100060565</td>\n      <td>999999</td>\n      <td>...</td>\n      <td>L 4X3X1/4 A36/44W/A529-50 20'00\"</td>\n      <td>3.074</td>\n      <td>3.074</td>\n      <td>TON</td>\n      <td>0.0</td>\n      <td>6.148</td>\n      <td>Completely Processed</td>\n      <td>NaN</td>\n      <td>NaN</td>\n      <td>NaN</td>\n    </tr>\n    <tr>\n      <th>10141</th>\n      <td>2013-03-20</td>\n      <td>2013-04-02</td>\n      <td>2013-03-28</td>\n      <td>2013-03-28</td>\n      <td>2013-04-01</td>\n      <td></td>\n      <td>3</td>\n      <td>100060551</td>\n      <td>100060567</td>\n      <td>C00722</td>\n      <td>...</td>\n      <td>L 2 1/2X2 1/2X5/16 A36/44W/A529-50 20'00</td>\n      <td>6.300</td>\n      <td>6.300</td>\n      <td>TON</td>\n      <td>0.0</td>\n      <td>12.500</td>\n      <td>Completely Processed</td>\n      <td>NaN</td>\n      <td>NaN</td>\n      <td>NaN</td>\n    </tr>\n    <tr>\n      <th>8947</th>\n      <td>2013-01-31</td>\n      <td>2013-03-13</td>\n      <td>2013-02-08</td>\n      <td>2013-02-08</td>\n      <td>2013-02-26</td>\n      <td></td>\n      <td>5</td>\n      <td>100061174</td>\n      <td>100061186</td>\n      <td>CR0037</td>\n      <td>...</td>\n      <td>L 4X4X3/8 A36/44W/A529-50 20'00\"</td>\n      <td>11.760</td>\n      <td>11.760</td>\n      <td>TON</td>\n      <td>0.0</td>\n      <td>23.520</td>\n      <td>Completely Processed</td>\n      <td>NaN</td>\n      <td>NaN</td>\n      <td>NaN</td>\n    </tr>\n    <tr>\n      <th>27606</th>\n      <td>2014-01-30</td>\n      <td>2014-01-30</td>\n      <td>2014-01-30</td>\n      <td>2014-01-30</td>\n      <td>2014-01-30</td>\n      <td></td>\n      <td>3</td>\n      <td>100091983</td>\n      <td>100336810</td>\n      <td>999999</td>\n      <td>...</td>\n      <td>L 2 1/2X2 1/2X1/4 A36/44W/A529-50 20'00\"</td>\n      <td>3.157</td>\n      <td>3.157</td>\n      <td>TON</td>\n      <td>0.0</td>\n      <td>6.314</td>\n      <td>Completely Processed</td>\n      <td>NaN</td>\n      <td>NaN</td>\n      <td>NaN</td>\n    </tr>\n    <tr>\n      <th>10028</th>\n      <td>2013-03-22</td>\n      <td>2013-04-01</td>\n      <td>2013-03-27</td>\n      <td>2013-03-27</td>\n      <td>2013-03-28</td>\n      <td></td>\n      <td>3</td>\n      <td>100091983</td>\n      <td>100099290</td>\n      <td>C00304</td>\n      <td>...</td>\n      <td>C 5X9# A36/44W/A529-50 20'00\"</td>\n      <td>3.240</td>\n      <td>3.240</td>\n      <td>TON</td>\n      <td>0.0</td>\n      <td>6.480</td>\n      <td>Completely Processed</td>\n      <td>NaN</td>\n      <td>NaN</td>\n      <td>NaN</td>\n    </tr>\n    <tr>\n      <th>97</th>\n      <td>2012-10-09</td>\n      <td>2012-10-09</td>\n      <td>2012-12-03</td>\n      <td>2012-12-03</td>\n      <td>2012-12-04</td>\n      <td></td>\n      <td>5</td>\n      <td>100061219</td>\n      <td>100061228</td>\n      <td>C00333</td>\n      <td>...</td>\n      <td>L 5X5X5/8 A36/44W/A529-50 20'00\"</td>\n      <td>2.000</td>\n      <td>2.000</td>\n      <td>TON</td>\n      <td>0.0</td>\n      <td>4.000</td>\n      <td>Completely Processed</td>\n      <td>NaN</td>\n      <td>NaN</td>\n      <td>NaN</td>\n    </tr>\n    <tr>\n      <th>3814</th>\n      <td>2012-12-02</td>\n      <td>2012-12-06</td>\n      <td>2012-12-04</td>\n      <td>2012-12-04</td>\n      <td>2012-12-05</td>\n      <td></td>\n      <td>5</td>\n      <td>100091899</td>\n      <td>100094637</td>\n      <td>C00786</td>\n      <td>...</td>\n      <td>C 4X5.4# A36/44W/A529-50 40'00\"</td>\n      <td>11.664</td>\n      <td>11.664</td>\n      <td>TON</td>\n      <td>0.0</td>\n      <td>23.328</td>\n      <td>Completely Processed</td>\n      <td>NaN</td>\n      <td>NaN</td>\n      <td>NaN</td>\n    </tr>\n    <tr>\n      <th>35024</th>\n      <td>2014-05-23</td>\n      <td>2014-05-27</td>\n      <td>2014-05-21</td>\n      <td>2014-05-21</td>\n      <td>2014-05-22</td>\n      <td></td>\n      <td>3</td>\n      <td>100091998</td>\n      <td>100094880</td>\n      <td>U04599</td>\n      <td>...</td>\n      <td>C 6X10.5# A36/44W/A529-50 40'00\"</td>\n      <td>5.040</td>\n      <td>5.040</td>\n      <td>TON</td>\n      <td>0.0</td>\n      <td>10.080</td>\n      <td>Completely Processed</td>\n      <td>NaN</td>\n      <td>NaN</td>\n      <td>NaN</td>\n    </tr>\n    <tr>\n      <th>9128</th>\n      <td>2013-03-15</td>\n      <td>2013-03-15</td>\n      <td>2013-03-08</td>\n      <td>2013-03-08</td>\n      <td>2013-03-11</td>\n      <td></td>\n      <td>5</td>\n      <td>100061247</td>\n      <td>100061261</td>\n      <td>C00253</td>\n      <td>...</td>\n      <td>L 5X3 1/2X3/8 A36/44W/A529-50 20'00\"</td>\n      <td>6.240</td>\n      <td>6.240</td>\n      <td>TON</td>\n      <td>0.0</td>\n      <td>12.480</td>\n      <td>Completely Processed</td>\n      <td>NaN</td>\n      <td>NaN</td>\n      <td>NaN</td>\n    </tr>\n    <tr>\n      <th>1868</th>\n      <td>2012-11-01</td>\n      <td>2012-11-07</td>\n      <td>2012-11-01</td>\n      <td>2012-11-01</td>\n      <td>2012-11-02</td>\n      <td></td>\n      <td>3</td>\n      <td>100060828</td>\n      <td>100060836</td>\n      <td>C00203</td>\n      <td>...</td>\n      <td>L 2 1/2X2 1/2X3/16 A36/44W/A529-50 20'00</td>\n      <td>3.009</td>\n      <td>3.009</td>\n      <td>TON</td>\n      <td>0.0</td>\n      <td>6.018</td>\n      <td>Completely Processed</td>\n      <td>NaN</td>\n      <td>2-1/2\" ANG</td>\n      <td>LS-Mills-Mer-Mer-Lght Shp-MBQ Angles</td>\n    </tr>\n    <tr>\n      <th>26036</th>\n      <td>2013-12-25</td>\n      <td>2013-12-25</td>\n      <td>2013-12-25</td>\n      <td>2013-12-25</td>\n      <td>2013-12-25</td>\n      <td></td>\n      <td>3</td>\n      <td>100051178</td>\n      <td>100103866</td>\n      <td>999999</td>\n      <td>...</td>\n      <td>L 4X4X3/4 A36/44W/A529-50 40'00\"</td>\n      <td>4.810</td>\n      <td>4.810</td>\n      <td>TON</td>\n      <td>0.0</td>\n      <td>9.620</td>\n      <td>Completely Processed</td>\n      <td>NaN</td>\n      <td>NaN</td>\n      <td>NaN</td>\n    </tr>\n    <tr>\n      <th>18142</th>\n      <td>2013-08-08</td>\n      <td>2013-08-08</td>\n      <td>2013-08-08</td>\n      <td>2013-08-08</td>\n      <td>2013-08-08</td>\n      <td></td>\n      <td>3</td>\n      <td>100051178</td>\n      <td>100103866</td>\n      <td>999999</td>\n      <td>...</td>\n      <td>F 1/2X7 A36/44W/A572-50 20'00\"</td>\n      <td>2.856</td>\n      <td>2.856</td>\n      <td>TON</td>\n      <td>0.0</td>\n      <td>5.712</td>\n      <td>Completely Processed</td>\n      <td>NaN</td>\n      <td>NaN</td>\n      <td>NaN</td>\n    </tr>\n    <tr>\n      <th>26964</th>\n      <td>2014-01-15</td>\n      <td>2014-01-15</td>\n      <td>2014-01-13</td>\n      <td>2014-01-13</td>\n      <td>2014-01-14</td>\n      <td></td>\n      <td>3</td>\n      <td>100336295</td>\n      <td>100336295</td>\n      <td>C00871</td>\n      <td>...</td>\n      <td>L 4X4X1/2 A36/44W/A529-50 40'00\"</td>\n      <td>5.120</td>\n      <td>5.120</td>\n      <td>TON</td>\n      <td>0.0</td>\n      <td>10.240</td>\n      <td>Completely Processed</td>\n      <td>NaN</td>\n      <td>NaN</td>\n      <td>NaN</td>\n    </tr>\n    <tr>\n      <th>4967</th>\n      <td>2012-12-30</td>\n      <td>2012-12-31</td>\n      <td>2012-11-26</td>\n      <td>2012-11-26</td>\n      <td>2012-12-11</td>\n      <td></td>\n      <td>3</td>\n      <td>100092155</td>\n      <td>100095357</td>\n      <td>CM0159</td>\n      <td>...</td>\n      <td>L 2 1/2X2 1/2X1/4 A36/44W/A529-50 40'00\"</td>\n      <td>5.166</td>\n      <td>5.166</td>\n      <td>TON</td>\n      <td>0.0</td>\n      <td>10.332</td>\n      <td>Completely Processed</td>\n      <td>NaN</td>\n      <td>NaN</td>\n      <td>NaN</td>\n    </tr>\n  </tbody>\n</table>\n<p>15 rows × 23 columns</p>\n</div>"
     },
     "metadata": {},
     "execution_count": 78
    }
   ],
   "source": [
    "order_reduced[order_reduced[\"size\"].isna()].sample(15)"
   ]
  },
  {
   "cell_type": "markdown",
   "metadata": {
    "toc-hr-collapsed": true,
    "toc-nb-collapsed": true
   },
   "source": [
    "# Saving Reduced Datasets"
   ]
  },
  {
   "cell_type": "code",
   "execution_count": 79,
   "metadata": {},
   "outputs": [],
   "source": [
    "data_reduced = [ship_reduced, inv_reduced, atp_reduced, prod_reduced, order_reduced, inv_reduced2]"
   ]
  },
  {
   "cell_type": "code",
   "execution_count": 80,
   "metadata": {},
   "outputs": [
    {
     "output_type": "stream",
     "name": "stdout",
     "text": "Stored 'prod_reduced' (DataFrame)\nStored 'ship_reduced' (DataFrame)\nStored 'inv_reduced' (DataFrame)\nStored 'atp_reduced' (DataFrame)\nStored 'order_reduced' (DataFrame)\nStored 'inv_reduced2' (DataFrame)\n"
    }
   ],
   "source": [
    "#storing cleaned Prod\n",
    "%store prod_reduced\n",
    "\n",
    "#storing cleaned Ship\n",
    "%store ship_reduced\n",
    "\n",
    "#storing cleaned Inventory\n",
    "%store inv_reduced\n",
    "\n",
    "#storing cleaned ATP\n",
    "%store atp_reduced\n",
    "\n",
    "#storing orders\n",
    "%store order_reduced\n",
    "\n",
    "#storing new(2016) inventory\n",
    "%store inv_reduced2"
   ]
  },
  {
   "cell_type": "markdown",
   "metadata": {},
   "source": [
    "# Single Merged Dataframe "
   ]
  },
  {
   "cell_type": "markdown",
   "metadata": {},
   "source": [
    "## Create Master Table: [Date, Sku], Size, Block, Shape, PH"
   ]
  },
  {
   "cell_type": "code",
   "execution_count": 81,
   "metadata": {},
   "outputs": [
    {
     "output_type": "execute_result",
     "data": {
      "text/plain": "       calendar_day        sku\n0        2016-01-03  106019137\n1        2016-01-03  106019140\n2        2016-01-03  106019186\n3        2016-01-03  106019248\n4        2016-01-03  106019507\n...             ...        ...\n774588   2020-03-24  106029590\n774589   2020-03-24  106029602\n774590   2020-03-24  106029604\n774591   2020-03-24  106029606\n774592   2020-03-24  106029610\n\n[774593 rows x 2 columns]",
      "text/html": "<div>\n<style scoped>\n    .dataframe tbody tr th:only-of-type {\n        vertical-align: middle;\n    }\n\n    .dataframe tbody tr th {\n        vertical-align: top;\n    }\n\n    .dataframe thead th {\n        text-align: right;\n    }\n</style>\n<table border=\"1\" class=\"dataframe\">\n  <thead>\n    <tr style=\"text-align: right;\">\n      <th></th>\n      <th>calendar_day</th>\n      <th>sku</th>\n    </tr>\n  </thead>\n  <tbody>\n    <tr>\n      <th>0</th>\n      <td>2016-01-03</td>\n      <td>106019137</td>\n    </tr>\n    <tr>\n      <th>1</th>\n      <td>2016-01-03</td>\n      <td>106019140</td>\n    </tr>\n    <tr>\n      <th>2</th>\n      <td>2016-01-03</td>\n      <td>106019186</td>\n    </tr>\n    <tr>\n      <th>3</th>\n      <td>2016-01-03</td>\n      <td>106019248</td>\n    </tr>\n    <tr>\n      <th>4</th>\n      <td>2016-01-03</td>\n      <td>106019507</td>\n    </tr>\n    <tr>\n      <th>...</th>\n      <td>...</td>\n      <td>...</td>\n    </tr>\n    <tr>\n      <th>774588</th>\n      <td>2020-03-24</td>\n      <td>106029590</td>\n    </tr>\n    <tr>\n      <th>774589</th>\n      <td>2020-03-24</td>\n      <td>106029602</td>\n    </tr>\n    <tr>\n      <th>774590</th>\n      <td>2020-03-24</td>\n      <td>106029604</td>\n    </tr>\n    <tr>\n      <th>774591</th>\n      <td>2020-03-24</td>\n      <td>106029606</td>\n    </tr>\n    <tr>\n      <th>774592</th>\n      <td>2020-03-24</td>\n      <td>106029610</td>\n    </tr>\n  </tbody>\n</table>\n<p>774593 rows × 2 columns</p>\n</div>"
     },
     "metadata": {},
     "execution_count": 81
    }
   ],
   "source": [
    "inv_ind = inv_reduced2.groupby([\"calendar_day\",\"sku\"]).sum()\n",
    "inv_ind = inv_ind.reset_index()\n",
    "inv_ind = inv_ind.drop(\"tons\",axis=1)\n",
    "inv_ind"
   ]
  },
  {
   "cell_type": "code",
   "execution_count": 82,
   "metadata": {},
   "outputs": [
    {
     "output_type": "execute_result",
     "data": {
      "text/plain": "       calendar_day        sku\n0        1900-01-01  106028705\n1        1900-01-01  106028755\n2        1900-01-01  106029006\n3        2012-07-22  106022700\n4        2012-10-01  106020353\n...             ...        ...\n127180   2020-11-10  109004177\n127181   2020-11-10  109005409\n127182   2020-12-15  106021760\n127183   2020-12-15  109005461\n127184   2020-12-18  106027221\n\n[127185 rows x 2 columns]",
      "text/html": "<div>\n<style scoped>\n    .dataframe tbody tr th:only-of-type {\n        vertical-align: middle;\n    }\n\n    .dataframe tbody tr th {\n        vertical-align: top;\n    }\n\n    .dataframe thead th {\n        text-align: right;\n    }\n</style>\n<table border=\"1\" class=\"dataframe\">\n  <thead>\n    <tr style=\"text-align: right;\">\n      <th></th>\n      <th>calendar_day</th>\n      <th>sku</th>\n    </tr>\n  </thead>\n  <tbody>\n    <tr>\n      <th>0</th>\n      <td>1900-01-01</td>\n      <td>106028705</td>\n    </tr>\n    <tr>\n      <th>1</th>\n      <td>1900-01-01</td>\n      <td>106028755</td>\n    </tr>\n    <tr>\n      <th>2</th>\n      <td>1900-01-01</td>\n      <td>106029006</td>\n    </tr>\n    <tr>\n      <th>3</th>\n      <td>2012-07-22</td>\n      <td>106022700</td>\n    </tr>\n    <tr>\n      <th>4</th>\n      <td>2012-10-01</td>\n      <td>106020353</td>\n    </tr>\n    <tr>\n      <th>...</th>\n      <td>...</td>\n      <td>...</td>\n    </tr>\n    <tr>\n      <th>127180</th>\n      <td>2020-11-10</td>\n      <td>109004177</td>\n    </tr>\n    <tr>\n      <th>127181</th>\n      <td>2020-11-10</td>\n      <td>109005409</td>\n    </tr>\n    <tr>\n      <th>127182</th>\n      <td>2020-12-15</td>\n      <td>106021760</td>\n    </tr>\n    <tr>\n      <th>127183</th>\n      <td>2020-12-15</td>\n      <td>109005461</td>\n    </tr>\n    <tr>\n      <th>127184</th>\n      <td>2020-12-18</td>\n      <td>106027221</td>\n    </tr>\n  </tbody>\n</table>\n<p>127185 rows × 2 columns</p>\n</div>"
     },
     "metadata": {},
     "execution_count": 82
    }
   ],
   "source": [
    "order_ind = order_reduced.groupby([\"confirmed_date\",\"sku\"]).sum()\n",
    "order_ind = order_ind.reset_index()\n",
    "order_ind = order_ind.drop([\"sold_to\",\"ship_to\",\"division\",\"order_qty_sales_units\",\n",
    "                            \"confirmed_qty\",\"qty_on_shipment\",\"qty_shipped_sales_units\"], axis=1)\n",
    "order_ind = order_ind.rename(columns={\"confirmed_date\":\"calendar_day\"}) \n",
    "order_ind"
   ]
  },
  {
   "cell_type": "code",
   "execution_count": 83,
   "metadata": {},
   "outputs": [
    {
     "output_type": "execute_result",
     "data": {
      "text/plain": "       calendar_day        sku\n0        2015-01-02  106021714\n1        2015-01-02  106023056\n2        2015-01-02  106023082\n3        2015-01-02  106029532\n4        2015-01-02  106029546\n...             ...        ...\n107715   2020-02-21  110001504\n107716   2020-02-21  110001529\n107717   2020-02-21  110001535\n107718   2020-02-21  110001774\n107719   2020-02-21  110001842\n\n[107720 rows x 2 columns]",
      "text/html": "<div>\n<style scoped>\n    .dataframe tbody tr th:only-of-type {\n        vertical-align: middle;\n    }\n\n    .dataframe tbody tr th {\n        vertical-align: top;\n    }\n\n    .dataframe thead th {\n        text-align: right;\n    }\n</style>\n<table border=\"1\" class=\"dataframe\">\n  <thead>\n    <tr style=\"text-align: right;\">\n      <th></th>\n      <th>calendar_day</th>\n      <th>sku</th>\n    </tr>\n  </thead>\n  <tbody>\n    <tr>\n      <th>0</th>\n      <td>2015-01-02</td>\n      <td>106021714</td>\n    </tr>\n    <tr>\n      <th>1</th>\n      <td>2015-01-02</td>\n      <td>106023056</td>\n    </tr>\n    <tr>\n      <th>2</th>\n      <td>2015-01-02</td>\n      <td>106023082</td>\n    </tr>\n    <tr>\n      <th>3</th>\n      <td>2015-01-02</td>\n      <td>106029532</td>\n    </tr>\n    <tr>\n      <th>4</th>\n      <td>2015-01-02</td>\n      <td>106029546</td>\n    </tr>\n    <tr>\n      <th>...</th>\n      <td>...</td>\n      <td>...</td>\n    </tr>\n    <tr>\n      <th>107715</th>\n      <td>2020-02-21</td>\n      <td>110001504</td>\n    </tr>\n    <tr>\n      <th>107716</th>\n      <td>2020-02-21</td>\n      <td>110001529</td>\n    </tr>\n    <tr>\n      <th>107717</th>\n      <td>2020-02-21</td>\n      <td>110001535</td>\n    </tr>\n    <tr>\n      <th>107718</th>\n      <td>2020-02-21</td>\n      <td>110001774</td>\n    </tr>\n    <tr>\n      <th>107719</th>\n      <td>2020-02-21</td>\n      <td>110001842</td>\n    </tr>\n  </tbody>\n</table>\n<p>107720 rows × 2 columns</p>\n</div>"
     },
     "metadata": {},
     "execution_count": 83
    }
   ],
   "source": [
    "ship_ind = ship_reduced.groupby([\"shipping_day\",\"sku\"]).sum()\n",
    "ship_ind = ship_ind.reset_index()\n",
    "ship_ind = ship_ind.drop([\"shipment_tons\"], axis=1)\n",
    "ship_ind = ship_ind.rename(columns ={\"shipping_day\":\"calendar_day\"})\n",
    "ship_ind"
   ]
  },
  {
   "cell_type": "code",
   "execution_count": 84,
   "metadata": {},
   "outputs": [
    {
     "output_type": "execute_result",
     "data": {
      "text/plain": "      calendar_day        sku\n0       2013-02-04  106023265\n1       2013-02-04  110001535\n2       2013-02-05  106022739\n3       2013-02-05  106022740\n4       2013-02-05  106022806\n...            ...        ...\n14712   2019-12-30  106029479\n14713   2019-12-30  106029521\n14714   2019-12-30  106029546\n14715   2019-12-30  106301220\n14716   2019-12-30  106303473\n\n[14717 rows x 2 columns]",
      "text/html": "<div>\n<style scoped>\n    .dataframe tbody tr th:only-of-type {\n        vertical-align: middle;\n    }\n\n    .dataframe tbody tr th {\n        vertical-align: top;\n    }\n\n    .dataframe thead th {\n        text-align: right;\n    }\n</style>\n<table border=\"1\" class=\"dataframe\">\n  <thead>\n    <tr style=\"text-align: right;\">\n      <th></th>\n      <th>calendar_day</th>\n      <th>sku</th>\n    </tr>\n  </thead>\n  <tbody>\n    <tr>\n      <th>0</th>\n      <td>2013-02-04</td>\n      <td>106023265</td>\n    </tr>\n    <tr>\n      <th>1</th>\n      <td>2013-02-04</td>\n      <td>110001535</td>\n    </tr>\n    <tr>\n      <th>2</th>\n      <td>2013-02-05</td>\n      <td>106022739</td>\n    </tr>\n    <tr>\n      <th>3</th>\n      <td>2013-02-05</td>\n      <td>106022740</td>\n    </tr>\n    <tr>\n      <th>4</th>\n      <td>2013-02-05</td>\n      <td>106022806</td>\n    </tr>\n    <tr>\n      <th>...</th>\n      <td>...</td>\n      <td>...</td>\n    </tr>\n    <tr>\n      <th>14712</th>\n      <td>2019-12-30</td>\n      <td>106029479</td>\n    </tr>\n    <tr>\n      <th>14713</th>\n      <td>2019-12-30</td>\n      <td>106029521</td>\n    </tr>\n    <tr>\n      <th>14714</th>\n      <td>2019-12-30</td>\n      <td>106029546</td>\n    </tr>\n    <tr>\n      <th>14715</th>\n      <td>2019-12-30</td>\n      <td>106301220</td>\n    </tr>\n    <tr>\n      <th>14716</th>\n      <td>2019-12-30</td>\n      <td>106303473</td>\n    </tr>\n  </tbody>\n</table>\n<p>14717 rows × 2 columns</p>\n</div>"
     },
     "metadata": {},
     "execution_count": 84
    }
   ],
   "source": [
    "prod_ind = prod_reduced.groupby([\"calendar_day\",\"sku\"]).sum()\n",
    "prod_ind = prod_ind.reset_index()\n",
    "prod_ind = prod_ind.drop(\"ton\", axis=1)\n",
    "prod_ind"
   ]
  },
  {
   "cell_type": "code",
   "execution_count": 85,
   "metadata": {},
   "outputs": [
    {
     "output_type": "execute_result",
     "data": {
      "text/plain": "       calendar_day        sku\n0        1900-01-01  106028705\n1        1900-01-01  106028755\n2        1900-01-01  106029006\n3        2012-07-22  106022700\n4        2012-10-01  106020353\n...             ...        ...\n127180   2020-11-10  109004177\n127181   2020-11-10  109005409\n127182   2020-12-15  106021760\n127183   2020-12-15  109005461\n127184   2020-12-18  106027221\n\n[880348 rows x 2 columns]",
      "text/html": "<div>\n<style scoped>\n    .dataframe tbody tr th:only-of-type {\n        vertical-align: middle;\n    }\n\n    .dataframe tbody tr th {\n        vertical-align: top;\n    }\n\n    .dataframe thead th {\n        text-align: right;\n    }\n</style>\n<table border=\"1\" class=\"dataframe\">\n  <thead>\n    <tr style=\"text-align: right;\">\n      <th></th>\n      <th>calendar_day</th>\n      <th>sku</th>\n    </tr>\n  </thead>\n  <tbody>\n    <tr>\n      <th>0</th>\n      <td>1900-01-01</td>\n      <td>106028705</td>\n    </tr>\n    <tr>\n      <th>1</th>\n      <td>1900-01-01</td>\n      <td>106028755</td>\n    </tr>\n    <tr>\n      <th>2</th>\n      <td>1900-01-01</td>\n      <td>106029006</td>\n    </tr>\n    <tr>\n      <th>3</th>\n      <td>2012-07-22</td>\n      <td>106022700</td>\n    </tr>\n    <tr>\n      <th>4</th>\n      <td>2012-10-01</td>\n      <td>106020353</td>\n    </tr>\n    <tr>\n      <th>...</th>\n      <td>...</td>\n      <td>...</td>\n    </tr>\n    <tr>\n      <th>127180</th>\n      <td>2020-11-10</td>\n      <td>109004177</td>\n    </tr>\n    <tr>\n      <th>127181</th>\n      <td>2020-11-10</td>\n      <td>109005409</td>\n    </tr>\n    <tr>\n      <th>127182</th>\n      <td>2020-12-15</td>\n      <td>106021760</td>\n    </tr>\n    <tr>\n      <th>127183</th>\n      <td>2020-12-15</td>\n      <td>109005461</td>\n    </tr>\n    <tr>\n      <th>127184</th>\n      <td>2020-12-18</td>\n      <td>106027221</td>\n    </tr>\n  </tbody>\n</table>\n<p>880348 rows × 2 columns</p>\n</div>"
     },
     "metadata": {},
     "execution_count": 85
    }
   ],
   "source": [
    "master_index = pd.concat([inv_ind,order_ind,ship_ind,prod_ind],axis=0)\n",
    "master_index = master_index.drop_duplicates()\n",
    "master_index.sort_values([\"calendar_day\",\"sku\"])"
   ]
  },
  {
   "cell_type": "code",
   "execution_count": 86,
   "metadata": {},
   "outputs": [
    {
     "output_type": "execute_result",
     "data": {
      "text/plain": "1744"
     },
     "metadata": {},
     "execution_count": 86
    }
   ],
   "source": [
    "size_dict[\"sku\"].size"
   ]
  },
  {
   "cell_type": "code",
   "execution_count": 87,
   "metadata": {},
   "outputs": [],
   "source": [
    "master = master_index.merge(size_dict,how=\"left\", on=\"sku\", validate=\"m:1\")"
   ]
  },
  {
   "cell_type": "code",
   "execution_count": 88,
   "metadata": {},
   "outputs": [],
   "source": [
    "master = master.merge(block_dict,how=\"left\", on=\"sku\", validate=\"m:1\")"
   ]
  },
  {
   "cell_type": "code",
   "execution_count": 89,
   "metadata": {},
   "outputs": [
    {
     "output_type": "execute_result",
     "data": {
      "text/plain": "False    880348\ndtype: int64"
     },
     "metadata": {},
     "execution_count": 89
    }
   ],
   "source": [
    "master.duplicated([\"calendar_day\",\"sku\"]).value_counts()"
   ]
  },
  {
   "cell_type": "code",
   "execution_count": 90,
   "metadata": {},
   "outputs": [
    {
     "output_type": "execute_result",
     "data": {
      "text/plain": "            sku                                      ph\n222   106022047        LS-Mills-Mer-Mer-Strc A&C-Angles\n357   106023171        LS-Mills-Mer-Mer-Strc A&C-Angles\n815   106042295        LS-Mills-Mer-Mer-Strc A&C-Angles\n875   106043976  LS-Mills-Mer-Mer-Lght Shp-MBQ Channels\n909   106044969      LS-Mills-Mer-Mer-Strc A&C-Channels\n912   106044972      LS-Mills-Mer-Mer-Strc A&C-Channels\n948   106045376      LS-Mills-Mer-Mer-Strc A&C-Channels\n1014  106250717      LS-Mills-Mer-Mer-Strc A&C-Channels\n1016  106250720      LS-Mills-Mer-Mer-Strc A&C-Channels\n1043  106251081      LS-Mills-Mer-Mer-Strc A&C-Channels\n1045  106251084      LS-Mills-Mer-Mer-Strc A&C-Channels\n1047  106251086      LS-Mills-Mer-Mer-Strc A&C-Channels",
      "text/html": "<div>\n<style scoped>\n    .dataframe tbody tr th:only-of-type {\n        vertical-align: middle;\n    }\n\n    .dataframe tbody tr th {\n        vertical-align: top;\n    }\n\n    .dataframe thead th {\n        text-align: right;\n    }\n</style>\n<table border=\"1\" class=\"dataframe\">\n  <thead>\n    <tr style=\"text-align: right;\">\n      <th></th>\n      <th>sku</th>\n      <th>ph</th>\n    </tr>\n  </thead>\n  <tbody>\n    <tr>\n      <th>222</th>\n      <td>106022047</td>\n      <td>LS-Mills-Mer-Mer-Strc A&amp;C-Angles</td>\n    </tr>\n    <tr>\n      <th>357</th>\n      <td>106023171</td>\n      <td>LS-Mills-Mer-Mer-Strc A&amp;C-Angles</td>\n    </tr>\n    <tr>\n      <th>815</th>\n      <td>106042295</td>\n      <td>LS-Mills-Mer-Mer-Strc A&amp;C-Angles</td>\n    </tr>\n    <tr>\n      <th>875</th>\n      <td>106043976</td>\n      <td>LS-Mills-Mer-Mer-Lght Shp-MBQ Channels</td>\n    </tr>\n    <tr>\n      <th>909</th>\n      <td>106044969</td>\n      <td>LS-Mills-Mer-Mer-Strc A&amp;C-Channels</td>\n    </tr>\n    <tr>\n      <th>912</th>\n      <td>106044972</td>\n      <td>LS-Mills-Mer-Mer-Strc A&amp;C-Channels</td>\n    </tr>\n    <tr>\n      <th>948</th>\n      <td>106045376</td>\n      <td>LS-Mills-Mer-Mer-Strc A&amp;C-Channels</td>\n    </tr>\n    <tr>\n      <th>1014</th>\n      <td>106250717</td>\n      <td>LS-Mills-Mer-Mer-Strc A&amp;C-Channels</td>\n    </tr>\n    <tr>\n      <th>1016</th>\n      <td>106250720</td>\n      <td>LS-Mills-Mer-Mer-Strc A&amp;C-Channels</td>\n    </tr>\n    <tr>\n      <th>1043</th>\n      <td>106251081</td>\n      <td>LS-Mills-Mer-Mer-Strc A&amp;C-Channels</td>\n    </tr>\n    <tr>\n      <th>1045</th>\n      <td>106251084</td>\n      <td>LS-Mills-Mer-Mer-Strc A&amp;C-Channels</td>\n    </tr>\n    <tr>\n      <th>1047</th>\n      <td>106251086</td>\n      <td>LS-Mills-Mer-Mer-Strc A&amp;C-Channels</td>\n    </tr>\n  </tbody>\n</table>\n</div>"
     },
     "metadata": {},
     "execution_count": 90
    }
   ],
   "source": [
    "ph_dict[ph_dict.duplicated(\"sku\")]"
   ]
  },
  {
   "cell_type": "code",
   "execution_count": 91,
   "metadata": {},
   "outputs": [
    {
     "output_type": "execute_result",
     "data": {
      "text/plain": "(1759, 2)"
     },
     "metadata": {},
     "execution_count": 91
    }
   ],
   "source": [
    "ph_dict.shape"
   ]
  },
  {
   "cell_type": "code",
   "execution_count": 92,
   "metadata": {},
   "outputs": [],
   "source": [
    "ph_dict = ph_dict.drop_duplicates(\"sku\", keep=\"first\")"
   ]
  },
  {
   "cell_type": "code",
   "execution_count": 93,
   "metadata": {},
   "outputs": [],
   "source": [
    "master = master.merge(ph_dict,how=\"left\", on=\"sku\", validate=\"m:1\")"
   ]
  },
  {
   "cell_type": "code",
   "execution_count": 94,
   "metadata": {},
   "outputs": [
    {
     "output_type": "stream",
     "name": "stdout",
     "text": "<class 'pandas.core.frame.DataFrame'>\nInt64Index: 880348 entries, 0 to 880347\nData columns (total 5 columns):\n #   Column        Non-Null Count   Dtype         \n---  ------        --------------   -----         \n 0   calendar_day  880348 non-null  datetime64[ns]\n 1   sku           880348 non-null  int64         \n 2   size          861229 non-null  object        \n 3   block         856629 non-null  object        \n 4   ph            864196 non-null  object        \ndtypes: datetime64[ns](1), int64(1), object(3)\nmemory usage: 40.3+ MB\n"
    }
   ],
   "source": [
    "master.info()"
   ]
  },
  {
   "cell_type": "code",
   "execution_count": 95,
   "metadata": {},
   "outputs": [
    {
     "output_type": "stream",
     "name": "stdout",
     "text": "<class 'pandas.core.frame.DataFrame'>\nInt64Index: 814243 entries, 0 to 880347\nData columns (total 5 columns):\n #   Column        Non-Null Count   Dtype         \n---  ------        --------------   -----         \n 0   calendar_day  814243 non-null  datetime64[ns]\n 1   sku           814243 non-null  int64         \n 2   size          811071 non-null  object        \n 3   block         807619 non-null  object        \n 4   ph            813878 non-null  object        \ndtypes: datetime64[ns](1), int64(1), object(3)\nmemory usage: 37.3+ MB\n"
    }
   ],
   "source": [
    "#none before 2016\n",
    "date_limit = pd.Timestamp(2016,1,1)\n",
    "master = master[master[\"calendar_day\"]>=date_limit]\n",
    "master.info()"
   ]
  },
  {
   "cell_type": "code",
   "execution_count": 96,
   "metadata": {},
   "outputs": [],
   "source": [
    "# #none after 2020-3-15\n",
    "# date_limit = pd.Timestamp(2020,3,15)\n",
    "# master = master[master[\"calendar_day\"]<=date_limit]\n",
    "# master.info()"
   ]
  },
  {
   "cell_type": "code",
   "execution_count": 97,
   "metadata": {},
   "outputs": [
    {
     "output_type": "execute_result",
     "data": {
      "text/plain": "       calendar_day        sku      size       block  \\\n89       2016-01-03  106022528       NaN  2-1/2\" ANG   \n138      2016-01-03  106027184    3 X 5#         NaN   \n146      2016-01-03  106027221  4 X 5.4#         NaN   \n148      2016-01-03  106027284  3 X 4.1#         NaN   \n351      2016-01-03  110001450       35M         NaN   \n...             ...        ...       ...         ...   \n879976   2019-05-26  110001450       35M         NaN   \n880089   2019-08-01  106030348       NaN         NaN   \n880142   2019-09-13  110001450       35M         NaN   \n880143   2019-09-14  110001450       35M         NaN   \n880159   2019-09-23  102300129       NaN         NaN   \n\n                                            ph  \n89        LS-Mills-Mer-Mer-Lght Shp-MBQ Angles  \n138     LS-Mills-Mer-Mer-Lght Shp-MBQ Channels  \n146         LS-Mills-Mer-Mer-Strc A&C-Channels  \n148     LS-Mills-Mer-Mer-Lght Shp-MBQ Channels  \n351           LS-Mills-Reb-Reb-Str Reb-Str Reb  \n...                                        ...  \n879976        LS-Mills-Reb-Reb-Str Reb-Str Reb  \n880089                                     NaN  \n880142        LS-Mills-Reb-Reb-Str Reb-Str Reb  \n880143        LS-Mills-Reb-Reb-Str Reb-Str Reb  \n880159                                     NaN  \n\n[9431 rows x 5 columns]",
      "text/html": "<div>\n<style scoped>\n    .dataframe tbody tr th:only-of-type {\n        vertical-align: middle;\n    }\n\n    .dataframe tbody tr th {\n        vertical-align: top;\n    }\n\n    .dataframe thead th {\n        text-align: right;\n    }\n</style>\n<table border=\"1\" class=\"dataframe\">\n  <thead>\n    <tr style=\"text-align: right;\">\n      <th></th>\n      <th>calendar_day</th>\n      <th>sku</th>\n      <th>size</th>\n      <th>block</th>\n      <th>ph</th>\n    </tr>\n  </thead>\n  <tbody>\n    <tr>\n      <th>89</th>\n      <td>2016-01-03</td>\n      <td>106022528</td>\n      <td>NaN</td>\n      <td>2-1/2\" ANG</td>\n      <td>LS-Mills-Mer-Mer-Lght Shp-MBQ Angles</td>\n    </tr>\n    <tr>\n      <th>138</th>\n      <td>2016-01-03</td>\n      <td>106027184</td>\n      <td>3 X 5#</td>\n      <td>NaN</td>\n      <td>LS-Mills-Mer-Mer-Lght Shp-MBQ Channels</td>\n    </tr>\n    <tr>\n      <th>146</th>\n      <td>2016-01-03</td>\n      <td>106027221</td>\n      <td>4 X 5.4#</td>\n      <td>NaN</td>\n      <td>LS-Mills-Mer-Mer-Strc A&amp;C-Channels</td>\n    </tr>\n    <tr>\n      <th>148</th>\n      <td>2016-01-03</td>\n      <td>106027284</td>\n      <td>3 X 4.1#</td>\n      <td>NaN</td>\n      <td>LS-Mills-Mer-Mer-Lght Shp-MBQ Channels</td>\n    </tr>\n    <tr>\n      <th>351</th>\n      <td>2016-01-03</td>\n      <td>110001450</td>\n      <td>35M</td>\n      <td>NaN</td>\n      <td>LS-Mills-Reb-Reb-Str Reb-Str Reb</td>\n    </tr>\n    <tr>\n      <th>...</th>\n      <td>...</td>\n      <td>...</td>\n      <td>...</td>\n      <td>...</td>\n      <td>...</td>\n    </tr>\n    <tr>\n      <th>879976</th>\n      <td>2019-05-26</td>\n      <td>110001450</td>\n      <td>35M</td>\n      <td>NaN</td>\n      <td>LS-Mills-Reb-Reb-Str Reb-Str Reb</td>\n    </tr>\n    <tr>\n      <th>880089</th>\n      <td>2019-08-01</td>\n      <td>106030348</td>\n      <td>NaN</td>\n      <td>NaN</td>\n      <td>NaN</td>\n    </tr>\n    <tr>\n      <th>880142</th>\n      <td>2019-09-13</td>\n      <td>110001450</td>\n      <td>35M</td>\n      <td>NaN</td>\n      <td>LS-Mills-Reb-Reb-Str Reb-Str Reb</td>\n    </tr>\n    <tr>\n      <th>880143</th>\n      <td>2019-09-14</td>\n      <td>110001450</td>\n      <td>35M</td>\n      <td>NaN</td>\n      <td>LS-Mills-Reb-Reb-Str Reb-Str Reb</td>\n    </tr>\n    <tr>\n      <th>880159</th>\n      <td>2019-09-23</td>\n      <td>102300129</td>\n      <td>NaN</td>\n      <td>NaN</td>\n      <td>NaN</td>\n    </tr>\n  </tbody>\n</table>\n<p>9431 rows × 5 columns</p>\n</div>"
     },
     "metadata": {},
     "execution_count": 97
    }
   ],
   "source": [
    "master[master.isna().any(axis=1)]"
   ]
  },
  {
   "cell_type": "markdown",
   "metadata": {},
   "source": [
    "## Inventory"
   ]
  },
  {
   "cell_type": "markdown",
   "metadata": {
    "toc-hr-collapsed": true,
    "toc-nb-collapsed": true
   },
   "source": [
    "### Checking Nulls"
   ]
  },
  {
   "cell_type": "code",
   "execution_count": 98,
   "metadata": {},
   "outputs": [],
   "source": [
    "#creating dataframe for analysis of nulls in inventory\n",
    "cols = [\"shape\", \"block\", \"size\"]\n",
    "\n",
    "nulls = inv_reduced2[inv_reduced2[cols[2]].isna()]"
   ]
  },
  {
   "cell_type": "code",
   "execution_count": 99,
   "metadata": {},
   "outputs": [
    {
     "output_type": "execute_result",
     "data": {
      "text/plain": "sku                                                          297620592805\nmaterial_description    L 2 1/2X2 1/2X3/16 A36/44W/A529-50 20'00L 2 1/...\nmaterial_type           ZERTZERTZERTZERTZERTZERTZERTZERTZERTZERTZERTZE...\nstrategy                MTOMTOMTOMTOMTOMTOMTOMTOMTOMTOMTOMTOMTOMTOMTOM...\nph                      LS-Mills-Mer-Mer-Lght Shp-MBQ AnglesLS-Mills-M...\nshape                                                                   0\nblock                   2-1/2\" ANG2-1/2\" ANG2-1/2\" ANG2-1/2\" ANG2-1/2\"...\nsize                                                                    0\nsteel_grade                                                             0\nlength_text                                                             0\ntons                                                               26.573\ndtype: object"
     },
     "metadata": {},
     "execution_count": 99
    }
   ],
   "source": [
    "#negligible by size\n",
    "nulls.sum()"
   ]
  },
  {
   "cell_type": "markdown",
   "metadata": {},
   "source": [
    "### Dimensions of Skus, Sizes, Blocks, Hierchies & Shapes"
   ]
  },
  {
   "cell_type": "code",
   "execution_count": 100,
   "metadata": {},
   "outputs": [
    {
     "output_type": "stream",
     "name": "stdout",
     "text": "Unique Dimensions \n  Skus: 1747\n  Sizes: 314\n  Blocks: 112\n  Hierarchies: 13\n  Shapes:7\n"
    }
   ],
   "source": [
    "sku = inv_reduced2[\"sku\"].nunique()\n",
    "size = inv_reduced2[\"size\"].nunique()\n",
    "block = inv_reduced2[\"block\"].nunique()\n",
    "ph = inv_reduced2[\"ph\"].nunique()\n",
    "shape = inv_reduced2[\"shape\"].nunique()\n",
    "\n",
    "print(f\"Unique Dimensions \\n  Skus: {sku}\\n  Sizes: {size}\\n  Blocks: {block}\\n  Hierarchies: {ph}\\n  Shapes:{shape}\")"
   ]
  },
  {
   "cell_type": "code",
   "execution_count": 101,
   "metadata": {},
   "outputs": [
    {
     "output_type": "execute_result",
     "data": {
      "text/plain": "129"
     },
     "metadata": {},
     "execution_count": 101
    }
   ],
   "source": [
    "inv_reduced2[inv_reduced2[\"shape\"]==\"SHAPE_L\"][\"size\"].nunique()"
   ]
  },
  {
   "cell_type": "code",
   "execution_count": 102,
   "metadata": {},
   "outputs": [],
   "source": [
    "# #dimensions\n",
    "# dimension = [\"sku\", \"size\", \"block\", \"ph\", \"shape\"]\n",
    "\n",
    "# #change dimension index to change dimensions\n",
    "# columns = [\"calendar_day\", dimension[0]]"
   ]
  },
  {
   "cell_type": "markdown",
   "metadata": {
    "toc-hr-collapsed": true,
    "toc-nb-collapsed": true
   },
   "source": [
    "### Adding IN_ prefix"
   ]
  },
  {
   "cell_type": "code",
   "execution_count": 103,
   "metadata": {},
   "outputs": [],
   "source": [
    "if \"IN_\" not in inv_reduced2.columns[0]:\n",
    "    inv_reduced2.columns = [\"IN_\" + str(col) for col in inv_reduced2.columns]"
   ]
  },
  {
   "cell_type": "code",
   "execution_count": 104,
   "metadata": {},
   "outputs": [
    {
     "output_type": "stream",
     "name": "stdout",
     "text": "<class 'pandas.core.frame.DataFrame'>\nInt64Index: 774593 entries, 16 to 779020\nData columns (total 12 columns):\n #   Column                   Non-Null Count   Dtype         \n---  ------                   --------------   -----         \n 0   IN_calendar_day          774593 non-null  datetime64[ns]\n 1   IN_sku                   774593 non-null  object        \n 2   IN_material_description  774593 non-null  object        \n 3   IN_material_type         774593 non-null  object        \n 4   IN_strategy              767339 non-null  category      \n 5   IN_ph                    774593 non-null  object        \n 6   IN_shape                 771786 non-null  object        \n 7   IN_block                 769246 non-null  object        \n 8   IN_size                  771786 non-null  object        \n 9   IN_steel_grade           771786 non-null  object        \n 10  IN_length_text           769268 non-null  object        \n 11  IN_tons                  774593 non-null  float64       \ndtypes: category(1), datetime64[ns](1), float64(1), object(9)\nmemory usage: 71.7+ MB\n"
    }
   ],
   "source": [
    "inv_reduced2.info()"
   ]
  },
  {
   "cell_type": "markdown",
   "metadata": {
    "toc-hr-collapsed": true,
    "toc-nb-collapsed": true
   },
   "source": [
    "## Sales Orders"
   ]
  },
  {
   "cell_type": "markdown",
   "metadata": {
    "toc-hr-collapsed": true,
    "toc-nb-collapsed": true
   },
   "source": [
    "### Adding SO_ prefix"
   ]
  },
  {
   "cell_type": "code",
   "execution_count": 105,
   "metadata": {},
   "outputs": [],
   "source": [
    "if \"SO_\" not in order_reduced.columns[0]:\n",
    "    order_reduced.columns = [\"SO_\" + str(col) for col in order_reduced.columns]"
   ]
  },
  {
   "cell_type": "code",
   "execution_count": 106,
   "metadata": {},
   "outputs": [
    {
     "output_type": "stream",
     "name": "stdout",
     "text": "<class 'pandas.core.frame.DataFrame'>\nInt64Index: 188983 entries, 0 to 188982\nData columns (total 23 columns):\n #   Column                      Non-Null Count   Dtype         \n---  ------                      --------------   -----         \n 0   SO_requested_date           188983 non-null  datetime64[ns]\n 1   SO_confirmed_date           188983 non-null  datetime64[ns]\n 2   SO_material_avail_date      188983 non-null  datetime64[ns]\n 3   SO_load_date                188983 non-null  datetime64[ns]\n 4   SO_plan_goods_issue_date    188983 non-null  datetime64[ns]\n 5   SO_sales_district_code      188983 non-null  object        \n 6   SO_division                 188983 non-null  int64         \n 7   SO_sold_to                  188983 non-null  int64         \n 8   SO_ship_to                  188983 non-null  int64         \n 9   SO_route                    188983 non-null  object        \n 10  SO_ship_to_city             188983 non-null  object        \n 11  SO_ship_to_state            188983 non-null  object        \n 12  SO_sku                      188983 non-null  object        \n 13  SO_material_description     188983 non-null  object        \n 14  SO_order_qty_sales_units    188983 non-null  float64       \n 15  SO_confirmed_qty            188983 non-null  float64       \n 16  SO_sales_uom                188983 non-null  object        \n 17  SO_qty_on_shipment          184822 non-null  float64       \n 18  SO_qty_shipped_sales_units  184822 non-null  float64       \n 19  SO_item_status              188983 non-null  object        \n 20  SO_size                     169031 non-null  object        \n 21  SO_block                    162173 non-null  object        \n 22  SO_ph                       169243 non-null  object        \ndtypes: datetime64[ns](5), float64(4), int64(3), object(11)\nmemory usage: 34.6+ MB\n"
    }
   ],
   "source": [
    "order_reduced.info()"
   ]
  },
  {
   "cell_type": "markdown",
   "metadata": {
    "toc-hr-collapsed": true,
    "toc-nb-collapsed": true
   },
   "source": [
    "### Filter Data>=2016"
   ]
  },
  {
   "cell_type": "code",
   "execution_count": 107,
   "metadata": {},
   "outputs": [],
   "source": [
    "date_limit = pd.Timestamp(2016,1,1)\n",
    "order_reduced = order_reduced[order_reduced[\"SO_confirmed_date\"]>=date_limit]"
   ]
  },
  {
   "cell_type": "code",
   "execution_count": 108,
   "metadata": {},
   "outputs": [
    {
     "output_type": "stream",
     "name": "stdout",
     "text": "<class 'pandas.core.frame.DataFrame'>\nInt64Index: 120159 entries, 68824 to 188982\nData columns (total 23 columns):\n #   Column                      Non-Null Count   Dtype         \n---  ------                      --------------   -----         \n 0   SO_requested_date           120159 non-null  datetime64[ns]\n 1   SO_confirmed_date           120159 non-null  datetime64[ns]\n 2   SO_material_avail_date      120159 non-null  datetime64[ns]\n 3   SO_load_date                120159 non-null  datetime64[ns]\n 4   SO_plan_goods_issue_date    120159 non-null  datetime64[ns]\n 5   SO_sales_district_code      120159 non-null  object        \n 6   SO_division                 120159 non-null  int64         \n 7   SO_sold_to                  120159 non-null  int64         \n 8   SO_ship_to                  120159 non-null  int64         \n 9   SO_route                    120159 non-null  object        \n 10  SO_ship_to_city             120159 non-null  object        \n 11  SO_ship_to_state            120159 non-null  object        \n 12  SO_sku                      120159 non-null  object        \n 13  SO_material_description     120159 non-null  object        \n 14  SO_order_qty_sales_units    120159 non-null  float64       \n 15  SO_confirmed_qty            120159 non-null  float64       \n 16  SO_sales_uom                120159 non-null  object        \n 17  SO_qty_on_shipment          116001 non-null  float64       \n 18  SO_qty_shipped_sales_units  116001 non-null  float64       \n 19  SO_item_status              120159 non-null  object        \n 20  SO_size                     120052 non-null  object        \n 21  SO_block                    114810 non-null  object        \n 22  SO_ph                       120052 non-null  object        \ndtypes: datetime64[ns](5), float64(4), int64(3), object(11)\nmemory usage: 22.0+ MB\n"
    }
   ],
   "source": [
    "order_reduced.info()"
   ]
  },
  {
   "cell_type": "markdown",
   "metadata": {},
   "source": [
    "### Dropping Columns not needed"
   ]
  },
  {
   "cell_type": "code",
   "execution_count": 109,
   "metadata": {},
   "outputs": [
    {
     "output_type": "execute_result",
     "data": {
      "text/plain": "Index(['SO_requested_date', 'SO_confirmed_date', 'SO_material_avail_date',\n       'SO_load_date', 'SO_plan_goods_issue_date', 'SO_sales_district_code',\n       'SO_division', 'SO_sold_to', 'SO_ship_to', 'SO_route',\n       'SO_ship_to_city', 'SO_ship_to_state', 'SO_sku',\n       'SO_material_description', 'SO_order_qty_sales_units',\n       'SO_confirmed_qty', 'SO_sales_uom', 'SO_qty_on_shipment',\n       'SO_qty_shipped_sales_units', 'SO_item_status', 'SO_size', 'SO_block',\n       'SO_ph'],\n      dtype='object')"
     },
     "metadata": {},
     "execution_count": 109
    }
   ],
   "source": [
    "order_reduced.columns"
   ]
  },
  {
   "cell_type": "code",
   "execution_count": 110,
   "metadata": {},
   "outputs": [
    {
     "output_type": "execute_result",
     "data": {
      "text/plain": "      SO_requested_date SO_confirmed_date SO_plan_goods_issue_date     SO_sku  \\\n68824        2015-12-29        2016-01-01               2015-12-17  106022569   \n68825        2016-01-02        2016-01-02               2015-12-16  109008267   \n68826        2016-01-02        2016-01-02               2015-12-22  106028573   \n68827        2016-01-02        2016-01-02               2015-12-22  106028446   \n68828        2015-12-26        2016-01-02               2015-12-18  106023056   \n\n             SO_material_description  SO_order_qty_sales_units  \\\n68824  L 2 1/2X2 1/2X5/16 55W 60'00\"                    315.00   \n68825         F 3/4X5 GGMULTI 20'00\"                      3.06   \n68826       L 3X3X1/4 GGMULTI 20'00\"                     12.74   \n68827       L 3X3X3/8 GGMULTI 40'00\"                     15.12   \n68828          L 3X3X5/16 55W 60'00\"                     27.45   \n\n       SO_confirmed_qty SO_sales_uom        SO_item_status  \n68824            315.00          TON  Completely Processed  \n68825              3.06          TON  Completely Processed  \n68826             12.74          TON  Completely Processed  \n68827             15.12          TON  Completely Processed  \n68828             27.45          TON  Completely Processed  ",
      "text/html": "<div>\n<style scoped>\n    .dataframe tbody tr th:only-of-type {\n        vertical-align: middle;\n    }\n\n    .dataframe tbody tr th {\n        vertical-align: top;\n    }\n\n    .dataframe thead th {\n        text-align: right;\n    }\n</style>\n<table border=\"1\" class=\"dataframe\">\n  <thead>\n    <tr style=\"text-align: right;\">\n      <th></th>\n      <th>SO_requested_date</th>\n      <th>SO_confirmed_date</th>\n      <th>SO_plan_goods_issue_date</th>\n      <th>SO_sku</th>\n      <th>SO_material_description</th>\n      <th>SO_order_qty_sales_units</th>\n      <th>SO_confirmed_qty</th>\n      <th>SO_sales_uom</th>\n      <th>SO_item_status</th>\n    </tr>\n  </thead>\n  <tbody>\n    <tr>\n      <th>68824</th>\n      <td>2015-12-29</td>\n      <td>2016-01-01</td>\n      <td>2015-12-17</td>\n      <td>106022569</td>\n      <td>L 2 1/2X2 1/2X5/16 55W 60'00\"</td>\n      <td>315.00</td>\n      <td>315.00</td>\n      <td>TON</td>\n      <td>Completely Processed</td>\n    </tr>\n    <tr>\n      <th>68825</th>\n      <td>2016-01-02</td>\n      <td>2016-01-02</td>\n      <td>2015-12-16</td>\n      <td>109008267</td>\n      <td>F 3/4X5 GGMULTI 20'00\"</td>\n      <td>3.06</td>\n      <td>3.06</td>\n      <td>TON</td>\n      <td>Completely Processed</td>\n    </tr>\n    <tr>\n      <th>68826</th>\n      <td>2016-01-02</td>\n      <td>2016-01-02</td>\n      <td>2015-12-22</td>\n      <td>106028573</td>\n      <td>L 3X3X1/4 GGMULTI 20'00\"</td>\n      <td>12.74</td>\n      <td>12.74</td>\n      <td>TON</td>\n      <td>Completely Processed</td>\n    </tr>\n    <tr>\n      <th>68827</th>\n      <td>2016-01-02</td>\n      <td>2016-01-02</td>\n      <td>2015-12-22</td>\n      <td>106028446</td>\n      <td>L 3X3X3/8 GGMULTI 40'00\"</td>\n      <td>15.12</td>\n      <td>15.12</td>\n      <td>TON</td>\n      <td>Completely Processed</td>\n    </tr>\n    <tr>\n      <th>68828</th>\n      <td>2015-12-26</td>\n      <td>2016-01-02</td>\n      <td>2015-12-18</td>\n      <td>106023056</td>\n      <td>L 3X3X5/16 55W 60'00\"</td>\n      <td>27.45</td>\n      <td>27.45</td>\n      <td>TON</td>\n      <td>Completely Processed</td>\n    </tr>\n  </tbody>\n</table>\n</div>"
     },
     "metadata": {},
     "execution_count": 110
    }
   ],
   "source": [
    "cols = ['SO_requested_date', 'SO_confirmed_date', 'SO_plan_goods_issue_date',\n",
    "        'SO_sku','SO_material_description', 'SO_order_qty_sales_units',\n",
    "        'SO_confirmed_qty', 'SO_sales_uom', 'SO_item_status']\n",
    "\n",
    "order_reduced = order_reduced[cols]\n",
    "order_reduced.head(5)"
   ]
  },
  {
   "cell_type": "markdown",
   "metadata": {},
   "source": [
    "## Shipments"
   ]
  },
  {
   "cell_type": "markdown",
   "metadata": {},
   "source": [
    "### Adding SH_ prefix"
   ]
  },
  {
   "cell_type": "code",
   "execution_count": 111,
   "metadata": {},
   "outputs": [],
   "source": [
    "if \"SH_\" not in ship_reduced.columns[0]:\n",
    "    ship_reduced.columns = [\"SH_\" + str(col) for col in ship_reduced.columns]"
   ]
  },
  {
   "cell_type": "code",
   "execution_count": 112,
   "metadata": {},
   "outputs": [
    {
     "output_type": "stream",
     "name": "stdout",
     "text": "<class 'pandas.core.frame.DataFrame'>\nInt64Index: 156711 entries, 155274 to 21756\nData columns (total 15 columns):\n #   Column                   Non-Null Count   Dtype         \n---  ------                   --------------   -----         \n 0   SH_shipping_day          156711 non-null  datetime64[ns]\n 1   SH_block                 153079 non-null  object        \n 2   SH_strategy              156700 non-null  object        \n 3   SH_shape                 156700 non-null  object        \n 4   SH_size                  156700 non-null  object        \n 5   SH_div                   156711 non-null  object        \n 6   SH_sku                   156711 non-null  object        \n 7   SH_material_description  156711 non-null  object        \n 8   SH_shipment_tons         156711 non-null  float64       \n 9   SH_segment               154025 non-null  object        \n 10  SH_sold-to_party         156711 non-null  object        \n 11  SH_ship-to_party         156711 non-null  object        \n 12  SH_postal_code           156711 non-null  object        \n 13  SH_region_description    156711 non-null  object        \n 14  SH_country               156711 non-null  object        \ndtypes: datetime64[ns](1), float64(1), object(13)\nmemory usage: 19.1+ MB\n"
    }
   ],
   "source": [
    "ship_reduced.info()"
   ]
  },
  {
   "cell_type": "markdown",
   "metadata": {},
   "source": [
    "### Filter Data>=2016"
   ]
  },
  {
   "cell_type": "code",
   "execution_count": 113,
   "metadata": {},
   "outputs": [],
   "source": [
    "ship_reduced = ship_reduced[ship_reduced[\"SH_shipping_day\"]>=date_limit]"
   ]
  },
  {
   "cell_type": "code",
   "execution_count": 114,
   "metadata": {},
   "outputs": [
    {
     "output_type": "stream",
     "name": "stdout",
     "text": "<class 'pandas.core.frame.DataFrame'>\nInt64Index: 131465 entries, 30378 to 21756\nData columns (total 15 columns):\n #   Column                   Non-Null Count   Dtype         \n---  ------                   --------------   -----         \n 0   SH_shipping_day          131465 non-null  datetime64[ns]\n 1   SH_block                 128423 non-null  object        \n 2   SH_strategy              131454 non-null  object        \n 3   SH_shape                 131454 non-null  object        \n 4   SH_size                  131454 non-null  object        \n 5   SH_div                   131465 non-null  object        \n 6   SH_sku                   131465 non-null  object        \n 7   SH_material_description  131465 non-null  object        \n 8   SH_shipment_tons         131465 non-null  float64       \n 9   SH_segment               128799 non-null  object        \n 10  SH_sold-to_party         131465 non-null  object        \n 11  SH_ship-to_party         131465 non-null  object        \n 12  SH_postal_code           131465 non-null  object        \n 13  SH_region_description    131465 non-null  object        \n 14  SH_country               131465 non-null  object        \ndtypes: datetime64[ns](1), float64(1), object(13)\nmemory usage: 16.0+ MB\n"
    }
   ],
   "source": [
    "ship_reduced.info()"
   ]
  },
  {
   "cell_type": "markdown",
   "metadata": {
    "toc-hr-collapsed": true,
    "toc-nb-collapsed": true
   },
   "source": [
    "## Production"
   ]
  },
  {
   "cell_type": "markdown",
   "metadata": {},
   "source": [
    "### Adding PR_ prefix"
   ]
  },
  {
   "cell_type": "code",
   "execution_count": 115,
   "metadata": {},
   "outputs": [],
   "source": [
    "if \"PR_\" not in prod_reduced.columns[0]:\n",
    "    prod_reduced.columns = [\"PR_\" + str(col) for col in prod_reduced.columns]"
   ]
  },
  {
   "cell_type": "code",
   "execution_count": 116,
   "metadata": {},
   "outputs": [
    {
     "output_type": "stream",
     "name": "stdout",
     "text": "<class 'pandas.core.frame.DataFrame'>\nInt64Index: 14820 entries, 192 to 13808\nData columns (total 12 columns):\n #   Column                             Non-Null Count  Dtype         \n---  ------                             --------------  -----         \n 0   PR_calendar_day                    14820 non-null  datetime64[ns]\n 1   PR_production_process              14820 non-null  category      \n 2   PR_production_process_description  14820 non-null  category      \n 3   PR_strategy                        14820 non-null  category      \n 4   PR_work_center                     13450 non-null  category      \n 5   PR_wc_description                  14820 non-null  category      \n 6   PR_block                           14815 non-null  object        \n 7   PR_shape                           14795 non-null  category      \n 8   PR_size                            14795 non-null  object        \n 9   PR_sku                             14820 non-null  object        \n 10  PR_material_description            14820 non-null  object        \n 11  PR_ton                             14820 non-null  int64         \ndtypes: category(6), datetime64[ns](1), int64(1), object(4)\nmemory usage: 898.1+ KB\n"
    }
   ],
   "source": [
    "prod_reduced.info()"
   ]
  },
  {
   "cell_type": "markdown",
   "metadata": {},
   "source": [
    "### Filter Data>=2016"
   ]
  },
  {
   "cell_type": "code",
   "execution_count": 117,
   "metadata": {},
   "outputs": [],
   "source": [
    "prod_reduced = prod_reduced[prod_reduced[\"PR_calendar_day\"]>=date_limit]"
   ]
  },
  {
   "cell_type": "code",
   "execution_count": 118,
   "metadata": {},
   "outputs": [
    {
     "output_type": "stream",
     "name": "stdout",
     "text": "<class 'pandas.core.frame.DataFrame'>\nInt64Index: 9833 entries, 12098 to 13808\nData columns (total 12 columns):\n #   Column                             Non-Null Count  Dtype         \n---  ------                             --------------  -----         \n 0   PR_calendar_day                    9833 non-null   datetime64[ns]\n 1   PR_production_process              9833 non-null   category      \n 2   PR_production_process_description  9833 non-null   category      \n 3   PR_strategy                        9833 non-null   category      \n 4   PR_work_center                     8873 non-null   category      \n 5   PR_wc_description                  9833 non-null   category      \n 6   PR_block                           9828 non-null   object        \n 7   PR_shape                           9833 non-null   category      \n 8   PR_size                            9833 non-null   object        \n 9   PR_sku                             9833 non-null   object        \n 10  PR_material_description            9833 non-null   object        \n 11  PR_ton                             9833 non-null   int64         \ndtypes: category(6), datetime64[ns](1), int64(1), object(4)\nmemory usage: 596.2+ KB\n"
    }
   ],
   "source": [
    "prod_reduced.info()"
   ]
  },
  {
   "cell_type": "markdown",
   "metadata": {},
   "source": [
    "## First Merge (Inv & Order)"
   ]
  },
  {
   "cell_type": "code",
   "execution_count": 119,
   "metadata": {},
   "outputs": [
    {
     "output_type": "execute_result",
     "data": {
      "text/plain": "  date_index\n0 2016-01-01\n1 2016-01-02\n2 2016-01-03\n3 2016-01-04\n4 2016-01-05",
      "text/html": "<div>\n<style scoped>\n    .dataframe tbody tr th:only-of-type {\n        vertical-align: middle;\n    }\n\n    .dataframe tbody tr th {\n        vertical-align: top;\n    }\n\n    .dataframe thead th {\n        text-align: right;\n    }\n</style>\n<table border=\"1\" class=\"dataframe\">\n  <thead>\n    <tr style=\"text-align: right;\">\n      <th></th>\n      <th>date_index</th>\n    </tr>\n  </thead>\n  <tbody>\n    <tr>\n      <th>0</th>\n      <td>2016-01-01</td>\n    </tr>\n    <tr>\n      <th>1</th>\n      <td>2016-01-02</td>\n    </tr>\n    <tr>\n      <th>2</th>\n      <td>2016-01-03</td>\n    </tr>\n    <tr>\n      <th>3</th>\n      <td>2016-01-04</td>\n    </tr>\n    <tr>\n      <th>4</th>\n      <td>2016-01-05</td>\n    </tr>\n  </tbody>\n</table>\n</div>"
     },
     "metadata": {},
     "execution_count": 119
    }
   ],
   "source": [
    "date = pd.DataFrame(pd.date_range('1/1/2016','3/15/2020'), columns =[\"date_index\"])\n",
    "date.head()"
   ]
  },
  {
   "cell_type": "code",
   "execution_count": 120,
   "metadata": {},
   "outputs": [
    {
     "output_type": "execute_result",
     "data": {
      "text/plain": "  date_index IN_calendar_day     IN_sku    IN_material_description  \\\n0 2016-01-01             NaT        NaN                        NaN   \n1 2016-01-02             NaT        NaN                        NaN   \n2 2016-01-03      2016-01-03  106020238  C 10X15.3# GGMULTI 20'00\"   \n3 2016-01-03      2016-01-03  106020239  C 10X15.3# GGMULTI 40'00\"   \n4 2016-01-03      2016-01-03  106020242  C 10X15.3# GGMULTI 50'00\"   \n\n  IN_material_type IN_strategy                               IN_ph IN_shape  \\\n0              NaN         NaN                                 NaN      NaN   \n1              NaN         NaN                                 NaN      NaN   \n2             ZERT         MTS  LS-Mills-Mer-Mer-Strc A&C-Channels  SHAPE_C   \n3             ZERT         MTS  LS-Mills-Mer-Mer-Strc A&C-Channels  SHAPE_C   \n4             ZERT         MTS  LS-Mills-Mer-Mer-Strc A&C-Channels  SHAPE_C   \n\n  IN_block     IN_size IN_steel_grade IN_length_text  IN_tons  \n0      NaN         NaN            NaN            NaN      NaN  \n1      NaN         NaN            NaN            NaN      NaN  \n2  10\" CHN  10 X 15.3#        GGMULTI         20'00\"  200.736  \n3  10\" CHN  10 X 15.3#        GGMULTI         40'00\"  352.206  \n4  10\" CHN  10 X 15.3#        GGMULTI         50'00\"   99.450  ",
      "text/html": "<div>\n<style scoped>\n    .dataframe tbody tr th:only-of-type {\n        vertical-align: middle;\n    }\n\n    .dataframe tbody tr th {\n        vertical-align: top;\n    }\n\n    .dataframe thead th {\n        text-align: right;\n    }\n</style>\n<table border=\"1\" class=\"dataframe\">\n  <thead>\n    <tr style=\"text-align: right;\">\n      <th></th>\n      <th>date_index</th>\n      <th>IN_calendar_day</th>\n      <th>IN_sku</th>\n      <th>IN_material_description</th>\n      <th>IN_material_type</th>\n      <th>IN_strategy</th>\n      <th>IN_ph</th>\n      <th>IN_shape</th>\n      <th>IN_block</th>\n      <th>IN_size</th>\n      <th>IN_steel_grade</th>\n      <th>IN_length_text</th>\n      <th>IN_tons</th>\n    </tr>\n  </thead>\n  <tbody>\n    <tr>\n      <th>0</th>\n      <td>2016-01-01</td>\n      <td>NaT</td>\n      <td>NaN</td>\n      <td>NaN</td>\n      <td>NaN</td>\n      <td>NaN</td>\n      <td>NaN</td>\n      <td>NaN</td>\n      <td>NaN</td>\n      <td>NaN</td>\n      <td>NaN</td>\n      <td>NaN</td>\n      <td>NaN</td>\n    </tr>\n    <tr>\n      <th>1</th>\n      <td>2016-01-02</td>\n      <td>NaT</td>\n      <td>NaN</td>\n      <td>NaN</td>\n      <td>NaN</td>\n      <td>NaN</td>\n      <td>NaN</td>\n      <td>NaN</td>\n      <td>NaN</td>\n      <td>NaN</td>\n      <td>NaN</td>\n      <td>NaN</td>\n      <td>NaN</td>\n    </tr>\n    <tr>\n      <th>2</th>\n      <td>2016-01-03</td>\n      <td>2016-01-03</td>\n      <td>106020238</td>\n      <td>C 10X15.3# GGMULTI 20'00\"</td>\n      <td>ZERT</td>\n      <td>MTS</td>\n      <td>LS-Mills-Mer-Mer-Strc A&amp;C-Channels</td>\n      <td>SHAPE_C</td>\n      <td>10\" CHN</td>\n      <td>10 X 15.3#</td>\n      <td>GGMULTI</td>\n      <td>20'00\"</td>\n      <td>200.736</td>\n    </tr>\n    <tr>\n      <th>3</th>\n      <td>2016-01-03</td>\n      <td>2016-01-03</td>\n      <td>106020239</td>\n      <td>C 10X15.3# GGMULTI 40'00\"</td>\n      <td>ZERT</td>\n      <td>MTS</td>\n      <td>LS-Mills-Mer-Mer-Strc A&amp;C-Channels</td>\n      <td>SHAPE_C</td>\n      <td>10\" CHN</td>\n      <td>10 X 15.3#</td>\n      <td>GGMULTI</td>\n      <td>40'00\"</td>\n      <td>352.206</td>\n    </tr>\n    <tr>\n      <th>4</th>\n      <td>2016-01-03</td>\n      <td>2016-01-03</td>\n      <td>106020242</td>\n      <td>C 10X15.3# GGMULTI 50'00\"</td>\n      <td>ZERT</td>\n      <td>MTS</td>\n      <td>LS-Mills-Mer-Mer-Strc A&amp;C-Channels</td>\n      <td>SHAPE_C</td>\n      <td>10\" CHN</td>\n      <td>10 X 15.3#</td>\n      <td>GGMULTI</td>\n      <td>50'00\"</td>\n      <td>99.450</td>\n    </tr>\n  </tbody>\n</table>\n</div>"
     },
     "metadata": {},
     "execution_count": 120
    }
   ],
   "source": [
    "indexed_inv = date.merge(inv_reduced2, how='left', left_on=\"date_index\", right_on=\"IN_calendar_day\", validate='1:m')\n",
    "indexed_inv.head(5)"
   ]
  },
  {
   "cell_type": "code",
   "execution_count": 121,
   "metadata": {},
   "outputs": [],
   "source": [
    "indexed_order = date.merge(order_reduced, how='left', left_on=\"date_index\", right_on=\"SO_confirmed_date\",validate='1:m')"
   ]
  },
  {
   "cell_type": "code",
   "execution_count": 122,
   "metadata": {},
   "outputs": [],
   "source": [
    "left_cols = [\"date_index\",\"IN_sku\"]\n",
    "right_cols = [\"SO_confirmed_date\", \"SO_sku\"]\n",
    "\n",
    "merge1 = indexed_inv.merge(order_reduced, how='outer', left_on=left_cols, right_on=right_cols)"
   ]
  },
  {
   "cell_type": "code",
   "execution_count": 123,
   "metadata": {},
   "outputs": [
    {
     "output_type": "stream",
     "name": "stdout",
     "text": "<class 'pandas.core.frame.DataFrame'>\nInt64Index: 835827 entries, 0 to 835826\nData columns (total 22 columns):\n #   Column                    Non-Null Count   Dtype         \n---  ------                    --------------   -----         \n 0   date_index                797164 non-null  datetime64[ns]\n 1   IN_calendar_day           796755 non-null  datetime64[ns]\n 2   IN_sku                    796755 non-null  object        \n 3   IN_material_description   796755 non-null  object        \n 4   IN_material_type          796755 non-null  object        \n 5   IN_strategy               789867 non-null  category      \n 6   IN_ph                     796755 non-null  object        \n 7   IN_shape                  793974 non-null  object        \n 8   IN_block                  789518 non-null  object        \n 9   IN_size                   793974 non-null  object        \n 10  IN_steel_grade            793974 non-null  object        \n 11  IN_length_text            791473 non-null  object        \n 12  IN_tons                   796755 non-null  float64       \n 13  SO_requested_date         120159 non-null  datetime64[ns]\n 14  SO_confirmed_date         120159 non-null  datetime64[ns]\n 15  SO_plan_goods_issue_date  120159 non-null  datetime64[ns]\n 16  SO_sku                    120159 non-null  object        \n 17  SO_material_description   120159 non-null  object        \n 18  SO_order_qty_sales_units  120159 non-null  float64       \n 19  SO_confirmed_qty          120159 non-null  float64       \n 20  SO_sales_uom              120159 non-null  object        \n 21  SO_item_status            120159 non-null  object        \ndtypes: category(1), datetime64[ns](5), float64(3), object(13)\nmemory usage: 141.1+ MB\n"
    }
   ],
   "source": [
    "merge1.info()"
   ]
  },
  {
   "cell_type": "code",
   "execution_count": 124,
   "metadata": {},
   "outputs": [
    {
     "output_type": "execute_result",
     "data": {
      "text/plain": "  date_index IN_calendar_day     IN_sku    IN_material_description  \\\n0 2016-01-01             NaT        NaN                        NaN   \n1 2016-01-02             NaT        NaN                        NaN   \n2 2016-01-03      2016-01-03  106020238  C 10X15.3# GGMULTI 20'00\"   \n3 2016-01-03      2016-01-03  106020239  C 10X15.3# GGMULTI 40'00\"   \n4 2016-01-03      2016-01-03  106020242  C 10X15.3# GGMULTI 50'00\"   \n\n  IN_material_type IN_strategy                               IN_ph IN_shape  \\\n0              NaN         NaN                                 NaN      NaN   \n1              NaN         NaN                                 NaN      NaN   \n2             ZERT         MTS  LS-Mills-Mer-Mer-Strc A&C-Channels  SHAPE_C   \n3             ZERT         MTS  LS-Mills-Mer-Mer-Strc A&C-Channels  SHAPE_C   \n4             ZERT         MTS  LS-Mills-Mer-Mer-Strc A&C-Channels  SHAPE_C   \n\n  IN_block     IN_size  ...  IN_tons SO_requested_date  SO_confirmed_date  \\\n0      NaN         NaN  ...      NaN               NaT                NaT   \n1      NaN         NaN  ...      NaN               NaT                NaT   \n2  10\" CHN  10 X 15.3#  ...  200.736               NaT                NaT   \n3  10\" CHN  10 X 15.3#  ...  352.206               NaT                NaT   \n4  10\" CHN  10 X 15.3#  ...   99.450               NaT                NaT   \n\n  SO_plan_goods_issue_date SO_sku SO_material_description  \\\n0                      NaT    NaN                     NaN   \n1                      NaT    NaN                     NaN   \n2                      NaT    NaN                     NaN   \n3                      NaT    NaN                     NaN   \n4                      NaT    NaN                     NaN   \n\n  SO_order_qty_sales_units SO_confirmed_qty  SO_sales_uom  SO_item_status  \n0                      NaN              NaN           NaN             NaN  \n1                      NaN              NaN           NaN             NaN  \n2                      NaN              NaN           NaN             NaN  \n3                      NaN              NaN           NaN             NaN  \n4                      NaN              NaN           NaN             NaN  \n\n[5 rows x 22 columns]",
      "text/html": "<div>\n<style scoped>\n    .dataframe tbody tr th:only-of-type {\n        vertical-align: middle;\n    }\n\n    .dataframe tbody tr th {\n        vertical-align: top;\n    }\n\n    .dataframe thead th {\n        text-align: right;\n    }\n</style>\n<table border=\"1\" class=\"dataframe\">\n  <thead>\n    <tr style=\"text-align: right;\">\n      <th></th>\n      <th>date_index</th>\n      <th>IN_calendar_day</th>\n      <th>IN_sku</th>\n      <th>IN_material_description</th>\n      <th>IN_material_type</th>\n      <th>IN_strategy</th>\n      <th>IN_ph</th>\n      <th>IN_shape</th>\n      <th>IN_block</th>\n      <th>IN_size</th>\n      <th>...</th>\n      <th>IN_tons</th>\n      <th>SO_requested_date</th>\n      <th>SO_confirmed_date</th>\n      <th>SO_plan_goods_issue_date</th>\n      <th>SO_sku</th>\n      <th>SO_material_description</th>\n      <th>SO_order_qty_sales_units</th>\n      <th>SO_confirmed_qty</th>\n      <th>SO_sales_uom</th>\n      <th>SO_item_status</th>\n    </tr>\n  </thead>\n  <tbody>\n    <tr>\n      <th>0</th>\n      <td>2016-01-01</td>\n      <td>NaT</td>\n      <td>NaN</td>\n      <td>NaN</td>\n      <td>NaN</td>\n      <td>NaN</td>\n      <td>NaN</td>\n      <td>NaN</td>\n      <td>NaN</td>\n      <td>NaN</td>\n      <td>...</td>\n      <td>NaN</td>\n      <td>NaT</td>\n      <td>NaT</td>\n      <td>NaT</td>\n      <td>NaN</td>\n      <td>NaN</td>\n      <td>NaN</td>\n      <td>NaN</td>\n      <td>NaN</td>\n      <td>NaN</td>\n    </tr>\n    <tr>\n      <th>1</th>\n      <td>2016-01-02</td>\n      <td>NaT</td>\n      <td>NaN</td>\n      <td>NaN</td>\n      <td>NaN</td>\n      <td>NaN</td>\n      <td>NaN</td>\n      <td>NaN</td>\n      <td>NaN</td>\n      <td>NaN</td>\n      <td>...</td>\n      <td>NaN</td>\n      <td>NaT</td>\n      <td>NaT</td>\n      <td>NaT</td>\n      <td>NaN</td>\n      <td>NaN</td>\n      <td>NaN</td>\n      <td>NaN</td>\n      <td>NaN</td>\n      <td>NaN</td>\n    </tr>\n    <tr>\n      <th>2</th>\n      <td>2016-01-03</td>\n      <td>2016-01-03</td>\n      <td>106020238</td>\n      <td>C 10X15.3# GGMULTI 20'00\"</td>\n      <td>ZERT</td>\n      <td>MTS</td>\n      <td>LS-Mills-Mer-Mer-Strc A&amp;C-Channels</td>\n      <td>SHAPE_C</td>\n      <td>10\" CHN</td>\n      <td>10 X 15.3#</td>\n      <td>...</td>\n      <td>200.736</td>\n      <td>NaT</td>\n      <td>NaT</td>\n      <td>NaT</td>\n      <td>NaN</td>\n      <td>NaN</td>\n      <td>NaN</td>\n      <td>NaN</td>\n      <td>NaN</td>\n      <td>NaN</td>\n    </tr>\n    <tr>\n      <th>3</th>\n      <td>2016-01-03</td>\n      <td>2016-01-03</td>\n      <td>106020239</td>\n      <td>C 10X15.3# GGMULTI 40'00\"</td>\n      <td>ZERT</td>\n      <td>MTS</td>\n      <td>LS-Mills-Mer-Mer-Strc A&amp;C-Channels</td>\n      <td>SHAPE_C</td>\n      <td>10\" CHN</td>\n      <td>10 X 15.3#</td>\n      <td>...</td>\n      <td>352.206</td>\n      <td>NaT</td>\n      <td>NaT</td>\n      <td>NaT</td>\n      <td>NaN</td>\n      <td>NaN</td>\n      <td>NaN</td>\n      <td>NaN</td>\n      <td>NaN</td>\n      <td>NaN</td>\n    </tr>\n    <tr>\n      <th>4</th>\n      <td>2016-01-03</td>\n      <td>2016-01-03</td>\n      <td>106020242</td>\n      <td>C 10X15.3# GGMULTI 50'00\"</td>\n      <td>ZERT</td>\n      <td>MTS</td>\n      <td>LS-Mills-Mer-Mer-Strc A&amp;C-Channels</td>\n      <td>SHAPE_C</td>\n      <td>10\" CHN</td>\n      <td>10 X 15.3#</td>\n      <td>...</td>\n      <td>99.450</td>\n      <td>NaT</td>\n      <td>NaT</td>\n      <td>NaT</td>\n      <td>NaN</td>\n      <td>NaN</td>\n      <td>NaN</td>\n      <td>NaN</td>\n      <td>NaN</td>\n      <td>NaN</td>\n    </tr>\n  </tbody>\n</table>\n<p>5 rows × 22 columns</p>\n</div>"
     },
     "metadata": {},
     "execution_count": 124
    }
   ],
   "source": [
    "merge1.head(5)"
   ]
  },
  {
   "cell_type": "code",
   "execution_count": 125,
   "metadata": {},
   "outputs": [
    {
     "output_type": "execute_result",
     "data": {
      "text/plain": "       date_index IN_calendar_day IN_sku IN_material_description  \\\n798737        NaT             NaT    NaN                     NaN   \n798749        NaT             NaT    NaN                     NaN   \n823129        NaT             NaT    NaN                     NaN   \n831308        NaT             NaT    NaN                     NaN   \n830242        NaT             NaT    NaN                     NaN   \n830365        NaT             NaT    NaN                     NaN   \n805787        NaT             NaT    NaN                     NaN   \n804154        NaT             NaT    NaN                     NaN   \n823217        NaT             NaT    NaN                     NaN   \n819213        NaT             NaT    NaN                     NaN   \n822830        NaT             NaT    NaN                     NaN   \n814965        NaT             NaT    NaN                     NaN   \n817047        NaT             NaT    NaN                     NaN   \n814511        NaT             NaT    NaN                     NaN   \n831970        NaT             NaT    NaN                     NaN   \n831151        NaT             NaT    NaN                     NaN   \n805730        NaT             NaT    NaN                     NaN   \n809496        NaT             NaT    NaN                     NaN   \n809357        NaT             NaT    NaN                     NaN   \n826120        NaT             NaT    NaN                     NaN   \n\n       IN_material_type IN_strategy IN_ph IN_shape IN_block IN_size  ...  \\\n798737              NaN         NaN   NaN      NaN      NaN     NaN  ...   \n798749              NaN         NaN   NaN      NaN      NaN     NaN  ...   \n823129              NaN         NaN   NaN      NaN      NaN     NaN  ...   \n831308              NaN         NaN   NaN      NaN      NaN     NaN  ...   \n830242              NaN         NaN   NaN      NaN      NaN     NaN  ...   \n830365              NaN         NaN   NaN      NaN      NaN     NaN  ...   \n805787              NaN         NaN   NaN      NaN      NaN     NaN  ...   \n804154              NaN         NaN   NaN      NaN      NaN     NaN  ...   \n823217              NaN         NaN   NaN      NaN      NaN     NaN  ...   \n819213              NaN         NaN   NaN      NaN      NaN     NaN  ...   \n822830              NaN         NaN   NaN      NaN      NaN     NaN  ...   \n814965              NaN         NaN   NaN      NaN      NaN     NaN  ...   \n817047              NaN         NaN   NaN      NaN      NaN     NaN  ...   \n814511              NaN         NaN   NaN      NaN      NaN     NaN  ...   \n831970              NaN         NaN   NaN      NaN      NaN     NaN  ...   \n831151              NaN         NaN   NaN      NaN      NaN     NaN  ...   \n805730              NaN         NaN   NaN      NaN      NaN     NaN  ...   \n809496              NaN         NaN   NaN      NaN      NaN     NaN  ...   \n809357              NaN         NaN   NaN      NaN      NaN     NaN  ...   \n826120              NaN         NaN   NaN      NaN      NaN     NaN  ...   \n\n       IN_tons SO_requested_date  SO_confirmed_date SO_plan_goods_issue_date  \\\n798737     NaN        2016-03-18         2016-03-18               2016-03-15   \n798749     NaN        2016-03-18         2016-03-18               2016-03-18   \n823129     NaN        2019-08-17         2019-09-27               2019-09-13   \n831308     NaN        2020-02-29         2020-05-01               2020-04-15   \n830242     NaN        2020-04-01         2020-04-21               2020-04-21   \n830365     NaN        1900-01-01         2020-04-23               2020-04-22   \n805787     NaN        2017-03-17         2017-03-17               2017-03-16   \n804154     NaN        2017-01-06         2017-01-06               2017-01-06   \n823217     NaN        2019-10-02         2019-10-02               2019-09-17   \n819213     NaN        2019-04-26         2019-04-26               2019-04-25   \n822830     NaN        2019-08-15         2019-09-13               2019-08-27   \n814965     NaN        2018-04-16         2018-05-25               2018-05-24   \n817047     NaN        2018-08-27         2018-11-16               2018-10-30   \n814511     NaN        2018-04-28         2018-04-28               2018-04-24   \n831970     NaN        2020-04-26         2020-05-06               2020-05-05   \n831151     NaN        2020-04-08         2020-04-30               2020-04-29   \n805730     NaN        2017-03-10         2017-03-10               2017-03-10   \n809496     NaN        2017-09-08         2017-09-08               2017-09-07   \n809357     NaN        2017-08-15         2017-08-26               2017-08-22   \n826120     NaN        2020-02-02         2020-02-15               2020-02-06   \n\n           SO_sku           SO_material_description SO_order_qty_sales_units  \\\n798737  106027353           C 6X8.2# GGMULTI 40'00\"                   4.9200   \n798749  109008152            F 3/8X6 GGMULTI 20'00\"                   8.9580   \n823129  109008342            F 3/8X2 GGMULTI 20'00\"                   4.9980   \n831308  106028775  L 2 1/2X2 1/2X1/4 GGMULTI 40'00\"                   5.1660   \n830242  106028454         L 3X3X5/16 GGMULTI 20'00\"                   3.0500   \n830365  106028570          L 3X3X1/2 GGMULTI 40'00\"                   9.4000   \n805787  106027308           C 3X4.1# GGMULTI 40'00\"                  11.8080   \n804154  106028445          L 3X3X3/8 GGMULTI 20'00\"                   8.6400   \n823217  106028223         C 7X14.75# GGMULTI 40'00\"                  18.8800   \n819213  106045868    C 5X6.7# A529-50 CE<.50 42'06\"                  25.6290   \n822830  109250326       F 5/16X1 3/4 GGMULTI 20'00\"                  15.6660   \n814965  109005405           F 1/2X10 GGMULTI 20'00\"                   2.2100   \n817047  109250362              SQ 1\" GGMULTI 20'00\"                   2.4480   \n814511  106028680      L 5X3 1/2X3/8 GGMULTI 20'00\"                   3.1200   \n831970  110001621              RB 30M 400W 18M 00CM                 164.8260   \n831151  110001535              RB 15M 400W 18M 00CM                  44.8550   \n805730  106029499          L 5X3X3/8 GGMULTI 20'00\"                   2.9400   \n809496  106021716          C 8X11.5# GGMULTI 40'00\"                  41.4000   \n809357  106257405          L 4X4X1/4 GGMULTI 42'00\"                  26.6115   \n826120  106027415           C 5X6.7# GGMULTI 40'00\"                   4.8240   \n\n       SO_confirmed_qty  SO_sales_uom        SO_item_status  \n798737           4.9200           TON  Completely Processed  \n798749           8.9580           TON  Completely Processed  \n823129           4.9980           TON  Completely Processed  \n831308           5.1660           TON  Completely Processed  \n830242           3.0500           TON     Not Yet Processed  \n830365           9.4000           TON     Not Yet Processed  \n805787          11.8080           TON  Completely Processed  \n804154           8.6400           TON  Completely Processed  \n823217          18.8800           TON  Completely Processed  \n819213          25.6290           TON  Completely Processed  \n822830          15.6660           TON  Completely Processed  \n814965           2.2100           TON  Completely Processed  \n817047           2.4480           TON  Completely Processed  \n814511           3.1200           TON  Completely Processed  \n831970         164.8260           TON     Not Yet Processed  \n831151          44.8550           TON  Completely Processed  \n805730           2.9400           TON  Completely Processed  \n809496          41.4000           TON  Completely Processed  \n809357          26.6115           TON  Completely Processed  \n826120           4.8240           TON  Completely Processed  \n\n[20 rows x 22 columns]",
      "text/html": "<div>\n<style scoped>\n    .dataframe tbody tr th:only-of-type {\n        vertical-align: middle;\n    }\n\n    .dataframe tbody tr th {\n        vertical-align: top;\n    }\n\n    .dataframe thead th {\n        text-align: right;\n    }\n</style>\n<table border=\"1\" class=\"dataframe\">\n  <thead>\n    <tr style=\"text-align: right;\">\n      <th></th>\n      <th>date_index</th>\n      <th>IN_calendar_day</th>\n      <th>IN_sku</th>\n      <th>IN_material_description</th>\n      <th>IN_material_type</th>\n      <th>IN_strategy</th>\n      <th>IN_ph</th>\n      <th>IN_shape</th>\n      <th>IN_block</th>\n      <th>IN_size</th>\n      <th>...</th>\n      <th>IN_tons</th>\n      <th>SO_requested_date</th>\n      <th>SO_confirmed_date</th>\n      <th>SO_plan_goods_issue_date</th>\n      <th>SO_sku</th>\n      <th>SO_material_description</th>\n      <th>SO_order_qty_sales_units</th>\n      <th>SO_confirmed_qty</th>\n      <th>SO_sales_uom</th>\n      <th>SO_item_status</th>\n    </tr>\n  </thead>\n  <tbody>\n    <tr>\n      <th>798737</th>\n      <td>NaT</td>\n      <td>NaT</td>\n      <td>NaN</td>\n      <td>NaN</td>\n      <td>NaN</td>\n      <td>NaN</td>\n      <td>NaN</td>\n      <td>NaN</td>\n      <td>NaN</td>\n      <td>NaN</td>\n      <td>...</td>\n      <td>NaN</td>\n      <td>2016-03-18</td>\n      <td>2016-03-18</td>\n      <td>2016-03-15</td>\n      <td>106027353</td>\n      <td>C 6X8.2# GGMULTI 40'00\"</td>\n      <td>4.9200</td>\n      <td>4.9200</td>\n      <td>TON</td>\n      <td>Completely Processed</td>\n    </tr>\n    <tr>\n      <th>798749</th>\n      <td>NaT</td>\n      <td>NaT</td>\n      <td>NaN</td>\n      <td>NaN</td>\n      <td>NaN</td>\n      <td>NaN</td>\n      <td>NaN</td>\n      <td>NaN</td>\n      <td>NaN</td>\n      <td>NaN</td>\n      <td>...</td>\n      <td>NaN</td>\n      <td>2016-03-18</td>\n      <td>2016-03-18</td>\n      <td>2016-03-18</td>\n      <td>109008152</td>\n      <td>F 3/8X6 GGMULTI 20'00\"</td>\n      <td>8.9580</td>\n      <td>8.9580</td>\n      <td>TON</td>\n      <td>Completely Processed</td>\n    </tr>\n    <tr>\n      <th>823129</th>\n      <td>NaT</td>\n      <td>NaT</td>\n      <td>NaN</td>\n      <td>NaN</td>\n      <td>NaN</td>\n      <td>NaN</td>\n      <td>NaN</td>\n      <td>NaN</td>\n      <td>NaN</td>\n      <td>NaN</td>\n      <td>...</td>\n      <td>NaN</td>\n      <td>2019-08-17</td>\n      <td>2019-09-27</td>\n      <td>2019-09-13</td>\n      <td>109008342</td>\n      <td>F 3/8X2 GGMULTI 20'00\"</td>\n      <td>4.9980</td>\n      <td>4.9980</td>\n      <td>TON</td>\n      <td>Completely Processed</td>\n    </tr>\n    <tr>\n      <th>831308</th>\n      <td>NaT</td>\n      <td>NaT</td>\n      <td>NaN</td>\n      <td>NaN</td>\n      <td>NaN</td>\n      <td>NaN</td>\n      <td>NaN</td>\n      <td>NaN</td>\n      <td>NaN</td>\n      <td>NaN</td>\n      <td>...</td>\n      <td>NaN</td>\n      <td>2020-02-29</td>\n      <td>2020-05-01</td>\n      <td>2020-04-15</td>\n      <td>106028775</td>\n      <td>L 2 1/2X2 1/2X1/4 GGMULTI 40'00\"</td>\n      <td>5.1660</td>\n      <td>5.1660</td>\n      <td>TON</td>\n      <td>Completely Processed</td>\n    </tr>\n    <tr>\n      <th>830242</th>\n      <td>NaT</td>\n      <td>NaT</td>\n      <td>NaN</td>\n      <td>NaN</td>\n      <td>NaN</td>\n      <td>NaN</td>\n      <td>NaN</td>\n      <td>NaN</td>\n      <td>NaN</td>\n      <td>NaN</td>\n      <td>...</td>\n      <td>NaN</td>\n      <td>2020-04-01</td>\n      <td>2020-04-21</td>\n      <td>2020-04-21</td>\n      <td>106028454</td>\n      <td>L 3X3X5/16 GGMULTI 20'00\"</td>\n      <td>3.0500</td>\n      <td>3.0500</td>\n      <td>TON</td>\n      <td>Not Yet Processed</td>\n    </tr>\n    <tr>\n      <th>830365</th>\n      <td>NaT</td>\n      <td>NaT</td>\n      <td>NaN</td>\n      <td>NaN</td>\n      <td>NaN</td>\n      <td>NaN</td>\n      <td>NaN</td>\n      <td>NaN</td>\n      <td>NaN</td>\n      <td>NaN</td>\n      <td>...</td>\n      <td>NaN</td>\n      <td>1900-01-01</td>\n      <td>2020-04-23</td>\n      <td>2020-04-22</td>\n      <td>106028570</td>\n      <td>L 3X3X1/2 GGMULTI 40'00\"</td>\n      <td>9.4000</td>\n      <td>9.4000</td>\n      <td>TON</td>\n      <td>Not Yet Processed</td>\n    </tr>\n    <tr>\n      <th>805787</th>\n      <td>NaT</td>\n      <td>NaT</td>\n      <td>NaN</td>\n      <td>NaN</td>\n      <td>NaN</td>\n      <td>NaN</td>\n      <td>NaN</td>\n      <td>NaN</td>\n      <td>NaN</td>\n      <td>NaN</td>\n      <td>...</td>\n      <td>NaN</td>\n      <td>2017-03-17</td>\n      <td>2017-03-17</td>\n      <td>2017-03-16</td>\n      <td>106027308</td>\n      <td>C 3X4.1# GGMULTI 40'00\"</td>\n      <td>11.8080</td>\n      <td>11.8080</td>\n      <td>TON</td>\n      <td>Completely Processed</td>\n    </tr>\n    <tr>\n      <th>804154</th>\n      <td>NaT</td>\n      <td>NaT</td>\n      <td>NaN</td>\n      <td>NaN</td>\n      <td>NaN</td>\n      <td>NaN</td>\n      <td>NaN</td>\n      <td>NaN</td>\n      <td>NaN</td>\n      <td>NaN</td>\n      <td>...</td>\n      <td>NaN</td>\n      <td>2017-01-06</td>\n      <td>2017-01-06</td>\n      <td>2017-01-06</td>\n      <td>106028445</td>\n      <td>L 3X3X3/8 GGMULTI 20'00\"</td>\n      <td>8.6400</td>\n      <td>8.6400</td>\n      <td>TON</td>\n      <td>Completely Processed</td>\n    </tr>\n    <tr>\n      <th>823217</th>\n      <td>NaT</td>\n      <td>NaT</td>\n      <td>NaN</td>\n      <td>NaN</td>\n      <td>NaN</td>\n      <td>NaN</td>\n      <td>NaN</td>\n      <td>NaN</td>\n      <td>NaN</td>\n      <td>NaN</td>\n      <td>...</td>\n      <td>NaN</td>\n      <td>2019-10-02</td>\n      <td>2019-10-02</td>\n      <td>2019-09-17</td>\n      <td>106028223</td>\n      <td>C 7X14.75# GGMULTI 40'00\"</td>\n      <td>18.8800</td>\n      <td>18.8800</td>\n      <td>TON</td>\n      <td>Completely Processed</td>\n    </tr>\n    <tr>\n      <th>819213</th>\n      <td>NaT</td>\n      <td>NaT</td>\n      <td>NaN</td>\n      <td>NaN</td>\n      <td>NaN</td>\n      <td>NaN</td>\n      <td>NaN</td>\n      <td>NaN</td>\n      <td>NaN</td>\n      <td>NaN</td>\n      <td>...</td>\n      <td>NaN</td>\n      <td>2019-04-26</td>\n      <td>2019-04-26</td>\n      <td>2019-04-25</td>\n      <td>106045868</td>\n      <td>C 5X6.7# A529-50 CE&lt;.50 42'06\"</td>\n      <td>25.6290</td>\n      <td>25.6290</td>\n      <td>TON</td>\n      <td>Completely Processed</td>\n    </tr>\n    <tr>\n      <th>822830</th>\n      <td>NaT</td>\n      <td>NaT</td>\n      <td>NaN</td>\n      <td>NaN</td>\n      <td>NaN</td>\n      <td>NaN</td>\n      <td>NaN</td>\n      <td>NaN</td>\n      <td>NaN</td>\n      <td>NaN</td>\n      <td>...</td>\n      <td>NaN</td>\n      <td>2019-08-15</td>\n      <td>2019-09-13</td>\n      <td>2019-08-27</td>\n      <td>109250326</td>\n      <td>F 5/16X1 3/4 GGMULTI 20'00\"</td>\n      <td>15.6660</td>\n      <td>15.6660</td>\n      <td>TON</td>\n      <td>Completely Processed</td>\n    </tr>\n    <tr>\n      <th>814965</th>\n      <td>NaT</td>\n      <td>NaT</td>\n      <td>NaN</td>\n      <td>NaN</td>\n      <td>NaN</td>\n      <td>NaN</td>\n      <td>NaN</td>\n      <td>NaN</td>\n      <td>NaN</td>\n      <td>NaN</td>\n      <td>...</td>\n      <td>NaN</td>\n      <td>2018-04-16</td>\n      <td>2018-05-25</td>\n      <td>2018-05-24</td>\n      <td>109005405</td>\n      <td>F 1/2X10 GGMULTI 20'00\"</td>\n      <td>2.2100</td>\n      <td>2.2100</td>\n      <td>TON</td>\n      <td>Completely Processed</td>\n    </tr>\n    <tr>\n      <th>817047</th>\n      <td>NaT</td>\n      <td>NaT</td>\n      <td>NaN</td>\n      <td>NaN</td>\n      <td>NaN</td>\n      <td>NaN</td>\n      <td>NaN</td>\n      <td>NaN</td>\n      <td>NaN</td>\n      <td>NaN</td>\n      <td>...</td>\n      <td>NaN</td>\n      <td>2018-08-27</td>\n      <td>2018-11-16</td>\n      <td>2018-10-30</td>\n      <td>109250362</td>\n      <td>SQ 1\" GGMULTI 20'00\"</td>\n      <td>2.4480</td>\n      <td>2.4480</td>\n      <td>TON</td>\n      <td>Completely Processed</td>\n    </tr>\n    <tr>\n      <th>814511</th>\n      <td>NaT</td>\n      <td>NaT</td>\n      <td>NaN</td>\n      <td>NaN</td>\n      <td>NaN</td>\n      <td>NaN</td>\n      <td>NaN</td>\n      <td>NaN</td>\n      <td>NaN</td>\n      <td>NaN</td>\n      <td>...</td>\n      <td>NaN</td>\n      <td>2018-04-28</td>\n      <td>2018-04-28</td>\n      <td>2018-04-24</td>\n      <td>106028680</td>\n      <td>L 5X3 1/2X3/8 GGMULTI 20'00\"</td>\n      <td>3.1200</td>\n      <td>3.1200</td>\n      <td>TON</td>\n      <td>Completely Processed</td>\n    </tr>\n    <tr>\n      <th>831970</th>\n      <td>NaT</td>\n      <td>NaT</td>\n      <td>NaN</td>\n      <td>NaN</td>\n      <td>NaN</td>\n      <td>NaN</td>\n      <td>NaN</td>\n      <td>NaN</td>\n      <td>NaN</td>\n      <td>NaN</td>\n      <td>...</td>\n      <td>NaN</td>\n      <td>2020-04-26</td>\n      <td>2020-05-06</td>\n      <td>2020-05-05</td>\n      <td>110001621</td>\n      <td>RB 30M 400W 18M 00CM</td>\n      <td>164.8260</td>\n      <td>164.8260</td>\n      <td>TON</td>\n      <td>Not Yet Processed</td>\n    </tr>\n    <tr>\n      <th>831151</th>\n      <td>NaT</td>\n      <td>NaT</td>\n      <td>NaN</td>\n      <td>NaN</td>\n      <td>NaN</td>\n      <td>NaN</td>\n      <td>NaN</td>\n      <td>NaN</td>\n      <td>NaN</td>\n      <td>NaN</td>\n      <td>...</td>\n      <td>NaN</td>\n      <td>2020-04-08</td>\n      <td>2020-04-30</td>\n      <td>2020-04-29</td>\n      <td>110001535</td>\n      <td>RB 15M 400W 18M 00CM</td>\n      <td>44.8550</td>\n      <td>44.8550</td>\n      <td>TON</td>\n      <td>Completely Processed</td>\n    </tr>\n    <tr>\n      <th>805730</th>\n      <td>NaT</td>\n      <td>NaT</td>\n      <td>NaN</td>\n      <td>NaN</td>\n      <td>NaN</td>\n      <td>NaN</td>\n      <td>NaN</td>\n      <td>NaN</td>\n      <td>NaN</td>\n      <td>NaN</td>\n      <td>...</td>\n      <td>NaN</td>\n      <td>2017-03-10</td>\n      <td>2017-03-10</td>\n      <td>2017-03-10</td>\n      <td>106029499</td>\n      <td>L 5X3X3/8 GGMULTI 20'00\"</td>\n      <td>2.9400</td>\n      <td>2.9400</td>\n      <td>TON</td>\n      <td>Completely Processed</td>\n    </tr>\n    <tr>\n      <th>809496</th>\n      <td>NaT</td>\n      <td>NaT</td>\n      <td>NaN</td>\n      <td>NaN</td>\n      <td>NaN</td>\n      <td>NaN</td>\n      <td>NaN</td>\n      <td>NaN</td>\n      <td>NaN</td>\n      <td>NaN</td>\n      <td>...</td>\n      <td>NaN</td>\n      <td>2017-09-08</td>\n      <td>2017-09-08</td>\n      <td>2017-09-07</td>\n      <td>106021716</td>\n      <td>C 8X11.5# GGMULTI 40'00\"</td>\n      <td>41.4000</td>\n      <td>41.4000</td>\n      <td>TON</td>\n      <td>Completely Processed</td>\n    </tr>\n    <tr>\n      <th>809357</th>\n      <td>NaT</td>\n      <td>NaT</td>\n      <td>NaN</td>\n      <td>NaN</td>\n      <td>NaN</td>\n      <td>NaN</td>\n      <td>NaN</td>\n      <td>NaN</td>\n      <td>NaN</td>\n      <td>NaN</td>\n      <td>...</td>\n      <td>NaN</td>\n      <td>2017-08-15</td>\n      <td>2017-08-26</td>\n      <td>2017-08-22</td>\n      <td>106257405</td>\n      <td>L 4X4X1/4 GGMULTI 42'00\"</td>\n      <td>26.6115</td>\n      <td>26.6115</td>\n      <td>TON</td>\n      <td>Completely Processed</td>\n    </tr>\n    <tr>\n      <th>826120</th>\n      <td>NaT</td>\n      <td>NaT</td>\n      <td>NaN</td>\n      <td>NaN</td>\n      <td>NaN</td>\n      <td>NaN</td>\n      <td>NaN</td>\n      <td>NaN</td>\n      <td>NaN</td>\n      <td>NaN</td>\n      <td>...</td>\n      <td>NaN</td>\n      <td>2020-02-02</td>\n      <td>2020-02-15</td>\n      <td>2020-02-06</td>\n      <td>106027415</td>\n      <td>C 5X6.7# GGMULTI 40'00\"</td>\n      <td>4.8240</td>\n      <td>4.8240</td>\n      <td>TON</td>\n      <td>Completely Processed</td>\n    </tr>\n  </tbody>\n</table>\n<p>20 rows × 22 columns</p>\n</div>"
     },
     "metadata": {},
     "execution_count": 125
    }
   ],
   "source": [
    "merge1[(merge1[\"date_index\"].isna()) & (merge1[\"SO_plan_goods_issue_date\"].notna())].sample(20)"
   ]
  },
  {
   "cell_type": "code",
   "execution_count": 126,
   "metadata": {},
   "outputs": [
    {
     "output_type": "execute_result",
     "data": {
      "text/plain": "14430"
     },
     "metadata": {},
     "execution_count": 126
    }
   ],
   "source": [
    "indexed_inv[indexed_inv[\"IN_sku\"] == 106022569].size"
   ]
  },
  {
   "cell_type": "code",
   "execution_count": 127,
   "metadata": {},
   "outputs": [
    {
     "output_type": "execute_result",
     "data": {
      "text/plain": "0"
     },
     "metadata": {},
     "execution_count": 127
    }
   ],
   "source": [
    "indexed_inv[indexed_inv[\"date_index\"] == pd.Timestamp(2016-1-2)].size"
   ]
  },
  {
   "cell_type": "markdown",
   "metadata": {},
   "source": [
    "## Second Attempt"
   ]
  },
  {
   "cell_type": "code",
   "execution_count": 128,
   "metadata": {},
   "outputs": [
    {
     "output_type": "stream",
     "name": "stdout",
     "text": "<class 'pandas.core.frame.DataFrame'>\nInt64Index: 814243 entries, 0 to 880347\nData columns (total 5 columns):\n #   Column        Non-Null Count   Dtype         \n---  ------        --------------   -----         \n 0   calendar_day  814243 non-null  datetime64[ns]\n 1   sku           814243 non-null  int64         \n 2   size          811071 non-null  object        \n 3   block         807619 non-null  object        \n 4   ph            813878 non-null  object        \ndtypes: datetime64[ns](1), int64(1), object(3)\nmemory usage: 37.3+ MB\n"
    }
   ],
   "source": [
    "master.info()"
   ]
  },
  {
   "cell_type": "code",
   "execution_count": 129,
   "metadata": {},
   "outputs": [
    {
     "output_type": "stream",
     "name": "stdout",
     "text": "<class 'pandas.core.frame.DataFrame'>\nInt64Index: 774593 entries, 16 to 779020\nData columns (total 12 columns):\n #   Column                   Non-Null Count   Dtype         \n---  ------                   --------------   -----         \n 0   IN_calendar_day          774593 non-null  datetime64[ns]\n 1   IN_sku                   774593 non-null  object        \n 2   IN_material_description  774593 non-null  object        \n 3   IN_material_type         774593 non-null  object        \n 4   IN_strategy              767339 non-null  category      \n 5   IN_ph                    774593 non-null  object        \n 6   IN_shape                 771786 non-null  object        \n 7   IN_block                 769246 non-null  object        \n 8   IN_size                  771786 non-null  object        \n 9   IN_steel_grade           771786 non-null  object        \n 10  IN_length_text           769268 non-null  object        \n 11  IN_tons                  774593 non-null  float64       \ndtypes: category(1), datetime64[ns](1), float64(1), object(9)\nmemory usage: 71.7+ MB\n"
    }
   ],
   "source": [
    "inv_reduced2.info()"
   ]
  },
  {
   "cell_type": "code",
   "execution_count": 130,
   "metadata": {},
   "outputs": [
    {
     "output_type": "execute_result",
     "data": {
      "text/plain": "Index(['IN_calendar_day', 'IN_sku', 'IN_material_description',\n       'IN_material_type', 'IN_strategy', 'IN_ph', 'IN_shape', 'IN_block',\n       'IN_size', 'IN_steel_grade', 'IN_length_text', 'IN_tons'],\n      dtype='object')"
     },
     "metadata": {},
     "execution_count": 130
    }
   ],
   "source": [
    "inv_reduced2.columns"
   ]
  },
  {
   "cell_type": "code",
   "execution_count": 131,
   "metadata": {},
   "outputs": [],
   "source": [
    "inv_reduced2 = inv_reduced2[['IN_calendar_day', 'IN_sku', 'IN_material_description',\n",
    "                            'IN_material_type', 'IN_strategy', 'IN_shape', 'IN_steel_grade',\n",
    "                            'IN_length_text', 'IN_tons']]"
   ]
  },
  {
   "cell_type": "code",
   "execution_count": 132,
   "metadata": {},
   "outputs": [
    {
     "output_type": "stream",
     "name": "stdout",
     "text": "<class 'pandas.core.frame.DataFrame'>\nInt64Index: 814243 entries, 0 to 814242\nData columns (total 14 columns):\n #   Column                   Non-Null Count   Dtype         \n---  ------                   --------------   -----         \n 0   calendar_day             814243 non-null  datetime64[ns]\n 1   sku                      814243 non-null  object        \n 2   size                     811071 non-null  object        \n 3   block                    807619 non-null  object        \n 4   ph                       813878 non-null  object        \n 5   IN_calendar_day          774593 non-null  datetime64[ns]\n 6   IN_sku                   774593 non-null  object        \n 7   IN_material_description  774593 non-null  object        \n 8   IN_material_type         774593 non-null  object        \n 9   IN_strategy              767339 non-null  category      \n 10  IN_shape                 771786 non-null  object        \n 11  IN_steel_grade           771786 non-null  object        \n 12  IN_length_text           769268 non-null  object        \n 13  IN_tons                  774593 non-null  float64       \ndtypes: category(1), datetime64[ns](2), float64(1), object(10)\nmemory usage: 87.7+ MB\n"
    }
   ],
   "source": [
    "left_cols = [\"calendar_day\",\"sku\"]\n",
    "right_cols = [\"IN_calendar_day\", \"IN_sku\"]\n",
    "\n",
    "merge2 = master.merge(inv_reduced2, how=\"left\", left_on=left_cols, right_on=right_cols, validate=\"1:1\")\n",
    "merge2.info()"
   ]
  },
  {
   "cell_type": "markdown",
   "metadata": {},
   "source": [
    "### Need to aggregate Sales before merging"
   ]
  },
  {
   "cell_type": "code",
   "execution_count": 133,
   "metadata": {},
   "outputs": [
    {
     "output_type": "stream",
     "name": "stdout",
     "text": "<class 'pandas.core.frame.DataFrame'>\nInt64Index: 120159 entries, 68824 to 188982\nData columns (total 9 columns):\n #   Column                    Non-Null Count   Dtype         \n---  ------                    --------------   -----         \n 0   SO_requested_date         120159 non-null  datetime64[ns]\n 1   SO_confirmed_date         120159 non-null  datetime64[ns]\n 2   SO_plan_goods_issue_date  120159 non-null  datetime64[ns]\n 3   SO_sku                    120159 non-null  object        \n 4   SO_material_description   120159 non-null  object        \n 5   SO_order_qty_sales_units  120159 non-null  float64       \n 6   SO_confirmed_qty          120159 non-null  float64       \n 7   SO_sales_uom              120159 non-null  object        \n 8   SO_item_status            120159 non-null  object        \ndtypes: datetime64[ns](3), float64(2), object(4)\nmemory usage: 9.2+ MB\n"
    }
   ],
   "source": [
    "order_reduced.info()"
   ]
  },
  {
   "cell_type": "code",
   "execution_count": 134,
   "metadata": {},
   "outputs": [
    {
     "output_type": "stream",
     "name": "stdout",
     "text": "<class 'pandas.core.frame.DataFrame'>\nRangeIndex: 77225 entries, 0 to 77224\nData columns (total 4 columns):\n #   Column                    Non-Null Count  Dtype         \n---  ------                    --------------  -----         \n 0   SO_confirmed_date         77225 non-null  datetime64[ns]\n 1   SO_sku                    77225 non-null  int64         \n 2   SO_order_qty_sales_units  77225 non-null  float64       \n 3   SO_confirmed_qty          77225 non-null  float64       \ndtypes: datetime64[ns](1), float64(2), int64(1)\nmemory usage: 2.4 MB\n"
    }
   ],
   "source": [
    "grouped_order = order_reduced.groupby([\"SO_confirmed_date\", \"SO_sku\"]).sum()\n",
    "grouped_order = grouped_order.reset_index()\n",
    "grouped_order.info()"
   ]
  },
  {
   "cell_type": "code",
   "execution_count": 135,
   "metadata": {},
   "outputs": [
    {
     "output_type": "stream",
     "name": "stdout",
     "text": "<class 'pandas.core.frame.DataFrame'>\nInt64Index: 814243 entries, 0 to 814242\nData columns (total 18 columns):\n #   Column                    Non-Null Count   Dtype         \n---  ------                    --------------   -----         \n 0   calendar_day              814243 non-null  datetime64[ns]\n 1   sku                       814243 non-null  object        \n 2   size                      811071 non-null  object        \n 3   block                     807619 non-null  object        \n 4   ph                        813878 non-null  object        \n 5   IN_calendar_day           774593 non-null  datetime64[ns]\n 6   IN_sku                    774593 non-null  object        \n 7   IN_material_description   774593 non-null  object        \n 8   IN_material_type          774593 non-null  object        \n 9   IN_strategy               767339 non-null  category      \n 10  IN_shape                  771786 non-null  object        \n 11  IN_steel_grade            771786 non-null  object        \n 12  IN_length_text            769268 non-null  object        \n 13  IN_tons                   774593 non-null  float64       \n 14  SO_confirmed_date         77225 non-null   datetime64[ns]\n 15  SO_sku                    77225 non-null   float64       \n 16  SO_order_qty_sales_units  77225 non-null   float64       \n 17  SO_confirmed_qty          77225 non-null   float64       \ndtypes: category(1), datetime64[ns](3), float64(4), object(10)\nmemory usage: 112.6+ MB\n"
    }
   ],
   "source": [
    "right_cols = [\"SO_confirmed_date\", \"SO_sku\"]\n",
    "\n",
    "merge3 = merge2.merge(grouped_order, how=\"left\", left_on=left_cols, right_on=right_cols, validate=\"1:1\")\n",
    "merge3.info()"
   ]
  },
  {
   "cell_type": "markdown",
   "metadata": {},
   "source": [
    "### Need to Aggregate Shipment before merge"
   ]
  },
  {
   "cell_type": "code",
   "execution_count": 136,
   "metadata": {},
   "outputs": [
    {
     "output_type": "stream",
     "name": "stdout",
     "text": "<class 'pandas.core.frame.DataFrame'>\nInt64Index: 131465 entries, 30378 to 21756\nData columns (total 15 columns):\n #   Column                   Non-Null Count   Dtype         \n---  ------                   --------------   -----         \n 0   SH_shipping_day          131465 non-null  datetime64[ns]\n 1   SH_block                 128423 non-null  object        \n 2   SH_strategy              131454 non-null  object        \n 3   SH_shape                 131454 non-null  object        \n 4   SH_size                  131454 non-null  object        \n 5   SH_div                   131465 non-null  object        \n 6   SH_sku                   131465 non-null  object        \n 7   SH_material_description  131465 non-null  object        \n 8   SH_shipment_tons         131465 non-null  float64       \n 9   SH_segment               128799 non-null  object        \n 10  SH_sold-to_party         131465 non-null  object        \n 11  SH_ship-to_party         131465 non-null  object        \n 12  SH_postal_code           131465 non-null  object        \n 13  SH_region_description    131465 non-null  object        \n 14  SH_country               131465 non-null  object        \ndtypes: datetime64[ns](1), float64(1), object(13)\nmemory usage: 16.0+ MB\n"
    }
   ],
   "source": [
    "ship_reduced.info()"
   ]
  },
  {
   "cell_type": "code",
   "execution_count": 137,
   "metadata": {},
   "outputs": [
    {
     "output_type": "execute_result",
     "data": {
      "text/plain": "NA - DISTRIBUTION     107260\nNA - REBAR             14004\nNA - CONSTRUCTION       4219\nNA - MANUFACTURING      3316\nName: SH_segment, dtype: int64"
     },
     "metadata": {},
     "execution_count": 137
    }
   ],
   "source": [
    "ship_reduced[\"SH_segment\"].value_counts()"
   ]
  },
  {
   "cell_type": "code",
   "execution_count": 138,
   "metadata": {},
   "outputs": [
    {
     "output_type": "stream",
     "name": "stdout",
     "text": "<class 'pandas.core.frame.DataFrame'>\nRangeIndex: 89182 entries, 0 to 89181\nData columns (total 3 columns):\n #   Column            Non-Null Count  Dtype         \n---  ------            --------------  -----         \n 0   SH_shipping_day   89182 non-null  datetime64[ns]\n 1   SH_sku            89182 non-null  int64         \n 2   SH_shipment_tons  89182 non-null  float64       \ndtypes: datetime64[ns](1), float64(1), int64(1)\nmemory usage: 2.0 MB\n"
    }
   ],
   "source": [
    "grouped_ship = ship_reduced.groupby([\"SH_shipping_day\",\"SH_sku\"]).sum()\n",
    "grouped_ship = grouped_ship.reset_index()\n",
    "grouped_ship.info()"
   ]
  },
  {
   "cell_type": "code",
   "execution_count": 139,
   "metadata": {},
   "outputs": [
    {
     "output_type": "stream",
     "name": "stdout",
     "text": "<class 'pandas.core.frame.DataFrame'>\nInt64Index: 814243 entries, 0 to 814242\nData columns (total 21 columns):\n #   Column                    Non-Null Count   Dtype         \n---  ------                    --------------   -----         \n 0   calendar_day              814243 non-null  datetime64[ns]\n 1   sku                       814243 non-null  object        \n 2   size                      811071 non-null  object        \n 3   block                     807619 non-null  object        \n 4   ph                        813878 non-null  object        \n 5   IN_calendar_day           774593 non-null  datetime64[ns]\n 6   IN_sku                    774593 non-null  object        \n 7   IN_material_description   774593 non-null  object        \n 8   IN_material_type          774593 non-null  object        \n 9   IN_strategy               767339 non-null  category      \n 10  IN_shape                  771786 non-null  object        \n 11  IN_steel_grade            771786 non-null  object        \n 12  IN_length_text            769268 non-null  object        \n 13  IN_tons                   774593 non-null  float64       \n 14  SO_confirmed_date         77225 non-null   datetime64[ns]\n 15  SO_sku                    77225 non-null   float64       \n 16  SO_order_qty_sales_units  77225 non-null   float64       \n 17  SO_confirmed_qty          77225 non-null   float64       \n 18  SH_shipping_day           89182 non-null   datetime64[ns]\n 19  SH_sku                    89182 non-null   float64       \n 20  SH_shipment_tons          89182 non-null   float64       \ndtypes: category(1), datetime64[ns](4), float64(6), object(10)\nmemory usage: 131.2+ MB\n"
    }
   ],
   "source": [
    "right_cols = [\"SH_shipping_day\", \"SH_sku\"]\n",
    "\n",
    "merge4 = merge3.merge(grouped_ship, how=\"left\", left_on=left_cols, right_on=right_cols, validate=\"1:1\")\n",
    "merge4.info()"
   ]
  },
  {
   "cell_type": "markdown",
   "metadata": {},
   "source": [
    "### Explore Prod for duplicates"
   ]
  },
  {
   "cell_type": "code",
   "execution_count": 140,
   "metadata": {},
   "outputs": [
    {
     "output_type": "stream",
     "name": "stdout",
     "text": "<class 'pandas.core.frame.DataFrame'>\nInt64Index: 9833 entries, 12098 to 13808\nData columns (total 12 columns):\n #   Column                             Non-Null Count  Dtype         \n---  ------                             --------------  -----         \n 0   PR_calendar_day                    9833 non-null   datetime64[ns]\n 1   PR_production_process              9833 non-null   category      \n 2   PR_production_process_description  9833 non-null   category      \n 3   PR_strategy                        9833 non-null   category      \n 4   PR_work_center                     8873 non-null   category      \n 5   PR_wc_description                  9833 non-null   category      \n 6   PR_block                           9828 non-null   object        \n 7   PR_shape                           9833 non-null   category      \n 8   PR_size                            9833 non-null   object        \n 9   PR_sku                             9833 non-null   object        \n 10  PR_material_description            9833 non-null   object        \n 11  PR_ton                             9833 non-null   int64         \ndtypes: category(6), datetime64[ns](1), int64(1), object(4)\nmemory usage: 596.2+ KB\n"
    }
   ],
   "source": [
    "prod_reduced.info()"
   ]
  },
  {
   "cell_type": "code",
   "execution_count": 141,
   "metadata": {},
   "outputs": [
    {
     "output_type": "stream",
     "name": "stdout",
     "text": "<class 'pandas.core.frame.DataFrame'>\nRangeIndex: 9740 entries, 0 to 9739\nData columns (total 3 columns):\n #   Column           Non-Null Count  Dtype         \n---  ------           --------------  -----         \n 0   PR_calendar_day  9740 non-null   datetime64[ns]\n 1   PR_sku           9740 non-null   int64         \n 2   PR_ton           9740 non-null   int64         \ndtypes: datetime64[ns](1), int64(2)\nmemory usage: 228.4 KB\n"
    }
   ],
   "source": [
    "grouped_prod = prod_reduced.groupby([\"PR_calendar_day\",\"PR_sku\"]).sum()\n",
    "grouped_prod = grouped_prod.reset_index()\n",
    "grouped_prod.info()"
   ]
  },
  {
   "cell_type": "code",
   "execution_count": 142,
   "metadata": {},
   "outputs": [
    {
     "output_type": "stream",
     "name": "stdout",
     "text": "<class 'pandas.core.frame.DataFrame'>\nInt64Index: 814243 entries, 0 to 814242\nData columns (total 24 columns):\n #   Column                    Non-Null Count   Dtype         \n---  ------                    --------------   -----         \n 0   calendar_day              814243 non-null  datetime64[ns]\n 1   sku                       814243 non-null  object        \n 2   size                      811071 non-null  object        \n 3   block                     807619 non-null  object        \n 4   ph                        813878 non-null  object        \n 5   IN_calendar_day           774593 non-null  datetime64[ns]\n 6   IN_sku                    774593 non-null  object        \n 7   IN_material_description   774593 non-null  object        \n 8   IN_material_type          774593 non-null  object        \n 9   IN_strategy               767339 non-null  category      \n 10  IN_shape                  771786 non-null  object        \n 11  IN_steel_grade            771786 non-null  object        \n 12  IN_length_text            769268 non-null  object        \n 13  IN_tons                   774593 non-null  float64       \n 14  SO_confirmed_date         77225 non-null   datetime64[ns]\n 15  SO_sku                    77225 non-null   float64       \n 16  SO_order_qty_sales_units  77225 non-null   float64       \n 17  SO_confirmed_qty          77225 non-null   float64       \n 18  SH_shipping_day           89182 non-null   datetime64[ns]\n 19  SH_sku                    89182 non-null   float64       \n 20  SH_shipment_tons          89182 non-null   float64       \n 21  PR_calendar_day           9740 non-null    datetime64[ns]\n 22  PR_sku                    9740 non-null    float64       \n 23  PR_ton                    9740 non-null    float64       \ndtypes: category(1), datetime64[ns](5), float64(8), object(10)\nmemory usage: 149.9+ MB\n"
    }
   ],
   "source": [
    "right_cols = [\"PR_calendar_day\", \"PR_sku\"]\n",
    "\n",
    "merge5 = merge4.merge(grouped_prod, how=\"left\", left_on=left_cols, right_on=right_cols, validate=\"1:1\")\n",
    "merge5.info()"
   ]
  },
  {
   "cell_type": "code",
   "execution_count": 143,
   "metadata": {},
   "outputs": [],
   "source": [
    "merge5 = merge5.drop([\"IN_sku\",\"IN_calendar_day\",\"SO_confirmed_date\",\"SO_sku\",\"SH_shipping_day\",\"SH_sku\",\"PR_calendar_day\",\"PR_sku\"], axis=1)"
   ]
  },
  {
   "cell_type": "code",
   "execution_count": 144,
   "metadata": {},
   "outputs": [
    {
     "output_type": "stream",
     "name": "stdout",
     "text": "<class 'pandas.core.frame.DataFrame'>\nInt64Index: 814243 entries, 0 to 814242\nData columns (total 16 columns):\n #   Column                    Non-Null Count   Dtype         \n---  ------                    --------------   -----         \n 0   calendar_day              814243 non-null  datetime64[ns]\n 1   sku                       814243 non-null  object        \n 2   size                      811071 non-null  object        \n 3   block                     807619 non-null  object        \n 4   ph                        813878 non-null  object        \n 5   IN_material_description   774593 non-null  object        \n 6   IN_material_type          774593 non-null  object        \n 7   IN_strategy               767339 non-null  category      \n 8   IN_shape                  771786 non-null  object        \n 9   IN_steel_grade            771786 non-null  object        \n 10  IN_length_text            769268 non-null  object        \n 11  IN_tons                   774593 non-null  float64       \n 12  SO_order_qty_sales_units  77225 non-null   float64       \n 13  SO_confirmed_qty          77225 non-null   float64       \n 14  SH_shipment_tons          89182 non-null   float64       \n 15  PR_ton                    9740 non-null    float64       \ndtypes: category(1), datetime64[ns](1), float64(5), object(9)\nmemory usage: 100.2+ MB\n"
    }
   ],
   "source": [
    "merge5.info()"
   ]
  },
  {
   "cell_type": "code",
   "execution_count": 145,
   "metadata": {},
   "outputs": [],
   "source": [
    "#saving merged dataframe\n",
    "#merge5.to_pickle(ser_path + \"merged.pkl\")"
   ]
  },
  {
   "cell_type": "code",
   "execution_count": 148,
   "metadata": {},
   "outputs": [
    {
     "output_type": "stream",
     "name": "stdout",
     "text": "<class 'pandas.core.frame.DataFrame'>\nInt64Index: 814243 entries, 0 to 814242\nData columns (total 16 columns):\n #   Column                    Non-Null Count   Dtype         \n---  ------                    --------------   -----         \n 0   calendar_day              814243 non-null  datetime64[ns]\n 1   sku                       814243 non-null  object        \n 2   size                      811071 non-null  object        \n 3   block                     807619 non-null  object        \n 4   ph                        813878 non-null  object        \n 5   IN_material_description   774593 non-null  object        \n 6   IN_material_type          774593 non-null  object        \n 7   IN_strategy               767339 non-null  category      \n 8   IN_shape                  771786 non-null  object        \n 9   IN_steel_grade            771786 non-null  object        \n 10  IN_length_text            769268 non-null  object        \n 11  IN_tons                   774593 non-null  float64       \n 12  SO_order_qty_sales_units  77225 non-null   float64       \n 13  SO_confirmed_qty          77225 non-null   float64       \n 14  SH_shipment_tons          89182 non-null   float64       \n 15  PR_ton                    9740 non-null    float64       \ndtypes: category(1), datetime64[ns](1), float64(5), object(9)\nmemory usage: 100.2+ MB\n"
    }
   ],
   "source": [
    "merged_df.info()"
   ]
  },
  {
   "cell_type": "markdown",
   "metadata": {},
   "source": [
    "# Still needs to fill missing holes in sizes, blocks, ph"
   ]
  },
  {
   "cell_type": "code",
   "execution_count": 149,
   "metadata": {},
   "outputs": [
    {
     "output_type": "execute_result",
     "data": {
      "text/plain": "                               IN_tons  SO_order_qty_sales_units  \\\ncalendar_day size                                                  \n2016-01-01   2 1/2X2 1/2X5/16      0.0                   315.000   \n2016-01-02   3/4 X 5               0.0                     3.060   \n             3X3X1/4               0.0                    12.740   \n             3X3X3/8               0.0                    15.120   \n             3X3X5/16              0.0                    27.450   \n...                                ...                       ...   \n2020-11-10   1/2 X 9               0.0                     4.284   \n             3/8 X 9               0.0                     2.181   \n2020-12-15   1 X 10                0.0                     2.040   \n             8 X 18.75#            0.0                     4.500   \n2020-12-18   4 X 5.4#              0.0                     1.944   \n\n                               SO_confirmed_qty  SH_shipment_tons  PR_ton  \ncalendar_day size                                                          \n2016-01-01   2 1/2X2 1/2X5/16           315.000               0.0     0.0  \n2016-01-02   3/4 X 5                      3.060               0.0     0.0  \n             3X3X1/4                     12.740               0.0     0.0  \n             3X3X3/8                     15.120               0.0     0.0  \n             3X3X5/16                    27.450               0.0     0.0  \n...                                         ...               ...     ...  \n2020-11-10   1/2 X 9                      4.284               0.0     0.0  \n             3/8 X 9                      2.181               0.0     0.0  \n2020-12-15   1 X 10                       2.040               0.0     0.0  \n             8 X 18.75#                   4.500               0.0     0.0  \n2020-12-18   4 X 5.4#                     1.944               0.0     0.0  \n\n[242555 rows x 5 columns]",
      "text/html": "<div>\n<style scoped>\n    .dataframe tbody tr th:only-of-type {\n        vertical-align: middle;\n    }\n\n    .dataframe tbody tr th {\n        vertical-align: top;\n    }\n\n    .dataframe thead th {\n        text-align: right;\n    }\n</style>\n<table border=\"1\" class=\"dataframe\">\n  <thead>\n    <tr style=\"text-align: right;\">\n      <th></th>\n      <th></th>\n      <th>IN_tons</th>\n      <th>SO_order_qty_sales_units</th>\n      <th>SO_confirmed_qty</th>\n      <th>SH_shipment_tons</th>\n      <th>PR_ton</th>\n    </tr>\n    <tr>\n      <th>calendar_day</th>\n      <th>size</th>\n      <th></th>\n      <th></th>\n      <th></th>\n      <th></th>\n      <th></th>\n    </tr>\n  </thead>\n  <tbody>\n    <tr>\n      <th>2016-01-01</th>\n      <th>2 1/2X2 1/2X5/16</th>\n      <td>0.0</td>\n      <td>315.000</td>\n      <td>315.000</td>\n      <td>0.0</td>\n      <td>0.0</td>\n    </tr>\n    <tr>\n      <th rowspan=\"4\" valign=\"top\">2016-01-02</th>\n      <th>3/4 X 5</th>\n      <td>0.0</td>\n      <td>3.060</td>\n      <td>3.060</td>\n      <td>0.0</td>\n      <td>0.0</td>\n    </tr>\n    <tr>\n      <th>3X3X1/4</th>\n      <td>0.0</td>\n      <td>12.740</td>\n      <td>12.740</td>\n      <td>0.0</td>\n      <td>0.0</td>\n    </tr>\n    <tr>\n      <th>3X3X3/8</th>\n      <td>0.0</td>\n      <td>15.120</td>\n      <td>15.120</td>\n      <td>0.0</td>\n      <td>0.0</td>\n    </tr>\n    <tr>\n      <th>3X3X5/16</th>\n      <td>0.0</td>\n      <td>27.450</td>\n      <td>27.450</td>\n      <td>0.0</td>\n      <td>0.0</td>\n    </tr>\n    <tr>\n      <th>...</th>\n      <th>...</th>\n      <td>...</td>\n      <td>...</td>\n      <td>...</td>\n      <td>...</td>\n      <td>...</td>\n    </tr>\n    <tr>\n      <th rowspan=\"2\" valign=\"top\">2020-11-10</th>\n      <th>1/2 X 9</th>\n      <td>0.0</td>\n      <td>4.284</td>\n      <td>4.284</td>\n      <td>0.0</td>\n      <td>0.0</td>\n    </tr>\n    <tr>\n      <th>3/8 X 9</th>\n      <td>0.0</td>\n      <td>2.181</td>\n      <td>2.181</td>\n      <td>0.0</td>\n      <td>0.0</td>\n    </tr>\n    <tr>\n      <th rowspan=\"2\" valign=\"top\">2020-12-15</th>\n      <th>1 X 10</th>\n      <td>0.0</td>\n      <td>2.040</td>\n      <td>2.040</td>\n      <td>0.0</td>\n      <td>0.0</td>\n    </tr>\n    <tr>\n      <th>8 X 18.75#</th>\n      <td>0.0</td>\n      <td>4.500</td>\n      <td>4.500</td>\n      <td>0.0</td>\n      <td>0.0</td>\n    </tr>\n    <tr>\n      <th>2020-12-18</th>\n      <th>4 X 5.4#</th>\n      <td>0.0</td>\n      <td>1.944</td>\n      <td>1.944</td>\n      <td>0.0</td>\n      <td>0.0</td>\n    </tr>\n  </tbody>\n</table>\n<p>242555 rows × 5 columns</p>\n</div>"
     },
     "metadata": {},
     "execution_count": 149
    }
   ],
   "source": [
    "#Don't know what is happening with nulls! \n",
    "merged_df.groupby([\"calendar_day\",\"size\"]).sum()"
   ]
  },
  {
   "cell_type": "code",
   "execution_count": null,
   "metadata": {},
   "outputs": [],
   "source": []
  }
 ],
 "metadata": {
  "kernelspec": {
   "display_name": "Python 3.7.6 64-bit ('pft': pipenv)",
   "language": "python",
   "name": "python37664bitpftpipenv41a3325616004cea923f5375811f25e4"
  },
  "language_info": {
   "codemirror_mode": {
    "name": "ipython",
    "version": 3
   },
   "file_extension": ".py",
   "mimetype": "text/x-python",
   "name": "python",
   "nbconvert_exporter": "python",
   "pygments_lexer": "ipython3",
   "version": "3.7.6-final"
  },
  "toc-autonumbering": false,
  "toc-showmarkdowntxt": false
 },
 "nbformat": 4,
 "nbformat_minor": 4
}