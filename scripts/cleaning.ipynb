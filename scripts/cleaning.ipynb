{
 "cells": [
  {
   "cell_type": "markdown",
   "metadata": {},
   "source": [
    "# Let's get this party started"
   ]
  },
  {
   "cell_type": "code",
   "execution_count": 1,
   "metadata": {},
   "outputs": [],
   "source": [
    "#Dependencies\n",
    "import os\n",
    "import numpy as np\n",
    "import pandas as pd\n",
    "import joblib\n",
    "import matplotlib.pyplot as plt\n",
    "import seaborn as sns\n",
    "import re"
   ]
  },
  {
   "cell_type": "markdown",
   "metadata": {},
   "source": [
    "# 1. Framing the Problem & Big Picture look (see readme file)"
   ]
  },
  {
   "cell_type": "markdown",
   "metadata": {},
   "source": [
    "# 2. Get the Data"
   ]
  },
  {
   "cell_type": "code",
   "execution_count": null,
   "metadata": {},
   "outputs": [],
   "source": [
    "#set path to datasets\n",
    "path = os.getcwd()\n",
    "os.chdir(\"../datasets/\")\n",
    "filename = \"sampledata.xlsx\"\n",
    "ser_path = \"./serialized/\"\n",
    "filetwo = \"sale_orders.xlsx\"\n",
    "filethree = \"new_inventory.xlsx\""
   ]
  },
  {
   "cell_type": "code",
   "execution_count": null,
   "metadata": {},
   "outputs": [],
   "source": [
    "#Importing company datasets\n",
    "#prod_hist = pd.read_excel(filename, sheet_name=\"production_hist\")\n",
    "#ship_hist = pd.read_excel(filename, sheet_name=\"shipment_hist\")\n",
    "#atp_hist = pd.read_excel(filename, sheet_name=\"atp_hist\")\n",
    "#inventory = pd.read_excel(filename, sheet_name=\"inventory\")"
   ]
  },
  {
   "cell_type": "code",
   "execution_count": null,
   "metadata": {},
   "outputs": [],
   "source": [
    "#importing sales orders and new inventory\n",
    "# order_hist = pd.read_excel(filetwo, sheet_name = \"sale_orders\")\n",
    "# inv_hist2 = pd.read_excel(filethree, sheet_name = \"new_inv\")"
   ]
  },
  {
   "cell_type": "code",
   "execution_count": null,
   "metadata": {},
   "outputs": [],
   "source": [
    "# #setting file names\n",
    "# data = [inventory, atp_hist, prod_hist, ship_hist]\n",
    "# fnames = [\"inventory\", \"atp_hist\", \"prod_hist\",\"ship_hist\"]\n",
    "# count = 0\n",
    "# for df in data:\n",
    "#     df.name = fnames[count]\n",
    "#     count+=1"
   ]
  },
  {
   "cell_type": "code",
   "execution_count": null,
   "metadata": {},
   "outputs": [],
   "source": [
    "# #saving dataframes into pickle files\n",
    "# for df in data:\n",
    "#     pklfile = df.name + \".pkl\"\n",
    "#     df.to_pickle(ser_path + pklfile)"
   ]
  },
  {
   "cell_type": "code",
   "execution_count": null,
   "metadata": {},
   "outputs": [],
   "source": [
    "# #setting file names\n",
    "# data2 = [order_hist, inv_hist2]\n",
    "# fnames = [\"order_hist\", \"inv_hist2\"]\n",
    "\n",
    "# count = 0\n",
    "# for df in data2:\n",
    "#     df.name = fnames[count]\n",
    "#     count+=1\n",
    "\n",
    "# #saving new data into pickle files\n",
    "# for df in data2:\n",
    "#     pklfile = df.name + \".pkl\"\n",
    "#     df.to_pickle(ser_path + pklfile)"
   ]
  },
  {
   "cell_type": "markdown",
   "metadata": {},
   "source": [
    "#saving dataframes into feather (not working)\n",
    "for df in data:\n",
    "    feafile = df.name\n",
    "    df.to_feather(ser_path+feafile)"
   ]
  },
  {
   "cell_type": "code",
   "execution_count": null,
   "metadata": {},
   "outputs": [],
   "source": [
    "#see pklfile name order\n",
    "pklfiles = os.listdir(\"./serialized\")\n",
    "pklfiles"
   ]
  },
  {
   "cell_type": "code",
   "execution_count": null,
   "metadata": {},
   "outputs": [],
   "source": [
    "#Fast Upload using pickle files\n",
    "ship_hist = pd.read_pickle(ser_path+pklfiles[0])\n",
    "inventory = pd.read_pickle(ser_path+pklfiles[1])\n",
    "inv_hist2 = pd.read_pickle(ser_path+pklfiles[2])\n",
    "order_hist = pd.read_pickle(ser_path+pklfiles[3])\n",
    "atp_hist = pd.read_pickle(ser_path+pklfiles[4])\n",
    "prod_hist = pd.read_pickle(ser_path+pklfiles[5])"
   ]
  },
  {
   "cell_type": "markdown",
   "metadata": {},
   "source": [
    "## Cleaning Up"
   ]
  },
  {
   "cell_type": "code",
   "execution_count": null,
   "metadata": {},
   "outputs": [],
   "source": [
    "def clean_columns(dataframe):\n",
    "    for col in dataframe.columns:\n",
    "        dataframe.rename(columns={col:re.sub(r'([a-z](?=[A-Z])|[A-Z](?=[A-Z][a-z]))', r'\\1 ', col)}, inplace=True)\n",
    "    dataframe.columns = dataframe.columns.str.strip().str.lower().str.replace(\" \",\"_\")\n",
    "    try:\n",
    "        dataframe[\"calendar_day\"] = dataframe[\"calendar_day\"].astype(\"datetime64\")\n",
    "    except:\n",
    "        pass\n",
    "    try:\n",
    "        dataframe[\"requested_date\"] = dataframe[\"requested_date\"].astype(\"datetime64\")\n",
    "        dataframe[\"confirmed_date\"] = dataframe[\"confirmed_date\"].astype(\"datetime64\")\n",
    "        dataframe[\"material_avail_date\"] = dataframe[\"material_avail_date\"].astype(\"datetime64\")\n",
    "        dataframe[\"load_date\"] = dataframe[\"load_date\"].astype(\"datetime64\")\n",
    "        dataframe[\"plan_goods_issue_date\"] = dataframe[\"plan_goods_issue_date\"].astype(\"datetime64\")\n",
    "    except:\n",
    "        pass\n",
    "    try:\n",
    "        dataframe[\"snapshot_date\"] = dataframe[\"snapshot_date\"].astype(\"datetime64\")\n",
    "    finally:\n",
    "        return dataframe.columns"
   ]
  },
  {
   "cell_type": "code",
   "execution_count": null,
   "metadata": {},
   "outputs": [],
   "source": [
    "# attempt to get rid of nulls, need to be more specific with fills to not loose valuable insight. \n",
    "# data = [inventory, atp_hist, prod_hist, ship_hist]\n",
    "# for df in data:\n",
    "#     df = df.fillna(0, inplace=True)"
   ]
  },
  {
   "cell_type": "markdown",
   "metadata": {
    "toc-hr-collapsed": true,
    "toc-nb-collapsed": true
   },
   "source": [
    "### Inventory"
   ]
  },
  {
   "cell_type": "code",
   "execution_count": null,
   "metadata": {},
   "outputs": [],
   "source": [
    "clean_columns(inventory)"
   ]
  },
  {
   "cell_type": "code",
   "execution_count": null,
   "metadata": {},
   "outputs": [],
   "source": [
    "inventory.head(5)"
   ]
  },
  {
   "cell_type": "code",
   "execution_count": null,
   "metadata": {},
   "outputs": [],
   "source": [
    "inventory.info()"
   ]
  },
  {
   "cell_type": "code",
   "execution_count": null,
   "metadata": {},
   "outputs": [],
   "source": [
    "#Filling in empty atp rows with zero\n",
    "inventory[\"atp\"].fillna(0, inplace=True)"
   ]
  },
  {
   "cell_type": "code",
   "execution_count": null,
   "metadata": {},
   "outputs": [],
   "source": [
    "# inventory[\"work_center\"] = inventory[\"work_center\"].astype(\"int64\")"
   ]
  },
  {
   "cell_type": "code",
   "execution_count": null,
   "metadata": {},
   "outputs": [],
   "source": [
    "inventory = inventory.loc[inventory[\"material_type\"]==\"ZERT\"]\n",
    "inventory[\"material_type\"].unique()"
   ]
  },
  {
   "cell_type": "code",
   "execution_count": null,
   "metadata": {},
   "outputs": [],
   "source": [
    "inv_reduced = inventory[[\"calendar_day\", \"strgr\", \"material\", \"maktx\", \"work_center\", \"ph\", \"shape\", \"size_for_qual_cert\", \"block_resource\", \"tons\", \"atp\"]]\n",
    "inv_reduced.rename(columns={\"material\":\"sku\", \"maktx\":\"material_description\", \"size_for_qual_cert\":\"size\", \"block_resource\":\"block\", \"strgr\":\"strategy\"}, inplace=True)\n",
    "inv_reduced = inv_reduced.sort_values([\"calendar_day\", \"material_description\"])\n",
    "inv_reduced.head()"
   ]
  },
  {
   "cell_type": "code",
   "execution_count": null,
   "metadata": {},
   "outputs": [],
   "source": [
    "#changing dtype\n",
    "inv_reduced[\"strategy\"] = inv_reduced[\"strategy\"].astype(\"category\")\n",
    "inv_reduced[\"sku\"] = inv_reduced[\"sku\"].astype(\"object\")\n",
    "inv_reduced[\"work_center\"] = inv_reduced[\"work_center\"].astype(\"category\")"
   ]
  },
  {
   "cell_type": "code",
   "execution_count": null,
   "metadata": {},
   "outputs": [],
   "source": [
    "#view of new dtypes & counts\n",
    "inv_reduced.info()"
   ]
  },
  {
   "cell_type": "code",
   "execution_count": null,
   "metadata": {},
   "outputs": [],
   "source": [
    "#peak at all nulls across\n",
    "inv_reduced[inv_reduced.isna().any(axis=1)]"
   ]
  },
  {
   "cell_type": "markdown",
   "metadata": {
    "toc-hr-collapsed": true,
    "toc-nb-collapsed": true
   },
   "source": [
    "### ATP History"
   ]
  },
  {
   "cell_type": "code",
   "execution_count": null,
   "metadata": {},
   "outputs": [],
   "source": [
    "clean_columns(atp_hist)"
   ]
  },
  {
   "cell_type": "code",
   "execution_count": null,
   "metadata": {},
   "outputs": [],
   "source": [
    "atp_hist.info()"
   ]
  },
  {
   "cell_type": "code",
   "execution_count": null,
   "metadata": {},
   "outputs": [],
   "source": [
    "atp_reduced = atp_hist[[\"sku\", \"atp_floor\", \"snapshot_date\"]]\n",
    "atp_reduced.head()"
   ]
  },
  {
   "cell_type": "code",
   "execution_count": null,
   "metadata": {},
   "outputs": [],
   "source": [
    "atp_reduced.info()"
   ]
  },
  {
   "cell_type": "markdown",
   "metadata": {
    "toc-hr-collapsed": true,
    "toc-nb-collapsed": true
   },
   "source": [
    "### Production History"
   ]
  },
  {
   "cell_type": "code",
   "execution_count": null,
   "metadata": {},
   "outputs": [],
   "source": [
    "clean_columns(prod_hist)"
   ]
  },
  {
   "cell_type": "code",
   "execution_count": null,
   "metadata": {},
   "outputs": [],
   "source": [
    "prod_hist.info()"
   ]
  },
  {
   "cell_type": "code",
   "execution_count": null,
   "metadata": {},
   "outputs": [],
   "source": [
    "# prod_hist[\"stratedgy\"] = prod_hist[\"stratedgy\"].astype(\"int64\")"
   ]
  },
  {
   "cell_type": "code",
   "execution_count": null,
   "metadata": {},
   "outputs": [],
   "source": [
    "prod_reduced = prod_hist[[\"calendar_day\", \"production_process\", \"production_process_description\",\"stratedgy\",\"work_center\",\"wc_description\",\"block\",\"shape\",\"size\",\"material\",\"material_description\",\"ton\"]]\n",
    "prod_reduced.rename(columns={\"material\":\"sku\", \"stratedgy\":\"strategy\"}, inplace=True)\n",
    "prod_reduced.head()"
   ]
  },
  {
   "cell_type": "code",
   "execution_count": null,
   "metadata": {},
   "outputs": [],
   "source": [
    "#Removing strategy 10 (Note: check assumption that these are all billets)\n",
    "prod_reduced = prod_reduced.loc[(prod_reduced[\"strategy\"] !=10)]"
   ]
  },
  {
   "cell_type": "code",
   "execution_count": null,
   "metadata": {},
   "outputs": [],
   "source": [
    "#Removing prod_processes up the supply chain: melt, scrap etc.\n",
    "prod_reduced = prod_reduced.loc[(prod_reduced[\"production_process_description\"] != \"Melt shop\") & (prod_reduced[\"production_process_description\"] != \"Scrap yard\")]\n",
    "prod_reduced = prod_reduced.loc[(prod_reduced[\"production_process_description\"] != \"Finishing production\")]"
   ]
  },
  {
   "cell_type": "code",
   "execution_count": null,
   "metadata": {},
   "outputs": [],
   "source": [
    "#Identifying strategy=NaN rows\n",
    "prod_reduced[prod_reduced[\"strategy\"].isna()]"
   ]
  },
  {
   "cell_type": "code",
   "execution_count": null,
   "metadata": {},
   "outputs": [],
   "source": [
    "#Identifying size=NaN rows\n",
    "#prod_reduced[prod_reduced[\"size\"].isna()]"
   ]
  },
  {
   "cell_type": "code",
   "execution_count": null,
   "metadata": {},
   "outputs": [],
   "source": [
    "#Dropping selective NaN rows\n",
    "prod_reduced.dropna(subset=[\"strategy\"], inplace=True)"
   ]
  },
  {
   "cell_type": "code",
   "execution_count": null,
   "metadata": {},
   "outputs": [],
   "source": [
    "#Identifying unique inputs by column\n",
    "unique_counts = pd.DataFrame.from_records([(col, prod_reduced[col].nunique()) for col in prod_reduced.columns],\n",
    "                          columns=['Column_Name', 'Num_Unique']).sort_values(by=['Num_Unique'])\n",
    "unique_counts"
   ]
  },
  {
   "cell_type": "code",
   "execution_count": null,
   "metadata": {},
   "outputs": [],
   "source": [
    "# Changing data types for colums, \n",
    "for col in prod_reduced.columns:\n",
    "    if prod_reduced[col].nunique() < 10:\n",
    "        prod_reduced[col] = prod_reduced[col].astype(\"category\")\n",
    "# not including \"block\" as it used as object elsewhere\n",
    "\n",
    "prod_reduced[\"sku\"] =prod_reduced[\"sku\"].astype(\"object\")"
   ]
  },
  {
   "cell_type": "code",
   "execution_count": null,
   "metadata": {},
   "outputs": [],
   "source": [
    "prod_reduced.info()"
   ]
  },
  {
   "cell_type": "code",
   "execution_count": null,
   "metadata": {},
   "outputs": [],
   "source": [
    "prod_reduced[prod_reduced[\"block\"].isna()][\"production_process_description\"]"
   ]
  },
  {
   "cell_type": "code",
   "execution_count": null,
   "metadata": {},
   "outputs": [],
   "source": [
    "prod_reduced[prod_reduced[\"block\"].isna()].groupby(\"production_process_description\").count()"
   ]
  },
  {
   "cell_type": "markdown",
   "metadata": {
    "toc-hr-collapsed": true,
    "toc-nb-collapsed": true
   },
   "source": [
    "### Ship History"
   ]
  },
  {
   "cell_type": "code",
   "execution_count": null,
   "metadata": {},
   "outputs": [],
   "source": [
    "clean_columns(ship_hist)"
   ]
  },
  {
   "cell_type": "code",
   "execution_count": null,
   "metadata": {},
   "outputs": [],
   "source": [
    "ship_hist.info()"
   ]
  },
  {
   "cell_type": "code",
   "execution_count": null,
   "metadata": {},
   "outputs": [],
   "source": [
    "#Filling in NaN Shipment field rows to zero\n",
    "ship_hist[\"shipment_tons\"].fillna(0, inplace=True)"
   ]
  },
  {
   "cell_type": "code",
   "execution_count": null,
   "metadata": {},
   "outputs": [],
   "source": [
    "# Attempt to get correct data types, needs work.\n",
    "# ship_hist[\"businessdaycounter\"] = ship_hist[\"businessdaycounter\"].astype(\"int64\")\n",
    "# ship_hist[\"strgr\"] = ship_hist[\"strgr\"].astype(\"int64\")\n",
    "# ship_hist[\"workcenter\"] = ship_hist[\"workcenter\"].astype(\"int64\")"
   ]
  },
  {
   "cell_type": "code",
   "execution_count": null,
   "metadata": {},
   "outputs": [],
   "source": [
    "#Reducing main data frame\n",
    "ship_reduced = ship_hist[[\"shipping_day\", \"block\", \"strgr\", \"shape\", \"sizeforqualcert\", \"div\", \"material\", \"material_description\",\"shipment_tons\", \"segment\", \"sold-to_party\",\"ship-to_party\", \"postal_code\",\"region_description\", \"country\"]]\n",
    "ship_reduced.rename(columns={\"material\":\"sku\", \"strgr\":\"strategy\",\"sizeforqualcert\":\"size\"}, inplace=True)\n",
    "ship_reduced.head()"
   ]
  },
  {
   "cell_type": "code",
   "execution_count": null,
   "metadata": {},
   "outputs": [],
   "source": [
    "#Check unique Divisions\n",
    "ship_hist[\"div\"].unique()"
   ]
  },
  {
   "cell_type": "code",
   "execution_count": null,
   "metadata": {},
   "outputs": [],
   "source": [
    "#Removing billets and scrap from dataframe\n",
    "ship_reduced = ship_reduced.loc[(ship_reduced[\"div\"] != \"Billets\") & (ship_reduced[\"div\"] != \"Scrap\")]"
   ]
  },
  {
   "cell_type": "code",
   "execution_count": null,
   "metadata": {},
   "outputs": [],
   "source": [
    "ship_reduced.info()"
   ]
  },
  {
   "cell_type": "code",
   "execution_count": null,
   "metadata": {},
   "outputs": [],
   "source": [
    "#Show Sample of NaN fields\n",
    "ship_reduced[ship_reduced.isna().any(axis=1)]"
   ]
  },
  {
   "cell_type": "code",
   "execution_count": null,
   "metadata": {},
   "outputs": [],
   "source": [
    "#Show the shape that show as null within the block\n",
    "ship_reduced[ship_reduced[\"block\"].isna()].groupby(\"shape\").count()"
   ]
  },
  {
   "cell_type": "markdown",
   "metadata": {},
   "source": [
    "### Sales Order Data"
   ]
  },
  {
   "cell_type": "code",
   "execution_count": null,
   "metadata": {},
   "outputs": [],
   "source": [
    "clean_columns(order_hist)"
   ]
  },
  {
   "cell_type": "code",
   "execution_count": null,
   "metadata": {},
   "outputs": [],
   "source": [
    "#Reducing main data frame\n",
    "order_reduced = order_hist[[\"requested_date\",'confirmed_date','material_avail_date', 'load_date', 'plan_goods_issue_date','sales_district_code',\n",
    "                            \"division\", \"sold_to\", \"ship_to\",\"route\",\"ship_to_city\", \"ship_to_state\", \"material_number\",'material_description',\n",
    "                            'order_qty_sales_units', 'confirmed_qty', 'sales_uom','qty_on_shipment','qty_shipped_sales_units', 'item_status',]]\n",
    "order_reduced.rename(columns={\"material_number\":\"sku\"}, inplace=True)\n",
    "order_reduced.head(-5)"
   ]
  },
  {
   "cell_type": "markdown",
   "metadata": {},
   "source": [
    "### New Inventory Data (dating back 2016)"
   ]
  },
  {
   "cell_type": "code",
   "execution_count": null,
   "metadata": {},
   "outputs": [],
   "source": []
  },
  {
   "cell_type": "markdown",
   "metadata": {},
   "source": [
    "### Cleaned Reduced Datasets"
   ]
  },
  {
   "cell_type": "code",
   "execution_count": null,
   "metadata": {},
   "outputs": [],
   "source": [
    "data_reduced = [ship_reduced, inv_reduced, atp_reduced, prod_reduced, order_reduced]"
   ]
  },
  {
   "cell_type": "code",
   "execution_count": null,
   "metadata": {},
   "outputs": [],
   "source": [
    "#storing cleaned Prod\n",
    "%store prod_reduced\n",
    "\n",
    "#storing cleaned Ship\n",
    "%store ship_reduced\n",
    "\n",
    "#storing cleaned Inventory\n",
    "%store inv_reduced\n",
    "\n",
    "#storing cleaned ATP\n",
    "%store atp_reduced\n",
    "\n",
    "#storing orders\n",
    "%store order_reduced"
   ]
  }
 ],
 "metadata": {
  "kernelspec": {
   "display_name": "Python 3",
   "language": "python",
   "name": "python3"
  },
  "language_info": {
   "codemirror_mode": {
    "name": "ipython",
    "version": 3
   },
   "file_extension": ".py",
   "mimetype": "text/x-python",
   "name": "python",
   "nbconvert_exporter": "python",
   "pygments_lexer": "ipython3",
   "version": "3.7.6"
  },
  "toc-autonumbering": false
 },
 "nbformat": 4,
 "nbformat_minor": 4
}
