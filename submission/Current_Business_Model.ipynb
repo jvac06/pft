{
 "cells": [
  {
   "cell_type": "code",
   "execution_count": 1,
   "metadata": {},
   "outputs": [],
   "source": [
    "#Dependencies\n",
    "import os\n",
    "import numpy as np\n",
    "import pandas as pd\n",
    "import datetime as dt\n",
    "import matplotlib as mpl\n",
    "import matplotlib.pyplot as plt\n",
    "from sklearn.metrics import mean_absolute_error\n",
    "from sklearn.metrics import mean_squared_error\n",
    "from sklearn.metrics import r2_score"
   ]
  },
  {
   "cell_type": "markdown",
   "metadata": {},
   "source": [
    "# Base Predictions for 2019\n",
    "Follows similar logic pattern used by business in determining the future production amounts. Business further refines these numbers taking into account the amount of orders they have on the books for upcoming cycle, but this gives them their starting point. Note also these are aggregated to monthly amounts.\n",
    "### Business Formula for Total Monthly Allocations:\n",
    "1.  Calculate percentage(%) shipped per month by block\n",
    "2.  Apply new allocation for upcoming year (dependent on resources available) and multiply by % shipped last year \n",
    "-  We use the total amount shipped for 2019 as the 'new allocation' amount\n",
    " \n",
    "#### All of these calculations can be found in the base_forecast2019.xlsx for our sample block 4\" ANG"
   ]
  },
  {
   "cell_type": "markdown",
   "metadata": {},
   "source": [
    "## Importing Datasets"
   ]
  },
  {
   "cell_type": "code",
   "execution_count": 2,
   "metadata": {},
   "outputs": [
    {
     "output_type": "stream",
     "name": "stdout",
     "text": "/Users/jacosta3/OneDrive - University of South Florida/Gerdau Projects/pft/submission\n"
    }
   ],
   "source": [
    "print(os.getcwd())\n",
    "path = './datasets/'"
   ]
  },
  {
   "cell_type": "code",
   "execution_count": 3,
   "metadata": {},
   "outputs": [],
   "source": [
    "base_predictions = pd.read_excel(path+'base_forecast2019.xlsx', sheet_name='forecast_2019')\n",
    "actuals = pd.read_excel(path+'base_forecast2019.xlsx', sheet_name='actuals_2019')"
   ]
  },
  {
   "cell_type": "code",
   "execution_count": 4,
   "metadata": {},
   "outputs": [],
   "source": [
    "#rounding and changing data type for predictions\n",
    "base_predictions.shipment_predictions = base_predictions.shipment_predictions.round().astype(int)"
   ]
  },
  {
   "cell_type": "markdown",
   "metadata": {},
   "source": [
    "### Looking at dataframes"
   ]
  },
  {
   "cell_type": "code",
   "execution_count": 5,
   "metadata": {},
   "outputs": [
    {
     "output_type": "stream",
     "name": "stdout",
     "text": "calendar_day            datetime64[ns]\nyear                             int64\nmonth                            int64\nblock                           object\nshipment_tons                    int64\nfuture_date             datetime64[ns]\npercentage                     float64\ntotal_alloc_2019                 int64\nshipment_predictions             int64\ndtype: object\n"
    },
    {
     "output_type": "execute_result",
     "data": {
      "text/plain": "  calendar_day  year  month   block  shipment_tons future_date  percentage  \\\n0   2018-01-07  2018      1  4\" ANG             36  2019-01-06    0.001770   \n1   2018-01-14  2018      1  4\" ANG             42  2019-01-13    0.002065   \n\n   total_alloc_2019  shipment_predictions  \n0             22431                    40  \n1             22431                    46  ",
      "text/html": "<div>\n<style scoped>\n    .dataframe tbody tr th:only-of-type {\n        vertical-align: middle;\n    }\n\n    .dataframe tbody tr th {\n        vertical-align: top;\n    }\n\n    .dataframe thead th {\n        text-align: right;\n    }\n</style>\n<table border=\"1\" class=\"dataframe\">\n  <thead>\n    <tr style=\"text-align: right;\">\n      <th></th>\n      <th>calendar_day</th>\n      <th>year</th>\n      <th>month</th>\n      <th>block</th>\n      <th>shipment_tons</th>\n      <th>future_date</th>\n      <th>percentage</th>\n      <th>total_alloc_2019</th>\n      <th>shipment_predictions</th>\n    </tr>\n  </thead>\n  <tbody>\n    <tr>\n      <th>0</th>\n      <td>2018-01-07</td>\n      <td>2018</td>\n      <td>1</td>\n      <td>4\" ANG</td>\n      <td>36</td>\n      <td>2019-01-06</td>\n      <td>0.001770</td>\n      <td>22431</td>\n      <td>40</td>\n    </tr>\n    <tr>\n      <th>1</th>\n      <td>2018-01-14</td>\n      <td>2018</td>\n      <td>1</td>\n      <td>4\" ANG</td>\n      <td>42</td>\n      <td>2019-01-13</td>\n      <td>0.002065</td>\n      <td>22431</td>\n      <td>46</td>\n    </tr>\n  </tbody>\n</table>\n</div>"
     },
     "metadata": {},
     "execution_count": 5
    }
   ],
   "source": [
    "print(base_predictions.dtypes)\n",
    "base_predictions.head(2)"
   ]
  },
  {
   "cell_type": "code",
   "execution_count": 6,
   "metadata": {},
   "outputs": [
    {
     "output_type": "stream",
     "name": "stdout",
     "text": "calendar_day     datetime64[ns]\nyear                      int64\nmonth                     int64\nblock                    object\nshipment_tons             int64\ndtype: object\n"
    },
    {
     "output_type": "execute_result",
     "data": {
      "text/plain": "  calendar_day  year  month   block  shipment_tons\n0   2019-01-06  2019      1  4\" ANG             53\n1   2019-01-13  2019      1  4\" ANG            120",
      "text/html": "<div>\n<style scoped>\n    .dataframe tbody tr th:only-of-type {\n        vertical-align: middle;\n    }\n\n    .dataframe tbody tr th {\n        vertical-align: top;\n    }\n\n    .dataframe thead th {\n        text-align: right;\n    }\n</style>\n<table border=\"1\" class=\"dataframe\">\n  <thead>\n    <tr style=\"text-align: right;\">\n      <th></th>\n      <th>calendar_day</th>\n      <th>year</th>\n      <th>month</th>\n      <th>block</th>\n      <th>shipment_tons</th>\n    </tr>\n  </thead>\n  <tbody>\n    <tr>\n      <th>0</th>\n      <td>2019-01-06</td>\n      <td>2019</td>\n      <td>1</td>\n      <td>4\" ANG</td>\n      <td>53</td>\n    </tr>\n    <tr>\n      <th>1</th>\n      <td>2019-01-13</td>\n      <td>2019</td>\n      <td>1</td>\n      <td>4\" ANG</td>\n      <td>120</td>\n    </tr>\n  </tbody>\n</table>\n</div>"
     },
     "metadata": {},
     "execution_count": 6
    }
   ],
   "source": [
    "print(actuals.dtypes)\n",
    "actuals.head(2)"
   ]
  },
  {
   "cell_type": "markdown",
   "metadata": {},
   "source": [
    "## Evaluation of Results"
   ]
  },
  {
   "cell_type": "code",
   "execution_count": 7,
   "metadata": {},
   "outputs": [],
   "source": [
    "#assigning variables for calculations\n",
    "test_y = actuals['shipment_tons'] \n",
    "pred_y = base_predictions['shipment_predictions']"
   ]
  },
  {
   "cell_type": "code",
   "execution_count": 8,
   "metadata": {},
   "outputs": [
    {
     "output_type": "stream",
     "name": "stdout",
     "text": "Test Scores:\n  Mean Absolute Error(MAE): 278.7692307692308\n  Root Mean Squared Error(RMSE): 379.13266401495525\n  Coefficient of Determination(R2): -0.5521468665048599\nTake 4 Sample Comparison:\n  Predictions: [1319 1575 1295  997]\n      Actuals: [875 736 617 490]\n"
    }
   ],
   "source": [
    "#Tests to be applied accross models\n",
    "r2 = r2_score(test_y, pred_y)\n",
    "mae = mean_absolute_error(test_y,pred_y)\n",
    "rmse = mean_squared_error(test_y, pred_y, squared=False)\n",
    "four_pred = pred_y[4:]\n",
    "four_test = test_y[4:]\n",
    "print(\"Test Scores:\", )\n",
    "print(\"  Mean Absolute Error(MAE):\",mae)\n",
    "print(\"  Root Mean Squared Error(RMSE):\",rmse)\n",
    "print(\"  Coefficient of Determination(R2):\",r2)\n",
    "print(\"Take 4 Sample Comparison:\")\n",
    "print(\"  Predictions:\", four_pred[0:4].to_numpy())\n",
    "print(\"      Actuals:\", four_test[0:4].to_numpy())"
   ]
  }
 ],
 "metadata": {
  "language_info": {
   "codemirror_mode": {
    "name": "ipython",
    "version": 3
   },
   "file_extension": ".py",
   "mimetype": "text/x-python",
   "name": "python",
   "nbconvert_exporter": "python",
   "pygments_lexer": "ipython3",
   "version": "3.7.6-final"
  },
  "orig_nbformat": 2,
  "kernelspec": {
   "name": "python37664bitpftpipenv41a3325616004cea923f5375811f25e4",
   "display_name": "Python 3.7.6 64-bit ('pft': pipenv)"
  }
 },
 "nbformat": 4,
 "nbformat_minor": 2
}